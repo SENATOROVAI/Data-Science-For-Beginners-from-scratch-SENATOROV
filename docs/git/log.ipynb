{
 "cells": [
  {
   "cell_type": "code",
   "execution_count": 2,
   "metadata": {},
   "outputs": [
    {
     "data": {
      "text/plain": [
       "'Интро за 27.02.\\n\\nИзучила:\\n- Базовые команды\\n- Просмотр изменений\\n- Работа с журналом\\n- Отмена изменений\\n- Работа с файлами\\n- Работа с GitHub\\n- Дополнительные команды\\n'"
      ]
     },
     "execution_count": 2,
     "metadata": {},
     "output_type": "execute_result"
    }
   ],
   "source": [
    "\"\"\"Интро за 27.02.\n",
    "\n",
    "Изучила:\n",
    "- Базовые команды\n",
    "- Просмотр изменений\n",
    "- Работа с журналом\n",
    "- Отмена изменений\n",
    "- Работа с файлами\n",
    "- Работа с GitHub\n",
    "- Дополнительные команды\n",
    "\"\"\""
   ]
  }
 ],
 "metadata": {
  "kernelspec": {
   "display_name": "base",
   "language": "python",
   "name": "python3"
  },
  "language_info": {
   "codemirror_mode": {
    "name": "ipython",
    "version": 3
   },
   "file_extension": ".py",
   "mimetype": "text/x-python",
   "name": "python",
   "nbconvert_exporter": "python",
   "pygments_lexer": "ipython3",
   "version": "3.12.7"
  }
 },
 "nbformat": 4,
 "nbformat_minor": 2
}
