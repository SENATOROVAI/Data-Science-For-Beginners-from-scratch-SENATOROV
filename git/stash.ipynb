{
 "cells": [
  {
   "cell_type": "code",
   "execution_count": null,
   "id": "9d214d02",
   "metadata": {},
   "outputs": [],
   "source": [
    "\"\"\"Работа с Stash.\"\"\""
   ]
  },
  {
   "cell_type": "markdown",
   "id": "7efd0636",
   "metadata": {},
   "source": [
    "1) Что делает команда git stash?\n",
    "- Сохраняет изменения отслеживаемых файлов в\n",
    "временное хранилище стэш\n",
    "\n",
    "2) Как просмотреть список всех сохранённых изменений (стэшей)?\n",
    "- git stash list\n",
    "\n",
    "3) Какая команда применяется для использования верхнего стэша?\n",
    "- git stash apply\n",
    "\n",
    "4) Как применить конкретный стэш по его номеру?\n",
    "- git stash apply stash@{НОМЕР_СТЭША_В_СТЕКЕ}\n",
    "- git stash pop stash@{НОМЕР_СТЭША_В_СТЕКЕ}\n",
    "\n",
    "5) Чем отличается команда git stash apply от git stash pop?\n",
    "- git stash apply просто достает стеш, а git stash pop\n",
    "достает и затем удаляет стеш из хранилища.\n",
    "\n",
    "6) Что делает команда git stash drop?\n",
    "- удаляет последний(нулевой) стэш из хранилища \n",
    "\n",
    "7) Как полностью очистить все сохранённые стэши?\n",
    "- git stash clear\n",
    "\n",
    "8) В каких случаях удобно использовать git stash?\n",
    "- Всегда, когда необходимо переключиться на другую\n",
    "задачу, при этом нужно сохранить свои изменения.\n",
    "\n",
    "9) Что произойдёт, если выполнить git stash pop, но в проекте есть конфликтующие изменения?\n",
    "- Произойдёт конфликт.\n",
    "\n",
    "10) Можно ли восстановить удалённый стэш после выполнения git stash drop?\n",
    "- Нет\n",
    "\n",
    "11) Что делает команда git stash save \"NAME_STASH\"\n",
    "- сохраняет стеш с сообщением, чтобы затем можно было удобно его найти.\n",
    "- Сохраняет только отслеживаемые файлы\n",
    "\n",
    "12) Что делает команда git stash apply \"NUMBER_STASH\"\n",
    "- По номеру стеша в стеке востанавливает его без удаления из временного\n",
    "хранилища.\n",
    "\n",
    "13) Что делает команда git stash pop \"NUMBER_STASH\"\n",
    "- По номеру стеша в стеке востанавливает его, после чего удаляет из\n",
    "хранилища.\n",
    "\n",
    "14) Сохраните текущие изменения в стэш под названием \"SENATOROV ver1\",вставьте скриншот из терминала\n",
    "- ( https://drive.google.com/file/d/1fr5k9bLZpEFRf2fM8XjsJVHMTRLbOwsO/view?usp=drive_link )\n",
    "\n",
    "15) Внесите любые изменения в ваш репозиторий и сохраните второй стэш под именем \"SENATOROV ver2\"\n",
    "- ( https://drive.google.com/file/d/1fr5k9bLZpEFRf2fM8XjsJVHMTRLbOwsO/view?usp=drive_link )\n",
    "\n",
    "16) Восстановите ваш стэш \"SENATOROV ver1\", вставьте скриншот из терминала\n",
    "- ( https://drive.google.com/file/d/1vgn1O9ZloDgi-jidN7aSYJm9O6FGQlxn/view?usp=sharing )\n",
    "\n",
    "17) Удалите все стеши из истории, вставьте скриншот из терминала\n",
    "- ( https://drive.google.com/file/d/1L42QFkpG506cnpuPsusPMuOe7Oeo0Qj2/view?usp=drive_link )"
   ]
  }
 ],
 "metadata": {
  "language_info": {
   "name": "python"
  }
 },
 "nbformat": 4,
 "nbformat_minor": 5
}
