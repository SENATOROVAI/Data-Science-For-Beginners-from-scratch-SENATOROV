{
 "cells": [
  {
   "cell_type": "code",
   "execution_count": null,
   "metadata": {},
   "outputs": [],
   "source": [
    "\"\"\"Scrum log.\"\"\""
   ]
  },
  {
   "cell_type": "markdown",
   "metadata": {},
   "source": [
    "#### 05.05.2025\n",
    "\n",
    "- In progress with issue https://github.com/SENATOROVAI/DA/issues/7\n",
    "- Currently on step devoted to practice EDA - https://colab.research.google.com/drive/12eJv82hBfFospahDbnB6tNjwRCkCmUqP?usp=sharing"
   ]
  }
 ],
 "metadata": {
  "language_info": {
   "name": "python"
  }
 },
 "nbformat": 4,
 "nbformat_minor": 5
}
