{
 "cells": [
  {
   "cell_type": "code",
   "execution_count": null,
   "id": "185c7896",
   "metadata": {},
   "outputs": [],
   "source": [
    "\"\"\"Dictionaries.\"\"\""
   ]
  },
  {
   "cell_type": "markdown",
   "id": "2cf6b306",
   "metadata": {},
   "source": [
    "## Словарь в Питоне"
   ]
  },
  {
   "cell_type": "markdown",
   "id": "3a2968ca",
   "metadata": {},
   "source": [
    "### Понятие словаря"
   ]
  },
  {
   "cell_type": "markdown",
   "id": "92188e10",
   "metadata": {},
   "source": [
    "#### Создание словаря"
   ]
  },
  {
   "cell_type": "code",
   "execution_count": 1,
   "id": "882e3efe",
   "metadata": {},
   "outputs": [
    {
     "name": "stdout",
     "output_type": "stream",
     "text": [
      "{} {}\n"
     ]
    }
   ],
   "source": [
    "# пустой словарь можно создать с помощью {} или функции dict()\n",
    "\n",
    "from collections import Counter\n",
    "from pprint import pprint\n",
    "\n",
    "import numpy as np\n",
    "\n",
    "dict_1: dict[str, int] = {}\n",
    "# dict_2: dict[str, int] = dict()\n",
    "dict_2: dict[str, int] = {}\n",
    "print(dict_1, dict_2)"
   ]
  },
  {
   "cell_type": "code",
   "execution_count": 2,
   "id": "76d2cee6",
   "metadata": {},
   "outputs": [
    {
     "data": {
      "text/plain": [
       "{'name': 'Toyota', 'founded': 1937, 'founder': 'Kiichiro Toyoda'}"
      ]
     },
     "execution_count": 2,
     "metadata": {},
     "output_type": "execute_result"
    }
   ],
   "source": [
    "# словарь можно сразу заполнить ключами и значениями\n",
    "company = {\"name\": \"Toyota\", \"founded\": 1937, \"founder\": \"Kiichiro Toyoda\"}\n",
    "company"
   ]
  },
  {
   "cell_type": "code",
   "execution_count": 3,
   "id": "b4df2734",
   "metadata": {},
   "outputs": [
    {
     "data": {
      "text/plain": [
       "{'TYO': 'Toyota', 'TSLA': 'Tesla', 'F': 'Ford'}"
      ]
     },
     "execution_count": 3,
     "metadata": {},
     "output_type": "execute_result"
    }
   ],
   "source": [
    "# словарь можно создать из вложенных списков\n",
    "tickers = dict([[\"TYO\", \"Toyota\"], [\"TSLA\", \"Tesla\"], [\"F\", \"Ford\"]])\n",
    "tickers"
   ]
  },
  {
   "cell_type": "code",
   "execution_count": 4,
   "id": "4a670acc",
   "metadata": {},
   "outputs": [
    {
     "data": {
      "text/plain": [
       "{'k1': 0, 'k2': 0, 'k3': 0}"
      ]
     },
     "execution_count": 4,
     "metadata": {},
     "output_type": "execute_result"
    }
   ],
   "source": [
    "# если поместить ключи в кортеж\n",
    "keys = (\"k1\", \"k2\", \"k3\")\n",
    "# и задать значение\n",
    "value = 0\n",
    "\n",
    "# то с помощью метода .fromkeys() можно создать словарь\n",
    "# с этими ключами и заданным значением для каждого из них\n",
    "empty_values = dict.fromkeys(keys, value)\n",
    "empty_values"
   ]
  },
  {
   "cell_type": "markdown",
   "id": "cf17fa71",
   "metadata": {},
   "source": [
    "#### Ключи и значения словаря"
   ]
  },
  {
   "cell_type": "markdown",
   "id": "307bd053",
   "metadata": {},
   "source": [
    "Виды значений словаря"
   ]
  },
  {
   "cell_type": "code",
   "execution_count": 3,
   "id": "2c80a875",
   "metadata": {},
   "outputs": [
    {
     "data": {
      "text/plain": [
       "{'k1': 123,\n",
       " 'k2': 'string',\n",
       " 'k3': nan,\n",
       " 'k4': True,\n",
       " 'k5': None,\n",
       " 'k6': [1, 2, 3],\n",
       " 'k7': array([1, 2, 3]),\n",
       " 'k8': {1: 'v1', 2: 'v2', 3: 'v3'}}"
      ]
     },
     "execution_count": 3,
     "metadata": {},
     "output_type": "execute_result"
    }
   ],
   "source": [
    "# приведем пример того, какими могут быть значения словаря\n",
    "value_types = {\n",
    "    \"k1\": 123,\n",
    "    \"k2\": \"string\",\n",
    "    \"k3\": np.nan,  # тип \"Пропущенное значение\"\n",
    "    \"k4\": True,  # логическое значение\n",
    "    \"k5\": None,\n",
    "    \"k6\": [1, 2, 3],\n",
    "    \"k7\": np.array([1, 2, 3]),\n",
    "    \"k8\": {1: \"v1\", 2: \"v2\", 3: \"v3\"},\n",
    "}\n",
    "\n",
    "value_types"
   ]
  },
  {
   "cell_type": "markdown",
   "id": "788e393b",
   "metadata": {},
   "source": [
    "Методы .keys(), .values() и .items()"
   ]
  },
  {
   "cell_type": "code",
   "execution_count": null,
   "id": "78b0084e",
   "metadata": {},
   "outputs": [],
   "source": [
    "# создадим несложный словарь с информацией о сотруднике\n",
    "person = {\"first name\": \"Иван\", \"last name\": \"Иванов\", \"born\": 1980, \"dept\": \"IT\"}"
   ]
  },
  {
   "cell_type": "code",
   "execution_count": null,
   "id": "5e8fe5ac",
   "metadata": {},
   "outputs": [],
   "source": [
    "# посмотрим на ключи и\n",
    "person.keys()"
   ]
  },
  {
   "cell_type": "code",
   "execution_count": null,
   "id": "4ddd7652",
   "metadata": {},
   "outputs": [],
   "source": [
    "# значения\n",
    "person.values()"
   ]
  },
  {
   "cell_type": "code",
   "execution_count": null,
   "id": "216badae",
   "metadata": {},
   "outputs": [],
   "source": [
    "# а также на пары ключ-значение в виде списка из кортежей\n",
    "person.items()"
   ]
  },
  {
   "cell_type": "markdown",
   "id": "dcea5fd8",
   "metadata": {},
   "source": [
    "Использование цикла for"
   ]
  },
  {
   "cell_type": "code",
   "execution_count": null,
   "id": "37d2dad3",
   "metadata": {},
   "outputs": [],
   "source": [
    "# ключи и значения можно вывести в цикле for\n",
    "for key_person, value_person in person.items():\n",
    "    print(key_person, value_person)"
   ]
  },
  {
   "cell_type": "markdown",
   "id": "3c29a2d9",
   "metadata": {},
   "source": [
    "Доступ по ключу и метод .get()"
   ]
  },
  {
   "cell_type": "code",
   "execution_count": null,
   "id": "239942fb",
   "metadata": {},
   "outputs": [],
   "source": [
    "# значение можно посмотреть по ключу\n",
    "person[\"last name\"]"
   ]
  },
  {
   "cell_type": "code",
   "execution_count": null,
   "id": "9b0fd371",
   "metadata": {},
   "outputs": [],
   "source": [
    "# если такого ключа нет, Питон выдаст ошибку\n",
    "person[\"education\"]"
   ]
  },
  {
   "cell_type": "code",
   "execution_count": null,
   "id": "a1f4019a",
   "metadata": {},
   "outputs": [],
   "source": [
    "# чтобы этого не произошло, можно использовать метод .get()\n",
    "# по умолчанию при отсутствии ключа он выводит значение None\n",
    "print(person.get(\"education\"))"
   ]
  },
  {
   "cell_type": "code",
   "execution_count": null,
   "id": "e331b855",
   "metadata": {},
   "outputs": [],
   "source": [
    "# если ключ все-таки есть, .get() выведет соответствующее значение\n",
    "person.get(\"born\")"
   ]
  },
  {
   "cell_type": "markdown",
   "id": "7c5091b8",
   "metadata": {},
   "source": [
    "Проверка вхождения ключа и значения в словарь"
   ]
  },
  {
   "cell_type": "code",
   "execution_count": null,
   "id": "027eaac4",
   "metadata": {},
   "outputs": [],
   "source": [
    "# проверим есть ли такой ключ\n",
    "\"born\" in person"
   ]
  },
  {
   "cell_type": "code",
   "execution_count": null,
   "id": "d6f55b59",
   "metadata": {},
   "outputs": [],
   "source": [
    "# и такое значение\n",
    "print(1980 in person.values())"
   ]
  },
  {
   "cell_type": "code",
   "execution_count": null,
   "id": "ce0b8613",
   "metadata": {},
   "outputs": [],
   "source": [
    "# можно также проверить наличие и ключа, и значения одновременно\n",
    "print((\"born\", 1980) in person.items())"
   ]
  },
  {
   "cell_type": "markdown",
   "id": "fbb16e0c",
   "metadata": {},
   "source": [
    "### Операции со словарями"
   ]
  },
  {
   "cell_type": "markdown",
   "id": "c5cb1495",
   "metadata": {},
   "source": [
    "#### Добавление и изменение элементов"
   ]
  },
  {
   "cell_type": "code",
   "execution_count": null,
   "id": "29435532",
   "metadata": {},
   "outputs": [],
   "source": [
    "# добавить элемент можно, передав новому ключу новое значение\n",
    "# обратите внимание, в данном случае новое значение - это список\n",
    "person[\"languages\"] = [\"Python\", \"C++\"]\n",
    "person"
   ]
  },
  {
   "cell_type": "code",
   "execution_count": null,
   "id": "bf6d2e56",
   "metadata": {},
   "outputs": [],
   "source": [
    "# изменить элемент можно, передав существующему ключу новое значение,\n",
    "# значение - это по-прежнему список, но из одного элемента\n",
    "person[\"languages\"] = [\"Python\"]\n",
    "person"
   ]
  },
  {
   "cell_type": "code",
   "execution_count": null,
   "id": "9a95b70e",
   "metadata": {},
   "outputs": [],
   "source": [
    "# возьмем еще один словарь\n",
    "new_elements = {\"job\": \"программист\", \"experience\": 7}\n",
    "\n",
    "# и присоединим его к существующему словарю с помощью метода .update()\n",
    "person.update(new_elements)\n",
    "person"
   ]
  },
  {
   "cell_type": "code",
   "execution_count": null,
   "id": "c5482585",
   "metadata": {},
   "outputs": [],
   "source": [
    "# метод .setdefault() проверит есть ли ключ в словаре,\n",
    "# если \"да\", значение не изменится\n",
    "person.setdefault(\"last name\", \"Петров\")\n",
    "person"
   ]
  },
  {
   "cell_type": "code",
   "execution_count": null,
   "id": "5701c3a0",
   "metadata": {},
   "outputs": [],
   "source": [
    "# если нет, будет добавлен новый ключ и соответствующее значение\n",
    "person.setdefault(\"f_languages\", [\"русский\", \"английский\"])\n",
    "person"
   ]
  },
  {
   "cell_type": "markdown",
   "id": "1524b489",
   "metadata": {},
   "source": [
    "#### Удаление элементов"
   ]
  },
  {
   "cell_type": "code",
   "execution_count": null,
   "id": "ae81cf6e",
   "metadata": {},
   "outputs": [],
   "source": [
    "# метод .pop() удаляет элемент по ключу и выводит удаляемое значение\n",
    "person.pop(\"dept\")"
   ]
  },
  {
   "cell_type": "code",
   "execution_count": null,
   "id": "6506b652",
   "metadata": {},
   "outputs": [],
   "source": [
    "# мы видим, что пары 'dept' : 'IT' больше нет\n",
    "person"
   ]
  },
  {
   "cell_type": "code",
   "execution_count": null,
   "id": "3df4b4b6",
   "metadata": {},
   "outputs": [],
   "source": [
    "# ключевое слово del также удаляет элемент по ключу\n",
    "# удаляемое значение не выводится\n",
    "del person[\"born\"]"
   ]
  },
  {
   "cell_type": "code",
   "execution_count": null,
   "id": "4a6fd857",
   "metadata": {},
   "outputs": [],
   "source": [
    "# метод .popitem() удаляет последний добавленный элемент и выводит его\n",
    "person.popitem()"
   ]
  },
  {
   "cell_type": "code",
   "execution_count": null,
   "id": "4ff66979",
   "metadata": {},
   "outputs": [],
   "source": [
    "# метод .clear() удаляет все элементы словаря\n",
    "person.clear()\n",
    "person"
   ]
  },
  {
   "cell_type": "code",
   "execution_count": null,
   "id": "7d8ea43c",
   "metadata": {},
   "outputs": [],
   "source": [
    "# ключевое слово del также позволяет удалить словарь целиком\n",
    "del person"
   ]
  },
  {
   "cell_type": "code",
   "execution_count": null,
   "id": "9f29d8a9",
   "metadata": {},
   "outputs": [],
   "source": [
    "# убедимся, что такого словаря больше нет\n",
    "person"
   ]
  },
  {
   "cell_type": "markdown",
   "id": "5c7ef813",
   "metadata": {},
   "source": [
    "#### Сортировка словарей"
   ]
  },
  {
   "cell_type": "code",
   "execution_count": null,
   "id": "90680312",
   "metadata": {},
   "outputs": [],
   "source": [
    "# возьмем несложный словарь\n",
    "dict_to_sort = {\"k2\": 30, \"k1\": 20, \"k3\": 10}"
   ]
  },
  {
   "cell_type": "code",
   "execution_count": null,
   "id": "8174416e",
   "metadata": {},
   "outputs": [],
   "source": [
    "# отсортируем ключи\n",
    "sorted(dict_to_sort)"
   ]
  },
  {
   "cell_type": "code",
   "execution_count": null,
   "id": "f912c9be",
   "metadata": {},
   "outputs": [],
   "source": [
    "# и значения\n",
    "sorted(dict_to_sort.values())"
   ]
  },
  {
   "cell_type": "code",
   "execution_count": null,
   "id": "0af44f36",
   "metadata": {},
   "outputs": [],
   "source": [
    "# посмотрим на пары ключ : значение\n",
    "dict_to_sort.items()"
   ]
  },
  {
   "cell_type": "code",
   "execution_count": null,
   "id": "e546f05d",
   "metadata": {},
   "outputs": [],
   "source": [
    "# для их сортировки по ключу (индекс [0])\n",
    "# воспользуемся методом .items() и lambda-функцией\n",
    "sorted(dict_to_sort.items(), key=lambda x: x[0])"
   ]
  },
  {
   "cell_type": "code",
   "execution_count": null,
   "id": "e909b4a2",
   "metadata": {},
   "outputs": [],
   "source": [
    "# сортировка по значению выполняется так же, однако\n",
    "# lambda-функции мы передаем индекс [1]\n",
    "sorted(dict_to_sort.items(), key=lambda x: x[1])"
   ]
  },
  {
   "cell_type": "markdown",
   "id": "976b5afa",
   "metadata": {},
   "source": [
    "#### Копирование словарей"
   ]
  },
  {
   "cell_type": "code",
   "execution_count": null,
   "id": "d8f06080",
   "metadata": {},
   "outputs": [],
   "source": [
    "# создадим исходный словарь с количеством студентов на первом и втором курсах университета\n",
    "original = {\"Первый курс\": 174, \"Второй курс\": 131}"
   ]
  },
  {
   "cell_type": "markdown",
   "id": "69312c08",
   "metadata": {},
   "source": [
    "Копирование с помощью метода .copy()"
   ]
  },
  {
   "cell_type": "code",
   "execution_count": null,
   "id": "be31ef7a",
   "metadata": {},
   "outputs": [],
   "source": [
    "# создадим копию этого словаря с помощью метода .copy()\n",
    "new_1 = original.copy()\n",
    "\n",
    "# добавим информацию о третьем курсе в новый словарь\n",
    "new_1[\"Третий курс\"] = 117\n",
    "\n",
    "# исходный словарь не изменился\n",
    "print(original)\n",
    "print(new_1)"
   ]
  },
  {
   "cell_type": "markdown",
   "id": "92e0f43f",
   "metadata": {},
   "source": [
    "Копирование через оператор присваивания `=` (так делать не стоит!)"
   ]
  },
  {
   "cell_type": "code",
   "execution_count": null,
   "id": "0107f351",
   "metadata": {},
   "outputs": [],
   "source": [
    "# передадим исходный словарь в новую переменную\n",
    "new_2 = original\n",
    "\n",
    "# удалим элементы нового словаря\n",
    "new_2.clear()\n",
    "\n",
    "# из исходного словаря данные также удалились\n",
    "print(original)\n",
    "print(new_2)"
   ]
  },
  {
   "cell_type": "markdown",
   "id": "7304b66d",
   "metadata": {},
   "source": [
    "### Функция `dir()`"
   ]
  },
  {
   "cell_type": "code",
   "execution_count": null,
   "id": "76b8ebee",
   "metadata": {},
   "outputs": [],
   "source": [
    "# функция dir() возвращает все методы передаваемого ей объекта\n",
    "some_dict = {\"k0\": 1}\n",
    "\n",
    "# вначале идут специальные методы,\n",
    "# они начинаются и заканчиваются символом '__'\n",
    "# выведем первые 11 элементов\n",
    "print(dir(some_dict)[:11])"
   ]
  },
  {
   "cell_type": "code",
   "execution_count": null,
   "id": "707043db",
   "metadata": {},
   "outputs": [],
   "source": [
    "# когда мы передаем наш словарь функции print(),\n",
    "print(some_dict)"
   ]
  },
  {
   "cell_type": "code",
   "execution_count": null,
   "id": "e553d5d4",
   "metadata": {},
   "outputs": [],
   "source": [
    "# на самом деле мы применяем к объекту метод .__str__()\n",
    "# some_dict.__str__()\n",
    "str(some_dict)"
   ]
  },
  {
   "cell_type": "code",
   "execution_count": null,
   "id": "3aeeaa2e",
   "metadata": {},
   "outputs": [],
   "source": [
    "# в большинстве случаев нас будут интересовать методы без '__'\n",
    "print(dir(some_dict)[-11:])"
   ]
  },
  {
   "cell_type": "markdown",
   "id": "d6d66fc9",
   "metadata": {},
   "source": [
    "### Dict comprehension"
   ]
  },
  {
   "cell_type": "code",
   "execution_count": null,
   "id": "f79006ed",
   "metadata": {},
   "outputs": [],
   "source": [
    "# создадим еще один несложный словарь\n",
    "source_dict = {\"k1\": 2, \"k2\": 4, \"k3\": 6}"
   ]
  },
  {
   "cell_type": "code",
   "execution_count": null,
   "id": "f98534ae",
   "metadata": {},
   "outputs": [],
   "source": [
    "# с помощью dict comprehension умножим каждое значение на два\n",
    "print({k_1: v_1 * 2 for (k_1, v_1) in source_dict.items()})"
   ]
  },
  {
   "cell_type": "code",
   "execution_count": null,
   "id": "7b3a724e",
   "metadata": {},
   "outputs": [],
   "source": [
    "# сделаем символы всех ключей заглавными\n",
    "print({k_2.upper(): v_2 for (k_2, v_2) in source_dict.items()})"
   ]
  },
  {
   "cell_type": "code",
   "execution_count": null,
   "id": "02fd003d",
   "metadata": {},
   "outputs": [],
   "source": [
    "# добавим условие, что значение должно быть больше двух И меньше шести\n",
    "arranged_dict = {k_3: v_3 for (k_3, v_3) in source_dict.items() if v_3 > 2 if v_3 < 6}\n",
    "\n",
    "print(arranged_dict)"
   ]
  },
  {
   "cell_type": "code",
   "execution_count": null,
   "id": "da72cb57",
   "metadata": {},
   "outputs": [],
   "source": [
    "new_dict = {}\n",
    "\n",
    "# при решении этой же задачи в цикле for\n",
    "for k_4, v_4 in source_dict.items():\n",
    "\n",
    "    # мы бы использовали логическое И (and)\n",
    "    if 2 < v_4 < 6:\n",
    "\n",
    "        # если условия верны, записываем ключ и значение в новый словарь\n",
    "        new_dict[k_4] = v_4\n",
    "\n",
    "new_dict"
   ]
  },
  {
   "cell_type": "code",
   "execution_count": null,
   "id": "85c3b9a0",
   "metadata": {},
   "outputs": [],
   "source": [
    "# условие с if-else ставится в самом начале схемы dict comprehension\n",
    "# заменим значение на слово even, если оно четное, и odd, если нечетное\n",
    "result = {}\n",
    "for k_5, v_5 in source_dict.items():\n",
    "    if v_5 % 2 == 0:\n",
    "        result[k_5] = \"even\"\n",
    "    else:\n",
    "        result[k_5] = \"odd\""
   ]
  },
  {
   "cell_type": "code",
   "execution_count": null,
   "id": "dbcec9ad",
   "metadata": {},
   "outputs": [],
   "source": [
    "# dict comprehension можно использовать вместо метода .fromkeys()\n",
    "keys = (\"k1\", \"k2\", \"k3\")\n",
    "\n",
    "# передадим словарю ключи из кортежа keys и зададим значение 0 каждому из них\n",
    "{k_6: 0 for k_6 in keys}"
   ]
  },
  {
   "cell_type": "markdown",
   "id": "1d5a53f1",
   "metadata": {},
   "source": [
    "### Дополнительные примеры"
   ]
  },
  {
   "cell_type": "markdown",
   "id": "b44b74d5",
   "metadata": {},
   "source": [
    "#### lambda-функции, функции `map()` и `zip()`"
   ]
  },
  {
   "cell_type": "markdown",
   "id": "21d7a893",
   "metadata": {},
   "source": [
    "Пример со списком"
   ]
  },
  {
   "cell_type": "code",
   "execution_count": null,
   "id": "502dcffc",
   "metadata": {},
   "outputs": [],
   "source": [
    "# возьмем список слов\n",
    "words = [\"apple\", \"banana\", \"fig\", \"blackberry\"]"
   ]
  },
  {
   "cell_type": "code",
   "execution_count": null,
   "id": "f47dc87d",
   "metadata": {},
   "outputs": [],
   "source": [
    "# создадим lambda-функцию, которая посчитает длину передаваемого ей слова\n",
    "# с помощью функции map() применим lambda-функцию к каждому элементу списка words\n",
    "# и поместим длины слов в новый список length с помощью функции list()\n",
    "# length = list(map(lambda word: len(word), words))\n",
    "length = list(map(len, words))\n",
    "length"
   ]
  },
  {
   "cell_type": "code",
   "execution_count": null,
   "id": "b8566afa",
   "metadata": {},
   "outputs": [],
   "source": [
    "# с помощью функции zip() поэлементно соединим оба списка и преобразуем в словарь\n",
    "dict(zip(words, length))"
   ]
  },
  {
   "cell_type": "code",
   "execution_count": null,
   "id": "3208f206",
   "metadata": {},
   "outputs": [],
   "source": [
    "# то же самое можно сделать с помощью функции zip() и list comprehension\n",
    "dict(zip(words, [len(word) for word in words]))"
   ]
  },
  {
   "cell_type": "markdown",
   "id": "54d80bab",
   "metadata": {},
   "source": [
    "Пример со словарём"
   ]
  },
  {
   "cell_type": "code",
   "execution_count": null,
   "id": "84db6aa8",
   "metadata": {},
   "outputs": [],
   "source": [
    "# возьмем словарь с ростом людей в футах\n",
    "height_feet = {\"Alex\": 6.1, \"Jerry\": 5.4, \"Ben\": 5.8}"
   ]
  },
  {
   "cell_type": "code",
   "execution_count": null,
   "id": "0b570a4d",
   "metadata": {},
   "outputs": [],
   "source": [
    "# для преобразования футов в метры создадим lambda-функцию lambda m: m * 0.3048\n",
    "# применим эту функцию к значениям словаря с помощью функции map()\n",
    "# преобразуем в список\n",
    "metres = list(map(lambda m: m * 0.3048, height_feet.values()))\n",
    "metres"
   ]
  },
  {
   "cell_type": "code",
   "execution_count": null,
   "id": "7299fa8c",
   "metadata": {},
   "outputs": [],
   "source": [
    "# с помощью функции zip() соединим ключи исходного словаря с элементами списка metres\n",
    "dict(zip(height_feet.keys(), np.round(metres, 2)))"
   ]
  },
  {
   "cell_type": "code",
   "execution_count": null,
   "id": "97ac8334",
   "metadata": {},
   "outputs": [],
   "source": [
    "# то же самое можно выполнить с помощью dict comprehensions всего в одну строчку\n",
    "# мы просто преобразуем значения словаря в метры\n",
    "height_indicators = {\n",
    "    k_7: np.round(v_7 * 0.3048, 2) for (k_7, v_7) in height_feet.items()\n",
    "}\n",
    "\n",
    "print(height_indicators)"
   ]
  },
  {
   "cell_type": "markdown",
   "id": "265b8ceb",
   "metadata": {},
   "source": [
    "#### Вложенные словари"
   ]
  },
  {
   "cell_type": "code",
   "execution_count": 1,
   "id": "4ab9a2d2",
   "metadata": {},
   "outputs": [],
   "source": [
    "# возьмем словарь, ключами которого будут id сотрудников\n",
    "employees = {\n",
    "    \"id1\": {\n",
    "        \"first name\": \"Александр\",\n",
    "        \"last name\": \"Иванов\",\n",
    "        \"age\": 30,\n",
    "        \"job\": \"программист\",\n",
    "    },\n",
    "    \"id2\": {\n",
    "        \"first name\": \"Ольга\",\n",
    "        \"last name\": \"Петрова\",\n",
    "        \"age\": 35,\n",
    "        \"job\": \"ML-engineer\",\n",
    "    },\n",
    "}"
   ]
  },
  {
   "cell_type": "code",
   "execution_count": 2,
   "id": "263e9bb0",
   "metadata": {},
   "outputs": [
    {
     "name": "stdout",
     "output_type": "stream",
     "text": [
      "{'first name': 'Александр', 'last name': 'Иванов', 'age': 30, 'job': 'программист'}\n",
      "{'first name': 'Ольга', 'last name': 'Петрова', 'age': 35, 'job': 'ML-engineer'}\n"
     ]
    }
   ],
   "source": [
    "# а значениями - вложенные словари с информацией о них\n",
    "for employee_var in employees.values():\n",
    "    print(employee_var)"
   ]
  },
  {
   "cell_type": "markdown",
   "id": "b2cd590a",
   "metadata": {},
   "source": [
    "##### Базовые операции"
   ]
  },
  {
   "cell_type": "code",
   "execution_count": 3,
   "id": "67d052bb",
   "metadata": {},
   "outputs": [
    {
     "data": {
      "text/plain": [
       "30"
      ]
     },
     "execution_count": 3,
     "metadata": {},
     "output_type": "execute_result"
    }
   ],
   "source": [
    "# для того чтобы вывести значение элемента вложенного словаря,\n",
    "# воспользуемся двойным ключом\n",
    "employees[\"id1\"][\"age\"]"
   ]
  },
  {
   "cell_type": "code",
   "execution_count": 5,
   "id": "f4a0951f",
   "metadata": {},
   "outputs": [
    {
     "name": "stdout",
     "output_type": "stream",
     "text": [
      "{'id1': {'age': 30,\n",
      "         'first name': 'Александр',\n",
      "         'job': 'программист',\n",
      "         'last name': 'Иванов'},\n",
      " 'id2': {'age': 35,\n",
      "         'first name': 'Ольга',\n",
      "         'job': 'ML-engineer',\n",
      "         'last name': 'Петрова'},\n",
      " 'id3': {'age': 27,\n",
      "         'first name': 'Дарья',\n",
      "         'job': 'веб-дизайнер',\n",
      "         'last name': 'Некрасова'}}\n"
     ]
    }
   ],
   "source": [
    "# добавим информацию о новом сотруднике\n",
    "employees[\"id3\"] = {\n",
    "    \"first name\": \"Дарья\",\n",
    "    \"last name\": \"Некрасова\",\n",
    "    \"age\": 27,\n",
    "    \"job\": \"веб-дизайнер\",\n",
    "}\n",
    "\n",
    "# и выведем обновленный словарь с помощью функции pprint()\n",
    "pprint(employees)"
   ]
  },
  {
   "cell_type": "code",
   "execution_count": 6,
   "id": "8d66becc",
   "metadata": {},
   "outputs": [
    {
     "name": "stdout",
     "output_type": "stream",
     "text": [
      "{'id1': {'age': 30,\n",
      "         'first name': 'Александр',\n",
      "         'job': 'программист',\n",
      "         'last name': 'Иванов'},\n",
      " 'id2': {'age': 35,\n",
      "         'first name': 'Ольга',\n",
      "         'job': 'ML-engineer',\n",
      "         'last name': 'Петрова'},\n",
      " 'id3': {'age': 26,\n",
      "         'first name': 'Дарья',\n",
      "         'job': 'веб-дизайнер',\n",
      "         'last name': 'Некрасова'}}\n"
     ]
    }
   ],
   "source": [
    "# изменить значение вложенного словаря можно также с помощью двойного ключа\n",
    "employees[\"id3\"][\"age\"] = 26\n",
    "pprint(employees)"
   ]
  },
  {
   "cell_type": "markdown",
   "id": "00e791ee",
   "metadata": {},
   "source": [
    "##### Циклы `for`"
   ]
  },
  {
   "cell_type": "code",
   "execution_count": null,
   "id": "07f70e9b",
   "metadata": {},
   "outputs": [
    {
     "name": "stdout",
     "output_type": "stream",
     "text": [
      "{'id1': {'age': 30.0,\n",
      "         'first name': 'Александр',\n",
      "         'job': 'программист',\n",
      "         'last name': 'Иванов'},\n",
      " 'id2': {'age': 35.0,\n",
      "         'first name': 'Ольга',\n",
      "         'job': 'ML-engineer',\n",
      "         'last name': 'Петрова'},\n",
      " 'id3': {'age': 26.0,\n",
      "         'first name': 'Дарья',\n",
      "         'job': 'веб-дизайнер',\n",
      "         'last name': 'Некрасова'}}\n"
     ]
    }
   ],
   "source": [
    "# заменим тип данных в информации о возрасте с int на float\n",
    "\n",
    "# для этого вначале пройдемся по вложенным словарям,\n",
    "# т.е. по значениям info внешнего словаря employees\n",
    "# for info in employees.values():\n",
    "# затем по ключам и значениям вложенного словаря info\n",
    "# for key, value in info.items():\n",
    "# если ключ совпадет со словом 'age'\n",
    "# if key == \"age\":\n",
    "\n",
    "# преобразуем значение в тип float\n",
    "# info[key] = float(value)\n",
    "\n",
    "# pprint(employees)"
   ]
  },
  {
   "cell_type": "markdown",
   "id": "ed249aa9",
   "metadata": {},
   "source": [
    "##### Вложенные словари и dict comprehension"
   ]
  },
  {
   "cell_type": "code",
   "execution_count": 8,
   "id": "476be225",
   "metadata": {},
   "outputs": [
    {
     "name": "stdout",
     "output_type": "stream",
     "text": [
      "{'id1': {'age': 30.0,\n",
      "         'first name': 'Александр',\n",
      "         'job': 'программист',\n",
      "         'last name': 'Иванов'},\n",
      " 'id2': {'age': 35.0,\n",
      "         'first name': 'Ольга',\n",
      "         'job': 'ML-engineer',\n",
      "         'last name': 'Петрова'},\n",
      " 'id3': {'age': 26.0,\n",
      "         'first name': 'Дарья',\n",
      "         'job': 'веб-дизайнер',\n",
      "         'last name': 'Некрасова'}}\n"
     ]
    }
   ],
   "source": [
    "# преоразуем обратно из float в int, но уже через dict comprehension\n",
    "# для начала просто выведем словарь employees без изменений\n",
    "pprint({id: info for id, info in employees.items()})"
   ]
  },
  {
   "cell_type": "code",
   "execution_count": null,
   "id": "f7640027",
   "metadata": {},
   "outputs": [
    {
     "name": "stdout",
     "output_type": "stream",
     "text": [
      "{'id1': {'age': 30,\n",
      "         'first name': 'Александр',\n",
      "         'job': 'программист',\n",
      "         'last name': 'Иванов'},\n",
      " 'id2': {'age': 35,\n",
      "         'first name': 'Ольга',\n",
      "         'job': 'ML-engineer',\n",
      "         'last name': 'Петрова'},\n",
      " 'id3': {'age': 26,\n",
      "         'first name': 'Дарья',\n",
      "         'job': 'веб-дизайнер',\n",
      "         'last name': 'Некрасова'}}\n"
     ]
    }
   ],
   "source": [
    "# а затем заменим значение внешнего словаря info (т.е. вложенный словарь)\n",
    "# на еще один dict comprehension с условием if-else\n",
    "\n",
    "# pprint(\n",
    "#     {\n",
    "#         id: {k: (int(v) if k == \"age\" else v) for k, v in info.items()}\n",
    "#         for id, info in employees.items()\n",
    "#     }\n",
    "# )"
   ]
  },
  {
   "cell_type": "markdown",
   "id": "28d34438",
   "metadata": {},
   "source": [
    "#### Частота слов в тексте"
   ]
  },
  {
   "cell_type": "code",
   "execution_count": 1,
   "id": "d5975412",
   "metadata": {},
   "outputs": [],
   "source": [
    "# возьмем знакомый нам текст\n",
    "corpus = \"\"\"When we were in Paris we visited a lot of museums. We first went \n",
    "to the Louvre, the largest art museum in the world. I have always been \n",
    "interested in art so I spent many hours there. The museum is enormous, so \n",
    "a week there would not be enough.\"\"\""
   ]
  },
  {
   "cell_type": "markdown",
   "id": "26c3a319",
   "metadata": {},
   "source": [
    "##### Предварительная обработка текста"
   ]
  },
  {
   "cell_type": "code",
   "execution_count": 2,
   "id": "5551662d",
   "metadata": {},
   "outputs": [
    {
     "name": "stdout",
     "output_type": "stream",
     "text": [
      "['When', 'we', 'were', 'in', 'Paris', 'we', 'visited', 'a', 'lot', 'of', 'museums.', 'We', 'first', 'went', 'to', 'the', 'Louvre,', 'the', 'largest', 'art', 'museum', 'in', 'the', 'world.', 'I', 'have', 'always', 'been', 'interested', 'in', 'art', 'so', 'I', 'spent', 'many', 'hours', 'there.', 'The', 'museum', 'is', 'enormous,', 'so', 'a', 'week', 'there', 'would', 'not', 'be', 'enough.']\n"
     ]
    }
   ],
   "source": [
    "# разделим его на слова\n",
    "words = corpus.split()\n",
    "print(words)"
   ]
  },
  {
   "cell_type": "code",
   "execution_count": 3,
   "id": "0a67c991",
   "metadata": {},
   "outputs": [
    {
     "name": "stdout",
     "output_type": "stream",
     "text": [
      "['when', 'we', 'were', 'in', 'paris', 'we', 'visited', 'a', 'lot', 'of', 'museums', 'we', 'first', 'went', 'to', 'the', 'louvre', 'the', 'largest', 'art', 'museum', 'in', 'the', 'world', 'i', 'have', 'always', 'been', 'interested', 'in', 'art', 'so', 'i', 'spent', 'many', 'hours', 'there', 'the', 'museum', 'is', 'enormous', 'so', 'a', 'week', 'there', 'would', 'not', 'be', 'enough']\n"
     ]
    }
   ],
   "source": [
    "# с помощью list comprehension удалим точки, запятые\n",
    "# и переведем все слова в нижний регистр\n",
    "words = [word.strip(\".\").strip(\",\").lower() for word in words]\n",
    "print(words)"
   ]
  },
  {
   "cell_type": "markdown",
   "id": "e4ae2fed",
   "metadata": {},
   "source": [
    "##### Способ 1. Условие if-else"
   ]
  },
  {
   "cell_type": "code",
   "execution_count": 4,
   "id": "515a28ad",
   "metadata": {},
   "outputs": [
    {
     "name": "stdout",
     "output_type": "stream",
     "text": [
      "[('the', 4), ('we', 3), ('in', 3), ('a', 2), ('art', 2), ('museum', 2)]\n"
     ]
    }
   ],
   "source": [
    "# создадим пустой словарь для мешка слов bow\n",
    "bow_1: dict[str, int] = {}\n",
    "\n",
    "# пройдемся по словам текста\n",
    "for word in words:\n",
    "\n",
    "    # если нам встретилось слово, которое уже есть в словаре\n",
    "    if word in bow_1:\n",
    "\n",
    "        # увеличим его значение (частоту) на 1\n",
    "        bow_1[word] = bow_1[word] + 1\n",
    "\n",
    "    # в противном случае, если слово встречается впервые\n",
    "    else:\n",
    "\n",
    "        # зададим ему значение 1\n",
    "        bow_1[word] = 1\n",
    "\n",
    "# отсортируем словарь по значению в убываюем порядке (reverse = True)\n",
    "# и выведем шесть наиболее частотных слов\n",
    "print(sorted(bow_1.items(), key=lambda x: x[1], reverse=True)[:6])"
   ]
  },
  {
   "cell_type": "markdown",
   "id": "19b3c326",
   "metadata": {},
   "source": [
    "##### Способ 2. Метод .get()"
   ]
  },
  {
   "cell_type": "code",
   "execution_count": 5,
   "id": "48b0dda9",
   "metadata": {},
   "outputs": [
    {
     "name": "stdout",
     "output_type": "stream",
     "text": [
      "[('the', 4), ('we', 3), ('in', 3), ('a', 2), ('art', 2), ('museum', 2)]\n"
     ]
    }
   ],
   "source": [
    "bow_2: dict[str, int] = {}\n",
    "\n",
    "# снова пройдемся в цикле по словам\n",
    "for word in words:\n",
    "\n",
    "    # если слова еще нет в словаре, .get() вернет 0, к которому мы + 1\n",
    "    # если слово есть, метод .get() выведет существующее значение\n",
    "    # и мы также увеличим счетчик на 1\n",
    "    bow_2[word] = bow_2.get(word, 0) + 1\n",
    "\n",
    "# выведем наиболее популярные слова\n",
    "print(sorted(bow_2.items(), key=lambda x: x[1], reverse=True)[:6])"
   ]
  },
  {
   "cell_type": "markdown",
   "id": "5c9fac53",
   "metadata": {},
   "source": [
    "##### Способ 3. Модуль collections"
   ]
  },
  {
   "cell_type": "code",
   "execution_count": null,
   "id": "252cc246",
   "metadata": {},
   "outputs": [
    {
     "data": {
      "text/plain": [
       "[('the', 4), ('we', 3), ('in', 3), ('a', 2), ('art', 2), ('museum', 2)]"
      ]
     },
     "execution_count": 7,
     "metadata": {},
     "output_type": "execute_result"
    }
   ],
   "source": [
    "# создадим объект этого класса, передав ему список слов\n",
    "bow_3 = Counter(words)\n",
    "\n",
    "# выведем шесть наиболее часто встречающихся слов с помощью метода .most_common()\n",
    "bow_3.most_common(6)"
   ]
  },
  {
   "cell_type": "markdown",
   "id": "f53b661c",
   "metadata": {},
   "source": [
    "### Дополнительные материалы"
   ]
  },
  {
   "cell_type": "markdown",
   "id": "6eca46f8",
   "metadata": {},
   "source": [
    "#### Изменяемые и неизменяемые типы данных"
   ]
  },
  {
   "cell_type": "markdown",
   "id": "0fadb2bb",
   "metadata": {},
   "source": [
    "Неизменяемый тип данных"
   ]
  },
  {
   "cell_type": "code",
   "execution_count": 8,
   "id": "8c8ce356",
   "metadata": {},
   "outputs": [
    {
     "name": "stdout",
     "output_type": "stream",
     "text": [
      "1732804591472 <class 'str'> Python\n"
     ]
    }
   ],
   "source": [
    "# создадим строковый объект\n",
    "string = \"Python\"\n",
    "\n",
    "# посмотрим на identity, type и value\n",
    "# функция id() выводит адрес объекта в памяти компьютера\n",
    "print(id(string), type(string), string)"
   ]
  },
  {
   "cell_type": "code",
   "execution_count": 9,
   "id": "78ef4932",
   "metadata": {},
   "outputs": [
    {
     "name": "stdout",
     "output_type": "stream",
     "text": [
      "1732882947696 <class 'str'> Python is cool\n"
     ]
    }
   ],
   "source": [
    "# попробуем изменить этот объект\n",
    "string = string + \" is cool\"\n",
    "\n",
    "# посмотрим на identity, type и value\n",
    "print(id(string), type(string), string)"
   ]
  },
  {
   "cell_type": "markdown",
   "id": "e6d13129",
   "metadata": {},
   "source": [
    "Изменяемый тип данных"
   ]
  },
  {
   "cell_type": "code",
   "execution_count": 10,
   "id": "64bba7d3",
   "metadata": {},
   "outputs": [
    {
     "name": "stdout",
     "output_type": "stream",
     "text": [
      "1732872018368 <class 'list'> [1, 2, 3]\n"
     ]
    }
   ],
   "source": [
    "# создадим список\n",
    "lst = [1, 2, 3]\n",
    "\n",
    "# посмотрим на identity, type и value\n",
    "print(id(lst), type(lst), lst)"
   ]
  },
  {
   "cell_type": "code",
   "execution_count": 11,
   "id": "d57b7189",
   "metadata": {},
   "outputs": [
    {
     "name": "stdout",
     "output_type": "stream",
     "text": [
      "1732872018368 <class 'list'> [1, 2, 3, 4]\n"
     ]
    }
   ],
   "source": [
    "# добавим элемент в список\n",
    "lst.append(4)\n",
    "\n",
    "# снова выведем identity, type и value\n",
    "print(id(lst), type(lst), lst)"
   ]
  },
  {
   "cell_type": "markdown",
   "id": "328ee95c",
   "metadata": {},
   "source": [
    "Копирование объектов"
   ]
  },
  {
   "cell_type": "code",
   "execution_count": 12,
   "id": "a787a382",
   "metadata": {},
   "outputs": [
    {
     "data": {
      "text/plain": [
       "('Python', 'Python is cool')"
      ]
     },
     "execution_count": 12,
     "metadata": {},
     "output_type": "execute_result"
    }
   ],
   "source": [
    "# вновь создадим строку\n",
    "string = \"Python\"\n",
    "\n",
    "# скопируем через присваивание\n",
    "string2 = string\n",
    "\n",
    "# изменим копию\n",
    "string2 = string2 + \" is cool\"\n",
    "\n",
    "# посмотрим на результат\n",
    "string, string2"
   ]
  },
  {
   "cell_type": "code",
   "execution_count": 13,
   "id": "d1ae1528",
   "metadata": {},
   "outputs": [
    {
     "data": {
      "text/plain": [
       "(False, False)"
      ]
     },
     "execution_count": 13,
     "metadata": {},
     "output_type": "execute_result"
    }
   ],
   "source": [
    "# оператор == сравнивает значения (values)\n",
    "# оператор is сравнивает identities\n",
    "string == string2, string is string2"
   ]
  },
  {
   "cell_type": "code",
   "execution_count": 14,
   "id": "12b5aa34",
   "metadata": {},
   "outputs": [
    {
     "data": {
      "text/plain": [
       "([1, 2, 3, 4], [1, 2, 3, 4])"
      ]
     },
     "execution_count": 14,
     "metadata": {},
     "output_type": "execute_result"
    }
   ],
   "source": [
    "# создадим список\n",
    "lst = [1, 2, 3]\n",
    "\n",
    "# скопируем его в новую переменную через присваивание\n",
    "lst2 = lst\n",
    "\n",
    "# добавим новый элемент в скопированный список\n",
    "lst2.append(4)\n",
    "\n",
    "# выведем исходный список и копию\n",
    "lst, lst2"
   ]
  },
  {
   "cell_type": "code",
   "execution_count": 15,
   "id": "3f6a2eb8",
   "metadata": {},
   "outputs": [
    {
     "data": {
      "text/plain": [
       "(True, True)"
      ]
     },
     "execution_count": 15,
     "metadata": {},
     "output_type": "execute_result"
    }
   ],
   "source": [
    "# убедимся, что речь идет об одном и том же объекте\n",
    "lst == lst2, lst is lst2"
   ]
  },
  {
   "cell_type": "code",
   "execution_count": 16,
   "id": "73ff7fb3",
   "metadata": {},
   "outputs": [
    {
     "data": {
      "text/plain": [
       "([1, 2, 3], [1, 2, 3, 4])"
      ]
     },
     "execution_count": 16,
     "metadata": {},
     "output_type": "execute_result"
    }
   ],
   "source": [
    "# вновь создадим список\n",
    "lst = [1, 2, 3]\n",
    "\n",
    "# скопируем с помощью метода .copy()\n",
    "lst2 = lst.copy()\n",
    "\n",
    "# добавим новый элемент в скопированный список\n",
    "lst2.append(4)\n",
    "\n",
    "# выведем исходный список и копию\n",
    "lst, lst2"
   ]
  },
  {
   "cell_type": "code",
   "execution_count": 18,
   "id": "4bc6fd01",
   "metadata": {},
   "outputs": [
    {
     "data": {
      "text/plain": [
       "([1, 2, 3, 4, 4], [1, 2, 3, 4], False, False)"
      ]
     },
     "execution_count": 18,
     "metadata": {},
     "output_type": "execute_result"
    }
   ],
   "source": [
    "# теперь сделаем значения списков одинаковыми\n",
    "lst.append(4)\n",
    "\n",
    "# и убедимся, что это по-прежнему разные объекты\n",
    "lst, lst2, lst == lst2, lst is lst2"
   ]
  }
 ],
 "metadata": {
  "kernelspec": {
   "display_name": "Python 3",
   "language": "python",
   "name": "python3"
  },
  "language_info": {
   "codemirror_mode": {
    "name": "ipython",
    "version": 3
   },
   "file_extension": ".py",
   "mimetype": "text/x-python",
   "name": "python",
   "nbconvert_exporter": "python",
   "pygments_lexer": "ipython3",
   "version": "3.10.7"
  }
 },
 "nbformat": 4,
 "nbformat_minor": 5
}
