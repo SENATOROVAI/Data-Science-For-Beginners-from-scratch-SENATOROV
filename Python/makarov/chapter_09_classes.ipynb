{
 "cells": [
  {
   "cell_type": "code",
   "execution_count": null,
   "id": "a53b80cb",
   "metadata": {},
   "outputs": [],
   "source": [
    "\"\"\"Classes.\"\"\""
   ]
  },
  {
   "cell_type": "markdown",
   "id": "6e8edce3",
   "metadata": {},
   "source": [
    "## Классы и объекты в Питоне"
   ]
  },
  {
   "cell_type": "markdown",
   "id": "393a6ab6",
   "metadata": {},
   "source": [
    "### Создание класса"
   ]
  },
  {
   "cell_type": "markdown",
   "id": "29562c53",
   "metadata": {},
   "source": [
    "#### Создание класса и метод `.__init__()`"
   ]
  },
  {
   "cell_type": "code",
   "execution_count": null,
   "id": "753f5017",
   "metadata": {},
   "outputs": [],
   "source": [
    "# выполняем все необходимые импорты\n",
    "import numpy as np\n",
    "\n",
    "# создадим класс CatClass1\n",
    "class CatClass1:\n",
    "    \"\"\"A simple class representing a cat.\"\"\"\n",
    "\n",
    "    # и пропишем метод .__init__()\n",
    "    def __init__(self) -> None:\n",
    "        \"\"\"Initialize a cat instance with no initial attributes.\"\"\"\n",
    "        pass  # pylint: disable=unnecessary-pass"
   ]
  },
  {
   "cell_type": "markdown",
   "id": "5b40f637",
   "metadata": {},
   "source": [
    "#### Создание объекта"
   ]
  },
  {
   "cell_type": "code",
   "execution_count": 6,
   "id": "e345fb0b",
   "metadata": {},
   "outputs": [
    {
     "data": {
      "text/plain": [
       "__main__.CatClass1"
      ]
     },
     "execution_count": 6,
     "metadata": {},
     "output_type": "execute_result"
    }
   ],
   "source": [
    "# создадим объект Matroskin класса CatClass1\n",
    "Matroskin = CatClass1()\n",
    "\n",
    "# проверим тип данных созданной переменной\n",
    "type(Matroskin)"
   ]
  },
  {
   "cell_type": "markdown",
   "id": "3fcc3e98",
   "metadata": {},
   "source": [
    "#### Атрибуты класса"
   ]
  },
  {
   "cell_type": "code",
   "execution_count": 7,
   "id": "a44ec100",
   "metadata": {},
   "outputs": [],
   "source": [
    "# вновь создадим класс CatClass2\n",
    "class CatClass2:\n",
    "    \"\"\"A cat class with attributes for color and breed.\"\"\"\n",
    "\n",
    "    # метод .__init__() на этот раз принимает еще и параметр color\n",
    "    def __init__(self, color: str) -> None:\n",
    "        \"\"\"Initialize cat with given color.\"\"\"\n",
    "        # этот параметр будет записан в переменную атрибута self.color\n",
    "        self.color: str = color\n",
    "\n",
    "        # значение атрибута type_ задается внутри класса\n",
    "        self.type_: str = \"cat\""
   ]
  },
  {
   "cell_type": "code",
   "execution_count": 8,
   "id": "b6a92df6",
   "metadata": {},
   "outputs": [
    {
     "name": "stdout",
     "output_type": "stream",
     "text": [
      "gray cat\n"
     ]
    }
   ],
   "source": [
    "# повторно создадим объект класса CatClass, передав ему параметр цвета шерсти\n",
    "Matroskin2 = CatClass2(\"gray\")\n",
    "\n",
    "# и выведем атрибуты класса\n",
    "print(Matroskin2.color, Matroskin2.type_)"
   ]
  },
  {
   "cell_type": "markdown",
   "id": "8209fe01",
   "metadata": {},
   "source": [
    "#### Методы класса"
   ]
  },
  {
   "cell_type": "code",
   "execution_count": 10,
   "id": "74fe3151",
   "metadata": {},
   "outputs": [],
   "source": [
    "# перепишем класс CatClass3\n",
    "class CatClass3:\n",
    "    \"\"\"A class that models a cat with color and type attributes.\"\"\"\n",
    "\n",
    "    # метод .__init__() и атрибуты оставим без изменений\n",
    "    def __init__(self, color: str) -> None:\n",
    "        \"\"\"Initialize the cat with a specific color.\"\"\"\n",
    "        self.color = color\n",
    "        self.type_ = \"cat\"\n",
    "\n",
    "    # однако добавим метод, который позволит коту мяукать\n",
    "    def meow(self) -> None:\n",
    "        \"\"\"Print 'Мяу' three times to simulate the cat meowing.\"\"\"\n",
    "        for _ in range(3):\n",
    "            print(\"Мяу\")\n",
    "\n",
    "    # и метод .info() для вывода информации об объекте\n",
    "    def info(self) -> None:\n",
    "        \"\"\"Display the cat's color and type.\"\"\"\n",
    "        print(self.color, self.type_)"
   ]
  },
  {
   "cell_type": "code",
   "execution_count": 11,
   "id": "40b76d8b",
   "metadata": {},
   "outputs": [],
   "source": [
    "# создадим объект\n",
    "Matroskin3 = CatClass3(\"gray\")"
   ]
  },
  {
   "cell_type": "code",
   "execution_count": 12,
   "id": "f8ba5044",
   "metadata": {},
   "outputs": [
    {
     "name": "stdout",
     "output_type": "stream",
     "text": [
      "Мяу\n",
      "Мяу\n",
      "Мяу\n"
     ]
    }
   ],
   "source": [
    "# применим метод .meow()\n",
    "Matroskin3.meow()"
   ]
  },
  {
   "cell_type": "code",
   "execution_count": 13,
   "id": "fc3a230d",
   "metadata": {},
   "outputs": [
    {
     "name": "stdout",
     "output_type": "stream",
     "text": [
      "gray cat\n"
     ]
    }
   ],
   "source": [
    "# и метод .info()\n",
    "Matroskin3.info()"
   ]
  },
  {
   "cell_type": "markdown",
   "id": "da80cf9a",
   "metadata": {},
   "source": [
    "### Принципы ООП"
   ]
  },
  {
   "cell_type": "markdown",
   "id": "a555fac3",
   "metadata": {},
   "source": [
    "#### Инкапсуляция"
   ]
  },
  {
   "cell_type": "code",
   "execution_count": 14,
   "id": "a02c7364",
   "metadata": {},
   "outputs": [
    {
     "data": {
      "text/plain": [
       "'dog'"
      ]
     },
     "execution_count": 14,
     "metadata": {},
     "output_type": "execute_result"
    }
   ],
   "source": [
    "# изменим атрибут type_ объекта Matroskin на dog\n",
    "Matroskin3.type_ = \"dog\"\n",
    "\n",
    "# выведем этот атрибут\n",
    "Matroskin3.type_"
   ]
  },
  {
   "cell_type": "code",
   "execution_count": 15,
   "id": "d6b7d811",
   "metadata": {},
   "outputs": [],
   "source": [
    "class CatClass4:\n",
    "    \"\"\"A cat class with color and a protected type attribute.\"\"\"\n",
    "\n",
    "    def __init__(self, color: str) -> None:\n",
    "        \"\"\"Create a cat instance with the given color.\"\"\"\n",
    "        self.color = color\n",
    "        # символ подчеркивания ПЕРЕД названием атрибута указывает,\n",
    "        # что это частный атрибут и изменять его не стоит\n",
    "        self._type_: str = \"cat\""
   ]
  },
  {
   "cell_type": "code",
   "execution_count": null,
   "id": "d40e3025",
   "metadata": {},
   "outputs": [
    {
     "data": {
      "text/plain": [
       "'dog'"
      ]
     },
     "execution_count": 17,
     "metadata": {},
     "output_type": "execute_result"
    }
   ],
   "source": [
    "# вновь создадим объект класса CatClass\n",
    "Matroskin4 = CatClass4(\"gray\")\n",
    "\n",
    "# и изменим значение атрибута _type_\n",
    "# Matroskin4._type_ = \"dog\"\n",
    "# Matroskin4._type_"
   ]
  },
  {
   "cell_type": "code",
   "execution_count": 18,
   "id": "be8c3042",
   "metadata": {},
   "outputs": [],
   "source": [
    "class CatClass5:\n",
    "    \"\"\"A cat with a color attribute and a private type.\"\"\"\n",
    "\n",
    "    def __init__(self, color: str) -> None:\n",
    "        \"\"\"Initialize the cat with the specified color.\"\"\"\n",
    "        self.color = color\n",
    "        # символ двойного подчеркивания предотвратит доступ извне\n",
    "        # self.__type_: str = \"cat\""
   ]
  },
  {
   "cell_type": "code",
   "execution_count": null,
   "id": "106231d8",
   "metadata": {},
   "outputs": [
    {
     "ename": "NameError",
     "evalue": "name 'CatClass5' is not defined",
     "output_type": "error",
     "traceback": [
      "\u001b[1;31m---------------------------------------------------------------------------\u001b[0m",
      "\u001b[1;31mNameError\u001b[0m                                 Traceback (most recent call last)",
      "Cell \u001b[1;32mIn[9], line 2\u001b[0m\n\u001b[0;32m      1\u001b[0m \u001b[38;5;66;03m# при попытке вызова такого атрибута Питон выдаст ошибку\u001b[39;00m\n\u001b[1;32m----> 2\u001b[0m Matroskin5 \u001b[38;5;241m=\u001b[39m CatClass5(\u001b[38;5;124m\"\u001b[39m\u001b[38;5;124mgray\u001b[39m\u001b[38;5;124m\"\u001b[39m)\n\u001b[0;32m      3\u001b[0m Matroskin5\u001b[38;5;241m.\u001b[39m__type_\n",
      "\u001b[1;31mNameError\u001b[0m: name 'CatClass5' is not defined"
     ]
    }
   ],
   "source": [
    "# при попытке вызова такого атрибута Питон выдаст ошибку\n",
    "Matroskin5 = CatClass5(\"gray\")\n",
    "# Matroskin5.__type_"
   ]
  },
  {
   "cell_type": "code",
   "execution_count": null,
   "id": "efcf99b1",
   "metadata": {},
   "outputs": [
    {
     "data": {
      "text/plain": [
       "'dog'"
      ]
     },
     "execution_count": 8,
     "metadata": {},
     "output_type": "execute_result"
    }
   ],
   "source": [
    "# поставим _CatClass перед __type_\n",
    "# Matroskin5._CatClass__type_ = \"dog\"\n",
    "\n",
    "# к сожалению, значение атрибута изменится\n",
    "# Matroskin5._CatClass__type_"
   ]
  },
  {
   "cell_type": "markdown",
   "id": "fd477d66",
   "metadata": {},
   "source": [
    "#### Наследование классов"
   ]
  },
  {
   "cell_type": "markdown",
   "id": "706188a3",
   "metadata": {},
   "source": [
    "Создание родительского класса и класса-потомка"
   ]
  },
  {
   "cell_type": "code",
   "execution_count": 20,
   "id": "3cb62195",
   "metadata": {},
   "outputs": [],
   "source": [
    "# создадим класс Animal\n",
    "class Animal:\n",
    "    \"\"\"Represents an animal with weight and length attributes.\"\"\"\n",
    "\n",
    "    # пропишем метод .__init__() с двумя параметрами: вес (кг) и длина (см)\n",
    "    def __init__(self, weight: float, length: float) -> None:\n",
    "        \"\"\"Initialize the animal with its weight and length.\"\"\"\n",
    "        # поместим аргументы этих параметров в соответствующие переменные\n",
    "        self.weight = weight\n",
    "        self.length = length\n",
    "\n",
    "    # объявим методы .eat()\n",
    "    def eat(self) -> None:\n",
    "        \"\"\"Simulate the animal eating.\"\"\"\n",
    "        print(\"Eating\")\n",
    "\n",
    "    # и .sleep()\n",
    "    def sleep(self) -> None:\n",
    "        \"\"\"Simulate the animal sleeping.\"\"\"\n",
    "        print(\"Sleeping\")"
   ]
  },
  {
   "cell_type": "code",
   "execution_count": 21,
   "id": "a3c6c5ca",
   "metadata": {},
   "outputs": [],
   "source": [
    "# создадим класс Bird1\n",
    "# родительский класс Animal пропишем в скобках\n",
    "\n",
    "\n",
    "class Bird1(Animal):\n",
    "    \"\"\"A bird that can fly.\"\"\"\n",
    "\n",
    "    # внутри класса Bird объявим новый метод .move()\n",
    "    def move(self) -> None:\n",
    "        \"\"\"Simulate the bird flying.\"\"\"\n",
    "        # для птиц .move() будет означать \"летать\"\n",
    "        print(\"Flying\")"
   ]
  },
  {
   "cell_type": "code",
   "execution_count": 22,
   "id": "6fc3d2c1",
   "metadata": {},
   "outputs": [],
   "source": [
    "# создадим объект pigeon и передадим ему значения веса и длины\n",
    "pigeon1 = Bird1(0.3, 30)"
   ]
  },
  {
   "cell_type": "code",
   "execution_count": 23,
   "id": "5bb8b6e8",
   "metadata": {},
   "outputs": [
    {
     "name": "stdout",
     "output_type": "stream",
     "text": [
      "0.3 30\n"
     ]
    }
   ],
   "source": [
    "# посмотрим на унаследованные у класса Animal атрибуты\n",
    "print(pigeon1.weight, pigeon1.length)"
   ]
  },
  {
   "cell_type": "code",
   "execution_count": 24,
   "id": "6cea6091",
   "metadata": {},
   "outputs": [
    {
     "name": "stdout",
     "output_type": "stream",
     "text": [
      "Eating\n"
     ]
    }
   ],
   "source": [
    "# и методы\n",
    "pigeon1.eat()"
   ]
  },
  {
   "cell_type": "code",
   "execution_count": 25,
   "id": "f48c676c",
   "metadata": {},
   "outputs": [
    {
     "name": "stdout",
     "output_type": "stream",
     "text": [
      "Flying\n"
     ]
    }
   ],
   "source": [
    "# теперь вызовем метод, свойственный только классу Bird\n",
    "pigeon1.move()"
   ]
  },
  {
   "cell_type": "markdown",
   "id": "5c0a4c6a",
   "metadata": {},
   "source": [
    "Функция `super()`"
   ]
  },
  {
   "cell_type": "code",
   "execution_count": 26,
   "id": "acffa774",
   "metadata": {},
   "outputs": [],
   "source": [
    "# снова создадим класс Bird2\n",
    "class Bird2(Animal):\n",
    "    \"\"\"A bird class that includes flying capability.\"\"\"\n",
    "\n",
    "    # в метод .__init__() добавим параметр скорости полета (км/ч)\n",
    "    def __init__(self, weight: float, length: float, speed: float) -> None:\n",
    "        \"\"\"Initialize the bird with weight, length, and flying speed.\"\"\"\n",
    "        # с помощью super() вызовем метод .__init__() род. класса Animal\n",
    "        super().__init__(weight, length)\n",
    "        self.flying_speed = speed\n",
    "\n",
    "    # вновь пропишем метод .move()\n",
    "    def move(self) -> None:\n",
    "        \"\"\"Simulate the bird flying.\"\"\"\n",
    "        print(\"Flying\")"
   ]
  },
  {
   "cell_type": "code",
   "execution_count": 27,
   "id": "3b205f9a",
   "metadata": {},
   "outputs": [],
   "source": [
    "# вновь создадим объект pigeon класса Bird, но уже с тремя параметрами\n",
    "pigeon2 = Bird2(0.3, 30, 100)"
   ]
  },
  {
   "cell_type": "code",
   "execution_count": 28,
   "id": "500af5a9",
   "metadata": {},
   "outputs": [
    {
     "name": "stdout",
     "output_type": "stream",
     "text": [
      "0.3 30 100\n"
     ]
    }
   ],
   "source": [
    "# вызовем как унаследованные, так и собственные атрибуты класса Bird\n",
    "print(pigeon2.weight, pigeon2.length, pigeon2.flying_speed)"
   ]
  },
  {
   "cell_type": "code",
   "execution_count": 29,
   "id": "f5aef0a4",
   "metadata": {},
   "outputs": [
    {
     "name": "stdout",
     "output_type": "stream",
     "text": [
      "Sleeping\n"
     ]
    }
   ],
   "source": [
    "# вызовем унаследованный метод .sleep()\n",
    "pigeon2.sleep()"
   ]
  },
  {
   "cell_type": "code",
   "execution_count": 30,
   "id": "03626755",
   "metadata": {},
   "outputs": [
    {
     "name": "stdout",
     "output_type": "stream",
     "text": [
      "Flying\n"
     ]
    }
   ],
   "source": [
    "# и собственный метод .move()\n",
    "pigeon2.move()"
   ]
  },
  {
   "cell_type": "markdown",
   "id": "4ea0e215",
   "metadata": {},
   "source": [
    "Переопределение класса"
   ]
  },
  {
   "cell_type": "code",
   "execution_count": 31,
   "id": "b3094b3a",
   "metadata": {},
   "outputs": [],
   "source": [
    "# создадим подкласс Flightless класса Bird1\n",
    "class Flightless(Bird1):\n",
    "    \"\"\"A bird subclass that cannot fly and only runs.\"\"\"\n",
    "\n",
    "    # метод .__init__() этого подкласса \"стирает\" .__init__() род. класса\n",
    "    def __init__(  # pylint: disable=super-init-not-called\n",
    "        self, running_speed: float\n",
    "    ) -> None:\n",
    "        \"\"\"Initialize a flightless bird with its running speed.\"\"\"\n",
    "        # таким образом, у нас остается только один атрибут\n",
    "        self.running_speed = running_speed\n",
    "\n",
    "    # кроме того, результатом метода .move() будет 'Running'\n",
    "    def move(self) -> None:\n",
    "        \"\"\"Simulate the flightless bird running.\"\"\"\n",
    "        print(\"Running\")"
   ]
  },
  {
   "cell_type": "code",
   "execution_count": 32,
   "id": "91de2e10",
   "metadata": {},
   "outputs": [],
   "source": [
    "# создадим объект ostrich класса Flightless\n",
    "ostrich = Flightless(60)"
   ]
  },
  {
   "cell_type": "code",
   "execution_count": 33,
   "id": "f5f56c0a",
   "metadata": {},
   "outputs": [
    {
     "name": "stdout",
     "output_type": "stream",
     "text": [
      "60\n"
     ]
    }
   ],
   "source": [
    "# посмотрим на значение атрбута скорости\n",
    "print(ostrich.running_speed)"
   ]
  },
  {
   "cell_type": "code",
   "execution_count": 34,
   "id": "b3ec6237",
   "metadata": {},
   "outputs": [
    {
     "name": "stdout",
     "output_type": "stream",
     "text": [
      "Running\n"
     ]
    }
   ],
   "source": [
    "# и проверим метод .move()\n",
    "ostrich.move()"
   ]
  },
  {
   "cell_type": "code",
   "execution_count": 35,
   "id": "621d069f",
   "metadata": {},
   "outputs": [
    {
     "name": "stdout",
     "output_type": "stream",
     "text": [
      "Eating\n"
     ]
    }
   ],
   "source": [
    "# подкласс Flightless сохранил методы всех родительских классов\n",
    "ostrich.eat()"
   ]
  },
  {
   "cell_type": "markdown",
   "id": "e46f2dd2",
   "metadata": {},
   "source": [
    "Множественное наследование"
   ]
  },
  {
   "cell_type": "code",
   "execution_count": 36,
   "id": "1f96ee53",
   "metadata": {},
   "outputs": [],
   "source": [
    "# создадим родительский класс Fish\n",
    "class Fish:\n",
    "    \"\"\"Base class representing a fish that can swim.\"\"\"\n",
    "\n",
    "    # и метод .swim()\n",
    "    def swim(self) -> None:\n",
    "        \"\"\"Simulate the fish swimming.\"\"\"\n",
    "        print(\"Swimming\")"
   ]
  },
  {
   "cell_type": "code",
   "execution_count": 37,
   "id": "b02c5eda",
   "metadata": {},
   "outputs": [],
   "source": [
    "# и еще один родительский класс Bird3\n",
    "class Bird3:\n",
    "    \"\"\"A base class representing birds capable of flying.\"\"\"\n",
    "\n",
    "    # и метод .fly()\n",
    "    def fly(self) -> None:\n",
    "        \"\"\"Simulate the bird flying.\"\"\"\n",
    "        print(\"Flying\")"
   ]
  },
  {
   "cell_type": "code",
   "execution_count": 38,
   "id": "ac3f60f0",
   "metadata": {},
   "outputs": [],
   "source": [
    "# теперь создадим класс-потомок этих двух классов\n",
    "class SwimmingBird(Bird3, Fish):\n",
    "    \"\"\"A bird class that can swim like a fish and fly like a bird.\"\"\"\n",
    "\n",
    "    pass  # pylint: disable=unnecessary-pass"
   ]
  },
  {
   "cell_type": "code",
   "execution_count": 39,
   "id": "b4f18745",
   "metadata": {},
   "outputs": [],
   "source": [
    "# создадим объект duck класса SwimmingBird\n",
    "duck = SwimmingBird()"
   ]
  },
  {
   "cell_type": "code",
   "execution_count": 40,
   "id": "87b57031",
   "metadata": {},
   "outputs": [
    {
     "name": "stdout",
     "output_type": "stream",
     "text": [
      "Flying\n"
     ]
    }
   ],
   "source": [
    "# как мы видим утка умеет как летать,\n",
    "duck.fly()"
   ]
  },
  {
   "cell_type": "code",
   "execution_count": 41,
   "id": "eeb0a2c7",
   "metadata": {},
   "outputs": [
    {
     "name": "stdout",
     "output_type": "stream",
     "text": [
      "Swimming\n"
     ]
    }
   ],
   "source": [
    "# так и плавать\n",
    "duck.swim()"
   ]
  },
  {
   "cell_type": "markdown",
   "id": "0df42670",
   "metadata": {},
   "source": [
    "#### Полиморфизм"
   ]
  },
  {
   "cell_type": "code",
   "execution_count": 42,
   "id": "8599441e",
   "metadata": {},
   "outputs": [
    {
     "name": "stdout",
     "output_type": "stream",
     "text": [
      "4\n"
     ]
    }
   ],
   "source": [
    "# для чисел '+' является оператором сложения\n",
    "print(2 + 2)"
   ]
  },
  {
   "cell_type": "code",
   "execution_count": 43,
   "id": "e116f3b7",
   "metadata": {},
   "outputs": [
    {
     "name": "stdout",
     "output_type": "stream",
     "text": [
      "классы и объекты\n"
     ]
    }
   ],
   "source": [
    "# для строк - оператором объединения\n",
    "print(\"классы\" + \" и \" + \"объекты\")"
   ]
  },
  {
   "cell_type": "markdown",
   "id": "5042d73e",
   "metadata": {},
   "source": [
    "1. Полиморфизм функций"
   ]
  },
  {
   "cell_type": "code",
   "execution_count": 44,
   "id": "fe3f4f6d",
   "metadata": {},
   "outputs": [
    {
     "data": {
      "text/plain": [
       "26"
      ]
     },
     "execution_count": 44,
     "metadata": {},
     "output_type": "execute_result"
    }
   ],
   "source": [
    "# функцию len() можно применить к строке\n",
    "len(\"Программирование на Питоне\")"
   ]
  },
  {
   "cell_type": "code",
   "execution_count": 45,
   "id": "cfc0b584",
   "metadata": {},
   "outputs": [
    {
     "data": {
      "text/plain": [
       "3"
      ]
     },
     "execution_count": 45,
     "metadata": {},
     "output_type": "execute_result"
    }
   ],
   "source": [
    "# кроме того, она способна работать со списком\n",
    "len([\"Программирование\", \"на\", \"Питоне\"])"
   ]
  },
  {
   "cell_type": "code",
   "execution_count": 46,
   "id": "31c80b00",
   "metadata": {},
   "outputs": [
    {
     "data": {
      "text/plain": [
       "3"
      ]
     },
     "execution_count": 46,
     "metadata": {},
     "output_type": "execute_result"
    }
   ],
   "source": [
    "# словарем\n",
    "len({0: \"Программирование\", 1: \"на\", 2: \"Питоне\"})"
   ]
  },
  {
   "cell_type": "code",
   "execution_count": 47,
   "id": "5dbac37e",
   "metadata": {},
   "outputs": [
    {
     "data": {
      "text/plain": [
       "3"
      ]
     },
     "execution_count": 47,
     "metadata": {},
     "output_type": "execute_result"
    }
   ],
   "source": [
    "len(np.array([1, 2, 3]))"
   ]
  },
  {
   "cell_type": "markdown",
   "id": "cec64f2a",
   "metadata": {},
   "source": [
    "2. Полиморфизм классов"
   ]
  },
  {
   "cell_type": "markdown",
   "id": "5d5e04cf",
   "metadata": {},
   "source": [
    "Создадим объекты с одинаковыми атрибутами и методами"
   ]
  },
  {
   "cell_type": "code",
   "execution_count": 48,
   "id": "45dee666",
   "metadata": {},
   "outputs": [],
   "source": [
    "# создадим класс котов\n",
    "class CatClass6:\n",
    "    \"\"\"Class representing a cat with name, type, and fur color attributes.\"\"\"\n",
    "\n",
    "    # определим атрибуты клички, типа и цвета шерсти\n",
    "    def __init__(self, name: str, color: str) -> None:\n",
    "        \"\"\"Initialize the cat with a name and fur color.\"\"\"\n",
    "        self.name = name\n",
    "        self._type_ = \"кот\"\n",
    "        self.color = color\n",
    "\n",
    "    # создадим метод .info() для вывода этих атрибутов\n",
    "    def info(self) -> None:\n",
    "        \"\"\"Display information about the cat.\"\"\"\n",
    "        print(f\"Меня зовут {self.name}, я {self._type_}\")\n",
    "        print(f\"цвет моей шерсти {self.color}\")\n",
    "\n",
    "    # и метод .sound(), показывающий, что коты умеют мяукать\n",
    "    def sound(self) -> None:\n",
    "        \"\"\"Print the sound a cat makes.\"\"\"\n",
    "        print(\"Я умею мяукать\")"
   ]
  },
  {
   "cell_type": "code",
   "execution_count": 49,
   "id": "f2425554",
   "metadata": {},
   "outputs": [],
   "source": [
    "# создадим класс собак\n",
    "class DogClass:\n",
    "    \"\"\"Class representing a dog with name, type, and fur color attributes.\"\"\"\n",
    "\n",
    "    # с такими же атрибутами\n",
    "    def __init__(self, name: str, color: str) -> None:\n",
    "        \"\"\"Initialize the dog with a name and fur color.\"\"\"\n",
    "        self.name = name\n",
    "        self._type_ = \"пес\"\n",
    "        self.color = color\n",
    "\n",
    "    # и методами\n",
    "    def info(self) -> None:\n",
    "        \"\"\"Display information about the dog.\"\"\"\n",
    "        print(f\"Меня зовут {self.name}, я {self._type_}\")\n",
    "        print(f\"цвет моей шерсти {self.color}\")\n",
    "\n",
    "    # хотя, обратите внимание, действия внутри методов отличаются\n",
    "    def sound(self) -> None:\n",
    "        \"\"\"Print the sound a dog makes.\"\"\"\n",
    "        print(\"Я умею лаять\")"
   ]
  },
  {
   "cell_type": "markdown",
   "id": "eeb79f56",
   "metadata": {},
   "source": [
    "Создадим объекты этих классов"
   ]
  },
  {
   "cell_type": "code",
   "execution_count": 50,
   "id": "cd834db2",
   "metadata": {},
   "outputs": [],
   "source": [
    "cat = CatClass6(\"Бегемот\", \"черный\")\n",
    "dog = DogClass(\"Барбос\", \"серый\")"
   ]
  },
  {
   "cell_type": "markdown",
   "id": "7e1fdf76",
   "metadata": {},
   "source": [
    "В цикле `for` вызовем атрибуты и методы каждого из классов"
   ]
  },
  {
   "cell_type": "code",
   "execution_count": 51,
   "id": "0e32d07b",
   "metadata": {},
   "outputs": [
    {
     "name": "stdout",
     "output_type": "stream",
     "text": [
      "Меня зовут Бегемот, я кот\n",
      "цвет моей шерсти черный\n",
      "Я умею мяукать\n",
      "\n",
      "Меня зовут Барбос, я пес\n",
      "цвет моей шерсти серый\n",
      "Я умею лаять\n",
      "\n"
     ]
    }
   ],
   "source": [
    "for animal in (cat, dog):\n",
    "    animal.info()\n",
    "    animal.sound()\n",
    "    print()"
   ]
  },
  {
   "cell_type": "markdown",
   "id": "8c46caeb",
   "metadata": {},
   "source": [
    "### Парадигмы программирования"
   ]
  },
  {
   "cell_type": "code",
   "execution_count": 52,
   "id": "d3ddbf9b",
   "metadata": {},
   "outputs": [],
   "source": [
    "patients: list[dict[str, str | int]] = [\n",
    "    {\"name\": \"Николай\", \"height\": 178},\n",
    "    {\"name\": \"Иван\", \"height\": 182},\n",
    "    {\"name\": \"Алексей\", \"height\": 190},\n",
    "]"
   ]
  },
  {
   "cell_type": "markdown",
   "id": "c578fb9d",
   "metadata": {},
   "source": [
    "#### Процедурное программирование"
   ]
  },
  {
   "cell_type": "code",
   "execution_count": 53,
   "id": "7989107f",
   "metadata": {},
   "outputs": [
    {
     "name": "stdout",
     "output_type": "stream",
     "text": [
      "183.33333333333334\n"
     ]
    }
   ],
   "source": [
    "# создадим переменные для общего роста и количества пациентов\n",
    "total, count = 0, 0\n",
    "\n",
    "# в цикле for пройдемся по пациентам (отдельным словарям)\n",
    "for patient in patients:\n",
    "    # достанем значение роста и прибавим к текущему значению переменной total\n",
    "    total += int(patient[\"height\"])\n",
    "    # на каждой итерации будем увеличивать счетчик пациентов на один\n",
    "    count += 1\n",
    "\n",
    "# разделим общий рост на количество пациентов,\n",
    "# чтобы получить среднее значение\n",
    "print(total / count)"
   ]
  },
  {
   "cell_type": "markdown",
   "id": "67290fcc",
   "metadata": {},
   "source": [
    "#### Объектно-ориентированное программирование"
   ]
  },
  {
   "cell_type": "code",
   "execution_count": 54,
   "id": "cf44c676",
   "metadata": {},
   "outputs": [],
   "source": [
    "# создадим класс для работы с данными DataClass\n",
    "class DataClass:\n",
    "    \"\"\"Class for performing basic statistical calculations on data.\"\"\"\n",
    "\n",
    "    # при создании объекта будем передавать ему данные для анализа\n",
    "    def __init__(self, data: list[dict[str, str | int]]) -> None:\n",
    "        \"\"\"Initialize the object with data for analysis.\"\"\"\n",
    "        self.data = data\n",
    "        self.metric = \"\"\n",
    "        self.__total = 0\n",
    "        self.__count = 0\n",
    "\n",
    "    # кроме того, создадим метод для расчета среднего значения\n",
    "    def count_average(self, metric: str) -> float:\n",
    "        \"\"\"Calculate the average value for the specified metric.\"\"\"\n",
    "        # параметр metric определит, по какому столбцу считать среднее\n",
    "        self.metric = metric\n",
    "\n",
    "        # объявим два частных атрибута\n",
    "        self.__total = 0\n",
    "        self.__count = 0\n",
    "\n",
    "        # в цикле for пройдемся по списку словарей\n",
    "        for item in self.data:\n",
    "\n",
    "            # рассчитем общую сумму по указанному в metric\n",
    "            # значению каждого словаря\n",
    "            self.__total += int(item[self.metric])\n",
    "\n",
    "            # и количество таких записей\n",
    "            self.__count += 1\n",
    "\n",
    "        # разделим общую сумму показателя на количество записей\n",
    "        return self.__total / self.__count"
   ]
  },
  {
   "cell_type": "code",
   "execution_count": 55,
   "id": "b5e8bbab",
   "metadata": {},
   "outputs": [
    {
     "data": {
      "text/plain": [
       "183.33333333333334"
      ]
     },
     "execution_count": 55,
     "metadata": {},
     "output_type": "execute_result"
    }
   ],
   "source": [
    "# создадим объект класса DataClass и передадим ему данные о пациентах\n",
    "data_object = DataClass(patients)\n",
    "\n",
    "# вызовем метод .count_average() с метрикой 'height'\n",
    "data_object.count_average(\"height\")"
   ]
  },
  {
   "cell_type": "markdown",
   "id": "4a828435",
   "metadata": {},
   "source": [
    "#### Функциональное программирование"
   ]
  },
  {
   "cell_type": "markdown",
   "id": "e1edfa9e",
   "metadata": {},
   "source": [
    "Функция map()"
   ]
  },
  {
   "cell_type": "code",
   "execution_count": 56,
   "id": "d0ea5da6",
   "metadata": {},
   "outputs": [
    {
     "name": "stdout",
     "output_type": "stream",
     "text": [
      "[178, 182, 190]\n"
     ]
    }
   ],
   "source": [
    "# lambda-функция достанет значение по ключу height\n",
    "# функция map() применит lambda-функцию к каждому вложенному в patients словарю\n",
    "# функция list() преобразует результат в список\n",
    "heights = list(map(lambda x: int(x[\"height\"]), patients))\n",
    "print(heights)"
   ]
  },
  {
   "cell_type": "code",
   "execution_count": 57,
   "id": "434a1361",
   "metadata": {},
   "outputs": [
    {
     "name": "stdout",
     "output_type": "stream",
     "text": [
      "183.33333333333334\n"
     ]
    }
   ],
   "source": [
    "# воспользуемся функциями sum() и len() для нахождения среднего значения\n",
    "print(sum(heights) / len(heights))"
   ]
  },
  {
   "cell_type": "markdown",
   "id": "9a192f3b",
   "metadata": {},
   "source": [
    "Функция einsum()"
   ]
  },
  {
   "cell_type": "code",
   "execution_count": 58,
   "id": "cb55b3a0",
   "metadata": {},
   "outputs": [],
   "source": [
    "# возьмем два двумерных массива\n",
    "a_var = np.array([[0, 1, 2], [3, 4, 5]])\n",
    "\n",
    "b_var = np.array([[5, 4], [3, 2], [1, 0]])"
   ]
  },
  {
   "cell_type": "code",
   "execution_count": 59,
   "id": "c98d0712",
   "metadata": {},
   "outputs": [
    {
     "data": {
      "text/plain": [
       "array([[ 5,  2],\n",
       "       [32, 20]])"
      ]
     },
     "execution_count": 59,
     "metadata": {},
     "output_type": "execute_result"
    }
   ],
   "source": [
    "# перемножим a и b по индексу j через функцию np.einsum()\n",
    "np.einsum(\"ij, jk -> ik\", a_var, b_var)"
   ]
  }
 ],
 "metadata": {
  "kernelspec": {
   "display_name": "base",
   "language": "python",
   "name": "python3"
  },
  "language_info": {
   "codemirror_mode": {
    "name": "ipython",
    "version": 3
   },
   "file_extension": ".py",
   "mimetype": "text/x-python",
   "name": "python",
   "nbconvert_exporter": "python",
   "pygments_lexer": "ipython3",
   "version": "3.12.7"
  }
 },
 "nbformat": 4,
 "nbformat_minor": 5
}
