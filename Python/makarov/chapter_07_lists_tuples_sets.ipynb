{
 "cells": [
  {
   "cell_type": "code",
   "execution_count": null,
   "id": "3ab22694",
   "metadata": {},
   "outputs": [],
   "source": [
    "\"\"\"Lists, tuples and sets.\"\"\""
   ]
  },
  {
   "cell_type": "markdown",
   "id": "baf901ea",
   "metadata": {},
   "source": [
    "## Списки, кортежи и множества"
   ]
  },
  {
   "cell_type": "markdown",
   "id": "f155d3cf",
   "metadata": {},
   "source": [
    "### Списки"
   ]
  },
  {
   "cell_type": "markdown",
   "id": "df7e3908",
   "metadata": {},
   "source": [
    "Основы работы со списками"
   ]
  },
  {
   "cell_type": "code",
   "execution_count": null,
   "id": "3ad65962",
   "metadata": {},
   "outputs": [
    {
     "name": "stdout",
     "output_type": "stream",
     "text": [
      "[] []\n"
     ]
    }
   ],
   "source": [
    "# пустой список можно создать через [] или функцию list()\n",
    "\n",
    "some_list_1: list[int] = []\n",
    "# pylint: disable=use-list-literal\n",
    "some_list_2: list[int] = list()\n",
    "\n",
    "print(some_list_1, some_list_2)"
   ]
  },
  {
   "cell_type": "code",
   "execution_count": 4,
   "id": "f00fc131",
   "metadata": {},
   "outputs": [
    {
     "data": {
      "text/plain": [
       "[3, 'число три', ['число', 'три'], {'число': 3}]"
      ]
     },
     "execution_count": 4,
     "metadata": {},
     "output_type": "execute_result"
    }
   ],
   "source": [
    "# элементами списка, в частности, могут быть числа, строки, другие списки и словари\n",
    "number_three = [3, \"число три\", [\"число\", \"три\"], {\"число\": 3}]\n",
    "number_three"
   ]
  },
  {
   "cell_type": "code",
   "execution_count": 5,
   "id": "f52c006b",
   "metadata": {},
   "outputs": [
    {
     "data": {
      "text/plain": [
       "4"
      ]
     },
     "execution_count": 5,
     "metadata": {},
     "output_type": "execute_result"
    }
   ],
   "source": [
    "# длина списка рассчитывается через функцию len()\n",
    "len(number_three)"
   ]
  },
  {
   "cell_type": "markdown",
   "id": "4a3528d3",
   "metadata": {},
   "source": [
    "Индекс и срез списка"
   ]
  },
  {
   "cell_type": "code",
   "execution_count": 3,
   "id": "db7d8228",
   "metadata": {},
   "outputs": [
    {
     "name": "stdout",
     "output_type": "stream",
     "text": [
      "a e\n"
     ]
    }
   ],
   "source": [
    "# у списка есть положительный и отрицательный индексы\n",
    "abc_list = [\"a\", \"b\", \"c\", \"d\", \"e\"]\n",
    "\n",
    "# воспользуемся ими для вывода первого и последнего элементов\n",
    "print(abc_list[0], abc_list[-1])"
   ]
  },
  {
   "cell_type": "code",
   "execution_count": 1,
   "id": "642403ad",
   "metadata": {},
   "outputs": [
    {
     "data": {
      "text/plain": [
       "'Игорь'"
      ]
     },
     "execution_count": 1,
     "metadata": {},
     "output_type": "execute_result"
    }
   ],
   "source": [
    "# при работе с вложенным списком\n",
    "salary_list = [[\"Анна\", 90000], [\"Игорь\", 85000], [\"Алексей\", 95000]]\n",
    "\n",
    "# мы вначале указываем индекс вложенного списка, а затем индекс элемента в нем\n",
    "salary_list[1][0]"
   ]
  },
  {
   "cell_type": "code",
   "execution_count": 4,
   "id": "56ff6716",
   "metadata": {},
   "outputs": [
    {
     "data": {
      "text/plain": [
       "2"
      ]
     },
     "execution_count": 4,
     "metadata": {},
     "output_type": "execute_result"
    }
   ],
   "source": [
    "# индекс можно узнать с помощью метода .index()\n",
    "abc_list.index(\"c\")"
   ]
  },
  {
   "cell_type": "code",
   "execution_count": 5,
   "id": "c9ba06b9",
   "metadata": {},
   "outputs": [
    {
     "data": {
      "text/plain": [
       "1"
      ]
     },
     "execution_count": 5,
     "metadata": {},
     "output_type": "execute_result"
    }
   ],
   "source": [
    "# метод .index() можно применить и ко вложенному списку\n",
    "salary_list[0].index(90000)"
   ]
  },
  {
   "cell_type": "code",
   "execution_count": 8,
   "id": "e4386dca",
   "metadata": {},
   "outputs": [
    {
     "data": {
      "text/plain": [
       "['Вт', 'Ср', 'Чт', 'Пт']"
      ]
     },
     "execution_count": 8,
     "metadata": {},
     "output_type": "execute_result"
    }
   ],
   "source": [
    "# создадим список с днями недели\n",
    "days_list = [\"Пн\", \"Вт\", \"Ср\", \"Чт\", \"Пт\", \"Сб\", \"Вс\"]\n",
    "\n",
    "# и выведем со второго по пятый элемент включительно\n",
    "days_list[1:5]"
   ]
  },
  {
   "cell_type": "code",
   "execution_count": 9,
   "id": "2f2ef879",
   "metadata": {},
   "outputs": [
    {
     "data": {
      "text/plain": [
       "['Пн', 'Ср', 'Пт']"
      ]
     },
     "execution_count": 9,
     "metadata": {},
     "output_type": "execute_result"
    }
   ],
   "source": [
    "# выведем каждый второй элемент в срезе с первого по пятый\n",
    "days_list[:5:2]"
   ]
  },
  {
   "cell_type": "code",
   "execution_count": 10,
   "id": "d608ff6f",
   "metadata": {},
   "outputs": [
    {
     "data": {
      "text/plain": [
       "True"
      ]
     },
     "execution_count": 10,
     "metadata": {},
     "output_type": "execute_result"
    }
   ],
   "source": [
    "# проверим есть ли \"Пн\" в списке\n",
    "\"Пн\" in days_list"
   ]
  },
  {
   "cell_type": "code",
   "execution_count": 12,
   "id": "479d1470",
   "metadata": {},
   "outputs": [
    {
     "name": "stdout",
     "output_type": "stream",
     "text": [
      "Такое слово есть\n"
     ]
    }
   ],
   "source": [
    "# если \"Вт\" есть в списке\n",
    "if \"Вт\" in days_list:\n",
    "\n",
    "    # выведем сообщение\n",
    "    print(\"Такое слово есть\")"
   ]
  },
  {
   "cell_type": "markdown",
   "id": "1c5a87c9",
   "metadata": {},
   "source": [
    "Добавление, замена и удаление элементов списка"
   ]
  },
  {
   "cell_type": "code",
   "execution_count": 13,
   "metadata": {},
   "outputs": [],
   "source": [
    "# создадим список\n",
    "weekdays = [\"Понедельник\", \"Вторник\"]"
   ]
  },
  {
   "cell_type": "code",
   "execution_count": 14,
   "id": "44e6dcec",
   "metadata": {},
   "outputs": [
    {
     "data": {
      "text/plain": [
       "['Понедельник', 'Вторник', 'Четверг']"
      ]
     },
     "execution_count": 14,
     "metadata": {},
     "output_type": "execute_result"
    }
   ],
   "source": [
    "# добавим один элемент в конец списка с помощью метода .append()\n",
    "weekdays.append(\"Четверг\")\n",
    "weekdays"
   ]
  },
  {
   "cell_type": "code",
   "execution_count": 15,
   "id": "c746ae53",
   "metadata": {},
   "outputs": [
    {
     "data": {
      "text/plain": [
       "['Понедельник', 'Вторник', 'Среда', 'Четверг']"
      ]
     },
     "execution_count": 15,
     "metadata": {},
     "output_type": "execute_result"
    }
   ],
   "source": [
    "# добавим элемент в определенное место в списке через желаемый индекс этого элемента\n",
    "weekdays.insert(2, \"Среда\")\n",
    "weekdays"
   ]
  },
  {
   "cell_type": "code",
   "execution_count": 16,
   "id": "8c78a82a",
   "metadata": {},
   "outputs": [
    {
     "data": {
      "text/plain": [
       "['Понедельник', 'Вторник', 'Среда', 'Пятница']"
      ]
     },
     "execution_count": 16,
     "metadata": {},
     "output_type": "execute_result"
    }
   ],
   "source": [
    "# изменим четвертый элемент в списке\n",
    "weekdays[3] = \"Пятница\"\n",
    "weekdays"
   ]
  },
  {
   "cell_type": "code",
   "execution_count": 17,
   "metadata": {},
   "outputs": [
    {
     "data": {
      "text/plain": [
       "['Понедельник', 'Вторник', 'Среда']"
      ]
     },
     "execution_count": 17,
     "metadata": {},
     "output_type": "execute_result"
    }
   ],
   "source": [
    "# удалим элемент по его значению\n",
    "weekdays.remove(\"Пятница\")\n",
    "weekdays"
   ]
  },
  {
   "cell_type": "code",
   "execution_count": 18,
   "id": "be0e4a4a",
   "metadata": {},
   "outputs": [
    {
     "data": {
      "text/plain": [
       "['Понедельник', 'Вторник']"
      ]
     },
     "execution_count": 18,
     "metadata": {},
     "output_type": "execute_result"
    }
   ],
   "source": [
    "# удалим элемент по его индексу через ключевое слово del\n",
    "del weekdays[2]\n",
    "weekdays"
   ]
  },
  {
   "cell_type": "code",
   "execution_count": null,
   "id": "a7812407",
   "metadata": {},
   "outputs": [],
   "source": [
    "# сделаем то же самое с помощью метода .pop()\n",
    "# этот метод выводит удаляемый элемент\n",
    "weekdays.pop(1)"
   ]
  },
  {
   "cell_type": "code",
   "execution_count": null,
   "id": "acee8a88",
   "metadata": {},
   "outputs": [],
   "source": [
    "# посмотрим, что осталось в нашем списке\n",
    "weekdays"
   ]
  }
 ],
 "metadata": {
  "kernelspec": {
   "display_name": "Python 3",
   "language": "python",
   "name": "python3"
  },
  "language_info": {
   "codemirror_mode": {
    "name": "ipython",
    "version": 3
   },
   "file_extension": ".py",
   "mimetype": "text/x-python",
   "name": "python",
   "nbconvert_exporter": "python",
   "pygments_lexer": "ipython3",
   "version": "3.10.11"
  }
 },
 "nbformat": 4,
 "nbformat_minor": 5
}
