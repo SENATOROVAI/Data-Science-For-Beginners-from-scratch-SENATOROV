{
 "cells": [
  {
   "cell_type": "code",
   "execution_count": null,
   "id": "747064dd",
   "metadata": {},
   "outputs": [],
   "source": [
    "\"\"\"Date and time in Python.\"\"\""
   ]
  },
  {
   "cell_type": "markdown",
   "id": "c4e0c705",
   "metadata": {},
   "source": [
    "## Дата и время в Питоне"
   ]
  },
  {
   "cell_type": "markdown",
   "id": "326c27b3",
   "metadata": {},
   "source": [
    "### Модуль datetime"
   ]
  },
  {
   "cell_type": "markdown",
   "id": "87f92842",
   "metadata": {},
   "source": [
    "Импорт модуля и класса datetime"
   ]
  },
  {
   "cell_type": "code",
   "execution_count": 36,
   "id": "242dd87e",
   "metadata": {},
   "outputs": [
    {
     "name": "stdout",
     "output_type": "stream",
     "text": [
      "2025-05-01 19:07:18.812143\n"
     ]
    }
   ],
   "source": [
    "# импортируем весь модуль\n",
    "# import datetime\n",
    "# чтобы получить доступ к функции now(), сначала обратимся\n",
    "# к модулю, потом к классу\n",
    "# print(datetime.datetime.now())\n",
    "\n",
    "# часто из модуля datetime удобнее импортировать только класс datetime\n",
    "from datetime import datetime, timedelta\n",
    "\n",
    "import pytz\n",
    "\n",
    "# и обращаться непосредственно к нему\n",
    "print(datetime.now())"
   ]
  },
  {
   "cell_type": "markdown",
   "id": "96795ba5",
   "metadata": {},
   "source": [
    "Объект datetime и функция `now()`"
   ]
  },
  {
   "cell_type": "code",
   "execution_count": 2,
   "id": "73ba762c",
   "metadata": {},
   "outputs": [
    {
     "name": "stdout",
     "output_type": "stream",
     "text": [
      "2025-05-01 18:27:08.562362\n"
     ]
    }
   ],
   "source": [
    "# поместим созданный с помощью now() объект datetime\n",
    "# в переменную cur_dt\n",
    "cur_dt: datetime = datetime.now()\n",
    "print(cur_dt)"
   ]
  },
  {
   "cell_type": "code",
   "execution_count": 3,
   "id": "09470e1c",
   "metadata": {},
   "outputs": [
    {
     "name": "stdout",
     "output_type": "stream",
     "text": [
      "2025 5 1 18 27 8 562362\n"
     ]
    }
   ],
   "source": [
    "# с помощью соответствующих атрибутов выведем каждый из компонентов\n",
    "# объекта по отдельности\n",
    "print(\n",
    "    cur_dt.year,\n",
    "    cur_dt.month,\n",
    "    cur_dt.day,\n",
    "    cur_dt.hour,\n",
    "    cur_dt.minute,\n",
    "    cur_dt.second,\n",
    "    cur_dt.microsecond,\n",
    ")"
   ]
  },
  {
   "cell_type": "code",
   "execution_count": 4,
   "id": "36d7f0c4",
   "metadata": {},
   "outputs": [
    {
     "name": "stdout",
     "output_type": "stream",
     "text": [
      "3 4\n"
     ]
    }
   ],
   "source": [
    "# также можно посмотреть на день недели\n",
    "# метод .weekday() начинает индекс недели с нуля, .isoweekday() - с единицы\n",
    "print(cur_dt.weekday(), cur_dt.isoweekday())"
   ]
  },
  {
   "cell_type": "code",
   "execution_count": 5,
   "id": "7183b3cd",
   "metadata": {},
   "outputs": [
    {
     "name": "stdout",
     "output_type": "stream",
     "text": [
      "None\n"
     ]
    }
   ],
   "source": [
    "# посмотрим на часовой пояс с помощью атрибута tzinfo\n",
    "print(cur_dt.tzinfo)"
   ]
  },
  {
   "cell_type": "code",
   "execution_count": 10,
   "id": "4ae65e49",
   "metadata": {},
   "outputs": [
    {
     "name": "stdout",
     "output_type": "stream",
     "text": [
      "2025-05-01 18:31:58.232231+03:00\n"
     ]
    }
   ],
   "source": [
    "# выведем текущее время в Москве\n",
    "dt_moscow: datetime = datetime.now(pytz.timezone(\"Europe/Moscow\"))\n",
    "print(dt_moscow)"
   ]
  },
  {
   "cell_type": "code",
   "execution_count": 11,
   "id": "d933756e",
   "metadata": {},
   "outputs": [
    {
     "name": "stdout",
     "output_type": "stream",
     "text": [
      "Europe/Moscow\n"
     ]
    }
   ],
   "source": [
    "# снова посмотрим на атрибут часового пояса\n",
    "print(dt_moscow.tzinfo)"
   ]
  },
  {
   "cell_type": "markdown",
   "id": "55ed4730",
   "metadata": {},
   "source": [
    "Timestamp"
   ]
  },
  {
   "cell_type": "code",
   "execution_count": 12,
   "id": "047f4c4b",
   "metadata": {},
   "outputs": [],
   "source": [
    "# получим timestamp текущего времени с помощью метода .timestamp()\n",
    "timestamp: float = datetime.now().timestamp()"
   ]
  },
  {
   "cell_type": "code",
   "execution_count": 13,
   "id": "72486a30",
   "metadata": {},
   "outputs": [
    {
     "name": "stdout",
     "output_type": "stream",
     "text": [
      "1746113616.159552\n"
     ]
    }
   ],
   "source": [
    "# выведем количество секунд, прошедшее с 01.01.1970 до исполнения кода\n",
    "print(timestamp)"
   ]
  },
  {
   "cell_type": "code",
   "execution_count": 14,
   "id": "d840d046",
   "metadata": {},
   "outputs": [
    {
     "name": "stdout",
     "output_type": "stream",
     "text": [
      "2025-05-01 18:33:36.159552\n"
     ]
    }
   ],
   "source": [
    "# вернем timestamp в прежний формат с помощью метода .fromtimestamp()\n",
    "print(datetime.fromtimestamp(timestamp))"
   ]
  },
  {
   "cell_type": "markdown",
   "id": "ff922961",
   "metadata": {},
   "source": [
    "Создание объекта datetime вручную"
   ]
  },
  {
   "cell_type": "code",
   "execution_count": 15,
   "id": "a5e50d5e",
   "metadata": {},
   "outputs": [
    {
     "name": "stdout",
     "output_type": "stream",
     "text": [
      "1991-02-20 00:00:00\n"
     ]
    }
   ],
   "source": [
    "# передадим объекту datetime 20 февраля 1991 года\n",
    "hb: datetime = datetime(1991, 2, 20)\n",
    "print(hb)"
   ]
  },
  {
   "cell_type": "code",
   "execution_count": 16,
   "id": "ff275e47",
   "metadata": {},
   "outputs": [
    {
     "name": "stdout",
     "output_type": "stream",
     "text": [
      "1991\n"
     ]
    }
   ],
   "source": [
    "# извлечем год с помощью атрибута year\n",
    "print(hb.year)"
   ]
  },
  {
   "cell_type": "code",
   "execution_count": 17,
   "id": "a4c9df6d",
   "metadata": {},
   "outputs": [
    {
     "name": "stdout",
     "output_type": "stream",
     "text": [
      "667000800.0\n"
     ]
    }
   ],
   "source": [
    "# создадим timestamp\n",
    "print(datetime.timestamp(hb))"
   ]
  },
  {
   "cell_type": "markdown",
   "id": "6ee5c6ec",
   "metadata": {},
   "source": [
    "### Преобразование строки в объект datetime и обратно"
   ]
  },
  {
   "cell_type": "markdown",
   "id": "755779e7",
   "metadata": {},
   "source": [
    "Строка ➞ datetime через `.strptime()`"
   ]
  },
  {
   "cell_type": "code",
   "execution_count": null,
   "id": "91453ff2",
   "metadata": {},
   "outputs": [
    {
     "data": {
      "text/plain": [
       "str"
      ]
     },
     "execution_count": 18,
     "metadata": {},
     "output_type": "execute_result"
    }
   ],
   "source": [
    "# дана строка с датой 2 декабря 2007 года и временем\n",
    "# 12 часов 30 минут и 45 секунд\n",
    "str_to_dt: str = \"2007-12-02 12:30:45\"\n",
    "type(str_to_dt)"
   ]
  },
  {
   "cell_type": "code",
   "execution_count": 19,
   "id": "317198eb",
   "metadata": {},
   "outputs": [
    {
     "name": "stdout",
     "output_type": "stream",
     "text": [
      "2007-12-02 12:30:45\n",
      "<class 'datetime.datetime'>\n"
     ]
    }
   ],
   "source": [
    "# преобразуем ее в datetime с помощью метода .strptime()\n",
    "res_dt: datetime = datetime.strptime(str_to_dt, \"%Y-%m-%d %H:%M:%S\")\n",
    "\n",
    "print(res_dt)\n",
    "print(type(res_dt))"
   ]
  },
  {
   "cell_type": "markdown",
   "id": "64358ad8",
   "metadata": {},
   "source": [
    "Datetime ➞ строка через `.strftime()`"
   ]
  },
  {
   "cell_type": "code",
   "execution_count": 20,
   "id": "cc1565f5",
   "metadata": {},
   "outputs": [
    {
     "data": {
      "text/plain": [
       "datetime.datetime"
      ]
     },
     "execution_count": 20,
     "metadata": {},
     "output_type": "execute_result"
    }
   ],
   "source": [
    "# вначале создадим объект datetime и передадим ему 19 ноября 2002 года\n",
    "dt_to_str: datetime = datetime(2002, 11, 19)\n",
    "type(dt_to_str)"
   ]
  },
  {
   "cell_type": "code",
   "execution_count": 21,
   "id": "3a5ca9ea",
   "metadata": {},
   "outputs": [
    {
     "name": "stdout",
     "output_type": "stream",
     "text": [
      "Tuesday, November 19, 2002\n",
      "<class 'str'>\n"
     ]
    }
   ],
   "source": [
    "# преобразуем объект в строку в формате \"день недели, месяц число, год\"\n",
    "res_str: str = datetime.strftime(dt_to_str, \"%A, %B %d, %Y\")\n",
    "\n",
    "print(res_str)\n",
    "print(type(res_str))"
   ]
  },
  {
   "cell_type": "code",
   "execution_count": 22,
   "id": "2af588f5",
   "metadata": {},
   "outputs": [
    {
     "data": {
      "text/plain": [
       "'Tuesday, November 19, 2002'"
      ]
     },
     "execution_count": 22,
     "metadata": {},
     "output_type": "execute_result"
    }
   ],
   "source": [
    "# .strftime() можно применять непосредственно к объекту datetime\n",
    "dt_to_str.strftime(\"%A, %B %d, %Y\")"
   ]
  },
  {
   "cell_type": "code",
   "execution_count": 23,
   "id": "79e50af1",
   "metadata": {},
   "outputs": [
    {
     "data": {
      "text/plain": [
       "'2025-05-01'"
      ]
     },
     "execution_count": 23,
     "metadata": {},
     "output_type": "execute_result"
    }
   ],
   "source": [
    "# можно и так\n",
    "datetime.now().strftime(\"%Y-%m-%d\")"
   ]
  },
  {
   "cell_type": "code",
   "execution_count": 24,
   "id": "4e1dd9a4",
   "metadata": {},
   "outputs": [
    {
     "data": {
      "text/plain": [
       "'Thu May  1 18:49:15 2025'"
      ]
     },
     "execution_count": 24,
     "metadata": {},
     "output_type": "execute_result"
    }
   ],
   "source": [
    "# а еще так\n",
    "datetime.now().strftime(\"%c\")"
   ]
  },
  {
   "cell_type": "markdown",
   "id": "37ea02ce",
   "metadata": {},
   "source": [
    "Форматирование даты и времени через `.strptime()` и `.strftime()`"
   ]
  },
  {
   "cell_type": "markdown",
   "id": "b754fde3",
   "metadata": {},
   "source": [
    "|Код | Описание | Пример |\n",
    "| --- | --- | --- |\n",
    "| `%a` | Сокращенное название дня недели | Sun, Mon, … |\n",
    "| `%A` | Полное название дня недели | Sunday, Monday, … |\n",
    "| `%w` | День недели как число, Вс - 0, Пн - 1, ... Сб - 6 | 0, 1, …, 6 |\n",
    "| `%d` | День месяца в виде числа с нулями | 01, 02, …, 31 |\n",
    "| `%-d` | День месяца в виде числа без нулей | 1, 2, …, 31 |\n",
    "| `%b` | Сокращенное название месяца | Jan, Feb, …, Dec |\n",
    "| `%B` | Полное название месяца | January, February, … |\n",
    "| `%m` | Месяц в виде числа с нулями | 01, 02, …, 12 |\n",
    "| `%-m` | Месяц в виде числа без нулей | 1, 2, …, 12 |\n",
    "| `%y` | Год без века как число с нулями | 00, 01, …, 99 |\n",
    "| `%-y` | Год без века как число без нулей | 0, 1, …, 99 |\n",
    "| `%Y` | Год с веком | 1999, 2019, ... |\n",
    "| `%H` | Час (в 24-часовом формате) в виде числа с нулями | 00, 01, …, 23 |\n",
    "| `%-H` | Час (в 24-часовом формате) в виде числа без нулей | 0, 1, …, 23 |\n",
    "| `%I` | Час (12-часовой формат) в виде числа с нулями | 01, 02, …, 12 |\n",
    "| `%-I` | Час (12-часовой формат) в виде числа без нулей | 1, 2, …, 12 |\n",
    "| `%p` | AM или PM | AM, PM |\n",
    "| `%M` | Минуты в виде числа с нулями | 00, 01, …, 59 |\n",
    "| `%-M` | Минуты в виде числа без нулей | 0, 1, …, 59 |\n",
    "| `%S` | Секунды в виде числа с нулями | 00, 01, …, 59 |\n",
    "| `%-S` | Секунды в виде числа без нулей | 0, 1, …, 59 |\n",
    "| `%j` | День года в виде числа с нулями | 001, 002, …, 366 |\n",
    "| `%-j` | День года в виде числа без нулей | 1, 2, …, 366 |\n",
    "| `%c` | Полная дата и время | Sun Nov 21 10:38:12 2021 |\n",
    "| `%x` | Дата | 11/21/21 |\n",
    "| `%X` | Время | 10:43:51 |"
   ]
  },
  {
   "cell_type": "markdown",
   "id": "3fcf08f2",
   "metadata": {},
   "source": [
    "### Сравнение и арифметика дат"
   ]
  },
  {
   "cell_type": "markdown",
   "id": "859a450d",
   "metadata": {},
   "source": [
    "Сравнение дат"
   ]
  },
  {
   "cell_type": "code",
   "execution_count": 25,
   "id": "c04eaf9b",
   "metadata": {},
   "outputs": [],
   "source": [
    "# сравним две даты публикации работ Эйнштейна\n",
    "date1: datetime = datetime(1905, 6, 30)  # \"К электродинамике движущихся тел\"\n",
    "date2: datetime = datetime(1916, 5, 11)  # Общая теория относительности"
   ]
  },
  {
   "cell_type": "code",
   "execution_count": 26,
   "id": "3876f208",
   "metadata": {},
   "outputs": [
    {
     "data": {
      "text/plain": [
       "True"
      ]
     },
     "execution_count": 26,
     "metadata": {},
     "output_type": "execute_result"
    }
   ],
   "source": [
    "# большей считается более поздняя дата\n",
    "date1 < date2"
   ]
  },
  {
   "cell_type": "code",
   "execution_count": 27,
   "id": "1db79534",
   "metadata": {},
   "outputs": [
    {
     "data": {
      "text/plain": [
       "False"
      ]
     },
     "execution_count": 27,
     "metadata": {},
     "output_type": "execute_result"
    }
   ],
   "source": [
    "# обратное будет признано ложным\n",
    "date1 > date2"
   ]
  },
  {
   "cell_type": "markdown",
   "id": "21d09f52",
   "metadata": {},
   "source": [
    "Календарный и алфавитный порядок дат"
   ]
  },
  {
   "cell_type": "code",
   "execution_count": null,
   "id": "1520db47",
   "metadata": {},
   "outputs": [
    {
     "data": {
      "text/plain": [
       "True"
      ]
     },
     "execution_count": 28,
     "metadata": {},
     "output_type": "execute_result"
    }
   ],
   "source": [
    "# если даты записаны в виде строки в формате ГГГГ.ММ.ДД,\n",
    "# то мы можем их сравнивать, как если бы мы сравнивали объекты datetime\n",
    "\n",
    "# вначале запишем даты в виде строки и сравним их\n",
    "date_1 = \"2007-12-02\"\n",
    "date_2 = \"2002-11-19\"\n",
    "print(date_1 > date_2)"
   ]
  },
  {
   "cell_type": "code",
   "execution_count": null,
   "id": "7081203c",
   "metadata": {},
   "outputs": [
    {
     "data": {
      "text/plain": [
       "True"
      ]
     },
     "execution_count": 29,
     "metadata": {},
     "output_type": "execute_result"
    }
   ],
   "source": [
    "# теперь в виде объекта datetime\n",
    "print(datetime(2007, 12, 2) > datetime(2002, 11, 19))"
   ]
  },
  {
   "cell_type": "markdown",
   "id": "0f50219b",
   "metadata": {},
   "source": [
    "Промежуток времени и класс timedelta"
   ]
  },
  {
   "cell_type": "code",
   "execution_count": null,
   "id": "39b886db",
   "metadata": {},
   "outputs": [
    {
     "name": "stdout",
     "output_type": "stream",
     "text": [
      "3968 days, 0:00:00\n"
     ]
    }
   ],
   "source": [
    "# если из большей даты вычесть меньшую, то мы получим\n",
    "# временной промежуток между датами\n",
    "diff: timedelta = date2 - date1\n",
    "print(diff)"
   ]
  },
  {
   "cell_type": "code",
   "execution_count": 31,
   "id": "576c12f0",
   "metadata": {},
   "outputs": [
    {
     "data": {
      "text/plain": [
       "datetime.timedelta"
      ]
     },
     "execution_count": 31,
     "metadata": {},
     "output_type": "execute_result"
    }
   ],
   "source": [
    "# при этом результат будет храниться в специальном объекте timedelta\n",
    "type(diff)"
   ]
  },
  {
   "cell_type": "code",
   "execution_count": 32,
   "id": "01b39024",
   "metadata": {},
   "outputs": [
    {
     "name": "stdout",
     "output_type": "stream",
     "text": [
      "3968\n"
     ]
    }
   ],
   "source": [
    "# атрибут days позволяет посмотреть только дни\n",
    "print(diff.days)"
   ]
  },
  {
   "cell_type": "code",
   "execution_count": 37,
   "id": "b2f49d53",
   "metadata": {},
   "outputs": [
    {
     "data": {
      "text/plain": [
       "datetime.timedelta(days=1)"
      ]
     },
     "execution_count": 37,
     "metadata": {},
     "output_type": "execute_result"
    }
   ],
   "source": [
    "# объект timedelta можно также создать вручную\n",
    "\n",
    "\n",
    "# а затем создадим объект timedelta продолжительностью 1 день\n",
    "timedelta(days=1)"
   ]
  },
  {
   "cell_type": "markdown",
   "id": "196155c7",
   "metadata": {},
   "source": [
    "Арифметика дат"
   ]
  },
  {
   "cell_type": "code",
   "execution_count": 38,
   "id": "4d86f13e",
   "metadata": {},
   "outputs": [
    {
     "data": {
      "text/plain": [
       "datetime.datetime(2070, 1, 1, 0, 0)"
      ]
     },
     "execution_count": 38,
     "metadata": {},
     "output_type": "execute_result"
    }
   ],
   "source": [
    "# смотрите, что получается,\n",
    "# объединив объекты datetime и timedelta, мы можем \"путешествовать во времени\"\n",
    "\n",
    "# допустим сейчас 1 января 2070 года\n",
    "future: datetime = datetime(2070, 1, 1)\n",
    "future"
   ]
  },
  {
   "cell_type": "code",
   "execution_count": null,
   "id": "cf77bf73",
   "metadata": {},
   "outputs": [
    {
     "data": {
      "text/plain": [
       "datetime.datetime(1900, 2, 12, 0, 0)"
      ]
     },
     "execution_count": 39,
     "metadata": {},
     "output_type": "execute_result"
    }
   ],
   "source": [
    "# а мы хотим отправиться в 1 января 1900 года, т.е. на 170 лет назад\n",
    "\n",
    "# сначала просто умножим 365 дней на 170\n",
    "time_travel: timedelta = timedelta(days=365) * 170\n",
    "\n",
    "# а потом переместимся из будущего в прошлое\n",
    "past: datetime = future - time_travel\n",
    "\n",
    "# к сожалению, мы немного \"не долетим\", потому что не учли високосные годы,\n",
    "# в которых 366 дней\n",
    "past"
   ]
  },
  {
   "cell_type": "code",
   "execution_count": 40,
   "id": "19efac81",
   "metadata": {},
   "outputs": [
    {
     "data": {
      "text/plain": [
       "62050"
      ]
     },
     "execution_count": 40,
     "metadata": {},
     "output_type": "execute_result"
    }
   ],
   "source": [
    "# мы пролетели 62050 дней\n",
    "365 * 170"
   ]
  }
 ],
 "metadata": {
  "kernelspec": {
   "display_name": "base",
   "language": "python",
   "name": "python3"
  },
  "language_info": {
   "codemirror_mode": {
    "name": "ipython",
    "version": 3
   },
   "file_extension": ".py",
   "mimetype": "text/x-python",
   "name": "python",
   "nbconvert_exporter": "python",
   "pygments_lexer": "ipython3",
   "version": "3.12.7"
  }
 },
 "nbformat": 4,
 "nbformat_minor": 5
}
