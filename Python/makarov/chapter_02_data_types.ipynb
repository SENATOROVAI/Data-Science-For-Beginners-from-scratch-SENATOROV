{
 "cells": [
  {
   "cell_type": "code",
   "execution_count": null,
   "id": "814136c6",
   "metadata": {},
   "outputs": [],
   "source": [
    "\"\"\"Data types.\"\"\""
   ]
  },
  {
   "cell_type": "markdown",
   "id": "423d4957",
   "metadata": {},
   "source": [
    "## Типы данных в Питоне"
   ]
  },
  {
   "cell_type": "markdown",
   "id": "6c2cda6a",
   "metadata": {},
   "source": [
    "### Работа с числами"
   ]
  },
  {
   "cell_type": "code",
   "execution_count": 43,
   "id": "38ac3f8a",
   "metadata": {},
   "outputs": [],
   "source": [
    "var1 = 25  # целое число (int)\n",
    "var2 = 2.5  # число с плавающей точкой (float)\n",
    "var3 = 3 + 25j  # комплексное число (complex)"
   ]
  },
  {
   "cell_type": "code",
   "execution_count": 44,
   "id": "4d4a1c59",
   "metadata": {},
   "outputs": [
    {
     "name": "stdout",
     "output_type": "stream",
     "text": [
      "2000.0\n",
      "<class 'float'>\n"
     ]
    }
   ],
   "source": [
    "# экспоненциальная запись, 2 умножить на 10 в степени 3\n",
    "var4 = 2e3\n",
    "print(var4)\n",
    "print(type(var4))"
   ]
  },
  {
   "cell_type": "markdown",
   "id": "ac950b8e",
   "metadata": {},
   "source": [
    "Арифметические операции"
   ]
  },
  {
   "cell_type": "code",
   "execution_count": 45,
   "id": "cfa5ecab",
   "metadata": {},
   "outputs": [
    {
     "name": "stdout",
     "output_type": "stream",
     "text": [
      "4 2 4 2.0 8\n"
     ]
    }
   ],
   "source": [
    "# сложение, вычитание, умножение, деление, возведение в степень\n",
    "var_5 = 2\n",
    "var_6 = 4\n",
    "var_7 = 3\n",
    "print(var_5 + 2, var_6 - 2, var_5 * 2, var_6 / 2, var_5**3)"
   ]
  },
  {
   "cell_type": "code",
   "execution_count": 46,
   "id": "c2ce20d2",
   "metadata": {},
   "outputs": [
    {
     "name": "stdout",
     "output_type": "stream",
     "text": [
      "3\n",
      "1\n"
     ]
    }
   ],
   "source": [
    "# новая для нас операция: разделим 7 на 2, и найдем целую часть и остаток\n",
    "\n",
    "# целая часть\n",
    "print(7 // var_5)\n",
    "\n",
    "# остаток от деления\n",
    "print(7 % var_5)"
   ]
  },
  {
   "cell_type": "markdown",
   "id": "c81a1c60",
   "metadata": {},
   "source": [
    "Операторы сравнения"
   ]
  },
  {
   "cell_type": "code",
   "execution_count": 47,
   "id": "86fd5180",
   "metadata": {},
   "outputs": [
    {
     "name": "stdout",
     "output_type": "stream",
     "text": [
      "True False True False\n"
     ]
    }
   ],
   "source": [
    "# больше, меньше, больше или равно и меньше или равно\n",
    "print(4 > var_5, 4 < var_5, 4 >= var_5, 4 <= var_5)"
   ]
  },
  {
   "cell_type": "code",
   "execution_count": 48,
   "id": "d696f4df",
   "metadata": {},
   "outputs": [
    {
     "name": "stdout",
     "output_type": "stream",
     "text": [
      "False\n",
      "True\n"
     ]
    }
   ],
   "source": [
    "# равенство\n",
    "print(var_5 == 4)\n",
    "\n",
    "# и новый для нас оператор неравенства\n",
    "print(var_7 != var_6)"
   ]
  },
  {
   "cell_type": "markdown",
   "id": "01c0971d",
   "metadata": {},
   "source": [
    "Логические операции"
   ]
  },
  {
   "cell_type": "code",
   "execution_count": null,
   "id": "6a07d4e1",
   "metadata": {},
   "outputs": [
    {
     "name": "stdout",
     "output_type": "stream",
     "text": [
      "True\n",
      "True\n",
      "False\n"
     ]
    }
   ],
   "source": [
    "# логическое И, обе операции должны быть истинны\n",
    "print(var_6 > var_5 and var_5 != var_7)\n",
    "\n",
    "# логическое ИЛИ, хотя бы одна из операций должна быть истинна\n",
    "print(var_6 < var_5 or var_5 == 2)\n",
    "\n",
    "# логическое НЕ, перевод истинного значения в ложное и наоборот\n",
    "# print(not var_6 == 4)"
   ]
  },
  {
   "cell_type": "markdown",
   "id": "e9084369",
   "metadata": {},
   "source": [
    "Перевод чисел в другую систему счисления"
   ]
  },
  {
   "cell_type": "code",
   "execution_count": 50,
   "id": "b8b1013b",
   "metadata": {},
   "outputs": [
    {
     "name": "stdout",
     "output_type": "stream",
     "text": [
      "0b11001\n",
      "25\n"
     ]
    }
   ],
   "source": [
    "# создадим число в десятичной системе\n",
    "sample_var_1 = 25\n",
    "\n",
    "# переведем в двоичную (binary)\n",
    "bin_sample_var_1 = bin(sample_var_1)\n",
    "print(bin_sample_var_1)\n",
    "\n",
    "# переведем обратно в десятичную\n",
    "print(int(bin_sample_var_1, 2))"
   ]
  },
  {
   "cell_type": "code",
   "execution_count": 51,
   "id": "30a5f58a",
   "metadata": {},
   "outputs": [
    {
     "name": "stdout",
     "output_type": "stream",
     "text": [
      "0o31\n",
      "25\n"
     ]
    }
   ],
   "source": [
    "# создадим число в десятичной системе\n",
    "sample_var_2 = 25\n",
    "\n",
    "# переведем в восьмеричную (octal)\n",
    "oct_sample_var_2 = oct(sample_var_2)\n",
    "print(oct_sample_var_2)\n",
    "\n",
    "# переведем обратно в десятичную\n",
    "print(int(oct_sample_var_2, 8))"
   ]
  },
  {
   "cell_type": "code",
   "execution_count": 53,
   "id": "592aa9af",
   "metadata": {},
   "outputs": [
    {
     "name": "stdout",
     "output_type": "stream",
     "text": [
      "0x19\n",
      "25\n"
     ]
    }
   ],
   "source": [
    "# создадим число в десятичной системе\n",
    "sample_var_3 = 25\n",
    "\n",
    "# переведем в шестандцатеричную (hexadecimal)\n",
    "hex_sample_var_3 = hex(sample_var_3)\n",
    "print(hex_sample_var_3)\n",
    "\n",
    "# переведем обратно в десятичную\n",
    "print(int(hex_sample_var_3, 16))"
   ]
  },
  {
   "cell_type": "markdown",
   "id": "891fd275",
   "metadata": {},
   "source": [
    "### Строковые данные"
   ]
  },
  {
   "cell_type": "code",
   "execution_count": 54,
   "id": "02eb1a24",
   "metadata": {},
   "outputs": [],
   "source": [
    "string_1 = \"это строка\"\n",
    "string_2 = \"это тоже строка\""
   ]
  },
  {
   "cell_type": "code",
   "execution_count": 55,
   "id": "b45e369e",
   "metadata": {},
   "outputs": [],
   "source": [
    "multi_string = \"\"\"Мы все учились понемногу\n",
    "Чему-нибудь и как-нибудь,\n",
    "Так воспитаньем, слава богу,\n",
    "У нас немудрено блеснуть.\"\"\""
   ]
  },
  {
   "cell_type": "markdown",
   "id": "918f97d7",
   "metadata": {},
   "source": [
    "Длина строки"
   ]
  },
  {
   "cell_type": "code",
   "execution_count": 56,
   "id": "a9ff8aa6",
   "metadata": {},
   "outputs": [
    {
     "data": {
      "text/plain": [
       "105"
      ]
     },
     "execution_count": 56,
     "metadata": {},
     "output_type": "execute_result"
    }
   ],
   "source": [
    "# воспользуемся функцией len()\n",
    "len(multi_string)"
   ]
  },
  {
   "cell_type": "markdown",
   "id": "1ffff8fb",
   "metadata": {},
   "source": [
    "Объединение строк"
   ]
  },
  {
   "cell_type": "code",
   "execution_count": 57,
   "id": "478f326b",
   "metadata": {},
   "outputs": [
    {
     "data": {
      "text/plain": [
       "'Программирование на Питоне'"
      ]
     },
     "execution_count": 57,
     "metadata": {},
     "output_type": "execute_result"
    }
   ],
   "source": [
    "# создадим три строки\n",
    "lang1, lang2, lang3 = \"Программирование\", \"на\", \"Питоне\"\n",
    "\n",
    "# соединим с помощью + и добавим пробелы \" \"\n",
    "lang1 + \" \" + lang2 + \" \" + lang3"
   ]
  },
  {
   "cell_type": "markdown",
   "id": "529dc985",
   "metadata": {},
   "source": [
    "Индекс символа в строке"
   ]
  },
  {
   "cell_type": "code",
   "execution_count": 60,
   "id": "36656acc",
   "metadata": {},
   "outputs": [
    {
     "name": "stdout",
     "output_type": "stream",
     "text": [
      "М\n",
      ".\n"
     ]
    }
   ],
   "source": [
    "# выведем первый элемент строки multi_string\n",
    "print(multi_string[0])\n",
    "\n",
    "# теперь выведем последний элемент\n",
    "print(multi_string[-1])"
   ]
  },
  {
   "cell_type": "markdown",
   "id": "06f267ff",
   "metadata": {},
   "source": [
    "Срезы строк"
   ]
  },
  {
   "cell_type": "code",
   "execution_count": 58,
   "id": "c5546cd4",
   "metadata": {},
   "outputs": [
    {
     "name": "stdout",
     "output_type": "stream",
     "text": [
      "все\n"
     ]
    }
   ],
   "source": [
    "# выберем элементы с четвертого по шестой\n",
    "print(multi_string[3:6])"
   ]
  },
  {
   "cell_type": "code",
   "execution_count": 59,
   "id": "b5505886",
   "metadata": {},
   "outputs": [
    {
     "name": "stdout",
     "output_type": "stream",
     "text": [
      "Мы\n",
      "все учились понемногу\n",
      "Чему-нибудь и как-нибудь,\n",
      "Так воспитаньем, слава богу,\n",
      "У нас немудрено блеснуть.\n"
     ]
    }
   ],
   "source": [
    "# выведем все элементы вплоть до второго\n",
    "print(multi_string[:2])\n",
    "\n",
    "# а также все элементы, начиная с четвертого\n",
    "print(multi_string[3:])"
   ]
  },
  {
   "cell_type": "code",
   "execution_count": 1,
   "id": "2ffa7852",
   "metadata": {},
   "outputs": [
    {
     "name": "stdout",
     "output_type": "stream",
     "text": [
      "П\n",
      "и\n",
      "т\n",
      "о\n",
      "н\n"
     ]
    }
   ],
   "source": [
    "# выведем буквы в слове Питон\n",
    "for i in \"Питон\":\n",
    "    print(i)"
   ]
  },
  {
   "cell_type": "markdown",
   "id": "58b63ebf",
   "metadata": {},
   "source": [
    "Методы .strip() и .split()"
   ]
  },
  {
   "cell_type": "code",
   "execution_count": null,
   "id": "424c163d",
   "metadata": {},
   "outputs": [],
   "source": [
    "# применим метод .strip(), чтобы удалить *\n",
    "print(\"***15 849 302*****\".strip(\"*\"))\n",
    "\n",
    "# если ничего не указать в качестве аргумента,\n",
    "# то удаляются пробелы по краям строки\n",
    "print(\" 15 849 302 \".strip())"
   ]
  },
  {
   "cell_type": "markdown",
   "id": "5fb6a7c4",
   "metadata": {},
   "source": [
    "# применим метод .split(), чтобы разделить строку на части\n",
    "print(multi_string.split())"
   ]
  }
 ],
 "metadata": {
  "kernelspec": {
   "display_name": "base",
   "language": "python",
   "name": "python3"
  },
  "language_info": {
   "codemirror_mode": {
    "name": "ipython",
    "version": 3
   },
   "file_extension": ".py",
   "mimetype": "text/x-python",
   "name": "python",
   "nbconvert_exporter": "python",
   "pygments_lexer": "ipython3",
   "version": "3.12.7"
  }
 },
 "nbformat": 4,
 "nbformat_minor": 5
}
