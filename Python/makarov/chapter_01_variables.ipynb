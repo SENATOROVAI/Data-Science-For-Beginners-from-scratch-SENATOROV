{
 "cells": [
  {
   "cell_type": "code",
   "execution_count": null,
   "id": "73d635b6",
   "metadata": {},
   "outputs": [],
   "source": [
    "\"\"\"Variables.\"\"\""
   ]
  },
  {
   "cell_type": "markdown",
   "id": "d21a3905",
   "metadata": {},
   "source": [
    "## Переменные в Питоне"
   ]
  },
  {
   "cell_type": "markdown",
   "id": "7f46ef91",
   "metadata": {},
   "source": [
    "### Создание (объявление) переменных"
   ]
  },
  {
   "cell_type": "code",
   "execution_count": null,
   "id": "9a82ed51",
   "metadata": {},
   "outputs": [
    {
     "name": "stdout",
     "output_type": "stream",
     "text": [
      "15\n"
     ]
    }
   ],
   "source": [
    "# можно создать переменную, присвоив ей числовое значение\n",
    "number: int = 15\n",
    "print(number)"
   ]
  },
  {
   "cell_type": "code",
   "execution_count": null,
   "id": "b5f6e308",
   "metadata": {},
   "outputs": [
    {
     "name": "stdout",
     "output_type": "stream",
     "text": [
      "Я программирую на Питоне\n"
     ]
    }
   ],
   "source": [
    "# кроме того, переменной можно задать строковое (текстовое) значение\n",
    "message: str = \"Я программирую на Питоне\"\n",
    "print(message)"
   ]
  },
  {
   "cell_type": "code",
   "execution_count": null,
   "id": "5c6d1e18",
   "metadata": {},
   "outputs": [
    {
     "name": "stdout",
     "output_type": "stream",
     "text": [
      "Питон C++ PHP\n"
     ]
    }
   ],
   "source": [
    "# в Питоне можно присвоить разные значения сразу нескольким переменным\n",
    "lang_1: str\n",
    "lang_2: str\n",
    "lang_3: str\n",
    "lang_1, lang_2, lang_3 = \"Питон\", \"C++\", \"PHP\"\n",
    "print(lang_1, lang_2, lang_3)"
   ]
  },
  {
   "cell_type": "code",
   "execution_count": 30,
   "id": "302fba71",
   "metadata": {},
   "outputs": [
    {
     "name": "stdout",
     "output_type": "stream",
     "text": [
      "То же самое значение То же самое значение То же самое значение\n"
     ]
    }
   ],
   "source": [
    "# а также присвоить одно и то же значение нескольким переменным\n",
    "sample_var_1: str\n",
    "sample_var_2: str\n",
    "sample_var_3: str\n",
    "sample_var_1 = sample_var_2 = sample_var_3 = \"То же самое значение\"\n",
    "print(sample_var_1, sample_var_2, sample_var_3)"
   ]
  },
  {
   "cell_type": "code",
   "execution_count": null,
   "id": "50885632",
   "metadata": {},
   "outputs": [
    {
     "name": "stdout",
     "output_type": "stream",
     "text": [
      "помидоры огурцы картофель\n"
     ]
    }
   ],
   "source": [
    "# каждый элемент списка можно \"распаковать\" в переменные\n",
    "my_list: list[str] = [\"помидоры\", \"огурцы\", \"картофель\"]\n",
    "list_1: str\n",
    "list_2: str\n",
    "list_3: str\n",
    "list_1, list_2, list_3 = my_list\n",
    "print(list_1, list_2, list_3)"
   ]
  },
  {
   "cell_type": "markdown",
   "id": "89c3a860",
   "metadata": {},
   "source": [
    "### Автоматическое определение типа данных"
   ]
  },
  {
   "cell_type": "code",
   "execution_count": 20,
   "id": "6131fa4b",
   "metadata": {},
   "outputs": [],
   "source": [
    "sample_var_4: int = 256  # в этом случае переменной x присваивается тип int\n",
    "sample_var_5: float = 0.25  # y становится float (десятичной дробью)\n",
    "sample_var_6: str = \"Просто текст\"  # z становится str (строкой)"
   ]
  },
  {
   "cell_type": "markdown",
   "id": "6a6faa82",
   "metadata": {},
   "source": [
    "### Как узнать тип переменной в Питоне    "
   ]
  },
  {
   "cell_type": "code",
   "execution_count": 6,
   "id": "ac1fefe6",
   "metadata": {},
   "outputs": [
    {
     "name": "stdout",
     "output_type": "stream",
     "text": [
      "<class 'int'> <class 'float'> <class 'str'>\n"
     ]
    }
   ],
   "source": [
    "# узнаем тип переменных из предыдущего примера\n",
    "print(type(sample_var_4), type(sample_var_5), type(sample_var_6))"
   ]
  },
  {
   "cell_type": "markdown",
   "id": "6007b938",
   "metadata": {},
   "source": [
    "### Присвоение и преобразование типа данных"
   ]
  },
  {
   "cell_type": "markdown",
   "id": "f3a839d4",
   "metadata": {},
   "source": [
    "Присвоение типа данных"
   ]
  },
  {
   "cell_type": "code",
   "execution_count": null,
   "id": "67e0b27d",
   "metadata": {},
   "outputs": [],
   "source": [
    "sample_var_7: str = str(25)  # число 25 превратится в строку\n",
    "sample_var_8: int = int(25)  # число 25 останется целочисленным значением\n",
    "sample_var_9: float = float(25)  # число 25 превратится в десятичную дробь"
   ]
  },
  {
   "cell_type": "code",
   "execution_count": 8,
   "id": "a8d89167",
   "metadata": {},
   "outputs": [
    {
     "name": "stdout",
     "output_type": "stream",
     "text": [
      "<class 'str'> <class 'int'> <class 'float'>\n"
     ]
    }
   ],
   "source": [
    "print(type(sample_var_7), type(sample_var_8), type(sample_var_9))"
   ]
  },
  {
   "cell_type": "markdown",
   "id": "0c998ab2",
   "metadata": {},
   "source": [
    "Изменение типа данных"
   ]
  },
  {
   "cell_type": "code",
   "execution_count": 9,
   "id": "e1e25b31",
   "metadata": {},
   "outputs": [
    {
     "name": "stdout",
     "output_type": "stream",
     "text": [
      "<class 'int'>\n"
     ]
    }
   ],
   "source": [
    "# преобразуем строку, похожую на целое число, в целое число\n",
    "print(type(int(\"25\")))"
   ]
  },
  {
   "cell_type": "code",
   "execution_count": 10,
   "id": "bf3af318",
   "metadata": {},
   "outputs": [
    {
     "name": "stdout",
     "output_type": "stream",
     "text": [
      "<class 'float'>\n"
     ]
    }
   ],
   "source": [
    "# или строку, похожую на дробь, в настоящую десятичную дробь\n",
    "print(type(float(\"2.5\")))"
   ]
  },
  {
   "cell_type": "code",
   "execution_count": 11,
   "id": "c1fd8810",
   "metadata": {},
   "outputs": [
    {
     "name": "stdout",
     "output_type": "stream",
     "text": [
      "36\n",
      "<class 'int'>\n"
     ]
    }
   ],
   "source": [
    "# преобразуем дробь в целочисленное значение\n",
    "# обратите внимание, что округления в большую сторону\n",
    "# не происходит\n",
    "print(int(36.6))\n",
    "print(type(int(36.6)))"
   ]
  },
  {
   "cell_type": "code",
   "execution_count": 12,
   "id": "73aa3de7",
   "metadata": {},
   "outputs": [
    {
     "name": "stdout",
     "output_type": "stream",
     "text": [
      "<class 'str'>\n",
      "<class 'str'>\n"
     ]
    }
   ],
   "source": [
    "# конечно, и целое число, и дробь можно преобразовать в строку\n",
    "print(type(str(25)))\n",
    "print(type(str(36.6)))"
   ]
  },
  {
   "cell_type": "markdown",
   "id": "45c89fc4",
   "metadata": {},
   "source": [
    "### Именование переменных"
   ]
  },
  {
   "cell_type": "markdown",
   "id": "1e0a81d5",
   "metadata": {},
   "source": [
    "Допустимые имена переменных"
   ]
  },
  {
   "cell_type": "code",
   "execution_count": null,
   "id": "cdf3c987",
   "metadata": {},
   "outputs": [],
   "source": [
    "var_name: str = \"Просто переменная\"\n",
    "_variable: str = \"Просто переменная\"\n",
    "variable_: str = \"Просто переменная\"\n",
    "my_variable: str = \"Просто переменная\"\n",
    "My_variable_123: str = \"Просто переменная\""
   ]
  },
  {
   "cell_type": "markdown",
   "id": "a8b487fb",
   "metadata": {},
   "source": [
    "Имя переменной состоит из нескольких слов"
   ]
  },
  {
   "cell_type": "code",
   "execution_count": null,
   "id": "2eed38d0",
   "metadata": {},
   "outputs": [],
   "source": [
    "# можно применить так называемый верблюжий регистр, camelCase\n",
    "# все слова кроме первого начинаются с заглавной буквы и пишутся слитно\n",
    "camelCaseVariable: str = \"Верблюжий регистр\"  # noqa: N816\n",
    "\n",
    "# нотацию Паскаль, PascalCase (аналогично)\n",
    "PascalCaseVariable: str = \"Нотация Паскаль\"\n",
    "\n",
    "# змеиный стиль, snake_case (с нижними подчеркиваниями)\n",
    "snake_case_variable: str = \"Змеиная нотация\""
   ]
  },
  {
   "cell_type": "markdown",
   "id": "b87dfcd7",
   "metadata": {},
   "source": [
    "Недопустимые названия переменной"
   ]
  },
  {
   "cell_type": "code",
   "execution_count": null,
   "id": "0b951aac",
   "metadata": {},
   "outputs": [],
   "source": [
    "# my-variable: str = \"Так делать нельзя\"\n",
    "# 123variable: str = \"Так делать нельзя\"\n",
    "# my variable: str = \"Так делать нельзя\""
   ]
  },
  {
   "cell_type": "markdown",
   "id": "01c9082d",
   "metadata": {},
   "source": [
    "### Ответы на вопросы"
   ]
  },
  {
   "cell_type": "markdown",
   "id": "46a6781b",
   "metadata": {},
   "source": [
    "**Вопрос**. Как можно преобразовать список чисел таким образом, чтобы каждый элемент списка превратился в отдельную строку?"
   ]
  },
  {
   "cell_type": "code",
   "execution_count": null,
   "id": "6bdd2f9f",
   "metadata": {},
   "outputs": [],
   "source": [
    "# возьмем простой список\n",
    "list_: list[int] = [1, 2, 3]"
   ]
  },
  {
   "cell_type": "code",
   "execution_count": 14,
   "id": "3d1907ae",
   "metadata": {},
   "outputs": [
    {
     "data": {
      "text/plain": [
       "'[1, 2, 3]'"
      ]
     },
     "execution_count": 14,
     "metadata": {},
     "output_type": "execute_result"
    }
   ],
   "source": [
    "# использовать только функцию str() нельзя\n",
    "str(list_)"
   ]
  },
  {
   "cell_type": "code",
   "execution_count": null,
   "id": "d08dafab",
   "metadata": {},
   "outputs": [
    {
     "data": {
      "text/plain": [
       "['1', '2', '3']"
      ]
     },
     "execution_count": 17,
     "metadata": {},
     "output_type": "execute_result"
    }
   ],
   "source": [
    "# вариант 1: объявить новый список и в цикле for помещать туда значения\n",
    "list_str: list[str] = []\n",
    "\n",
    "for char in list_:\n",
    "    list_str.append(str(char))\n",
    "\n",
    "list_str"
   ]
  },
  {
   "cell_type": "code",
   "execution_count": null,
   "id": "17751fc8",
   "metadata": {},
   "outputs": [],
   "source": [
    "# вариант 2: использовать list comprehension\n",
    "result_list_1: list[str] = [str(item) for item in list_]"
   ]
  },
  {
   "cell_type": "code",
   "execution_count": null,
   "id": "dd327d24",
   "metadata": {},
   "outputs": [],
   "source": [
    "# вариант 3: функции map() и list()\n",
    "result_list_2: list[str] = list(map(str, list_))"
   ]
  }
 ],
 "metadata": {
  "kernelspec": {
   "display_name": "base",
   "language": "python",
   "name": "python3"
  },
  "language_info": {
   "codemirror_mode": {
    "name": "ipython",
    "version": 3
   },
   "file_extension": ".py",
   "mimetype": "text/x-python",
   "name": "python",
   "nbconvert_exporter": "python",
   "pygments_lexer": "ipython3",
   "version": "3.12.7"
  }
 },
 "nbformat": 4,
 "nbformat_minor": 5
}
