{
 "cells": [
  {
   "cell_type": "code",
   "execution_count": null,
   "id": "d66c87a4",
   "metadata": {},
   "outputs": [],
   "source": [
    "\"\"\"Working with files in Google Colab.\"\"\""
   ]
  },
  {
   "cell_type": "markdown",
   "id": "4b747804",
   "metadata": {},
   "source": [
    "## Работа с файлами в Google Colab"
   ]
  },
  {
   "cell_type": "markdown",
   "id": "48966b80",
   "metadata": {},
   "source": [
    "### Этап 1. Подгрузка файлов"
   ]
  },
  {
   "cell_type": "markdown",
   "id": "f899ff54",
   "metadata": {},
   "source": [
    "Способ 1. Вручную через вкладку 'Файлы'"
   ]
  },
  {
   "cell_type": "code",
   "execution_count": null,
   "id": "d5d97788",
   "metadata": {},
   "outputs": [],
   "source": [
    "# см. материалы урока на сайте"
   ]
  },
  {
   "cell_type": "markdown",
   "id": "903187f4",
   "metadata": {},
   "source": [
    "Способ 2. Через модуль files библиотеки google.colab"
   ]
  },
  {
   "cell_type": "code",
   "execution_count": null,
   "id": "51ab009f",
   "metadata": {},
   "outputs": [],
   "source": [
    "# выполняем все необходимы импорты\n",
    "import os\n",
    "\n",
    "import pandas as pd\n",
    "from google.colab import files"
   ]
  },
  {
   "cell_type": "code",
   "execution_count": null,
   "id": "c93d609b",
   "metadata": {},
   "outputs": [],
   "source": [
    "# создаем объект этого класса, применяем метод .upload()\n",
    "uploaded: dict[str, bytes] = files.upload()"
   ]
  },
  {
   "cell_type": "code",
   "execution_count": null,
   "id": "7fe321f0",
   "metadata": {},
   "outputs": [],
   "source": [
    "# посмотрим на содержимое словаря uploaded\n",
    "# uploaded"
   ]
  },
  {
   "cell_type": "markdown",
   "id": "8e34cbef",
   "metadata": {},
   "source": [
    "### Этап 2. Чтение файлов"
   ]
  },
  {
   "cell_type": "markdown",
   "id": "5eacdb7e",
   "metadata": {},
   "source": [
    "#### Просмотр содержимого папки /content/"
   ]
  },
  {
   "cell_type": "markdown",
   "id": "2c547730",
   "metadata": {},
   "source": [
    "##### Модуль os и метод .walk()"
   ]
  },
  {
   "cell_type": "code",
   "execution_count": null,
   "id": "d8ebdcf2",
   "metadata": {},
   "outputs": [],
   "source": [
    "# выводим пути к папкам (dirpath) и наименования файлов (filenames)\n",
    "# и после этого\n",
    "for dirpath, _, filenames in os.walk(\"/content/\"):\n",
    "\n",
    "    # во вложенном цикле проходимся по названиям файлов\n",
    "    for filename in filenames:\n",
    "\n",
    "        # и соединяем путь до папок и входящие в эти папки файлы\n",
    "        # с помощью метода path.join()\n",
    "        print(os.path.join(dirpath, filename))"
   ]
  },
  {
   "cell_type": "markdown",
   "id": "012fe9ea",
   "metadata": {},
   "source": [
    "##### Команда `!ls`"
   ]
  },
  {
   "cell_type": "code",
   "execution_count": null,
   "id": "36116040",
   "metadata": {},
   "outputs": [],
   "source": [
    "# посмотрим на содержимое папки content\n",
    "!ls"
   ]
  },
  {
   "cell_type": "code",
   "execution_count": null,
   "id": "4c854f92",
   "metadata": {},
   "outputs": [],
   "source": [
    "# заглянем внутрь sample_data\n",
    "!ls /content/sample_data/"
   ]
  },
  {
   "cell_type": "markdown",
   "id": "60f17726",
   "metadata": {},
   "source": [
    "#### Чтение из переменной uploaded"
   ]
  },
  {
   "cell_type": "code",
   "execution_count": null,
   "id": "76369878",
   "metadata": {},
   "outputs": [],
   "source": [
    "# посмотрим на тип значений словаря uploaded\n",
    "type(uploaded[\"test.csv\"])"
   ]
  },
  {
   "cell_type": "markdown",
   "id": "ac39c91d",
   "metadata": {},
   "source": [
    "Пример работы с объектом bytes      "
   ]
  },
  {
   "cell_type": "code",
   "execution_count": null,
   "id": "226d621c",
   "metadata": {},
   "outputs": [],
   "source": [
    "# обратимся к ключу словаря uploaded и применим метод .decode()\n",
    "uploaded_str: str = uploaded[\"test.csv\"].decode()\n",
    "\n",
    "# на выходе получаем обычную строку\n",
    "print(type(uploaded_str))"
   ]
  },
  {
   "cell_type": "code",
   "execution_count": null,
   "id": "9e36fb2b",
   "metadata": {},
   "outputs": [],
   "source": [
    "# выведем первые 35 значений\n",
    "print(uploaded_str[:35])"
   ]
  },
  {
   "cell_type": "code",
   "execution_count": null,
   "id": "7c66e7a6",
   "metadata": {},
   "outputs": [],
   "source": [
    "# если разбить строку методом .split() по символам \\r\n",
    "# (возврат к началу строки) и \\n (новая строка)\n",
    "uploaded_list: list[str] = uploaded_str.split(\"\\r\\n\")\n",
    "\n",
    "# на выходе мы получим список\n",
    "type(uploaded_list)"
   ]
  },
  {
   "cell_type": "code",
   "execution_count": null,
   "id": "7dec503a",
   "metadata": {},
   "outputs": [],
   "source": [
    "# пройдемся по этому списку, не забыв создать индекс\n",
    "# с помощью функции enumerate()\n",
    "for i, line in enumerate(uploaded_list):\n",
    "\n",
    "    # начнем выводить записи\n",
    "    print(line)\n",
    "\n",
    "    # когда дойдем до четвертой строки\n",
    "    if i == 3:\n",
    "\n",
    "        # прервемся\n",
    "        break"
   ]
  },
  {
   "cell_type": "markdown",
   "id": "d20ab1ca",
   "metadata": {},
   "source": [
    "#### Использование функции open() и конструкции with open()"
   ]
  },
  {
   "cell_type": "code",
   "execution_count": null,
   "id": "165b8e49",
   "metadata": {},
   "outputs": [],
   "source": [
    "# передадим функции open() адрес файла\n",
    "# параметр 'r' означает, что мы хотим прочитать (read) файл\n",
    "# f1: TextIO = open(\"/content/train.csv\")\n",
    "\n",
    "# метод .read() помещает весь файл в одну строку\n",
    "# выведем первые 142 символа (если параметр не указывать,\n",
    "# выведется все содержимое)\n",
    "# print(f1.read(142))\n",
    "\n",
    "# в конце файл необходимо закрыть\n",
    "# f1.close()\n",
    "\n",
    "# учитывая требования линтеров код был скорретирован\n",
    "# следующим образом:\n",
    "with open(\"file.txt\", encoding=\"utf-8\") as f1:\n",
    "    data = f1.read()"
   ]
  },
  {
   "cell_type": "code",
   "execution_count": null,
   "id": "b39256ea",
   "metadata": {},
   "outputs": [],
   "source": [
    "# снова откроем файл\n",
    "# f2: TextIO = open(\"/content/train.csv\")\n",
    "with open(\"/content/train.csv\", encoding=\"utf-8\") as f2:\n",
    "\n",
    "    # пройдемся по нашему объекту в цикле for и параллельно создадим индекс\n",
    "    for i, line in enumerate(f2):\n",
    "\n",
    "        # выведем строки без служебных символов по краям\n",
    "        print(line.strip())\n",
    "\n",
    "        # дойдя до четвертой строки, прервемся\n",
    "        if i == 3:\n",
    "            break\n",
    "\n",
    "# не забудем закрыть файл\n",
    "# f2.close()"
   ]
  },
  {
   "cell_type": "code",
   "execution_count": null,
   "id": "0d3334d3",
   "metadata": {},
   "outputs": [],
   "source": [
    "# скажем Питону: \"открой файл  и назови его f3\"\n",
    "with open(\"/content/test.csv\", encoding=\"utf-8\") as f3:\n",
    "\n",
    "    # \"пройдись по строкам без служебных символов\"\n",
    "    for i, line in enumerate(f3):\n",
    "        print(line.strip())\n",
    "\n",
    "        # и \"прервись на четвертой строке\"\n",
    "        if i == 3:\n",
    "            break"
   ]
  },
  {
   "cell_type": "markdown",
   "id": "868de4dc",
   "metadata": {},
   "source": [
    "#### Чтение через библиотеку Pandas"
   ]
  },
  {
   "cell_type": "code",
   "execution_count": null,
   "id": "da7acf11",
   "metadata": {},
   "outputs": [],
   "source": [
    "# применим функцию read_csv() и посмотрим\n",
    "# на первые три записи файла train.csv\n",
    "train: pd.DataFrame = pd.read_csv(\"/content/train.csv\")\n",
    "train.head(3)"
   ]
  },
  {
   "cell_type": "code",
   "execution_count": null,
   "id": "04a1bf5e",
   "metadata": {},
   "outputs": [],
   "source": [
    "# сделаем то же самое с файлом test.csv\n",
    "test: pd.DataFrame = pd.read_csv(\"/content/test.csv\")\n",
    "test.head(3)"
   ]
  },
  {
   "cell_type": "markdown",
   "id": "f53ed347",
   "metadata": {},
   "source": [
    "### Этап 4. Сохранение нового файла на сервере Google"
   ]
  },
  {
   "cell_type": "markdown",
   "id": "02498f67",
   "metadata": {},
   "source": [
    "Пример оформления результата"
   ]
  },
  {
   "cell_type": "code",
   "execution_count": null,
   "id": "7c3fd6cc",
   "metadata": {},
   "outputs": [],
   "source": [
    "# файл с примером можно загрузить не с локального компьютера, а из Интернета\n",
    "host = \"https://www.dmitrymakarov.ru/\"\n",
    "url = host + \"wp-content/uploads/2021/11/titanic_example.csv\"\n",
    "\n",
    "# просто поместим его url в функцию read_csv()\n",
    "example = pd.read_csv(url)\n",
    "example.head(3)"
   ]
  },
  {
   "cell_type": "markdown",
   "id": "0161bfc5",
   "metadata": {},
   "source": [
    "Создание файла с прогнозом"
   ]
  },
  {
   "cell_type": "code",
   "execution_count": null,
   "id": "f88e3d6e",
   "metadata": {},
   "outputs": [],
   "source": [
    "# возьмем индекс пассажиров из столбца PassengerId тестовой выборки\n",
    "ids = test[\"PassengerId\"]\n",
    "\n",
    "# создадим датафрейм из словаря, в котором\n",
    "# первая пара ключа и значения - это id пассажира, вторая -\n",
    "# прогноз \"на тесте\"\n",
    "# result = pd.DataFrame({\"PassengerId\": ids, \"Survived\": y_pred_test})\n",
    "\n",
    "# посмотрим, что получилось\n",
    "# result.head()"
   ]
  },
  {
   "cell_type": "code",
   "execution_count": null,
   "id": "dc7b1c3a",
   "metadata": {},
   "outputs": [],
   "source": [
    "# создадим новый файл result.csv с помощью to_csv(), удалив при этом индекс\n",
    "# result.to_csv('result.csv', index = False)\n",
    "\n",
    "# файл будет сохранен и, если все пройдет успешно, выведем следующий текст:\n",
    "print(\"Файл успешно сохранился в сессионное хранилище!\")"
   ]
  },
  {
   "cell_type": "markdown",
   "id": "a2e0d82c",
   "metadata": {},
   "source": [
    "### Этап 5. Скачивание обратно на жесткий диск"
   ]
  },
  {
   "cell_type": "code",
   "execution_count": null,
   "id": "2153809c",
   "metadata": {},
   "outputs": [],
   "source": [
    "# применим метод .download() объекта files\n",
    "files.download(\"/content/result.csv\")"
   ]
  }
 ],
 "metadata": {
  "kernelspec": {
   "display_name": "base",
   "language": "python",
   "name": "python3"
  },
  "language_info": {
   "codemirror_mode": {
    "name": "ipython",
    "version": 3
   },
   "file_extension": ".py",
   "mimetype": "text/x-python",
   "name": "python",
   "nbconvert_exporter": "python",
   "pygments_lexer": "ipython3",
   "version": "3.12.7"
  }
 },
 "nbformat": 4,
 "nbformat_minor": 5
}
