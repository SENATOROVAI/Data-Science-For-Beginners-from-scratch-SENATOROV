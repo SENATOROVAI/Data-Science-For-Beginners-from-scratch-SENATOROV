{
 "cells": [
  {
   "cell_type": "code",
   "execution_count": null,
   "id": "3db18643",
   "metadata": {},
   "outputs": [],
   "source": [
    "\"\"\"Nested loops.\"\"\""
   ]
  },
  {
   "cell_type": "code",
   "execution_count": null,
   "id": "a65803a5",
   "metadata": {},
   "outputs": [
    {
     "name": "stdout",
     "output_type": "stream",
     "text": [
      "1 2 3 4 5 6 7 \n",
      "2 4 6 8 10 12 14 \n",
      "3 6 9 12 15 18 21 \n",
      "4 8 12 16 20 24 28 \n",
      "5 10 15 20 25 30 35 \n",
      "6 12 18 24 30 36 42 \n",
      "7 14 21 28 35 42 49 \n"
     ]
    }
   ],
   "source": [
    "# 1\n",
    "\n",
    "table_size_1: int = int(input())\n",
    "\n",
    "for row_number in range(table_size_1):\n",
    "    for column_number in range(table_size_1):\n",
    "        print((row_number + 1) * (column_number + 1), end=\" \")\n",
    "    print()"
   ]
  },
  {
   "cell_type": "code",
   "execution_count": null,
   "id": "4367610f",
   "metadata": {},
   "outputs": [
    {
     "name": "stdout",
     "output_type": "stream",
     "text": [
      "1 * 1 = 1\n",
      "2 * 1 = 2\n",
      "3 * 1 = 3\n",
      "1 * 2 = 2\n",
      "2 * 2 = 4\n",
      "3 * 2 = 6\n",
      "1 * 3 = 3\n",
      "2 * 3 = 6\n",
      "3 * 3 = 9\n"
     ]
    }
   ],
   "source": [
    "# 2\n",
    "\n",
    "initial_size: int = int(input())\n",
    "\n",
    "for multiplicand in range(1, initial_size + 1):\n",
    "    for multiplier in range(1, initial_size + 1):\n",
    "        print(f\"{multiplier} * {multiplicand} = {multiplicand * multiplier}\")"
   ]
  },
  {
   "cell_type": "code",
   "execution_count": null,
   "id": "c471da95",
   "metadata": {},
   "outputs": [
    {
     "name": "stdout",
     "output_type": "stream",
     "text": [
      "1 \n",
      "2 3 \n",
      "4 5 6 \n",
      "7 8 9 10 \n",
      "11 12 "
     ]
    }
   ],
   "source": [
    "# 3\n",
    "\n",
    "finish: int = int(input())\n",
    "\n",
    "limit: int = 1\n",
    "current: int = 0\n",
    "\n",
    "for i in range(finish):\n",
    "    current += 1\n",
    "    print(i + 1, end=\" \")\n",
    "    if current == limit:\n",
    "        print()\n",
    "        limit += 1\n",
    "        current = 0"
   ]
  },
  {
   "cell_type": "code",
   "execution_count": null,
   "id": "d17813fa",
   "metadata": {},
   "outputs": [
    {
     "name": "stdout",
     "output_type": "stream",
     "text": [
      "26\n"
     ]
    }
   ],
   "source": [
    "# 4\n",
    "\n",
    "tally_1: int = int(input())\n",
    "\n",
    "summa: int = 0\n",
    "\n",
    "for _ in range(tally_1):\n",
    "    number_1: int = int(input())\n",
    "    while number_1 > 0:\n",
    "        summa += number_1 % 10\n",
    "        number_1 //= 10\n",
    "\n",
    "print(summa)"
   ]
  },
  {
   "cell_type": "code",
   "execution_count": null,
   "id": "7b33095f",
   "metadata": {},
   "outputs": [
    {
     "name": "stdout",
     "output_type": "stream",
     "text": [
      "2\n"
     ]
    }
   ],
   "source": [
    "# 5\n",
    "\n",
    "natures: int = int(input())\n",
    "\n",
    "bunnies: int = 0\n",
    "\n",
    "for _ in range(natures):\n",
    "    debited: bool = False\n",
    "    string: str\n",
    "    while (string := input()) != \"ВСЁ\":\n",
    "        if string == \"зайка\" and debited is False:\n",
    "            bunnies = bunnies + 1\n",
    "            debited = True\n",
    "\n",
    "print(bunnies)"
   ]
  },
  {
   "cell_type": "code",
   "execution_count": null,
   "id": "518724b9",
   "metadata": {},
   "outputs": [
    {
     "name": "stdout",
     "output_type": "stream",
     "text": [
      "1\n"
     ]
    }
   ],
   "source": [
    "# 6\n",
    "\n",
    "tally_2: int = int(input())\n",
    "\n",
    "gcd_value: int = int(input())\n",
    "\n",
    "for _ in range(tally_2 - 1):\n",
    "    number_2: int = int(input())\n",
    "    while number_2 != 0:\n",
    "        gcd_value, number_2 = number_2, gcd_value % number_2\n",
    "\n",
    "print(gcd_value)"
   ]
  },
  {
   "cell_type": "code",
   "execution_count": null,
   "id": "622e5aef",
   "metadata": {},
   "outputs": [
    {
     "name": "stdout",
     "output_type": "stream",
     "text": [
      "До старта 3 секунд(ы)\n",
      "До старта 2 секунд(ы)\n",
      "До старта 1 секунд(ы)\n",
      "Старт 1!!!\n",
      "До старта 4 секунд(ы)\n",
      "До старта 3 секунд(ы)\n",
      "До старта 2 секунд(ы)\n",
      "До старта 1 секунд(ы)\n",
      "Старт 2!!!\n"
     ]
    }
   ],
   "source": [
    "# 7\n",
    "\n",
    "tally_3: int = int(input())\n",
    "\n",
    "base: int = 3\n",
    "\n",
    "for number_3 in range(tally_3):\n",
    "    for delay in range(base + number_3, 0, -1):\n",
    "        print(f\"До старта {delay} секунд(ы)\")\n",
    "    print(f\"Старт {number_3 + 1}!!!\")"
   ]
  },
  {
   "cell_type": "code",
   "execution_count": null,
   "id": "8235cd03",
   "metadata": {},
   "outputs": [
    {
     "name": "stdout",
     "output_type": "stream",
     "text": [
      "Денис\n"
     ]
    }
   ],
   "source": [
    "# 8\n",
    "\n",
    "entries_count: int = int(input())\n",
    "\n",
    "name_with_max_digit_sum: str = \"\"\n",
    "max_digit_sum_1: int = 0\n",
    "\n",
    "for _ in range(entries_count):\n",
    "    current_name: str = input()\n",
    "    current_number_1: int = int(input())\n",
    "\n",
    "    digit_sum_1: int = 0\n",
    "    while current_number_1 > 0:\n",
    "        digit_sum_1 += current_number_1 % 10\n",
    "        current_number_1 //= 10\n",
    "\n",
    "    if digit_sum_1 >= max_digit_sum_1:\n",
    "        max_digit_sum_1 = digit_sum_1\n",
    "        name_with_max_digit_sum = current_name\n",
    "\n",
    "print(name_with_max_digit_sum)"
   ]
  },
  {
   "cell_type": "code",
   "execution_count": null,
   "id": "8264f6bb",
   "metadata": {},
   "outputs": [
    {
     "name": "stdout",
     "output_type": "stream",
     "text": [
      "46\n"
     ]
    }
   ],
   "source": [
    "# 9\n",
    "\n",
    "count: int = int(input())\n",
    "\n",
    "result: int = 0\n",
    "\n",
    "for _ in range(count):\n",
    "    number_4: int = int(input())\n",
    "    max_digit: int = int(max(str(number_4)))\n",
    "    result = result * 10 + max_digit\n",
    "print(result)"
   ]
  },
  {
   "cell_type": "code",
   "execution_count": null,
   "id": "dc42e996",
   "metadata": {},
   "outputs": [
    {
     "name": "stdout",
     "output_type": "stream",
     "text": [
      "А Б В\n",
      "1 1 1\n"
     ]
    }
   ],
   "source": [
    "# 10\n",
    "\n",
    "slices: int = int(input())\n",
    "\n",
    "print(\"А Б В\")\n",
    "for a_var in range(1, slices - 1):\n",
    "    for b_var in range(1, slices - a_var):\n",
    "        c_var: int = slices - a_var - b_var\n",
    "        print(a_var, b_var, c_var)"
   ]
  },
  {
   "cell_type": "code",
   "execution_count": null,
   "id": "1d4771e4",
   "metadata": {},
   "outputs": [
    {
     "name": "stdout",
     "output_type": "stream",
     "text": [
      "3\n"
     ]
    }
   ],
   "source": [
    "# 11\n",
    "\n",
    "total_numbers: int = int(input())\n",
    "\n",
    "prime_count: int = 0\n",
    "\n",
    "for _ in range(total_numbers):\n",
    "    candidate: int = int(input())\n",
    "\n",
    "    if candidate > 1:\n",
    "        is_prime: bool = True\n",
    "        divisor: int = 2\n",
    "\n",
    "        while divisor <= int(candidate**0.5) and is_prime:\n",
    "            if candidate % divisor == 0:\n",
    "                is_prime = False\n",
    "            else:\n",
    "                divisor += 1\n",
    "\n",
    "        if is_prime:\n",
    "            prime_count += 1\n",
    "\n",
    "print(prime_count)"
   ]
  },
  {
   "cell_type": "code",
   "execution_count": null,
   "id": "b87f0825",
   "metadata": {},
   "outputs": [
    {
     "name": "stdout",
     "output_type": "stream",
     "text": [
      "1 2 3 4 \n",
      "5 6 7 8 \n"
     ]
    }
   ],
   "source": [
    "# 12\n",
    "\n",
    "num_rows_1: int = int(input())\n",
    "num_columns_1: int = int(input())\n",
    "\n",
    "cell_width_1: int = len(str(num_rows_1 * num_columns_1))\n",
    "\n",
    "current_number_2: int = 1\n",
    "for _ in range(num_rows_1):\n",
    "    for _ in range(num_columns_1):\n",
    "        print(f\"{current_number_2:>{cell_width_1}}\", end=\" \")\n",
    "        current_number_2 += 1\n",
    "    print()"
   ]
  },
  {
   "cell_type": "code",
   "execution_count": null,
   "id": "1ef237f8",
   "metadata": {},
   "outputs": [
    {
     "name": "stdout",
     "output_type": "stream",
     "text": [
      " 1  3  5  7  9 \n",
      " 2  4  6  8 10 \n"
     ]
    }
   ],
   "source": [
    "# 13\n",
    "\n",
    "height_1: int = int(input())\n",
    "width_1: int = int(input())\n",
    "\n",
    "cell_width_2: int = len(str(width_1 * height_1))\n",
    "\n",
    "number_5: int = 1\n",
    "for row in range(height_1):\n",
    "    number_5 = row + 1\n",
    "    for _ in range(width_1):\n",
    "        print(f\"{number_5:>{cell_width_2}}\", end=\" \")\n",
    "        number_5 += height_1\n",
    "    print()"
   ]
  },
  {
   "cell_type": "code",
   "execution_count": null,
   "id": "4de75090",
   "metadata": {},
   "outputs": [
    {
     "name": "stdout",
     "output_type": "stream",
     "text": [
      "1 2 3 \n",
      "6 5 4 \n"
     ]
    }
   ],
   "source": [
    "# 14\n",
    "\n",
    "num_rows_2: int = int(input())\n",
    "num_columns_2: int = int(input())\n",
    "\n",
    "cell_width_3: int = len(str(num_rows_2 * num_columns_2))\n",
    "\n",
    "if num_rows_2 > 0 and num_columns_2 > 0:\n",
    "    for row_index in range(num_rows_2):\n",
    "        for col_index in range(num_columns_2):\n",
    "            value_1: int\n",
    "            if (row_index % 2) == 0:\n",
    "                value_1 = row_index * num_columns_2 + col_index + 1\n",
    "            else:\n",
    "                value_1 = (row_index + 1) * num_columns_2 - col_index\n",
    "            print(f\"{value_1:>{cell_width_3}}\", end=\" \")\n",
    "        print()"
   ]
  },
  {
   "cell_type": "code",
   "execution_count": null,
   "id": "7e032791",
   "metadata": {},
   "outputs": [
    {
     "name": "stdout",
     "output_type": "stream",
     "text": [
      "1 4 5 \n",
      "2 3 6 \n"
     ]
    }
   ],
   "source": [
    "# 15\n",
    "\n",
    "height_2: int = int(input())\n",
    "width_2: int = int(input())\n",
    "\n",
    "ceil_width_4: int = len(str(width_2 * height_2))\n",
    "\n",
    "for row in range(height_2):\n",
    "    for column in range(width_2):\n",
    "        num: int\n",
    "        if column % 2 == 0:\n",
    "            num = column * height_2 + row + 1\n",
    "        else:\n",
    "            num = (column + 1) * height_2 - row\n",
    "        print(f\"{num:>{ceil_width_4}}\", end=\" \")\n",
    "    print()"
   ]
  },
  {
   "cell_type": "code",
   "execution_count": null,
   "id": "4195365f",
   "metadata": {},
   "outputs": [
    {
     "name": "stdout",
     "output_type": "stream",
     "text": [
      "  1  |  2  |  3  \n",
      "-----------------\n",
      "  2  |  4  |  6  \n",
      "-----------------\n",
      "  3  |  6  |  9  \n"
     ]
    }
   ],
   "source": [
    "# 16\n",
    "\n",
    "table_size_2: int = int(input())\n",
    "cell_width_5: int = int(input())\n",
    "\n",
    "row_length: int = table_size_2 * cell_width_5 + (table_size_2 - 1)\n",
    "\n",
    "for row_index in range(table_size_2):\n",
    "    for col_index in range(table_size_2):\n",
    "        cell_value: int = (row_index + 1) * (col_index + 1)\n",
    "        print(f\"{cell_value:^{cell_width_5}}\", end=\"\")\n",
    "\n",
    "        if col_index != table_size_2 - 1:\n",
    "            print(\"|\", end=\"\")\n",
    "    print()\n",
    "\n",
    "    if row_index != table_size_2 - 1:\n",
    "        print(\"-\" * row_length)"
   ]
  },
  {
   "cell_type": "code",
   "execution_count": null,
   "id": "2c852af9",
   "metadata": {},
   "outputs": [
    {
     "name": "stdout",
     "output_type": "stream",
     "text": [
      "5\n"
     ]
    }
   ],
   "source": [
    "# 17\n",
    "\n",
    "palindrome_count: int = 0\n",
    "\n",
    "for _ in range(int(input())):\n",
    "    current_number_3: int = int(input())\n",
    "    original_number: int = current_number_3\n",
    "    reversed_number: int = 0\n",
    "\n",
    "    while current_number_3 > 0:\n",
    "        last_digit: int = current_number_3 % 10\n",
    "        reversed_number = reversed_number * 10 + last_digit\n",
    "        current_number_3 //= 10\n",
    "\n",
    "    if original_number == reversed_number:\n",
    "        palindrome_count += 1\n",
    "\n",
    "print(palindrome_count)"
   ]
  },
  {
   "cell_type": "code",
   "execution_count": null,
   "id": "955340db",
   "metadata": {},
   "outputs": [
    {
     "name": "stdout",
     "output_type": "stream",
     "text": [
      "  1  \n",
      " 2 3 \n",
      "4 5 6\n",
      "     \n"
     ]
    }
   ],
   "source": [
    "# 18\n",
    "\n",
    "limit_value: int = int(input())\n",
    "\n",
    "current_number_4: int = 0\n",
    "row_width: int = 1\n",
    "max_row_length: int = 0\n",
    "\n",
    "while current_number_4 <= limit_value:\n",
    "    current_row_length: int = 0\n",
    "\n",
    "    for position_in_row in range(row_width):\n",
    "        current_number_4 += 1\n",
    "\n",
    "        if current_number_4 <= limit_value:\n",
    "            current_row_length += len(str(current_number_4))\n",
    "\n",
    "        if position_in_row < row_width - 1 and current_number_4 < limit_value:\n",
    "            current_row_length += 1\n",
    "\n",
    "    max_row_length = max(max_row_length, current_row_length)\n",
    "    row_width += 1\n",
    "\n",
    "current_number_4 = 0\n",
    "row_width = 1\n",
    "\n",
    "while current_number_4 <= limit_value:\n",
    "    row_string = \"\"\n",
    "\n",
    "    for position_in_row in range(row_width):\n",
    "        current_number_4 += 1\n",
    "\n",
    "        if current_number_4 <= limit_value:\n",
    "            row_string += str(current_number_4)\n",
    "\n",
    "        if position_in_row < row_width - 1 and current_number_4 < limit_value:\n",
    "            row_string += \" \"\n",
    "\n",
    "    print(f\"{row_string:^{max_row_length}}\")\n",
    "    row_width += 1"
   ]
  },
  {
   "cell_type": "code",
   "execution_count": null,
   "id": "2d6e8a90",
   "metadata": {},
   "outputs": [
    {
     "name": "stdout",
     "output_type": "stream",
     "text": [
      "1 1 1\n",
      "1 2 1\n",
      "1 1 1\n"
     ]
    }
   ],
   "source": [
    "# 19\n",
    "\n",
    "matrix_size: int = int(input())\n",
    "\n",
    "cell_width_6: int = len(str((matrix_size + 1) // 2))\n",
    "\n",
    "output_lines: list[str] = []\n",
    "\n",
    "for row_index in range(matrix_size):\n",
    "    current_row: list[str] = []\n",
    "    for column_index in range(matrix_size):\n",
    "        value_2: int = min(\n",
    "            row_index + 1,\n",
    "            column_index + 1,\n",
    "            matrix_size - row_index,\n",
    "            matrix_size - column_index,\n",
    "        )\n",
    "        current_row.append(f\"{value_2:>{cell_width_6}}\")\n",
    "    output_lines.append(\" \".join(current_row))\n",
    "\n",
    "for line in output_lines:\n",
    "    print(line)"
   ]
  },
  {
   "cell_type": "code",
   "execution_count": null,
   "id": "31a9e6bc",
   "metadata": {},
   "outputs": [
    {
     "name": "stdout",
     "output_type": "stream",
     "text": [
      "6\n"
     ]
    }
   ],
   "source": [
    "# 20\n",
    "\n",
    "decimal_number: int = int(input())\n",
    "\n",
    "max_digit_sum_2: int = 0\n",
    "optimal_base: int = 0\n",
    "\n",
    "for base in range(10, 1, -1):\n",
    "    digit_sum_2: int = 0\n",
    "    temp_number: int = decimal_number\n",
    "    while temp_number > 0:\n",
    "        digit_sum_2 += temp_number % base\n",
    "        temp_number //= base\n",
    "    if digit_sum_2 >= max_digit_sum_2:\n",
    "        max_digit_sum_2 = digit_sum_2\n",
    "        optimal_base = base\n",
    "\n",
    "print(optimal_base)"
   ]
  }
 ],
 "metadata": {
  "kernelspec": {
   "display_name": "base",
   "language": "python",
   "name": "python3"
  },
  "language_info": {
   "codemirror_mode": {
    "name": "ipython",
    "version": 3
   },
   "file_extension": ".py",
   "mimetype": "text/x-python",
   "name": "python",
   "nbconvert_exporter": "python",
   "pygments_lexer": "ipython3",
   "version": "3.12.7"
  }
 },
 "nbformat": 4,
 "nbformat_minor": 5
}
