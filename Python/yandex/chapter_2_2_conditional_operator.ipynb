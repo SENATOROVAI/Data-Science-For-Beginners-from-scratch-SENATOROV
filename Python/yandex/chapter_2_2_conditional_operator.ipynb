{
 "cells": [
  {
   "cell_type": "code",
   "execution_count": null,
   "id": "7157cb74",
   "metadata": {},
   "outputs": [],
   "source": [
    "\"\"\"Conditional operator.\"\"\""
   ]
  },
  {
   "cell_type": "code",
   "execution_count": null,
   "id": "56d6b78a",
   "metadata": {},
   "outputs": [
    {
     "name": "stdout",
     "output_type": "stream",
     "text": [
      "Здравствуйте, Руслан!\n",
      "Я за вас рада!\n"
     ]
    }
   ],
   "source": [
    "# 1\n",
    "import math\n",
    "\n",
    "username: str = input(\"Как Вас зовут?\\n\")\n",
    "print(f\"Здравствуйте, {username}!\")\n",
    "response: str = input(\"Как дела?\\n\")\n",
    "\n",
    "if response == \"хорошо\":\n",
    "    print(\"Я за вас рада!\")\n",
    "else:\n",
    "    print(\"Всё наладится!\")"
   ]
  },
  {
   "cell_type": "code",
   "execution_count": 2,
   "id": "b664ffe0",
   "metadata": {},
   "outputs": [
    {
     "name": "stdout",
     "output_type": "stream",
     "text": [
      "Петя\n"
     ]
    }
   ],
   "source": [
    "# 2\n",
    "\n",
    "route_length: int = 43872\n",
    "\n",
    "first_competitor_avg_speed: int = int(input())\n",
    "second_competitor_avg_speed: int = int(input())\n",
    "\n",
    "if first_competitor_avg_speed > second_competitor_avg_speed:\n",
    "    print(\"Петя\")\n",
    "else:\n",
    "    print(\"Вася\")"
   ]
  },
  {
   "cell_type": "code",
   "execution_count": 4,
   "id": "3817c9fa",
   "metadata": {},
   "outputs": [
    {
     "name": "stdout",
     "output_type": "stream",
     "text": [
      "Толя\n"
     ]
    }
   ],
   "source": [
    "# 3\n",
    "\n",
    "petya_speed: float = float(input())\n",
    "vasya_speed: float = float(input())\n",
    "tolya_speed: float = float(input())\n",
    "\n",
    "if petya_speed > vasya_speed and petya_speed > tolya_speed:\n",
    "    print(\"Петя\")\n",
    "elif vasya_speed > petya_speed and vasya_speed > tolya_speed:\n",
    "    print(\"Вася\")\n",
    "else:\n",
    "    print(\"Толя\")"
   ]
  },
  {
   "cell_type": "code",
   "execution_count": null,
   "id": "83649738",
   "metadata": {},
   "outputs": [
    {
     "name": "stdout",
     "output_type": "stream",
     "text": [
      "1. Вася\n",
      "2. Петя\n",
      "3. Толя\n"
     ]
    }
   ],
   "source": [
    "# 4\n",
    "\n",
    "bike_path_length: int = 43872\n",
    "\n",
    "first_comp_name: str = \"Петя\"\n",
    "first_comp_speed = float(input())\n",
    "\n",
    "second_comp_name: str = \"Вася\"\n",
    "second_comp_speed = float(input())\n",
    "\n",
    "third_comp_name: str = \"Толя\"\n",
    "third_comp_speed = float(input())\n",
    "\n",
    "if first_comp_speed < second_comp_speed:\n",
    "    first_comp_speed, second_comp_speed = second_comp_speed, first_comp_speed\n",
    "    first_comp_name, second_comp_name = second_comp_name, first_comp_name\n",
    "\n",
    "if second_comp_speed < third_comp_speed:\n",
    "    second_comp_speed, third_comp_speed = third_comp_speed, second_comp_speed\n",
    "    second_comp_name, third_comp_name = third_comp_name, second_comp_name\n",
    "\n",
    "if first_comp_speed < second_comp_speed:\n",
    "    first_comp_speed, second_comp_speed = second_comp_speed, first_comp_speed\n",
    "    first_comp_name, second_comp_name = second_comp_name, first_comp_name\n",
    "\n",
    "print(f\"1. {first_comp_name}\")\n",
    "print(f\"2. {second_comp_name}\")\n",
    "print(f\"3. {third_comp_name}\")"
   ]
  },
  {
   "cell_type": "code",
   "execution_count": 13,
   "id": "59f55de2",
   "metadata": {},
   "outputs": [
    {
     "name": "stdout",
     "output_type": "stream",
     "text": [
      "Петя\n"
     ]
    }
   ],
   "source": [
    "# 5\n",
    "\n",
    "petya_num_apples: int = 7\n",
    "vasya_num_apples: int = 6\n",
    "tolya_num_apples: int = 0\n",
    "\n",
    "N_gain: int = int(input())\n",
    "M_gain: int = int(input())\n",
    "\n",
    "vasya_num_apples += 3\n",
    "petya_num_apples -= 3\n",
    "\n",
    "petya_num_apples += 2\n",
    "tolya_num_apples -= 2\n",
    "\n",
    "vasya_num_apples += 5\n",
    "tolya_num_apples -= 5\n",
    "\n",
    "vasya_num_apples -= 2\n",
    "\n",
    "petya_num_apples += N_gain\n",
    "vasya_num_apples += M_gain\n",
    "\n",
    "if petya_num_apples > vasya_num_apples:\n",
    "    print(\"Петя\")\n",
    "else:\n",
    "    print(\"Вася\")"
   ]
  },
  {
   "cell_type": "code",
   "execution_count": 14,
   "id": "f6513043",
   "metadata": {},
   "outputs": [
    {
     "name": "stdout",
     "output_type": "stream",
     "text": [
      "NO\n"
     ]
    }
   ],
   "source": [
    "# 6\n",
    "\n",
    "year: int = int(input())\n",
    "\n",
    "div_by_4: bool = year % 4 == 0\n",
    "not_div_by_100: bool = year % 100 != 0\n",
    "div_by_400: bool = year % 400 == 0\n",
    "\n",
    "if div_by_4 and (not_div_by_100 or div_by_400):\n",
    "    print(\"YES\")\n",
    "else:\n",
    "    print(\"NO\")"
   ]
  },
  {
   "cell_type": "code",
   "execution_count": 17,
   "id": "d7857595",
   "metadata": {},
   "outputs": [
    {
     "name": "stdout",
     "output_type": "stream",
     "text": [
      "YES\n"
     ]
    }
   ],
   "source": [
    "# 7\n",
    "\n",
    "sample_object: str = input()\n",
    "\n",
    "if sample_object == sample_object[::-1]:\n",
    "    print(\"YES\")\n",
    "else:\n",
    "    print(\"NO\")"
   ]
  },
  {
   "cell_type": "code",
   "execution_count": 1,
   "id": "f0e8fcbc",
   "metadata": {},
   "outputs": [
    {
     "name": "stdout",
     "output_type": "stream",
     "text": [
      "YES\n"
     ]
    }
   ],
   "source": [
    "# 8\n",
    "\n",
    "expression: str = input()\n",
    "element: str = \"зайка\"\n",
    "\n",
    "if element in expression:\n",
    "    print(\"YES\")\n",
    "else:\n",
    "    print(\"NO\")"
   ]
  },
  {
   "cell_type": "code",
   "execution_count": null,
   "id": "47f0b6db",
   "metadata": {},
   "outputs": [
    {
     "name": "stdout",
     "output_type": "stream",
     "text": [
      "Виталий\n"
     ]
    }
   ],
   "source": [
    "# 9\n",
    "\n",
    "player_1: str = input()\n",
    "player_2: str = input()\n",
    "player_3: str = input()\n",
    "\n",
    "first_player: str = min(player_1, player_2, player_3)\n",
    "\n",
    "print(first_player)"
   ]
  },
  {
   "cell_type": "code",
   "execution_count": null,
   "id": "db52fd6c",
   "metadata": {},
   "outputs": [
    {
     "name": "stdout",
     "output_type": "stream",
     "text": [
      "1611\n"
     ]
    }
   ],
   "source": [
    "# 10\n",
    "\n",
    "password: int = int(input())\n",
    "\n",
    "password_str: str = str(password)\n",
    "\n",
    "sum_first = int(password_str[1]) + int(password_str[2])\n",
    "sum_second = int(password_str[0]) + int(password_str[1])\n",
    "\n",
    "max_sum: int = max(sum_first, sum_second)\n",
    "min_sum: int = min(sum_first, sum_second)\n",
    "\n",
    "encrypted_password: int = int(f\"{max_sum}{min_sum}\")\n",
    "\n",
    "print(encrypted_password)"
   ]
  },
  {
   "cell_type": "code",
   "execution_count": null,
   "id": "e559c2de",
   "metadata": {},
   "outputs": [
    {
     "name": "stdout",
     "output_type": "stream",
     "text": [
      "NO\n"
     ]
    }
   ],
   "source": [
    "# 11\n",
    "\n",
    "number_1: int = int(input())\n",
    "\n",
    "hundreds_1: int = number_1 // 100\n",
    "tens_1: int = (number_1 // 10) % 10\n",
    "units_1: int = number_1 % 10\n",
    "\n",
    "min_digit_1 = min(hundreds_1, tens_1, units_1)\n",
    "max_digit_1 = max(hundreds_1, tens_1, units_1)\n",
    "\n",
    "middle_digit_1: int = hundreds_1 + tens_1 + units_1 - min_digit_1 - max_digit_1\n",
    "\n",
    "if min_digit_1 + max_digit_1 == 2 * middle_digit_1:\n",
    "    print(\"YES\")\n",
    "else:\n",
    "    print(\"NO\")"
   ]
  },
  {
   "cell_type": "code",
   "execution_count": null,
   "id": "bda4cd69",
   "metadata": {},
   "outputs": [
    {
     "name": "stdout",
     "output_type": "stream",
     "text": [
      "YES\n"
     ]
    }
   ],
   "source": [
    "# 12\n",
    "\n",
    "first_side: int = int(input())\n",
    "second_side: int = int(input())\n",
    "third_side: int = int(input())\n",
    "\n",
    "summa: int = first_side + second_side + third_side\n",
    "\n",
    "if max(first_side, second_side, third_side) * 2 < summa:\n",
    "    print(\"YES\")\n",
    "else:\n",
    "    print(\"NO\")"
   ]
  },
  {
   "cell_type": "code",
   "execution_count": null,
   "id": "943b7f86",
   "metadata": {},
   "outputs": [
    {
     "name": "stdout",
     "output_type": "stream",
     "text": [
      "1\n"
     ]
    }
   ],
   "source": [
    "# 13\n",
    "\n",
    "elf: int = int(input())\n",
    "gnome: int = int(input())\n",
    "human: int = int(input())\n",
    "\n",
    "tens_elf: int\n",
    "units_elf: int\n",
    "tens_gnome: int\n",
    "units_gnome: int\n",
    "tens_human: int\n",
    "units_human: int\n",
    "tens_elf, units_elf = elf // 10, elf % 10\n",
    "tens_gnome, units_gnome = gnome // 10, gnome % 10\n",
    "tens_human, units_human = human // 10, human % 10\n",
    "\n",
    "if tens_elf == tens_gnome and tens_gnome == tens_human:\n",
    "    print(tens_elf)\n",
    "elif units_elf == units_gnome and units_gnome == units_human:\n",
    "    print(units_elf)\n",
    "else:\n",
    "    print(\"NO\")"
   ]
  },
  {
   "cell_type": "code",
   "execution_count": null,
   "id": "73e448d8",
   "metadata": {},
   "outputs": [
    {
     "name": "stdout",
     "output_type": "stream",
     "text": [
      "10 31\n"
     ]
    }
   ],
   "source": [
    "# 14\n",
    "\n",
    "number_2: int = int(input())\n",
    "\n",
    "hundreds_2: int = number_2 // 100\n",
    "tens_2: int = (number_2 // 10) % 10\n",
    "units_2: int = number_2 % 10\n",
    "\n",
    "variations: list[int] = [\n",
    "    hundreds_2 * 10 + tens_2,\n",
    "    hundreds_2 * 10 + units_2,\n",
    "    tens_2 * 10 + hundreds_2,\n",
    "    tens_2 * 10 + units_2,\n",
    "    units_2 * 10 + hundreds_2,\n",
    "    units_2 * 10 + tens_2,\n",
    "]\n",
    "\n",
    "valid_variations: list[int] = [val for val in variations if val >= 10]\n",
    "\n",
    "min_val: int = min(valid_variations)\n",
    "max_val: int = max(valid_variations)\n",
    "\n",
    "print(min_val, max_val)"
   ]
  },
  {
   "cell_type": "code",
   "execution_count": null,
   "id": "1d9f22f2",
   "metadata": {},
   "outputs": [
    {
     "name": "stdout",
     "output_type": "stream",
     "text": [
      "341\n"
     ]
    }
   ],
   "source": [
    "# 15\n",
    "\n",
    "number_3: int = int(input())\n",
    "number_4: int = int(input())\n",
    "\n",
    "digit_1: int = number_3 // 100 if number_3 >= 100 else -1\n",
    "digit_2: int = (number_3 // 10) % 10\n",
    "digit_3: int = number_3 % 10\n",
    "digit_4: int = number_4 // 100 if number_4 >= 100 else -1\n",
    "digit_5: int = (number_4 // 10) % 10\n",
    "digit_6: int = number_4 % 10\n",
    "\n",
    "digits: list[int] = [\n",
    "    d for d in (digit_1, digit_2, digit_3, digit_4, digit_5, digit_6) if d >= 0\n",
    "]\n",
    "\n",
    "max_digit_2: int = max(digits)\n",
    "min_digit_2: int = min(digits)\n",
    "total: int = sum(digits)\n",
    "\n",
    "middle_digit_2: int = (total - max_digit_2 - min_digit_2) % 10\n",
    "\n",
    "print(f\"{max_digit_2}{middle_digit_2}{min_digit_2}\")"
   ]
  },
  {
   "cell_type": "code",
   "execution_count": null,
   "id": "e855cf07",
   "metadata": {},
   "outputs": [
    {
     "name": "stdout",
     "output_type": "stream",
     "text": [
      "         Толя         \n",
      "   Вася   \n",
      "                Петя\n",
      "   II      I      III   \n"
     ]
    }
   ],
   "source": [
    "# 16\n",
    "\n",
    "petya: int = int(input())\n",
    "vasya: int = int(input())\n",
    "tolya: int = int(input())\n",
    "\n",
    "\n",
    "first: int = max(petya, vasya, tolya)\n",
    "third: int = min(petya, vasya, tolya)\n",
    "second: int = petya + vasya + tolya - first - third\n",
    "\n",
    "if first == petya:\n",
    "    first_name = \"Петя\"\n",
    "elif first == vasya:\n",
    "    first_name = \"Вася\"\n",
    "else:\n",
    "    first_name = \"Толя\"\n",
    "\n",
    "if second == petya:\n",
    "    second_name = \"Петя\"\n",
    "elif second == vasya:\n",
    "    second_name = \"Вася\"\n",
    "else:\n",
    "    second_name = \"Толя\"\n",
    "\n",
    "if third == petya:\n",
    "    third_name = \"Петя\"\n",
    "elif third == vasya:\n",
    "    third_name = \"Вася\"\n",
    "else:\n",
    "    third_name = \"Толя\"\n",
    "\n",
    "\n",
    "print(f\"{first_name: ^24}\")\n",
    "print(f'{second_name: ^8}{\" \": ^16}')\n",
    "print(f'{\" \": ^16}{third_name: ^8}')\n",
    "print(f'{\"II\": ^8}{\"I\": ^8}{\"III\": ^8}')"
   ]
  },
  {
   "cell_type": "code",
   "execution_count": null,
   "id": "af1ac4aa",
   "metadata": {},
   "outputs": [
    {
     "name": "stdout",
     "output_type": "stream",
     "text": [
      "No solution\n"
     ]
    }
   ],
   "source": [
    "# 17\n",
    "\n",
    "\n",
    "coef_a: float = float(input())\n",
    "coef_b: float = float(input())\n",
    "coef_c: float = float(input())\n",
    "\n",
    "if coef_a == 0:\n",
    "    if coef_b == 0:\n",
    "        print(\"Infinite solutions\" if coef_c == 0 else \"No solution\")\n",
    "    else:\n",
    "        root = -coef_c / coef_b\n",
    "        print(f\"{root:.2f}\")\n",
    "else:\n",
    "    discriminant: float = coef_b**2 - 4 * coef_a * coef_c\n",
    "    if discriminant < 0:\n",
    "        print(\"No solution\")\n",
    "    elif discriminant == 0:\n",
    "        single_root = -coef_b / (2 * coef_a)\n",
    "        print(f\"{single_root:.2f}\")\n",
    "    else:\n",
    "        sqrt_d = math.sqrt(discriminant)\n",
    "        root_1 = (-coef_b - sqrt_d) / (2 * coef_a)\n",
    "        root_2 = (-coef_b + sqrt_d) / (2 * coef_a)\n",
    "        print(f\"{min(root_1, root_2):.2f} {max(root_1, root_2):.2f}\")"
   ]
  },
  {
   "cell_type": "code",
   "execution_count": null,
   "id": "0dcb51f8",
   "metadata": {},
   "outputs": [
    {
     "name": "stdout",
     "output_type": "stream",
     "text": [
      "крайне мала\n"
     ]
    }
   ],
   "source": [
    "# 18\n",
    "\n",
    "side1: int = int(input())\n",
    "side2: int = int(input())\n",
    "hypotenuse: int = int(input())\n",
    "\n",
    "side1, side2, hypotenuse = sorted([side1, side2, hypotenuse])\n",
    "\n",
    "sum_of_squares: int = side1**2 + side2**2\n",
    "hypotenuse_squared: int = hypotenuse**2\n",
    "\n",
    "if hypotenuse_squared == sum_of_squares:\n",
    "    print(\"100%\")\n",
    "elif hypotenuse_squared > sum_of_squares:\n",
    "    print(\"велика\")\n",
    "else:\n",
    "    print(\"крайне мала\")"
   ]
  },
  {
   "cell_type": "code",
   "execution_count": 3,
   "id": "ff9e23e0",
   "metadata": {},
   "outputs": [
    {
     "name": "stdout",
     "output_type": "stream",
     "text": [
      "Опасность! Покиньте зону как можно скорее!\n"
     ]
    }
   ],
   "source": [
    "# 19\n",
    "\n",
    "x_coord = float(input())\n",
    "y_coord = float(input())\n",
    "\n",
    "conditions: list[bool] = [\n",
    "    x_coord**2 + y_coord**2 <= 100,\n",
    "    y_coord <= 5,\n",
    "    4 * y_coord >= (x_coord + 1) ** 2 - 36,\n",
    "    x_coord**2 + y_coord**2 <= 25,\n",
    "    3 * y_coord < 5 * x_coord + 3,\n",
    "]\n",
    "\n",
    "in_quicksand: bool = all(conditions[1:5])\n",
    "\n",
    "if not conditions[0]:\n",
    "    print(\"Вы вышли в море и рискуете быть съеденным акулой!\")\n",
    "elif in_quicksand:\n",
    "    print(\"Опасность! Покиньте зону как можно скорее!\")\n",
    "else:\n",
    "    print(\"Зона безопасна. Продолжайте работу.\")"
   ]
  },
  {
   "cell_type": "code",
   "execution_count": 4,
   "id": "78af3bae",
   "metadata": {},
   "outputs": [
    {
     "name": "stdout",
     "output_type": "stream",
     "text": [
      "березка зайка 13\n"
     ]
    }
   ],
   "source": [
    "# 20\n",
    "\n",
    "line_1: str = input()\n",
    "line_2: str = input()\n",
    "line_3: str = input()\n",
    "\n",
    "if line_1 > line_2:\n",
    "    line_1, line_2 = line_2, line_1\n",
    "if line_1 > line_3:\n",
    "    line_1, line_3 = line_3, line_1\n",
    "if line_2 > line_3:\n",
    "    line_2, line_3 = line_3, line_2\n",
    "\n",
    "if \"зайка\" in line_1:\n",
    "    print(line_1, len(line_1))\n",
    "elif \"зайка\" in line_2:\n",
    "    print(line_2, len(line_2))\n",
    "elif \"зайка\" in line_3:\n",
    "    print(line_3, len(line_3))"
   ]
  }
 ],
 "metadata": {
  "kernelspec": {
   "display_name": "base",
   "language": "python",
   "name": "python3"
  },
  "language_info": {
   "codemirror_mode": {
    "name": "ipython",
    "version": 3
   },
   "file_extension": ".py",
   "mimetype": "text/x-python",
   "name": "python",
   "nbconvert_exporter": "python",
   "pygments_lexer": "ipython3",
   "version": "3.12.7"
  }
 },
 "nbformat": 4,
 "nbformat_minor": 5
}
