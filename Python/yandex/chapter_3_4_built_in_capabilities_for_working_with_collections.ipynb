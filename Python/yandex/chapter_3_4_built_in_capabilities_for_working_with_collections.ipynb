{
 "cells": [
  {
   "cell_type": "code",
   "execution_count": null,
   "id": "e68bb62f",
   "metadata": {},
   "outputs": [],
   "source": [
    "\"\"\"Built-in capabilities for working with collections.\"\"\""
   ]
  },
  {
   "cell_type": "code",
   "execution_count": 5,
   "id": "f52c0039",
   "metadata": {},
   "outputs": [
    {
     "name": "stdout",
     "output_type": "stream",
     "text": [
      "1. картина\n",
      "2. корзина\n",
      "3. картонка\n"
     ]
    }
   ],
   "source": [
    "# 1\n",
    "\n",
    "from itertools import (\n",
    "    accumulate,\n",
    "    chain,\n",
    "    combinations,\n",
    "    count,\n",
    "    cycle,\n",
    "    islice,\n",
    "    permutations,\n",
    "    product,\n",
    ")\n",
    "from typing import Iterable, Iterator, Mapping, cast\n",
    "\n",
    "text: str = input()\n",
    "words_1: list[str] = text.split()\n",
    "\n",
    "for index, word in enumerate(words_1, start=1):\n",
    "    print(f\"{index}. {word}\")"
   ]
  },
  {
   "cell_type": "code",
   "execution_count": 6,
   "id": "d239033e",
   "metadata": {},
   "outputs": [
    {
     "name": "stdout",
     "output_type": "stream",
     "text": [
      "Аня - Боря\n",
      "Вова - Дима\n"
     ]
    }
   ],
   "source": [
    "# 2\n",
    "\n",
    "left: list[str] = input().split(\", \")\n",
    "right: list[str] = input().split(\", \")\n",
    "\n",
    "for kids in zip(left, right):\n",
    "    print(f\"{kids[0]} - {kids[1]}\")"
   ]
  },
  {
   "cell_type": "code",
   "execution_count": 7,
   "id": "cd0aa1d9",
   "metadata": {},
   "outputs": [
    {
     "name": "stdout",
     "output_type": "stream",
     "text": [
      "3.20\n",
      "4.00\n",
      "4.80\n",
      "5.60\n",
      "6.40\n"
     ]
    }
   ],
   "source": [
    "# 3\n",
    "\n",
    "raw_input_1: str = input()\n",
    "boundaries: list[float] = [float(x) for x in raw_input_1.split()]\n",
    "start: float\n",
    "stop: float\n",
    "step: float\n",
    "start, stop, step = boundaries\n",
    "\n",
    "for num in count(start, step):\n",
    "    if num >= stop:\n",
    "        break\n",
    "    print(f\"{num:.2f}\")"
   ]
  },
  {
   "cell_type": "code",
   "execution_count": 8,
   "id": "82a2c9cf",
   "metadata": {},
   "outputs": [
    {
     "name": "stdout",
     "output_type": "stream",
     "text": [
      "мама \n",
      "мама мыла \n",
      "мама мыла раму \n"
     ]
    }
   ],
   "source": [
    "# 4\n",
    "\n",
    "raw_input_2: str = input()\n",
    "words: list[str] = raw_input_2.split()\n",
    "\n",
    "for partial_string in accumulate([word + \" \" for word in words]):\n",
    "    print(partial_string)"
   ]
  },
  {
   "cell_type": "code",
   "execution_count": 9,
   "id": "32a5c98d",
   "metadata": {},
   "outputs": [
    {
     "name": "stdout",
     "output_type": "stream",
     "text": [
      "1. картина\n",
      "2. картонка\n",
      "3. корзина\n",
      "4. манка\n",
      "5. молоко\n",
      "6. мыло\n",
      "7. сыр\n",
      "8. хлеб\n"
     ]
    }
   ],
   "source": [
    "# 5\n",
    "\n",
    "raw_inputs: list[str] = [input() for _ in range(3)]\n",
    "split_items: list[list[str]] = [line.split(\", \") for line in raw_inputs]\n",
    "\n",
    "unique_sorted_items: list[str] = sorted(set(chain.from_iterable(split_items)))\n",
    "\n",
    "for idx, item in enumerate(unique_sorted_items, start=1):\n",
    "    print(f\"{idx}. {item}\")"
   ]
  },
  {
   "cell_type": "code",
   "execution_count": 10,
   "id": "09eb5f46",
   "metadata": {},
   "outputs": [
    {
     "name": "stdout",
     "output_type": "stream",
     "text": [
      "2 пик\n",
      "2 бубен\n",
      "2 червей\n",
      "3 пик\n",
      "3 бубен\n",
      "3 червей\n",
      "4 пик\n",
      "4 бубен\n",
      "4 червей\n",
      "5 пик\n",
      "5 бубен\n",
      "5 червей\n",
      "6 пик\n",
      "6 бубен\n",
      "6 червей\n",
      "7 пик\n",
      "7 бубен\n",
      "7 червей\n",
      "8 пик\n",
      "8 бубен\n",
      "8 червей\n",
      "9 пик\n",
      "9 бубен\n",
      "9 червей\n",
      "10 пик\n",
      "10 бубен\n",
      "10 червей\n",
      "валет пик\n",
      "валет бубен\n",
      "валет червей\n",
      "дама пик\n",
      "дама бубен\n",
      "дама червей\n",
      "король пик\n",
      "король бубен\n",
      "король червей\n",
      "туз пик\n",
      "туз бубен\n",
      "туз червей\n"
     ]
    }
   ],
   "source": [
    "# 6\n",
    "\n",
    "banned_suit: str = input()\n",
    "\n",
    "suit_names: list[str] = [\"пик\", \"треф\", \"бубен\", \"червей\"]\n",
    "card_ranks: list[str] = [str(rank) for rank in range(2, 11)] + [\n",
    "    \"валет\",\n",
    "    \"дама\",\n",
    "    \"король\",\n",
    "    \"туз\",\n",
    "]\n",
    "\n",
    "suit_names.remove(banned_suit)\n",
    "\n",
    "card_combinations: list[str] = [\n",
    "    f\"{rank} {suit}\" for rank, suit in product(card_ranks, suit_names)\n",
    "]\n",
    "\n",
    "print(\"\\n\".join(card_combinations))"
   ]
  },
  {
   "cell_type": "code",
   "execution_count": 11,
   "id": "0dd5c123",
   "metadata": {},
   "outputs": [
    {
     "name": "stdout",
     "output_type": "stream",
     "text": [
      "Аня - Боря\n",
      "Аня - Вова\n",
      "Боря - Вова\n"
     ]
    }
   ],
   "source": [
    "# 7\n",
    "\n",
    "n_var: int = int(input())\n",
    "names_1: list[str] = [input() for _ in range(n_var)]\n",
    "\n",
    "pairs: list[tuple[str, str]] = list(combinations(names_1, 2))\n",
    "\n",
    "output: list[str] = [f\"{a} - {b}\" for a, b in pairs]\n",
    "\n",
    "print(\"\\n\".join(output))"
   ]
  },
  {
   "cell_type": "code",
   "execution_count": 12,
   "id": "138b1ecc",
   "metadata": {},
   "outputs": [
    {
     "name": "stdout",
     "output_type": "stream",
     "text": [
      "Манная\n",
      "Гречневая\n",
      "Пшённая\n"
     ]
    }
   ],
   "source": [
    "# 8\n",
    "\n",
    "meal_count: int = int(input())\n",
    "meal_list: list[str] = [input() for _ in range(meal_count)]\n",
    "\n",
    "day_count: int = int(input())\n",
    "\n",
    "repeated_meals: list[str] = list(islice(cycle(meal_list), day_count))\n",
    "\n",
    "print(\"\\n\".join(repeated_meals))"
   ]
  },
  {
   "cell_type": "code",
   "execution_count": 13,
   "id": "8840ba8d",
   "metadata": {},
   "outputs": [
    {
     "name": "stdout",
     "output_type": "stream",
     "text": [
      "1 2 3\n",
      "2 4 6\n",
      "3 6 9\n"
     ]
    }
   ],
   "source": [
    "# 9\n",
    "\n",
    "table_size: int = int(input())\n",
    "\n",
    "multipliers: range = range(1, table_size + 1)\n",
    "\n",
    "multiplication_values: list[int] = []\n",
    "for row_factor, col_factor in product(multipliers, repeat=2):\n",
    "    multiplication_values.append(row_factor * col_factor)\n",
    "\n",
    "for row_index in range(table_size):\n",
    "    row_start: int = row_index * table_size\n",
    "    row_end: int = (row_index + 1) * table_size\n",
    "    print(*islice(multiplication_values, row_start, row_end))"
   ]
  },
  {
   "cell_type": "code",
   "execution_count": 14,
   "id": "47a19f66",
   "metadata": {},
   "outputs": [
    {
     "name": "stdout",
     "output_type": "stream",
     "text": [
      "А Б В\n",
      "1 1 1\n"
     ]
    }
   ],
   "source": [
    "# 10\n",
    "\n",
    "target_sum: int = int(input())\n",
    "\n",
    "value_range: range = range(1, target_sum - 1)\n",
    "\n",
    "triplet_product = product(value_range, repeat=3)\n",
    "\n",
    "triplet_combinations: list[tuple[int, int, int]] = list(\n",
    "    cast(\n",
    "        Iterable[tuple[int, int, int]],\n",
    "        triplet_product,\n",
    "    )\n",
    ")\n",
    "\n",
    "print(\"А Б В\")\n",
    "for triplet in triplet_combinations:\n",
    "    if sum(triplet) == target_sum:\n",
    "        print(*triplet)"
   ]
  },
  {
   "cell_type": "code",
   "execution_count": 15,
   "id": "3c4614fb",
   "metadata": {},
   "outputs": [
    {
     "name": "stdout",
     "output_type": "stream",
     "text": [
      "1 2 3 \n",
      "4 5 6 \n"
     ]
    }
   ],
   "source": [
    "# 11\n",
    "\n",
    "rows: int = int(input())\n",
    "cols: int = int(input())\n",
    "\n",
    "cell_width: int = len(str(rows * cols))\n",
    "\n",
    "for row_idx, col_idx in product(range(1, rows + 1), range(1, cols + 1)):\n",
    "    cell_number: int = (row_idx - 1) * cols + col_idx\n",
    "    print(f\"{cell_number:>{cell_width}}\", end=\" \")\n",
    "    if col_idx == cols:\n",
    "        print()"
   ]
  },
  {
   "cell_type": "code",
   "execution_count": 16,
   "id": "b28c087a",
   "metadata": {},
   "outputs": [
    {
     "name": "stdout",
     "output_type": "stream",
     "text": [
      "1. картина\n",
      "2. картонка\n",
      "3. корзина\n",
      "4. манка\n",
      "5. молоко\n",
      "6. мыло\n",
      "7. сыр\n",
      "8. хлеб\n"
     ]
    }
   ],
   "source": [
    "# 12\n",
    "\n",
    "all_items: list[str] = []\n",
    "\n",
    "input_count: int = int(input())\n",
    "\n",
    "for _ in range(input_count):\n",
    "    entries: list[str] = input().split(\", \")\n",
    "    all_items.extend(entries)\n",
    "\n",
    "sorted_items: list[str] = sorted(all_items)\n",
    "indexed_items: list[tuple[int, str]] = list(enumerate(sorted_items, 1))\n",
    "\n",
    "output_lines: list[str] = [f\"{idx}. {val}\" for idx, val in indexed_items]\n",
    "\n",
    "print(\"\\n\".join(output_lines))"
   ]
  },
  {
   "cell_type": "code",
   "execution_count": 17,
   "id": "a2b12625",
   "metadata": {},
   "outputs": [
    {
     "name": "stdout",
     "output_type": "stream",
     "text": [
      "Аня, Боря, Вова\n",
      "Аня, Вова, Боря\n",
      "Боря, Аня, Вова\n",
      "Боря, Вова, Аня\n",
      "Вова, Аня, Боря\n",
      "Вова, Боря, Аня\n"
     ]
    }
   ],
   "source": [
    "# 13\n",
    "\n",
    "participant_count: int = int(input())\n",
    "participant_names: list[str] = [input() for _ in range(participant_count)]\n",
    "\n",
    "participant_names.sort()\n",
    "\n",
    "name_permutations: Iterator[tuple[str, ...]] = permutations(\n",
    "    participant_names, participant_count\n",
    ")\n",
    "\n",
    "for name_tuple in name_permutations:\n",
    "    print(\", \".join(name_tuple))"
   ]
  },
  {
   "cell_type": "code",
   "execution_count": 18,
   "id": "19155681",
   "metadata": {},
   "outputs": [
    {
     "name": "stdout",
     "output_type": "stream",
     "text": [
      "Аня, Боря, Вова\n",
      "Аня, Вова, Боря\n",
      "Боря, Аня, Вова\n",
      "Боря, Вова, Аня\n",
      "Вова, Аня, Боря\n",
      "Вова, Боря, Аня\n"
     ]
    }
   ],
   "source": [
    "# 14\n",
    "\n",
    "names_2: list[str] = []\n",
    "\n",
    "num_names: int = int(input())\n",
    "\n",
    "for _ in range(num_names):\n",
    "    names_2.append(input())\n",
    "\n",
    "names_2.sort()\n",
    "\n",
    "perm_1: Iterator[tuple[str, str, str]] = permutations(names_2, 3)\n",
    "\n",
    "for name_tuple in perm_1:\n",
    "    print(\", \".join(name_tuple))"
   ]
  },
  {
   "cell_type": "code",
   "execution_count": 19,
   "id": "2f086f3c",
   "metadata": {},
   "outputs": [
    {
     "name": "stdout",
     "output_type": "stream",
     "text": [
      "кофе печенье сушки\n",
      "кофе печенье чай\n",
      "кофе сушки печенье\n",
      "кофе сушки чай\n",
      "кофе чай печенье\n",
      "кофе чай сушки\n",
      "печенье кофе сушки\n",
      "печенье кофе чай\n",
      "печенье сушки кофе\n",
      "печенье сушки чай\n",
      "печенье чай кофе\n",
      "печенье чай сушки\n",
      "сушки кофе печенье\n",
      "сушки кофе чай\n",
      "сушки печенье кофе\n",
      "сушки печенье чай\n",
      "сушки чай кофе\n",
      "сушки чай печенье\n",
      "чай кофе печенье\n",
      "чай кофе сушки\n",
      "чай печенье кофе\n",
      "чай печенье сушки\n",
      "чай сушки кофе\n",
      "чай сушки печенье\n"
     ]
    }
   ],
   "source": [
    "# 15\n",
    "\n",
    "items_list: list[str] = []\n",
    "\n",
    "item_count: int = int(input())\n",
    "\n",
    "for _ in range(item_count):\n",
    "    items_list.extend(input().split(\", \"))\n",
    "\n",
    "items_list.sort()\n",
    "\n",
    "perm_2: Iterator[tuple[str, str, str]] = permutations(items_list, 3)\n",
    "\n",
    "for item_tuple in perm_2:\n",
    "    print(\" \".join(item_tuple))"
   ]
  },
  {
   "cell_type": "code",
   "execution_count": 20,
   "id": "bc98f26c",
   "metadata": {},
   "outputs": [
    {
     "name": "stdout",
     "output_type": "stream",
     "text": [
      "2 бубен, 2 пик, 2 треф\n",
      "2 бубен, 2 пик, 2 червей\n",
      "2 бубен, 2 пик, 3 бубен\n",
      "2 бубен, 2 пик, 3 пик\n",
      "2 бубен, 2 пик, 3 треф\n",
      "2 бубен, 2 пик, 3 червей\n",
      "2 бубен, 2 пик, 4 бубен\n",
      "2 бубен, 2 пик, 4 пик\n",
      "2 бубен, 2 пик, 4 треф\n",
      "2 бубен, 2 пик, 4 червей\n"
     ]
    }
   ],
   "source": [
    "# 16\n",
    "\n",
    "selected_suit: str = input().strip()\n",
    "excluded_rank: str = input().strip()\n",
    "\n",
    "suit_map: dict[str, str] = {\n",
    "    \"буби\": \"бубен\",\n",
    "    \"пики\": \"пик\",\n",
    "    \"трефы\": \"треф\",\n",
    "    \"черви\": \"червей\",\n",
    "}\n",
    "\n",
    "all_ranks: list[str] = [\n",
    "    \"10\",\n",
    "    \"2\",\n",
    "    \"3\",\n",
    "    \"4\",\n",
    "    \"5\",\n",
    "    \"6\",\n",
    "    \"7\",\n",
    "    \"8\",\n",
    "    \"9\",\n",
    "    \"валет\",\n",
    "    \"дама\",\n",
    "    \"король\",\n",
    "    \"туз\",\n",
    "]\n",
    "\n",
    "all_ranks.remove(excluded_rank)\n",
    "\n",
    "deck: Iterator[tuple[str, str]] = product(all_ranks, suit_map.values())\n",
    "\n",
    "triplets: Iterator[tuple[tuple[str, str], ...]] = permutations(deck, 3)\n",
    "\n",
    "filtered_triplets = [\n",
    "    triple\n",
    "    for triple in triplets\n",
    "    if suit_map[selected_suit] in chain.from_iterable(triple)\n",
    "]\n",
    "\n",
    "for combo in sorted(filtered_triplets)[:10]:\n",
    "    print(\", \".join(f\"{r} {s}\" for r, s in combo))"
   ]
  },
  {
   "cell_type": "code",
   "execution_count": 21,
   "id": "232180f1",
   "metadata": {},
   "outputs": [
    {
     "name": "stdout",
     "output_type": "stream",
     "text": [
      "9 пик, король червей, туз бубен\n"
     ]
    }
   ],
   "source": [
    "# 17\n",
    "\n",
    "suit_map_2: dict[str, str] = {\n",
    "    \"буби\": \"бубен\",\n",
    "    \"пики\": \"пик\",\n",
    "    \"трефы\": \"треф\",\n",
    "    \"черви\": \"червей\",\n",
    "}\n",
    "\n",
    "all_ranks_2: list[str] = [\n",
    "    \"10\",\n",
    "    \"2\",\n",
    "    \"3\",\n",
    "    \"4\",\n",
    "    \"5\",\n",
    "    \"6\",\n",
    "    \"7\",\n",
    "    \"8\",\n",
    "    \"9\",\n",
    "    \"валет\",\n",
    "    \"дама\",\n",
    "    \"король\",\n",
    "    \"туз\",\n",
    "]\n",
    "\n",
    "suit: str = suit_map_2[input().strip()]\n",
    "excluded: str = input().strip()\n",
    "previous: str = input().strip()\n",
    "\n",
    "cards: list[str] = []\n",
    "for rank in all_ranks_2:\n",
    "    if rank == excluded:\n",
    "        continue\n",
    "    for s_var in suit_map_2.values():\n",
    "        cards.append(f\"{rank} {s_var}\")\n",
    "\n",
    "cards_arr: list[str] = sorted(cards)\n",
    "\n",
    "tri_com: list[tuple[str, str, str]] = []\n",
    "for triple in combinations(cards_arr, 3):\n",
    "    for card in triple:\n",
    "        if suit in card:\n",
    "            tri_com.append(triple)\n",
    "            break\n",
    "\n",
    "triple_sets: list[str] = []\n",
    "for triple in tri_com:\n",
    "    triple_sets.append(\", \".join(triple))\n",
    "\n",
    "try:\n",
    "    idx_s: int = triple_sets.index(previous) + 1\n",
    "    print(triple_sets[idx_s])\n",
    "except ValueError:\n",
    "    print(\"Предыдущий вариант не найден.\")\n",
    "except IndexError:\n",
    "    print(\"Нет следующего варианта.\")"
   ]
  },
  {
   "cell_type": "code",
   "execution_count": 22,
   "id": "6f38b5bd",
   "metadata": {},
   "outputs": [
    {
     "name": "stdout",
     "output_type": "stream",
     "text": [
      "a b c f\n",
      "0 0 0 1\n",
      "0 0 1 1\n",
      "0 1 0 1\n",
      "0 1 1 1\n",
      "1 0 0 0\n",
      "1 0 1 0\n",
      "1 1 0 0\n",
      "1 1 1 1\n"
     ]
    }
   ],
   "source": [
    "# 18\n",
    "\n",
    "logical_expression: str = input()\n",
    "\n",
    "print(\"a b c f\")\n",
    "\n",
    "for a_var, b_var, c_var in product([0, 1], repeat=3):\n",
    "    result_1: int = int(\n",
    "        eval(  # pylint: disable=eval-used\n",
    "            logical_expression, {\"a\": a_var, \"b\": b_var, \"c\": c_var}\n",
    "        )\n",
    "    )\n",
    "\n",
    "    print(a_var, b_var, c_var, result_1)"
   ]
  },
  {
   "cell_type": "code",
   "execution_count": 23,
   "id": "66d41f08",
   "metadata": {},
   "outputs": [
    {
     "name": "stdout",
     "output_type": "stream",
     "text": [
      "A B C F\n",
      "0 0 0 1\n",
      "0 0 1 1\n",
      "0 1 0 1\n",
      "0 1 1 1\n",
      "1 0 0 0\n",
      "1 0 1 0\n",
      "1 1 0 0\n",
      "1 1 1 1\n"
     ]
    }
   ],
   "source": [
    "# 19\n",
    "\n",
    "expression: str = input()\n",
    "\n",
    "var_s: list[str] = []\n",
    "for item in sorted(set(expression.split())):\n",
    "    if item.isupper():\n",
    "        var_s.append(item)\n",
    "\n",
    "length: int = len(var_s)\n",
    "\n",
    "print(*[v for v in var_s], \"F\")\n",
    "\n",
    "for values in product([False, True], repeat=length):\n",
    "    glob: dict[str, bool] = {key: value for key, value in zip(var_s, values)}\n",
    "    int_values = [int(v) for v in values]\n",
    "\n",
    "    result_2 = int(eval(expression, glob))  # pylint: disable=eval-used\n",
    "\n",
    "    print(*int_values, result_2)"
   ]
  },
  {
   "cell_type": "code",
   "execution_count": null,
   "id": "73ce2890",
   "metadata": {},
   "outputs": [
    {
     "name": "stdout",
     "output_type": "stream",
     "text": [
      "A B C F\n",
      "0 0 0 1\n",
      "0 0 1 1\n",
      "0 1 0 1\n",
      "0 1 1 1\n",
      "1 0 0 1\n",
      "1 0 1 1\n",
      "1 1 0 0\n",
      "1 1 1 1\n"
     ]
    }
   ],
   "source": [
    "# 20\n",
    "\n",
    "OPERATORS: dict[str, str] = {\n",
    "    \"not\": \"not\",\n",
    "    \"and\": \"and\",\n",
    "    \"or\": \"or\",\n",
    "    \"^\": \"!=\",\n",
    "    \"->\": \"<=\",\n",
    "    \"~\": \"==\",\n",
    "}\n",
    "\n",
    "PRIORITY: dict[str, int] = {\n",
    "    \"not\": 0,\n",
    "    \"and\": 1,\n",
    "    \"or\": 2,\n",
    "    \"^\": 3,\n",
    "    \"->\": 4,\n",
    "    \"~\": 5,\n",
    "    \"(\": 6,\n",
    "}\n",
    "\n",
    "\n",
    "def parse_expression(expr: str, variables: list[str]) -> list[str]:\n",
    "    \"\"\"Convert a logical expression to Reverse Polish Notation (RPN).\"\"\"\n",
    "    stack: list[str] = []\n",
    "    result_9: list[str] = []\n",
    "\n",
    "    expr = expr.replace(\"(\", \"( \").replace(\")\", \" )\")\n",
    "\n",
    "    for token in expr.split():\n",
    "        if token in variables:\n",
    "            result_9.append(token)\n",
    "        elif token == \"(\":\n",
    "            stack.append(token)\n",
    "        elif token == \")\":\n",
    "            while stack[-1] != \"(\":\n",
    "                result_9.append(OPERATORS[stack.pop()])\n",
    "            stack.pop()\n",
    "        elif token in OPERATORS:\n",
    "            while stack and PRIORITY[token] >= PRIORITY.get(stack[-1], 100):\n",
    "                result_9.append(OPERATORS[stack.pop()])\n",
    "            stack.append(token)\n",
    "\n",
    "    while stack:\n",
    "        result_9.append(OPERATORS[stack.pop()])\n",
    "\n",
    "    return result_9\n",
    "\n",
    "\n",
    "def evaluate(rpn_expr: list[str], v_dict: Mapping[str, int | bool]) -> int:\n",
    "    \"\"\"Evaluate the value of a logical expression given in RPN.\"\"\"\n",
    "    stack: list[int | bool] = []\n",
    "\n",
    "    for token in rpn_expr:\n",
    "        if token in v_dict:\n",
    "            stack.append(v_dict[token])\n",
    "        elif token == \"not\":\n",
    "            operand = stack.pop()\n",
    "            stack.append(not operand)\n",
    "        else:\n",
    "            rhs = stack.pop()\n",
    "            lhs = stack.pop()\n",
    "            stack.append(eval(f\"{lhs} {token} {rhs}\"))  # pylint: disable=eval-used\n",
    "\n",
    "    return int(stack.pop())\n",
    "\n",
    "\n",
    "log_expr: str = input().strip()\n",
    "vars_in_expr: list[str] = sorted({ch for ch in log_expr if ch.isupper()})\n",
    "\n",
    "rpn: list[str] = parse_expression(log_expr, vars_in_expr)\n",
    "\n",
    "print(*vars_in_expr, \"F\")\n",
    "for bool_values in product([0, 1], repeat=len(vars_in_expr)):\n",
    "    value_pairs = zip(vars_in_expr, (bool(v) for v in bool_values))\n",
    "    val_map: dict[str, bool] = dict(value_pairs)\n",
    "    result_10: int = evaluate(rpn, val_map)\n",
    "    print(*bool_values, result_10)"
   ]
  }
 ],
 "metadata": {
  "kernelspec": {
   "display_name": "base",
   "language": "python",
   "name": "python3"
  },
  "language_info": {
   "codemirror_mode": {
    "name": "ipython",
    "version": 3
   },
   "file_extension": ".py",
   "mimetype": "text/x-python",
   "name": "python",
   "nbconvert_exporter": "python",
   "pygments_lexer": "ipython3",
   "version": "3.12.7"
  }
 },
 "nbformat": 4,
 "nbformat_minor": 5
}
