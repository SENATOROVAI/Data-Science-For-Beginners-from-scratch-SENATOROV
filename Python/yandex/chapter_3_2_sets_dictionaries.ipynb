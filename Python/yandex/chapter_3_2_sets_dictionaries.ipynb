{
 "cells": [
  {
   "cell_type": "code",
   "execution_count": null,
   "id": "09b948a9",
   "metadata": {},
   "outputs": [],
   "source": [
    "\"\"\"Sets, dictionaries.\"\"\""
   ]
  },
  {
   "cell_type": "code",
   "execution_count": 5,
   "id": "c9036558",
   "metadata": {},
   "outputs": [
    {
     "name": "stdout",
     "output_type": "stream",
     "text": [
      "дезм"
     ]
    }
   ],
   "source": [
    "# 1\n",
    "\n",
    "string_1: set[str] = set(input())\n",
    "\n",
    "for char in string_1:\n",
    "    print(char, end=\"\")"
   ]
  },
  {
   "cell_type": "code",
   "execution_count": 6,
   "id": "b6d0d8a7",
   "metadata": {},
   "outputs": [
    {
     "name": "stdout",
     "output_type": "stream",
     "text": [
      "де"
     ]
    }
   ],
   "source": [
    "# 2\n",
    "\n",
    "for char in set(input()) & set(input()):\n",
    "    print(char, end=\"\")"
   ]
  },
  {
   "cell_type": "code",
   "execution_count": 10,
   "id": "0fb43c26",
   "metadata": {},
   "outputs": [
    {
     "name": "stdout",
     "output_type": "stream",
     "text": [
      "елочка\n",
      "березка\n",
      "зайка\n"
     ]
    }
   ],
   "source": [
    "# 3\n",
    "\n",
    "items: set[str] = set()\n",
    "\n",
    "for _ in range(int(input())):\n",
    "    string_2: str = input()\n",
    "    items |= set(string_2.split())\n",
    "\n",
    "for item in items:\n",
    "    print(item)"
   ]
  },
  {
   "cell_type": "code",
   "execution_count": 11,
   "id": "f797c03f",
   "metadata": {},
   "outputs": [
    {
     "name": "stdout",
     "output_type": "stream",
     "text": [
      "3\n"
     ]
    }
   ],
   "source": [
    "# 4\n",
    "\n",
    "first_list_size: int = int(input())\n",
    "second_list_size: int = int(input())\n",
    "\n",
    "first_set: set[str] = set()\n",
    "second_set: set[str] = set()\n",
    "\n",
    "for _ in range(first_list_size):\n",
    "    first_set.add(input())\n",
    "\n",
    "for _ in range(second_list_size):\n",
    "    second_set.add(input())\n",
    "\n",
    "common_elements: set[str] = first_set & second_set\n",
    "\n",
    "if len(common_elements) != 0:\n",
    "    print(len(common_elements))\n",
    "else:\n",
    "    print(\"Таких нет\")"
   ]
  },
  {
   "cell_type": "code",
   "execution_count": 12,
   "id": "cf4b86c8",
   "metadata": {},
   "outputs": [
    {
     "name": "stdout",
     "output_type": "stream",
     "text": [
      "5\n"
     ]
    }
   ],
   "source": [
    "# 5\n",
    "\n",
    "total_first_list_size: int = int(input())\n",
    "total_second_list_size: int = int(input())\n",
    "\n",
    "unique_names: set[str] = set()\n",
    "duplicate_names: set[str] = set()\n",
    "\n",
    "for _ in range(total_first_list_size + total_second_list_size):\n",
    "    surname: str = input()\n",
    "    if surname in unique_names:\n",
    "        duplicate_names.add(surname)\n",
    "    else:\n",
    "        unique_names.add(surname)\n",
    "\n",
    "non_duplicate_surnames: set[str] = unique_names ^ duplicate_names\n",
    "\n",
    "if len(non_duplicate_surnames) != 0:\n",
    "    print(len(non_duplicate_surnames))\n",
    "else:\n",
    "    print(\"Таких нет\")"
   ]
  },
  {
   "cell_type": "code",
   "execution_count": null,
   "id": "26b92951",
   "metadata": {},
   "outputs": [
    {
     "name": "stdout",
     "output_type": "stream",
     "text": [
      "Васечкин\n",
      "Васильев\n",
      "Иванов\n",
      "Михайлов\n",
      "Петров\n"
     ]
    }
   ],
   "source": [
    "# 6\n",
    "\n",
    "list1_size = int(input())\n",
    "list2_size = int(input())\n",
    "\n",
    "list1 = set()\n",
    "list2 = set()\n",
    "\n",
    "for _ in range(list1_size + list2_size):\n",
    "    eater = input()\n",
    "    if eater in list1:\n",
    "        list2.add(eater)\n",
    "    else:\n",
    "        list1.add(eater)\n",
    "\n",
    "if len(junction := list1 ^ list2) != 0:\n",
    "    for eater in sorted(junction):\n",
    "        print(eater)\n",
    "else:\n",
    "    print(\"Таких нет\")"
   ]
  },
  {
   "cell_type": "code",
   "execution_count": 14,
   "id": "d1dd555f",
   "metadata": {},
   "outputs": [
    {
     "name": "stdout",
     "output_type": "stream",
     "text": [
      ".... . .-.. .-.. --- \n",
      ".-- --- .-. .-.. -.. "
     ]
    }
   ],
   "source": [
    "# 7\n",
    "\n",
    "MORZE = {\n",
    "    \"A\": \".-\",\n",
    "    \"B\": \"-...\",\n",
    "    \"C\": \"-.-.\",\n",
    "    \"D\": \"-..\",\n",
    "    \"E\": \".\",\n",
    "    \"F\": \"..-.\",\n",
    "    \"G\": \"--.\",\n",
    "    \"H\": \"....\",\n",
    "    \"I\": \"..\",\n",
    "    \"J\": \".---\",\n",
    "    \"K\": \"-.-\",\n",
    "    \"L\": \".-..\",\n",
    "    \"M\": \"--\",\n",
    "    \"N\": \"-.\",\n",
    "    \"O\": \"---\",\n",
    "    \"P\": \".--.\",\n",
    "    \"Q\": \"--.-\",\n",
    "    \"R\": \".-.\",\n",
    "    \"S\": \"...\",\n",
    "    \"T\": \"-\",\n",
    "    \"U\": \"..-\",\n",
    "    \"V\": \"...-\",\n",
    "    \"W\": \".--\",\n",
    "    \"X\": \"-..-\",\n",
    "    \"Y\": \"-.--\",\n",
    "    \"Z\": \"--..\",\n",
    "    \"0\": \"-----\",\n",
    "    \"1\": \".----\",\n",
    "    \"2\": \"..---\",\n",
    "    \"3\": \"...--\",\n",
    "    \"4\": \"....-\",\n",
    "    \"5\": \".....\",\n",
    "    \"6\": \"-....\",\n",
    "    \"7\": \"--...\",\n",
    "    \"8\": \"---..\",\n",
    "    \"9\": \"----.\",\n",
    "}\n",
    "\n",
    "for char in input():\n",
    "    if char != \" \":\n",
    "        print(MORZE[char.upper()], end=\" \")\n",
    "    else:\n",
    "        print()"
   ]
  },
  {
   "cell_type": "code",
   "execution_count": null,
   "id": "a0954201",
   "metadata": {},
   "outputs": [
    {
     "name": "stdout",
     "output_type": "stream",
     "text": [
      "Таких нет\n"
     ]
    }
   ],
   "source": [
    "# 8\n",
    "\n",
    "porridges_list: dict[str, list[str]] = {}\n",
    "\n",
    "for _ in range(int(input())):\n",
    "    string = input()\n",
    "    eater, *porridges = string.split()\n",
    "    for porridge in porridges:\n",
    "        porridges_list[porridge] = porridges_list.get(porridge, []) + [eater]\n",
    "\n",
    "porridge_: str = input()\n",
    "\n",
    "if porridge_ in porridges_list:\n",
    "    print(\"\\n\".join(sorted(porridges_list[porridge_])))\n",
    "else:\n",
    "    print(\"Таких нет\")"
   ]
  },
  {
   "cell_type": "code",
   "execution_count": null,
   "id": "f83e2906",
   "metadata": {},
   "outputs": [
    {
     "name": "stdout",
     "output_type": "stream",
     "text": [
      "зайка 2\n",
      "березка 4\n",
      "елочка 4\n"
     ]
    }
   ],
   "source": [
    "# 9\n",
    "\n",
    "word_frequencies_1: dict[str, int] = {}\n",
    "\n",
    "while (line := input()) != \"\":\n",
    "    words: list[str] = line.split()\n",
    "    for word in words:\n",
    "        word_frequencies_1[word] = word_frequencies_1.get(word, 0) + 1\n",
    "\n",
    "for word, freq in word_frequencies_1.items():\n",
    "    print(word, freq)"
   ]
  },
  {
   "cell_type": "code",
   "execution_count": null,
   "id": "4b092e3a",
   "metadata": {},
   "outputs": [
    {
     "name": "stdout",
     "output_type": "stream",
     "text": [
      "Privet, mir!\n"
     ]
    }
   ],
   "source": [
    "# 10\n",
    "\n",
    "TRANSLITERATE_DICT: dict[str, str] = {\n",
    "    \"А\": \"A\",\n",
    "    \"Б\": \"B\",\n",
    "    \"В\": \"V\",\n",
    "    \"Г\": \"G\",\n",
    "    \"Д\": \"D\",\n",
    "    \"Е\": \"E\",\n",
    "    \"Ё\": \"E\",\n",
    "    \"Ж\": \"ZH\",\n",
    "    \"З\": \"Z\",\n",
    "    \"И\": \"I\",\n",
    "    \"Й\": \"I\",\n",
    "    \"К\": \"K\",\n",
    "    \"Л\": \"L\",\n",
    "    \"М\": \"M\",\n",
    "    \"Н\": \"N\",\n",
    "    \"О\": \"O\",\n",
    "    \"П\": \"P\",\n",
    "    \"Р\": \"R\",\n",
    "    \"С\": \"S\",\n",
    "    \"Т\": \"T\",\n",
    "    \"У\": \"U\",\n",
    "    \"Ф\": \"F\",\n",
    "    \"Х\": \"KH\",\n",
    "    \"Ц\": \"TC\",\n",
    "    \"Ч\": \"CH\",\n",
    "    \"Ш\": \"SH\",\n",
    "    \"Щ\": \"SHCH\",\n",
    "    \"Ы\": \"Y\",\n",
    "    \"Э\": \"E\",\n",
    "    \"Ю\": \"IU\",\n",
    "    \"Я\": \"IA\",\n",
    "    \"Ь\": \"\",\n",
    "    \"Ъ\": \"\",\n",
    "}\n",
    "\n",
    "result: str = \"\"\n",
    "\n",
    "for original_char in input():\n",
    "    uppercase_char = original_char.upper()\n",
    "    if uppercase_char in TRANSLITERATE_DICT:\n",
    "        mapped = TRANSLITERATE_DICT[uppercase_char]\n",
    "        transliterated_char = (\n",
    "            mapped.capitalize() if original_char.isupper() else mapped.lower()\n",
    "        )\n",
    "    else:\n",
    "        transliterated_char = original_char\n",
    "    result += transliterated_char\n",
    "\n",
    "print(result)"
   ]
  },
  {
   "cell_type": "code",
   "execution_count": null,
   "id": "03143fc1",
   "metadata": {},
   "outputs": [
    {
     "name": "stdout",
     "output_type": "stream",
     "text": [
      "0\n"
     ]
    }
   ],
   "source": [
    "# 11\n",
    "\n",
    "namesakes: dict[str, int] = {}\n",
    "\n",
    "for _ in range(int(input())):\n",
    "    name: str = input()\n",
    "    namesakes[name] = namesakes.get(name, 0) + 1\n",
    "\n",
    "count: int = 0\n",
    "for name, value in namesakes.items():\n",
    "    if value > 1:\n",
    "        count += value\n",
    "\n",
    "print(count)"
   ]
  },
  {
   "cell_type": "code",
   "execution_count": null,
   "id": "95834ac5",
   "metadata": {},
   "outputs": [
    {
     "name": "stdout",
     "output_type": "stream",
     "text": [
      "Однофамильцев нет\n"
     ]
    }
   ],
   "source": [
    "# 12\n",
    "\n",
    "namesakes = {}\n",
    "for _ in range(int(input())):\n",
    "    name = input()\n",
    "    namesakes[name] = namesakes.get(name, 0) + 1\n",
    "\n",
    "namesakes = dict(sorted(namesakes.items()))\n",
    "\n",
    "printed = False\n",
    "\n",
    "for name in namesakes:\n",
    "    if namesakes[name] > 1:\n",
    "        print(name, \"-\", namesakes[name])\n",
    "        printed = True\n",
    "\n",
    "if not printed:\n",
    "    print(\"Однофамильцев нет\")"
   ]
  },
  {
   "cell_type": "code",
   "execution_count": null,
   "id": "c454ff8b",
   "metadata": {},
   "outputs": [
    {
     "name": "stdout",
     "output_type": "stream",
     "text": [
      "Манная каша\n",
      "Овсянка\n"
     ]
    }
   ],
   "source": [
    "# 13\n",
    "\n",
    "porridges_2: set[str] = set()\n",
    "\n",
    "for _ in range(int(input())):\n",
    "    if (porridge := input()) not in porridges_2:\n",
    "        porridges_2.add(porridge)\n",
    "\n",
    "for _ in range(int(input())):\n",
    "    for _ in range(int(input())):\n",
    "        if (porridge := input()) in porridges_2:\n",
    "            porridges_2.remove(porridge)\n",
    "\n",
    "menu: list[str] = sorted(porridges_2)\n",
    "print(type(menu))\n",
    "\n",
    "if not menu:\n",
    "    print(\"Готовить нечего\")\n",
    "else:\n",
    "    for porridge in menu:\n",
    "        print(porridge)"
   ]
  },
  {
   "cell_type": "code",
   "execution_count": null,
   "id": "f0f14569",
   "metadata": {},
   "outputs": [
    {
     "name": "stdout",
     "output_type": "stream",
     "text": [
      "Готовить нечего\n"
     ]
    }
   ],
   "source": [
    "# 14\n",
    "\n",
    "products: list[str] = []\n",
    "recipes: dict[str, list[str]] = {}\n",
    "menu_2: list[str] = []\n",
    "\n",
    "for _ in range(int(input())):\n",
    "    products.append(input())\n",
    "\n",
    "for _ in range(int(input())):\n",
    "    name = input()\n",
    "    ingredients = []\n",
    "    for _ in range(int(input())):\n",
    "        ingredients.append(input())\n",
    "    recipes[name] = recipes.get(name, []) + ingredients\n",
    "\n",
    "for name, ingredients in recipes.items():\n",
    "    print(type(menu_2))\n",
    "    if set(ingredients).issubset(products):\n",
    "        menu_2.append(name)\n",
    "\n",
    "if menu_2:\n",
    "    print(type(menu_2))\n",
    "    menu_2.sort()\n",
    "    for name in menu_2:\n",
    "        print(name)\n",
    "else:\n",
    "    print(\"Готовить нечего\")"
   ]
  },
  {
   "cell_type": "code",
   "execution_count": null,
   "id": "d2d62642",
   "metadata": {},
   "outputs": [
    {
     "name": "stdout",
     "output_type": "stream",
     "text": [
      "[{'digits': 4, 'units': 3, 'zeros': 1}, {'digits': 2, 'units': 1, 'zeros': 1}, {'digits': 3, 'units': 3, 'zeros': 0}]\n"
     ]
    }
   ],
   "source": [
    "# 15\n",
    "\n",
    "binary_stats: list[dict[str, int]] = []\n",
    "input_numbers: list[str] = input().split()\n",
    "\n",
    "for number_str in input_numbers:\n",
    "    binary_repr: str = f\"{int(number_str):b}\"\n",
    "    stats: dict[str, int] = {\n",
    "        \"digits\": len(binary_repr),\n",
    "        \"units\": binary_repr.count(\"1\"),\n",
    "        \"zeros\": binary_repr.count(\"0\"),\n",
    "    }\n",
    "    binary_stats.append(stats)\n",
    "\n",
    "print(binary_stats)"
   ]
  },
  {
   "cell_type": "code",
   "execution_count": null,
   "id": "8138e36c",
   "metadata": {},
   "outputs": [
    {
     "name": "stdout",
     "output_type": "stream",
     "text": [
      "березка\n"
     ]
    }
   ],
   "source": [
    "# 16\n",
    "\n",
    "subject: str = \"зайка\"\n",
    "objects: set[str] = set()\n",
    "\n",
    "while (nature := input().split()) != []:\n",
    "    seen = None\n",
    "    for item in nature:\n",
    "        if seen == subject:\n",
    "            objects.add(item)\n",
    "        if item == subject:\n",
    "            if seen:\n",
    "                objects.add(seen)\n",
    "        seen = item\n",
    "\n",
    "for item in objects:\n",
    "    print(item)"
   ]
  },
  {
   "cell_type": "code",
   "execution_count": null,
   "id": "786e6b5a",
   "metadata": {},
   "outputs": [
    {
     "name": "stdout",
     "output_type": "stream",
     "text": [
      "Женя: Илья\n",
      "Илья: Женя, Николай\n",
      "Николай: Илья\n",
      "Фёдор: \n"
     ]
    }
   ],
   "source": [
    "# 17\n",
    "\n",
    "friends: dict[str, set[str]] = {}\n",
    "\n",
    "while pair := input():\n",
    "    friend1, friend2 = pair.split()\n",
    "    friends[friend1] = friends.get(friend1, set()) | {friend2}\n",
    "    friends[friend2] = friends.get(friend2, set()) | {friend1}\n",
    "\n",
    "friends_of_friends: dict[str, list[str]] = {}\n",
    "\n",
    "for name in sorted(friends):\n",
    "    foaf_set: set[str] = set()\n",
    "    for person in friends[name]:\n",
    "        foaf_set |= friends[person]\n",
    "    foaf_set.discard(name)\n",
    "    foaf_set -= friends[name]\n",
    "    friends_of_friends[name] = sorted(foaf_set)\n",
    "\n",
    "for name in sorted(friends_of_friends):\n",
    "    print(f'{name}: {\", \".join(friends_of_friends[name])}')"
   ]
  },
  {
   "cell_type": "code",
   "execution_count": null,
   "id": "a047e19b",
   "metadata": {},
   "outputs": [
    {
     "name": "stdout",
     "output_type": "stream",
     "text": [
      "2\n"
     ]
    }
   ],
   "source": [
    "# 18\n",
    "\n",
    "treasures: dict[tuple[int, int], int] = {}\n",
    "\n",
    "for _ in range(count := int(input())):\n",
    "    x_var, y_var = input().split()\n",
    "    index = (int(x_var) // 10, int(y_var) // 10)\n",
    "    treasures[index] = treasures.get(index, 0) + 1\n",
    "\n",
    "print(max(treasures.values()))"
   ]
  },
  {
   "cell_type": "code",
   "execution_count": null,
   "id": "6f4c6828",
   "metadata": {},
   "outputs": [
    {
     "name": "stdout",
     "output_type": "stream",
     "text": [
      "домик\n",
      "зайчик\n",
      "кубики\n",
      "кукла\n"
     ]
    }
   ],
   "source": [
    "# 19\n",
    "\n",
    "toys: list[str] = []\n",
    "unique: dict[str, int] = {}\n",
    "\n",
    "for _ in range(int(input())):\n",
    "    name, str_ = input().split(\": \")\n",
    "    toys.extend(set(str_.split(\", \")))\n",
    "\n",
    "for toy in sorted(toys):\n",
    "    unique[toy] = unique.get(toy, 0) + 1\n",
    "\n",
    "for toy, count in unique.items():\n",
    "    if count == 1:\n",
    "        print(toy)"
   ]
  },
  {
   "cell_type": "code",
   "execution_count": null,
   "id": "16e290e2",
   "metadata": {},
   "outputs": [
    {
     "name": "stdout",
     "output_type": "stream",
     "text": [
      "2 - 7, 49\n",
      "7 - 2, 12\n",
      "12 - 7, 49\n",
      "49 - 2, 12\n"
     ]
    }
   ],
   "source": [
    "# 20\n",
    "\n",
    "items_2: set[str] = set(input().split(\"; \"))\n",
    "\n",
    "numbers: list[int] = []\n",
    "\n",
    "for item in items_2:\n",
    "    numbers.append(int(item))\n",
    "\n",
    "numbers.sort()\n",
    "\n",
    "for num1 in numbers:\n",
    "    mutually = []\n",
    "    for num2 in numbers:\n",
    "        if num1 != num2:\n",
    "            a_var, b_var = num1, num2\n",
    "            while b_var != 0:\n",
    "                a_var, b_var = b_var, a_var % b_var\n",
    "            if a_var == 1:\n",
    "                mutually.append(f\"{num2}\")\n",
    "    if mutually:\n",
    "        print(num1, \"-\", \", \".join(mutually))"
   ]
  }
 ],
 "metadata": {
  "kernelspec": {
   "display_name": "base",
   "language": "python",
   "name": "python3"
  },
  "language_info": {
   "codemirror_mode": {
    "name": "ipython",
    "version": 3
   },
   "file_extension": ".py",
   "mimetype": "text/x-python",
   "name": "python",
   "nbconvert_exporter": "python",
   "pygments_lexer": "ipython3",
   "version": "3.12.7"
  }
 },
 "nbformat": 4,
 "nbformat_minor": 5
}
