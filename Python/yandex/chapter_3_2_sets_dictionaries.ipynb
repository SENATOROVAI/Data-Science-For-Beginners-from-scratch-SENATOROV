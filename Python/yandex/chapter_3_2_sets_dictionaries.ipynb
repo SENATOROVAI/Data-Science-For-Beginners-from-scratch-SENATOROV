{
 "cells": [
  {
   "cell_type": "code",
   "execution_count": null,
   "id": "09b948a9",
   "metadata": {},
   "outputs": [],
   "source": [
    "\"\"\"Sets, dictionaries.\"\"\""
   ]
  },
  {
   "cell_type": "code",
   "execution_count": null,
   "id": "c9036558",
   "metadata": {},
   "outputs": [],
   "source": [
    "# 1\n",
    "\n",
    "string_1: set[str] = set(input())\n",
    "\n",
    "for char in string_1:\n",
    "    print(char, end=\"\")"
   ]
  },
  {
   "cell_type": "code",
   "execution_count": null,
   "id": "b6d0d8a7",
   "metadata": {},
   "outputs": [],
   "source": [
    "# 2\n",
    "\n",
    "for char in set(input()) & set(input()):\n",
    "    print(char, end=\"\")"
   ]
  },
  {
   "cell_type": "code",
   "execution_count": null,
   "id": "0fb43c26",
   "metadata": {},
   "outputs": [],
   "source": [
    "# 3\n",
    "\n",
    "items: set[str] = set()\n",
    "\n",
    "for _ in range(int(input())):\n",
    "    string_2: str = input()\n",
    "    items |= set(string_2.split())\n",
    "\n",
    "for item in items:\n",
    "    print(item)"
   ]
  },
  {
   "cell_type": "code",
   "execution_count": null,
   "id": "f797c03f",
   "metadata": {},
   "outputs": [],
   "source": [
    "# 4\n",
    "\n",
    "first_list_size: int = int(input())\n",
    "second_list_size: int = int(input())\n",
    "\n",
    "first_set: set[str] = set()\n",
    "second_set: set[str] = set()\n",
    "\n",
    "for _ in range(first_list_size):\n",
    "    first_set.add(input())\n",
    "\n",
    "for _ in range(second_list_size):\n",
    "    second_set.add(input())\n",
    "\n",
    "common_elements: set[str] = first_set & second_set\n",
    "\n",
    "if len(common_elements) != 0:\n",
    "    print(len(common_elements))\n",
    "else:\n",
    "    print(\"Таких нет\")"
   ]
  },
  {
   "cell_type": "code",
   "execution_count": null,
   "id": "cf4b86c8",
   "metadata": {},
   "outputs": [],
   "source": [
    "# 5\n",
    "\n",
    "total_first_list_size: int = int(input())\n",
    "total_second_list_size: int = int(input())\n",
    "\n",
    "unique_names: set[str] = set()\n",
    "duplicate_names: set[str] = set()\n",
    "\n",
    "for _ in range(total_first_list_size + total_second_list_size):\n",
    "    surname: str = input()\n",
    "    if surname in unique_names:\n",
    "        duplicate_names.add(surname)\n",
    "    else:\n",
    "        unique_names.add(surname)\n",
    "\n",
    "non_duplicate_surnames: set[str] = unique_names ^ duplicate_names\n",
    "\n",
    "if len(non_duplicate_surnames) != 0:\n",
    "    print(len(non_duplicate_surnames))\n",
    "else:\n",
    "    print(\"Таких нет\")"
   ]
  }
 ],
 "metadata": {
  "language_info": {
   "name": "python"
  }
 },
 "nbformat": 4,
 "nbformat_minor": 5
}
