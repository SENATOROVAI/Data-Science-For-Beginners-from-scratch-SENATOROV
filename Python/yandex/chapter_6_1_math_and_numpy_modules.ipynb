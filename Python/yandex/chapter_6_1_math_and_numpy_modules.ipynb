{
 "cells": [
  {
   "cell_type": "code",
   "execution_count": null,
   "id": "f7935e08",
   "metadata": {},
   "outputs": [],
   "source": [
    "\"\"\"Math and numpy modules.\"\"\""
   ]
  },
  {
   "cell_type": "code",
   "execution_count": null,
   "id": "6125e450",
   "metadata": {},
   "outputs": [
    {
     "name": "stdout",
     "output_type": "stream",
     "text": [
      "0.4818035253577275\n"
     ]
    }
   ],
   "source": [
    "# 1\n",
    "\n",
    "\n",
    "import math\n",
    "import sys\n",
    "from math import cos, sin, sqrt\n",
    "\n",
    "import numpy as np\n",
    "from numpy.typing import NDArray  # type: ignore\n",
    "\n",
    "\n",
    "def compute_expression(x_var: float) -> float:\n",
    "    \"\"\"Compute a custom mathematical expression based on x_var.\"\"\"\n",
    "    try:\n",
    "        term1: float = math.log(x_var ** (3 / 16), 32)\n",
    "        term2: float = x_var ** math.cos((math.pi * x_var) / (2 * math.e))\n",
    "        term3: float = math.sin(x_var / math.pi) ** 2\n",
    "        return term1 + term2 - term3\n",
    "    except (ValueError, ZeroDivisionError) as e:\n",
    "        print(f\"Computation error: {e}\")\n",
    "        return float(\"nan\")\n",
    "\n",
    "\n",
    "def main() -> None:\n",
    "    \"\"\"Handle user input and prints the computed result.\"\"\"\n",
    "    try:\n",
    "        y_var: float = float(input(\"Enter y_var value: \"))\n",
    "        result: float = compute_expression(y_var)\n",
    "        print(result)\n",
    "    except ValueError:\n",
    "        print(\"Error: please enter a valid number.\")\n",
    "\n",
    "\n",
    "if __name__ == \"__main__\":\n",
    "    main()"
   ]
  },
  {
   "cell_type": "code",
   "execution_count": null,
   "id": "fc0b2ce9",
   "metadata": {},
   "outputs": [
    {
     "name": "stdout",
     "output_type": "stream",
     "text": [
      "2\n",
      "12\n",
      "3\n",
      "6\n",
      "1\n"
     ]
    }
   ],
   "source": [
    "# 2\n",
    "\n",
    "\n",
    "for line in sys.stdin:\n",
    "    line = line.strip()\n",
    "    if not line:\n",
    "        continue\n",
    "\n",
    "    parts = line.split()\n",
    "    a_var = int(parts[0])\n",
    "\n",
    "    for i in range(1, len(parts)):\n",
    "        b_var = int(parts[i])\n",
    "\n",
    "        while b_var != 0:\n",
    "            a_var, b_var = b_var, a_var % b_var\n",
    "\n",
    "    print(a_var)"
   ]
  },
  {
   "cell_type": "code",
   "execution_count": null,
   "id": "c18e5692",
   "metadata": {},
   "outputs": [
    {
     "name": "stdout",
     "output_type": "stream",
     "text": [
      "3 6\n"
     ]
    }
   ],
   "source": [
    "# 3\n",
    "\n",
    "\n",
    "N_var, M_var = map(int, input().split())\n",
    "\n",
    "\n",
    "def binomial_coefficient(n_var: int, k_var: int) -> int:\n",
    "    \"\"\"Return C(n, k) — number of combinations.\"\"\"\n",
    "    if 0 <= k_var <= n_var:\n",
    "        return math.factorial(n_var) // (\n",
    "            math.factorial(k_var) * math.factorial(n_var - k_var)\n",
    "        )\n",
    "    return 0\n",
    "\n",
    "\n",
    "comb1 = binomial_coefficient(N_var - 1, M_var - 1)\n",
    "comb2 = binomial_coefficient(N_var, M_var)\n",
    "\n",
    "\n",
    "print(comb1, comb2)"
   ]
  },
  {
   "cell_type": "code",
   "execution_count": null,
   "id": "b6e3dae3",
   "metadata": {},
   "outputs": [
    {
     "name": "stdout",
     "output_type": "stream",
     "text": [
      "2.605171084697352\n"
     ]
    }
   ],
   "source": [
    "# 4\n",
    "\n",
    "\n",
    "inputs_str = input().split()\n",
    "inputs_val = []\n",
    "\n",
    "for item in inputs_str:\n",
    "    inputs_val.append(float(item))\n",
    "\n",
    "product = 1.0\n",
    "for num in inputs_val:\n",
    "    product *= num\n",
    "\n",
    "geometric_mean = product ** (1 / len(inputs_val))\n",
    "\n",
    "\n",
    "print(geometric_mean)"
   ]
  },
  {
   "cell_type": "code",
   "execution_count": null,
   "id": "ec47ceb2",
   "metadata": {},
   "outputs": [
    {
     "name": "stdout",
     "output_type": "stream",
     "text": [
      "20.0\n"
     ]
    }
   ],
   "source": [
    "# 5\n",
    "\n",
    "\n",
    "deca_input = input().split()\n",
    "deca_x = float(deca_input[0])\n",
    "deca_y = float(deca_input[1])\n",
    "\n",
    "pola_input = input().split()\n",
    "pola_r = float(pola_input[0])\n",
    "pola_f = float(pola_input[1])\n",
    "\n",
    "pola_x = pola_r * cos(pola_f)\n",
    "pola_y = pola_r * sin(pola_f)\n",
    "\n",
    "dx = deca_x - pola_x\n",
    "dy = deca_y - pola_y\n",
    "distance = sqrt(dx * dx + dy * dy)\n",
    "\n",
    "\n",
    "print(distance)"
   ]
  },
  {
   "cell_type": "code",
   "execution_count": null,
   "id": "21f91b13",
   "metadata": {},
   "outputs": [
    {
     "name": "stdout",
     "output_type": "stream",
     "text": [
      "[[1 2 3]\n",
      " [2 4 6]\n",
      " [3 6 9]]\n"
     ]
    }
   ],
   "source": [
    "# 6\n",
    "\n",
    "\n",
    "def multiplication_matrix(size: int) -> NDArray[np.int64]:\n",
    "    \"\"\"Generate a size x size multiplication table matrix.\"\"\"\n",
    "    row = np.arange(1, size + 1)\n",
    "    col = row[:, np.newaxis]\n",
    "    return row * col\n",
    "\n",
    "\n",
    "print(multiplication_matrix(3))"
   ]
  },
  {
   "cell_type": "code",
   "execution_count": null,
   "id": "96b62a29",
   "metadata": {},
   "outputs": [
    {
     "name": "stdout",
     "output_type": "stream",
     "text": [
      "[[1 0 1 0]\n",
      " [0 1 0 1]\n",
      " [1 0 1 0]\n",
      " [0 1 0 1]]\n"
     ]
    }
   ],
   "source": [
    "# 7\n",
    "\n",
    "\n",
    "def make_board(size: int) -> NDArray[np.int8]:\n",
    "    \"\"\"Generate an n x n chessboard pattern as a matrix of 0s and 1s.\"\"\"\n",
    "    indices = np.indices((size, size))\n",
    "    board = (indices[0] + indices[1]) % 2\n",
    "    rotated_board = np.rot90(board)\n",
    "    return rotated_board.astype(np.int8)\n",
    "\n",
    "\n",
    "print(make_board(4))"
   ]
  },
  {
   "cell_type": "code",
   "execution_count": null,
   "id": "95ce9acf",
   "metadata": {},
   "outputs": [
    {
     "name": "stdout",
     "output_type": "stream",
     "text": [
      "[[ 1  2  3  4  5]\n",
      " [10  9  8  7  6]\n",
      " [11 12 13 14 15]]\n"
     ]
    }
   ],
   "source": [
    "# 8\n",
    "\n",
    "\n",
    "def snake(width: int, height: int, direction: str = \"H\") -> NDArray[np.int16]:\n",
    "    \"\"\"Generate a matrix filled in a snake-like pattern.\"\"\"\n",
    "    matrix = np.zeros((height, width), dtype=np.int16)\n",
    "\n",
    "    if direction == \"H\":\n",
    "        for row in range(height):\n",
    "            start = row * width + 1\n",
    "            end = (row + 1) * width + 1\n",
    "            values: NDArray[np.int16]\n",
    "            values = np.arange(start, end, dtype=np.int16)\n",
    "            if row % 2 != 0:\n",
    "                values = np.ascontiguousarray(values[::-1])\n",
    "            matrix[row] = values\n",
    "\n",
    "    elif direction == \"V\":\n",
    "        for col in range(width):\n",
    "            start = col * height + 1\n",
    "            end = (col + 1) * height + 1\n",
    "            values = np.arange(start, end, dtype=np.int16)\n",
    "            if col % 2 != 0:\n",
    "                values = np.ascontiguousarray(values[::-1])\n",
    "            matrix[:, col] = values\n",
    "\n",
    "    return matrix\n",
    "\n",
    "\n",
    "print(snake(5, 3))"
   ]
  },
  {
   "cell_type": "code",
   "execution_count": null,
   "id": "ff29707e",
   "metadata": {},
   "outputs": [
    {
     "name": "stdout",
     "output_type": "stream",
     "text": [
      "[[ 8  4  0]\n",
      " [ 9  5  1]\n",
      " [10  6  2]\n",
      " [11  7  3]]\n"
     ]
    }
   ],
   "source": [
    "# 9\n",
    "\n",
    "\n",
    "def rotate(matrix: NDArray[np.int64], angle: int) -> NDArray[np.int64]:\n",
    "    \"\"\"Rotate a matrix by a given angle in degrees (clockwise).\"\"\"\n",
    "    k_var = (360 - angle) // 90\n",
    "    return np.rot90(matrix, k_var)\n",
    "\n",
    "\n",
    "print(rotate(np.arange(12).reshape(3, 4), 90))"
   ]
  },
  {
   "cell_type": "code",
   "execution_count": null,
   "id": "5b76e87e",
   "metadata": {},
   "outputs": [
    {
     "name": "stdout",
     "output_type": "stream",
     "text": [
      "[[0 1 2]\n",
      " [2 0 1]\n",
      " [1 2 0]]\n"
     ]
    }
   ],
   "source": [
    "# 10\n",
    "\n",
    "\n",
    "def stairs(vector: NDArray[np.int64]) -> NDArray[np.int64]:\n",
    "    \"\"\"Create a matrix with a row as a vector shifted right by its index.\"\"\"\n",
    "    size = len(vector)\n",
    "    result = np.zeros((size, size), dtype=vector.dtype)\n",
    "\n",
    "    for row in range(size):\n",
    "        result[row] = np.roll(vector, row)\n",
    "\n",
    "    return result\n",
    "\n",
    "\n",
    "print(stairs(np.arange(3)))"
   ]
  }
 ],
 "metadata": {
  "kernelspec": {
   "display_name": "base",
   "language": "python",
   "name": "python3"
  },
  "language_info": {
   "codemirror_mode": {
    "name": "ipython",
    "version": 3
   },
   "file_extension": ".py",
   "mimetype": "text/x-python",
   "name": "python",
   "nbconvert_exporter": "python",
   "pygments_lexer": "ipython3",
   "version": "3.12.7"
  }
 },
 "nbformat": 4,
 "nbformat_minor": 5
}
