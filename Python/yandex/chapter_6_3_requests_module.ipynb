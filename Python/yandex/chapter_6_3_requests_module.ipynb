{
 "cells": [
  {
   "cell_type": "code",
   "execution_count": null,
   "id": "846aa36e",
   "metadata": {},
   "outputs": [],
   "source": [
    "\"\"\"Requests module.\"\"\""
   ]
  },
  {
   "cell_type": "code",
   "execution_count": null,
   "id": "14f9c586",
   "metadata": {},
   "outputs": [
    {
     "name": "stdout",
     "output_type": "stream",
     "text": [
      "Привет!\n"
     ]
    }
   ],
   "source": [
    "# 1\n",
    "\n",
    "\n",
    "import json\n",
    "from collections import OrderedDict\n",
    "from json.decoder import JSONDecodeError\n",
    "\n",
    "from requests import delete, get, post, put\n",
    "\n",
    "response = get(\"http://127.0.0.1:5000/\")\n",
    "\n",
    "answer = response.content.decode(\"utf-8\")\n",
    "\n",
    "print(answer)"
   ]
  },
  {
   "cell_type": "code",
   "execution_count": null,
   "id": "4e73a50b",
   "metadata": {},
   "outputs": [
    {
     "name": "stdout",
     "output_type": "stream",
     "text": [
      "6\n"
     ]
    }
   ],
   "source": [
    "# 2\n",
    "\n",
    "\n",
    "address = input().strip()\n",
    "\n",
    "total = 0\n",
    "\n",
    "while True:\n",
    "    response = get(f\"http://{address}/\")\n",
    "\n",
    "    number = int(response.content.decode(\"utf-8\"))\n",
    "\n",
    "    if number == 0:\n",
    "        break\n",
    "\n",
    "    total += number\n",
    "\n",
    "print(total)"
   ]
  },
  {
   "cell_type": "code",
   "execution_count": null,
   "id": "ce3db0e6",
   "metadata": {},
   "outputs": [
    {
     "name": "stdout",
     "output_type": "stream",
     "text": [
      "6\n"
     ]
    }
   ],
   "source": [
    "# 3\n",
    "\n",
    "\n",
    "address = input()\n",
    "response = get(f\"http://{address}/\")\n",
    "\n",
    "numbers = [x for x in response.json() if isinstance(x, int)]\n",
    "\n",
    "print(sum(numbers))"
   ]
  },
  {
   "cell_type": "code",
   "execution_count": null,
   "id": "4edc5025",
   "metadata": {},
   "outputs": [
    {
     "name": "stdout",
     "output_type": "stream",
     "text": [
      "2\n"
     ]
    }
   ],
   "source": [
    "# 4\n",
    "\n",
    "\n",
    "address = input().strip()\n",
    "key = input().strip()\n",
    "\n",
    "response = get(f\"http://{address}/\")\n",
    "data = response.json()\n",
    "\n",
    "print(data.get(key, \"No data\"))"
   ]
  },
  {
   "cell_type": "code",
   "execution_count": null,
   "id": "7272d41f",
   "metadata": {},
   "outputs": [
    {
     "name": "stdout",
     "output_type": "stream",
     "text": [
      "24\n"
     ]
    }
   ],
   "source": [
    "# 5\n",
    "\n",
    "\n",
    "address = input().strip()\n",
    "\n",
    "paths = []\n",
    "try:\n",
    "    while True:\n",
    "        line = input().strip()\n",
    "        if line:\n",
    "            paths.append(line)\n",
    "        else:\n",
    "            break\n",
    "except EOFError:\n",
    "    pass\n",
    "\n",
    "all_numbers = []\n",
    "\n",
    "for path in paths:\n",
    "    url = f\"http://{address}{path}\"\n",
    "    data = get(url).json()\n",
    "    all_numbers.extend(data)\n",
    "\n",
    "print(sum(all_numbers))"
   ]
  },
  {
   "cell_type": "code",
   "execution_count": null,
   "id": "4618d468",
   "metadata": {},
   "outputs": [
    {
     "name": "stdout",
     "output_type": "stream",
     "text": [
      "Иванов Василий\n",
      "Иванов Виктор\n",
      "Петрова Елизавета\n"
     ]
    }
   ],
   "source": [
    "# 6\n",
    "\n",
    "\n",
    "\n",
    "address = input().strip()\n",
    "\n",
    "url = f\"http://{address}/users/\"\n",
    "response = get(url)\n",
    "\n",
    "users = get(url).json()\n",
    "\n",
    "full_names = [f\"{u['last_name']} {u['first_name']}\" for u in users]\n",
    "\n",
    "full_names.sort()\n",
    "\n",
    "for name in full_names:\n",
    "    print(name)"
   ]
  },
  {
   "cell_type": "code",
   "execution_count": null,
   "id": "8c0c2563",
   "metadata": {},
   "outputs": [
    {
     "name": "stdout",
     "output_type": "stream",
     "text": [
      "Письмо для: vas.ivanov@server.none\n",
      "Здравствуйте, Иванов Василий\n",
      "Мы рады сообщить вам о предстоящей акции!\n",
      "Все подробности на нашем сайте\n",
      "С уважением, команда тестового сервера!\n"
     ]
    }
   ],
   "source": [
    "# 7\n",
    "\n",
    "\n",
    "\n",
    "address = input().strip()\n",
    "\n",
    "user_id = input().strip()\n",
    "\n",
    "message_lines = []\n",
    "while True:\n",
    "    line = input()\n",
    "    message_lines.append(line)\n",
    "    if line.strip() == \"С уважением, команда тестового сервера!\":\n",
    "        break\n",
    "\n",
    "message_template = \"\\n\".join(message_lines)\n",
    "\n",
    "url = f\"http://{address}/users/{user_id}\"\n",
    "response = get(url)\n",
    "\n",
    "if response.status_code == 404:\n",
    "    print(\"Пользователь не найден\")\n",
    "else:\n",
    "    try:\n",
    "        user = response.json()\n",
    "        message = message_template.format(**user)\n",
    "        print(message)\n",
    "    except JSONDecodeError as e:\n",
    "        print(\"Ошибка при декодировании JSON:\", e)"
   ]
  },
  {
   "cell_type": "code",
   "execution_count": null,
   "id": "2c4da42c",
   "metadata": {},
   "outputs": [
    {
     "name": "stdout",
     "output_type": "stream",
     "text": [
      "[\n",
      "    {\n",
      "        \"id\": 1,\n",
      "        \"username\": \"first\",\n",
      "        \"last_name\": \"Петрова\",\n",
      "        \"first_name\": \"Елизавета\",\n",
      "        \"email\": \"e.petrova@server.none\"\n",
      "    },\n",
      "    {\n",
      "        \"id\": 2,\n",
      "        \"username\": \"second\",\n",
      "        \"last_name\": \"Иванов\",\n",
      "        \"first_name\": \"Василий\",\n",
      "        \"email\": \"vas.ivanov@server.none\"\n",
      "    },\n",
      "    {\n",
      "        \"id\": 3,\n",
      "        \"username\": \"third\",\n",
      "        \"last_name\": \"Иванов\",\n",
      "        \"first_name\": \"Виктор\",\n",
      "        \"email\": \"vik.ivanov@server.none\"\n",
      "    },\n",
      "    {\n",
      "        \"username\": \"fourth\",\n",
      "        \"last_name\": \"Петров\",\n",
      "        \"first_name\": \"Кирилл\",\n",
      "        \"email\": \"k.petrov@server.none\",\n",
      "        \"id\": 4\n",
      "    }\n",
      "]\n"
     ]
    }
   ],
   "source": [
    "# 8\n",
    "\n",
    "\n",
    "\n",
    "address = input().strip()\n",
    "username = input().strip()\n",
    "last_name = input().strip()\n",
    "first_name = input().strip()\n",
    "email = input().strip()\n",
    "\n",
    "user = {\n",
    "    \"username\": username,\n",
    "    \"last_name\": last_name,\n",
    "    \"first_name\": first_name,\n",
    "    \"email\": email,\n",
    "}\n",
    "\n",
    "url = f\"http://{address}/users/\"\n",
    "\n",
    "response_post = post(url, json=user)\n",
    "\n",
    "if response_post.status_code == 201:\n",
    "    response_get = get(url)\n",
    "    if response_get.status_code == 200:\n",
    "        users = json.loads(response_get.text, object_pairs_hook=OrderedDict)\n",
    "        print(json.dumps(users, ensure_ascii=False, indent=4))\n",
    "    else:\n",
    "        print(f\"Ошибка при получении списка пользователей: {response_get.status_code}\")\n",
    "else:\n",
    "    print(f\"Ошибка при добавлении пользователя: {response_post.status_code}\")"
   ]
  },
  {
   "cell_type": "code",
   "execution_count": null,
   "id": "eab1bb3c",
   "metadata": {},
   "outputs": [
    {
     "name": "stdout",
     "output_type": "stream",
     "text": [
      "[\n",
      "    {\n",
      "        \"id\": 1,\n",
      "        \"username\": \"first\",\n",
      "        \"last_name\": \"Петрова\",\n",
      "        \"first_name\": \"Елизавета\",\n",
      "        \"email\": \"e.petrova@server.none\"\n",
      "    },\n",
      "    {\n",
      "        \"id\": 2,\n",
      "        \"username\": \"ivanov_vasily\",\n",
      "        \"last_name\": \"Иванов\",\n",
      "        \"first_name\": \"Василий\",\n",
      "        \"email\": \"ivanov_vasily@server.none\"\n",
      "    },\n",
      "    {\n",
      "        \"id\": 3,\n",
      "        \"username\": \"third\",\n",
      "        \"last_name\": \"Иванов\",\n",
      "        \"first_name\": \"Виктор\",\n",
      "        \"email\": \"vik.ivanov@server.none\"\n",
      "    }\n",
      "]\n"
     ]
    }
   ],
   "source": [
    "# 9\n",
    "\n",
    "\n",
    "\n",
    "address = input().strip()\n",
    "user_id = input().strip()\n",
    "\n",
    "user = {}\n",
    "while True:\n",
    "    try:\n",
    "        line = input().strip()\n",
    "        if not line:\n",
    "            break\n",
    "        key, value = line.split(\"=\", 1)\n",
    "        user[key] = value\n",
    "    except EOFError:\n",
    "        break\n",
    "\n",
    "url = f\"http://{address}/users/{user_id}\"\n",
    "\n",
    "response_put = put(url, json=user)\n",
    "\n",
    "if response_put.status_code == 200:\n",
    "    response_get = get(f\"http://{address}/users/\")\n",
    "    if response_get.status_code == 200:\n",
    "        users = response_get.json()\n",
    "        print(json.dumps(users, ensure_ascii=False, indent=4))\n",
    "    else:\n",
    "        print(f\"Ошибка при получении списка пользователей: {response_get.status_code}\")\n",
    "else:\n",
    "    print(f\"Ошибка при обновлении пользователя: {response_put.status_code}\")"
   ]
  },
  {
   "cell_type": "code",
   "execution_count": null,
   "id": "d98c905a",
   "metadata": {},
   "outputs": [
    {
     "name": "stdout",
     "output_type": "stream",
     "text": [
      "[\n",
      "    {\n",
      "        \"id\": 1,\n",
      "        \"username\": \"first\",\n",
      "        \"last_name\": \"Петрова\",\n",
      "        \"first_name\": \"Елизавета\",\n",
      "        \"email\": \"e.petrova@server.none\"\n",
      "    },\n",
      "    {\n",
      "        \"id\": 3,\n",
      "        \"username\": \"third\",\n",
      "        \"last_name\": \"Иванов\",\n",
      "        \"first_name\": \"Виктор\",\n",
      "        \"email\": \"vik.ivanov@server.none\"\n",
      "    }\n",
      "]\n"
     ]
    }
   ],
   "source": [
    "# 10\n",
    "\n",
    "\n",
    "\n",
    "address = input().strip()\n",
    "user_id = input().strip()\n",
    "\n",
    "url = f\"http://{address}/users/{user_id}\"\n",
    "\n",
    "response_del = delete(url)\n",
    "\n",
    "if response_del.status_code == 204:\n",
    "    response_get = get(f\"http://{address}/users/\")\n",
    "    if response_get.status_code == 200:\n",
    "        users = json.loads(response_get.text, object_pairs_hook=OrderedDict)\n",
    "\n",
    "        print(json.dumps(users, ensure_ascii=False, indent=4))\n",
    "    else:\n",
    "        print(f\"Ошибка при получении списка пользователей: {response_get.status_code}\")\n",
    "else:\n",
    "    print(f\"Ошибка при удалении пользователя: {response_del.status_code}\")"
   ]
  }
 ],
 "metadata": {
  "kernelspec": {
   "display_name": "base",
   "language": "python",
   "name": "python3"
  },
  "language_info": {
   "codemirror_mode": {
    "name": "ipython",
    "version": 3
   },
   "file_extension": ".py",
   "mimetype": "text/x-python",
   "name": "python",
   "nbconvert_exporter": "python",
   "pygments_lexer": "ipython3",
   "version": "3.12.7"
  }
 },
 "nbformat": 4,
 "nbformat_minor": 5
}
