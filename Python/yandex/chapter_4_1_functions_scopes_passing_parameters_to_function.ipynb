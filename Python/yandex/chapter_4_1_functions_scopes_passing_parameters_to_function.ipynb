{
 "cells": [
  {
   "cell_type": "code",
   "execution_count": null,
   "id": "fafa47e9",
   "metadata": {},
   "outputs": [],
   "source": [
    "\"\"\"Functions. Scopes. Passing parameters to a function.\"\"\""
   ]
  },
  {
   "cell_type": "code",
   "execution_count": null,
   "id": "ff1f8e84",
   "metadata": {},
   "outputs": [
    {
     "name": "stdout",
     "output_type": "stream",
     "text": [
      "Hello, Ruslan!\n"
     ]
    }
   ],
   "source": [
    "# 1\n",
    "\n",
    "\n",
    "def print_hello(name: str) -> None:\n",
    "    \"\"\"Return greeting statement.\"\"\"\n",
    "    print(f\"Hello, {name}!\")\n",
    "\n",
    "\n",
    "print_hello(\"Ruslan\")"
   ]
  },
  {
   "cell_type": "code",
   "execution_count": null,
   "id": "418a2f8e",
   "metadata": {},
   "outputs": [
    {
     "name": "stdout",
     "output_type": "stream",
     "text": [
      "3\n"
     ]
    }
   ],
   "source": [
    "# 2\n",
    "\n",
    "\n",
    "def gcd(nat_number1: int, nat_number2: int) -> int:\n",
    "    \"\"\"Calculate greater common divisor.\"\"\"\n",
    "    while nat_number2:\n",
    "        nat_number1, nat_number2 = nat_number2, nat_number1 % nat_number2\n",
    "    return nat_number1\n",
    "\n",
    "\n",
    "result_1 = gcd(12, 45)\n",
    "\n",
    "print(result_1)"
   ]
  },
  {
   "cell_type": "code",
   "execution_count": 5,
   "id": "9c13a1da",
   "metadata": {},
   "outputs": [
    {
     "name": "stdout",
     "output_type": "stream",
     "text": [
      "5\n"
     ]
    }
   ],
   "source": [
    "# 3\n",
    "\n",
    "\n",
    "def number_length(number: int) -> int:\n",
    "    \"\"\"Return a length of an integer.\"\"\"\n",
    "    if number != 0:\n",
    "        length = 0\n",
    "    else:\n",
    "        length = 1\n",
    "    while number != 0:\n",
    "        number = int(number / 10)\n",
    "        length += 1\n",
    "    return length\n",
    "\n",
    "\n",
    "result_2 = number_length(12345)\n",
    "\n",
    "print(result_2)"
   ]
  },
  {
   "cell_type": "code",
   "execution_count": 6,
   "id": "2bc1fd0c",
   "metadata": {},
   "outputs": [
    {
     "name": "stdout",
     "output_type": "stream",
     "text": [
      "January\n"
     ]
    }
   ],
   "source": [
    "# 4\n",
    "\n",
    "\n",
    "def month(num: int, lang: str) -> str | None:\n",
    "    \"\"\"Return a name of given month.\"\"\"\n",
    "    months = {\n",
    "        \"en\": [\n",
    "            \"January\",\n",
    "            \"February\",\n",
    "            \"March\",\n",
    "            \"April\",\n",
    "            \"May\",\n",
    "            \"June\",\n",
    "            \"July\",\n",
    "            \"August\",\n",
    "            \"September\",\n",
    "            \"October\",\n",
    "            \"November\",\n",
    "            \"December\",\n",
    "        ],\n",
    "        \"ru\": [\n",
    "            \"Январь\",\n",
    "            \"Февраль\",\n",
    "            \"Март\",\n",
    "            \"Апрель\",\n",
    "            \"Май\",\n",
    "            \"Июнь\",\n",
    "            \"Июль\",\n",
    "            \"Август\",\n",
    "            \"Сентябрь\",\n",
    "            \"Октябрь\",\n",
    "            \"Ноябрь\",\n",
    "            \"Декабрь\",\n",
    "        ],\n",
    "    }\n",
    "\n",
    "    return months[lang][num - 1]\n",
    "\n",
    "\n",
    "result_3 = month(1, \"en\")\n",
    "\n",
    "print(result_3)"
   ]
  },
  {
   "cell_type": "code",
   "execution_count": 7,
   "id": "d95e7d37",
   "metadata": {},
   "outputs": [
    {
     "name": "stdout",
     "output_type": "stream",
     "text": [
      "(1, 2, 3, 4, 5)\n"
     ]
    }
   ],
   "source": [
    "# 5\n",
    "\n",
    "\n",
    "def split_numbers(string_1: str) -> tuple[int, ...]:\n",
    "    \"\"\"Return a tuple of integers.\"\"\"\n",
    "    result = []\n",
    "    for number in string_1.split():\n",
    "        result.append(int(number))\n",
    "    return tuple(result)\n",
    "\n",
    "\n",
    "result_4 = split_numbers(\"1 2 3 4 5\")\n",
    "\n",
    "print(result_4)"
   ]
  },
  {
   "cell_type": "code",
   "execution_count": null,
   "id": "6ed535bd",
   "metadata": {},
   "outputs": [
    {
     "name": "stdout",
     "output_type": "stream",
     "text": [
      "Hello!\n",
      "How do you do?\n"
     ]
    }
   ],
   "source": [
    "# 6\n",
    "\n",
    "\n",
    "records: list[str] = []\n",
    "\n",
    "\n",
    "def modern_print(string_2: str) -> None:\n",
    "    \"\"\"Print only non-duplicate strings.\"\"\"\n",
    "    if string_2 not in records:\n",
    "        records.append(string_2)\n",
    "        print(string_2)\n",
    "\n",
    "\n",
    "modern_print(\"Hello!\")\n",
    "modern_print(\"Hello!\")\n",
    "modern_print(\"How do you do?\")\n",
    "modern_print(\"Hello!\")"
   ]
  },
  {
   "cell_type": "code",
   "execution_count": null,
   "id": "2610685c",
   "metadata": {},
   "outputs": [
    {
     "name": "stdout",
     "output_type": "stream",
     "text": [
      "False\n"
     ]
    }
   ],
   "source": [
    "# 7\n",
    "\n",
    "\n",
    "def can_eat(knight: tuple[int, int], cell: tuple[int, int]) -> bool:\n",
    "    \"\"\"Check whether a knight can hit chess piece, located at the given position.\"\"\"\n",
    "    x_cell = knight[0] - cell[0]\n",
    "    if x_cell < 0:\n",
    "        x_cell = -x_cell\n",
    "\n",
    "    y_cell = knight[1] - cell[1]\n",
    "    if y_cell < 0:\n",
    "        y_cell = -y_cell\n",
    "\n",
    "    return sorted([x_cell, y_cell]) == [1, 2]\n",
    "\n",
    "\n",
    "print(can_eat((5, 5), (6, 6)))"
   ]
  },
  {
   "cell_type": "code",
   "execution_count": null,
   "id": "28d50d8b",
   "metadata": {},
   "outputs": [
    {
     "name": "stdout",
     "output_type": "stream",
     "text": [
      "False\n"
     ]
    }
   ],
   "source": [
    "# 8\n",
    "\n",
    "\n",
    "def is_palindrome(test: int | str | list[int] | tuple[int, ...] | float) -> bool:\n",
    "    \"\"\"Check whether input data is a palindrome.\"\"\"\n",
    "    if isinstance(test, (int, float)):\n",
    "        if test < 0:\n",
    "            test = -test\n",
    "        test = str(test)\n",
    "    return test == test[::-1]\n",
    "\n",
    "\n",
    "result_5 = is_palindrome(123)\n",
    "\n",
    "print(result_5)"
   ]
  },
  {
   "cell_type": "code",
   "execution_count": 11,
   "id": "54972d8d",
   "metadata": {},
   "outputs": [
    {
     "name": "stdout",
     "output_type": "stream",
     "text": [
      "True\n"
     ]
    }
   ],
   "source": [
    "# 9\n",
    "\n",
    "\n",
    "def is_prime(number: int) -> bool:\n",
    "    \"\"\"Check if a number is a prime number.\"\"\"\n",
    "    if number < 2:\n",
    "        return False\n",
    "    for divider in range(2, int(number**0.5) + 1):\n",
    "        if number % divider == 0:\n",
    "            return False\n",
    "    return True\n",
    "\n",
    "\n",
    "result_6 = is_prime(1001459)\n",
    "\n",
    "print(result_6)"
   ]
  },
  {
   "cell_type": "code",
   "execution_count": null,
   "id": "ab849ab7",
   "metadata": {},
   "outputs": [
    {
     "name": "stdout",
     "output_type": "stream",
     "text": [
      "(1, 2, 3, 4, 5)\n"
     ]
    }
   ],
   "source": [
    "# 10\n",
    "\n",
    "\n",
    "def merge(tuple_1: tuple[int, ...], tuple_2: tuple[int, ...]) -> tuple[int, ...]:\n",
    "    \"\"\"Return merged tuple.\"\"\"\n",
    "    turn_1 = list(tuple_1)\n",
    "    turn_2 = list(tuple_2)\n",
    "    result = []\n",
    "    while turn_1 and turn_2:\n",
    "        if turn_1[0] > turn_2[0]:\n",
    "            result.append(turn_2.pop(0))\n",
    "        else:\n",
    "            result.append(turn_1.pop(0))\n",
    "    result.extend(turn_1)\n",
    "    result.extend(turn_2)\n",
    "    return tuple(result)\n",
    "\n",
    "result_7 = merge((1, 2), (3, 4, 5))\n",
    "\n",
    "print(result_7)"
   ]
  }
 ],
 "metadata": {
  "kernelspec": {
   "display_name": "base",
   "language": "python",
   "name": "python3"
  },
  "language_info": {
   "codemirror_mode": {
    "name": "ipython",
    "version": 3
   },
   "file_extension": ".py",
   "mimetype": "text/x-python",
   "name": "python",
   "nbconvert_exporter": "python",
   "pygments_lexer": "ipython3",
   "version": "3.12.7"
  }
 },
 "nbformat": 4,
 "nbformat_minor": 5
}
