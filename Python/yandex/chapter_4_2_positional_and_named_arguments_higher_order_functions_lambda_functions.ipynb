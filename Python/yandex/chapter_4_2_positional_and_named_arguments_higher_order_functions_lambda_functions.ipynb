{
 "cells": [
  {
   "cell_type": "code",
   "execution_count": null,
   "id": "61a9fa29",
   "metadata": {},
   "outputs": [],
   "source": [
    "\"\"\"Positional and named arguments. Higher-order functions. Lambda functions.\"\"\""
   ]
  },
  {
   "cell_type": "code",
   "execution_count": null,
   "id": "e1e6f87c",
   "metadata": {},
   "outputs": [
    {
     "name": "stdout",
     "output_type": "stream",
     "text": [
      "[1, 1, 1, 1, 1]\n"
     ]
    }
   ],
   "source": [
    "# 1\n",
    "\n",
    "\n",
    "from typing import Sequence, Union\n",
    "\n",
    "\n",
    "def make_list(length: int, value: int = 0) -> list[int]:\n",
    "    \"\"\"Return a list of given length, filled with specified value.\"\"\"\n",
    "    return [value for _ in range(length)]\n",
    "\n",
    "\n",
    "result_1 = make_list(5, 1)\n",
    "\n",
    "print(result_1)"
   ]
  },
  {
   "cell_type": "code",
   "execution_count": null,
   "id": "fd010ebd",
   "metadata": {},
   "outputs": [
    {
     "name": "stdout",
     "output_type": "stream",
     "text": [
      "[[1, 1, 1, 1], [1, 1, 1, 1]]\n"
     ]
    }
   ],
   "source": [
    "# 2\n",
    "\n",
    "# fmt: off\n",
    "\n",
    "def make_matrix(\n",
    "    size: int | tuple[int, int], \n",
    "    value: int = 0\n",
    ") -> list[list[int]]:\n",
    "    \"\"\"Return generated 2D matrix, filled with a given value.\"\"\"\n",
    "    if isinstance(size, int):\n",
    "        rows = cols = size\n",
    "    elif isinstance(size, tuple) and len(size) == 2:\n",
    "        cols, rows = size\n",
    "    else:\n",
    "        raise ValueError(\"size must be int or a tuple of two integers\")\n",
    "\n",
    "    return [[value for _ in range(cols)] for _ in range(rows)]\n",
    "\n",
    "\n",
    "result_2 = make_matrix((4, 2), 1)\n",
    "\n",
    "print(result_2)"
   ]
  },
  {
   "cell_type": "code",
   "execution_count": 4,
   "id": "af0953cb",
   "metadata": {},
   "outputs": [
    {
     "name": "stdout",
     "output_type": "stream",
     "text": [
      "12\n"
     ]
    }
   ],
   "source": [
    "# 3\n",
    "\n",
    "\n",
    "def gcd(*values: int) -> int:\n",
    "    \"\"\"Return calculated GCD for number sequence.\"\"\"\n",
    "    result, *rest = values\n",
    "    for current in rest:\n",
    "        while current:\n",
    "            result, current = current, result % current\n",
    "    return result\n",
    "\n",
    "\n",
    "result_3 = gcd(36, 48, 156, 100500)\n",
    "\n",
    "print(result_3)"
   ]
  },
  {
   "cell_type": "code",
   "execution_count": null,
   "id": "aad9e3a1",
   "metadata": {},
   "outputs": [
    {
     "name": "stdout",
     "output_type": "stream",
     "text": [
      "January\n"
     ]
    }
   ],
   "source": [
    "# 4\n",
    "\n",
    "\n",
    "def month(number: int, lang: str = \"ru\") -> str | None:\n",
    "    \"\"\"Return a name of a month in specified language (\"ru\" or \"en\").\"\"\"\n",
    "    months = {\n",
    "        \"ru\": [\n",
    "            \"Январь\",\n",
    "            \"Февраль\",\n",
    "            \"Март\",\n",
    "            \"Апрель\",\n",
    "            \"Май\",\n",
    "            \"Июнь\",\n",
    "            \"Июль\",\n",
    "            \"Август\",\n",
    "            \"Сентябрь\",\n",
    "            \"Октябрь\",\n",
    "            \"Ноябрь\",\n",
    "            \"Декабрь\",\n",
    "        ],\n",
    "        \"en\": [\n",
    "            \"January\",\n",
    "            \"February\",\n",
    "            \"March\",\n",
    "            \"April\",\n",
    "            \"May\",\n",
    "            \"June\",\n",
    "            \"July\",\n",
    "            \"August\",\n",
    "            \"September\",\n",
    "            \"October\",\n",
    "            \"November\",\n",
    "            \"December\",\n",
    "        ],\n",
    "    }\n",
    "\n",
    "    if lang in months and 1 <= number <= 12:\n",
    "        return months[lang][number - 1]\n",
    "    return None\n",
    "\n",
    "\n",
    "result_4 = month(1, \"en\")\n",
    "\n",
    "print(result_4)"
   ]
  },
  {
   "cell_type": "code",
   "execution_count": null,
   "id": "358e1782",
   "metadata": {},
   "outputs": [],
   "source": [
    "# 5\n",
    "\n",
    "\n",
    "def to_string(\n",
    "    *data: Union[int, float, str, tuple[object, ...], Sequence[object]],\n",
    "    sep: str = \" \",\n",
    "    end: str = \"\\n\"\n",
    ") -> str:\n",
    "    \"\"\"Convert input data into string representation.\"\"\"\n",
    "    str_items = [str(item) for item in data]\n",
    "    return sep.join(str_items) + end"
   ]
  },
  {
   "cell_type": "code",
   "execution_count": null,
   "id": "b5dae289",
   "metadata": {},
   "outputs": [
    {
     "name": "stdout",
     "output_type": "stream",
     "text": [
      "Эспрессо\n",
      "К сожалению, не можем предложить Вам напиток\n"
     ]
    }
   ],
   "source": [
    "# 6\n",
    "\n",
    "\n",
    "in_stock: dict[str, int] = {}\n",
    "\n",
    "\n",
    "def order(*drinks: str) -> str:\n",
    "    \"\"\"Process an order, considering ingredients in hands.\"\"\"\n",
    "    recipes = {\n",
    "        \"Эспрессо\": {\"coffee\": 1},\n",
    "        \"Капучино\": {\"coffee\": 1, \"milk\": 3},\n",
    "        \"Макиато\": {\"coffee\": 2, \"milk\": 1},\n",
    "        \"Кофе по-венски\": {\"coffee\": 1, \"cream\": 2},\n",
    "        \"Латте Макиато\": {\"coffee\": 1, \"milk\": 2, \"cream\": 1},\n",
    "        \"Кон Панна\": {\"coffee\": 1, \"cream\": 1},\n",
    "    }\n",
    "\n",
    "    for drink in drinks:\n",
    "        if drink in recipes:\n",
    "            required_ingredients = recipes[drink]\n",
    "\n",
    "            sufficient = True\n",
    "            for ingredient, amount in required_ingredients.items():\n",
    "                if in_stock.get(ingredient, 0) < amount:\n",
    "                    sufficient = False\n",
    "                    break\n",
    "\n",
    "            if sufficient:\n",
    "                for ingredient, amount in required_ingredients.items():\n",
    "                    in_stock[ingredient] -= amount\n",
    "                return drink\n",
    "\n",
    "    return \"К сожалению, не можем предложить Вам напиток\"\n",
    "\n",
    "\n",
    "in_stock = {\"coffee\": 1, \"milk\": 2, \"cream\": 3}\n",
    "\n",
    "print(\n",
    "    order(\n",
    "        \"Эспрессо\",\n",
    "        \"Капучино\",\n",
    "        \"Макиато\",\n",
    "        \"Кофе по-венски\",\n",
    "        \"Латте Макиато\",\n",
    "        \"Кон Панна\",\n",
    "    )\n",
    ")\n",
    "print(\n",
    "    order(\n",
    "        \"Эспрессо\",\n",
    "        \"Капучино\",\n",
    "        \"Макиато\",\n",
    "        \"Кофе по-венски\",\n",
    "        \"Латте Макиато\",\n",
    "        \"Кон Панна\",\n",
    "    )\n",
    ")"
   ]
  },
  {
   "cell_type": "code",
   "execution_count": null,
   "id": "b919f1e9",
   "metadata": {},
   "outputs": [
    {
     "name": "stdout",
     "output_type": "stream",
     "text": [
      "(9, 12) (3.0, 4.0)\n",
      "(10, 14) (2.5, 3.5)\n"
     ]
    }
   ],
   "source": [
    "# 7\n",
    "\n",
    "\n",
    "_stats = {\"evens_sum\": 0, \"odds_sum\": 0, \"evens_count\": 0, \"odds_count\": 0}\n",
    "\n",
    "\n",
    "def enter_results(*numbers: int) -> None:\n",
    "    \"\"\"Renew a statistics on even and odd numbers.\"\"\"\n",
    "    global _stats  # pylint: disable=global-statement\n",
    "    updated_stats = {\n",
    "        \"evens_sum\": _stats[\"evens_sum\"],\n",
    "        \"odds_sum\": _stats[\"odds_sum\"],\n",
    "        \"evens_count\": _stats[\"evens_count\"],\n",
    "        \"odds_count\": _stats[\"odds_count\"],\n",
    "    }\n",
    "\n",
    "    is_even = True\n",
    "\n",
    "    for number in numbers:\n",
    "        if is_even:\n",
    "            updated_stats[\"evens_sum\"] += number\n",
    "            updated_stats[\"evens_count\"] += 1\n",
    "        else:\n",
    "            updated_stats[\"odds_sum\"] += number\n",
    "            updated_stats[\"odds_count\"] += 1\n",
    "        is_even = not is_even\n",
    "\n",
    "    _stats = updated_stats\n",
    "\n",
    "\n",
    "def get_sum() -> tuple[float, ...]:\n",
    "    \"\"\"Return rounded sums of even and odd numbers.\"\"\"\n",
    "    return round(_stats[\"evens_sum\"], 2), round(_stats[\"odds_sum\"], 2)\n",
    "\n",
    "\n",
    "def get_average() -> tuple[float, ...]:\n",
    "    \"\"\"Return average values for even and odd numbers.\"\"\"\n",
    "    even_avg = (\n",
    "        _stats[\"evens_sum\"] / _stats[\"evens_count\"] if _stats[\"evens_count\"] else 0.0\n",
    "    )\n",
    "    odd_avg = _stats[\"odds_sum\"] / _stats[\"odds_count\"] if _stats[\"odds_count\"] else 0.0\n",
    "    return round(even_avg, 2), round(odd_avg, 2)\n",
    "\n",
    "\n",
    "enter_results(1, 2, 3, 4, 5, 6)\n",
    "print(get_sum(), get_average())\n",
    "enter_results(1, 2)\n",
    "print(get_sum(), get_average())"
   ]
  },
  {
   "cell_type": "code",
   "execution_count": 8,
   "id": "d586b226",
   "metadata": {},
   "outputs": [
    {
     "name": "stdout",
     "output_type": "stream",
     "text": [
      "['мама', 'мыла', 'раму']\n"
     ]
    }
   ],
   "source": [
    "# 8\n",
    "\n",
    "\n",
    "string = \"мама мыла раму\"\n",
    "print(sorted(string.split(), key=lambda word: (len(word), word.lower())))"
   ]
  },
  {
   "cell_type": "code",
   "execution_count": null,
   "id": "1e03d21b",
   "metadata": {},
   "outputs": [
    {
     "name": "stdout",
     "output_type": "stream",
     "text": [
      "2 4\n"
     ]
    }
   ],
   "source": [
    "# 9\n",
    "\n",
    "\n",
    "print(*filter(lambda nmb: not sum(map(int, str(nmb))) % 2, (1, 2, 4, 5)))"
   ]
  },
  {
   "cell_type": "code",
   "execution_count": null,
   "id": "c0f50fd2",
   "metadata": {},
   "outputs": [
    {
     "name": "stdout",
     "output_type": "stream",
     "text": [
      "Hehiy123, wzrhid!\n"
     ]
    }
   ],
   "source": [
    "# 10\n",
    "\n",
    "\n",
    "def secret_replace(text: str, **code: tuple[str, ...]) -> str:\n",
    "    \"\"\"Substitute symbols in a text in accordance with given rules.\"\"\"\n",
    "    new_text = []\n",
    "    replacements = {k: list(v) for k, v in code.items()}\n",
    "\n",
    "    for char in text:\n",
    "        if char in replacements:\n",
    "            new_text.append(replacements[char][0])\n",
    "            replacements[char] = replacements[char][1:] + [replacements[char][0]]\n",
    "        else:\n",
    "            new_text.append(char)\n",
    "\n",
    "    return \"\".join(new_text)\n",
    "\n",
    "\n",
    "result_6 = secret_replace(\"Hello, world!\", l=(\"hi\", \"y\"), o=(\"123\", \"z\"))\n",
    "\n",
    "print(result_6)"
   ]
  }
 ],
 "metadata": {
  "kernelspec": {
   "display_name": "base",
   "language": "python",
   "name": "python3"
  },
  "language_info": {
   "codemirror_mode": {
    "name": "ipython",
    "version": 3
   },
   "file_extension": ".py",
   "mimetype": "text/x-python",
   "name": "python",
   "nbconvert_exporter": "python",
   "pygments_lexer": "ipython3",
   "version": "3.12.7"
  }
 },
 "nbformat": 4,
 "nbformat_minor": 5
}
