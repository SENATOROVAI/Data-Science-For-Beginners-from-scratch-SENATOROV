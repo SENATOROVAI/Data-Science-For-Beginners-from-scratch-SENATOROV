{
 "cells": [
  {
   "cell_type": "code",
   "execution_count": null,
   "id": "84d33f6b",
   "metadata": {},
   "outputs": [],
   "source": [
    "\"\"\"Loops.\"\"\""
   ]
  },
  {
   "cell_type": "code",
   "execution_count": null,
   "id": "3bd11da2",
   "metadata": {},
   "outputs": [
    {
     "name": "stdout",
     "output_type": "stream",
     "text": [
      "Режим ожидания...\n",
      "Режим ожидания...\n",
      "Ёлочка, гори!\n"
     ]
    }
   ],
   "source": [
    "# 1\n",
    "\n",
    "while (string := input()) != \"Три!\":\n",
    "    print(\"Режим ожидания...\")\n",
    "print(\"Ёлочка, гори!\")"
   ]
  },
  {
   "cell_type": "code",
   "execution_count": null,
   "id": "057a04a6",
   "metadata": {},
   "outputs": [
    {
     "name": "stdout",
     "output_type": "stream",
     "text": [
      "2\n"
     ]
    }
   ],
   "source": [
    "# 2\n",
    "\n",
    "tally_1: int = 0\n",
    "while (string := input()) != \"Приехали!\":\n",
    "    if \"зайка\" in string:\n",
    "        tally_1 += 1\n",
    "\n",
    "print(tally_1)"
   ]
  },
  {
   "cell_type": "code",
   "execution_count": 3,
   "id": "b211aeaa",
   "metadata": {},
   "outputs": [
    {
     "name": "stdout",
     "output_type": "stream",
     "text": [
      "1 2 3 4 5 6 7 8 9 10 "
     ]
    }
   ],
   "source": [
    "# 3\n",
    "\n",
    "start: int = int(input())\n",
    "end: int = int(input())\n",
    "\n",
    "for i in range(start, end + 1):\n",
    "    print(i, end=\" \")"
   ]
  },
  {
   "cell_type": "code",
   "execution_count": 5,
   "id": "d61a7be8",
   "metadata": {},
   "outputs": [
    {
     "name": "stdout",
     "output_type": "stream",
     "text": [
      "2 1 0 -1 -2 -3 -4 "
     ]
    }
   ],
   "source": [
    "# 4\n",
    "\n",
    "launch: int = int(input())\n",
    "completion: int = int(input())\n",
    "\n",
    "step: int = 1\n",
    "if completion < launch:\n",
    "    step = -1\n",
    "else:\n",
    "    step = 1\n",
    "\n",
    "for i in range(launch, completion + step, step):\n",
    "    print(i, end=\" \")"
   ]
  },
  {
   "cell_type": "code",
   "execution_count": 6,
   "id": "56ebed25",
   "metadata": {},
   "outputs": [
    {
     "name": "stdout",
     "output_type": "stream",
     "text": [
      "950.0\n"
     ]
    }
   ],
   "source": [
    "# 5\n",
    "\n",
    "total_sum: float = 0\n",
    "\n",
    "while (price := float(input())) != 0:\n",
    "    if price >= 500:\n",
    "        price *= 0.9\n",
    "    total_sum += price\n",
    "\n",
    "print(total_sum)"
   ]
  },
  {
   "cell_type": "code",
   "execution_count": 1,
   "id": "e1a25654",
   "metadata": {},
   "outputs": [
    {
     "name": "stdout",
     "output_type": "stream",
     "text": [
      "1\n"
     ]
    }
   ],
   "source": [
    "# 6\n",
    "\n",
    "a_var: int = int(input())\n",
    "b_var: int = int(input())\n",
    "\n",
    "while a_var != 0 and b_var != 0:\n",
    "    if a_var >= b_var:\n",
    "        a_var -= b_var\n",
    "    else:\n",
    "        b_var -= a_var\n",
    "\n",
    "print(a_var + b_var)"
   ]
  },
  {
   "cell_type": "code",
   "execution_count": 2,
   "id": "43a319c5",
   "metadata": {},
   "outputs": [
    {
     "name": "stdout",
     "output_type": "stream",
     "text": [
      "308\n"
     ]
    }
   ],
   "source": [
    "# 7\n",
    "\n",
    "c_var: int = int(input())\n",
    "d_var: int = int(input())\n",
    "e_var: int\n",
    "f_var: int\n",
    "e_var, f_var = c_var, d_var\n",
    "\n",
    "while e_var != 0:\n",
    "    e_var, f_var = f_var % e_var, e_var\n",
    "\n",
    "print(c_var * d_var // (e_var + f_var))"
   ]
  },
  {
   "cell_type": "code",
   "execution_count": null,
   "id": "ae458386",
   "metadata": {},
   "outputs": [
    {
     "name": "stdout",
     "output_type": "stream",
     "text": [
      "3 + 6 = 8\n",
      "3 + 6 = 8\n",
      "3 + 6 = 8\n",
      "3 + 6 = 8\n"
     ]
    }
   ],
   "source": [
    "# 8\n",
    "\n",
    "info: str = input()\n",
    "repeat: int = int(input())\n",
    "\n",
    "for i in range(repeat):\n",
    "    print(info)"
   ]
  },
  {
   "cell_type": "code",
   "execution_count": 4,
   "id": "9ddce2c3",
   "metadata": {},
   "outputs": [
    {
     "name": "stdout",
     "output_type": "stream",
     "text": [
      "24\n"
     ]
    }
   ],
   "source": [
    "# 9\n",
    "\n",
    "num_1: int = int(input())\n",
    "factorial: int = 1\n",
    "\n",
    "for i in range(2, num_1 + 1):\n",
    "    factorial *= i\n",
    "print(factorial)"
   ]
  },
  {
   "cell_type": "code",
   "execution_count": 2,
   "id": "a4d93167",
   "metadata": {},
   "outputs": [
    {
     "name": "stdout",
     "output_type": "stream",
     "text": [
      "2\n",
      "0\n"
     ]
    }
   ],
   "source": [
    "# 10\n",
    "\n",
    "x_coord: int = 0\n",
    "y_coord: int = 0\n",
    "\n",
    "while (direction := input()) != \"СТОП\":\n",
    "    move = int(input())\n",
    "    if direction == \"ВОСТОК\":\n",
    "        x_coord += move\n",
    "    elif direction == \"ЗАПАД\":\n",
    "        x_coord -= move\n",
    "    elif direction == \"СЕВЕР\":\n",
    "        y_coord += move\n",
    "    elif direction == \"ЮГ\":\n",
    "        y_coord -= move\n",
    "\n",
    "print(y_coord)\n",
    "print(x_coord)"
   ]
  },
  {
   "cell_type": "code",
   "execution_count": null,
   "id": "f2ad4b55",
   "metadata": {},
   "outputs": [
    {
     "name": "stdout",
     "output_type": "stream",
     "text": [
      "23\n"
     ]
    }
   ],
   "source": [
    "# 11\n",
    "\n",
    "num_2: int = int(input())\n",
    "\n",
    "summa: int = 0\n",
    "\n",
    "while num_2 > 0:\n",
    "    summa += num_2 % 10\n",
    "    num_2 //= 10\n",
    "\n",
    "print(summa)"
   ]
  },
  {
   "cell_type": "code",
   "execution_count": null,
   "id": "15702c2f",
   "metadata": {},
   "outputs": [
    {
     "name": "stdout",
     "output_type": "stream",
     "text": [
      "6\n"
     ]
    }
   ],
   "source": [
    "# 12\n",
    "\n",
    "num_3: int = int(input())\n",
    "\n",
    "max_digit: int = max(int(digit) for digit in str(num_3))\n",
    "\n",
    "print(max_digit)"
   ]
  },
  {
   "cell_type": "code",
   "execution_count": null,
   "id": "ca9abae8",
   "metadata": {},
   "outputs": [
    {
     "name": "stdout",
     "output_type": "stream",
     "text": [
      "Вадик\n"
     ]
    }
   ],
   "source": [
    "# 13\n",
    "\n",
    "tally_2: int = int(input())\n",
    "\n",
    "names: list[str] = [input() for i in range(tally_2)]\n",
    "\n",
    "first_gamer: str = min(names)\n",
    "\n",
    "print(first_gamer)"
   ]
  },
  {
   "cell_type": "code",
   "execution_count": 11,
   "id": "a61e8d9b",
   "metadata": {},
   "outputs": [
    {
     "name": "stdout",
     "output_type": "stream",
     "text": [
      "NO\n"
     ]
    }
   ],
   "source": [
    "# 14\n",
    "\n",
    "num_4 = int(input())\n",
    "\n",
    "simple = True\n",
    "\n",
    "if num_4 <= 1:\n",
    "    simple = False\n",
    "else:\n",
    "    for divisor_1 in range(2, int(num_4**0.5 + 1)):\n",
    "        if num_4 % divisor_1 == 0:\n",
    "            simple = False\n",
    "            break\n",
    "\n",
    "if simple is True:\n",
    "    print(\"YES\")\n",
    "else:\n",
    "    print(\"NO\")"
   ]
  },
  {
   "cell_type": "code",
   "execution_count": 19,
   "id": "2a75b751",
   "metadata": {},
   "outputs": [
    {
     "name": "stdout",
     "output_type": "stream",
     "text": [
      "2\n"
     ]
    }
   ],
   "source": [
    "# 15\n",
    "\n",
    "locations: int = int(input())\n",
    "\n",
    "bunnies: int = 0\n",
    "\n",
    "for i in range(locations):\n",
    "    nature = input()\n",
    "    if \"зайка\" in nature:\n",
    "        bunnies += 1\n",
    "\n",
    "print(bunnies)"
   ]
  },
  {
   "cell_type": "code",
   "execution_count": null,
   "id": "f31405df",
   "metadata": {},
   "outputs": [
    {
     "name": "stdout",
     "output_type": "stream",
     "text": [
      "YES\n"
     ]
    }
   ],
   "source": [
    "# 16\n",
    "\n",
    "num_5: int = int(input())\n",
    "\n",
    "original_number_1: int = num_5\n",
    "reversed_number: int = 0\n",
    "\n",
    "while num_5 > 0:\n",
    "    digit: int = num_5 % 10\n",
    "    reversed_number = reversed_number * 10 + digit\n",
    "    num_5 //= 10\n",
    "\n",
    "if original_number_1 == reversed_number:\n",
    "    print(\"YES\")\n",
    "else:\n",
    "    print(\"NO\")"
   ]
  },
  {
   "cell_type": "code",
   "execution_count": null,
   "id": "ef6a8fe5",
   "metadata": {},
   "outputs": [
    {
     "name": "stdout",
     "output_type": "stream",
     "text": [
      "359\n"
     ]
    }
   ],
   "source": [
    "# 17\n",
    "\n",
    "original_number_2: int = int(input())\n",
    "\n",
    "filtered_number: int = 0\n",
    "decimal_place: int = 1\n",
    "\n",
    "while original_number_2 > 0:\n",
    "    last_digit: int = original_number_2 % 10\n",
    "    if last_digit % 2 != 0:\n",
    "        filtered_number += last_digit * decimal_place\n",
    "        decimal_place *= 10\n",
    "    original_number_2 //= 10\n",
    "\n",
    "print(filtered_number)"
   ]
  },
  {
   "cell_type": "code",
   "execution_count": null,
   "id": "e1865d3a",
   "metadata": {},
   "outputs": [
    {
     "name": "stdout",
     "output_type": "stream",
     "text": [
      "2 * 2 * 2 * 3 * 5\n"
     ]
    }
   ],
   "source": [
    "# 18\n",
    "\n",
    "sample_number: int = int(input())\n",
    "\n",
    "if sample_number == 1:\n",
    "    print(sample_number)\n",
    "\n",
    "divisor_2: int = 2\n",
    "\n",
    "while sample_number >= 2:\n",
    "    prime: bool = True\n",
    "\n",
    "    while divisor_2**2 <= sample_number and prime is True:\n",
    "        if sample_number % divisor_2 == 0:\n",
    "            prime = False\n",
    "        else:\n",
    "            divisor_2 = divisor_2 + 1\n",
    "    if prime is True:\n",
    "        print(sample_number)\n",
    "        sample_number = 1\n",
    "    else:\n",
    "        print(f\"{divisor_2}\", end=\" * \")\n",
    "        sample_number = sample_number // divisor_2"
   ]
  },
  {
   "cell_type": "code",
   "execution_count": null,
   "id": "87c458f4",
   "metadata": {},
   "outputs": [
    {
     "name": "stdout",
     "output_type": "stream",
     "text": [
      "501\n",
      "501\n",
      "251\n"
     ]
    }
   ],
   "source": [
    "# 19\n",
    "\n",
    "begin: int = 1\n",
    "finish: int = 1001\n",
    "attempts: int = 0\n",
    "\n",
    "ask: int = (begin + finish) // 2\n",
    "print(ask)\n",
    "\n",
    "while (answer := input().strip()) != \"Угадал!\" and attempts < 10:\n",
    "    if answer == \"Меньше\":\n",
    "        finish = ask\n",
    "    elif answer == \"Больше\":\n",
    "        begin = ask\n",
    "\n",
    "    ask = (begin + finish) // 2\n",
    "    print(ask)\n",
    "    attempts += 1"
   ]
  },
  {
   "cell_type": "code",
   "execution_count": null,
   "id": "f447e394",
   "metadata": {},
   "outputs": [
    {
     "name": "stdout",
     "output_type": "stream",
     "text": [
      "0\n"
     ]
    }
   ],
   "source": [
    "# 20\n",
    "\n",
    "query_count: int = int(input())\n",
    "\n",
    "previous_hash: int = 0\n",
    "first_error_index: int = 0\n",
    "has_error: bool = False\n",
    "\n",
    "for index in range(query_count):\n",
    "    block_data: int = int(input())\n",
    "\n",
    "    expected_hash: int = block_data % 256\n",
    "    right_byte: int = (block_data // 256) % 256\n",
    "    message: int = block_data // (256**2)\n",
    "\n",
    "    calculated_hash: int = (37 * (message + right_byte + previous_hash)) % 256\n",
    "\n",
    "    if calculated_hash != expected_hash or calculated_hash >= 100:\n",
    "        if not has_error:\n",
    "            first_error_index = index\n",
    "            has_error = True\n",
    "\n",
    "    previous_hash = expected_hash\n",
    "\n",
    "print(-1 if not has_error else first_error_index)"
   ]
  }
 ],
 "metadata": {
  "kernelspec": {
   "display_name": "base",
   "language": "python",
   "name": "python3"
  },
  "language_info": {
   "codemirror_mode": {
    "name": "ipython",
    "version": 3
   },
   "file_extension": ".py",
   "mimetype": "text/x-python",
   "name": "python",
   "nbconvert_exporter": "python",
   "pygments_lexer": "ipython3",
   "version": "3.12.7"
  }
 },
 "nbformat": 4,
 "nbformat_minor": 5
}
