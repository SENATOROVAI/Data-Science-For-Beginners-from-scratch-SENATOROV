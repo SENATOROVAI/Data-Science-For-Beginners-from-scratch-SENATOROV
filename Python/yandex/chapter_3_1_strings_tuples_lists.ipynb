{
 "cells": [
  {
   "cell_type": "code",
   "execution_count": null,
   "id": "23edd52b",
   "metadata": {},
   "outputs": [],
   "source": [
    "\"\"\"Strings, tuples, lists.\"\"\""
   ]
  },
  {
   "cell_type": "code",
   "execution_count": null,
   "id": "30fe3a5c",
   "metadata": {},
   "outputs": [
    {
     "name": "stdout",
     "output_type": "stream",
     "text": [
      "YES\n"
     ]
    }
   ],
   "source": [
    "# 1\n",
    "\n",
    "number: int = int(input())\n",
    "\n",
    "all_good: bool = True\n",
    "\n",
    "for _ in range(number):\n",
    "    word: str = input()\n",
    "    if word[0] not in \"абв\":\n",
    "        all_good = False\n",
    "\n",
    "if all_good:\n",
    "    print(\"YES\")\n",
    "else:\n",
    "    print(\"NO\")"
   ]
  },
  {
   "cell_type": "code",
   "execution_count": 3,
   "id": "240186ea",
   "metadata": {},
   "outputs": [
    {
     "name": "stdout",
     "output_type": "stream",
     "text": [
      "П\n",
      "и\n",
      "т\n",
      "о\n",
      "н\n"
     ]
    }
   ],
   "source": [
    "# 2\n",
    "\n",
    "string_1: str = input()\n",
    "\n",
    "for index, letter in enumerate(string_1):\n",
    "    print(letter)"
   ]
  },
  {
   "cell_type": "code",
   "execution_count": null,
   "id": "01e2762b",
   "metadata": {},
   "outputs": [
    {
     "name": "stdout",
     "output_type": "stream",
     "text": [
      "Экономика вошла в период ре...\n",
      "Развитие новых технологий в...\n"
     ]
    }
   ],
   "source": [
    "# 3\n",
    "\n",
    "length: int = int(input())\n",
    "count_1: int = int(input())\n",
    "\n",
    "for _ in range(count_1):\n",
    "    string_a: str = input()\n",
    "    if len(string_a) <= length:\n",
    "        print(string_a)\n",
    "    else:\n",
    "        print(f\"{string_a[:length - 3]}...\")"
   ]
  },
  {
   "cell_type": "code",
   "execution_count": 10,
   "id": "a6daeffc",
   "metadata": {},
   "outputs": [
    {
     "name": "stdout",
     "output_type": "stream",
     "text": [
      "Hello, world\n",
      "Goodbye\n"
     ]
    }
   ],
   "source": [
    "# 4\n",
    "\n",
    "string_2: str\n",
    "\n",
    "while string_2 := input():\n",
    "    if string_2[-3:] != \"@@@\":\n",
    "        if string_2[0:2] == \"##\":\n",
    "            string_2 = string_2[2:]\n",
    "        print(string_2)"
   ]
  },
  {
   "cell_type": "code",
   "execution_count": 11,
   "id": "171b82e4",
   "metadata": {},
   "outputs": [
    {
     "name": "stdout",
     "output_type": "stream",
     "text": [
      "YES\n"
     ]
    }
   ],
   "source": [
    "# 5\n",
    "\n",
    "string_3: str = input()\n",
    "\n",
    "if string_3 == string_3[::-1]:\n",
    "    print(\"YES\")\n",
    "else:\n",
    "    print(\"NO\")"
   ]
  },
  {
   "cell_type": "code",
   "execution_count": null,
   "id": "dcaaa1b3",
   "metadata": {},
   "outputs": [
    {
     "name": "stdout",
     "output_type": "stream",
     "text": [
      "3\n"
     ]
    }
   ],
   "source": [
    "# 6\n",
    "\n",
    "count_2: int = int(input())\n",
    "\n",
    "bunnies: int = 0\n",
    "for _ in range(count_2):\n",
    "    string_b: str = input()\n",
    "    bunnies += string_b.count(\"зайка\")\n",
    "\n",
    "print(bunnies)"
   ]
  },
  {
   "cell_type": "code",
   "execution_count": null,
   "id": "e42d99f8",
   "metadata": {},
   "outputs": [
    {
     "name": "stdout",
     "output_type": "stream",
     "text": [
      "4\n"
     ]
    }
   ],
   "source": [
    "# 7\n",
    "\n",
    "string_4: str = input()\n",
    "\n",
    "lst: list[str] = string_4.split()\n",
    "\n",
    "print(int(lst[0]) + int(lst[1]))"
   ]
  },
  {
   "cell_type": "code",
   "execution_count": 14,
   "id": "2afcac51",
   "metadata": {},
   "outputs": [
    {
     "name": "stdout",
     "output_type": "stream",
     "text": [
      "1\n",
      "9\n",
      "Заек нет =(\n",
      "Заек нет =(\n"
     ]
    }
   ],
   "source": [
    "# 8\n",
    "\n",
    "district_count: int = int(input())\n",
    "\n",
    "for _ in range(district_count):\n",
    "    string_c: str = input()\n",
    "    if \"зайка\" in string_c:\n",
    "        print(string_c.index(\"зайка\") + 1)\n",
    "    else:\n",
    "        print(\"Заек нет =(\")"
   ]
  },
  {
   "cell_type": "code",
   "execution_count": 26,
   "id": "16886ea1",
   "metadata": {},
   "outputs": [
    {
     "name": "stdout",
     "output_type": "stream",
     "text": [
      "for i in range(10): \n",
      "print(i) \n"
     ]
    }
   ],
   "source": [
    "# 9\n",
    "\n",
    "string_5: str\n",
    "\n",
    "while string_5 := input():\n",
    "    if not (comment_pos := string_5.find(\"#\")) + 1:\n",
    "        print(string_5)\n",
    "    elif string_5[:comment_pos]:\n",
    "        print(string_5[:comment_pos])"
   ]
  },
  {
   "cell_type": "code",
   "execution_count": null,
   "id": "42c43c6f",
   "metadata": {},
   "outputs": [
    {
     "name": "stdout",
     "output_type": "stream",
     "text": [
      "б\n"
     ]
    }
   ],
   "source": [
    "# 10\n",
    "\n",
    "unique_chars: list[str] = []\n",
    "char_counts: list[int] = []\n",
    "\n",
    "while (line := input()) != \"ФИНИШ\":\n",
    "    line = line.lower().replace(\" \", \"\")\n",
    "    for char in line:\n",
    "        if char in unique_chars:\n",
    "            char_counts[unique_chars.index(char)] += 1\n",
    "        else:\n",
    "            unique_chars.append(char)\n",
    "            char_counts.append(1)\n",
    "\n",
    "max_count: int = 0\n",
    "most_frequent_chars: list[str] = []\n",
    "\n",
    "for i, char in enumerate(unique_chars):\n",
    "    if char_counts[i] > max_count:\n",
    "        max_count = char_counts[i]\n",
    "        most_frequent_chars = [char]\n",
    "    elif char_counts[i] == max_count:\n",
    "        most_frequent_chars.append(char)\n",
    "\n",
    "most_frequent_chars.sort()\n",
    "if most_frequent_chars:\n",
    "    print(most_frequent_chars[0])"
   ]
  },
  {
   "cell_type": "code",
   "execution_count": null,
   "id": "1681bfce",
   "metadata": {},
   "outputs": [
    {
     "name": "stdout",
     "output_type": "stream",
     "text": [
      "Гугл внедрил новую фичу в поисковую систему\n",
      "Капитализация Гугла выросла на 10 млрд. долларов США\n"
     ]
    }
   ],
   "source": [
    "# 11\n",
    "\n",
    "count_3: int = int(input())\n",
    "\n",
    "titles: list[str] = []\n",
    "for _ in range(count_3):\n",
    "    titles.append(input())\n",
    "\n",
    "query: str = input()\n",
    "\n",
    "for title in titles:\n",
    "    if query.lower() in title.lower():\n",
    "        print(title)"
   ]
  },
  {
   "cell_type": "code",
   "execution_count": 2,
   "id": "893dbc04",
   "metadata": {},
   "outputs": [
    {
     "name": "stdout",
     "output_type": "stream",
     "text": [
      "Манная\n",
      "Гречневая\n",
      "Пшённая\n",
      "Овсяная\n"
     ]
    }
   ],
   "source": [
    "# 12\n",
    "\n",
    "porridges: list[str] = [\"Манная\", \"Гречневая\", \"Пшённая\", \"Овсяная\", \"Рисовая\"]\n",
    "\n",
    "days: int = int(input())\n",
    "for day in range(days):\n",
    "    print(porridges[day % len(porridges)])"
   ]
  },
  {
   "cell_type": "code",
   "execution_count": 4,
   "id": "d8db350b",
   "metadata": {},
   "outputs": [
    {
     "name": "stdout",
     "output_type": "stream",
     "text": [
      "8\n",
      "27\n",
      "64\n"
     ]
    }
   ],
   "source": [
    "# 13\n",
    "\n",
    "count_4: int = int(input())\n",
    "numbers_1: list[int] = []\n",
    "\n",
    "for _ in range(count_4):\n",
    "    numbers_1.append(int(input()))\n",
    "\n",
    "power_1: int = int(input())\n",
    "\n",
    "for number in numbers_1:\n",
    "    print(number**power_1)"
   ]
  },
  {
   "cell_type": "code",
   "execution_count": 5,
   "id": "7d4b9eb6",
   "metadata": {},
   "outputs": [
    {
     "name": "stdout",
     "output_type": "stream",
     "text": [
      "8 27 64 "
     ]
    }
   ],
   "source": [
    "# 14\n",
    "\n",
    "\n",
    "string_6: str = input()\n",
    "power_2: int = int(input())\n",
    "\n",
    "numbers_2: list[int] = [int(num) for num in string_6.split()]\n",
    "\n",
    "for number in numbers_2:\n",
    "    print(number**power_2, end=\" \")"
   ]
  },
  {
   "cell_type": "code",
   "execution_count": 6,
   "id": "ceb75289",
   "metadata": {},
   "outputs": [
    {
     "name": "stdout",
     "output_type": "stream",
     "text": [
      "6\n"
     ]
    }
   ],
   "source": [
    "# 15\n",
    "\n",
    "user_input: str = input()\n",
    "string_7: list[str] = user_input.split()\n",
    "\n",
    "numbers_3: list[int] = []\n",
    "\n",
    "for digits in string_7:\n",
    "    numbers_3.append(int(digits))\n",
    "\n",
    "current_gcd: int = numbers_3[0]\n",
    "\n",
    "for number in numbers_3[1:]:\n",
    "    while number != 0:\n",
    "        current_gcd, number = number, current_gcd % number\n",
    "\n",
    "print(current_gcd)"
   ]
  },
  {
   "cell_type": "code",
   "execution_count": 8,
   "id": "6409439e",
   "metadata": {},
   "outputs": [
    {
     "name": "stdout",
     "output_type": "stream",
     "text": [
      "Последние новости теку...\n"
     ]
    }
   ],
   "source": [
    "# 16\n",
    "\n",
    "max_total_length: int = int(input())\n",
    "\n",
    "line_count: int = int(input())\n",
    "input_lines: list[str] = [input() for _ in range(line_count)]\n",
    "\n",
    "for line in input_lines:\n",
    "    if max_total_length > 3:\n",
    "        if len(line) >= max_total_length - 3:\n",
    "            line = line[: max_total_length - 3] + \"...\"\n",
    "        else:\n",
    "            if max_total_length == 4:\n",
    "                line = line + \"...\"\n",
    "\n",
    "        print(line)\n",
    "        max_total_length -= len(line)"
   ]
  },
  {
   "cell_type": "code",
   "execution_count": 9,
   "id": "156eac57",
   "metadata": {},
   "outputs": [
    {
     "name": "stdout",
     "output_type": "stream",
     "text": [
      "YES\n"
     ]
    }
   ],
   "source": [
    "# 17\n",
    "\n",
    "user_input_2: str = input()\n",
    "string_8: str = user_input_2.replace(\" \", \"\").lower()\n",
    "\n",
    "if string_8 == string_8[::-1]:\n",
    "    print(\"YES\")\n",
    "else:\n",
    "    print(\"NO\")"
   ]
  },
  {
   "cell_type": "code",
   "execution_count": 10,
   "id": "b0c4fe8c",
   "metadata": {},
   "outputs": [
    {
     "name": "stdout",
     "output_type": "stream",
     "text": [
      "0 1\n",
      "1 1\n",
      "0 4\n",
      "1 1\n",
      "0 4\n",
      "1 9\n",
      "0 1\n",
      "1 5\n",
      "0 14\n",
      "1 8\n"
     ]
    }
   ],
   "source": [
    "# 18\n",
    "\n",
    "incoming_string: str = input()\n",
    "\n",
    "current_char: str = incoming_string[0]\n",
    "tally: int = 1\n",
    "\n",
    "for char in incoming_string[1:]:\n",
    "    if current_char == char:\n",
    "        tally += 1\n",
    "    else:\n",
    "        print(current_char, tally)\n",
    "        current_char = char\n",
    "        tally = 1\n",
    "\n",
    "print(current_char, tally)"
   ]
  },
  {
   "cell_type": "code",
   "execution_count": 11,
   "id": "120c3437",
   "metadata": {},
   "outputs": [
    {
     "name": "stdout",
     "output_type": "stream",
     "text": [
      "-35\n"
     ]
    }
   ],
   "source": [
    "# 19\n",
    "\n",
    "input_string: str = input()\n",
    "rpn_tokens: list[str] = input_string.split(\" \")\n",
    "\n",
    "evaluation_stack: list[int] = []\n",
    "\n",
    "while rpn_tokens:\n",
    "    current_token: str = rpn_tokens.pop(0)\n",
    "    if current_token.isdigit():\n",
    "        evaluation_stack.append(int(current_token))\n",
    "    else:\n",
    "        right = evaluation_stack.pop()\n",
    "        left = evaluation_stack.pop()\n",
    "        if current_token == \"+\":\n",
    "            evaluation_stack.append(left + right)\n",
    "        elif current_token == \"-\":\n",
    "            evaluation_stack.append(left - right)\n",
    "        elif current_token == \"*\":\n",
    "            evaluation_stack.append(left * right)\n",
    "        elif current_token == \"/\":\n",
    "            evaluation_stack.append(int(left / right))\n",
    "\n",
    "print(evaluation_stack[-1])"
   ]
  },
  {
   "cell_type": "code",
   "execution_count": 12,
   "id": "5e8dd677",
   "metadata": {},
   "outputs": [
    {
     "name": "stdout",
     "output_type": "stream",
     "text": [
      "-10016\n"
     ]
    }
   ],
   "source": [
    "# 20\n",
    "\n",
    "expression: str = input()\n",
    "tokens: list[str] = expression.split()\n",
    "\n",
    "unary_ops: list[str] = [\"~\", \"#\", \"!\"]\n",
    "binary_ops: list[str] = [\"+\", \"-\", \"*\", \"/\"]\n",
    "ternary_ops: list[str] = [\"@\"]\n",
    "\n",
    "stack: list[int] = []\n",
    "\n",
    "while tokens:\n",
    "    token: str = tokens.pop(0)\n",
    "\n",
    "    if token in unary_ops:\n",
    "        operand: int = stack.pop()\n",
    "        if token == \"~\":\n",
    "            stack.append(-operand)\n",
    "        elif token == \"!\":\n",
    "            result: int = 1\n",
    "            for i in range(1, operand + 1):\n",
    "                result *= i\n",
    "            stack.append(result)\n",
    "        elif token == \"#\":\n",
    "            stack.append(operand)\n",
    "            stack.append(operand)\n",
    "\n",
    "    elif token in binary_ops:\n",
    "        right_operand: int = stack.pop()\n",
    "        left_operand: int = stack.pop()\n",
    "        if token == \"+\":\n",
    "            stack.append(left_operand + right_operand)\n",
    "        elif token == \"-\":\n",
    "            stack.append(left_operand - right_operand)\n",
    "        elif token == \"*\":\n",
    "            stack.append(left_operand * right_operand)\n",
    "        elif token == \"/\":\n",
    "            stack.append(left_operand // right_operand)\n",
    "\n",
    "    elif token in ternary_ops:\n",
    "        top_1: int = stack.pop()\n",
    "        top_2: int = stack.pop()\n",
    "        top_3: int = stack.pop()\n",
    "        if token == \"@\":\n",
    "            stack.append(top_2)\n",
    "            stack.append(top_1)\n",
    "            stack.append(top_3)\n",
    "\n",
    "    else:\n",
    "        stack.append(int(token))\n",
    "\n",
    "print(int(stack[-1]))"
   ]
  }
 ],
 "metadata": {
  "kernelspec": {
   "display_name": "Python 3",
   "language": "python",
   "name": "python3"
  },
  "language_info": {
   "codemirror_mode": {
    "name": "ipython",
    "version": 3
   },
   "file_extension": ".py",
   "mimetype": "text/x-python",
   "name": "python",
   "nbconvert_exporter": "python",
   "pygments_lexer": "ipython3",
   "version": "3.12.7"
  }
 },
 "nbformat": 4,
 "nbformat_minor": 5
}
