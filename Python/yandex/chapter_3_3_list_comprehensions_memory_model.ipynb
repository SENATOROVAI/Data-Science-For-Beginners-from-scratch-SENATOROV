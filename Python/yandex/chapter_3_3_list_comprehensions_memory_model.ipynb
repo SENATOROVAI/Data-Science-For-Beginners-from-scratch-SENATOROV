{
 "cells": [
  {
   "cell_type": "code",
   "execution_count": null,
   "id": "8962dc08",
   "metadata": {},
   "outputs": [],
   "source": [
    "\"\"\"List comprehensions. Memory model for Python types.\"\"\""
   ]
  },
  {
   "cell_type": "code",
   "execution_count": 1,
   "id": "84b3b2e1",
   "metadata": {},
   "outputs": [
    {
     "name": "stdout",
     "output_type": "stream",
     "text": [
      "[1, 4, 9, 16, 25]\n"
     ]
    }
   ],
   "source": [
    "# 1\n",
    "\n",
    "a_var: int = int(input())\n",
    "b_var: int = int(input())\n",
    "\n",
    "print([number**2 for number in range(a_var, b_var + 1)])"
   ]
  },
  {
   "cell_type": "code",
   "execution_count": 2,
   "id": "4d60652e",
   "metadata": {},
   "outputs": [
    {
     "name": "stdout",
     "output_type": "stream",
     "text": [
      "[[1, 2, 3, 4], [2, 4, 6, 8], [3, 6, 9, 12], [4, 8, 12, 16]]\n"
     ]
    }
   ],
   "source": [
    "# 2\n",
    "\n",
    "table_size: int = int(input())\n",
    "\n",
    "multiplication_table: list[list[int]] = [\n",
    "    [\n",
    "        column_number * row_number\n",
    "        for column_number in [num for num in range(1, table_size + 1)]\n",
    "    ]\n",
    "    for row_number in range(1, table_size + 1)\n",
    "]\n",
    "\n",
    "print(multiplication_table)"
   ]
  },
  {
   "cell_type": "code",
   "execution_count": 3,
   "id": "6823b886",
   "metadata": {},
   "outputs": [
    {
     "name": "stdout",
     "output_type": "stream",
     "text": [
      "[5, 4, 5]\n"
     ]
    }
   ],
   "source": [
    "# 3\n",
    "\n",
    "sentence: str = str(input())\n",
    "\n",
    "print([len(word) for word in sentence.split(\" \")])"
   ]
  },
  {
   "cell_type": "code",
   "execution_count": 4,
   "id": "63aeca72",
   "metadata": {},
   "outputs": [
    {
     "name": "stdout",
     "output_type": "stream",
     "text": [
      "{1, 3, 5, 7, 9, 11, 13, 15, 17, 19}\n"
     ]
    }
   ],
   "source": [
    "# 4\n",
    "\n",
    "numbers_1: list[int] = list(range(1, 20))\n",
    "\n",
    "print({number for number in numbers_1 if number % 2 == 1})"
   ]
  },
  {
   "cell_type": "code",
   "execution_count": 5,
   "id": "d9b7e23f",
   "metadata": {},
   "outputs": [
    {
     "name": "stdout",
     "output_type": "stream",
     "text": [
      "{16, 1, 4, 9}\n"
     ]
    }
   ],
   "source": [
    "# 5\n",
    "\n",
    "numbers_2: list[int] = list(range(1, 20))\n",
    "\n",
    "print({number for number in numbers_2 if int(number ** (0.5)) ** 2 == number})"
   ]
  },
  {
   "cell_type": "code",
   "execution_count": 6,
   "id": "ed7b66a2",
   "metadata": {},
   "outputs": [
    {
     "name": "stdout",
     "output_type": "stream",
     "text": [
      "{'р': 1, 'л': 1, 'ы': 1, 'а': 4, 'у': 1, 'м': 4}\n"
     ]
    }
   ],
   "source": [
    "# 6\n",
    "\n",
    "text: str = input()\n",
    "\n",
    "print(\n",
    "    {\n",
    "        letter: text.lower().count(letter)\n",
    "        for letter in set(text.lower())\n",
    "        if letter.isalpha()\n",
    "    }\n",
    ")"
   ]
  },
  {
   "cell_type": "code",
   "execution_count": 9,
   "id": "7258d5d9",
   "metadata": {},
   "outputs": [
    {
     "name": "stdout",
     "output_type": "stream",
     "text": [
      "{17: [1, 17], 33: [1, 3, 11, 33], 25: [1, 5, 25], 47: [1, 47]}\n"
     ]
    }
   ],
   "source": [
    "# 7\n",
    "\n",
    "numbers_3: set[int] = {17, 25, 33, 47}\n",
    "\n",
    "divisors_map: dict[int, list[int]] = {}\n",
    "\n",
    "for number in numbers_3:\n",
    "    divisors: list[int] = []\n",
    "    for divider in range(1, number + 1):\n",
    "        if number % divider == 0:\n",
    "            divisors.append(divider)\n",
    "    divisors_map[number] = divisors\n",
    "\n",
    "print(divisors_map)"
   ]
  },
  {
   "cell_type": "code",
   "execution_count": 10,
   "id": "9e90f9b4",
   "metadata": {},
   "outputs": [
    {
     "name": "stdout",
     "output_type": "stream",
     "text": [
      "ДПС\n"
     ]
    }
   ],
   "source": [
    "# 8\n",
    "\n",
    "contract_type: str = \"договор поставки сырья\"\n",
    "\n",
    "words: list[str] = contract_type.split(\" \")\n",
    "initials_list: list[str] = [word[0].upper() for word in words]\n",
    "abbreviation: str = \"\".join(initials_list)\n",
    "\n",
    "print(abbreviation)"
   ]
  },
  {
   "cell_type": "code",
   "execution_count": 11,
   "id": "5131545a",
   "metadata": {},
   "outputs": [
    {
     "name": "stdout",
     "output_type": "stream",
     "text": [
      "1 - 2 - 3\n"
     ]
    }
   ],
   "source": [
    "# 9\n",
    "\n",
    "nums: list[int] = [3, 1, 2, 3, 2, 2, 1]\n",
    "\n",
    "uniq_sorted: list[int] = sorted(set(nums))\n",
    "str_nums: list[str] = [str(num) for num in uniq_sorted]\n",
    "output: str = \" - \".join(str_nums)\n",
    "\n",
    "print(output)"
   ]
  },
  {
   "cell_type": "code",
   "execution_count": 12,
   "id": "ae08d8b5",
   "metadata": {},
   "outputs": [
    {
     "name": "stdout",
     "output_type": "stream",
     "text": [
      "aabbbc\n"
     ]
    }
   ],
   "source": [
    "# 10\n",
    "\n",
    "rle: list[tuple[str, int]] = [(\"a\", 2), (\"b\", 3), (\"c\", 1)]\n",
    "\n",
    "expanded_chunks: list[str] = [char * count for char, count in rle]\n",
    "decoded_string: str = \"\".join(expanded_chunks)\n",
    "\n",
    "print(decoded_string)"
   ]
  }
 ],
 "metadata": {
  "kernelspec": {
   "display_name": "base",
   "language": "python",
   "name": "python3"
  },
  "language_info": {
   "codemirror_mode": {
    "name": "ipython",
    "version": 3
   },
   "file_extension": ".py",
   "mimetype": "text/x-python",
   "name": "python",
   "nbconvert_exporter": "python",
   "pygments_lexer": "ipython3",
   "version": "3.12.7"
  }
 },
 "nbformat": 4,
 "nbformat_minor": 5
}
