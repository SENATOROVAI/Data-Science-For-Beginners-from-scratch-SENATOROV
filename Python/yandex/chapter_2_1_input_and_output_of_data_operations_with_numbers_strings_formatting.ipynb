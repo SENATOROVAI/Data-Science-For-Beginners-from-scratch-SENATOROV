{
 "cells": [
  {
   "cell_type": "code",
   "execution_count": null,
   "id": "1a376afb",
   "metadata": {},
   "outputs": [],
   "source": [
    "\"\"\"Input and Output of Data: Operations and Formatting.\"\"\""
   ]
  },
  {
   "cell_type": "code",
   "execution_count": 1,
   "id": "c799808c",
   "metadata": {},
   "outputs": [
    {
     "name": "stdout",
     "output_type": "stream",
     "text": [
      "Привет, мир!\n"
     ]
    }
   ],
   "source": [
    "# 1\n",
    "\n",
    "print(\"Привет, мир!\")"
   ]
  },
  {
   "cell_type": "code",
   "execution_count": null,
   "id": "71836f65",
   "metadata": {},
   "outputs": [
    {
     "name": "stdout",
     "output_type": "stream",
     "text": [
      "Привет, Руслан\n"
     ]
    }
   ],
   "source": [
    "# 2\n",
    "\n",
    "user_name: str = input(\"Как Вас зовут?\")\n",
    "print(f\"Привет, {user_name}\")"
   ]
  },
  {
   "cell_type": "code",
   "execution_count": null,
   "id": "a960fb28",
   "metadata": {},
   "outputs": [
    {
     "name": "stdout",
     "output_type": "stream",
     "text": [
      "7\n",
      "7\n",
      "7\n"
     ]
    }
   ],
   "source": [
    "# 3\n",
    "\n",
    "input_value: str = input()\n",
    "print(f\"{input_value}\\n\" * 3, end=\"\")"
   ]
  },
  {
   "cell_type": "code",
   "execution_count": null,
   "id": "16b946f6",
   "metadata": {},
   "outputs": [
    {
     "name": "stdout",
     "output_type": "stream",
     "text": [
      "205\n"
     ]
    }
   ],
   "source": [
    "# 4\n",
    "\n",
    "inserted_amount: int = int(input())\n",
    "item_price: float = 2.5\n",
    "item_quantity: int = 38\n",
    "total_outlay: float = item_price * item_quantity\n",
    "remaining_change: float = inserted_amount - total_outlay\n",
    "print(int(remaining_change))"
   ]
  },
  {
   "cell_type": "code",
   "execution_count": null,
   "id": "d630d9f2",
   "metadata": {},
   "outputs": [
    {
     "name": "stdout",
     "output_type": "stream",
     "text": [
      "100\n"
     ]
    }
   ],
   "source": [
    "# 5\n",
    "\n",
    "price_per_kg_1: int = int(input())\n",
    "weight_in_kg: int = int(input())\n",
    "amount_paid: int = int(input())\n",
    "\n",
    "refund_amount: int = amount_paid - (price_per_kg_1 * weight_in_kg)\n",
    "print(int(refund_amount))"
   ]
  },
  {
   "cell_type": "code",
   "execution_count": null,
   "id": "5da32aa3",
   "metadata": {},
   "outputs": [
    {
     "name": "stdout",
     "output_type": "stream",
     "text": [
      "Чек\n",
      "груши - 3кг - 15руб/кг\n",
      "Итого к оплате: 45руб\n",
      "Внесено: 50руб\n",
      "Сдача: 5руб\n",
      "\n"
     ]
    }
   ],
   "source": [
    "# 6\n",
    "\n",
    "item_name: str = input()\n",
    "price_per_kg_2: int = int(input())\n",
    "weight_kg: int = int(input())\n",
    "amount_given: int = int(input())\n",
    "\n",
    "total_sum: int = price_per_kg_2 * weight_kg\n",
    "change_due: int = max(amount_given - total_sum, 0)\n",
    "\n",
    "print(\n",
    "    \"Чек\\n\"\n",
    "    f\"{item_name} - {weight_kg}кг - {price_per_kg_2}руб/кг\\n\"\n",
    "    f\"Итого к оплате: {total_sum}руб\\n\"\n",
    "    f\"Внесено: {amount_given}руб\\n\"\n",
    "    f\"Сдача: {change_due}руб\\n\"\n",
    ")"
   ]
  },
  {
   "cell_type": "code",
   "execution_count": null,
   "id": "c16e9e28",
   "metadata": {},
   "outputs": [
    {
     "name": "stdout",
     "output_type": "stream",
     "text": [
      "Купи слона!\n",
      "Купи слона!\n",
      "Купи слона!\n"
     ]
    }
   ],
   "source": [
    "# 7\n",
    "\n",
    "counts: int = int(input())\n",
    "print(\"Купи слона!\\n\" * counts, end=\"\")"
   ]
  },
  {
   "cell_type": "code",
   "execution_count": 1,
   "id": "924567bb",
   "metadata": {},
   "outputs": [
    {
     "name": "stdout",
     "output_type": "stream",
     "text": [
      "Я ни за что не буду выбирать \"7\"!\n",
      "Я ни за что не буду выбирать \"7\"!\n",
      "Я ни за что не буду выбирать \"7\"!\n"
     ]
    }
   ],
   "source": [
    "# 8\n",
    "\n",
    "tally: int = int(input())\n",
    "punishment: str = input()\n",
    "print(f'Я ни за что не буду выбирать \"{punishment}\"!\\n' * tally, end=\"\")"
   ]
  },
  {
   "cell_type": "code",
   "execution_count": null,
   "id": "1c592e43",
   "metadata": {},
   "outputs": [
    {
     "name": "stdout",
     "output_type": "stream",
     "text": [
      "150\n"
     ]
    }
   ],
   "source": [
    "# 9\n",
    "\n",
    "num_people: int = int(input())\n",
    "min_spent: int = int(input())\n",
    "\n",
    "person_ate: int = int((num_people * min_spent) / 2)\n",
    "print(person_ate)"
   ]
  },
  {
   "cell_type": "code",
   "execution_count": null,
   "id": "64b54635",
   "metadata": {},
   "outputs": [
    {
     "name": "stdout",
     "output_type": "stream",
     "text": [
      "Группа №7.  \n",
      "3. Руслан.  \n",
      "Шкафчик: 753.  \n",
      "Кроватка: 5.\n",
      "\n"
     ]
    }
   ],
   "source": [
    "# 10\n",
    "\n",
    "first_name: str = input()\n",
    "locker_number: int = int(input())\n",
    "\n",
    "group_number: int = locker_number // 100\n",
    "bed_number: int = (locker_number // 10) % 10\n",
    "child_number_in_list: int = locker_number % 10\n",
    "\n",
    "print(\n",
    "    f\"\"\"Группа №{group_number}.  \n",
    "{child_number_in_list}. {first_name}.  \n",
    "Шкафчик: {locker_number}.  \n",
    "Кроватка: {bed_number}.\n",
    "\"\"\"\n",
    ")"
   ]
  },
  {
   "cell_type": "code",
   "execution_count": null,
   "id": "4a7e60c6",
   "metadata": {},
   "outputs": [
    {
     "name": "stdout",
     "output_type": "stream",
     "text": [
      "9573\n"
     ]
    }
   ],
   "source": [
    "# 11\n",
    "\n",
    "original_number: int = int(input())\n",
    "\n",
    "last_digit: int = original_number % 10\n",
    "original_number //= 10\n",
    "third_digit: int = original_number % 10\n",
    "original_number //= 10\n",
    "second_digit: int = original_number % 10\n",
    "original_number //= 10\n",
    "first_digit: int = original_number\n",
    "\n",
    "rearranged_number: int = (\n",
    "    second_digit * 1000 + first_digit * 100 + last_digit * 10 + third_digit\n",
    ")\n",
    "\n",
    "print(rearranged_number)"
   ]
  },
  {
   "cell_type": "code",
   "execution_count": null,
   "id": "c8a0e749",
   "metadata": {},
   "outputs": [
    {
     "name": "stdout",
     "output_type": "stream",
     "text": [
      "681\n"
     ]
    }
   ],
   "source": [
    "# 12\n",
    "\n",
    "number_a: int = int(input())\n",
    "number_b: int = int(input())\n",
    "\n",
    "final_sum: int = 0\n",
    "digit_place: int = 1\n",
    "\n",
    "while number_a > 0 or number_b > 0:\n",
    "    last_digit_a: int = number_a % 10\n",
    "    last_digit_b: int = number_b % 10\n",
    "\n",
    "    digit_sum: int = (last_digit_a + last_digit_b) % 10\n",
    "\n",
    "    final_sum += digit_sum * digit_place\n",
    "\n",
    "    number_a //= 10\n",
    "    number_b //= 10\n",
    "    digit_place *= 10\n",
    "\n",
    "print(final_sum)"
   ]
  },
  {
   "cell_type": "code",
   "execution_count": null,
   "id": "19c0466a",
   "metadata": {},
   "outputs": [
    {
     "name": "stdout",
     "output_type": "stream",
     "text": [
      "2\n",
      "5\n"
     ]
    }
   ],
   "source": [
    "# 13\n",
    "\n",
    "num_children: int = int(input())\n",
    "total_candies: int = int(input())\n",
    "\n",
    "candies_per_child: int = total_candies // num_children\n",
    "leftover_candies: int = total_candies % num_children\n",
    "\n",
    "print(candies_per_child)\n",
    "print(leftover_candies)"
   ]
  },
  {
   "cell_type": "code",
   "execution_count": null,
   "id": "02b09efb",
   "metadata": {},
   "outputs": [
    {
     "name": "stdout",
     "output_type": "stream",
     "text": [
      "26\n"
     ]
    }
   ],
   "source": [
    "# 14\n",
    "\n",
    "num_red_balls: int = int(input())\n",
    "num_green_balls: int = int(input())\n",
    "num_blue_balls: int = int(input())\n",
    "\n",
    "max_tries: int = num_red_balls + num_blue_balls + 1\n",
    "\n",
    "print(max_tries)"
   ]
  },
  {
   "cell_type": "code",
   "execution_count": null,
   "id": "476a7b13",
   "metadata": {},
   "outputs": [
    {
     "name": "stdout",
     "output_type": "stream",
     "text": [
      "Доставлено в 11:15\n"
     ]
    }
   ],
   "source": [
    "# 15\n",
    "\n",
    "order_hour: int = int(input())\n",
    "order_minutes: int = int(input())\n",
    "wait_minutes: int = int(input())\n",
    "\n",
    "total_minutes: int = order_minutes + wait_minutes\n",
    "extra_hour: int = total_minutes // 60\n",
    "final_minutes: int = total_minutes % 60\n",
    "\n",
    "final_hour: int = (order_hour + extra_hour) % 24\n",
    "\n",
    "print(f\"{final_hour:02d}:{final_minutes:02d}\")"
   ]
  },
  {
   "cell_type": "code",
   "execution_count": null,
   "id": "e85a34f5",
   "metadata": {},
   "outputs": [
    {
     "name": "stdout",
     "output_type": "stream",
     "text": [
      "1.33\n"
     ]
    }
   ],
   "source": [
    "# 16\n",
    "\n",
    "start_km: int = int(input())\n",
    "end_km: int = int(input())\n",
    "speed: int = int(input())\n",
    "\n",
    "travel_time: float = (end_km - start_km) / speed\n",
    "\n",
    "print(f\"{travel_time:.2f}\")"
   ]
  },
  {
   "cell_type": "code",
   "execution_count": null,
   "id": "104c2ffa",
   "metadata": {},
   "outputs": [
    {
     "name": "stdout",
     "output_type": "stream",
     "text": [
      "158\n"
     ]
    }
   ],
   "source": [
    "# 17\n",
    "\n",
    "current_total: int = int(input())\n",
    "last_item_binary: int = int(input(), 2)\n",
    "\n",
    "new_total: int = current_total + last_item_binary\n",
    "\n",
    "print(new_total)"
   ]
  },
  {
   "cell_type": "code",
   "execution_count": null,
   "id": "e97920fa",
   "metadata": {},
   "outputs": [],
   "source": [
    "# 18\n",
    "\n",
    "price_binary: int = int(input(), 2)\n",
    "cash_given: int = int(input())\n",
    "\n",
    "change: int = cash_given - price_binary\n",
    "\n",
    "print(change)"
   ]
  },
  {
   "cell_type": "code",
   "execution_count": null,
   "id": "81a66893",
   "metadata": {},
   "outputs": [
    {
     "name": "stdout",
     "output_type": "stream",
     "text": [
      "================Чек================\n",
      "Товар:                        халва\n",
      "Цена:               10кг * 15руб/кг\n",
      "Итого:                       150руб\n",
      "Внесено:                     230руб\n",
      "Сдача:                        80руб\n",
      "===================================\n"
     ]
    }
   ],
   "source": [
    "# 19\n",
    "\n",
    "product_name: str = input()\n",
    "price_per_kg: int = int(input())\n",
    "item_weight: int = int(input())\n",
    "money_given: int = int(input())\n",
    "\n",
    "total_price: int = price_per_kg * item_weight\n",
    "remaining_money: int = money_given - total_price\n",
    "\n",
    "print(f\"{'Чек':=^35}\")\n",
    "print(f\"Товар:{product_name.rjust(29)}\")\n",
    "print(f\"Цена:{f'{weight_kg}кг * {price_per_kg}руб/кг':>30}\")\n",
    "print(f\"Итого:{f'{total_price}руб':>29}\")\n",
    "print(f\"Внесено:{f'{money_given}руб':>27}\")\n",
    "print(f\"Сдача:{f'{remaining_money}руб':>29}\")\n",
    "print(\"=\" * 35)"
   ]
  },
  {
   "cell_type": "code",
   "execution_count": null,
   "id": "a280ee0a",
   "metadata": {},
   "outputs": [
    {
     "name": "stdout",
     "output_type": "stream",
     "text": [
      "24 16\n"
     ]
    }
   ],
   "source": [
    "# 20\n",
    "\n",
    "total_weight: int = int(input())\n",
    "basic_price: int = int(input())\n",
    "price_first_type: int = int(input())\n",
    "price_second_type: int = int(input())\n",
    "\n",
    "total_cost: int = basic_price * total_weight\n",
    "first_type_weight: int = (total_cost - (price_second_type * total_weight)) // (\n",
    "    price_first_type - price_second_type\n",
    ")\n",
    "second_type_weight: int = total_weight - first_type_weight\n",
    "\n",
    "print(first_type_weight, second_type_weight)"
   ]
  }
 ],
 "metadata": {
  "kernelspec": {
   "display_name": "base",
   "language": "python",
   "name": "python3"
  },
  "language_info": {
   "codemirror_mode": {
    "name": "ipython",
    "version": 3
   },
   "file_extension": ".py",
   "mimetype": "text/x-python",
   "name": "python",
   "nbconvert_exporter": "python",
   "pygments_lexer": "ipython3",
   "version": "3.12.7"
  }
 },
 "nbformat": 4,
 "nbformat_minor": 5
}
