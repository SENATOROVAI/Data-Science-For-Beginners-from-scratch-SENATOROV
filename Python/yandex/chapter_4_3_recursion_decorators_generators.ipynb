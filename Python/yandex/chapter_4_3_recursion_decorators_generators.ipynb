{
 "cells": [
  {
   "cell_type": "code",
   "execution_count": null,
   "id": "ab5fcc08",
   "metadata": {},
   "outputs": [],
   "source": [
    "\"\"\"Recursion. Decorators. Generators.\"\"\""
   ]
  },
  {
   "cell_type": "code",
   "execution_count": null,
   "id": "6255dc50",
   "metadata": {},
   "outputs": [
    {
     "name": "stdout",
     "output_type": "stream",
     "text": [
      "6\n"
     ]
    }
   ],
   "source": [
    "# 1\n",
    "\n",
    "from typing import Callable, Generator, Sequence, Union\n",
    "\n",
    "\n",
    "def recursive_sum(*nums: int) -> int:\n",
    "    \"\"\"Calculate a sum of all positional arguments.\"\"\"\n",
    "    if not nums:\n",
    "        return 0\n",
    "    return nums[0] + recursive_sum(*nums[1:])\n",
    "\n",
    "\n",
    "result_1 = recursive_sum(1, 2, 3)\n",
    "\n",
    "print(result_1)"
   ]
  },
  {
   "cell_type": "code",
   "execution_count": null,
   "id": "d3c699d8",
   "metadata": {},
   "outputs": [
    {
     "name": "stdout",
     "output_type": "stream",
     "text": [
      "6\n"
     ]
    }
   ],
   "source": [
    "# 2\n",
    "\n",
    "\n",
    "def recursive_digit_sum(num: int) -> int:\n",
    "    \"\"\"Calculate a sum of all digits within given integer.\"\"\"\n",
    "    if num == 0:\n",
    "        return 0\n",
    "    last_digit = num % 10\n",
    "    remaining_num = num // 10\n",
    "    return last_digit + recursive_digit_sum(remaining_num)\n",
    "\n",
    "\n",
    "result_2 = recursive_digit_sum(123)\n",
    "\n",
    "print(result_2)"
   ]
  },
  {
   "cell_type": "code",
   "execution_count": null,
   "id": "5bd33dcc",
   "metadata": {},
   "outputs": [
    {
     "name": "stdout",
     "output_type": "stream",
     "text": [
      "((3) * x + 2) * x + 1\n"
     ]
    }
   ],
   "source": [
    "# 3\n",
    "\n",
    "\n",
    "def make_equation(*coefficients: int) -> str:\n",
    "    \"\"\"Build a string, representing N-th degree polynomial.\"\"\"\n",
    "    if len(coefficients) == 1:\n",
    "        return str(coefficients[0])\n",
    "\n",
    "    previous_terms = make_equation(*coefficients[:-1])\n",
    "    last_coefficient = coefficients[-1]\n",
    "    return f\"({previous_terms}) * x + {last_coefficient}\"\n",
    "\n",
    "\n",
    "result_3 = make_equation(3, 2, 1)\n",
    "\n",
    "print(result_3)"
   ]
  },
  {
   "cell_type": "code",
   "execution_count": null,
   "id": "14784a8b",
   "metadata": {},
   "outputs": [
    {
     "name": "stdout",
     "output_type": "stream",
     "text": [
      "Результат функции: dehlorw\n",
      "Результат функции: адекортуыэ\n"
     ]
    }
   ],
   "source": [
    "# 4\n",
    "\n",
    "\n",
    "def answer(\n",
    "    func: Callable[[int | str, int | str], int | str],\n",
    ") -> Callable[[int | str, int | str], int | str]:\n",
    "    \"\"\"Wrap function's output in string representation.\"\"\"\n",
    "\n",
    "    def inner(*args: int | str, **kwargs: int | str) -> str:\n",
    "        return f\"Результат функции: {func(*args, **kwargs)}\"\n",
    "\n",
    "    return inner\n",
    "\n",
    "\n",
    "# @answer\n",
    "# def get_letters(text: str) -> str:\n",
    "#     \"\"\"Adhere letters into a message.\"\"\"\n",
    "#     return \"\".join(sorted(set(filter(str.isalpha, text.lower()))))\n",
    "\n",
    "\n",
    "# print(get_letters(\"Hello, world!\"))\n",
    "# print(get_letters(\"Декораторы это круто =)\"))"
   ]
  },
  {
   "cell_type": "code",
   "execution_count": null,
   "id": "ced5c45c",
   "metadata": {},
   "outputs": [
    {
     "name": "stdout",
     "output_type": "stream",
     "text": [
      "None\n",
      "None\n",
      "[8, 16, 2]\n",
      "None\n",
      "[-6, 45]\n"
     ]
    }
   ],
   "source": [
    "# 5\n",
    "\n",
    "\n",
    "def result_accumulator(\n",
    "    func: Callable[[int | str, int | str], int | str],\n",
    ") -> Callable[[int | str, int | str], list[int | str] | None]:\n",
    "    \"\"\"Accumulate function's output in a list.\"\"\"\n",
    "    results = []\n",
    "\n",
    "    def inner(\n",
    "        *args: int | str, method: str = \"accumulate\", **kwargs: int | str\n",
    "    ) -> list[int | str] | None:\n",
    "        results.append(func(*args, **kwargs))\n",
    "\n",
    "        if method == \"drop\":\n",
    "            current_results = results.copy()\n",
    "            results.clear()\n",
    "            return current_results\n",
    "\n",
    "        return None\n",
    "\n",
    "    return inner\n",
    "\n",
    "\n",
    "# @result_accumulator\n",
    "# def a_plus_b(a: int, b: int) -> int:\n",
    "#     \"\"\"Calculate a sum of two integers\"\"\"\n",
    "#     return a + b\n",
    "\n",
    "\n",
    "# print(a_plus_b(3, 5, method=\"accumulate\"))\n",
    "# print(result_0)\n",
    "# print(a_plus_b(7, 9))\n",
    "# print(a_plus_b(-3, 5, method=\"drop\"))\n",
    "# print(a_plus_b(1, -7))\n",
    "# print(a_plus_b(10, 35, method=\"drop\"))"
   ]
  },
  {
   "cell_type": "code",
   "execution_count": null,
   "id": "ca681f1e",
   "metadata": {},
   "outputs": [
    {
     "name": "stdout",
     "output_type": "stream",
     "text": [
      "[1, 2, 3]\n"
     ]
    }
   ],
   "source": [
    "# 6\n",
    "\n",
    "\n",
    "def merge(left: list[int], right: list[int]) -> list[int]:\n",
    "    \"\"\"Merge two lists into united sorted list.\"\"\"\n",
    "    result = []\n",
    "    left_index = right_index = 0\n",
    "\n",
    "    while left_index < len(left) and right_index < len(right):\n",
    "        if left[left_index] <= right[right_index]:\n",
    "            result.append(left[left_index])\n",
    "            left_index += 1\n",
    "        else:\n",
    "            result.append(right[right_index])\n",
    "            right_index += 1\n",
    "\n",
    "    result.extend(left[left_index:])\n",
    "    result.extend(right[right_index:])\n",
    "\n",
    "    return result\n",
    "\n",
    "\n",
    "def merge_sort(batch: list[int]) -> list[int]:\n",
    "    \"\"\"Sort a list, applying special approach.\"\"\"\n",
    "    if len(batch) <= 1:\n",
    "        return batch\n",
    "\n",
    "    mid_point = len(batch) // 2\n",
    "    left_half = merge_sort(batch[:mid_point])\n",
    "    right_half = merge_sort(batch[mid_point:])\n",
    "\n",
    "    return merge(left_half, right_half)\n",
    "\n",
    "\n",
    "result_4 = merge_sort([3, 2, 1])\n",
    "\n",
    "print(result_4)"
   ]
  },
  {
   "cell_type": "code",
   "execution_count": null,
   "id": "e5c72f22",
   "metadata": {},
   "outputs": [
    {
     "name": "stdout",
     "output_type": "stream",
     "text": [
      "Hello, world!\n",
      "Обнаружены различные типы данных\n",
      "Fail\n",
      "Обнаружены различные типы данных\n",
      "Fail\n"
     ]
    }
   ],
   "source": [
    "# 7\n",
    "\n",
    "\n",
    "InputType = Union[int, str]\n",
    "OutputType = Union[int, str, bool]\n",
    "\n",
    "\n",
    "def same_type(\n",
    "    func: Callable[[InputType], OutputType],\n",
    ") -> Callable[[InputType], OutputType]:\n",
    "    \"\"\"Check that all function's arguments belong to the same type.\"\"\"\n",
    "\n",
    "    def inner(*args: InputType) -> OutputType:\n",
    "        arg_types = {type(arg) for arg in args}\n",
    "        if len(arg_types) > 1:\n",
    "            print(\"Обнаружены различные типы данных\")\n",
    "            return False\n",
    "        return func(*args)\n",
    "\n",
    "    return inner\n",
    "\n",
    "\n",
    "# @same_type\n",
    "# def combine_text(*words):\n",
    "#     \"\"\"Make word combinations.\"\"\"\n",
    "#     return \" \".join(words)\n",
    "\n",
    "\n",
    "# print(combine_text(\"Hello,\", \"world!\") or \"Fail\")\n",
    "# print(combine_text(2, \"+\", 2, \"=\", 4) or \"Fail\")\n",
    "# print(combine_text(\"Список из 30\", 0, \"можно получить так\", [0] * 30) or \"Fail\")"
   ]
  },
  {
   "cell_type": "code",
   "execution_count": null,
   "id": "c62fbe01",
   "metadata": {},
   "outputs": [
    {
     "name": "stdout",
     "output_type": "stream",
     "text": [
      "0, 1, 1, 2, 3, 5, 8, 13, 21, 34\n"
     ]
    }
   ],
   "source": [
    "# 8\n",
    "\n",
    "\n",
    "def fibonacci(value: int) -> Generator[int]:\n",
    "    \"\"\"Return given quantity of Fibonacci numbers.\"\"\"\n",
    "    num_1 = 0\n",
    "    num_2 = 1\n",
    "    for _ in range(value):\n",
    "        yield num_1\n",
    "        num_1, num_2 = num_2, num_1 + num_2\n",
    "\n",
    "\n",
    "print(*fibonacci(10), sep=\", \")"
   ]
  },
  {
   "cell_type": "code",
   "execution_count": null,
   "id": "9cae40f8",
   "metadata": {},
   "outputs": [
    {
     "name": "stdout",
     "output_type": "stream",
     "text": [
      "1 2 3 1 2\n"
     ]
    }
   ],
   "source": [
    "# 9\n",
    "\n",
    "\n",
    "def cycle(batch: list[int]) -> Generator[int]:\n",
    "    \"\"\"Yield elements from a list.\"\"\"\n",
    "    while batch:\n",
    "        yield from batch\n",
    "\n",
    "\n",
    "print(*(x for _, x in zip(range(5), cycle([1, 2, 3]))))"
   ]
  },
  {
   "cell_type": "code",
   "execution_count": null,
   "id": "0fd18171",
   "metadata": {},
   "outputs": [
    {
     "name": "stdout",
     "output_type": "stream",
     "text": [
      "[1, 2, 3]\n"
     ]
    }
   ],
   "source": [
    "# 10\n",
    "\n",
    "\n",
    "def make_linear(batch: Sequence[Union[int, Sequence[int]]]) -> list[int]:\n",
    "    \"\"\"Return simple-structure list, rectifying multicomponent list.\"\"\"\n",
    "    result: list[int] = []\n",
    "    for item in batch:\n",
    "        if isinstance(item, list):\n",
    "            result.extend(make_linear(item))\n",
    "        elif isinstance(item, int):\n",
    "            result.append(item)\n",
    "    return result\n",
    "\n",
    "\n",
    "result_5 = make_linear([1, 2, [3]])\n",
    "\n",
    "print(result_5)"
   ]
  }
 ],
 "metadata": {
  "kernelspec": {
   "display_name": "base",
   "language": "python",
   "name": "python3"
  },
  "language_info": {
   "codemirror_mode": {
    "name": "ipython",
    "version": 3
   },
   "file_extension": ".py",
   "mimetype": "text/x-python",
   "name": "python",
   "nbconvert_exporter": "python",
   "pygments_lexer": "ipython3",
   "version": "3.12.7"
  }
 },
 "nbformat": 4,
 "nbformat_minor": 5
}
