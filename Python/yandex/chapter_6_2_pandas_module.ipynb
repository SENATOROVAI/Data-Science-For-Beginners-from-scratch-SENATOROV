{
 "cells": [
  {
   "cell_type": "code",
   "execution_count": null,
   "id": "10a79a03",
   "metadata": {},
   "outputs": [],
   "source": [
    "\"\"\"Pandas module.\"\"\""
   ]
  },
  {
   "cell_type": "code",
   "execution_count": null,
   "id": "7bc92424",
   "metadata": {},
   "outputs": [
    {
     "name": "stdout",
     "output_type": "stream",
     "text": [
      "домик       5\n",
      "зверушка    8\n",
      "и           1\n",
      "лес         3\n",
      "опушка      6\n",
      "странный    8\n",
      "dtype: int64\n"
     ]
    }
   ],
   "source": [
    "# 1\n",
    "\n",
    "\n",
    "import os\n",
    "from pathlib import Path\n",
    "from typing import Callable\n",
    "\n",
    "import numpy as np\n",
    "import pandas as pd\n",
    "\n",
    "\n",
    "def length_stats(line: str) -> pd.Series:  # type: ignore\n",
    "    \"\"\"Return a Series mapping each unique word in the string to its length.\"\"\"\n",
    "    clean_line = \"\".join(ch for ch in line if ch.isalpha() or ch.isspace())\n",
    "    words = sorted(set(clean_line.lower().split()))\n",
    "    return pd.Series({word: len(word) for word in words})\n",
    "\n",
    "\n",
    "print(length_stats(\"Лес, опушка, странный домик. Лес, опушка и зверушка.\"))"
   ]
  },
  {
   "cell_type": "code",
   "execution_count": null,
   "id": "ab9895f4",
   "metadata": {},
   "outputs": [
    {
     "name": "stdout",
     "output_type": "stream",
     "text": [
      "Series([], dtype: int64)\n",
      "мама    4\n",
      "мыла    4\n",
      "раму    4\n",
      "dtype: int64\n"
     ]
    }
   ],
   "source": [
    "# 2\n",
    "\n",
    "\n",
    "def length_stats_double(line: str) -> tuple[pd.Series, pd.Series]:  # type: ignore\n",
    "    \"\"\"Return two Series: words with odd and even lengths.\"\"\"\n",
    "    clean_line = \"\".join(ch for ch in line if ch.isalpha() or ch.isspace())\n",
    "    words = sorted(set(clean_line.lower().split()))\n",
    "    series = pd.Series({word: len(word) for word in words})\n",
    "    return series[series % 2 != 0], series[series % 2 == 0]\n",
    "\n",
    "\n",
    "odd, even = length_stats_double(\"Мама мыла раму\")\n",
    "print(odd)\n",
    "print(even)"
   ]
  },
  {
   "cell_type": "code",
   "execution_count": null,
   "id": "81fa2a9b",
   "metadata": {},
   "outputs": [
    {
     "name": "stdout",
     "output_type": "stream",
     "text": [
      "  product  price  number  cost\n",
      "0   cream     72       1    72\n",
      "1    milk     58       2   116\n",
      "2    soda     99       3   297\n"
     ]
    }
   ],
   "source": [
    "# 3\n",
    "\n",
    "\n",
    "# fmt: off\n",
    "def cheque(\n",
    "    price_list: pd.Series,  # type: ignore\n",
    "    **kwargs: int\n",
    ") -> pd.DataFrame:\n",
    "    \"\"\"Return a DataFrame with products, prices, quantities, and total cost.\"\"\"\n",
    "    products = sorted(kwargs.keys())\n",
    "    prices = [price_list.get(p, float(\"nan\")) for p in products]\n",
    "\n",
    "    data = pd.DataFrame(\n",
    "        {\n",
    "            \"product\": products,\n",
    "            \"price\": prices,\n",
    "            \"number\": [kwargs[p] for p in products],\n",
    "        }\n",
    "    )\n",
    "\n",
    "    data[\"cost\"] = data[\"price\"] * data[\"number\"]\n",
    "    return data\n",
    "# fmt: on\n",
    "\n",
    "\n",
    "products_2 = [\"bread\", \"milk\", \"soda\", \"cream\"]\n",
    "prices_2 = [37, 58, 99, 72]\n",
    "price_list_2 = pd.Series(prices_2, products_2)\n",
    "result_1 = cheque(price_list_2, soda=3, milk=2, cream=1)\n",
    "print(result_1)"
   ]
  },
  {
   "cell_type": "code",
   "execution_count": null,
   "id": "1b69768f",
   "metadata": {},
   "outputs": [
    {
     "name": "stdout",
     "output_type": "stream",
     "text": [
      "  product  price  number  cost\n",
      "0   cream     72       1    72\n",
      "1    milk     58       2   116\n",
      "2    soda     99       3   297\n",
      "  product  price  number   cost\n",
      "0   cream     72       1   72.0\n",
      "1    milk     58       2  116.0\n",
      "2    soda     99       3  148.5\n"
     ]
    }
   ],
   "source": [
    "# 4\n",
    "\n",
    "\n",
    "def discount(result: pd.DataFrame, rate: float = 0.5) -> pd.DataFrame:\n",
    "    \"\"\"Return a copy of the DataFrame with a discount.\"\"\"\n",
    "    df = result.copy()\n",
    "    df[\"cost\"] = df[\"cost\"].astype(float)\n",
    "    mask_1 = df[\"number\"] > 2\n",
    "    df.loc[mask_1, \"cost\"] *= rate\n",
    "    return df\n",
    "\n",
    "\n",
    "products_3 = [\"bread\", \"milk\", \"soda\", \"cream\"]\n",
    "prices_3 = [37, 58, 99, 72]\n",
    "price_list_3 = pd.Series(prices_3, products_3)\n",
    "result_ = cheque(price_list_3, soda=3, milk=2, cream=1)\n",
    "with_discount = discount(result_)\n",
    "print(result_)\n",
    "print(with_discount)"
   ]
  },
  {
   "cell_type": "code",
   "execution_count": null,
   "id": "da8b28c6",
   "metadata": {},
   "outputs": [
    {
     "name": "stdout",
     "output_type": "stream",
     "text": [
      "мир       3\n",
      "питон     5\n",
      "привет    6\n",
      "яндекс    6\n",
      "dtype: int64\n",
      "питон     5\n",
      "привет    6\n",
      "яндекс    6\n",
      "dtype: int64\n"
     ]
    }
   ],
   "source": [
    "# 5\n",
    "\n",
    "\n",
    "# fmt: off\n",
    "def get_long(\n",
    "    data_2: pd.Series,  # type: ignore   \n",
    "    min_length: int = 5\n",
    ") -> pd.Series:  # type: ignore  \n",
    "    \"\"\"Return a Series containing only certain values.\"\"\"\n",
    "    return data_2[data_2 >= min_length]\n",
    "# fmt: on\n",
    "\n",
    "\n",
    "data_smpl = pd.Series([3, 5, 6, 6], [\"мир\", \"питон\", \"привет\", \"яндекс\"])\n",
    "filtered = get_long(data_smpl)\n",
    "print(data_smpl)\n",
    "print(filtered)"
   ]
  },
  {
   "cell_type": "code",
   "execution_count": null,
   "id": "22f5c346",
   "metadata": {},
   "outputs": [
    {
     "name": "stdout",
     "output_type": "stream",
     "text": [
      "       name  maths  physics  computer science\n",
      "0    Иванов      5        4                 5\n",
      "1    Петров      4        4                 2\n",
      "2   Сидоров      5        4                 5\n",
      "3  Васечкин      2        5                 4\n",
      "4  Николаев      4        5                 3\n",
      "      name  maths  physics  computer science\n",
      "0   Иванов      5        4                 5\n",
      "2  Сидоров      5        4                 5\n"
     ]
    }
   ],
   "source": [
    "# 6\n",
    "\n",
    "\n",
    "def best(progress: pd.DataFrame, threshold: int = 4) -> pd.DataFrame:\n",
    "    \"\"\"Return students with all grades >= threshold.\"\"\"\n",
    "    data = progress.copy()\n",
    "    numeric = data.select_dtypes(include=\"number\")\n",
    "    mask_3 = (numeric >= threshold).all(axis=1)\n",
    "    return data[mask_3]\n",
    "\n",
    "\n",
    "columns_1 = [\"name\", \"maths\", \"physics\", \"computer science\"]\n",
    "data_sam = {\n",
    "    \"name\": [\"Иванов\", \"Петров\", \"Сидоров\", \"Васечкин\", \"Николаев\"],\n",
    "    \"maths\": [5, 4, 5, 2, 4],\n",
    "    \"physics\": [4, 4, 4, 5, 5],\n",
    "    \"computer science\": [5, 2, 5, 4, 3],\n",
    "}\n",
    "journal_1 = pd.DataFrame(data_sam, columns=columns_1)\n",
    "filtered_2: pd.DataFrame = best(journal_1)\n",
    "print(journal_1)\n",
    "print(filtered_2)"
   ]
  },
  {
   "cell_type": "code",
   "execution_count": null,
   "id": "4e950082",
   "metadata": {},
   "outputs": [
    {
     "name": "stdout",
     "output_type": "stream",
     "text": [
      "       name  maths  physics  computer science\n",
      "0    Иванов      5        4                 5\n",
      "1    Петров      4        4                 2\n",
      "2   Сидоров      5        4                 5\n",
      "3  Васечкин      2        5                 4\n",
      "4  Николаев      4        5                 3\n",
      "       name  maths  physics  computer science\n",
      "1    Петров      4        4                 2\n",
      "3  Васечкин      2        5                 4\n"
     ]
    }
   ],
   "source": [
    "# 7\n",
    "\n",
    "\n",
    "def need_to_work_better(progress: pd.DataFrame, threshold: int = 3) -> pd.DataFrame:\n",
    "    \"\"\"Return students with any grade below threshold.\"\"\"\n",
    "    data = progress.copy()\n",
    "    numeric = data.select_dtypes(include=\"number\")\n",
    "    mask_2 = (numeric < threshold).any(axis=1)\n",
    "    return data[mask_2]\n",
    "\n",
    "\n",
    "columns_2 = [\"name\", \"maths\", \"physics\", \"computer science\"]\n",
    "data_obj = {\n",
    "    \"name\": [\"Иванов\", \"Петров\", \"Сидоров\", \"Васечкин\", \"Николаев\"],\n",
    "    \"maths\": [5, 4, 5, 2, 4],\n",
    "    \"physics\": [4, 4, 4, 5, 5],\n",
    "    \"computer science\": [5, 2, 5, 4, 3],\n",
    "}\n",
    "journal_2 = pd.DataFrame(data_obj, columns=columns_2)\n",
    "filtered_3 = need_to_work_better(journal_2)\n",
    "print(journal_2)\n",
    "print(filtered_3)"
   ]
  },
  {
   "cell_type": "code",
   "execution_count": null,
   "id": "09ceca4d",
   "metadata": {},
   "outputs": [
    {
     "name": "stdout",
     "output_type": "stream",
     "text": [
      "       name  maths  physics  computer science\n",
      "0    Иванов      5        4                 5\n",
      "1    Петров      4        4                 2\n",
      "2   Сидоров      5        4                 5\n",
      "3  Васечкин      2        5                 4\n",
      "4  Николаев      4        5                 3\n",
      "       name  maths  physics  computer science   average\n",
      "0    Иванов      5        4                 5  4.666667\n",
      "2   Сидоров      5        4                 5  4.666667\n",
      "4  Николаев      4        5                 3  4.000000\n",
      "3  Васечкин      2        5                 4  3.666667\n",
      "1    Петров      4        4                 2  3.333333\n"
     ]
    }
   ],
   "source": [
    "# 8\n",
    "\n",
    "\n",
    "def update(progress: pd.DataFrame) -> pd.DataFrame:\n",
    "    \"\"\"Return DataFrame with average grade, sorted by average and name.\"\"\"\n",
    "    data = progress.copy()\n",
    "    numeric = data.select_dtypes(include=\"number\")\n",
    "    data[\"average\"] = numeric.mean(axis=1)\n",
    "    return data.sort_values([\"average\", \"name\"], ascending=[False, True])\n",
    "\n",
    "\n",
    "columns_3 = [\"name\", \"maths\", \"physics\", \"computer science\"]\n",
    "data_sbs = {\n",
    "    \"name\": [\"Иванов\", \"Петров\", \"Сидоров\", \"Васечкин\", \"Николаев\"],\n",
    "    \"maths\": [5, 4, 5, 2, 4],\n",
    "    \"physics\": [4, 4, 4, 5, 5],\n",
    "    \"computer science\": [5, 2, 5, 4, 3],\n",
    "}\n",
    "journal_3 = pd.DataFrame(data_sbs, columns=columns_3)\n",
    "filtered_4: pd.DataFrame = update(journal_3)\n",
    "print(journal_3)\n",
    "print(filtered_4)"
   ]
  },
  {
   "cell_type": "code",
   "execution_count": null,
   "id": "a2726ca3",
   "metadata": {},
   "outputs": [
    {
     "name": "stdout",
     "output_type": "stream",
     "text": [
      "         x   y\n",
      "6262     9   0\n",
      "59060   10   4\n",
      "69882   10   5\n",
      "72739    0   0\n",
      "120951   3   1\n",
      "137931   9  10\n",
      "183595   7   0\n",
      "194157   0   9\n",
      "219910   0   3\n",
      "220920  10   0\n",
      "242318   8   4\n",
      "283651   1   8\n",
      "292990   4   3\n",
      "294474   6   3\n",
      "352959  10  10\n",
      "393223   3   5\n",
      "423449   1   2\n"
     ]
    }
   ],
   "source": [
    "# 9\n",
    "\n",
    "\n",
    "top_x, top_y = map(int, input().split())\n",
    "bottom_x, bottom_y = map(int, input().split())\n",
    "\n",
    "try:\n",
    "    base_dir = Path(__file__).parent\n",
    "except NameError:\n",
    "    base_dir = Path(os.getcwd())\n",
    "\n",
    "csv_path = base_dir / \"data.csv\"\n",
    "\n",
    "if not csv_path.exists():\n",
    "    raise FileNotFoundError(f\"CSV file not found: {csv_path}\")\n",
    "game_data = pd.read_csv(csv_path)\n",
    "\n",
    "mask_4 = (game_data[\"x\"].between(top_x, bottom_x)) & (\n",
    "    game_data[\"y\"].between(bottom_y, top_y)\n",
    ")\n",
    "\n",
    "filtered_5: pd.DataFrame = game_data[mask_4]\n",
    "print(filtered_5)"
   ]
  },
  {
   "cell_type": "code",
   "execution_count": null,
   "id": "59fc6b28",
   "metadata": {},
   "outputs": [
    {
     "name": "stdout",
     "output_type": "stream",
     "text": [
      "-1.500000e+00    0.25\n",
      "-1.400000e+00    0.16\n",
      "-1.300000e+00    0.09\n",
      "-1.200000e+00    0.04\n",
      "-1.100000e+00    0.01\n",
      "-1.000000e+00    0.00\n",
      "-9.000000e-01    0.01\n",
      "-8.000000e-01    0.04\n",
      "-7.000000e-01    0.09\n",
      "-6.000000e-01    0.16\n",
      "-5.000000e-01    0.25\n",
      "-4.000000e-01    0.36\n",
      "-3.000000e-01    0.49\n",
      "-2.000000e-01    0.64\n",
      "-1.000000e-01    0.81\n",
      " 1.332268e-15    1.00\n",
      " 1.000000e-01    1.21\n",
      " 2.000000e-01    1.44\n",
      " 3.000000e-01    1.69\n",
      " 4.000000e-01    1.96\n",
      " 5.000000e-01    2.25\n",
      " 6.000000e-01    2.56\n",
      " 7.000000e-01    2.89\n",
      " 8.000000e-01    3.24\n",
      " 9.000000e-01    3.61\n",
      " 1.000000e+00    4.00\n",
      " 1.100000e+00    4.41\n",
      " 1.200000e+00    4.84\n",
      " 1.300000e+00    5.29\n",
      " 1.400000e+00    5.76\n",
      " 1.500000e+00    6.25\n",
      " 1.600000e+00    6.76\n",
      " 1.700000e+00    7.29\n",
      "dtype: float64\n",
      "-0.9999999999999996\n",
      "1.7000000000000028\n"
     ]
    }
   ],
   "source": [
    "# 10\n",
    "\n",
    "\n",
    "def values(\n",
    "    func: Callable[[float], float], start: float, end: float, step: float\n",
    ") -> pd.Series:  # type: ignore\n",
    "    \"\"\"Return Series of function values for range [start, end] with step.\"\"\"\n",
    "    if step <= 0:\n",
    "        raise ValueError(\"Step must be positive.\")\n",
    "    x_var = np.arange(start, end + step, step, dtype=float)\n",
    "    y_var = np.array(np.vectorize(func)(x_var), dtype=float)\n",
    "    return pd.Series(y_var, index=x_var, dtype=float)\n",
    "\n",
    "\n",
    "def min_extremum(data: pd.Series) -> float:  # type: ignore\n",
    "    \"\"\"Return x of leftmost minimum.\"\"\"\n",
    "    return float(data.idxmin())\n",
    "\n",
    "\n",
    "def max_extremum(data: pd.Series) -> float:  # type: ignore\n",
    "    \"\"\"Return x of rightmost maximum.\"\"\"\n",
    "    max_val = data.max()\n",
    "    return float(data[data == max_val].index.max())\n",
    "\n",
    "\n",
    "data_mt = values(lambda x: x**2 + 2 * x + 1, -1.5, 1.7, 0.1)\n",
    "print(data_mt)\n",
    "print(min_extremum(data_mt))\n",
    "print(max_extremum(data_mt))"
   ]
  }
 ],
 "metadata": {
  "kernelspec": {
   "display_name": "base",
   "language": "python",
   "name": "python3"
  },
  "language_info": {
   "codemirror_mode": {
    "name": "ipython",
    "version": 3
   },
   "file_extension": ".py",
   "mimetype": "text/x-python",
   "name": "python",
   "nbconvert_exporter": "python",
   "pygments_lexer": "ipython3",
   "version": "3.12.7"
  }
 },
 "nbformat": 4,
 "nbformat_minor": 5
}
