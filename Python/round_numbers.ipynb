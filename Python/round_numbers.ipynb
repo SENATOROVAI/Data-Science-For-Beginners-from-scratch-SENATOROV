{
 "cells": [
  {
   "cell_type": "code",
   "execution_count": null,
   "metadata": {},
   "outputs": [],
   "source": [
    "\"\"\"Round numbers.\"\"\""
   ]
  },
  {
   "cell_type": "code",
   "execution_count": 1,
   "metadata": {},
   "outputs": [],
   "source": [
    "import io\n",
    "import random\n",
    "import sys"
   ]
  },
  {
   "cell_type": "code",
   "execution_count": null,
   "metadata": {},
   "outputs": [
    {
     "name": "stdout",
     "output_type": "stream",
     "text": [
      "0.43\n"
     ]
    }
   ],
   "source": [
    "number_1 = random.random()  # генерирование числа от 0 до 1\n",
    "number_1 = round(number_1, 2)  # округление значения сразу в переменной\n",
    "\n",
    "print(number_1)  # вывод на печать уже округленного числа"
   ]
  },
  {
   "cell_type": "code",
   "execution_count": null,
   "metadata": {},
   "outputs": [],
   "source": [
    "def generate_report(rounded_number: float) -> None:\n",
    "    \"\"\"\n",
    "    Формирует отчет с использованием переданного числа.\n",
    "\n",
    "    Args:\n",
    "        rounded_number (float): Округленное число для отчета.\n",
    "\n",
    "    Returns:\n",
    "        None\n",
    "    \"\"\"\n",
    "    report = f\"Отчет о вычислениях (округлено): {rounded_number}\"\n",
    "    print(report)"
   ]
  },
  {
   "cell_type": "code",
   "execution_count": null,
   "metadata": {},
   "outputs": [],
   "source": [
    "def test_generate_report_prints_correct_output() -> None:\n",
    "    \"\"\"Тестирует корректность вывода отчета.\"\"\"\n",
    "    captured_output = io.StringIO()  # Создаем буфер для перехвата stdout\n",
    "    sys.stdout = captured_output  # Перенаправляем stdout в буфер\n",
    "\n",
    "    generate_report(0.57)  # Вызываем функцию с тестовым значением\n",
    "\n",
    "    sys.stdout = sys.__stdout__  # Возвращаем stdout обратно\n",
    "    output = captured_output.getvalue()  # Получаем текст, который был выведен\n",
    "\n",
    "    assert \"Отчет о вычислениях (округлено): 0.57\" in output\n",
    "\n",
    "    print(\"test_generate_report_prints_correct_output — PASSED\")\n",
    "\n",
    "\n",
    "def test_generate_report_with_zero() -> None:\n",
    "    \"\"\"Тестирует функцию при передаче нуля.\"\"\"\n",
    "    captured_output = io.StringIO()\n",
    "    sys.stdout = captured_output\n",
    "\n",
    "    generate_report(0.0)\n",
    "\n",
    "    sys.stdout = sys.__stdout__\n",
    "    output = captured_output.getvalue()\n",
    "\n",
    "    assert \"Отчет о вычислениях (округлено): 0.0\" in output\n",
    "\n",
    "    print(\"test_generate_report_with_zero — PASSED\")"
   ]
  }
 ],
 "metadata": {
  "kernelspec": {
   "display_name": "base",
   "language": "python",
   "name": "python3"
  },
  "language_info": {
   "codemirror_mode": {
    "name": "ipython",
    "version": 3
   },
   "file_extension": ".py",
   "mimetype": "text/x-python",
   "name": "python",
   "nbconvert_exporter": "python",
   "pygments_lexer": "ipython3",
   "version": "3.12.7"
  }
 },
 "nbformat": 4,
 "nbformat_minor": 2
}
