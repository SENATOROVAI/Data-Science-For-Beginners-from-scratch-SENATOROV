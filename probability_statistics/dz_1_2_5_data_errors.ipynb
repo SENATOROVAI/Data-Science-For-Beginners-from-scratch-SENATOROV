{
 "cells": [
  {
   "cell_type": "code",
   "execution_count": null,
   "metadata": {},
   "outputs": [],
   "source": [
    "\"\"\"\n",
    "ДЗ 1. Блок 2. Анализ и обработка данных. Раздел 3. Очистка данных.\n",
    "\n",
    "1. Ошибки в данных.\n",
    "\"\"\""
   ]
  },
  {
   "cell_type": "markdown",
   "metadata": {
    "id": "M8wVTcP8epD6"
   },
   "source": [
    "# Ошибки в данных"
   ]
  },
  {
   "cell_type": "code",
   "execution_count": 1,
   "metadata": {
    "id": "iAwnrsWxve3g"
   },
   "outputs": [],
   "source": [
    "import numpy as np\n",
    "import pandas as pd\n",
    "import matplotlib.pyplot as plt\n",
    "import seaborn as sns\n",
    "\n",
    "# fmt: off\n",
    "# isort: skip_file        \n",
    "# pyupgrade: disable      \n",
    "# pylint: skip-file       \n",
    "# flake8: noqa           \n",
    "# mypy: ignore-errors     \n",
    "# codespell:disable"
   ]
  },
  {
   "cell_type": "markdown",
   "metadata": {
    "id": "VBSzfihEU3el"
   },
   "source": [
    "## Подготовка данных"
   ]
  },
  {
   "cell_type": "code",
   "execution_count": 2,
   "metadata": {
    "colab": {
     "base_uri": "https://localhost:8080/",
     "height": 488
    },
    "id": "AvZQYqyWrE-O",
    "outputId": "d82427f2-e76a-476e-f564-4ceed093d0db"
   },
   "outputs": [
    {
     "data": {
      "text/html": [
       "<div>\n",
       "<style scoped>\n",
       "    .dataframe tbody tr th:only-of-type {\n",
       "        vertical-align: middle;\n",
       "    }\n",
       "\n",
       "    .dataframe tbody tr th {\n",
       "        vertical-align: top;\n",
       "    }\n",
       "\n",
       "    .dataframe thead th {\n",
       "        text-align: right;\n",
       "    }\n",
       "</style>\n",
       "<table border=\"1\" class=\"dataframe\">\n",
       "  <thead>\n",
       "    <tr style=\"text-align: right;\">\n",
       "      <th></th>\n",
       "      <th>month</th>\n",
       "      <th>profit</th>\n",
       "      <th>MoM</th>\n",
       "      <th>high</th>\n",
       "    </tr>\n",
       "  </thead>\n",
       "  <tbody>\n",
       "    <tr>\n",
       "      <th>0</th>\n",
       "      <td>01/01/2019</td>\n",
       "      <td>1.20$</td>\n",
       "      <td>0.030</td>\n",
       "      <td>Dubai</td>\n",
       "    </tr>\n",
       "    <tr>\n",
       "      <th>1</th>\n",
       "      <td>01/02/2019</td>\n",
       "      <td>1.30$</td>\n",
       "      <td>-0.020</td>\n",
       "      <td>Paris</td>\n",
       "    </tr>\n",
       "    <tr>\n",
       "      <th>2</th>\n",
       "      <td>01/03/2019</td>\n",
       "      <td>1.25$</td>\n",
       "      <td>0.010</td>\n",
       "      <td>singapour</td>\n",
       "    </tr>\n",
       "    <tr>\n",
       "      <th>3</th>\n",
       "      <td>01/03/2019</td>\n",
       "      <td>1.25$</td>\n",
       "      <td>0.020</td>\n",
       "      <td>singapour</td>\n",
       "    </tr>\n",
       "    <tr>\n",
       "      <th>4</th>\n",
       "      <td>01/04/2019</td>\n",
       "      <td>1.27$</td>\n",
       "      <td>-0.010</td>\n",
       "      <td>moscow</td>\n",
       "    </tr>\n",
       "    <tr>\n",
       "      <th>5</th>\n",
       "      <td>01/05/2019</td>\n",
       "      <td>1.13$</td>\n",
       "      <td>-0.015</td>\n",
       "      <td>Paris</td>\n",
       "    </tr>\n",
       "    <tr>\n",
       "      <th>6</th>\n",
       "      <td>01/06/2019</td>\n",
       "      <td>1.23$</td>\n",
       "      <td>0.017</td>\n",
       "      <td>Madrid</td>\n",
       "    </tr>\n",
       "    <tr>\n",
       "      <th>7</th>\n",
       "      <td>01/07/2019</td>\n",
       "      <td>1.20$</td>\n",
       "      <td>0.035</td>\n",
       "      <td>moscow</td>\n",
       "    </tr>\n",
       "    <tr>\n",
       "      <th>8</th>\n",
       "      <td>01/08/2019</td>\n",
       "      <td>1.31$</td>\n",
       "      <td>0.020</td>\n",
       "      <td>london</td>\n",
       "    </tr>\n",
       "    <tr>\n",
       "      <th>9</th>\n",
       "      <td>01/09/2019</td>\n",
       "      <td>1.24$</td>\n",
       "      <td>0.010</td>\n",
       "      <td>london</td>\n",
       "    </tr>\n",
       "    <tr>\n",
       "      <th>10</th>\n",
       "      <td>01/10/2019</td>\n",
       "      <td>1.18$</td>\n",
       "      <td>0.000</td>\n",
       "      <td>Moscow</td>\n",
       "    </tr>\n",
       "    <tr>\n",
       "      <th>11</th>\n",
       "      <td>01/11/2019</td>\n",
       "      <td>1.17$</td>\n",
       "      <td>-0.010</td>\n",
       "      <td>Rome</td>\n",
       "    </tr>\n",
       "    <tr>\n",
       "      <th>12</th>\n",
       "      <td>01/12/2019</td>\n",
       "      <td>1.23$</td>\n",
       "      <td>2.000</td>\n",
       "      <td>madrid</td>\n",
       "    </tr>\n",
       "    <tr>\n",
       "      <th>13</th>\n",
       "      <td>01/12/2019</td>\n",
       "      <td>1.23$</td>\n",
       "      <td>2.000</td>\n",
       "      <td>madrid</td>\n",
       "    </tr>\n",
       "  </tbody>\n",
       "</table>\n",
       "</div>"
      ],
      "text/plain": [
       "         month profit    MoM       high\n",
       "0   01/01/2019  1.20$  0.030      Dubai\n",
       "1   01/02/2019  1.30$ -0.020      Paris\n",
       "2   01/03/2019  1.25$  0.010  singapour\n",
       "3   01/03/2019  1.25$  0.020  singapour\n",
       "4   01/04/2019  1.27$ -0.010     moscow\n",
       "5   01/05/2019  1.13$ -0.015      Paris\n",
       "6   01/06/2019  1.23$  0.017     Madrid\n",
       "7   01/07/2019  1.20$  0.035     moscow\n",
       "8   01/08/2019  1.31$  0.020     london\n",
       "9   01/09/2019  1.24$  0.010     london\n",
       "10  01/10/2019  1.18$  0.000     Moscow\n",
       "11  01/11/2019  1.17$ -0.010       Rome\n",
       "12  01/12/2019  1.23$  2.000     madrid\n",
       "13  01/12/2019  1.23$  2.000     madrid"
      ]
     },
     "execution_count": 2,
     "metadata": {},
     "output_type": "execute_result"
    }
   ],
   "source": [
    "# создадим датафрейм из словаря\n",
    "financials = pd.DataFrame({'month' :   ['01/01/2019', '01/02/2019', '01/03/2019', '01/03/2019', '01/04/2019', '01/05/2019', '01/06/2019', '01/07/2019', '01/08/2019', '01/09/2019', '01/10/2019', '01/11/2019', '01/12/2019', '01/12/2019'],\n",
    "                           'profit' :  ['1.20$', '1.30$', '1.25$', '1.25$', '1.27$', '1.13$', '1.23$', '1.20$', '1.31$', '1.24$', '1.18$', '1.17$', '1.23$', '1.23$'],\n",
    "                           'MoM' :     [0.03, -0.02, 0.01, 0.02, -0.01, -0.015, 0.017, 0.035, 0.02, 0.01, 0.00, -0.01, 2.00, 2.00],\n",
    "                           'high' :    ['Dubai', 'Paris', 'singapour', 'singapour', 'moscow', 'Paris', 'Madrid', 'moscow', 'london', 'london', 'Moscow', 'Rome', 'madrid', 'madrid']\n",
    "                           })\n",
    "\n",
    "financials"
   ]
  },
  {
   "cell_type": "code",
   "execution_count": 3,
   "metadata": {
    "colab": {
     "base_uri": "https://localhost:8080/"
    },
    "id": "Ow4m8STI4Vlw",
    "outputId": "ee0ecfbd-753d-4dd7-f023-4ed7df662d1e"
   },
   "outputs": [
    {
     "name": "stdout",
     "output_type": "stream",
     "text": [
      "<class 'pandas.core.frame.DataFrame'>\n",
      "RangeIndex: 14 entries, 0 to 13\n",
      "Data columns (total 4 columns):\n",
      " #   Column  Non-Null Count  Dtype  \n",
      "---  ------  --------------  -----  \n",
      " 0   month   14 non-null     object \n",
      " 1   profit  14 non-null     object \n",
      " 2   MoM     14 non-null     float64\n",
      " 3   high    14 non-null     object \n",
      "dtypes: float64(1), object(3)\n",
      "memory usage: 576.0+ bytes\n"
     ]
    }
   ],
   "source": [
    "# вначале получим общее представление о данных\n",
    "financials.info()"
   ]
  },
  {
   "cell_type": "markdown",
   "metadata": {
    "id": "FR28c6NfRVYH"
   },
   "source": [
    "## Дубликаты"
   ]
  },
  {
   "cell_type": "markdown",
   "metadata": {
    "id": "XATNvNeKDXkb"
   },
   "source": [
    "### Поиск дубликатов"
   ]
  },
  {
   "cell_type": "code",
   "execution_count": 4,
   "metadata": {
    "colab": {
     "base_uri": "https://localhost:8080/",
     "height": 523
    },
    "id": "qaW9JOmKRZ6l",
    "outputId": "1014c2ec-fbf6-4563-f261-291accc31414"
   },
   "outputs": [
    {
     "data": {
      "text/plain": [
       "0     False\n",
       "1     False\n",
       "2     False\n",
       "3     False\n",
       "4     False\n",
       "5     False\n",
       "6     False\n",
       "7     False\n",
       "8     False\n",
       "9     False\n",
       "10    False\n",
       "11    False\n",
       "12    False\n",
       "13     True\n",
       "dtype: bool"
      ]
     },
     "execution_count": 4,
     "metadata": {},
     "output_type": "execute_result"
    }
   ],
   "source": [
    "# keep = 'first' (параметр по умолчанию)\n",
    "# помечает как дубликат (True) ВТОРОЕ повторяющееся значение\n",
    "financials.duplicated(keep = 'first')"
   ]
  },
  {
   "cell_type": "code",
   "execution_count": 5,
   "metadata": {
    "colab": {
     "base_uri": "https://localhost:8080/",
     "height": 523
    },
    "id": "jpEyFoRAR_n-",
    "outputId": "3fe1fb29-5e94-413b-990a-4d32f7e88d2b"
   },
   "outputs": [
    {
     "data": {
      "text/plain": [
       "0     False\n",
       "1     False\n",
       "2     False\n",
       "3     False\n",
       "4     False\n",
       "5     False\n",
       "6     False\n",
       "7     False\n",
       "8     False\n",
       "9     False\n",
       "10    False\n",
       "11    False\n",
       "12     True\n",
       "13    False\n",
       "dtype: bool"
      ]
     },
     "execution_count": 5,
     "metadata": {},
     "output_type": "execute_result"
    }
   ],
   "source": [
    "# keep = 'last' соответственно считает дубликатом ПЕРВОЕ повторяющееся значение\n",
    "financials.duplicated(keep = 'last')"
   ]
  },
  {
   "cell_type": "code",
   "execution_count": 6,
   "metadata": {
    "colab": {
     "base_uri": "https://localhost:8080/",
     "height": 80
    },
    "id": "7w38KQ57MMMn",
    "outputId": "4375b213-120c-419b-e88c-ec133168b10d"
   },
   "outputs": [
    {
     "data": {
      "text/html": [
       "<div>\n",
       "<style scoped>\n",
       "    .dataframe tbody tr th:only-of-type {\n",
       "        vertical-align: middle;\n",
       "    }\n",
       "\n",
       "    .dataframe tbody tr th {\n",
       "        vertical-align: top;\n",
       "    }\n",
       "\n",
       "    .dataframe thead th {\n",
       "        text-align: right;\n",
       "    }\n",
       "</style>\n",
       "<table border=\"1\" class=\"dataframe\">\n",
       "  <thead>\n",
       "    <tr style=\"text-align: right;\">\n",
       "      <th></th>\n",
       "      <th>month</th>\n",
       "      <th>profit</th>\n",
       "      <th>MoM</th>\n",
       "      <th>high</th>\n",
       "    </tr>\n",
       "  </thead>\n",
       "  <tbody>\n",
       "    <tr>\n",
       "      <th>12</th>\n",
       "      <td>01/12/2019</td>\n",
       "      <td>1.23$</td>\n",
       "      <td>2.0</td>\n",
       "      <td>madrid</td>\n",
       "    </tr>\n",
       "  </tbody>\n",
       "</table>\n",
       "</div>"
      ],
      "text/plain": [
       "         month profit  MoM    high\n",
       "12  01/12/2019  1.23$  2.0  madrid"
      ]
     },
     "execution_count": 6,
     "metadata": {},
     "output_type": "execute_result"
    }
   ],
   "source": [
    "# результат метода .duplicated() можно использовать как фильтр\n",
    "financials[financials.duplicated(keep = 'last')]"
   ]
  },
  {
   "cell_type": "code",
   "execution_count": 7,
   "metadata": {
    "colab": {
     "base_uri": "https://localhost:8080/",
     "height": 523
    },
    "id": "D-vfBT85SWJa",
    "outputId": "4bf202de-1fb4-4f61-eeef-56489fe8f6f2"
   },
   "outputs": [
    {
     "data": {
      "text/plain": [
       "0     False\n",
       "1     False\n",
       "2     False\n",
       "3      True\n",
       "4     False\n",
       "5     False\n",
       "6     False\n",
       "7     False\n",
       "8     False\n",
       "9     False\n",
       "10    False\n",
       "11    False\n",
       "12    False\n",
       "13     True\n",
       "dtype: bool"
      ]
     },
     "execution_count": 7,
     "metadata": {},
     "output_type": "execute_result"
    }
   ],
   "source": [
    "# если смотреть по месяцам, у нас два дубликата, а не один\n",
    "# с помощью параметра subset мы ищем дубликаты по конкретным столбцам\n",
    "financials.duplicated(subset = ['month'])"
   ]
  },
  {
   "cell_type": "code",
   "execution_count": 8,
   "metadata": {
    "colab": {
     "base_uri": "https://localhost:8080/"
    },
    "id": "Heh1h8tvSoNM",
    "outputId": "5b3f0312-76d6-41a0-c1ec-f28303e55f02"
   },
   "outputs": [
    {
     "data": {
      "text/plain": [
       "2"
      ]
     },
     "execution_count": 8,
     "metadata": {},
     "output_type": "execute_result"
    }
   ],
   "source": [
    "# и если смотреть по месяцм, дубликатов не один, а два\n",
    "financials.duplicated(subset = ['month']).sum()"
   ]
  },
  {
   "cell_type": "code",
   "execution_count": 9,
   "metadata": {
    "colab": {
     "base_uri": "https://localhost:8080/",
     "height": 112
    },
    "id": "UObnA-QmfieD",
    "outputId": "f50a508a-6a88-4b81-a1cb-d213da309fa2"
   },
   "outputs": [
    {
     "data": {
      "text/html": [
       "<div>\n",
       "<style scoped>\n",
       "    .dataframe tbody tr th:only-of-type {\n",
       "        vertical-align: middle;\n",
       "    }\n",
       "\n",
       "    .dataframe tbody tr th {\n",
       "        vertical-align: top;\n",
       "    }\n",
       "\n",
       "    .dataframe thead th {\n",
       "        text-align: right;\n",
       "    }\n",
       "</style>\n",
       "<table border=\"1\" class=\"dataframe\">\n",
       "  <thead>\n",
       "    <tr style=\"text-align: right;\">\n",
       "      <th></th>\n",
       "      <th>month</th>\n",
       "      <th>profit</th>\n",
       "      <th>MoM</th>\n",
       "      <th>high</th>\n",
       "    </tr>\n",
       "  </thead>\n",
       "  <tbody>\n",
       "    <tr>\n",
       "      <th>2</th>\n",
       "      <td>01/03/2019</td>\n",
       "      <td>1.25$</td>\n",
       "      <td>0.01</td>\n",
       "      <td>singapour</td>\n",
       "    </tr>\n",
       "    <tr>\n",
       "      <th>12</th>\n",
       "      <td>01/12/2019</td>\n",
       "      <td>1.23$</td>\n",
       "      <td>2.00</td>\n",
       "      <td>madrid</td>\n",
       "    </tr>\n",
       "  </tbody>\n",
       "</table>\n",
       "</div>"
      ],
      "text/plain": [
       "         month profit   MoM       high\n",
       "2   01/03/2019  1.25$  0.01  singapour\n",
       "12  01/12/2019  1.23$  2.00     madrid"
      ]
     },
     "execution_count": 9,
     "metadata": {},
     "output_type": "execute_result"
    }
   ],
   "source": [
    "# создадим новый фильтр и выведем дубликаты по месяцам\n",
    "financials[financials.duplicated(subset = ['month'], keep = 'last')]"
   ]
  },
  {
   "cell_type": "code",
   "execution_count": 10,
   "metadata": {
    "colab": {
     "base_uri": "https://localhost:8080/"
    },
    "id": "vuC0SqSdSrUV",
    "outputId": "7431e912-6ea3-4062-fae3-7b75d78e13cf"
   },
   "outputs": [
    {
     "data": {
      "text/plain": [
       "12"
      ]
     },
     "execution_count": 10,
     "metadata": {},
     "output_type": "execute_result"
    }
   ],
   "source": [
    "# аналогично мы можем посмотреть на неповторяющиеся значения\n",
    "( ~ financials.duplicated(subset = ['month'])).sum()"
   ]
  },
  {
   "cell_type": "code",
   "execution_count": 11,
   "metadata": {
    "colab": {
     "base_uri": "https://localhost:8080/",
     "height": 425
    },
    "id": "kgfUx5knfxlV",
    "outputId": "f6e53c15-5778-40d3-806c-c8db62785cb5"
   },
   "outputs": [
    {
     "data": {
      "text/html": [
       "<div>\n",
       "<style scoped>\n",
       "    .dataframe tbody tr th:only-of-type {\n",
       "        vertical-align: middle;\n",
       "    }\n",
       "\n",
       "    .dataframe tbody tr th {\n",
       "        vertical-align: top;\n",
       "    }\n",
       "\n",
       "    .dataframe thead th {\n",
       "        text-align: right;\n",
       "    }\n",
       "</style>\n",
       "<table border=\"1\" class=\"dataframe\">\n",
       "  <thead>\n",
       "    <tr style=\"text-align: right;\">\n",
       "      <th></th>\n",
       "      <th>month</th>\n",
       "      <th>profit</th>\n",
       "      <th>MoM</th>\n",
       "      <th>high</th>\n",
       "    </tr>\n",
       "  </thead>\n",
       "  <tbody>\n",
       "    <tr>\n",
       "      <th>0</th>\n",
       "      <td>01/01/2019</td>\n",
       "      <td>1.20$</td>\n",
       "      <td>0.030</td>\n",
       "      <td>Dubai</td>\n",
       "    </tr>\n",
       "    <tr>\n",
       "      <th>1</th>\n",
       "      <td>01/02/2019</td>\n",
       "      <td>1.30$</td>\n",
       "      <td>-0.020</td>\n",
       "      <td>Paris</td>\n",
       "    </tr>\n",
       "    <tr>\n",
       "      <th>3</th>\n",
       "      <td>01/03/2019</td>\n",
       "      <td>1.25$</td>\n",
       "      <td>0.020</td>\n",
       "      <td>singapour</td>\n",
       "    </tr>\n",
       "    <tr>\n",
       "      <th>4</th>\n",
       "      <td>01/04/2019</td>\n",
       "      <td>1.27$</td>\n",
       "      <td>-0.010</td>\n",
       "      <td>moscow</td>\n",
       "    </tr>\n",
       "    <tr>\n",
       "      <th>5</th>\n",
       "      <td>01/05/2019</td>\n",
       "      <td>1.13$</td>\n",
       "      <td>-0.015</td>\n",
       "      <td>Paris</td>\n",
       "    </tr>\n",
       "    <tr>\n",
       "      <th>6</th>\n",
       "      <td>01/06/2019</td>\n",
       "      <td>1.23$</td>\n",
       "      <td>0.017</td>\n",
       "      <td>Madrid</td>\n",
       "    </tr>\n",
       "    <tr>\n",
       "      <th>7</th>\n",
       "      <td>01/07/2019</td>\n",
       "      <td>1.20$</td>\n",
       "      <td>0.035</td>\n",
       "      <td>moscow</td>\n",
       "    </tr>\n",
       "    <tr>\n",
       "      <th>8</th>\n",
       "      <td>01/08/2019</td>\n",
       "      <td>1.31$</td>\n",
       "      <td>0.020</td>\n",
       "      <td>london</td>\n",
       "    </tr>\n",
       "    <tr>\n",
       "      <th>9</th>\n",
       "      <td>01/09/2019</td>\n",
       "      <td>1.24$</td>\n",
       "      <td>0.010</td>\n",
       "      <td>london</td>\n",
       "    </tr>\n",
       "    <tr>\n",
       "      <th>10</th>\n",
       "      <td>01/10/2019</td>\n",
       "      <td>1.18$</td>\n",
       "      <td>0.000</td>\n",
       "      <td>Moscow</td>\n",
       "    </tr>\n",
       "    <tr>\n",
       "      <th>11</th>\n",
       "      <td>01/11/2019</td>\n",
       "      <td>1.17$</td>\n",
       "      <td>-0.010</td>\n",
       "      <td>Rome</td>\n",
       "    </tr>\n",
       "    <tr>\n",
       "      <th>13</th>\n",
       "      <td>01/12/2019</td>\n",
       "      <td>1.23$</td>\n",
       "      <td>2.000</td>\n",
       "      <td>madrid</td>\n",
       "    </tr>\n",
       "  </tbody>\n",
       "</table>\n",
       "</div>"
      ],
      "text/plain": [
       "         month profit    MoM       high\n",
       "0   01/01/2019  1.20$  0.030      Dubai\n",
       "1   01/02/2019  1.30$ -0.020      Paris\n",
       "3   01/03/2019  1.25$  0.020  singapour\n",
       "4   01/04/2019  1.27$ -0.010     moscow\n",
       "5   01/05/2019  1.13$ -0.015      Paris\n",
       "6   01/06/2019  1.23$  0.017     Madrid\n",
       "7   01/07/2019  1.20$  0.035     moscow\n",
       "8   01/08/2019  1.31$  0.020     london\n",
       "9   01/09/2019  1.24$  0.010     london\n",
       "10  01/10/2019  1.18$  0.000     Moscow\n",
       "11  01/11/2019  1.17$ -0.010       Rome\n",
       "13  01/12/2019  1.23$  2.000     madrid"
      ]
     },
     "execution_count": 11,
     "metadata": {},
     "output_type": "execute_result"
    }
   ],
   "source": [
    "# этот логический массив можно также использовать как фильтр\n",
    "financials[ ~ financials.duplicated(subset = ['month'], keep = 'last')]"
   ]
  },
  {
   "cell_type": "markdown",
   "metadata": {
    "id": "plrDq7tuDbQl"
   },
   "source": [
    "### Удаление дубликатов"
   ]
  },
  {
   "cell_type": "code",
   "execution_count": 12,
   "metadata": {
    "colab": {
     "base_uri": "https://localhost:8080/",
     "height": 425
    },
    "id": "mfVnEz7uS1kN",
    "outputId": "a18fe8bd-6a62-4749-b5c5-3088a300ffe7"
   },
   "outputs": [
    {
     "data": {
      "text/html": [
       "<div>\n",
       "<style scoped>\n",
       "    .dataframe tbody tr th:only-of-type {\n",
       "        vertical-align: middle;\n",
       "    }\n",
       "\n",
       "    .dataframe tbody tr th {\n",
       "        vertical-align: top;\n",
       "    }\n",
       "\n",
       "    .dataframe thead th {\n",
       "        text-align: right;\n",
       "    }\n",
       "</style>\n",
       "<table border=\"1\" class=\"dataframe\">\n",
       "  <thead>\n",
       "    <tr style=\"text-align: right;\">\n",
       "      <th></th>\n",
       "      <th>month</th>\n",
       "      <th>profit</th>\n",
       "      <th>MoM</th>\n",
       "      <th>high</th>\n",
       "    </tr>\n",
       "  </thead>\n",
       "  <tbody>\n",
       "    <tr>\n",
       "      <th>0</th>\n",
       "      <td>01/01/2019</td>\n",
       "      <td>1.20$</td>\n",
       "      <td>0.030</td>\n",
       "      <td>Dubai</td>\n",
       "    </tr>\n",
       "    <tr>\n",
       "      <th>1</th>\n",
       "      <td>01/02/2019</td>\n",
       "      <td>1.30$</td>\n",
       "      <td>-0.020</td>\n",
       "      <td>Paris</td>\n",
       "    </tr>\n",
       "    <tr>\n",
       "      <th>2</th>\n",
       "      <td>01/03/2019</td>\n",
       "      <td>1.25$</td>\n",
       "      <td>0.020</td>\n",
       "      <td>singapour</td>\n",
       "    </tr>\n",
       "    <tr>\n",
       "      <th>3</th>\n",
       "      <td>01/04/2019</td>\n",
       "      <td>1.27$</td>\n",
       "      <td>-0.010</td>\n",
       "      <td>moscow</td>\n",
       "    </tr>\n",
       "    <tr>\n",
       "      <th>4</th>\n",
       "      <td>01/05/2019</td>\n",
       "      <td>1.13$</td>\n",
       "      <td>-0.015</td>\n",
       "      <td>Paris</td>\n",
       "    </tr>\n",
       "    <tr>\n",
       "      <th>5</th>\n",
       "      <td>01/06/2019</td>\n",
       "      <td>1.23$</td>\n",
       "      <td>0.017</td>\n",
       "      <td>Madrid</td>\n",
       "    </tr>\n",
       "    <tr>\n",
       "      <th>6</th>\n",
       "      <td>01/07/2019</td>\n",
       "      <td>1.20$</td>\n",
       "      <td>0.035</td>\n",
       "      <td>moscow</td>\n",
       "    </tr>\n",
       "    <tr>\n",
       "      <th>7</th>\n",
       "      <td>01/08/2019</td>\n",
       "      <td>1.31$</td>\n",
       "      <td>0.020</td>\n",
       "      <td>london</td>\n",
       "    </tr>\n",
       "    <tr>\n",
       "      <th>8</th>\n",
       "      <td>01/09/2019</td>\n",
       "      <td>1.24$</td>\n",
       "      <td>0.010</td>\n",
       "      <td>london</td>\n",
       "    </tr>\n",
       "    <tr>\n",
       "      <th>9</th>\n",
       "      <td>01/10/2019</td>\n",
       "      <td>1.18$</td>\n",
       "      <td>0.000</td>\n",
       "      <td>Moscow</td>\n",
       "    </tr>\n",
       "    <tr>\n",
       "      <th>10</th>\n",
       "      <td>01/11/2019</td>\n",
       "      <td>1.17$</td>\n",
       "      <td>-0.010</td>\n",
       "      <td>Rome</td>\n",
       "    </tr>\n",
       "    <tr>\n",
       "      <th>11</th>\n",
       "      <td>01/12/2019</td>\n",
       "      <td>1.23$</td>\n",
       "      <td>2.000</td>\n",
       "      <td>madrid</td>\n",
       "    </tr>\n",
       "  </tbody>\n",
       "</table>\n",
       "</div>"
      ],
      "text/plain": [
       "         month profit    MoM       high\n",
       "0   01/01/2019  1.20$  0.030      Dubai\n",
       "1   01/02/2019  1.30$ -0.020      Paris\n",
       "2   01/03/2019  1.25$  0.020  singapour\n",
       "3   01/04/2019  1.27$ -0.010     moscow\n",
       "4   01/05/2019  1.13$ -0.015      Paris\n",
       "5   01/06/2019  1.23$  0.017     Madrid\n",
       "6   01/07/2019  1.20$  0.035     moscow\n",
       "7   01/08/2019  1.31$  0.020     london\n",
       "8   01/09/2019  1.24$  0.010     london\n",
       "9   01/10/2019  1.18$  0.000     Moscow\n",
       "10  01/11/2019  1.17$ -0.010       Rome\n",
       "11  01/12/2019  1.23$  2.000     madrid"
      ]
     },
     "execution_count": 12,
     "metadata": {},
     "output_type": "execute_result"
    }
   ],
   "source": [
    "# метод .drop_duplicates() удаляет дубликаты и\n",
    "# по сути принимает те же параметры, что и .duplicated()\n",
    "financials.drop_duplicates(keep = 'last',\n",
    "                           subset = ['month'],\n",
    "                           ignore_index = True,\n",
    "                           inplace = True)\n",
    "financials"
   ]
  },
  {
   "cell_type": "markdown",
   "metadata": {
    "id": "pMg9hyMDRaHg"
   },
   "source": [
    "## Неверные значения"
   ]
  },
  {
   "cell_type": "markdown",
   "metadata": {
    "id": "U7OkUrNO4KZi"
   },
   "source": [
    "Доли процента и проценты"
   ]
  },
  {
   "cell_type": "code",
   "execution_count": 13,
   "metadata": {
    "colab": {
     "base_uri": "https://localhost:8080/"
    },
    "id": "MO97TAfU27YZ",
    "outputId": "04f63ecd-8ee9-4161-e109-fd21c020531f"
   },
   "outputs": [
    {
     "data": {
      "text/plain": [
       "0.17308333333333334"
      ]
     },
     "execution_count": 13,
     "metadata": {},
     "output_type": "execute_result"
    }
   ],
   "source": [
    "# рассчитаем среднемесячное изменение прибыли\n",
    "financials.MoM.mean()"
   ]
  },
  {
   "cell_type": "code",
   "execution_count": 14,
   "metadata": {
    "id": "HnCffzTv2-9y"
   },
   "outputs": [],
   "source": [
    "# заменим 2% на 0.02\n",
    "financials.iloc[11, 2] = 0.02"
   ]
  },
  {
   "cell_type": "code",
   "execution_count": 15,
   "metadata": {
    "colab": {
     "base_uri": "https://localhost:8080/"
    },
    "id": "XZbu1XVk3IeB",
    "outputId": "b1646539-47f7-4a57-c67b-a6fc8a60f7f5"
   },
   "outputs": [
    {
     "data": {
      "text/plain": [
       "0.008083333333333335"
      ]
     },
     "execution_count": 15,
     "metadata": {},
     "output_type": "execute_result"
    }
   ],
   "source": [
    "# вновь рассчитаем средний показатель\n",
    "financials.MoM.mean()"
   ]
  },
  {
   "cell_type": "markdown",
   "metadata": {
    "id": "-bhuXZtHRf3q"
   },
   "source": [
    "## Форматирование значений"
   ]
  },
  {
   "cell_type": "markdown",
   "metadata": {
    "id": "yGQ8IuvI4N8F"
   },
   "source": [
    "Тип str вместо float"
   ]
  },
  {
   "cell_type": "code",
   "execution_count": 16,
   "metadata": {
    "colab": {
     "base_uri": "https://localhost:8080/",
     "height": 37
    },
    "id": "DE6B4YfA2AbL",
    "outputId": "899f7e30-d3fb-46d3-8bc6-fa7b4e304e39"
   },
   "outputs": [
    {
     "data": {
      "text/plain": [
       "'1.20$1.30$1.25$1.27$1.13$1.23$1.20$1.31$1.24$1.18$1.17$1.23$'"
      ]
     },
     "execution_count": 16,
     "metadata": {},
     "output_type": "execute_result"
    }
   ],
   "source": [
    "# попробуем сложить данные о прибыли\n",
    "financials.profit.sum()"
   ]
  },
  {
   "cell_type": "code",
   "execution_count": 17,
   "metadata": {
    "id": "3UysVROi2PxE"
   },
   "outputs": [],
   "source": [
    "# вначале удалим знак доллара с помощью метода .strip()\n",
    "financials['profit'] = financials['profit'].str.strip('$')\n",
    "\n",
    "# затем воспользуемся знакомым нам методом .astype()\n",
    "financials['profit'] = financials['profit'].astype('float')"
   ]
  },
  {
   "cell_type": "code",
   "execution_count": null,
   "metadata": {
    "id": "1iUmsyxsNswr"
   },
   "outputs": [],
   "source": [
    "# отступление про ключевое слово assert\n",
    "# напишем простейшую функцию деления одного числа на другое\n",
    "def division(a, b):\n",
    "  \"\"\"Return division of 2 numbers.\"\"\"\n",
    "  # если делитель равен нулю, Питон выдаст ошибку (текст ошибки указывать не обязательно)\n",
    "  assert b != 0, 'На ноль делить нельзя'\n",
    "  return round(a / b, 2)"
   ]
  },
  {
   "cell_type": "code",
   "execution_count": 19,
   "metadata": {
    "id": "c-ZaOI5UNzid"
   },
   "outputs": [],
   "source": [
    "# попробуем разделить 5 на 0\n",
    "# division(5, 0)"
   ]
  },
  {
   "cell_type": "code",
   "execution_count": 20,
   "metadata": {
    "id": "1KtT8YZA2tmY"
   },
   "outputs": [],
   "source": [
    "# проверим, получилось ли изменить тип данных\n",
    "assert financials.profit.dtype == float"
   ]
  },
  {
   "cell_type": "code",
   "execution_count": 21,
   "metadata": {
    "colab": {
     "base_uri": "https://localhost:8080/"
    },
    "id": "-h-YVVNi3O7Y",
    "outputId": "c3423904-6289-4c28-b317-47721341a9be"
   },
   "outputs": [
    {
     "data": {
      "text/plain": [
       "14.709999999999999"
      ]
     },
     "execution_count": 21,
     "metadata": {},
     "output_type": "execute_result"
    }
   ],
   "source": [
    "# теперь снова рассчитаем прибыль за год\n",
    "financials.profit.sum()"
   ]
  },
  {
   "cell_type": "markdown",
   "metadata": {
    "id": "SvJYqr1bEe1n"
   },
   "source": [
    "Названия городов с заглавной буквы"
   ]
  },
  {
   "cell_type": "code",
   "execution_count": 22,
   "metadata": {
    "colab": {
     "base_uri": "https://localhost:8080/",
     "height": 425
    },
    "id": "u1P9ydMurKR2",
    "outputId": "7bff5ba2-38ec-4209-cbc4-82778e3542c3"
   },
   "outputs": [
    {
     "data": {
      "text/html": [
       "<div>\n",
       "<style scoped>\n",
       "    .dataframe tbody tr th:only-of-type {\n",
       "        vertical-align: middle;\n",
       "    }\n",
       "\n",
       "    .dataframe tbody tr th {\n",
       "        vertical-align: top;\n",
       "    }\n",
       "\n",
       "    .dataframe thead th {\n",
       "        text-align: right;\n",
       "    }\n",
       "</style>\n",
       "<table border=\"1\" class=\"dataframe\">\n",
       "  <thead>\n",
       "    <tr style=\"text-align: right;\">\n",
       "      <th></th>\n",
       "      <th>month</th>\n",
       "      <th>profit</th>\n",
       "      <th>MoM</th>\n",
       "      <th>high</th>\n",
       "    </tr>\n",
       "  </thead>\n",
       "  <tbody>\n",
       "    <tr>\n",
       "      <th>0</th>\n",
       "      <td>01/01/2019</td>\n",
       "      <td>1.20</td>\n",
       "      <td>0.030</td>\n",
       "      <td>Dubai</td>\n",
       "    </tr>\n",
       "    <tr>\n",
       "      <th>1</th>\n",
       "      <td>01/02/2019</td>\n",
       "      <td>1.30</td>\n",
       "      <td>-0.020</td>\n",
       "      <td>Paris</td>\n",
       "    </tr>\n",
       "    <tr>\n",
       "      <th>2</th>\n",
       "      <td>01/03/2019</td>\n",
       "      <td>1.25</td>\n",
       "      <td>0.020</td>\n",
       "      <td>Singapour</td>\n",
       "    </tr>\n",
       "    <tr>\n",
       "      <th>3</th>\n",
       "      <td>01/04/2019</td>\n",
       "      <td>1.27</td>\n",
       "      <td>-0.010</td>\n",
       "      <td>Moscow</td>\n",
       "    </tr>\n",
       "    <tr>\n",
       "      <th>4</th>\n",
       "      <td>01/05/2019</td>\n",
       "      <td>1.13</td>\n",
       "      <td>-0.015</td>\n",
       "      <td>Paris</td>\n",
       "    </tr>\n",
       "    <tr>\n",
       "      <th>5</th>\n",
       "      <td>01/06/2019</td>\n",
       "      <td>1.23</td>\n",
       "      <td>0.017</td>\n",
       "      <td>Madrid</td>\n",
       "    </tr>\n",
       "    <tr>\n",
       "      <th>6</th>\n",
       "      <td>01/07/2019</td>\n",
       "      <td>1.20</td>\n",
       "      <td>0.035</td>\n",
       "      <td>Moscow</td>\n",
       "    </tr>\n",
       "    <tr>\n",
       "      <th>7</th>\n",
       "      <td>01/08/2019</td>\n",
       "      <td>1.31</td>\n",
       "      <td>0.020</td>\n",
       "      <td>London</td>\n",
       "    </tr>\n",
       "    <tr>\n",
       "      <th>8</th>\n",
       "      <td>01/09/2019</td>\n",
       "      <td>1.24</td>\n",
       "      <td>0.010</td>\n",
       "      <td>London</td>\n",
       "    </tr>\n",
       "    <tr>\n",
       "      <th>9</th>\n",
       "      <td>01/10/2019</td>\n",
       "      <td>1.18</td>\n",
       "      <td>0.000</td>\n",
       "      <td>Moscow</td>\n",
       "    </tr>\n",
       "    <tr>\n",
       "      <th>10</th>\n",
       "      <td>01/11/2019</td>\n",
       "      <td>1.17</td>\n",
       "      <td>-0.010</td>\n",
       "      <td>Rome</td>\n",
       "    </tr>\n",
       "    <tr>\n",
       "      <th>11</th>\n",
       "      <td>01/12/2019</td>\n",
       "      <td>1.23</td>\n",
       "      <td>0.020</td>\n",
       "      <td>Madrid</td>\n",
       "    </tr>\n",
       "  </tbody>\n",
       "</table>\n",
       "</div>"
      ],
      "text/plain": [
       "         month  profit    MoM       high\n",
       "0   01/01/2019    1.20  0.030      Dubai\n",
       "1   01/02/2019    1.30 -0.020      Paris\n",
       "2   01/03/2019    1.25  0.020  Singapour\n",
       "3   01/04/2019    1.27 -0.010     Moscow\n",
       "4   01/05/2019    1.13 -0.015      Paris\n",
       "5   01/06/2019    1.23  0.017     Madrid\n",
       "6   01/07/2019    1.20  0.035     Moscow\n",
       "7   01/08/2019    1.31  0.020     London\n",
       "8   01/09/2019    1.24  0.010     London\n",
       "9   01/10/2019    1.18  0.000     Moscow\n",
       "10  01/11/2019    1.17 -0.010       Rome\n",
       "11  01/12/2019    1.23  0.020     Madrid"
      ]
     },
     "execution_count": 22,
     "metadata": {},
     "output_type": "execute_result"
    }
   ],
   "source": [
    "# пусть названия всех городов начинаются с заглавной буквы\n",
    "# для этого подойдет метод .title()\n",
    "financials['high'] = financials['high'].str.title()\n",
    "financials"
   ]
  },
  {
   "cell_type": "markdown",
   "metadata": {
    "id": "8ZqojY5zUQSR"
   },
   "source": [
    "## Дата и время"
   ]
  },
  {
   "cell_type": "code",
   "execution_count": 23,
   "metadata": {
    "colab": {
     "base_uri": "https://localhost:8080/",
     "height": 425
    },
    "id": "8VMbn5lxUVHa",
    "outputId": "2a1685fa-58e3-4a5b-e7e9-a19cd30a6a1d"
   },
   "outputs": [
    {
     "data": {
      "text/html": [
       "<div>\n",
       "<style scoped>\n",
       "    .dataframe tbody tr th:only-of-type {\n",
       "        vertical-align: middle;\n",
       "    }\n",
       "\n",
       "    .dataframe tbody tr th {\n",
       "        vertical-align: top;\n",
       "    }\n",
       "\n",
       "    .dataframe thead th {\n",
       "        text-align: right;\n",
       "    }\n",
       "</style>\n",
       "<table border=\"1\" class=\"dataframe\">\n",
       "  <thead>\n",
       "    <tr style=\"text-align: right;\">\n",
       "      <th></th>\n",
       "      <th>month</th>\n",
       "      <th>profit</th>\n",
       "      <th>MoM</th>\n",
       "      <th>high</th>\n",
       "      <th>date1</th>\n",
       "    </tr>\n",
       "  </thead>\n",
       "  <tbody>\n",
       "    <tr>\n",
       "      <th>0</th>\n",
       "      <td>01/01/2019</td>\n",
       "      <td>1.20</td>\n",
       "      <td>0.030</td>\n",
       "      <td>Dubai</td>\n",
       "      <td>2019-01-01</td>\n",
       "    </tr>\n",
       "    <tr>\n",
       "      <th>1</th>\n",
       "      <td>01/02/2019</td>\n",
       "      <td>1.30</td>\n",
       "      <td>-0.020</td>\n",
       "      <td>Paris</td>\n",
       "      <td>2019-02-01</td>\n",
       "    </tr>\n",
       "    <tr>\n",
       "      <th>2</th>\n",
       "      <td>01/03/2019</td>\n",
       "      <td>1.25</td>\n",
       "      <td>0.020</td>\n",
       "      <td>Singapour</td>\n",
       "      <td>2019-03-01</td>\n",
       "    </tr>\n",
       "    <tr>\n",
       "      <th>3</th>\n",
       "      <td>01/04/2019</td>\n",
       "      <td>1.27</td>\n",
       "      <td>-0.010</td>\n",
       "      <td>Moscow</td>\n",
       "      <td>2019-04-01</td>\n",
       "    </tr>\n",
       "    <tr>\n",
       "      <th>4</th>\n",
       "      <td>01/05/2019</td>\n",
       "      <td>1.13</td>\n",
       "      <td>-0.015</td>\n",
       "      <td>Paris</td>\n",
       "      <td>2019-05-01</td>\n",
       "    </tr>\n",
       "    <tr>\n",
       "      <th>5</th>\n",
       "      <td>01/06/2019</td>\n",
       "      <td>1.23</td>\n",
       "      <td>0.017</td>\n",
       "      <td>Madrid</td>\n",
       "      <td>2019-06-01</td>\n",
       "    </tr>\n",
       "    <tr>\n",
       "      <th>6</th>\n",
       "      <td>01/07/2019</td>\n",
       "      <td>1.20</td>\n",
       "      <td>0.035</td>\n",
       "      <td>Moscow</td>\n",
       "      <td>2019-07-01</td>\n",
       "    </tr>\n",
       "    <tr>\n",
       "      <th>7</th>\n",
       "      <td>01/08/2019</td>\n",
       "      <td>1.31</td>\n",
       "      <td>0.020</td>\n",
       "      <td>London</td>\n",
       "      <td>2019-08-01</td>\n",
       "    </tr>\n",
       "    <tr>\n",
       "      <th>8</th>\n",
       "      <td>01/09/2019</td>\n",
       "      <td>1.24</td>\n",
       "      <td>0.010</td>\n",
       "      <td>London</td>\n",
       "      <td>2019-09-01</td>\n",
       "    </tr>\n",
       "    <tr>\n",
       "      <th>9</th>\n",
       "      <td>01/10/2019</td>\n",
       "      <td>1.18</td>\n",
       "      <td>0.000</td>\n",
       "      <td>Moscow</td>\n",
       "      <td>2019-10-01</td>\n",
       "    </tr>\n",
       "    <tr>\n",
       "      <th>10</th>\n",
       "      <td>01/11/2019</td>\n",
       "      <td>1.17</td>\n",
       "      <td>-0.010</td>\n",
       "      <td>Rome</td>\n",
       "      <td>2019-11-01</td>\n",
       "    </tr>\n",
       "    <tr>\n",
       "      <th>11</th>\n",
       "      <td>01/12/2019</td>\n",
       "      <td>1.23</td>\n",
       "      <td>0.020</td>\n",
       "      <td>Madrid</td>\n",
       "      <td>2019-12-01</td>\n",
       "    </tr>\n",
       "  </tbody>\n",
       "</table>\n",
       "</div>"
      ],
      "text/plain": [
       "         month  profit    MoM       high      date1\n",
       "0   01/01/2019    1.20  0.030      Dubai 2019-01-01\n",
       "1   01/02/2019    1.30 -0.020      Paris 2019-02-01\n",
       "2   01/03/2019    1.25  0.020  Singapour 2019-03-01\n",
       "3   01/04/2019    1.27 -0.010     Moscow 2019-04-01\n",
       "4   01/05/2019    1.13 -0.015      Paris 2019-05-01\n",
       "5   01/06/2019    1.23  0.017     Madrid 2019-06-01\n",
       "6   01/07/2019    1.20  0.035     Moscow 2019-07-01\n",
       "7   01/08/2019    1.31  0.020     London 2019-08-01\n",
       "8   01/09/2019    1.24  0.010     London 2019-09-01\n",
       "9   01/10/2019    1.18  0.000     Moscow 2019-10-01\n",
       "10  01/11/2019    1.17 -0.010       Rome 2019-11-01\n",
       "11  01/12/2019    1.23  0.020     Madrid 2019-12-01"
      ]
     },
     "execution_count": 23,
     "metadata": {},
     "output_type": "execute_result"
    }
   ],
   "source": [
    "# преобразуем столбец month в тип datetime, вручную указав исходный формат даты\n",
    "financials['date1'] = pd.to_datetime(financials['month'], format = '%d/%m/%Y')\n",
    "financials"
   ]
  },
  {
   "cell_type": "code",
   "execution_count": 24,
   "metadata": {
    "colab": {
     "base_uri": "https://localhost:8080/",
     "height": 425
    },
    "id": "ZlTAQcsanlry",
    "outputId": "e5bea822-5d9c-4d08-c0da-dcfb02edd33c"
   },
   "outputs": [
    {
     "data": {
      "text/html": [
       "<div>\n",
       "<style scoped>\n",
       "    .dataframe tbody tr th:only-of-type {\n",
       "        vertical-align: middle;\n",
       "    }\n",
       "\n",
       "    .dataframe tbody tr th {\n",
       "        vertical-align: top;\n",
       "    }\n",
       "\n",
       "    .dataframe thead th {\n",
       "        text-align: right;\n",
       "    }\n",
       "</style>\n",
       "<table border=\"1\" class=\"dataframe\">\n",
       "  <thead>\n",
       "    <tr style=\"text-align: right;\">\n",
       "      <th></th>\n",
       "      <th>month</th>\n",
       "      <th>profit</th>\n",
       "      <th>MoM</th>\n",
       "      <th>high</th>\n",
       "      <th>date1</th>\n",
       "      <th>date2</th>\n",
       "    </tr>\n",
       "  </thead>\n",
       "  <tbody>\n",
       "    <tr>\n",
       "      <th>0</th>\n",
       "      <td>01/01/2019</td>\n",
       "      <td>1.20</td>\n",
       "      <td>0.030</td>\n",
       "      <td>Dubai</td>\n",
       "      <td>2019-01-01</td>\n",
       "      <td>2019-01-01</td>\n",
       "    </tr>\n",
       "    <tr>\n",
       "      <th>1</th>\n",
       "      <td>01/02/2019</td>\n",
       "      <td>1.30</td>\n",
       "      <td>-0.020</td>\n",
       "      <td>Paris</td>\n",
       "      <td>2019-02-01</td>\n",
       "      <td>2019-01-02</td>\n",
       "    </tr>\n",
       "    <tr>\n",
       "      <th>2</th>\n",
       "      <td>01/03/2019</td>\n",
       "      <td>1.25</td>\n",
       "      <td>0.020</td>\n",
       "      <td>Singapour</td>\n",
       "      <td>2019-03-01</td>\n",
       "      <td>2019-01-03</td>\n",
       "    </tr>\n",
       "    <tr>\n",
       "      <th>3</th>\n",
       "      <td>01/04/2019</td>\n",
       "      <td>1.27</td>\n",
       "      <td>-0.010</td>\n",
       "      <td>Moscow</td>\n",
       "      <td>2019-04-01</td>\n",
       "      <td>2019-01-04</td>\n",
       "    </tr>\n",
       "    <tr>\n",
       "      <th>4</th>\n",
       "      <td>01/05/2019</td>\n",
       "      <td>1.13</td>\n",
       "      <td>-0.015</td>\n",
       "      <td>Paris</td>\n",
       "      <td>2019-05-01</td>\n",
       "      <td>2019-01-05</td>\n",
       "    </tr>\n",
       "    <tr>\n",
       "      <th>5</th>\n",
       "      <td>01/06/2019</td>\n",
       "      <td>1.23</td>\n",
       "      <td>0.017</td>\n",
       "      <td>Madrid</td>\n",
       "      <td>2019-06-01</td>\n",
       "      <td>2019-01-06</td>\n",
       "    </tr>\n",
       "    <tr>\n",
       "      <th>6</th>\n",
       "      <td>01/07/2019</td>\n",
       "      <td>1.20</td>\n",
       "      <td>0.035</td>\n",
       "      <td>Moscow</td>\n",
       "      <td>2019-07-01</td>\n",
       "      <td>2019-01-07</td>\n",
       "    </tr>\n",
       "    <tr>\n",
       "      <th>7</th>\n",
       "      <td>01/08/2019</td>\n",
       "      <td>1.31</td>\n",
       "      <td>0.020</td>\n",
       "      <td>London</td>\n",
       "      <td>2019-08-01</td>\n",
       "      <td>2019-01-08</td>\n",
       "    </tr>\n",
       "    <tr>\n",
       "      <th>8</th>\n",
       "      <td>01/09/2019</td>\n",
       "      <td>1.24</td>\n",
       "      <td>0.010</td>\n",
       "      <td>London</td>\n",
       "      <td>2019-09-01</td>\n",
       "      <td>2019-01-09</td>\n",
       "    </tr>\n",
       "    <tr>\n",
       "      <th>9</th>\n",
       "      <td>01/10/2019</td>\n",
       "      <td>1.18</td>\n",
       "      <td>0.000</td>\n",
       "      <td>Moscow</td>\n",
       "      <td>2019-10-01</td>\n",
       "      <td>2019-01-10</td>\n",
       "    </tr>\n",
       "    <tr>\n",
       "      <th>10</th>\n",
       "      <td>01/11/2019</td>\n",
       "      <td>1.17</td>\n",
       "      <td>-0.010</td>\n",
       "      <td>Rome</td>\n",
       "      <td>2019-11-01</td>\n",
       "      <td>2019-01-11</td>\n",
       "    </tr>\n",
       "    <tr>\n",
       "      <th>11</th>\n",
       "      <td>01/12/2019</td>\n",
       "      <td>1.23</td>\n",
       "      <td>0.020</td>\n",
       "      <td>Madrid</td>\n",
       "      <td>2019-12-01</td>\n",
       "      <td>2019-01-12</td>\n",
       "    </tr>\n",
       "  </tbody>\n",
       "</table>\n",
       "</div>"
      ],
      "text/plain": [
       "         month  profit    MoM       high      date1      date2\n",
       "0   01/01/2019    1.20  0.030      Dubai 2019-01-01 2019-01-01\n",
       "1   01/02/2019    1.30 -0.020      Paris 2019-02-01 2019-01-02\n",
       "2   01/03/2019    1.25  0.020  Singapour 2019-03-01 2019-01-03\n",
       "3   01/04/2019    1.27 -0.010     Moscow 2019-04-01 2019-01-04\n",
       "4   01/05/2019    1.13 -0.015      Paris 2019-05-01 2019-01-05\n",
       "5   01/06/2019    1.23  0.017     Madrid 2019-06-01 2019-01-06\n",
       "6   01/07/2019    1.20  0.035     Moscow 2019-07-01 2019-01-07\n",
       "7   01/08/2019    1.31  0.020     London 2019-08-01 2019-01-08\n",
       "8   01/09/2019    1.24  0.010     London 2019-09-01 2019-01-09\n",
       "9   01/10/2019    1.18  0.000     Moscow 2019-10-01 2019-01-10\n",
       "10  01/11/2019    1.17 -0.010       Rome 2019-11-01 2019-01-11\n",
       "11  01/12/2019    1.23  0.020     Madrid 2019-12-01 2019-01-12"
      ]
     },
     "execution_count": 24,
     "metadata": {},
     "output_type": "execute_result"
    }
   ],
   "source": [
    "# теперь давайте попросим Питон самостоятельно определить формат даты\n",
    "# для этого используем pd.to_datetime() без дополнительных параметров\n",
    "financials['date2'] = pd.to_datetime(financials['month'])\n",
    "financials"
   ]
  },
  {
   "cell_type": "code",
   "execution_count": 25,
   "metadata": {
    "colab": {
     "base_uri": "https://localhost:8080/",
     "height": 425
    },
    "id": "vnVKu5AenfAn",
    "outputId": "70dccd98-d7ac-4440-bdeb-66a68152430c"
   },
   "outputs": [
    {
     "data": {
      "text/html": [
       "<div>\n",
       "<style scoped>\n",
       "    .dataframe tbody tr th:only-of-type {\n",
       "        vertical-align: middle;\n",
       "    }\n",
       "\n",
       "    .dataframe tbody tr th {\n",
       "        vertical-align: top;\n",
       "    }\n",
       "\n",
       "    .dataframe thead th {\n",
       "        text-align: right;\n",
       "    }\n",
       "</style>\n",
       "<table border=\"1\" class=\"dataframe\">\n",
       "  <thead>\n",
       "    <tr style=\"text-align: right;\">\n",
       "      <th></th>\n",
       "      <th>month</th>\n",
       "      <th>profit</th>\n",
       "      <th>MoM</th>\n",
       "      <th>high</th>\n",
       "      <th>date1</th>\n",
       "      <th>date2</th>\n",
       "      <th>date3</th>\n",
       "    </tr>\n",
       "  </thead>\n",
       "  <tbody>\n",
       "    <tr>\n",
       "      <th>0</th>\n",
       "      <td>01/01/2019</td>\n",
       "      <td>1.20</td>\n",
       "      <td>0.030</td>\n",
       "      <td>Dubai</td>\n",
       "      <td>2019-01-01</td>\n",
       "      <td>2019-01-01</td>\n",
       "      <td>2019-01-01</td>\n",
       "    </tr>\n",
       "    <tr>\n",
       "      <th>1</th>\n",
       "      <td>01/02/2019</td>\n",
       "      <td>1.30</td>\n",
       "      <td>-0.020</td>\n",
       "      <td>Paris</td>\n",
       "      <td>2019-02-01</td>\n",
       "      <td>2019-01-02</td>\n",
       "      <td>2019-02-01</td>\n",
       "    </tr>\n",
       "    <tr>\n",
       "      <th>2</th>\n",
       "      <td>01/03/2019</td>\n",
       "      <td>1.25</td>\n",
       "      <td>0.020</td>\n",
       "      <td>Singapour</td>\n",
       "      <td>2019-03-01</td>\n",
       "      <td>2019-01-03</td>\n",
       "      <td>2019-03-01</td>\n",
       "    </tr>\n",
       "    <tr>\n",
       "      <th>3</th>\n",
       "      <td>01/04/2019</td>\n",
       "      <td>1.27</td>\n",
       "      <td>-0.010</td>\n",
       "      <td>Moscow</td>\n",
       "      <td>2019-04-01</td>\n",
       "      <td>2019-01-04</td>\n",
       "      <td>2019-04-01</td>\n",
       "    </tr>\n",
       "    <tr>\n",
       "      <th>4</th>\n",
       "      <td>01/05/2019</td>\n",
       "      <td>1.13</td>\n",
       "      <td>-0.015</td>\n",
       "      <td>Paris</td>\n",
       "      <td>2019-05-01</td>\n",
       "      <td>2019-01-05</td>\n",
       "      <td>2019-05-01</td>\n",
       "    </tr>\n",
       "    <tr>\n",
       "      <th>5</th>\n",
       "      <td>01/06/2019</td>\n",
       "      <td>1.23</td>\n",
       "      <td>0.017</td>\n",
       "      <td>Madrid</td>\n",
       "      <td>2019-06-01</td>\n",
       "      <td>2019-01-06</td>\n",
       "      <td>2019-06-01</td>\n",
       "    </tr>\n",
       "    <tr>\n",
       "      <th>6</th>\n",
       "      <td>01/07/2019</td>\n",
       "      <td>1.20</td>\n",
       "      <td>0.035</td>\n",
       "      <td>Moscow</td>\n",
       "      <td>2019-07-01</td>\n",
       "      <td>2019-01-07</td>\n",
       "      <td>2019-07-01</td>\n",
       "    </tr>\n",
       "    <tr>\n",
       "      <th>7</th>\n",
       "      <td>01/08/2019</td>\n",
       "      <td>1.31</td>\n",
       "      <td>0.020</td>\n",
       "      <td>London</td>\n",
       "      <td>2019-08-01</td>\n",
       "      <td>2019-01-08</td>\n",
       "      <td>2019-08-01</td>\n",
       "    </tr>\n",
       "    <tr>\n",
       "      <th>8</th>\n",
       "      <td>01/09/2019</td>\n",
       "      <td>1.24</td>\n",
       "      <td>0.010</td>\n",
       "      <td>London</td>\n",
       "      <td>2019-09-01</td>\n",
       "      <td>2019-01-09</td>\n",
       "      <td>2019-09-01</td>\n",
       "    </tr>\n",
       "    <tr>\n",
       "      <th>9</th>\n",
       "      <td>01/10/2019</td>\n",
       "      <td>1.18</td>\n",
       "      <td>0.000</td>\n",
       "      <td>Moscow</td>\n",
       "      <td>2019-10-01</td>\n",
       "      <td>2019-01-10</td>\n",
       "      <td>2019-10-01</td>\n",
       "    </tr>\n",
       "    <tr>\n",
       "      <th>10</th>\n",
       "      <td>01/11/2019</td>\n",
       "      <td>1.17</td>\n",
       "      <td>-0.010</td>\n",
       "      <td>Rome</td>\n",
       "      <td>2019-11-01</td>\n",
       "      <td>2019-01-11</td>\n",
       "      <td>2019-11-01</td>\n",
       "    </tr>\n",
       "    <tr>\n",
       "      <th>11</th>\n",
       "      <td>01/12/2019</td>\n",
       "      <td>1.23</td>\n",
       "      <td>0.020</td>\n",
       "      <td>Madrid</td>\n",
       "      <td>2019-12-01</td>\n",
       "      <td>2019-01-12</td>\n",
       "      <td>2019-12-01</td>\n",
       "    </tr>\n",
       "  </tbody>\n",
       "</table>\n",
       "</div>"
      ],
      "text/plain": [
       "         month  profit    MoM       high      date1      date2      date3\n",
       "0   01/01/2019    1.20  0.030      Dubai 2019-01-01 2019-01-01 2019-01-01\n",
       "1   01/02/2019    1.30 -0.020      Paris 2019-02-01 2019-01-02 2019-02-01\n",
       "2   01/03/2019    1.25  0.020  Singapour 2019-03-01 2019-01-03 2019-03-01\n",
       "3   01/04/2019    1.27 -0.010     Moscow 2019-04-01 2019-01-04 2019-04-01\n",
       "4   01/05/2019    1.13 -0.015      Paris 2019-05-01 2019-01-05 2019-05-01\n",
       "5   01/06/2019    1.23  0.017     Madrid 2019-06-01 2019-01-06 2019-06-01\n",
       "6   01/07/2019    1.20  0.035     Moscow 2019-07-01 2019-01-07 2019-07-01\n",
       "7   01/08/2019    1.31  0.020     London 2019-08-01 2019-01-08 2019-08-01\n",
       "8   01/09/2019    1.24  0.010     London 2019-09-01 2019-01-09 2019-09-01\n",
       "9   01/10/2019    1.18  0.000     Moscow 2019-10-01 2019-01-10 2019-10-01\n",
       "10  01/11/2019    1.17 -0.010       Rome 2019-11-01 2019-01-11 2019-11-01\n",
       "11  01/12/2019    1.23  0.020     Madrid 2019-12-01 2019-01-12 2019-12-01"
      ]
     },
     "execution_count": 25,
     "metadata": {},
     "output_type": "execute_result"
    }
   ],
   "source": [
    "# исправить неточность с месяцем можно с помощью параметра dayfirst = True\n",
    "financials['date3'] = pd.to_datetime(financials['month'],\n",
    "                                     dayfirst = True)\n",
    "financials"
   ]
  },
  {
   "cell_type": "code",
   "execution_count": 26,
   "metadata": {
    "colab": {
     "base_uri": "https://localhost:8080/",
     "height": 303
    },
    "id": "lfXKxD4KX6aV",
    "outputId": "519bdfce-0c98-4694-8e35-a8c4346d8936"
   },
   "outputs": [
    {
     "data": {
      "text/plain": [
       "month             object\n",
       "profit           float64\n",
       "MoM              float64\n",
       "high              object\n",
       "date1     datetime64[ns]\n",
       "date2     datetime64[ns]\n",
       "date3     datetime64[ns]\n",
       "dtype: object"
      ]
     },
     "execution_count": 26,
     "metadata": {},
     "output_type": "execute_result"
    }
   ],
   "source": [
    "# убедимся, что столбцы с датами имеют тип данных datetime\n",
    "financials.dtypes"
   ]
  },
  {
   "cell_type": "code",
   "execution_count": 27,
   "metadata": {
    "colab": {
     "base_uri": "https://localhost:8080/",
     "height": 457
    },
    "id": "JWvu6KPIpJhv",
    "outputId": "284e226f-5418-4c5d-ffb6-e654757136b0"
   },
   "outputs": [
    {
     "data": {
      "text/html": [
       "<div>\n",
       "<style scoped>\n",
       "    .dataframe tbody tr th:only-of-type {\n",
       "        vertical-align: middle;\n",
       "    }\n",
       "\n",
       "    .dataframe tbody tr th {\n",
       "        vertical-align: top;\n",
       "    }\n",
       "\n",
       "    .dataframe thead th {\n",
       "        text-align: right;\n",
       "    }\n",
       "</style>\n",
       "<table border=\"1\" class=\"dataframe\">\n",
       "  <thead>\n",
       "    <tr style=\"text-align: right;\">\n",
       "      <th></th>\n",
       "      <th>profit</th>\n",
       "      <th>MoM</th>\n",
       "      <th>high</th>\n",
       "    </tr>\n",
       "    <tr>\n",
       "      <th>month</th>\n",
       "      <th></th>\n",
       "      <th></th>\n",
       "      <th></th>\n",
       "    </tr>\n",
       "  </thead>\n",
       "  <tbody>\n",
       "    <tr>\n",
       "      <th>2019-01-01</th>\n",
       "      <td>1.20</td>\n",
       "      <td>0.030</td>\n",
       "      <td>Dubai</td>\n",
       "    </tr>\n",
       "    <tr>\n",
       "      <th>2019-02-01</th>\n",
       "      <td>1.30</td>\n",
       "      <td>-0.020</td>\n",
       "      <td>Paris</td>\n",
       "    </tr>\n",
       "    <tr>\n",
       "      <th>2019-03-01</th>\n",
       "      <td>1.25</td>\n",
       "      <td>0.020</td>\n",
       "      <td>Singapour</td>\n",
       "    </tr>\n",
       "    <tr>\n",
       "      <th>2019-04-01</th>\n",
       "      <td>1.27</td>\n",
       "      <td>-0.010</td>\n",
       "      <td>Moscow</td>\n",
       "    </tr>\n",
       "    <tr>\n",
       "      <th>2019-05-01</th>\n",
       "      <td>1.13</td>\n",
       "      <td>-0.015</td>\n",
       "      <td>Paris</td>\n",
       "    </tr>\n",
       "    <tr>\n",
       "      <th>2019-06-01</th>\n",
       "      <td>1.23</td>\n",
       "      <td>0.017</td>\n",
       "      <td>Madrid</td>\n",
       "    </tr>\n",
       "    <tr>\n",
       "      <th>2019-07-01</th>\n",
       "      <td>1.20</td>\n",
       "      <td>0.035</td>\n",
       "      <td>Moscow</td>\n",
       "    </tr>\n",
       "    <tr>\n",
       "      <th>2019-08-01</th>\n",
       "      <td>1.31</td>\n",
       "      <td>0.020</td>\n",
       "      <td>London</td>\n",
       "    </tr>\n",
       "    <tr>\n",
       "      <th>2019-09-01</th>\n",
       "      <td>1.24</td>\n",
       "      <td>0.010</td>\n",
       "      <td>London</td>\n",
       "    </tr>\n",
       "    <tr>\n",
       "      <th>2019-10-01</th>\n",
       "      <td>1.18</td>\n",
       "      <td>0.000</td>\n",
       "      <td>Moscow</td>\n",
       "    </tr>\n",
       "    <tr>\n",
       "      <th>2019-11-01</th>\n",
       "      <td>1.17</td>\n",
       "      <td>-0.010</td>\n",
       "      <td>Rome</td>\n",
       "    </tr>\n",
       "    <tr>\n",
       "      <th>2019-12-01</th>\n",
       "      <td>1.23</td>\n",
       "      <td>0.020</td>\n",
       "      <td>Madrid</td>\n",
       "    </tr>\n",
       "  </tbody>\n",
       "</table>\n",
       "</div>"
      ],
      "text/plain": [
       "            profit    MoM       high\n",
       "month                               \n",
       "2019-01-01    1.20  0.030      Dubai\n",
       "2019-02-01    1.30 -0.020      Paris\n",
       "2019-03-01    1.25  0.020  Singapour\n",
       "2019-04-01    1.27 -0.010     Moscow\n",
       "2019-05-01    1.13 -0.015      Paris\n",
       "2019-06-01    1.23  0.017     Madrid\n",
       "2019-07-01    1.20  0.035     Moscow\n",
       "2019-08-01    1.31  0.020     London\n",
       "2019-09-01    1.24  0.010     London\n",
       "2019-10-01    1.18  0.000     Moscow\n",
       "2019-11-01    1.17 -0.010       Rome\n",
       "2019-12-01    1.23  0.020     Madrid"
      ]
     },
     "execution_count": 27,
     "metadata": {},
     "output_type": "execute_result"
    }
   ],
   "source": [
    "# удалим ненужные столбцы\n",
    "# кроме того, всегда удобно, если дата представляет собой индекс\n",
    "financials.set_index('date3', drop = True, inplace = True) # drop = True удаляет столбец date3\n",
    "financials.drop(labels = ['month', 'date1', 'date2'], axis = 1, inplace = True)\n",
    "financials.index.rename('month', inplace = True)\n",
    "financials"
   ]
  },
  {
   "cell_type": "code",
   "execution_count": 28,
   "metadata": {
    "colab": {
     "base_uri": "https://localhost:8080/",
     "height": 425
    },
    "id": "7i8YFW7Un-IL",
    "outputId": "da8e9f7c-5870-4c81-aba0-caff860e9499"
   },
   "outputs": [
    {
     "data": {
      "text/html": [
       "<div>\n",
       "<style scoped>\n",
       "    .dataframe tbody tr th:only-of-type {\n",
       "        vertical-align: middle;\n",
       "    }\n",
       "\n",
       "    .dataframe tbody tr th {\n",
       "        vertical-align: top;\n",
       "    }\n",
       "\n",
       "    .dataframe thead th {\n",
       "        text-align: right;\n",
       "    }\n",
       "</style>\n",
       "<table border=\"1\" class=\"dataframe\">\n",
       "  <thead>\n",
       "    <tr style=\"text-align: right;\">\n",
       "      <th></th>\n",
       "      <th>profit</th>\n",
       "      <th>MoM</th>\n",
       "      <th>high</th>\n",
       "    </tr>\n",
       "  </thead>\n",
       "  <tbody>\n",
       "    <tr>\n",
       "      <th>2020-01-01</th>\n",
       "      <td>1.20</td>\n",
       "      <td>0.030</td>\n",
       "      <td>Dubai</td>\n",
       "    </tr>\n",
       "    <tr>\n",
       "      <th>2020-02-01</th>\n",
       "      <td>1.30</td>\n",
       "      <td>-0.020</td>\n",
       "      <td>Paris</td>\n",
       "    </tr>\n",
       "    <tr>\n",
       "      <th>2020-03-01</th>\n",
       "      <td>1.25</td>\n",
       "      <td>0.020</td>\n",
       "      <td>Singapour</td>\n",
       "    </tr>\n",
       "    <tr>\n",
       "      <th>2020-04-01</th>\n",
       "      <td>1.27</td>\n",
       "      <td>-0.010</td>\n",
       "      <td>Moscow</td>\n",
       "    </tr>\n",
       "    <tr>\n",
       "      <th>2020-05-01</th>\n",
       "      <td>1.13</td>\n",
       "      <td>-0.015</td>\n",
       "      <td>Paris</td>\n",
       "    </tr>\n",
       "    <tr>\n",
       "      <th>2020-06-01</th>\n",
       "      <td>1.23</td>\n",
       "      <td>0.017</td>\n",
       "      <td>Madrid</td>\n",
       "    </tr>\n",
       "    <tr>\n",
       "      <th>2020-07-01</th>\n",
       "      <td>1.20</td>\n",
       "      <td>0.035</td>\n",
       "      <td>Moscow</td>\n",
       "    </tr>\n",
       "    <tr>\n",
       "      <th>2020-08-01</th>\n",
       "      <td>1.31</td>\n",
       "      <td>0.020</td>\n",
       "      <td>London</td>\n",
       "    </tr>\n",
       "    <tr>\n",
       "      <th>2020-09-01</th>\n",
       "      <td>1.24</td>\n",
       "      <td>0.010</td>\n",
       "      <td>London</td>\n",
       "    </tr>\n",
       "    <tr>\n",
       "      <th>2020-10-01</th>\n",
       "      <td>1.18</td>\n",
       "      <td>0.000</td>\n",
       "      <td>Moscow</td>\n",
       "    </tr>\n",
       "    <tr>\n",
       "      <th>2020-11-01</th>\n",
       "      <td>1.17</td>\n",
       "      <td>-0.010</td>\n",
       "      <td>Rome</td>\n",
       "    </tr>\n",
       "    <tr>\n",
       "      <th>2020-12-01</th>\n",
       "      <td>1.23</td>\n",
       "      <td>0.020</td>\n",
       "      <td>Madrid</td>\n",
       "    </tr>\n",
       "  </tbody>\n",
       "</table>\n",
       "</div>"
      ],
      "text/plain": [
       "            profit    MoM       high\n",
       "2020-01-01    1.20  0.030      Dubai\n",
       "2020-02-01    1.30 -0.020      Paris\n",
       "2020-03-01    1.25  0.020  Singapour\n",
       "2020-04-01    1.27 -0.010     Moscow\n",
       "2020-05-01    1.13 -0.015      Paris\n",
       "2020-06-01    1.23  0.017     Madrid\n",
       "2020-07-01    1.20  0.035     Moscow\n",
       "2020-08-01    1.31  0.020     London\n",
       "2020-09-01    1.24  0.010     London\n",
       "2020-10-01    1.18  0.000     Moscow\n",
       "2020-11-01    1.17 -0.010       Rome\n",
       "2020-12-01    1.23  0.020     Madrid"
      ]
     },
     "execution_count": 28,
     "metadata": {},
     "output_type": "execute_result"
    }
   ],
   "source": [
    "# создадим последовательность из 12 месяцев,\n",
    "# передав начальный период (start), общее количество периодов (periods)\n",
    "# и день начала каждого периода (MS, т.е. month start)\n",
    "range = pd.date_range(start = '1/1/2020', periods = 12, freq = 'MS')\n",
    "\n",
    "# сделаем эту последовательность индексом датафрейма\n",
    "financials.index = range\n",
    "financials"
   ]
  },
  {
   "cell_type": "code",
   "execution_count": 29,
   "metadata": {
    "colab": {
     "base_uri": "https://localhost:8080/",
     "height": 237
    },
    "id": "XOw2EaT0vsnj",
    "outputId": "79ef5e25-1f22-41d7-d282-db2162722731"
   },
   "outputs": [
    {
     "data": {
      "text/html": [
       "<div>\n",
       "<style scoped>\n",
       "    .dataframe tbody tr th:only-of-type {\n",
       "        vertical-align: middle;\n",
       "    }\n",
       "\n",
       "    .dataframe tbody tr th {\n",
       "        vertical-align: top;\n",
       "    }\n",
       "\n",
       "    .dataframe thead th {\n",
       "        text-align: right;\n",
       "    }\n",
       "</style>\n",
       "<table border=\"1\" class=\"dataframe\">\n",
       "  <thead>\n",
       "    <tr style=\"text-align: right;\">\n",
       "      <th></th>\n",
       "      <th>profit</th>\n",
       "      <th>MoM</th>\n",
       "      <th>high</th>\n",
       "    </tr>\n",
       "  </thead>\n",
       "  <tbody>\n",
       "    <tr>\n",
       "      <th>2020-01-01</th>\n",
       "      <td>1.20</td>\n",
       "      <td>0.030</td>\n",
       "      <td>Dubai</td>\n",
       "    </tr>\n",
       "    <tr>\n",
       "      <th>2020-02-01</th>\n",
       "      <td>1.30</td>\n",
       "      <td>-0.020</td>\n",
       "      <td>Paris</td>\n",
       "    </tr>\n",
       "    <tr>\n",
       "      <th>2020-03-01</th>\n",
       "      <td>1.25</td>\n",
       "      <td>0.020</td>\n",
       "      <td>Singapour</td>\n",
       "    </tr>\n",
       "    <tr>\n",
       "      <th>2020-04-01</th>\n",
       "      <td>1.27</td>\n",
       "      <td>-0.010</td>\n",
       "      <td>Moscow</td>\n",
       "    </tr>\n",
       "    <tr>\n",
       "      <th>2020-05-01</th>\n",
       "      <td>1.13</td>\n",
       "      <td>-0.015</td>\n",
       "      <td>Paris</td>\n",
       "    </tr>\n",
       "    <tr>\n",
       "      <th>2020-06-01</th>\n",
       "      <td>1.23</td>\n",
       "      <td>0.017</td>\n",
       "      <td>Madrid</td>\n",
       "    </tr>\n",
       "  </tbody>\n",
       "</table>\n",
       "</div>"
      ],
      "text/plain": [
       "            profit    MoM       high\n",
       "2020-01-01    1.20  0.030      Dubai\n",
       "2020-02-01    1.30 -0.020      Paris\n",
       "2020-03-01    1.25  0.020  Singapour\n",
       "2020-04-01    1.27 -0.010     Moscow\n",
       "2020-05-01    1.13 -0.015      Paris\n",
       "2020-06-01    1.23  0.017     Madrid"
      ]
     },
     "execution_count": 29,
     "metadata": {},
     "output_type": "execute_result"
    }
   ],
   "source": [
    "# напоминаю, что для datetime конечная дата входит в срез\n",
    "financials['2020-01': '2020-06']"
   ]
  },
  {
   "cell_type": "code",
   "execution_count": 30,
   "metadata": {
    "colab": {
     "base_uri": "https://localhost:8080/",
     "height": 425
    },
    "id": "nlMCa8n4-I5m",
    "outputId": "ae110e0c-db4c-453c-a9dc-f982317d6f1a"
   },
   "outputs": [
    {
     "data": {
      "text/html": [
       "<div>\n",
       "<style scoped>\n",
       "    .dataframe tbody tr th:only-of-type {\n",
       "        vertical-align: middle;\n",
       "    }\n",
       "\n",
       "    .dataframe tbody tr th {\n",
       "        vertical-align: top;\n",
       "    }\n",
       "\n",
       "    .dataframe thead th {\n",
       "        text-align: right;\n",
       "    }\n",
       "</style>\n",
       "<table border=\"1\" class=\"dataframe\">\n",
       "  <thead>\n",
       "    <tr style=\"text-align: right;\">\n",
       "      <th></th>\n",
       "      <th>profit</th>\n",
       "      <th>MoM</th>\n",
       "      <th>high</th>\n",
       "    </tr>\n",
       "  </thead>\n",
       "  <tbody>\n",
       "    <tr>\n",
       "      <th>January</th>\n",
       "      <td>1.20</td>\n",
       "      <td>0.030</td>\n",
       "      <td>Dubai</td>\n",
       "    </tr>\n",
       "    <tr>\n",
       "      <th>February</th>\n",
       "      <td>1.30</td>\n",
       "      <td>-0.020</td>\n",
       "      <td>Paris</td>\n",
       "    </tr>\n",
       "    <tr>\n",
       "      <th>March</th>\n",
       "      <td>1.25</td>\n",
       "      <td>0.020</td>\n",
       "      <td>Singapour</td>\n",
       "    </tr>\n",
       "    <tr>\n",
       "      <th>April</th>\n",
       "      <td>1.27</td>\n",
       "      <td>-0.010</td>\n",
       "      <td>Moscow</td>\n",
       "    </tr>\n",
       "    <tr>\n",
       "      <th>May</th>\n",
       "      <td>1.13</td>\n",
       "      <td>-0.015</td>\n",
       "      <td>Paris</td>\n",
       "    </tr>\n",
       "    <tr>\n",
       "      <th>June</th>\n",
       "      <td>1.23</td>\n",
       "      <td>0.017</td>\n",
       "      <td>Madrid</td>\n",
       "    </tr>\n",
       "    <tr>\n",
       "      <th>July</th>\n",
       "      <td>1.20</td>\n",
       "      <td>0.035</td>\n",
       "      <td>Moscow</td>\n",
       "    </tr>\n",
       "    <tr>\n",
       "      <th>August</th>\n",
       "      <td>1.31</td>\n",
       "      <td>0.020</td>\n",
       "      <td>London</td>\n",
       "    </tr>\n",
       "    <tr>\n",
       "      <th>September</th>\n",
       "      <td>1.24</td>\n",
       "      <td>0.010</td>\n",
       "      <td>London</td>\n",
       "    </tr>\n",
       "    <tr>\n",
       "      <th>October</th>\n",
       "      <td>1.18</td>\n",
       "      <td>0.000</td>\n",
       "      <td>Moscow</td>\n",
       "    </tr>\n",
       "    <tr>\n",
       "      <th>November</th>\n",
       "      <td>1.17</td>\n",
       "      <td>-0.010</td>\n",
       "      <td>Rome</td>\n",
       "    </tr>\n",
       "    <tr>\n",
       "      <th>December</th>\n",
       "      <td>1.23</td>\n",
       "      <td>0.020</td>\n",
       "      <td>Madrid</td>\n",
       "    </tr>\n",
       "  </tbody>\n",
       "</table>\n",
       "</div>"
      ],
      "text/plain": [
       "           profit    MoM       high\n",
       "January      1.20  0.030      Dubai\n",
       "February     1.30 -0.020      Paris\n",
       "March        1.25  0.020  Singapour\n",
       "April        1.27 -0.010     Moscow\n",
       "May          1.13 -0.015      Paris\n",
       "June         1.23  0.017     Madrid\n",
       "July         1.20  0.035     Moscow\n",
       "August       1.31  0.020     London\n",
       "September    1.24  0.010     London\n",
       "October      1.18  0.000     Moscow\n",
       "November     1.17 -0.010       Rome\n",
       "December     1.23  0.020     Madrid"
      ]
     },
     "execution_count": 30,
     "metadata": {},
     "output_type": "execute_result"
    }
   ],
   "source": [
    "# изменим формат индекса для создания визуализации\n",
    "# будем выводить только месяцы (%B), так как все показатели у нас за 2020 год\n",
    "financials.index = financials.index.strftime('%B')\n",
    "financials"
   ]
  },
  {
   "cell_type": "code",
   "execution_count": 31,
   "metadata": {
    "colab": {
     "base_uri": "https://localhost:8080/",
     "height": 428
    },
    "id": "lftpoAqvryUp",
    "outputId": "56253390-0edd-451d-820c-ac5adc09ae86"
   },
   "outputs": [
    {
     "data": {
      "image/png": "[encoded data removed]",
      "text/plain": [
       "<Figure size 1600x600 with 2 Axes>"
      ]
     },
     "metadata": {},
     "output_type": "display_data"
    }
   ],
   "source": [
    "# построим графики для размера прибыли и изменения выручки за месяц\n",
    "financials[['profit', 'MoM']].plot(subplots = True,       # обозначим, что хотим несколько подграфиков\n",
    "                                   layout = (1,2),        # зададим сетку\n",
    "                                   kind = 'bar',          # укажем тип диаграммы\n",
    "                                   rot = 65,              # повернем деления шкалы оси x\n",
    "                                   grid = True,           # добавим сетку\n",
    "                                   figsize = (16, 6),     # укажем размер figure\n",
    "                                   legend = False,        # уберем легенду\n",
    "                                   title = ['Profit 2020', 'MoM Revenue Change 2020']); # добавим заголовки"
   ]
  },
  {
   "cell_type": "code",
   "execution_count": null,
   "metadata": {
    "id": "gddgzRHV_IXz"
   },
   "outputs": [],
   "source": []
  }
 ],
 "metadata": {
  "colab": {
   "provenance": []
  },
  "kernelspec": {
   "display_name": "Python 3",
   "language": "python",
   "name": "python3"
  },
  "language_info": {
   "codemirror_mode": {
    "name": "ipython",
    "version": 3
   },
   "file_extension": ".py",
   "mimetype": "text/x-python",
   "name": "python",
   "nbconvert_exporter": "python",
   "pygments_lexer": "ipython3",
   "version": "3.10.11"
  }
 },
 "nbformat": 4,
 "nbformat_minor": 0
}
