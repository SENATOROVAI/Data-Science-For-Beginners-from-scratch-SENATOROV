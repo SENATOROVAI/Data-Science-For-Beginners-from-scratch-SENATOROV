{
 "cells": [
  {
   "cell_type": "code",
   "execution_count": null,
   "id": "51e0fb4b",
   "metadata": {},
   "outputs": [],
   "source": [
    "\"\"\"Probability Space.\"\"\""
   ]
  },
  {
   "cell_type": "code",
   "execution_count": null,
   "id": "16b35e55",
   "metadata": {},
   "outputs": [],
   "source": [
    "# 1\n",
    "\n",
    "import math\n",
    "import sys\n",
    "\n",
    "data: list[str] = sys.stdin.readlines()\n",
    "n_val: int\n",
    "k_val: int\n",
    "n_val, k_val = map(int, data[0].split())\n",
    "p_val: float = float(data[1].strip())\n",
    "\n",
    "\n",
    "def binomial_probability(n_v: int, k_v: int, p_v: float) -> float:\n",
    "    \"\"\"Calculate the binomial probability for given n, k and p values.\"\"\"\n",
    "    combination_counts = math.factorial(n_v) / (\n",
    "        math.factorial(k_v) * math.factorial(n_v - k_v)\n",
    "    )\n",
    "    return combination_counts * (p_v**k_v) * ((1 - p_v) ** (n_v - k_v))\n",
    "\n",
    "\n",
    "result: float = 0.0\n",
    "for num in range(k_val, n_val + 1):\n",
    "    result += binomial_probability(n_val, num, p_val)\n",
    "\n",
    "print(result)"
   ]
  },
  {
   "cell_type": "code",
   "execution_count": null,
   "id": "fe4d6ae4",
   "metadata": {},
   "outputs": [],
   "source": [
    "# 2"
   ]
  }
 ],
 "metadata": {
  "language_info": {
   "name": "python"
  }
 },
 "nbformat": 4,
 "nbformat_minor": 5
}
