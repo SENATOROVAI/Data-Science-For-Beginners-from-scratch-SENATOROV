{
 "cells": [
  {
   "cell_type": "code",
   "execution_count": null,
   "id": "51e0fb4b",
   "metadata": {},
   "outputs": [],
   "source": [
    "\"\"\"Probability Space.\"\"\""
   ]
  },
  {
   "cell_type": "code",
   "execution_count": null,
   "id": "16b35e55",
   "metadata": {},
   "outputs": [],
   "source": [
    "# 1\n",
    "\n",
    "import math\n",
    "import sys\n",
    "from itertools import combinations\n",
    "from math import comb\n",
    "\n",
    "data: list[str] = sys.stdin.readlines()\n",
    "n_val: int\n",
    "k_val: int\n",
    "n_val, k_val = map(int, data[0].split())\n",
    "p_val: float = float(data[1].strip())\n",
    "\n",
    "\n",
    "def binomial_probability(n_v: int, k_v: int, p_v: float) -> float:\n",
    "    \"\"\"Calculate the binomial probability for given n, k and p values.\"\"\"\n",
    "    combination_counts = math.factorial(n_v) / (\n",
    "        math.factorial(k_v) * math.factorial(n_v - k_v)\n",
    "    )\n",
    "    return combination_counts * (p_v**k_v) * ((1 - p_v) ** (n_v - k_v))\n",
    "\n",
    "\n",
    "result_prob: float = 0.0\n",
    "for num in range(k_val, n_val + 1):\n",
    "    result_prob += binomial_probability(n_val, num, p_val)\n",
    "\n",
    "print(result_prob)"
   ]
  },
  {
   "cell_type": "code",
   "execution_count": null,
   "id": "fe4d6ae4",
   "metadata": {},
   "outputs": [],
   "source": [
    "# 2\n",
    "\n",
    "C_val, D_val = map(float, sys.stdin.read().split())\n",
    "\n",
    "if D_val <= 0:\n",
    "    result = 0.0\n",
    "elif D_val >= 2 * C_val:\n",
    "    result = 1.0\n",
    "elif D_val <= C_val:\n",
    "    result = (D_val**2) / (2 * C_val * C_val)\n",
    "else:\n",
    "    result = 1 - ((2 * C_val - D_val) ** 2) / (2 * C_val * C_val)\n",
    "\n",
    "print(result)"
   ]
  },
  {
   "cell_type": "code",
   "execution_count": null,
   "id": "c5f11176",
   "metadata": {},
   "outputs": [
    {
     "name": "stdout",
     "output_type": "stream",
     "text": [
      "0.5333333333333333 0.09166666666666666\n"
     ]
    }
   ],
   "source": [
    "# 3\n",
    "\n",
    "R_val, G_val, B_val = map(int, input().split(\" \"))\n",
    "values = list(combinations([\"R\"] * R_val + [\"G\"] * G_val + [\"B\"] * B_val, 3))\n",
    "green_one_val_count = 0\n",
    "one_color_val_count = 0\n",
    "\n",
    "for comb_val in values:\n",
    "    if \"G\" in comb_val:\n",
    "        green_one_val_count += 1\n",
    "    if len(set(comb_val)) == 1:\n",
    "        one_color_val_count += 1\n",
    "\n",
    "print(green_one_val_count / len(values), one_color_val_count / len(values))"
   ]
  },
  {
   "cell_type": "code",
   "execution_count": null,
   "id": "31c87196",
   "metadata": {},
   "outputs": [],
   "source": [
    "# 4\n",
    "\n",
    "input_str = input().split()\n",
    "num_flips: int = int(input_str[0])\n",
    "fairness_threshold: float = float(input_str[1])\n",
    "\n",
    "flip_results = list(map(int, input().split()))\n",
    "num_heads = sum(flip_results)\n",
    "\n",
    "binomial_probabilities = [\n",
    "    comb(num_flips, k) * (0.5**num_flips) for k in range(num_flips + 1)\n",
    "]\n",
    "\n",
    "best_margin = 0\n",
    "for margin in range(num_flips // 2 + 1):\n",
    "    probability_within_margin = sum(\n",
    "        binomial_probabilities[margin : num_flips - margin + 1]\n",
    "    )\n",
    "    if probability_within_margin >= fairness_threshold:\n",
    "        best_margin = margin\n",
    "\n",
    "min_heads = best_margin\n",
    "max_heads = num_flips - best_margin\n",
    "\n",
    "print(min_heads, max_heads)\n",
    "if min_heads <= num_heads <= max_heads:\n",
    "    print(\"fair\")\n",
    "else:\n",
    "    print(\"biased\")"
   ]
  }
 ],
 "metadata": {
  "kernelspec": {
   "display_name": "myenv",
   "language": "python",
   "name": "python3"
  },
  "language_info": {
   "codemirror_mode": {
    "name": "ipython",
    "version": 3
   },
   "file_extension": ".py",
   "mimetype": "text/x-python",
   "name": "python",
   "nbconvert_exporter": "python",
   "pygments_lexer": "ipython3",
   "version": "3.10.16"
  }
 },
 "nbformat": 4,
 "nbformat_minor": 5
}
