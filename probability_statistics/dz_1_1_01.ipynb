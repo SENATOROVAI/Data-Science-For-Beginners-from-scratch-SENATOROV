{
 "cells": [
  {
   "cell_type": "code",
   "execution_count": null,
   "id": "e758725c",
   "metadata": {},
   "outputs": [],
   "source": [
    "\"\"\"ДЗ 1. Блок 1. Введение в теорию вероятностей. 0.1 курс на Stepik. Метод МонтеКарло.\"\"\""
   ]
  },
  {
   "cell_type": "code",
   "execution_count": null,
   "id": "abd3cdb4",
   "metadata": {},
   "outputs": [],
   "source": [
    "# pylint: disable=unused-import\n",
    "\n",
    "# импортируем необходимые библиотеки\n",
    "import itertools\n",
    "import math\n",
    "\n",
    "# доп import чтоб линтеры проходили\n",
    "from typing import List, Optional, Tuple, Union\n",
    "\n",
    "import matplotlib.pyplot as plt\n",
    "\n",
    "# Эксперименты\n",
    "# теперь с помощью модуля random\n",
    "import numpy as np\n",
    "import pandas as pd\n",
    "\n",
    "# с помощью библиотеки scipy\n",
    "from scipy.stats import binom\n",
    "\n",
    "# импортируем данные о пациентах с диабетом\n",
    "from sklearn.datasets import load_diabetes\n",
    "\n",
    "# объявим функцию, которая принимает признаки X и целевую переменную y в формате\n",
    "# массива Numpy или датафрейма\n",
    "# дополнительно пропишем размер тестовой выборки с параметром по умолчанию 0,3\n",
    "# и возможностью задать точку отсчета"
   ]
  },
  {
   "cell_type": "markdown",
   "id": "ba93eae6",
   "metadata": {},
   "source": [
    "1. Комбинаторика в Питоне\n",
    "\n",
    "np.random.shuffle() и np.random.permutation()"
   ]
  },
  {
   "cell_type": "code",
   "execution_count": 12,
   "id": "4913e056",
   "metadata": {},
   "outputs": [
    {
     "name": "stdout",
     "output_type": "stream",
     "text": [
      "None [3 4 2 1 5]\n"
     ]
    }
   ],
   "source": [
    "# создадим массив и передадим его в функцию np.random.shuffle()\n",
    "arr = np.array([1, 2, 3, 4, 5])\n",
    "\n",
    "# сама функция выдала None, исходный массив при этом изменился\n",
    "print(np.random.shuffle(arr), arr)"
   ]
  },
  {
   "cell_type": "code",
   "execution_count": 17,
   "id": "f4df15f3",
   "metadata": {},
   "outputs": [
    {
     "name": "stdout",
     "output_type": "stream",
     "text": [
      "[3 4 2 1 5], [1 2 3 4 5]\n"
     ]
    }
   ],
   "source": [
    "# еще раз создадим массив\n",
    "arr = np.array([1, 2, 3, 4, 5])\n",
    "\n",
    "# передав его в np.random.permutation(),\n",
    "# мы получим перемешанную копию и исходный массив без изменений\n",
    "# np.random.permutation(arr), arr\n",
    "print(f\"{np.random.permutation(arr)}, {arr}\")"
   ]
  },
  {
   "cell_type": "code",
   "execution_count": null,
   "id": "dc912bc3",
   "metadata": {},
   "outputs": [],
   "source": [
    "# pylint: disable=unsubscriptable-object\n",
    "\n",
    "\n",
    "def split_data(\n",
    "    x_in: Union[np.ndarray[Tuple[int, ...], np.dtype[np.float64]], pd.DataFrame],\n",
    "    y_in: Union[np.ndarray[Tuple[int, ...], np.dtype[np.float64]], pd.DataFrame],\n",
    "    test_size: float = 0.3,\n",
    "    random_state: Optional[int] = None,\n",
    ") -> Tuple[\n",
    "    pd.DataFrame,\n",
    "    pd.DataFrame,\n",
    "    pd.DataFrame,\n",
    "    pd.DataFrame,\n",
    "]:\n",
    "    \"\"\"\n",
    "    Split data into train and test subsets.\n",
    "\n",
    "    Assume x, y have the same sample num\n",
    "    \"\"\"\n",
    "    # проверим, является ли X массивом Numpy с помощью функции isinstance()\n",
    "    if isinstance(x_in, np.ndarray):\n",
    "        # если да, превратим в датафрейм\n",
    "        x_in = pd.DataFrame(x_in)\n",
    "    # сделаем то же самое для y\n",
    "    if isinstance(y_in, np.ndarray):\n",
    "        y_in = pd.DataFrame(y_in)\n",
    "\n",
    "    # еще один способ выполнить такую проверку\n",
    "    # if type(X). __module__ == np. __name__:\n",
    "    #   X = pd.DataFrame(X)\n",
    "    # if type(y). __module__ == np. __name__:\n",
    "    #   y = pd.DataFrame(y)\n",
    "\n",
    "    # установим точку отсчета\n",
    "    np.random.seed(random_state)\n",
    "\n",
    "    # перемешаем индексы строк датасета X, не изменяя исходный массив\n",
    "    indices = np.random.permutation(len(x_in))\n",
    "\n",
    "    # определим количество строк, которые войдут в тестовую выборку\n",
    "    # для этого умножим количество строк в X на долю тестовой выборки\n",
    "    data_test_size = int(x_in.shape[0] * test_size)\n",
    "\n",
    "    # начиная с этого количества (границы), будет обучающая выборка\n",
    "    train_indices = indices[data_test_size:]\n",
    "    # перед ним, тестовая\n",
    "    test_indices = indices[:data_test_size]\n",
    "\n",
    "    # с помощью метода .iloc() найдем в X все строки,\n",
    "    # соответствующие индексам в переменных train_indices и test_indices\n",
    "    x_train_out = x_in.iloc[train_indices]\n",
    "    x_test_out = x_in.iloc[test_indices]\n",
    "\n",
    "    # сделаем то же самое для y\n",
    "    y_train_out = y_in.iloc[train_indices]\n",
    "    y_test_out = y_in.iloc[test_indices]\n",
    "\n",
    "    # выведем выборки в том порядке, в котором они выводятся в sklearn\n",
    "    return x_train_out, x_test_out, y_train_out, y_test_out"
   ]
  },
  {
   "cell_type": "code",
   "execution_count": 8,
   "id": "074ac7b5",
   "metadata": {},
   "outputs": [],
   "source": [
    "# помещаем их в переменную data\n",
    "data = load_diabetes()\n",
    "\n",
    "# создаем два датафрейма\n",
    "x_data = pd.DataFrame(data.data, columns=data.feature_names)\n",
    "y_data = pd.DataFrame(data.target, columns=[\"target\"])\n",
    "\n",
    "# для проверки работы функции можно также создать массивы Numpy\n",
    "# X = data.data\n",
    "# y = data.target"
   ]
  },
  {
   "cell_type": "code",
   "execution_count": 9,
   "id": "cb3515a0",
   "metadata": {},
   "outputs": [],
   "source": [
    "# вызовем функцию split_data()\n",
    "x_train, x_test, y_train, y_test = split_data(x_data, y_data, random_state=42)"
   ]
  },
  {
   "cell_type": "code",
   "execution_count": 10,
   "id": "6d1dd81a",
   "metadata": {},
   "outputs": [
    {
     "data": {
      "text/html": [
       "<div>\n",
       "<style scoped>\n",
       "    .dataframe tbody tr th:only-of-type {\n",
       "        vertical-align: middle;\n",
       "    }\n",
       "\n",
       "    .dataframe tbody tr th {\n",
       "        vertical-align: top;\n",
       "    }\n",
       "\n",
       "    .dataframe thead th {\n",
       "        text-align: right;\n",
       "    }\n",
       "</style>\n",
       "<table border=\"1\" class=\"dataframe\">\n",
       "  <thead>\n",
       "    <tr style=\"text-align: right;\">\n",
       "      <th></th>\n",
       "      <th>age</th>\n",
       "      <th>sex</th>\n",
       "      <th>bmi</th>\n",
       "      <th>bp</th>\n",
       "      <th>s1</th>\n",
       "      <th>s2</th>\n",
       "      <th>s3</th>\n",
       "      <th>s4</th>\n",
       "      <th>s5</th>\n",
       "      <th>s6</th>\n",
       "    </tr>\n",
       "  </thead>\n",
       "  <tbody>\n",
       "    <tr>\n",
       "      <th>108</th>\n",
       "      <td>0.019913</td>\n",
       "      <td>0.050680</td>\n",
       "      <td>0.045529</td>\n",
       "      <td>0.029894</td>\n",
       "      <td>-0.062111</td>\n",
       "      <td>-0.055802</td>\n",
       "      <td>-0.072854</td>\n",
       "      <td>0.026929</td>\n",
       "      <td>0.045604</td>\n",
       "      <td>0.040343</td>\n",
       "    </tr>\n",
       "    <tr>\n",
       "      <th>225</th>\n",
       "      <td>0.030811</td>\n",
       "      <td>0.050680</td>\n",
       "      <td>0.032595</td>\n",
       "      <td>0.049415</td>\n",
       "      <td>-0.040096</td>\n",
       "      <td>-0.043589</td>\n",
       "      <td>-0.069172</td>\n",
       "      <td>0.034309</td>\n",
       "      <td>0.063015</td>\n",
       "      <td>0.003064</td>\n",
       "    </tr>\n",
       "    <tr>\n",
       "      <th>412</th>\n",
       "      <td>0.074401</td>\n",
       "      <td>-0.044642</td>\n",
       "      <td>0.085408</td>\n",
       "      <td>0.063187</td>\n",
       "      <td>0.014942</td>\n",
       "      <td>0.013091</td>\n",
       "      <td>0.015505</td>\n",
       "      <td>-0.002592</td>\n",
       "      <td>0.006207</td>\n",
       "      <td>0.085907</td>\n",
       "    </tr>\n",
       "  </tbody>\n",
       "</table>\n",
       "</div>"
      ],
      "text/plain": [
       "          age       sex       bmi        bp        s1        s2        s3  \\\n",
       "108  0.019913  0.050680  0.045529  0.029894 -0.062111 -0.055802 -0.072854   \n",
       "225  0.030811  0.050680  0.032595  0.049415 -0.040096 -0.043589 -0.069172   \n",
       "412  0.074401 -0.044642  0.085408  0.063187  0.014942  0.013091  0.015505   \n",
       "\n",
       "           s4        s5        s6  \n",
       "108  0.026929  0.045604  0.040343  \n",
       "225  0.034309  0.063015  0.003064  \n",
       "412 -0.002592  0.006207  0.085907  "
      ]
     },
     "execution_count": 10,
     "metadata": {},
     "output_type": "execute_result"
    }
   ],
   "source": [
    "# посмотрим на индексы строк в переменной X_train\n",
    "x_train.head(3)"
   ]
  },
  {
   "cell_type": "code",
   "execution_count": 11,
   "id": "be1326b1",
   "metadata": {},
   "outputs": [
    {
     "data": {
      "text/html": [
       "<div>\n",
       "<style scoped>\n",
       "    .dataframe tbody tr th:only-of-type {\n",
       "        vertical-align: middle;\n",
       "    }\n",
       "\n",
       "    .dataframe tbody tr th {\n",
       "        vertical-align: top;\n",
       "    }\n",
       "\n",
       "    .dataframe thead th {\n",
       "        text-align: right;\n",
       "    }\n",
       "</style>\n",
       "<table border=\"1\" class=\"dataframe\">\n",
       "  <thead>\n",
       "    <tr style=\"text-align: right;\">\n",
       "      <th></th>\n",
       "      <th>target</th>\n",
       "    </tr>\n",
       "  </thead>\n",
       "  <tbody>\n",
       "    <tr>\n",
       "      <th>108</th>\n",
       "      <td>232.0</td>\n",
       "    </tr>\n",
       "    <tr>\n",
       "      <th>225</th>\n",
       "      <td>208.0</td>\n",
       "    </tr>\n",
       "    <tr>\n",
       "      <th>412</th>\n",
       "      <td>261.0</td>\n",
       "    </tr>\n",
       "  </tbody>\n",
       "</table>\n",
       "</div>"
      ],
      "text/plain": [
       "     target\n",
       "108   232.0\n",
       "225   208.0\n",
       "412   261.0"
      ]
     },
     "execution_count": 11,
     "metadata": {},
     "output_type": "execute_result"
    }
   ],
   "source": [
    "# теперь посмотрим на y_train\n",
    "y_train.head(3)"
   ]
  },
  {
   "cell_type": "markdown",
   "id": "228d6821",
   "metadata": {},
   "source": [
    "2. Модуль itertools\n",
    "\n",
    "Перестановки\n",
    "\n",
    "Перестановки без замены\n",
    "\n",
    "Перестановки без повторений"
   ]
  },
  {
   "cell_type": "code",
   "execution_count": 13,
   "id": "4198a4ec",
   "metadata": {},
   "outputs": [
    {
     "data": {
      "text/plain": [
       "6"
      ]
     },
     "execution_count": 13,
     "metadata": {},
     "output_type": "execute_result"
    }
   ],
   "source": [
    "# передадим функции factorial() число 3\n",
    "math.factorial(3)"
   ]
  },
  {
   "cell_type": "code",
   "execution_count": null,
   "id": "bf3d1484",
   "metadata": {},
   "outputs": [
    {
     "data": {
      "text/plain": [
       "[('A', 'B', 'C'),\n",
       " ('A', 'C', 'B'),\n",
       " ('B', 'A', 'C'),\n",
       " ('B', 'C', 'A'),\n",
       " ('C', 'A', 'B'),\n",
       " ('C', 'B', 'A')]"
      ]
     },
     "execution_count": 16,
     "metadata": {},
     "output_type": "execute_result"
    }
   ],
   "source": [
    "# создадим строку из букв A, B, C\n",
    "x_data_it = \"ABC\"\n",
    "# помимо строки можно использовать и список\n",
    "# x = ['A', 'B', 'C']\n",
    "\n",
    "# и передадим ее в функцию permutations()\n",
    "# так как функция возвращает объект itertools.permutations,\n",
    "# для вывода результата используем функцию list()\n",
    "list(itertools.permutations(x_data_it))"
   ]
  },
  {
   "cell_type": "code",
   "execution_count": null,
   "id": "5e7f7825",
   "metadata": {},
   "outputs": [],
   "source": [
    "# чтобы узнать количество перестановок, можно использовать функцию len()\n",
    "len(list(itertools.permutations(x_data_it)))"
   ]
  },
  {
   "cell_type": "code",
   "execution_count": 20,
   "id": "c07e8aca",
   "metadata": {},
   "outputs": [
    {
     "name": "stdout",
     "output_type": "stream",
     "text": [
      "[('A', 'B', 'C'), ('A', 'B', 'D'), ('A', 'B', 'E'), ('A', 'B', 'F'), ('A', 'C', 'B')]\n"
     ]
    }
   ],
   "source": [
    "# теперь элементов исходного множества шесть\n",
    "x_data_it = \"ABCDEF\"\n",
    "\n",
    "# чтобы узнать, сколькими способами их можно разместить на трех местах,\n",
    "# передадим параметр r = 3 и выведем первые пять элементов\n",
    "print(list(itertools.permutations(x_data_it, r=3))[:5])"
   ]
  },
  {
   "cell_type": "code",
   "execution_count": null,
   "id": "cd67b262",
   "metadata": {},
   "outputs": [
    {
     "data": {
      "text/plain": [
       "120"
      ]
     },
     "execution_count": 18,
     "metadata": {},
     "output_type": "execute_result"
    }
   ],
   "source": [
    "# посмотрим на общее количество таких перестановок\n",
    "len(list(itertools.permutations(x_data_it, r=3)))"
   ]
  },
  {
   "cell_type": "markdown",
   "id": "0006a9e7",
   "metadata": {},
   "source": [
    "2.2 Перестановки с повторениями"
   ]
  },
  {
   "cell_type": "code",
   "execution_count": null,
   "id": "f4c167c6",
   "metadata": {},
   "outputs": [],
   "source": [
    "# pylint: disable=unsubscriptable-object\n",
    "\n",
    "\n",
    "# объявим функцию permutations_w_repetition(), которая будет принимать два параметра\n",
    "# x - строка, список или массив Numpy\n",
    "# r - количество мест в перестановке, по умолчанию равно количеству элементов в x\n",
    "\n",
    "\n",
    "def permutations_w_repetition(\n",
    "    x_in: Union[str, List[str], np.ndarray[Tuple[int, ...], np.dtype[np.int64]]],\n",
    "    # r: int = len(x_in),\n",
    "    r_in: int,\n",
    ") -> int:\n",
    "    \"\"\"\n",
    "    Перестановки с повторением.\n",
    "\n",
    "    принимать два параметра\n",
    "    # x - строка, список или массив Numpy\n",
    "    # r - количество мест в перестановке, по умолчанию равно количеству элементов в x\n",
    "    \"\"\"\n",
    "    # если передается строка,\n",
    "    if isinstance(x_in, str):\n",
    "        # превращаем ее в список\n",
    "        x_in = list(x_in)\n",
    "\n",
    "    # в числителе рассчитаем количество перестановок без повторений\n",
    "    numerator = len(list(itertools.permutations(x_in, r=r_in)))\n",
    "\n",
    "    # для того чтобы рассчитать знаменатель найдем,\n",
    "    # сколько раз повторяется каждый из элементов\n",
    "    _, counts = np.unique(x_in, return_counts=True)\n",
    "\n",
    "    # объявим переменную для знаменателя\n",
    "    denominator = 1\n",
    "\n",
    "    # и в цикле будем помещать туда произведение факториалов\n",
    "    # повторяющихся элементов\n",
    "    for c_it in counts:\n",
    "\n",
    "        # для этого проверим повторяется ли элемент\n",
    "        if c_it > 1:\n",
    "\n",
    "            # и если да, умножим знаменатель на факториал повторяющегося элемента\n",
    "            denominator *= math.factorial(c_it)\n",
    "\n",
    "    # разделим числитель на знаменатель\n",
    "    # деление дает тип float, поэтому используем функцию int(),\n",
    "    # чтобы результат был целым числом\n",
    "    return int(numerator / denominator)"
   ]
  },
  {
   "cell_type": "code",
   "execution_count": 29,
   "id": "d2592ef9",
   "metadata": {},
   "outputs": [
    {
     "data": {
      "text/plain": [
       "120"
      ]
     },
     "execution_count": 29,
     "metadata": {},
     "output_type": "execute_result"
    }
   ],
   "source": [
    "# создадим строку со словом \"молоко\"\n",
    "x_data_it = \"МОЛОКО\"\n",
    "\n",
    "# вызовем функцию\n",
    "# permutations_w_repetition(x)\n",
    "permutations_w_repetition(x_data_it, len(x_data_it))"
   ]
  },
  {
   "cell_type": "markdown",
   "id": "fd433b08",
   "metadata": {},
   "source": [
    "2.3 Перестановки с заменой"
   ]
  },
  {
   "cell_type": "code",
   "execution_count": null,
   "id": "975f25ab",
   "metadata": {},
   "outputs": [],
   "source": [
    "# посмотрим, сколькими способами можно выбрать два сорта мороженого\n",
    "list(itertools.product([\"Ваниль\", \"Клубника\"], repeat=2))"
   ]
  },
  {
   "cell_type": "code",
   "execution_count": null,
   "id": "ce103476",
   "metadata": {},
   "outputs": [],
   "source": [
    "# посмотрим на способы переставить с заменой два элемента из четырех\n",
    "list(itertools.product(\"ABCD\", repeat=2))"
   ]
  },
  {
   "cell_type": "code",
   "execution_count": 33,
   "id": "959f6a59",
   "metadata": {},
   "outputs": [
    {
     "data": {
      "text/plain": [
       "16"
      ]
     },
     "execution_count": 33,
     "metadata": {},
     "output_type": "execute_result"
    }
   ],
   "source": [
    "# убедимся, что таких способов 16\n",
    "len(list(itertools.product(\"ABCD\", repeat=2)))"
   ]
  },
  {
   "cell_type": "markdown",
   "id": "8f7d7e1c",
   "metadata": {},
   "source": [
    "2.4 Сочетания"
   ]
  },
  {
   "cell_type": "code",
   "execution_count": 34,
   "id": "4db9865c",
   "metadata": {},
   "outputs": [
    {
     "data": {
      "text/plain": [
       "[('A', 'B'),\n",
       " ('A', 'C'),\n",
       " ('A', 'D'),\n",
       " ('A', 'E'),\n",
       " ('B', 'A'),\n",
       " ('B', 'C'),\n",
       " ('B', 'D'),\n",
       " ('B', 'E'),\n",
       " ('C', 'A'),\n",
       " ('C', 'B'),\n",
       " ('C', 'D'),\n",
       " ('C', 'E'),\n",
       " ('D', 'A'),\n",
       " ('D', 'B'),\n",
       " ('D', 'C'),\n",
       " ('D', 'E'),\n",
       " ('E', 'A'),\n",
       " ('E', 'B'),\n",
       " ('E', 'C'),\n",
       " ('E', 'D')]"
      ]
     },
     "execution_count": 34,
     "metadata": {},
     "output_type": "execute_result"
    }
   ],
   "source": [
    "# возьмем пять элементов\n",
    "x_data_it = \"ABCDE\"\n",
    "\n",
    "# и найдем способ переставить два элемента из этих пяти\n",
    "list(itertools.permutations(x_data_it, r=2))"
   ]
  },
  {
   "cell_type": "code",
   "execution_count": 35,
   "id": "b8fc428b",
   "metadata": {},
   "outputs": [
    {
     "data": {
      "text/plain": [
       "10"
      ]
     },
     "execution_count": 35,
     "metadata": {},
     "output_type": "execute_result"
    }
   ],
   "source": [
    "# уменьшим на количество перестановок каждого типа r!\n",
    "int(len(list(itertools.permutations(x_data_it, r=2))) / math.factorial(2))"
   ]
  },
  {
   "cell_type": "code",
   "execution_count": 37,
   "id": "59a62de1",
   "metadata": {},
   "outputs": [
    {
     "data": {
      "text/plain": [
       "[('A', 'B'),\n",
       " ('A', 'C'),\n",
       " ('A', 'D'),\n",
       " ('A', 'E'),\n",
       " ('B', 'C'),\n",
       " ('B', 'D'),\n",
       " ('B', 'E'),\n",
       " ('C', 'D'),\n",
       " ('C', 'E'),\n",
       " ('D', 'E')]"
      ]
     },
     "execution_count": 37,
     "metadata": {},
     "output_type": "execute_result"
    }
   ],
   "source": [
    "# то же самое можно рассчитать с помощью функции combinations()\n",
    "list(itertools.combinations(x_data_it, 2))"
   ]
  },
  {
   "cell_type": "code",
   "execution_count": 39,
   "id": "6b2e54be",
   "metadata": {},
   "outputs": [
    {
     "data": {
      "text/plain": [
       "10"
      ]
     },
     "execution_count": 39,
     "metadata": {},
     "output_type": "execute_result"
    }
   ],
   "source": [
    "# посмотрим на количество сочетаний\n",
    "len(list(itertools.combinations(x_data_it, 2)))"
   ]
  },
  {
   "cell_type": "markdown",
   "id": "e0ef9652",
   "metadata": {},
   "source": [
    "2.5 Сочетания с заменой"
   ]
  },
  {
   "cell_type": "code",
   "execution_count": 40,
   "id": "c5eb12cf",
   "metadata": {},
   "outputs": [
    {
     "data": {
      "text/plain": [
       "[('A', 'A'), ('A', 'B'), ('B', 'B')]"
      ]
     },
     "execution_count": 40,
     "metadata": {},
     "output_type": "execute_result"
    }
   ],
   "source": [
    "# сколькими способами с заменой можно выбрать два элемента из двух\n",
    "list(itertools.combinations_with_replacement(\"AB\", 2))"
   ]
  },
  {
   "cell_type": "code",
   "execution_count": 41,
   "id": "27e9012f",
   "metadata": {},
   "outputs": [
    {
     "data": {
      "text/plain": [
       "[('A', 'B')]"
      ]
     },
     "execution_count": 41,
     "metadata": {},
     "output_type": "execute_result"
    }
   ],
   "source": [
    "# очевидно, что без замены есть только один такой способ\n",
    "list(itertools.combinations(\"AB\", 2))"
   ]
  },
  {
   "cell_type": "markdown",
   "id": "08b07200",
   "metadata": {},
   "source": [
    "3. Биномиальные коэффициенты"
   ]
  },
  {
   "cell_type": "code",
   "execution_count": 42,
   "id": "d7ddd5ff",
   "metadata": {},
   "outputs": [
    {
     "data": {
      "text/plain": [
       "[('H', 'H', 'H'),\n",
       " ('H', 'H', 'T'),\n",
       " ('H', 'T', 'H'),\n",
       " ('H', 'T', 'T'),\n",
       " ('T', 'H', 'H'),\n",
       " ('T', 'H', 'T'),\n",
       " ('T', 'T', 'H'),\n",
       " ('T', 'T', 'T')]"
      ]
     },
     "execution_count": 42,
     "metadata": {},
     "output_type": "execute_result"
    }
   ],
   "source": [
    "# дерево вероятностей можно построить с помощью декартовой степени\n",
    "list(itertools.product(\"HT\", repeat=3))"
   ]
  },
  {
   "cell_type": "code",
   "execution_count": 43,
   "id": "4dc344dc",
   "metadata": {},
   "outputs": [
    {
     "data": {
      "text/plain": [
       "3"
      ]
     },
     "execution_count": 43,
     "metadata": {},
     "output_type": "execute_result"
    }
   ],
   "source": [
    "# посмотрим, в скольких комбинациях выпадет две решки при трех бросках\n",
    "comb = len(list(itertools.combinations(\"ABC\", 2)))\n",
    "comb"
   ]
  },
  {
   "cell_type": "code",
   "execution_count": null,
   "id": "b65dbfb6",
   "metadata": {},
   "outputs": [
    {
     "data": {
      "text/plain": [
       "0.441"
      ]
     },
     "execution_count": 46,
     "metadata": {},
     "output_type": "execute_result"
    }
   ],
   "source": [
    "# то же самое можно вычислить через функцию вероятности (probability mass function, pmf)\n",
    "# биномиального распределения библиотеки scipy\n",
    "binom.pmf(k=2, n=3, p=0.7).round(3)"
   ]
  },
  {
   "cell_type": "code",
   "execution_count": 44,
   "id": "7028ffbc",
   "metadata": {},
   "outputs": [
    {
     "data": {
      "text/plain": [
       "0.441"
      ]
     },
     "execution_count": 44,
     "metadata": {},
     "output_type": "execute_result"
    }
   ],
   "source": [
    "# вычислим вероятность выпадения двух орлов в трех бросках\n",
    "# при вероятности выпадения орла 0,7\n",
    "round(comb * (0.7**2 * (1 - 0.7) ** (3 - 2)), 3)"
   ]
  },
  {
   "cell_type": "markdown",
   "id": "61138f4e",
   "metadata": {},
   "source": [
    "4. Дополнительные примеры\n",
    "\n",
    "Матожидание и среднее значение\n",
    "\n",
    "Математическое ожидание"
   ]
  },
  {
   "cell_type": "code",
   "execution_count": 47,
   "id": "b7deaf03",
   "metadata": {},
   "outputs": [
    {
     "data": {
      "text/plain": [
       "(2.0999999999999996, 0.6299999999999999)"
      ]
     },
     "execution_count": 47,
     "metadata": {},
     "output_type": "execute_result"
    }
   ],
   "source": [
    "# для биномиального распределения со следующими параметрами\n",
    "n_par, p_par = 3, 0.7\n",
    "\n",
    "# рассчитаем матожидание и ожидаемую дисперсию\n",
    "expected_value, variance = binom.stats(n_par, p_par, moments=\"mv\")\n",
    "expected_value, variance"
   ]
  },
  {
   "cell_type": "markdown",
   "id": "f2087276",
   "metadata": {},
   "source": [
    "Фактическое среднее значение"
   ]
  },
  {
   "cell_type": "code",
   "execution_count": 51,
   "id": "6d5df3c5",
   "metadata": {},
   "outputs": [
    {
     "name": "stdout",
     "output_type": "stream",
     "text": [
      "2.100058 0.6305083966359999\n"
     ]
    }
   ],
   "source": [
    "# проведем миллион биномиальных экспрериментов\n",
    "res = np.random.binomial(n=3, p=0.7, size=1000000)\n",
    "\n",
    "# и посмотрим на фактическое среднее значение и фактическую дисперсию\n",
    "# np.mean(res), np.var(res)\n",
    "print(f\"{np.mean(res)} {np.var(res)}\")"
   ]
  },
  {
   "cell_type": "markdown",
   "id": "de1dbb4a",
   "metadata": {},
   "source": [
    "5. Эксперименты"
   ]
  },
  {
   "cell_type": "code",
   "execution_count": null,
   "id": "343b8e7a",
   "metadata": {},
   "outputs": [
    {
     "data": {
      "image/png": "[encoded data removed]",
      "text/plain": [
       "<Figure size 1000x600 with 1 Axes>"
      ]
     },
     "metadata": {},
     "output_type": "display_data"
    }
   ],
   "source": [
    "n_param = 10  # количество испытаний (бросаний монетки)\n",
    "p_param = 0.5  # вероятность успеха (орла)\n",
    "\n",
    "# Генерируем выборку из биномиального распределения\n",
    "sample_size = 1000  # количество экспериментов\n",
    "data = np.random.binomial(n_param, p_param, sample_size)\n",
    "\n",
    "# Строим гистограмму\n",
    "plt.figure(figsize=(10, 6))\n",
    "plt.hist(\n",
    "    data,\n",
    "    bins=np.arange(-0.5, n_param + 1.5, 1),\n",
    "    density=True,\n",
    "    alpha=0.7,\n",
    "    color=\"skyblue\",\n",
    "    edgecolor=\"black\",\n",
    ")\n",
    "\n",
    "# график\n",
    "plt.title(f\"Биномиальное распределение (n={n_param}, p={n_param})\", fontsize=14)\n",
    "plt.xlabel(\"Число 1 (орлов) подряд\", fontsize=12)\n",
    "plt.ylabel(\"P\", fontsize=12)\n",
    "plt.xticks(range(n_param + 1))\n",
    "plt.grid(axis=\"y\", alpha=0.5)\n",
    "\n",
    "\n",
    "# то же самое можно вычислить через функцию вероятности (probability mass function, pmf)\n",
    "# биномиального распределения библиотеки scipy\n",
    "# Теоретическое распределение для сравнения\n",
    "x_data_2 = np.arange(0, n_param + 1)\n",
    "# pmf = [np.math.comb(n, k) * (p**k) * ((1-p)**(n-k)) for k in x]\n",
    "pmf = [binom.pmf(k=k, n=n_param, p=0.5).round(3) for k in x_data_2]\n",
    "plt.plot(\n",
    "    x_data_2, pmf, \"ro-\", linewidth=2, markersize=8, label=\"Теоретическая вероятность\"\n",
    ")\n",
    "\n",
    "plt.legend()\n",
    "plt.show()"
   ]
  }
 ],
 "metadata": {
  "kernelspec": {
   "display_name": "Python 3",
   "language": "python",
   "name": "python3"
  },
  "language_info": {
   "codemirror_mode": {
    "name": "ipython",
    "version": 3
   },
   "file_extension": ".py",
   "mimetype": "text/x-python",
   "name": "python",
   "nbconvert_exporter": "python",
   "pygments_lexer": "ipython3",
   "version": "3.10.11"
  }
 },
 "nbformat": 4,
 "nbformat_minor": 5
}
