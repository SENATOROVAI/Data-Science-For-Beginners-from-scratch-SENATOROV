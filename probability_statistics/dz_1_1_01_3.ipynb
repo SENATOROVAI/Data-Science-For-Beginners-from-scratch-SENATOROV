{
 "cells": [
  {
   "cell_type": "code",
   "execution_count": null,
   "id": "d6082842",
   "metadata": {},
   "outputs": [],
   "source": [
    "\"\"\"\n",
    "ДЗ 1. Блок 1. Введение в теорию вероятностей. 0.1 курс на Stepik. Метод МонтеКарло.\n",
    "\n",
    "ч.3 .\n",
    "\"\"\""
   ]
  },
  {
   "cell_type": "code",
   "execution_count": null,
   "id": "b3cca1c9",
   "metadata": {},
   "outputs": [],
   "source": [
    "# pylint: disable=unused-import\n",
    "\n",
    "from random import shuffle\n",
    "\n",
    "# доп import чтоб линтеры проходили\n",
    "# from typing import List, Optional, Tuple, Union\n",
    "from typing import List, Tuple\n",
    "\n",
    "import numpy as np\n",
    "import pandas as pd"
   ]
  },
  {
   "cell_type": "code",
   "execution_count": 3,
   "id": "ae53fba6",
   "metadata": {},
   "outputs": [],
   "source": [
    "# Парадокс ДР\n",
    "# Определить вероятность того, что в группе, состоящей из 23 человек,\n",
    "# у двух людей будет совпадение дней рождения (число и месяц).\n",
    "\n",
    "\n",
    "bd = pd.Series(range(365))"
   ]
  },
  {
   "cell_type": "code",
   "execution_count": 5,
   "id": "10064748",
   "metadata": {},
   "outputs": [
    {
     "data": {
      "text/plain": [
       "349    False\n",
       "159    False\n",
       "176    False\n",
       "241    False\n",
       "129    False\n",
       "220    False\n",
       "220     True\n",
       "227    False\n",
       "261    False\n",
       "33     False\n",
       "26     False\n",
       "291    False\n",
       "152    False\n",
       "317    False\n",
       "108    False\n",
       "40     False\n",
       "209    False\n",
       "340    False\n",
       "314    False\n",
       "353    False\n",
       "9      False\n",
       "2      False\n",
       "197    False\n",
       "dtype: bool"
      ]
     },
     "execution_count": 5,
     "metadata": {},
     "output_type": "execute_result"
    }
   ],
   "source": [
    "t_data = bd.sample(23, replace=True)\n",
    "\n",
    "t_data.duplicated()"
   ]
  },
  {
   "cell_type": "code",
   "execution_count": 6,
   "id": "be052c27",
   "metadata": {},
   "outputs": [],
   "source": [
    "rooms = [bd.sample(23, replace=True).duplicated().max() for _ in range(10000)]"
   ]
  },
  {
   "cell_type": "code",
   "execution_count": 10,
   "id": "211f8396",
   "metadata": {},
   "outputs": [
    {
     "data": {
      "text/plain": [
       "0.5049"
      ]
     },
     "execution_count": 10,
     "metadata": {},
     "output_type": "execute_result"
    }
   ],
   "source": [
    "np.mean(rooms)"
   ]
  },
  {
   "cell_type": "code",
   "execution_count": null,
   "id": "b288d9ff",
   "metadata": {},
   "outputs": [],
   "source": [
    "# Парадокс 2. Экзамент и билеты\n",
    "# Экзамен проходит по следующей схеме: если некоторый билет уже был вытянут,\n",
    "# то после ответа экзаменатор откладывает его в сторону.\n",
    "# Студент выучил 20 билетов из 30. Когда ему выгоднее идти, первым или вторым,\n",
    "# чтобы вероятность вынуть выученный билет была больше?"
   ]
  },
  {
   "cell_type": "code",
   "execution_count": 13,
   "id": "fd0d91e4",
   "metadata": {},
   "outputs": [],
   "source": [
    "tickets = list(range(1, 31))"
   ]
  },
  {
   "cell_type": "code",
   "execution_count": 14,
   "id": "9c847c3d",
   "metadata": {},
   "outputs": [],
   "source": [
    "student = list(range(1, 21))"
   ]
  },
  {
   "cell_type": "code",
   "execution_count": 15,
   "id": "d0112909",
   "metadata": {},
   "outputs": [],
   "source": [
    "shuffle(tickets)"
   ]
  },
  {
   "cell_type": "code",
   "execution_count": null,
   "id": "35a932ca",
   "metadata": {},
   "outputs": [],
   "source": [
    "n_param = 100000\n",
    "student = list(range(1, 21))\n",
    "tickets = list(range(1, 31))\n",
    "result = []\n",
    "\n",
    "for _ in range(n_param):\n",
    "    shuffle(tickets)\n",
    "    result.append(tickets[0] in student)"
   ]
  },
  {
   "cell_type": "code",
   "execution_count": 17,
   "id": "cb0466ec",
   "metadata": {},
   "outputs": [
    {
     "data": {
      "text/plain": [
       "0.66718"
      ]
     },
     "execution_count": 17,
     "metadata": {},
     "output_type": "execute_result"
    }
   ],
   "source": [
    "np.mean(result)"
   ]
  },
  {
   "cell_type": "code",
   "execution_count": 18,
   "id": "360e6fae",
   "metadata": {},
   "outputs": [],
   "source": [
    "n_param = 100000\n",
    "student = list(range(1, 21))\n",
    "tickets = list(range(1, 31))\n",
    "result = []\n",
    "\n",
    "for _ in range(n_param):\n",
    "    shuffle(tickets)\n",
    "    result.append(tickets[1] in student)"
   ]
  },
  {
   "cell_type": "code",
   "execution_count": 19,
   "id": "a3d78e3e",
   "metadata": {},
   "outputs": [
    {
     "data": {
      "text/plain": [
       "0.66654"
      ]
     },
     "execution_count": 19,
     "metadata": {},
     "output_type": "execute_result"
    }
   ],
   "source": [
    "np.mean(result)  # искажение Байесовского восприятия"
   ]
  },
  {
   "cell_type": "code",
   "execution_count": 20,
   "id": "2ca14660",
   "metadata": {},
   "outputs": [
    {
     "data": {
      "text/plain": [
       "0"
      ]
     },
     "execution_count": 20,
     "metadata": {},
     "output_type": "execute_result"
    }
   ],
   "source": [
    "# Парадокс 3. Синие и зеленые такси\n",
    "\n",
    "\n",
    "np.random.binomial(1, 0.15)\n",
    "# 1 - синее\n",
    "# 0 - зелёное"
   ]
  },
  {
   "cell_type": "code",
   "execution_count": 4,
   "id": "0b3514a9",
   "metadata": {},
   "outputs": [],
   "source": [
    "# генератор\n",
    "\n",
    "\n",
    "def witness(taxi: int) -> int:\n",
    "    \"\"\"witness.\"\"\"\n",
    "    if np.random.binomial(1, 0.8):\n",
    "        return taxi\n",
    "    return abs(taxi - 1)"
   ]
  },
  {
   "cell_type": "code",
   "execution_count": 5,
   "id": "c9608487",
   "metadata": {},
   "outputs": [
    {
     "data": {
      "text/plain": [
       "0"
      ]
     },
     "execution_count": 5,
     "metadata": {},
     "output_type": "execute_result"
    }
   ],
   "source": [
    "witness(0)\n",
    "# input 0 - зелёное, return 1 - синее, ошибся"
   ]
  },
  {
   "cell_type": "code",
   "execution_count": null,
   "id": "0795e55b",
   "metadata": {},
   "outputs": [],
   "source": [
    "# nbqa-mypy: disable-all\n",
    "\n",
    "#  monte carlo\n",
    "n_param = 100000\n",
    "result_2: List[Tuple[int, int]] = []\n",
    "for _ in range(n_param):\n",
    "    taxi_param = np.random.binomial(1, 0.15)\n",
    "    witness_answer_1 = witness(taxi_param)\n",
    "    result_2.append((taxi_param, witness_answer_1))"
   ]
  },
  {
   "cell_type": "code",
   "execution_count": 11,
   "id": "7c186b86",
   "metadata": {},
   "outputs": [
    {
     "data": {
      "text/html": [
       "<div>\n",
       "<style scoped>\n",
       "    .dataframe tbody tr th:only-of-type {\n",
       "        vertical-align: middle;\n",
       "    }\n",
       "\n",
       "    .dataframe tbody tr th {\n",
       "        vertical-align: top;\n",
       "    }\n",
       "\n",
       "    .dataframe thead th {\n",
       "        text-align: right;\n",
       "    }\n",
       "</style>\n",
       "<table border=\"1\" class=\"dataframe\">\n",
       "  <thead>\n",
       "    <tr style=\"text-align: right;\">\n",
       "      <th></th>\n",
       "      <th>taxi</th>\n",
       "      <th>witness_answer</th>\n",
       "    </tr>\n",
       "  </thead>\n",
       "  <tbody>\n",
       "    <tr>\n",
       "      <th>0</th>\n",
       "      <td>0</td>\n",
       "      <td>0</td>\n",
       "    </tr>\n",
       "    <tr>\n",
       "      <th>1</th>\n",
       "      <td>0</td>\n",
       "      <td>0</td>\n",
       "    </tr>\n",
       "    <tr>\n",
       "      <th>2</th>\n",
       "      <td>1</td>\n",
       "      <td>1</td>\n",
       "    </tr>\n",
       "    <tr>\n",
       "      <th>3</th>\n",
       "      <td>0</td>\n",
       "      <td>0</td>\n",
       "    </tr>\n",
       "    <tr>\n",
       "      <th>4</th>\n",
       "      <td>0</td>\n",
       "      <td>0</td>\n",
       "    </tr>\n",
       "    <tr>\n",
       "      <th>...</th>\n",
       "      <td>...</td>\n",
       "      <td>...</td>\n",
       "    </tr>\n",
       "    <tr>\n",
       "      <th>99995</th>\n",
       "      <td>0</td>\n",
       "      <td>0</td>\n",
       "    </tr>\n",
       "    <tr>\n",
       "      <th>99996</th>\n",
       "      <td>0</td>\n",
       "      <td>0</td>\n",
       "    </tr>\n",
       "    <tr>\n",
       "      <th>99997</th>\n",
       "      <td>0</td>\n",
       "      <td>0</td>\n",
       "    </tr>\n",
       "    <tr>\n",
       "      <th>99998</th>\n",
       "      <td>0</td>\n",
       "      <td>0</td>\n",
       "    </tr>\n",
       "    <tr>\n",
       "      <th>99999</th>\n",
       "      <td>1</td>\n",
       "      <td>0</td>\n",
       "    </tr>\n",
       "  </tbody>\n",
       "</table>\n",
       "<p>100000 rows × 2 columns</p>\n",
       "</div>"
      ],
      "text/plain": [
       "       taxi  witness_answer\n",
       "0         0               0\n",
       "1         0               0\n",
       "2         1               1\n",
       "3         0               0\n",
       "4         0               0\n",
       "...     ...             ...\n",
       "99995     0               0\n",
       "99996     0               0\n",
       "99997     0               0\n",
       "99998     0               0\n",
       "99999     1               0\n",
       "\n",
       "[100000 rows x 2 columns]"
      ]
     },
     "execution_count": 11,
     "metadata": {},
     "output_type": "execute_result"
    }
   ],
   "source": [
    "t_data_2 = pd.DataFrame(result_2, columns=[\"taxi\", \"witness_answer\"])\n",
    "t_data_2"
   ]
  },
  {
   "cell_type": "code",
   "execution_count": 9,
   "id": "ce1c1def",
   "metadata": {},
   "outputs": [
    {
     "data": {
      "text/plain": [
       "witness_answer\n",
       "0    0.043177\n",
       "1    0.416356\n",
       "Name: taxi, dtype: float64"
      ]
     },
     "execution_count": 9,
     "metadata": {},
     "output_type": "execute_result"
    }
   ],
   "source": [
    "t_data_2.groupby(\"witness_answer\")[\"taxi\"].mean()\n",
    "# 1    0.416681 41% случаев свидетель будет прав, что реально принадлежит синим\n",
    "# самое интересное что свидетель верно определяет в 80% случаев,\n",
    "# получается это опять искажение Баейсовского восприятия"
   ]
  },
  {
   "cell_type": "code",
   "execution_count": null,
   "id": "018dce95",
   "metadata": {},
   "outputs": [],
   "source": [
    "# Парадокс 4. Русская рулетка\n",
    "\n",
    "\n",
    "chamber = [1, 1, 0, 0, 0, 0]"
   ]
  },
  {
   "cell_type": "code",
   "execution_count": 15,
   "id": "e6509840",
   "metadata": {},
   "outputs": [],
   "source": [
    "# pylint: disable=redefined-outer-name\n",
    "\n",
    "\n",
    "def one_turn(chamber_p: List[int]) -> List[int]:\n",
    "    \"\"\"One turn.\"\"\"\n",
    "    new_chamber = [0, 0, 0, 0, 0, 0]\n",
    "    n_param = len(chamber_p)\n",
    "    for i in range(n_param):\n",
    "        if i < n_param - 1:\n",
    "            new_chamber[i + 1] = chamber_p[i]\n",
    "        else:\n",
    "            new_chamber[0] = chamber_p[i]\n",
    "    return new_chamber"
   ]
  },
  {
   "cell_type": "code",
   "execution_count": 13,
   "id": "1853a106",
   "metadata": {},
   "outputs": [],
   "source": [
    "# pylint: disable=redefined-outer-name\n",
    "\n",
    "\n",
    "def spin_chamber(chamber_p: List[int]) -> List[int]:\n",
    "    \"\"\"spin_chamber.\"\"\"\n",
    "    n_param = np.random.randint(1, 7)\n",
    "    for _ in range(n_param):\n",
    "        chamber_p = one_turn(chamber_p)\n",
    "    return chamber_p"
   ]
  },
  {
   "cell_type": "code",
   "execution_count": 16,
   "id": "1a8c2ef4",
   "metadata": {},
   "outputs": [
    {
     "data": {
      "text/plain": [
       "[0, 1, 1, 0, 0, 0]"
      ]
     },
     "execution_count": 16,
     "metadata": {},
     "output_type": "execute_result"
    }
   ],
   "source": [
    "spin_chamber([1, 1, 0, 0, 0, 0])"
   ]
  },
  {
   "cell_type": "code",
   "execution_count": 17,
   "id": "bf8d80cf",
   "metadata": {},
   "outputs": [
    {
     "data": {
      "text/plain": [
       "[0, 1, 1, 0, 0, 0]    0.16759\n",
       "[0, 0, 1, 1, 0, 0]    0.16735\n",
       "[0, 0, 0, 1, 1, 0]    0.16732\n",
       "[0, 0, 0, 0, 1, 1]    0.16718\n",
       "[1, 0, 0, 0, 0, 1]    0.16698\n",
       "[1, 1, 0, 0, 0, 0]    0.16358\n",
       "Name: proportion, dtype: float64"
      ]
     },
     "execution_count": 17,
     "metadata": {},
     "output_type": "execute_result"
    }
   ],
   "source": [
    "pd.Series([spin_chamber([1, 1, 0, 0, 0, 0]) for _ in range(100000)]).astype(\n",
    "    str\n",
    ").value_counts(normalize=True)"
   ]
  },
  {
   "cell_type": "code",
   "execution_count": 19,
   "id": "034b3fac",
   "metadata": {},
   "outputs": [],
   "source": [
    "n_param = 10000\n",
    "result_3: List[Tuple[int, int]] = []\n",
    "\n",
    "for _ in range(n_param):\n",
    "    # заряжаем револьвер\n",
    "    chamber = [1, 1, 0, 0, 0, 0]\n",
    "    # первый игрок крутит барабан\n",
    "    chamber = spin_chamber(chamber)\n",
    "    # первый игрок стреляет\n",
    "    chamber = one_turn(chamber)\n",
    "    p1 = chamber[0]\n",
    "    # убрали пулю после выстрела\n",
    "    chamber[0] = 0\n",
    "\n",
    "    # второй игрок вращает барабан -- нужно ли это действие?\n",
    "    chamber = spin_chamber(chamber)\n",
    "\n",
    "    # второй игрок стреляет\n",
    "    chamber = one_turn(chamber)\n",
    "    p2 = chamber[0]\n",
    "\n",
    "    result_3.append((p1, p2))"
   ]
  },
  {
   "cell_type": "code",
   "execution_count": 24,
   "id": "e5519527",
   "metadata": {},
   "outputs": [
    {
     "data": {
      "text/html": [
       "<div>\n",
       "<style scoped>\n",
       "    .dataframe tbody tr th:only-of-type {\n",
       "        vertical-align: middle;\n",
       "    }\n",
       "\n",
       "    .dataframe tbody tr th {\n",
       "        vertical-align: top;\n",
       "    }\n",
       "\n",
       "    .dataframe thead th {\n",
       "        text-align: right;\n",
       "    }\n",
       "</style>\n",
       "<table border=\"1\" class=\"dataframe\">\n",
       "  <thead>\n",
       "    <tr style=\"text-align: right;\">\n",
       "      <th></th>\n",
       "      <th>p1</th>\n",
       "      <th>p2</th>\n",
       "    </tr>\n",
       "  </thead>\n",
       "  <tbody>\n",
       "    <tr>\n",
       "      <th>0</th>\n",
       "      <td>0</td>\n",
       "      <td>0</td>\n",
       "    </tr>\n",
       "    <tr>\n",
       "      <th>1</th>\n",
       "      <td>1</td>\n",
       "      <td>0</td>\n",
       "    </tr>\n",
       "    <tr>\n",
       "      <th>2</th>\n",
       "      <td>0</td>\n",
       "      <td>0</td>\n",
       "    </tr>\n",
       "    <tr>\n",
       "      <th>3</th>\n",
       "      <td>0</td>\n",
       "      <td>0</td>\n",
       "    </tr>\n",
       "    <tr>\n",
       "      <th>4</th>\n",
       "      <td>1</td>\n",
       "      <td>0</td>\n",
       "    </tr>\n",
       "    <tr>\n",
       "      <th>...</th>\n",
       "      <td>...</td>\n",
       "      <td>...</td>\n",
       "    </tr>\n",
       "    <tr>\n",
       "      <th>9995</th>\n",
       "      <td>0</td>\n",
       "      <td>1</td>\n",
       "    </tr>\n",
       "    <tr>\n",
       "      <th>9996</th>\n",
       "      <td>0</td>\n",
       "      <td>0</td>\n",
       "    </tr>\n",
       "    <tr>\n",
       "      <th>9997</th>\n",
       "      <td>1</td>\n",
       "      <td>0</td>\n",
       "    </tr>\n",
       "    <tr>\n",
       "      <th>9998</th>\n",
       "      <td>0</td>\n",
       "      <td>0</td>\n",
       "    </tr>\n",
       "    <tr>\n",
       "      <th>9999</th>\n",
       "      <td>0</td>\n",
       "      <td>0</td>\n",
       "    </tr>\n",
       "  </tbody>\n",
       "</table>\n",
       "<p>10000 rows × 2 columns</p>\n",
       "</div>"
      ],
      "text/plain": [
       "      p1  p2\n",
       "0      0   0\n",
       "1      1   0\n",
       "2      0   0\n",
       "3      0   0\n",
       "4      1   0\n",
       "...   ..  ..\n",
       "9995   0   1\n",
       "9996   0   0\n",
       "9997   1   0\n",
       "9998   0   0\n",
       "9999   0   0\n",
       "\n",
       "[10000 rows x 2 columns]"
      ]
     },
     "execution_count": 24,
     "metadata": {},
     "output_type": "execute_result"
    }
   ],
   "source": [
    "t_data_2 = pd.DataFrame(result_3, columns=[\"p1\", \"p2\"])\n",
    "t_data_2"
   ]
  },
  {
   "cell_type": "code",
   "execution_count": null,
   "id": "795eb7ad",
   "metadata": {},
   "outputs": [
    {
     "data": {
      "text/html": [
       "<div>\n",
       "<style scoped>\n",
       "    .dataframe tbody tr th:only-of-type {\n",
       "        vertical-align: middle;\n",
       "    }\n",
       "\n",
       "    .dataframe tbody tr th {\n",
       "        vertical-align: top;\n",
       "    }\n",
       "\n",
       "    .dataframe thead th {\n",
       "        text-align: right;\n",
       "    }\n",
       "</style>\n",
       "<table border=\"1\" class=\"dataframe\">\n",
       "  <thead>\n",
       "    <tr style=\"text-align: right;\">\n",
       "      <th></th>\n",
       "      <th>count</th>\n",
       "      <th>mean</th>\n",
       "    </tr>\n",
       "    <tr>\n",
       "      <th>p1</th>\n",
       "      <th></th>\n",
       "      <th></th>\n",
       "    </tr>\n",
       "  </thead>\n",
       "  <tbody>\n",
       "    <tr>\n",
       "      <th>0</th>\n",
       "      <td>6588</td>\n",
       "      <td>0.336066</td>\n",
       "    </tr>\n",
       "    <tr>\n",
       "      <th>1</th>\n",
       "      <td>3412</td>\n",
       "      <td>0.165006</td>\n",
       "    </tr>\n",
       "  </tbody>\n",
       "</table>\n",
       "</div>"
      ],
      "text/plain": [
       "    count      mean\n",
       "p1                 \n",
       "0    6588  0.336066\n",
       "1    3412  0.165006"
      ]
     },
     "execution_count": 33,
     "metadata": {},
     "output_type": "execute_result"
    }
   ],
   "source": [
    "t_data_2.groupby(\"p1\")[\"p2\"].agg([\"count\", \"mean\"])\n",
    "# 0 - выжил, первый игрок выжил, вероятность что 2 игрок умрет,\n",
    "# если крутонешь барабан 0.33%\n",
    "# 1 - умер"
   ]
  }
 ],
 "metadata": {
  "kernelspec": {
   "display_name": "Python 3",
   "language": "python",
   "name": "python3"
  },
  "language_info": {
   "codemirror_mode": {
    "name": "ipython",
    "version": 3
   },
   "file_extension": ".py",
   "mimetype": "text/x-python",
   "name": "python",
   "nbconvert_exporter": "python",
   "pygments_lexer": "ipython3",
   "version": "3.10.11"
  }
 },
 "nbformat": 4,
 "nbformat_minor": 5
}
