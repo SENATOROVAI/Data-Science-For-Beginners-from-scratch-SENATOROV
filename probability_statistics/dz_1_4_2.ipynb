{
 "cells": [
  {
   "cell_type": "code",
   "execution_count": 1,
   "id": "5e8e24bb",
   "metadata": {},
   "outputs": [
    {
     "data": {
      "text/plain": [
       "'\\nДЗ 1. Блок 4. Основы линейной алгебры и матана для машинного обучения.\\n\\nКурс ня Яндекс \"Математический анализ\".\\n'"
      ]
     },
     "execution_count": 1,
     "metadata": {},
     "output_type": "execute_result"
    }
   ],
   "source": [
    "\"\"\"\n",
    "ДЗ 1. Блок 4. Основы линейной алгебры и матана для машинного обучения.\n",
    "\n",
    "Курс ня Яндекс \"Математический анализ\".\n",
    "\"\"\""
   ]
  },
  {
   "cell_type": "code",
   "execution_count": 2,
   "id": "8bb3c440",
   "metadata": {},
   "outputs": [],
   "source": [
    "import numpy as np\n",
    "import pandas as pd\n",
    "\n",
    "# fmt: off\n",
    "# isort: skip_file        \n",
    "# pyupgrade: disable      \n",
    "# pylint: skip-file       \n",
    "# flake8: noqa           \n",
    "# mypy: ignore-errors     \n",
    "# codespell:disable"
   ]
  },
  {
   "cell_type": "code",
   "execution_count": null,
   "id": "08ba1b47",
   "metadata": {},
   "outputs": [
    {
     "name": "stdout",
     "output_type": "stream",
     "text": [
      "0.999001\n"
     ]
    }
   ],
   "source": [
    "# 3.2 Задача A\n",
    "import sys\n",
    "\n",
    "\n",
    "# def main():\n",
    "#     input = sys.stdin.read()\n",
    "def main(input):\n",
    "    \"\"\"Запуск.\"\"\"    \n",
    "    input_1 = input.split('\\n')\n",
    "    \n",
    "    line = input_1[0].split(' ')\n",
    "\n",
    "    N = int(line[0])\n",
    "    approximation = N / (N + 1)\n",
    "    print(\"{:.6f}\".format(approximation))\n",
    "\n",
    "if __name__ == \"__main__\":\n",
    "    # main()\n",
    "    \n",
    "    input = '1000'\n",
    "    main(input)"
   ]
  },
  {
   "cell_type": "code",
   "execution_count": null,
   "id": "4732d936",
   "metadata": {},
   "outputs": [
    {
     "name": "stdout",
     "output_type": "stream",
     "text": [
      "CONTINUOUS\n"
     ]
    }
   ],
   "source": [
    "# 3.2 Задача B\n",
    "\n",
    "# def main():\n",
    "#     input = sys.stdin.read()\n",
    "def main(input):\n",
    "    \"\"\"Запуск.\"\"\"\n",
    "    input_1 = input.split('\\n')\n",
    "    \n",
    "    # Считываем входные данные\n",
    "    f_expr = input_1[0].strip()\n",
    "    x0     = float(input_1[1].strip())\n",
    "    delta  = float(input_1[2].strip())\n",
    "    \n",
    "    # Определяем допуск\n",
    "    epsilon = 5 * delta\n",
    "    \n",
    "    # Создаем функцию из строки\n",
    "    def f(x):\n",
    "        return eval(f_expr, {'x': x, 'abs': abs, 'max': max, 'min': min})\n",
    "    \n",
    "    # Вычисляем значения функции в ключевых точках\n",
    "    try:\n",
    "        f_x0 = f(x0)\n",
    "        f_left = f(x0 - delta)\n",
    "        f_right = f(x0 + delta)\n",
    "    except:\n",
    "        # По условию задачи исключений не должно быть, но на всякий случай\n",
    "        print(\"DISCONTINUOUS\")\n",
    "        return\n",
    "    \n",
    "    # Проверяем условия непрерывности\n",
    "    left_continuous = abs(f_left - f_x0) < epsilon\n",
    "    right_continuous = abs(f_right - f_x0) < epsilon\n",
    "    \n",
    "    # Выводим результат\n",
    "    if left_continuous and right_continuous:\n",
    "        print(\"CONTINUOUS\")\n",
    "    else:\n",
    "        print(\"DISCONTINUOUS\")\n",
    "\n",
    "if __name__ == \"__main__\":\n",
    "    # main()\n",
    "    \n",
    "    input = 'abs(x)' + '\\n' + \\\n",
    "            '0' + '\\n' + \\\n",
    "            '0.001'\n",
    "    main(input)"
   ]
  },
  {
   "cell_type": "code",
   "execution_count": 7,
   "id": "cf4621d6",
   "metadata": {},
   "outputs": [
    {
     "name": "stdout",
     "output_type": "stream",
     "text": [
      "LIPSCHITZ\n"
     ]
    }
   ],
   "source": [
    "# 3.2 Задача C\n",
    "\n",
    "import math\n",
    "import numpy as np\n",
    "\n",
    "# def main():\n",
    "#     input = sys.stdin.read()\n",
    "def main(input):\n",
    "    \"\"\"Запуск.\"\"\"\n",
    "    input_1 = input.split('\\n')\n",
    "    # Считываем входные данные\n",
    "    f_expr = input_1[0].strip()\n",
    "    a, b   = map(float, input_1[1].split())\n",
    "    L      = float(input_1[2].strip())\n",
    "    \n",
    "    epsilon = 1e-6\n",
    "    \n",
    "    # Создаем функцию\n",
    "    def f(x):\n",
    "        return eval(f_expr, {'x': x, 'e': math.e, 'exp': math.exp, 'math': math})\n",
    "    \n",
    "    # Более эффективная проверка: ищем максимальное отношение |f(x)-f(y)|/|x-y|\n",
    "    n_points = 500\n",
    "    x_values = np.linspace(a, b, n_points)\n",
    "    f_values = np.array([f(x) for x in x_values])\n",
    "    \n",
    "    # Вычисляем все попарные разности\n",
    "    max_ratio = 0\n",
    "    for i in range(n_points):\n",
    "        for j in range(i + 1, n_points):\n",
    "            if abs(x_values[i] - x_values[j]) > epsilon:\n",
    "                ratio = abs(f_values[i] - f_values[j]) / abs(x_values[i] - x_values[j])\n",
    "                max_ratio = max(max_ratio, ratio)\n",
    "    \n",
    "    # Проверяем условие\n",
    "    if max_ratio <= L + epsilon:\n",
    "        print(\"LIPSCHITZ\")\n",
    "    else:\n",
    "        print(\"NOT LIPSCHITZ\")\n",
    "\n",
    "if __name__ == \"__main__\":\n",
    "    # main()\n",
    "    \n",
    "    input = 'x ** 2' + '\\n' + \\\n",
    "            '0 1' + '\\n' + \\\n",
    "            '2'\n",
    "    main(input)"
   ]
  }
 ],
 "metadata": {
  "kernelspec": {
   "display_name": "Python 3",
   "language": "python",
   "name": "python3"
  },
  "language_info": {
   "codemirror_mode": {
    "name": "ipython",
    "version": 3
   },
   "file_extension": ".py",
   "mimetype": "text/x-python",
   "name": "python",
   "nbconvert_exporter": "python",
   "pygments_lexer": "ipython3",
   "version": "3.10.11"
  }
 },
 "nbformat": 4,
 "nbformat_minor": 5
}
