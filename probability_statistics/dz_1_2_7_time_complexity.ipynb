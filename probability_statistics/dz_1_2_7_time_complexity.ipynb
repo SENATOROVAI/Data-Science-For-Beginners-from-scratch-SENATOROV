{
 "cells": [
  {
   "cell_type": "code",
   "execution_count": null,
   "metadata": {},
   "outputs": [],
   "source": [
    "\"\"\"\n",
    "ДЗ 1. Блок 2. Анализ и обработка данных. Раздел 3. Очистка данных.\n",
    "\n",
    "Временная сложность алгоритма.\n",
    "\"\"\""
   ]
  },
  {
   "cell_type": "code",
   "execution_count": null,
   "metadata": {
    "id": "JzPU7wNUwicb"
   },
   "outputs": [],
   "source": [
    "import numpy as np\n",
    "import pandas as pd\n",
    "import matplotlib.pyplot as plt\n",
    "import seaborn as sns\n",
    "\n",
    "# fmt: off\n",
    "# isort: skip_file        \n",
    "# pyupgrade: disable      \n",
    "# pylint: skip-file       \n",
    "# flake8: noqa           \n",
    "# mypy: ignore-errors     \n",
    "# codespell:disable"
   ]
  },
  {
   "cell_type": "code",
   "execution_count": 2,
   "metadata": {
    "id": "a8u8KsBsyzh4"
   },
   "outputs": [],
   "source": [
    "sns.set(rc = {'figure.figsize' : (10, 6)})"
   ]
  },
  {
   "cell_type": "markdown",
   "metadata": {
    "id": "ua6ZZtjSAw9e"
   },
   "source": [
    "# Дополнительные материалы"
   ]
  },
  {
   "cell_type": "markdown",
   "metadata": {
    "id": "-6gljv2_frto"
   },
   "source": [
    "## Временная сложность алгоритма"
   ]
  },
  {
   "cell_type": "code",
   "execution_count": null,
   "metadata": {
    "id": "930uuaSTf8_-"
   },
   "outputs": [],
   "source": [
    "# алгоритм линейного поиска\n",
    "def linear(arr, x):\n",
    "  \"\"\"Search linearly.\"\"\"\n",
    "  # объявим счетчик количества операций\n",
    "  counter = 0\n",
    "\n",
    "  for i in range(len(arr)):\n",
    "\n",
    "    # с каждой итерацией будем увеличивать счетчик на единицу\n",
    "    counter += 1\n",
    "\n",
    "    if arr[i] == x:\n",
    "      return i, counter"
   ]
  },
  {
   "cell_type": "code",
   "execution_count": 64,
   "metadata": {
    "id": "COleWzlWf9Hf"
   },
   "outputs": [],
   "source": [
    "# алгоритм бинарного поиска\n",
    "def binary(arr, x):\n",
    "  \"\"\"Search binary.\"\"\"\n",
    "  # объявим счетчик количества операций\n",
    "  counter = 0\n",
    "\n",
    "  low, high = 0, len(arr) - 1\n",
    "\n",
    "  while low <= high:\n",
    "\n",
    "    # увеличиваем счетчик с каждой итерацией цикла\n",
    "    counter += 1\n",
    "\n",
    "    mid = low + (high - low) // 2\n",
    "\n",
    "    if arr[mid] == x:\n",
    "        return mid, counter\n",
    "\n",
    "    elif arr[mid] < x:\n",
    "        low = mid + 1\n",
    "\n",
    "    else:\n",
    "        high = mid - 1\n",
    "\n",
    "  return -1"
   ]
  },
  {
   "cell_type": "code",
   "execution_count": 5,
   "metadata": {
    "colab": {
     "base_uri": "https://localhost:8080/"
    },
    "id": "OmZZu-ftfu9w",
    "outputId": "3092fd5e-9ac7-4889-84f7-4e9ef929ef6b"
   },
   "outputs": [
    {
     "data": {
      "text/plain": [
       "(8, 16)"
      ]
     },
     "execution_count": 5,
     "metadata": {},
     "output_type": "execute_result"
    }
   ],
   "source": [
    "# возьмем два массива из восьми и шестнадцати чисел\n",
    "arr8 = np.array([3, 4, 7, 11, 13, 21, 23, 28])\n",
    "arr16 = np.array([3, 4, 7, 11, 13, 21, 23, 28, 29, 30, 31, 33, 36, 37, 39, 42])\n",
    "\n",
    "len(arr8), len(arr16)"
   ]
  },
  {
   "cell_type": "code",
   "execution_count": 6,
   "metadata": {
    "colab": {
     "base_uri": "https://localhost:8080/"
    },
    "id": "o5CfVUa1f9D7",
    "outputId": "782e1cf9-bf62-46ef-9c45-16213ff12746"
   },
   "outputs": [
    {
     "data": {
      "text/plain": [
       "((7, 8), (15, 16))"
      ]
     },
     "execution_count": 6,
     "metadata": {},
     "output_type": "execute_result"
    }
   ],
   "source": [
    "# найдем числа 28 и 42 с помощью линейного поиска\n",
    "# первым результатом функции будет индекс искомого числа,\n",
    "# вторым - количество операций сравнения\n",
    "linear(arr8, 28), linear(arr16, 42)"
   ]
  },
  {
   "cell_type": "code",
   "execution_count": 7,
   "metadata": {
    "colab": {
     "base_uri": "https://localhost:8080/"
    },
    "id": "UDmbm7Isj5wG",
    "outputId": "8703a752-0eb9-4201-ad90-ddd299cfb688"
   },
   "outputs": [
    {
     "data": {
      "text/plain": [
       "((7, 4), (15, 5))"
      ]
     },
     "execution_count": 7,
     "metadata": {},
     "output_type": "execute_result"
    }
   ],
   "source": [
    "# найдем эти же числа с помощью бинарного поиска\n",
    "binary(arr8, 28), binary(arr16, 42)"
   ]
  },
  {
   "cell_type": "code",
   "execution_count": 8,
   "metadata": {
    "id": "pQcR0kxoeTs0"
   },
   "outputs": [],
   "source": [
    "# посчитаем количество операций для входных массивов разной длины\n",
    "# создадим списки, куда будем записывать количество затраченных итераций\n",
    "ops_linear, ops_binary = [], []\n",
    "\n",
    "# будет 100 входных массивов длиной от 1 до 100 элементов\n",
    "input_arr = np.arange(1, 101)\n",
    "\n",
    "# на каждой итерации будем работать с массивом определенной длины\n",
    "for i in input_arr:\n",
    "\n",
    "  # внутри функций поиска создадим массив из текущего количества элементов\n",
    "  # и попросим найти последний элемент i - 1\n",
    "  _, l = linear(np.arange(i), i - 1)\n",
    "  _, b = binary(np.arange(i), i - 1)\n",
    "\n",
    "  # запишем количество затраченных операций в соответствующий список\n",
    "  ops_linear.append(l)\n",
    "  ops_binary.append(b)"
   ]
  },
  {
   "cell_type": "code",
   "execution_count": 9,
   "metadata": {
    "colab": {
     "base_uri": "https://localhost:8080/",
     "height": 423
    },
    "id": "L4yO6KR4eyQ9",
    "outputId": "3d153c13-6b18-443c-9b21-e3a3bafeb348"
   },
   "outputs": [
    {
     "data": {
      "image/png": "[encoded data removed]",
      "text/plain": [
       "<Figure size 1000x600 with 1 Axes>"
      ]
     },
     "metadata": {},
     "output_type": "display_data"
    }
   ],
   "source": [
    "# выведем зависимость количества операций от длины входного массива\n",
    "plt.plot(input_arr, ops_linear, label = 'Линейный поиск')\n",
    "plt.plot(input_arr, ops_binary, label = 'Бинарный поиск')\n",
    "\n",
    "plt.title('Зависимость количества операций поиска от длины массива')\n",
    "plt.xlabel('Длина входного массива')\n",
    "plt.ylabel('Количество операций в худшем случае')\n",
    "\n",
    "plt.legend();"
   ]
  },
  {
   "cell_type": "markdown",
   "metadata": {
    "id": "kB5P6RBzlm8H"
   },
   "source": [
    "## Ещё одно сравнение методов заполнения пропусков"
   ]
  },
  {
   "cell_type": "markdown",
   "metadata": {
    "id": "dgCYcAsFqEWi"
   },
   "source": [
    "### Создание данных с пропусками"
   ]
  },
  {
   "cell_type": "code",
   "execution_count": 10,
   "metadata": {
    "id": "pp7aFpOal2E0"
   },
   "outputs": [],
   "source": [
    "# импортируем данные опухолей из модуля datasets библиотеки sklearn\n",
    "from sklearn.datasets import load_breast_cancer\n",
    "\n",
    "# выведем признаки и целевую переменную и поместим их в X_full и _ соответственно\n",
    "X_full, _ = load_breast_cancer(return_X_y = True, as_frame = True)\n",
    "\n",
    "from sklearn.preprocessing import StandardScaler\n",
    "\n",
    "# масштабируем данные\n",
    "X_full = pd.DataFrame(StandardScaler().fit_transform(X_full), columns = X_full.columns)"
   ]
  },
  {
   "cell_type": "code",
   "execution_count": null,
   "metadata": {
    "id": "USTZ-bTQlMiv"
   },
   "outputs": [],
   "source": [
    "# напишем функцию, которая будет случайным образом\n",
    "# добавлять пропуски в выбранные нами признаки\n",
    "\n",
    "# нам понадобится модуль random\n",
    "import random\n",
    "\n",
    "# на вход функция будет получать полный датафрейм, номера столбцов признаков,\n",
    "# долю пропусков в каждом из столбцов и точку отсчета\n",
    "def add_nan(x_full, features, nan_share = 0.2, random_state = None):\n",
    "  \"\"\"Add random nan values.\"\"\"\n",
    "  random.seed(random_state)\n",
    "\n",
    "  # сделаем копию датафрейма\n",
    "  x_nan = x_full.copy()\n",
    "\n",
    "  # вначале запишем количество наблюдений и количество признаков\n",
    "  n_samples, n_features = x_full.shape\n",
    "\n",
    "  # посчитаем количество признаков в абсолютном выражении\n",
    "  how_many = int(nan_share * n_samples)\n",
    "\n",
    "  # в цикле пройдемся по номерам столбцов\n",
    "  for f in range(n_features):\n",
    "    # если столбец был указан в параметре features,\n",
    "    if f in features:\n",
    "      # случайным образом отберем необходимое количество индексов наблюдений (how_many)\n",
    "      # из перечня, длиной с индекс (range(n_samples))\n",
    "      mask = random.sample(range(n_samples), how_many)\n",
    "      # заменим соответствующие значения столбца пропусками\n",
    "      x_nan.iloc[mask, f] = np.nan\n",
    "\n",
    "  # выведем датафрейм с пропусками\n",
    "  return x_nan"
   ]
  },
  {
   "cell_type": "code",
   "execution_count": 12,
   "metadata": {
    "colab": {
     "base_uri": "https://localhost:8080/"
    },
    "id": "tF__RyIaCZZp",
    "outputId": "3ea3383b-15b8-4334-fbe6-f3a4da318027"
   },
   "outputs": [
    {
     "data": {
      "text/plain": [
       "[1, 0, 4, 9, 6]"
      ]
     },
     "execution_count": 12,
     "metadata": {},
     "output_type": "execute_result"
    }
   ],
   "source": [
    "# выведем пять чисел от 0 до 9\n",
    "random.seed(42)\n",
    "# с функцией random.sample() повторов не будет\n",
    "random.sample(range(10), 5)"
   ]
  },
  {
   "cell_type": "code",
   "execution_count": 13,
   "metadata": {
    "colab": {
     "base_uri": "https://localhost:8080/"
    },
    "id": "KREsHilO7gP4",
    "outputId": "9ec77be0-8761-41fa-ea1b-6bc89165d3a4"
   },
   "outputs": [
    {
     "data": {
      "text/plain": [
       "array([6, 3, 7, 4, 6])"
      ]
     },
     "execution_count": 13,
     "metadata": {},
     "output_type": "execute_result"
    }
   ],
   "source": [
    "# если использовать np.random.randint() будут повторы\n",
    "np.random.seed(42)\n",
    "# выберем случайным образом пять чисел от 0 до 9\n",
    "np.random.randint(0, 10, 5)"
   ]
  },
  {
   "cell_type": "code",
   "execution_count": 14,
   "metadata": {
    "colab": {
     "base_uri": "https://localhost:8080/"
    },
    "id": "euiYuez779Ow",
    "outputId": "7bfb558a-c0ad-4921-fd77-f8ac0d8dc60a"
   },
   "outputs": [
    {
     "data": {
      "text/plain": [
       "[1, 0, 4, 3, 3]"
      ]
     },
     "execution_count": 14,
     "metadata": {},
     "output_type": "execute_result"
    }
   ],
   "source": [
    "# то же самое с функцией random.choice()\n",
    "random.seed(42)\n",
    "# выберем пять случайных чисел от 0 до 9\n",
    "[random.choice(range(10)) for _ in range(5)]"
   ]
  },
  {
   "cell_type": "code",
   "execution_count": 15,
   "metadata": {
    "id": "YgpyYgubl2pd"
   },
   "outputs": [],
   "source": [
    "# создадим 20 процентов пропусков в первом столбце\n",
    "X_nan = add_nan(X_full,\n",
    "                features = [0],\n",
    "                nan_share = 0.2,\n",
    "                random_state = 42)"
   ]
  },
  {
   "cell_type": "code",
   "execution_count": 16,
   "metadata": {
    "colab": {
     "base_uri": "https://localhost:8080/",
     "height": 1000
    },
    "id": "aAniliw1Zgo1",
    "outputId": "dab45d2d-6659-4519-ef1c-2d07635490c3"
   },
   "outputs": [
    {
     "data": {
      "text/plain": [
       "mean radius                0.2\n",
       "mean texture               0.0\n",
       "mean perimeter             0.0\n",
       "mean area                  0.0\n",
       "mean smoothness            0.0\n",
       "mean compactness           0.0\n",
       "mean concavity             0.0\n",
       "mean concave points        0.0\n",
       "mean symmetry              0.0\n",
       "mean fractal dimension     0.0\n",
       "radius error               0.0\n",
       "texture error              0.0\n",
       "perimeter error            0.0\n",
       "area error                 0.0\n",
       "smoothness error           0.0\n",
       "compactness error          0.0\n",
       "concavity error            0.0\n",
       "concave points error       0.0\n",
       "symmetry error             0.0\n",
       "fractal dimension error    0.0\n",
       "worst radius               0.0\n",
       "worst texture              0.0\n",
       "worst perimeter            0.0\n",
       "worst area                 0.0\n",
       "worst smoothness           0.0\n",
       "worst compactness          0.0\n",
       "worst concavity            0.0\n",
       "worst concave points       0.0\n",
       "worst symmetry             0.0\n",
       "worst fractal dimension    0.0\n",
       "dtype: float64"
      ]
     },
     "execution_count": 16,
     "metadata": {},
     "output_type": "execute_result"
    }
   ],
   "source": [
    "# проверим результат\n",
    "(X_nan.isna().sum() / len(X_nan)).round(2)"
   ]
  },
  {
   "cell_type": "markdown",
   "metadata": {
    "id": "e-35PDxuqJ3t"
   },
   "source": [
    "### Заполнение пропусков"
   ]
  },
  {
   "cell_type": "markdown",
   "metadata": {
    "id": "kVERO2GZdyqh"
   },
   "source": [
    "Заполнение константой"
   ]
  },
  {
   "cell_type": "code",
   "execution_count": 17,
   "metadata": {
    "colab": {
     "base_uri": "https://localhost:8080/"
    },
    "id": "jp3Ql2g3lF0F",
    "outputId": "565556dd-17c2-4bbd-f537-7d4aa19b55d8"
   },
   "outputs": [
    {
     "data": {
      "text/plain": [
       "0"
      ]
     },
     "execution_count": 17,
     "metadata": {},
     "output_type": "execute_result"
    }
   ],
   "source": [
    "# скопируем датасет\n",
    "fill_const = X_nan.copy()\n",
    "# заполним пропуски нулем\n",
    "fill_const.fillna(0, inplace = True)\n",
    "# убедимся, что пропусков не осталось\n",
    "fill_const.isnull().sum().sum()"
   ]
  },
  {
   "cell_type": "markdown",
   "metadata": {
    "id": "PjNL6s7ed2_E"
   },
   "source": [
    "Заполнение медианой"
   ]
  },
  {
   "cell_type": "code",
   "execution_count": 18,
   "metadata": {
    "colab": {
     "base_uri": "https://localhost:8080/"
    },
    "id": "8FTrq7bKt0CB",
    "outputId": "25bdfe30-5d2c-4d3f-c6fb-899178343254"
   },
   "outputs": [
    {
     "data": {
      "text/plain": [
       "0"
      ]
     },
     "execution_count": 18,
     "metadata": {},
     "output_type": "execute_result"
    }
   ],
   "source": [
    "# скопируем датасет\n",
    "fill_median = X_nan.copy()\n",
    "# заполним пропуски медианой\n",
    "# по умолчанию, и .fillna(), и .median() работают со столбцами\n",
    "fill_median.fillna(fill_median.median(), inplace = True)\n",
    "# убедимся, что пропусков не осталось\n",
    "fill_const.isnull().sum().sum()"
   ]
  },
  {
   "cell_type": "markdown",
   "metadata": {
    "id": "WFSaWDsCesMA"
   },
   "source": [
    "Заполнение линейной регрессией"
   ]
  },
  {
   "cell_type": "code",
   "execution_count": 19,
   "metadata": {
    "id": "uils_pnUzOyz"
   },
   "outputs": [],
   "source": [
    "from sklearn.linear_model import LinearRegression"
   ]
  },
  {
   "cell_type": "code",
   "execution_count": null,
   "metadata": {
    "id": "6bQLg7DevXoI"
   },
   "outputs": [],
   "source": [
    "# передадим функции датафрейм, а также название столбца с пропусками\n",
    "def linreg_imputer(df, col):\n",
    "  \"\"\"Impute values by using linreg.\"\"\"\n",
    "  # обучающей выборкой будут строки без пропусков\n",
    "  train = df.dropna().copy()\n",
    "  # тестовой (или вернее выборкой для заполнения пропусков)\n",
    "  # будут те строки, в которых пропуски есть\n",
    "  test = df[df[col].isnull()].copy()\n",
    "\n",
    "  # выясним индекс столбца с пропусками\n",
    "  col_index = df.columns.get_loc(col)\n",
    "\n",
    "  # разделим \"целевую переменную\" и \"признаки\"\n",
    "  # обучающей выборки\n",
    "  y_train = train[col]\n",
    "  X_train = train.drop(col, axis = 1)\n",
    "\n",
    "  # из \"тестовой\" выборки удалим столбец с пропусками\n",
    "  test = test.drop(col, axis = 1)\n",
    "\n",
    "  # обучим модель линейной регрессии\n",
    "  model = LinearRegression()\n",
    "  model.fit(X_train, y_train)\n",
    "\n",
    "  # сделаем прогноз пропусков\n",
    "  y_pred = model.predict(test)\n",
    "  # вставим пропуски (value) на изначальное место (loc) столбца с пропусками (column)\n",
    "  test.insert(loc = col_index, column = col, value = y_pred)\n",
    "\n",
    "  # соединим датасеты и обновим индекс\n",
    "  df = pd.concat([train, test])\n",
    "  df.sort_index(inplace = True)\n",
    "\n",
    "  return df"
   ]
  },
  {
   "cell_type": "code",
   "execution_count": 21,
   "metadata": {
    "colab": {
     "base_uri": "https://localhost:8080/"
    },
    "id": "UGBbm0TaA_a_",
    "outputId": "da5ac0c3-a877-4403-f942-99965dff3894"
   },
   "outputs": [
    {
     "data": {
      "text/plain": [
       "0"
      ]
     },
     "execution_count": 21,
     "metadata": {},
     "output_type": "execute_result"
    }
   ],
   "source": [
    "fill_linreg = X_nan.copy()\n",
    "fill_linreg = linreg_imputer(X_nan, 'mean radius')\n",
    "fill_linreg.isnull().sum().sum()"
   ]
  },
  {
   "cell_type": "markdown",
   "metadata": {
    "id": "fqn6cY11N4sq"
   },
   "source": [
    "MICE"
   ]
  },
  {
   "cell_type": "code",
   "execution_count": 22,
   "metadata": {
    "id": "LGLDy8KRzcaH"
   },
   "outputs": [],
   "source": [
    "from sklearn.experimental import enable_iterative_imputer\n",
    "from sklearn.impute import IterativeImputer"
   ]
  },
  {
   "cell_type": "code",
   "execution_count": 23,
   "metadata": {
    "colab": {
     "base_uri": "https://localhost:8080/"
    },
    "id": "gFZzioGJCxp0",
    "outputId": "07f292b3-99f3-4a85-83f0-746f83501474"
   },
   "outputs": [
    {
     "data": {
      "text/plain": [
       "0"
      ]
     },
     "execution_count": 23,
     "metadata": {},
     "output_type": "execute_result"
    }
   ],
   "source": [
    "fill_mice = X_nan.copy()\n",
    "mice_imputer = IterativeImputer(initial_strategy = 'mean', # вначале заполним пропуски средним арифметическим\n",
    "                                estimator = LinearRegression(), # в качестве модели используем линейную регрессию\n",
    "                                random_state = 42 # добавим точку отсчета\n",
    "                                )\n",
    "\n",
    "# используем метод .fit_transform() для заполнения пропусков\n",
    "fill_mice = pd.DataFrame(mice_imputer.fit_transform(fill_mice), columns = fill_mice.columns)\n",
    "fill_linreg.isnull().sum().sum()"
   ]
  },
  {
   "cell_type": "markdown",
   "metadata": {
    "id": "pA5BgGpAN7At"
   },
   "source": [
    "KNNImputer"
   ]
  },
  {
   "cell_type": "code",
   "execution_count": 24,
   "metadata": {
    "id": "tvkVU_Qqzkwd"
   },
   "outputs": [],
   "source": [
    "from sklearn.impute import KNNImputer"
   ]
  },
  {
   "cell_type": "code",
   "execution_count": 25,
   "metadata": {
    "colab": {
     "base_uri": "https://localhost:8080/"
    },
    "id": "crhf0OITOuuW",
    "outputId": "eb309816-8aad-4bec-d31c-078a03707847"
   },
   "outputs": [
    {
     "data": {
      "text/plain": [
       "0"
      ]
     },
     "execution_count": 25,
     "metadata": {},
     "output_type": "execute_result"
    }
   ],
   "source": [
    "fill_knn = X_nan.copy()\n",
    "\n",
    "# используем те же параметры, что и раньше: пять \"соседей\" с одинаковыми весами\n",
    "knn_imputer = KNNImputer(n_neighbors = 5, weights = 'uniform')\n",
    "\n",
    "fill_knn = pd.DataFrame(knn_imputer.fit_transform(fill_knn), columns = fill_knn.columns)\n",
    "fill_knn.isnull().sum().sum()"
   ]
  },
  {
   "cell_type": "markdown",
   "metadata": {
    "id": "k3dltbbZwqCX"
   },
   "source": [
    "### Оценка качества"
   ]
  },
  {
   "cell_type": "code",
   "execution_count": null,
   "metadata": {
    "id": "n0KLEYk0wuL9"
   },
   "outputs": [],
   "source": [
    "# напишем функцию, которая считает сумму квадратов отклонений\n",
    "# заполненного значения от исходного\n",
    "def nan_mse(X_full, X_nan):\n",
    "  \"\"\"Calculate MSE between values.\"\"\"\n",
    "  return ((X_full - X_nan) ** 2).sum().sum().round(2)"
   ]
  },
  {
   "cell_type": "code",
   "execution_count": 27,
   "metadata": {
    "id": "7yzQSVVhZV8R"
   },
   "outputs": [],
   "source": [
    "# создадим списки с датасетами и названиями методов\n",
    "imputer = [fill_const, fill_median, fill_linreg, fill_mice, fill_knn]\n",
    "name = ['constant', 'median', 'linreg', 'MICE', 'KNNImputer']"
   ]
  },
  {
   "cell_type": "code",
   "execution_count": 28,
   "metadata": {
    "colab": {
     "base_uri": "https://localhost:8080/"
    },
    "id": "HVd4OXULzIAa",
    "outputId": "e193dc14-d57e-4fd9-9320-96ba355f04bc"
   },
   "outputs": [
    {
     "name": "stdout",
     "output_type": "stream",
     "text": [
      "constant: 122.7\n",
      "median: 137.04\n",
      "linreg: 0.03\n",
      "MICE: 0.03\n",
      "KNNImputer: 9.77\n"
     ]
    }
   ],
   "source": [
    "# в цикле оценим качество каждого из методов и выведем результат\n",
    "for i, n in zip(imputer, name):\n",
    "  score = nan_mse(X_full, i)\n",
    "  print(n + ': ' + str(score))"
   ]
  },
  {
   "cell_type": "markdown",
   "metadata": {
    "id": "4gC9zXtxYHEh"
   },
   "source": [
    "## Сериализация и десериализация"
   ]
  },
  {
   "cell_type": "markdown",
   "metadata": {
    "id": "sQTmrJvhAzzL"
   },
   "source": [
    "### JSON"
   ]
  },
  {
   "cell_type": "markdown",
   "metadata": {
    "id": "I9VqoLZ_i3qq"
   },
   "source": [
    "#### Простой пример"
   ]
  },
  {
   "cell_type": "code",
   "execution_count": 34,
   "metadata": {
    "colab": {
     "base_uri": "https://localhost:8080/"
    },
    "id": "xsRTHGYTeeNW",
    "outputId": "42550f2b-c381-46b7-b713-a42705e82493"
   },
   "outputs": [
    {
     "name": "stdout",
     "output_type": "stream",
     "text": [
      "<class 'bytes'>\n",
      "\n",
      "{'account_number': '2026047251',\n",
      " 'bank_name': 'ABC INTERNATIONAL BANK PLC',\n",
      " 'iban': 'GB92TYTK18675951823355',\n",
      " 'id': 6472,\n",
      " 'routing_number': '323690498',\n",
      " 'swift_bic': 'BRBAGB2LXXX',\n",
      " 'uid': '24c1ce6f-fd42-4277-9c92-ed3e5fb17bc2'}\n",
      "\n",
      "<class 'dict'>\n"
     ]
    }
   ],
   "source": [
    "# импортируем модуль json,\n",
    "import json\n",
    "# функцию urlopen() из модуля для работы с URL-адресами,\n",
    "from urllib.request import urlopen\n",
    "# а также функцию pprint() одноименной библиотеки\n",
    "from pprint import pprint\n",
    "\n",
    "url = 'https://random-data-api.com/api/v2/banks'\n",
    "\n",
    "# получаем ответ (response) в формате JSON\n",
    "with urlopen(url) as response:\n",
    "  # считываем его и закрываем объект response\n",
    "  data = response.read()\n",
    "\n",
    "# данные пришли в виде последовательности байтов\n",
    "print(type(data))\n",
    "print()\n",
    "# выполняем десериализацию\n",
    "output = json.loads(data)\n",
    "pprint(output)\n",
    "print()\n",
    "# и смотрим на получившийся формат\n",
    "print(type(output))"
   ]
  },
  {
   "cell_type": "markdown",
   "metadata": {
    "id": "AfrRg0r9jJ01"
   },
   "source": [
    "#### Вложенный словарь и список словарей"
   ]
  },
  {
   "cell_type": "code",
   "execution_count": 30,
   "metadata": {
    "id": "Mk17zuluZ0Hm"
   },
   "outputs": [],
   "source": [
    "# создадим вложенные словари\n",
    "sales = {\n",
    "    'PC' : {\n",
    "        'Lenovo' : 3,\n",
    "        'Apple'  : 2\n",
    "        },\n",
    "    'Phone' : {\n",
    "        'Apple': 2,\n",
    "        'Samsung': 5\n",
    "        }\n",
    "}\n",
    "\n",
    "# и список из словарей\n",
    "students = [\n",
    "    {\n",
    "        'id': 1,\n",
    "        'name': 'Alex',\n",
    "        'math': 5,\n",
    "        'computer science': 4\n",
    "     },\n",
    "     {\n",
    "        'id': 2,\n",
    "        'name': 'Mike',\n",
    "        'math': 4,\n",
    "        'computer science': 5\n",
    "      }\n",
    "]"
   ]
  },
  {
   "cell_type": "markdown",
   "metadata": {
    "id": "QfX0w7wtjQs8"
   },
   "source": [
    "#### dumps()/loads()"
   ]
  },
  {
   "cell_type": "code",
   "execution_count": 31,
   "metadata": {
    "colab": {
     "base_uri": "https://localhost:8080/"
    },
    "id": "lKjmbxzha-9a",
    "outputId": "3dd76ca2-b682-4ba6-85b2-33c04ac8f16c"
   },
   "outputs": [
    {
     "name": "stdout",
     "output_type": "stream",
     "text": [
      "{\n",
      "    \"PC\": {\n",
      "        \"Lenovo\": 3,\n",
      "        \"Apple\": 2\n",
      "    },\n",
      "    \"Phone\": {\n",
      "        \"Apple\": 2,\n",
      "        \"Samsung\": 5\n",
      "    }\n",
      "}\n",
      "<class 'str'>\n"
     ]
    }
   ],
   "source": [
    "# преобразуем вложенный словарь в JSON\n",
    "# дополнительно укажем отступ (indent)\n",
    "json_sales = json.dumps(sales, indent = 4)\n",
    "\n",
    "print(json_sales)\n",
    "print(type(json_sales))"
   ]
  },
  {
   "cell_type": "code",
   "execution_count": 32,
   "metadata": {
    "colab": {
     "base_uri": "https://localhost:8080/"
    },
    "id": "ZiUSNd1da_Fu",
    "outputId": "09aaab31-d27e-4f01-a086-8ce74efa1097"
   },
   "outputs": [
    {
     "name": "stdout",
     "output_type": "stream",
     "text": [
      "{'PC': {'Lenovo': 3, 'Apple': 2}, 'Phone': {'Apple': 2, 'Samsung': 5}}\n",
      "<class 'dict'>\n"
     ]
    }
   ],
   "source": [
    "# восстановим словарь\n",
    "sales = json.loads(json_sales)\n",
    "print(sales)\n",
    "print(type(sales))"
   ]
  },
  {
   "cell_type": "markdown",
   "metadata": {
    "id": "tDq5PzWpkIEG"
   },
   "source": [
    "#### dump()/load()"
   ]
  },
  {
   "cell_type": "code",
   "execution_count": 35,
   "metadata": {
    "id": "IcQSxzama_Iw"
   },
   "outputs": [],
   "source": [
    "# создадим файл students.json и откроем его для записи\n",
    "with open('../content/students.json', 'w') as wf:\n",
    "  # поместим туда students, преобразовав в JSON\n",
    "  json.dump(students, wf, indent = 4)"
   ]
  },
  {
   "cell_type": "code",
   "execution_count": 37,
   "metadata": {
    "id": "As_97uGLq9Bp"
   },
   "outputs": [],
   "source": [
    "# прочитаем файл из сессионного хранилища\n",
    "with open('../content/students.json', \"rb\") as rf:\n",
    "  # и преобразуем обратно в список из словарей\n",
    "  students_out = json.load(rf)"
   ]
  },
  {
   "cell_type": "code",
   "execution_count": 38,
   "metadata": {
    "colab": {
     "base_uri": "https://localhost:8080/"
    },
    "id": "8gWnribwRFlF",
    "outputId": "70d74444-0937-4abb-c36c-bf6c9658c27b"
   },
   "outputs": [
    {
     "data": {
      "text/plain": [
       "[{'id': 1, 'name': 'Alex', 'math': 5, 'computer science': 4},\n",
       " {'id': 2, 'name': 'Mike', 'math': 4, 'computer science': 5}]"
      ]
     },
     "execution_count": 38,
     "metadata": {},
     "output_type": "execute_result"
    }
   ],
   "source": [
    "students_out"
   ]
  },
  {
   "cell_type": "code",
   "execution_count": 39,
   "metadata": {
    "colab": {
     "base_uri": "https://localhost:8080/"
    },
    "id": "rXcdWO0giyMv",
    "outputId": "72bf510a-898e-44b9-b6d1-2cf020de328a"
   },
   "outputs": [
    {
     "name": "stdout",
     "output_type": "stream",
     "text": [
      "True\n",
      "False\n"
     ]
    }
   ],
   "source": [
    "# обратите внимание, результат десериализации - это новый объект\n",
    "print(students == students_out)\n",
    "print(students is students_out)"
   ]
  },
  {
   "cell_type": "markdown",
   "metadata": {
    "id": "Hpv-cuj71O-f"
   },
   "source": [
    "#### JSON и Pandas"
   ]
  },
  {
   "cell_type": "code",
   "execution_count": 41,
   "metadata": {
    "colab": {
     "base_uri": "https://localhost:8080/",
     "height": 227
    },
    "id": "7HQbzcUh2eaK",
    "outputId": "e70609bf-1ff5-41a3-93bf-d3cf88be0fb7"
   },
   "outputs": [
    {
     "data": {
      "text/html": [
       "<div>\n",
       "<style scoped>\n",
       "    .dataframe tbody tr th:only-of-type {\n",
       "        vertical-align: middle;\n",
       "    }\n",
       "\n",
       "    .dataframe tbody tr th {\n",
       "        vertical-align: top;\n",
       "    }\n",
       "\n",
       "    .dataframe thead th {\n",
       "        text-align: right;\n",
       "    }\n",
       "</style>\n",
       "<table border=\"1\" class=\"dataframe\">\n",
       "  <thead>\n",
       "    <tr style=\"text-align: right;\">\n",
       "      <th></th>\n",
       "      <th>mean radius</th>\n",
       "      <th>mean texture</th>\n",
       "      <th>mean perimeter</th>\n",
       "      <th>mean area</th>\n",
       "      <th>mean smoothness</th>\n",
       "      <th>mean compactness</th>\n",
       "      <th>mean concavity</th>\n",
       "      <th>mean concave points</th>\n",
       "      <th>mean symmetry</th>\n",
       "      <th>mean fractal dimension</th>\n",
       "      <th>...</th>\n",
       "      <th>worst radius</th>\n",
       "      <th>worst texture</th>\n",
       "      <th>worst perimeter</th>\n",
       "      <th>worst area</th>\n",
       "      <th>worst smoothness</th>\n",
       "      <th>worst compactness</th>\n",
       "      <th>worst concavity</th>\n",
       "      <th>worst concave points</th>\n",
       "      <th>worst symmetry</th>\n",
       "      <th>worst fractal dimension</th>\n",
       "    </tr>\n",
       "  </thead>\n",
       "  <tbody>\n",
       "    <tr>\n",
       "      <th>0</th>\n",
       "      <td>17.99</td>\n",
       "      <td>10.38</td>\n",
       "      <td>122.8</td>\n",
       "      <td>1001.0</td>\n",
       "      <td>0.11840</td>\n",
       "      <td>0.27760</td>\n",
       "      <td>0.3001</td>\n",
       "      <td>0.14710</td>\n",
       "      <td>0.2419</td>\n",
       "      <td>0.07871</td>\n",
       "      <td>...</td>\n",
       "      <td>25.38</td>\n",
       "      <td>17.33</td>\n",
       "      <td>184.6</td>\n",
       "      <td>2019.0</td>\n",
       "      <td>0.1622</td>\n",
       "      <td>0.6656</td>\n",
       "      <td>0.7119</td>\n",
       "      <td>0.2654</td>\n",
       "      <td>0.4601</td>\n",
       "      <td>0.11890</td>\n",
       "    </tr>\n",
       "    <tr>\n",
       "      <th>1</th>\n",
       "      <td>20.57</td>\n",
       "      <td>17.77</td>\n",
       "      <td>132.9</td>\n",
       "      <td>1326.0</td>\n",
       "      <td>0.08474</td>\n",
       "      <td>0.07864</td>\n",
       "      <td>0.0869</td>\n",
       "      <td>0.07017</td>\n",
       "      <td>0.1812</td>\n",
       "      <td>0.05667</td>\n",
       "      <td>...</td>\n",
       "      <td>24.99</td>\n",
       "      <td>23.41</td>\n",
       "      <td>158.8</td>\n",
       "      <td>1956.0</td>\n",
       "      <td>0.1238</td>\n",
       "      <td>0.1866</td>\n",
       "      <td>0.2416</td>\n",
       "      <td>0.1860</td>\n",
       "      <td>0.2750</td>\n",
       "      <td>0.08902</td>\n",
       "    </tr>\n",
       "    <tr>\n",
       "      <th>2</th>\n",
       "      <td>19.69</td>\n",
       "      <td>21.25</td>\n",
       "      <td>130.0</td>\n",
       "      <td>1203.0</td>\n",
       "      <td>0.10960</td>\n",
       "      <td>0.15990</td>\n",
       "      <td>0.1974</td>\n",
       "      <td>0.12790</td>\n",
       "      <td>0.2069</td>\n",
       "      <td>0.05999</td>\n",
       "      <td>...</td>\n",
       "      <td>23.57</td>\n",
       "      <td>25.53</td>\n",
       "      <td>152.5</td>\n",
       "      <td>1709.0</td>\n",
       "      <td>0.1444</td>\n",
       "      <td>0.4245</td>\n",
       "      <td>0.4504</td>\n",
       "      <td>0.2430</td>\n",
       "      <td>0.3613</td>\n",
       "      <td>0.08758</td>\n",
       "    </tr>\n",
       "  </tbody>\n",
       "</table>\n",
       "<p>3 rows × 30 columns</p>\n",
       "</div>"
      ],
      "text/plain": [
       "   mean radius  mean texture  mean perimeter  mean area  mean smoothness  \\\n",
       "0        17.99         10.38           122.8     1001.0          0.11840   \n",
       "1        20.57         17.77           132.9     1326.0          0.08474   \n",
       "2        19.69         21.25           130.0     1203.0          0.10960   \n",
       "\n",
       "   mean compactness  mean concavity  mean concave points  mean symmetry  \\\n",
       "0           0.27760          0.3001              0.14710         0.2419   \n",
       "1           0.07864          0.0869              0.07017         0.1812   \n",
       "2           0.15990          0.1974              0.12790         0.2069   \n",
       "\n",
       "   mean fractal dimension  ...  worst radius  worst texture  worst perimeter  \\\n",
       "0                 0.07871  ...         25.38          17.33            184.6   \n",
       "1                 0.05667  ...         24.99          23.41            158.8   \n",
       "2                 0.05999  ...         23.57          25.53            152.5   \n",
       "\n",
       "   worst area  worst smoothness  worst compactness  worst concavity  \\\n",
       "0      2019.0            0.1622             0.6656           0.7119   \n",
       "1      1956.0            0.1238             0.1866           0.2416   \n",
       "2      1709.0            0.1444             0.4245           0.4504   \n",
       "\n",
       "   worst concave points  worst symmetry  worst fractal dimension  \n",
       "0                0.2654          0.4601                  0.11890  \n",
       "1                0.1860          0.2750                  0.08902  \n",
       "2                0.2430          0.3613                  0.08758  \n",
       "\n",
       "[3 rows x 30 columns]"
      ]
     },
     "execution_count": 41,
     "metadata": {},
     "output_type": "execute_result"
    }
   ],
   "source": [
    "# импортируем датасет и преобразуем в датафрейм\n",
    "from sklearn.datasets import load_breast_cancer\n",
    "cancer, _ = load_breast_cancer(return_X_y = True, as_frame = True)\n",
    "\n",
    "# создадим JSON-файл, поместим его в сессионное хранилище\n",
    "cancer.to_json('../content/cancer.json')\n",
    "\n",
    "# и сразу импортируем его и создадим датафрейм\n",
    "pd.read_json('../content/cancer.json').head(3)"
   ]
  },
  {
   "cell_type": "markdown",
   "metadata": {
    "id": "yHUSMa31Jq-w"
   },
   "source": [
    "### pickle"
   ]
  },
  {
   "cell_type": "code",
   "execution_count": 42,
   "metadata": {
    "id": "2M4MYDTZAy5v"
   },
   "outputs": [],
   "source": [
    "import pickle"
   ]
  },
  {
   "cell_type": "markdown",
   "metadata": {
    "id": "yeJVrruBJ-We"
   },
   "source": [
    "#### dumps()/loads()"
   ]
  },
  {
   "cell_type": "code",
   "execution_count": 43,
   "metadata": {
    "colab": {
     "base_uri": "https://localhost:8080/"
    },
    "id": "Cvs7Nsp53uhO",
    "outputId": "5c90cd67-fae1-4823-f152-da87d3a5da7f"
   },
   "outputs": [
    {
     "name": "stdout",
     "output_type": "stream",
     "text": [
      "b'\\x80\\x04\\x95?\\x00\\x00\\x00\\x00\\x00\\x00\\x00}\\x94(\\x8c\\x02PC\\x94}\\x94(\\x8c\\x06Lenovo\\x94K\\x03\\x8c\\x05Apple\\x94K\\x02u\\x8c\\x05Phone\\x94}\\x94(h\\x04K\\x02\\x8c\\x07Samsung\\x94K\\x05uu.'\n",
      "<class 'bytes'>\n"
     ]
    }
   ],
   "source": [
    "# создадим объект pickle\n",
    "sales_pickle = pickle.dumps(sales)\n",
    "\n",
    "\n",
    "print(sales_pickle)\n",
    "print(type(sales_pickle))"
   ]
  },
  {
   "cell_type": "code",
   "execution_count": 44,
   "metadata": {
    "colab": {
     "base_uri": "https://localhost:8080/"
    },
    "id": "x-i75_uZAzyt",
    "outputId": "c526a7cb-ee23-447d-afbb-8e1de18b9170"
   },
   "outputs": [
    {
     "name": "stdout",
     "output_type": "stream",
     "text": [
      "{'PC': {'Lenovo': 3, 'Apple': 2}, 'Phone': {'Apple': 2, 'Samsung': 5}}\n",
      "<class 'dict'>\n"
     ]
    }
   ],
   "source": [
    "# восстановим исходный тип данных\n",
    "sales_out = pickle.loads(sales_pickle)\n",
    "\n",
    "print(sales_out)\n",
    "print(type(sales_out))"
   ]
  },
  {
   "cell_type": "code",
   "execution_count": 45,
   "metadata": {
    "colab": {
     "base_uri": "https://localhost:8080/"
    },
    "id": "bDkOSg7ZVJ8q",
    "outputId": "f4b9dba6-f9f0-4f9d-92d5-eff054eced22"
   },
   "outputs": [
    {
     "name": "stdout",
     "output_type": "stream",
     "text": [
      "True\n",
      "False\n"
     ]
    }
   ],
   "source": [
    "# результат десериализации - также новый объект\n",
    "print(sales == sales_out)\n",
    "print(sales is sales_out)"
   ]
  },
  {
   "cell_type": "markdown",
   "metadata": {
    "id": "DTWUBLG3KDRw"
   },
   "source": [
    "#### dump()/load()"
   ]
  },
  {
   "cell_type": "code",
   "execution_count": null,
   "metadata": {
    "id": "9D2H2h1_BqbK"
   },
   "outputs": [],
   "source": [
    "# создадим файл students.p\n",
    "# и откроем его для записи в бинарном формате (wb)\n",
    "with open('../content/students.p', 'wb') as wf:\n",
    "  # поместим туда объект pickle\n",
    "  pickle.dump(students, wf)"
   ]
  },
  {
   "cell_type": "code",
   "execution_count": 49,
   "metadata": {
    "id": "hSoBViZ-B1xZ"
   },
   "outputs": [],
   "source": [
    "# достанем этот файл из сессионного хранилища\n",
    "# и откроем для чтения в бинарном формате (rb)\n",
    "with open('../content/students.p', 'rb') as rf:\n",
    "  students_out = pickle.load(rf)"
   ]
  },
  {
   "cell_type": "code",
   "execution_count": null,
   "metadata": {
    "colab": {
     "base_uri": "https://localhost:8080/"
    },
    "id": "OwwPKPinB-Nd",
    "outputId": "719dc239-e38c-4b8e-b798-6d6e54fccb41"
   },
   "outputs": [
    {
     "data": {
      "text/plain": [
       "[{'id': 1, 'name': 'Alex', 'math': 5, 'computer science': 4},\n",
       " {'id': 2, 'name': 'Mike', 'math': 4, 'computer science': 5}]"
      ]
     },
     "execution_count": 153,
     "metadata": {},
     "output_type": "execute_result"
    }
   ],
   "source": [
    "# выведем результат\n",
    "students_out"
   ]
  },
  {
   "cell_type": "markdown",
   "metadata": {
    "id": "ya7C2_-SKNoR"
   },
   "source": [
    "#### Собственные объекты"
   ]
  },
  {
   "cell_type": "markdown",
   "metadata": {
    "id": "Mi-8Xu53mnme"
   },
   "source": [
    "Функции"
   ]
  },
  {
   "cell_type": "code",
   "execution_count": null,
   "metadata": {
    "colab": {
     "base_uri": "https://localhost:8080/"
    },
    "id": "eyO-L6IHUrvX",
    "outputId": "2a491c16-ebb7-442b-bd15-b66d89452fa8"
   },
   "outputs": [
    {
     "name": "stdout",
     "output_type": "stream",
     "text": [
      "Some function!\n"
     ]
    }
   ],
   "source": [
    "# создадим функцию, которая будет выводить надпись \"Some function!\"\n",
    "def foo():\n",
    "  \"\"\"Print value.\"\"\"\n",
    "  print('Some function!')\n",
    "\n",
    "# преобразуем эту функцию в объект Pickle\n",
    "foo_pickle = pickle.dumps(foo)\n",
    "\n",
    "# десериализуем и\n",
    "foo_out = pickle.loads(foo_pickle)\n",
    "\n",
    "# вызовем ее\n",
    "foo_out()"
   ]
  },
  {
   "cell_type": "markdown",
   "metadata": {
    "id": "XCdqg1IImsIj"
   },
   "source": [
    "Классы"
   ]
  },
  {
   "cell_type": "code",
   "execution_count": null,
   "metadata": {
    "id": "WUl24yGrKQMa"
   },
   "outputs": [],
   "source": [
    "# создадим класс и объект этого класса\n",
    "class CatClass:\n",
    "  \"\"\"Definition of Cat class.\"\"\"\n",
    "\n",
    "  def __init__(self, color):\n",
    "    \"\"\"Initialize default parameters.\"\"\"\n",
    "    self.color = color\n",
    "    self.type_ = 'cat'\n",
    "\n",
    "Matroskin = CatClass('gray')"
   ]
  },
  {
   "cell_type": "code",
   "execution_count": 52,
   "metadata": {
    "id": "jXL6IIfoSJys"
   },
   "outputs": [],
   "source": [
    "# сериализуем класс в объект Pickle и поместим в файл\n",
    "with open('cat_instance.pkl', 'wb') as wf:\n",
    "  pickle.dump(Matroskin, wf)"
   ]
  },
  {
   "cell_type": "code",
   "execution_count": 53,
   "metadata": {
    "id": "NAz0OeIfR_TH"
   },
   "outputs": [],
   "source": [
    "# достанем из файла и десериализуем\n",
    "with open('cat_instance.pkl', 'rb') as rf:\n",
    "  Matroskin_out = pickle.load(rf)"
   ]
  },
  {
   "cell_type": "code",
   "execution_count": 54,
   "metadata": {
    "colab": {
     "base_uri": "https://localhost:8080/"
    },
    "id": "VTE61Dr4SW_n",
    "outputId": "d8f41726-f233-4d2f-ea35-9411d35c2e7c"
   },
   "outputs": [
    {
     "data": {
      "text/plain": [
       "('gray', 'cat')"
      ]
     },
     "execution_count": 54,
     "metadata": {},
     "output_type": "execute_result"
    }
   ],
   "source": [
    "# выведем атрибуты созданного нами объекта класса\n",
    "Matroskin_out.color, Matroskin_out.type_"
   ]
  },
  {
   "cell_type": "markdown",
   "metadata": {
    "id": "UcJ2LHDMKR50"
   },
   "source": [
    "### Сохраняемость ML-модели"
   ]
  },
  {
   "cell_type": "code",
   "execution_count": 55,
   "metadata": {
    "id": "-fRzQZ2nKUAp"
   },
   "outputs": [],
   "source": [
    "# импортируем датасет о раке груди\n",
    "X, y = load_breast_cancer(return_X_y = True, as_frame = True)\n",
    "\n",
    "# импортируем класс для масштабирования данных,\n",
    "from sklearn.preprocessing import MinMaxScaler\n",
    "# функцию для разделения выборки на обучающую и тестовую части,\n",
    "from sklearn.model_selection import train_test_split\n",
    "# класс логистической регрессии\n",
    "from sklearn.linear_model import LogisticRegression\n",
    "\n",
    "# разделим выборку\n",
    "X_train, X_test, y_train, y_test = train_test_split(X, y,\n",
    "                                                    test_size = 0.30,\n",
    "                                                    random_state = 42)\n",
    "\n",
    "# создадим объект класса MinMaxScaler\n",
    "scaler = MinMaxScaler()\n",
    "\n",
    "# масштабируем обучающую выборку\n",
    "X_train_scaled = scaler.fit_transform(X_train)\n",
    "\n",
    "# обучим модель на масштабированных train данных\n",
    "model = LogisticRegression(random_state = 42).fit(X_train_scaled, y_train)\n",
    "\n",
    "# используем минимальное и максимальное значения\n",
    "# обучающей выборки для масштабирования тестовых данных\n",
    "X_test_scaled = scaler.transform(X_test)\n",
    "\n",
    "# сделаем прогноз\n",
    "y_pred = model.predict(X_test_scaled)"
   ]
  },
  {
   "cell_type": "code",
   "execution_count": 56,
   "metadata": {
    "colab": {
     "base_uri": "https://localhost:8080/",
     "height": 125
    },
    "id": "ZI20YnBSOQY3",
    "outputId": "9406fe6b-4761-4a07-ca14-09647e0430fa"
   },
   "outputs": [
    {
     "data": {
      "text/html": [
       "<div>\n",
       "<style scoped>\n",
       "    .dataframe tbody tr th:only-of-type {\n",
       "        vertical-align: middle;\n",
       "    }\n",
       "\n",
       "    .dataframe tbody tr th {\n",
       "        vertical-align: top;\n",
       "    }\n",
       "\n",
       "    .dataframe thead th {\n",
       "        text-align: right;\n",
       "    }\n",
       "</style>\n",
       "<table border=\"1\" class=\"dataframe\">\n",
       "  <thead>\n",
       "    <tr style=\"text-align: right;\">\n",
       "      <th></th>\n",
       "      <th>0</th>\n",
       "      <th>1</th>\n",
       "    </tr>\n",
       "  </thead>\n",
       "  <tbody>\n",
       "    <tr>\n",
       "      <th>0</th>\n",
       "      <td>107</td>\n",
       "      <td>1</td>\n",
       "    </tr>\n",
       "    <tr>\n",
       "      <th>1</th>\n",
       "      <td>5</td>\n",
       "      <td>58</td>\n",
       "    </tr>\n",
       "  </tbody>\n",
       "</table>\n",
       "</div>"
      ],
      "text/plain": [
       "     0   1\n",
       "0  107   1\n",
       "1    5  58"
      ]
     },
     "execution_count": 56,
     "metadata": {},
     "output_type": "execute_result"
    }
   ],
   "source": [
    "# импортируем функцию для создания матрицы ошибок\n",
    "from sklearn.metrics import confusion_matrix\n",
    "\n",
    "# передадим матрице тестовые и прогнозные значения\n",
    "# поменяем порядок так, чтобы злокачественные опухоли были положительным классом\n",
    "model_matrix = confusion_matrix(y_test, y_pred, labels = [1,0])\n",
    "\n",
    "# для удобства создадим датафрейм\n",
    "model_matrix_df = pd.DataFrame(model_matrix)\n",
    "model_matrix_df"
   ]
  },
  {
   "cell_type": "code",
   "execution_count": 57,
   "metadata": {
    "colab": {
     "base_uri": "https://localhost:8080/"
    },
    "id": "-gb6gathOVWM",
    "outputId": "3d2fd094-4192-4ad2-c633-52819a85094e"
   },
   "outputs": [
    {
     "data": {
      "text/plain": [
       "0.96"
      ]
     },
     "execution_count": 57,
     "metadata": {},
     "output_type": "execute_result"
    }
   ],
   "source": [
    "from sklearn.metrics import accuracy_score\n",
    "\n",
    "# рассчитаем accuracy\n",
    "np.round(accuracy_score(y_test, y_pred), 2)"
   ]
  },
  {
   "cell_type": "code",
   "execution_count": 58,
   "metadata": {
    "id": "qgU3WLctOkYl"
   },
   "outputs": [],
   "source": [
    "# сериализуем и\n",
    "with open('model.pickle', 'wb') as wf:\n",
    "  pickle.dump(model, wf)"
   ]
  },
  {
   "cell_type": "code",
   "execution_count": 59,
   "metadata": {
    "id": "e1NXFG03T6ve"
   },
   "outputs": [],
   "source": [
    "# десериализуем модель\n",
    "with open('model.pickle', 'rb') as rf:\n",
    "  model_out = pickle.load(rf)"
   ]
  },
  {
   "cell_type": "code",
   "execution_count": 60,
   "metadata": {
    "colab": {
     "base_uri": "https://localhost:8080/",
     "height": 125
    },
    "id": "-iEU9cf0PIMe",
    "outputId": "205efaba-33f1-4896-f093-9898ac2e221a"
   },
   "outputs": [
    {
     "data": {
      "text/html": [
       "<div>\n",
       "<style scoped>\n",
       "    .dataframe tbody tr th:only-of-type {\n",
       "        vertical-align: middle;\n",
       "    }\n",
       "\n",
       "    .dataframe tbody tr th {\n",
       "        vertical-align: top;\n",
       "    }\n",
       "\n",
       "    .dataframe thead th {\n",
       "        text-align: right;\n",
       "    }\n",
       "</style>\n",
       "<table border=\"1\" class=\"dataframe\">\n",
       "  <thead>\n",
       "    <tr style=\"text-align: right;\">\n",
       "      <th></th>\n",
       "      <th>0</th>\n",
       "      <th>1</th>\n",
       "    </tr>\n",
       "  </thead>\n",
       "  <tbody>\n",
       "    <tr>\n",
       "      <th>0</th>\n",
       "      <td>107</td>\n",
       "      <td>1</td>\n",
       "    </tr>\n",
       "    <tr>\n",
       "      <th>1</th>\n",
       "      <td>5</td>\n",
       "      <td>58</td>\n",
       "    </tr>\n",
       "  </tbody>\n",
       "</table>\n",
       "</div>"
      ],
      "text/plain": [
       "     0   1\n",
       "0  107   1\n",
       "1    5  58"
      ]
     },
     "execution_count": 60,
     "metadata": {},
     "output_type": "execute_result"
    }
   ],
   "source": [
    "# сделаем прогноз на десериализованной модели\n",
    "# (напомню, это другой объект)\n",
    "y_pred_out = model_out.predict(X_test_scaled)\n",
    "\n",
    "# убедимся, что десериализованная модель покажет такой же результат\n",
    "model_matrix = confusion_matrix(y_test, y_pred_out, labels = [1,0])\n",
    "\n",
    "model_matrix_df = pd.DataFrame(model_matrix)\n",
    "model_matrix_df"
   ]
  },
  {
   "cell_type": "code",
   "execution_count": 61,
   "metadata": {
    "colab": {
     "base_uri": "https://localhost:8080/"
    },
    "id": "N-y1tTTJURJ7",
    "outputId": "3d9d4cbe-ef3d-42a4-cbdc-52854d501285"
   },
   "outputs": [
    {
     "data": {
      "text/plain": [
       "0.96"
      ]
     },
     "execution_count": 61,
     "metadata": {},
     "output_type": "execute_result"
    }
   ],
   "source": [
    "np.round(accuracy_score(y_test, y_pred), 2)"
   ]
  },
  {
   "cell_type": "code",
   "execution_count": null,
   "metadata": {
    "id": "TSSOC5y-JyMF"
   },
   "outputs": [],
   "source": []
  }
 ],
 "metadata": {
  "colab": {
   "provenance": [],
   "toc_visible": true
  },
  "kernelspec": {
   "display_name": "myenv",
   "language": "python",
   "name": "python3"
  },
  "language_info": {
   "codemirror_mode": {
    "name": "ipython",
    "version": 3
   },
   "file_extension": ".py",
   "mimetype": "text/x-python",
   "name": "python",
   "nbconvert_exporter": "python",
   "pygments_lexer": "ipython3",
   "version": "3.10.14"
  }
 },
 "nbformat": 4,
 "nbformat_minor": 0
}
