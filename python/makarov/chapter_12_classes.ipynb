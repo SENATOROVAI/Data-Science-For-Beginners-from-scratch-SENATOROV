{
 "cells": [
  {
   "cell_type": "code",
   "execution_count": 1,
   "metadata": {},
   "outputs": [
    {
     "data": {
      "text/plain": [
       "'Classes.'"
      ]
     },
     "execution_count": 1,
     "metadata": {},
     "output_type": "execute_result"
    }
   ],
   "source": [
    "\"\"\"Classes.\"\"\""
   ]
  },
  {
   "cell_type": "markdown",
   "metadata": {
    "id": "0AoPSXyUTTLc"
   },
   "source": [
    "## Классы и объекты в Питоне"
   ]
  },
  {
   "cell_type": "markdown",
   "metadata": {
    "id": "lIM5gFo4TbUg"
   },
   "source": [
    "### Создание класса"
   ]
  },
  {
   "cell_type": "markdown",
   "metadata": {
    "id": "RROZUPzwm4rK"
   },
   "source": [
    "#### Создание класса и метод `.__init__()`"
   ]
  },
  {
   "cell_type": "code",
   "execution_count": null,
   "metadata": {
    "id": "QGswhMFMno7-"
   },
   "outputs": [],
   "source": [
    "# создадим класс CatClass\n",
    "# нашему классу понадобится Numpy\n",
    "# массивом Numpy и другими объектами\n",
    "\n",
    "\n",
    "class CatClass:\n",
    "    \"\"\"Basic cat class.\"\"\"\n",
    "\n",
    "    def __init__(self) -> None:\n",
    "        \"\"\"Initialize empty cat instance.\"\"\"\n",
    "        pass  # pylint: disable=unnecessary-pass"
   ]
  },
  {
   "cell_type": "markdown",
   "metadata": {
    "id": "qIIzZD65n1Mh"
   },
   "source": [
    "#### Создание объекта"
   ]
  },
  {
   "cell_type": "code",
   "execution_count": 3,
   "metadata": {
    "colab": {
     "base_uri": "https://localhost:8080/",
     "height": 104
    },
    "id": "pERZ4ZQonsJB",
    "outputId": "ec41568f-3897-4c9f-e23f-2a65ecb4d894"
   },
   "outputs": [
    {
     "data": {
      "text/plain": [
       "__main__.CatClass"
      ]
     },
     "execution_count": 3,
     "metadata": {},
     "output_type": "execute_result"
    }
   ],
   "source": [
    "# создадим объект Matroskin класса CatClass\n",
    "Matroskin = CatClass()\n",
    "\n",
    "# проверим тип данных созданной переменной\n",
    "type(Matroskin)"
   ]
  },
  {
   "cell_type": "markdown",
   "metadata": {
    "id": "1DUEgzmJn6_h"
   },
   "source": [
    "#### Атрибуты класса"
   ]
  },
  {
   "cell_type": "code",
   "execution_count": 4,
   "metadata": {
    "id": "0mQE6dKcwIjD"
   },
   "outputs": [],
   "source": [
    "# вновь создадим класс CatClass\n",
    "\n",
    "\n",
    "class CatClass2:\n",
    "    \"\"\"Class representing a cat with color and type attributes.\"\"\"\n",
    "\n",
    "    def __init__(self, color: str) -> None:\n",
    "        \"\"\"Initialize cat with given color.\"\"\"\n",
    "        # этот параметр будет записан в переменную атрибута self.color\n",
    "        self.color: str = color\n",
    "\n",
    "        # значение атрибута type_ задается внутри класса\n",
    "        self.type_: str = \"cat\""
   ]
  },
  {
   "cell_type": "code",
   "execution_count": 5,
   "metadata": {
    "colab": {
     "base_uri": "https://localhost:8080/"
    },
    "id": "CXFmjySeEJ59",
    "outputId": "63e1955b-c1e7-43e1-d5d0-f077bfead122"
   },
   "outputs": [
    {
     "name": "stdout",
     "output_type": "stream",
     "text": [
      "gray cat\n"
     ]
    }
   ],
   "source": [
    "# повторно создадим объект класса CatClass, передав ему параметр цвета шерсти\n",
    "Matroskin2 = CatClass2(\"gray\")\n",
    "\n",
    "# и выведем атрибуты класса\n",
    "print(Matroskin2.color, Matroskin2.type_)"
   ]
  },
  {
   "cell_type": "markdown",
   "metadata": {
    "id": "lm6DQjYEWR-M"
   },
   "source": [
    "#### Методы класса"
   ]
  },
  {
   "cell_type": "code",
   "execution_count": 6,
   "metadata": {
    "id": "KYAGXaEaWXGt"
   },
   "outputs": [],
   "source": [
    "# перепишем класс CatClass\n",
    "\n",
    "\n",
    "class CatClass3:\n",
    "    \"\"\"A class representing a cat with color and type.\"\"\"\n",
    "\n",
    "    # метод .__init__() и атрибуты оставим без изменений\n",
    "    def __init__(self, color: str) -> None:\n",
    "        \"\"\"Initialize cat with given color.\"\"\"\n",
    "        self.color = color\n",
    "        self.type_ = \"cat\"\n",
    "\n",
    "    # однако добавим метод, который позволит коту мяукать\n",
    "    def meow(self) -> None:\n",
    "        \"\"\"Make the cat meow three times.\"\"\"\n",
    "        for _ in range(3):\n",
    "            print(\"Мяу\")\n",
    "\n",
    "    # и метод .info() для вывода информации об объекте\n",
    "    def info(self) -> None:\n",
    "        \"\"\"Print the cat's color and type.\"\"\"\n",
    "        print(self.color, self.type_)"
   ]
  },
  {
   "cell_type": "code",
   "execution_count": 7,
   "metadata": {
    "id": "pwOtF86Na8Tm"
   },
   "outputs": [],
   "source": [
    "# создадим объект\n",
    "Matroskin3 = CatClass3(\"gray\")"
   ]
  },
  {
   "cell_type": "code",
   "execution_count": 8,
   "metadata": {
    "colab": {
     "base_uri": "https://localhost:8080/"
    },
    "id": "5wKGe_KEcq9C",
    "outputId": "7faf0fa9-83e6-4879-e9ee-451f67b99dc3"
   },
   "outputs": [
    {
     "name": "stdout",
     "output_type": "stream",
     "text": [
      "Мяу\n",
      "Мяу\n",
      "Мяу\n"
     ]
    }
   ],
   "source": [
    "# применим метод .meow()\n",
    "Matroskin3.meow()"
   ]
  },
  {
   "cell_type": "code",
   "execution_count": 9,
   "metadata": {
    "colab": {
     "base_uri": "https://localhost:8080/"
    },
    "id": "01l4yJA17k9d",
    "outputId": "f8831b06-b408-41dd-bdf1-cedd0ef17d84"
   },
   "outputs": [
    {
     "name": "stdout",
     "output_type": "stream",
     "text": [
      "gray cat\n"
     ]
    }
   ],
   "source": [
    "# и метод .info()\n",
    "Matroskin3.info()"
   ]
  },
  {
   "cell_type": "markdown",
   "metadata": {
    "id": "7o5fPMtonH0V"
   },
   "source": [
    "### Принципы ООП"
   ]
  },
  {
   "cell_type": "markdown",
   "metadata": {
    "id": "LG0BiM5PgxYR"
   },
   "source": [
    "#### Инкапсуляция"
   ]
  },
  {
   "cell_type": "code",
   "execution_count": 10,
   "metadata": {
    "colab": {
     "base_uri": "https://localhost:8080/",
     "height": 35
    },
    "id": "X0HiYZq0Rmnd",
    "outputId": "21e52d6a-c48c-475e-f9d8-52ab960961da"
   },
   "outputs": [
    {
     "data": {
      "text/plain": [
       "'dog'"
      ]
     },
     "execution_count": 10,
     "metadata": {},
     "output_type": "execute_result"
    }
   ],
   "source": [
    "# изменим атрибут type_ объекта Matroskin на dog\n",
    "Matroskin3.type_ = \"dog\"\n",
    "\n",
    "# выведем этот атрибут\n",
    "Matroskin3.type_"
   ]
  },
  {
   "cell_type": "code",
   "execution_count": 11,
   "metadata": {
    "id": "_Un9fShyWILH"
   },
   "outputs": [],
   "source": [
    "class CatClass4:\n",
    "    \"\"\"A cat with color and type.\"\"\"\n",
    "\n",
    "    def __init__(self, color: str) -> None:\n",
    "        \"\"\"Initialize cat with color.\"\"\"\n",
    "        self.color = color\n",
    "        # символ подчеркивания ПЕРЕД названием атрибута указывает,\n",
    "        # что это частный атрибут и изменять его не стоит\n",
    "        self._type_: str = \"cat\""
   ]
  },
  {
   "cell_type": "code",
   "execution_count": 12,
   "metadata": {
    "colab": {
     "base_uri": "https://localhost:8080/",
     "height": 35
    },
    "id": "YmpfrLukW4sm",
    "outputId": "d1f43282-6ddf-4054-aac7-82b75041450e"
   },
   "outputs": [],
   "source": [
    "# вновь создадим объект класса CatClass\n",
    "Matroskin4 = CatClass4(\"gray\")\n",
    "\n",
    "# и изменим значение атрибута _type_\n",
    "# Matroskin4._type_ = \"dog\"\n",
    "# Matroskin4._type_"
   ]
  },
  {
   "cell_type": "code",
   "execution_count": 13,
   "metadata": {
    "id": "GqU88qogZ8_B"
   },
   "outputs": [],
   "source": [
    "class CatClass5:\n",
    "    \"\"\"A cat with color and protected type.\"\"\"\n",
    "\n",
    "    def __init__(self, color: str) -> None:\n",
    "        \"\"\"Initialize cat with color.\"\"\"\n",
    "        self.color = color\n",
    "        # символ двойного подчеркивания предотвратит доступ извне\n",
    "        # self.__type_: str = \"cat\""
   ]
  },
  {
   "cell_type": "code",
   "execution_count": 14,
   "metadata": {
    "id": "2O1GUso6aG4C"
   },
   "outputs": [],
   "source": [
    "# при попытке вызова такого атрибута Питон выдаст ошибку\n",
    "Matroskin5 = CatClass5(\"gray\")\n",
    "# Matroskin5.__type_"
   ]
  },
  {
   "cell_type": "code",
   "execution_count": 15,
   "metadata": {
    "colab": {
     "base_uri": "https://localhost:8080/",
     "height": 35
    },
    "id": "gqsNNuRiaHBr",
    "outputId": "4a011366-bbe1-4668-ba86-9a3774713d71"
   },
   "outputs": [],
   "source": [
    "# поставим _CatClass перед __type_\n",
    "# Matroskin5._CatClass__type_ = \"dog\"\n",
    "\n",
    "# к сожалению, значение атрибута изменится\n",
    "# Matroskin5._CatClass__type_"
   ]
  },
  {
   "cell_type": "markdown",
   "metadata": {
    "id": "33PlUWogG2HN"
   },
   "source": [
    "#### Наследование классов"
   ]
  },
  {
   "cell_type": "markdown",
   "metadata": {
    "id": "e-NaY_Yd4l5h"
   },
   "source": [
    "Создание родительского класса и класса-потомка"
   ]
  },
  {
   "cell_type": "code",
   "execution_count": 16,
   "metadata": {
    "id": "HS-07E-6Vc6Q"
   },
   "outputs": [],
   "source": [
    "# создадим класс Animal\n",
    "\n",
    "\n",
    "class Animal:\n",
    "    \"\"\"Animal with weight and length.\"\"\"\n",
    "\n",
    "    # пропишем метод .__init__() с двумя параметрами: вес (кг) и длина (см)\n",
    "    def __init__(self, weight: float, length: float) -> None:\n",
    "        \"\"\"Initialize animal with weight and length.\"\"\"\n",
    "        # поместим аргументы этих параметров в соответствующие переменные\n",
    "        self.weight = weight\n",
    "        self.length = length\n",
    "\n",
    "    # объявим методы .eat()\n",
    "    def eat(self) -> None:\n",
    "        \"\"\"Make animal eat.\"\"\"\n",
    "        print(\"Eating\")\n",
    "\n",
    "    # и .sleep()\n",
    "    def sleep(self) -> None:\n",
    "        \"\"\"Make animal sleep.\"\"\"\n",
    "        print(\"Sleeping\")"
   ]
  },
  {
   "cell_type": "code",
   "execution_count": 17,
   "metadata": {
    "id": "lABQGZSoCF0Y"
   },
   "outputs": [],
   "source": [
    "# создадим класс Bird\n",
    "# родительский класс Animal пропишем в скобках\n",
    "\n",
    "\n",
    "class Bird(Animal):\n",
    "    \"\"\"Bird that can fly.\"\"\"\n",
    "\n",
    "    # внутри класса Bird объявим новый метод .move()\n",
    "    def move(self) -> None:\n",
    "        \"\"\"Make bird fly.\"\"\"\n",
    "        # для птиц .move() будет означать \"летать\"\n",
    "        print(\"Flying\")"
   ]
  },
  {
   "cell_type": "code",
   "execution_count": 18,
   "metadata": {
    "id": "RzdouKGtCQMP"
   },
   "outputs": [],
   "source": [
    "# создадим объект pigeon и передадим ему значения веса и длины\n",
    "pigeon = Bird(0.3, 30)"
   ]
  },
  {
   "cell_type": "code",
   "execution_count": 19,
   "metadata": {
    "colab": {
     "base_uri": "https://localhost:8080/"
    },
    "id": "YGwcXdjWCcDd",
    "outputId": "ed5ba623-7a25-4989-8575-b0b828fd32b1"
   },
   "outputs": [
    {
     "name": "stdout",
     "output_type": "stream",
     "text": [
      "0.3 30\n"
     ]
    }
   ],
   "source": [
    "# посмотрим на унаследованные у класса Animal атрибуты\n",
    "print(pigeon.weight, pigeon.length)"
   ]
  },
  {
   "cell_type": "code",
   "execution_count": 20,
   "metadata": {
    "colab": {
     "base_uri": "https://localhost:8080/"
    },
    "id": "8wX-Bo_fCcP7",
    "outputId": "f81e094f-0fc7-495f-d361-6ae2089af75f"
   },
   "outputs": [
    {
     "name": "stdout",
     "output_type": "stream",
     "text": [
      "Eating\n"
     ]
    }
   ],
   "source": [
    "# и методы\n",
    "pigeon.eat()"
   ]
  },
  {
   "cell_type": "code",
   "execution_count": 21,
   "metadata": {
    "colab": {
     "base_uri": "https://localhost:8080/"
    },
    "id": "d6HH0FwrCw90",
    "outputId": "392ed579-8f16-485b-cb46-1fc8a1622756"
   },
   "outputs": [
    {
     "name": "stdout",
     "output_type": "stream",
     "text": [
      "Flying\n"
     ]
    }
   ],
   "source": [
    "# теперь вызовем метод, свойственный только классу Bird\n",
    "pigeon.move()"
   ]
  },
  {
   "cell_type": "markdown",
   "metadata": {
    "id": "z9yL5WN2C_Qi"
   },
   "source": [
    "Функция `super()`"
   ]
  },
  {
   "cell_type": "code",
   "execution_count": 22,
   "metadata": {
    "id": "JYzIVcZrVc9W"
   },
   "outputs": [],
   "source": [
    "# снова создадим класс Bird\n",
    "\n",
    "\n",
    "class Bird1(Animal):\n",
    "    \"\"\"Bird class with flying capability.\"\"\"\n",
    "\n",
    "    # в метод .__init__() добавим параметр скорости полета (км/ч)\n",
    "    def __init__(self, weight: float, length: float, speed: float) -> None:\n",
    "        \"\"\"Initialize bird with weight, length and flying speed.\"\"\"\n",
    "        # с помощью super() вызовем метод .__init__() род. класса Animal\n",
    "        super().__init__(weight, length)\n",
    "        self.flying_speed = speed\n",
    "\n",
    "    # вновь пропишем метод .move()\n",
    "    def move(self) -> None:\n",
    "        \"\"\"Make bird fly.\"\"\"\n",
    "        print(\"Flying\")"
   ]
  },
  {
   "cell_type": "code",
   "execution_count": 23,
   "metadata": {
    "id": "cwu9N5Q0VdAO"
   },
   "outputs": [],
   "source": [
    "# вновь создадим объект pigeon класса Bird, но уже с тремя параметрами\n",
    "pigeon2 = Bird1(0.3, 30, 100)"
   ]
  },
  {
   "cell_type": "code",
   "execution_count": 24,
   "metadata": {
    "colab": {
     "base_uri": "https://localhost:8080/"
    },
    "id": "WfcbSzlf6Ao_",
    "outputId": "e1c67eff-0beb-4cd5-d23a-e16d77b74288"
   },
   "outputs": [
    {
     "name": "stdout",
     "output_type": "stream",
     "text": [
      "0.3 30 100\n"
     ]
    }
   ],
   "source": [
    "# вызовем как унаследованные, так и собственные атрибуты класса Bird\n",
    "print(pigeon2.weight, pigeon2.length, pigeon2.flying_speed)"
   ]
  },
  {
   "cell_type": "code",
   "execution_count": 25,
   "metadata": {
    "colab": {
     "base_uri": "https://localhost:8080/"
    },
    "id": "230dmrRP4ZZE",
    "outputId": "08c58782-4a4a-487c-afef-caebda3f5518"
   },
   "outputs": [
    {
     "name": "stdout",
     "output_type": "stream",
     "text": [
      "Sleeping\n"
     ]
    }
   ],
   "source": [
    "# вызовем унаследованный метод .sleep()\n",
    "pigeon2.sleep()"
   ]
  },
  {
   "cell_type": "code",
   "execution_count": 26,
   "metadata": {
    "colab": {
     "base_uri": "https://localhost:8080/"
    },
    "id": "spaGz6VV4g_m",
    "outputId": "005310bf-a88a-484e-a816-feac166bf35a"
   },
   "outputs": [
    {
     "name": "stdout",
     "output_type": "stream",
     "text": [
      "Flying\n"
     ]
    }
   ],
   "source": [
    "# и собственный метод .move()\n",
    "pigeon2.move()"
   ]
  },
  {
   "cell_type": "markdown",
   "metadata": {
    "id": "qmOoUK4R5D-f"
   },
   "source": [
    "Переопределение класса"
   ]
  },
  {
   "cell_type": "code",
   "execution_count": 27,
   "metadata": {
    "id": "7EFREoZb4kE6"
   },
   "outputs": [],
   "source": [
    "# создадим подкласс Flightless класса Bird\n",
    "\n",
    "\n",
    "class Flightless(Bird):\n",
    "    \"\"\"Flightless bird class that can only run.\"\"\"\n",
    "\n",
    "    # метод .__init__() этого подкласса \"стирает\" .__init__() род. класса\n",
    "    def __init__(  # pylint: disable=super-init-not-called\n",
    "        self, running_speed: float\n",
    "    ) -> None:\n",
    "        \"\"\"Initialize flightless bird with running speed.\"\"\"\n",
    "        # таким образом, у нас остается только один атрибут\n",
    "        self.running_speed = running_speed\n",
    "\n",
    "    # кроме того, результатом метода .move() будет 'Running'\n",
    "    def move(self) -> None:\n",
    "        \"\"\"Make flightless bird run.\"\"\"\n",
    "        print(\"Running\")"
   ]
  },
  {
   "cell_type": "code",
   "execution_count": 28,
   "metadata": {
    "id": "lb8QJKEN4kKh"
   },
   "outputs": [],
   "source": [
    "# создадим объект ostrich класса Flightless\n",
    "ostrich = Flightless(60)"
   ]
  },
  {
   "cell_type": "code",
   "execution_count": 29,
   "metadata": {
    "colab": {
     "base_uri": "https://localhost:8080/"
    },
    "id": "AoTdJFjw4kNn",
    "outputId": "19cba34f-4d88-4b14-8996-84ab61c669d7"
   },
   "outputs": [
    {
     "name": "stdout",
     "output_type": "stream",
     "text": [
      "60\n"
     ]
    }
   ],
   "source": [
    "# посмотрим на значение атрбута скорости\n",
    "print(ostrich.running_speed)"
   ]
  },
  {
   "cell_type": "code",
   "execution_count": 30,
   "metadata": {
    "colab": {
     "base_uri": "https://localhost:8080/"
    },
    "id": "PledBnHF4kQ3",
    "outputId": "f8dc2bdd-d8cb-4d1d-f389-2909bf9b5e16"
   },
   "outputs": [
    {
     "name": "stdout",
     "output_type": "stream",
     "text": [
      "Running\n"
     ]
    }
   ],
   "source": [
    "# и проверим метод .move()\n",
    "ostrich.move()"
   ]
  },
  {
   "cell_type": "code",
   "execution_count": 31,
   "metadata": {
    "colab": {
     "base_uri": "https://localhost:8080/"
    },
    "id": "7oBZyEcG797e",
    "outputId": "445235a6-2e6a-4ff7-d66d-99ba8a359145"
   },
   "outputs": [
    {
     "name": "stdout",
     "output_type": "stream",
     "text": [
      "Eating\n"
     ]
    }
   ],
   "source": [
    "# подкласс Flightless сохранил методы всех родительских классов\n",
    "ostrich.eat()"
   ]
  },
  {
   "cell_type": "markdown",
   "metadata": {
    "id": "BW2xaOeB9PDk"
   },
   "source": [
    "Множественное наследование"
   ]
  },
  {
   "cell_type": "code",
   "execution_count": 32,
   "metadata": {
    "id": "jA-Aj_z49RYk"
   },
   "outputs": [],
   "source": [
    "# создадим родительский класс Fish\n",
    "\n",
    "\n",
    "class Fish:\n",
    "    \"\"\"Base class for fish that can swim.\"\"\"\n",
    "\n",
    "    # и метод .swim()\n",
    "    def swim(self) -> None:\n",
    "        \"\"\"Make fish swim.\"\"\"\n",
    "        print(\"Swimming\")"
   ]
  },
  {
   "cell_type": "code",
   "execution_count": 33,
   "metadata": {
    "id": "CN-A0F2D9RSC"
   },
   "outputs": [],
   "source": [
    "# и еще один родительский класс Bird\n",
    "\n",
    "\n",
    "class Bird2:\n",
    "    \"\"\"Base class for birds that can fly.\"\"\"\n",
    "\n",
    "    # и метод .fly()\n",
    "    def fly(self) -> None:\n",
    "        \"\"\"Make bird fly.\"\"\"\n",
    "        print(\"Flying\")"
   ]
  },
  {
   "cell_type": "code",
   "execution_count": 34,
   "metadata": {
    "id": "udTUUUr0HKkB"
   },
   "outputs": [],
   "source": [
    "# теперь создадим класс-потомок этих двух классов\n",
    "\n",
    "\n",
    "class SwimmingBird(Bird2, Fish):\n",
    "    \"\"\"A bird that can both swim and fly.\"\"\"\n",
    "\n",
    "    pass  # pylint: disable=unnecessary-pass"
   ]
  },
  {
   "cell_type": "code",
   "execution_count": 35,
   "metadata": {
    "id": "7SfYHQItHe9I"
   },
   "outputs": [],
   "source": [
    "# создадим объект duck класса SwimmingBird\n",
    "duck = SwimmingBird()"
   ]
  },
  {
   "cell_type": "code",
   "execution_count": 36,
   "metadata": {
    "colab": {
     "base_uri": "https://localhost:8080/"
    },
    "id": "xogM-VUMHrd0",
    "outputId": "99eac1e7-b433-4d7f-808d-fee1d0eee5b2"
   },
   "outputs": [
    {
     "name": "stdout",
     "output_type": "stream",
     "text": [
      "Flying\n"
     ]
    }
   ],
   "source": [
    "# как мы видим утка умеет как летать,\n",
    "duck.fly()"
   ]
  },
  {
   "cell_type": "code",
   "execution_count": 37,
   "metadata": {
    "colab": {
     "base_uri": "https://localhost:8080/"
    },
    "id": "lHZ6WVWQJmVi",
    "outputId": "9e410617-daaa-4f91-d25a-4e21be5efc26"
   },
   "outputs": [
    {
     "name": "stdout",
     "output_type": "stream",
     "text": [
      "Swimming\n"
     ]
    }
   ],
   "source": [
    "# так и плавать\n",
    "duck.swim()"
   ]
  },
  {
   "cell_type": "markdown",
   "metadata": {
    "id": "ruBf2MpEiN-9"
   },
   "source": [
    "#### Полиморфизм"
   ]
  },
  {
   "cell_type": "code",
   "execution_count": 38,
   "metadata": {
    "colab": {
     "base_uri": "https://localhost:8080/"
    },
    "id": "57k1y3vHzS2Q",
    "outputId": "580b15e7-667d-426f-9e1b-545feb183354"
   },
   "outputs": [
    {
     "name": "stdout",
     "output_type": "stream",
     "text": [
      "4\n"
     ]
    }
   ],
   "source": [
    "# для чисел '+' является оператором сложения\n",
    "print(2 + 2)"
   ]
  },
  {
   "cell_type": "code",
   "execution_count": 39,
   "metadata": {
    "colab": {
     "base_uri": "https://localhost:8080/",
     "height": 35
    },
    "id": "XFkxRUt2zTFb",
    "outputId": "d413afd8-f001-4220-c0f0-ab14f10900dc"
   },
   "outputs": [
    {
     "name": "stdout",
     "output_type": "stream",
     "text": [
      "классы и объекты\n"
     ]
    }
   ],
   "source": [
    "# для строк - оператором объединения\n",
    "print(\"классы\" + \" и \" + \"объекты\")"
   ]
  },
  {
   "cell_type": "markdown",
   "metadata": {
    "id": "syQy4yvkiRUN"
   },
   "source": [
    "1. Полиморфизм функций"
   ]
  },
  {
   "cell_type": "code",
   "execution_count": 40,
   "metadata": {
    "colab": {
     "base_uri": "https://localhost:8080/"
    },
    "id": "T23-llHTiTY2",
    "outputId": "53e10046-f89b-4e08-855f-15872c223af2"
   },
   "outputs": [
    {
     "data": {
      "text/plain": [
       "26"
      ]
     },
     "execution_count": 40,
     "metadata": {},
     "output_type": "execute_result"
    }
   ],
   "source": [
    "# функцию len() можно применить к строке\n",
    "len(\"Программирование на Питоне\")"
   ]
  },
  {
   "cell_type": "code",
   "execution_count": 41,
   "metadata": {
    "colab": {
     "base_uri": "https://localhost:8080/"
    },
    "id": "CbWOFs8wqLKZ",
    "outputId": "1bdb6886-59d4-4f7a-ea07-d269a971e358"
   },
   "outputs": [
    {
     "data": {
      "text/plain": [
       "3"
      ]
     },
     "execution_count": 41,
     "metadata": {},
     "output_type": "execute_result"
    }
   ],
   "source": [
    "# кроме того, она способна работать со списком\n",
    "len([\"Программирование\", \"на\", \"Питоне\"])"
   ]
  },
  {
   "cell_type": "code",
   "execution_count": 42,
   "metadata": {
    "colab": {
     "base_uri": "https://localhost:8080/"
    },
    "id": "l03mggVpqLPx",
    "outputId": "235f05b6-d75f-4a3c-b65b-5673ae460020"
   },
   "outputs": [
    {
     "data": {
      "text/plain": [
       "3"
      ]
     },
     "execution_count": 42,
     "metadata": {},
     "output_type": "execute_result"
    }
   ],
   "source": [
    "# словарем\n",
    "len({0: \"Программирование\", 1: \"на\", 2: \"Питоне\"})"
   ]
  },
  {
   "cell_type": "markdown",
   "metadata": {
    "id": "03fAyPjYiUD-"
   },
   "source": [
    "2. Полиморфизм классов"
   ]
  },
  {
   "cell_type": "markdown",
   "metadata": {
    "id": "Q2JI2sNo_rJ4"
   },
   "source": [
    "Создадим объекты с одинаковыми атрибутами и методами"
   ]
  },
  {
   "cell_type": "code",
   "execution_count": 43,
   "metadata": {
    "id": "JexRqp8IiTig"
   },
   "outputs": [],
   "source": [
    "# создадим класс котов\n",
    "\n",
    "\n",
    "class CatClass6:\n",
    "    \"\"\"Class representing a cat with name, type and color attributes.\"\"\"\n",
    "\n",
    "    # определим атрибуты клички, типа и цвета шерсти\n",
    "    def __init__(self, name: str, color: str) -> None:\n",
    "        \"\"\"Initialize a cat with given name and color.\"\"\"\n",
    "        self.name = name\n",
    "        self._type_ = \"кот\"\n",
    "        self.color = color\n",
    "\n",
    "    # создадим метод .info() для вывода этих атрибутов\n",
    "    def info(self) -> None:\n",
    "        \"\"\"Print information about the cat.\"\"\"\n",
    "        print(f\"Меня зовут {self.name}, я {self._type_}\")\n",
    "        print(f\"цвет моей шерсти {self.color}\")\n",
    "\n",
    "    # и метод .sound(), показывающий, что коты умеют мяукать\n",
    "    def sound(self) -> None:\n",
    "        \"\"\"Print the sound a cat makes.\"\"\"\n",
    "        print(\"Я умею мяукать\")"
   ]
  },
  {
   "cell_type": "code",
   "execution_count": 44,
   "metadata": {
    "id": "PEyzqo1qBxhZ"
   },
   "outputs": [],
   "source": [
    "# создадим класс собак\n",
    "\n",
    "\n",
    "class DogClass:\n",
    "    \"\"\"Class representing a dog with name, type and color attributes.\"\"\"\n",
    "\n",
    "    # с такими же атрибутами\n",
    "    def __init__(self, name: str, color: str) -> None:\n",
    "        \"\"\"Initialize a dog with given name and color.\"\"\"\n",
    "        self.name = name\n",
    "        self._type_ = \"пес\"\n",
    "        self.color = color\n",
    "\n",
    "    # и методами\n",
    "    def info(self) -> None:\n",
    "        \"\"\"Print information about the dog.\"\"\"\n",
    "        print(f\"Меня зовут {self.name}, я {self._type_}\")\n",
    "        print(f\"цвет моей шерсти {self.color}\")\n",
    "\n",
    "    # хотя, обратите внимание, действия внутри методов отличаются\n",
    "    def sound(self) -> None:\n",
    "        \"\"\"Print the sound a dog makes.\"\"\"\n",
    "        print(\"Я умею лаять\")"
   ]
  },
  {
   "cell_type": "markdown",
   "metadata": {
    "id": "yxdVCLs7_vGV"
   },
   "source": [
    "Создадим объекты этих классов"
   ]
  },
  {
   "cell_type": "code",
   "execution_count": 45,
   "metadata": {
    "id": "j5TO6c1aAHRV"
   },
   "outputs": [],
   "source": [
    "cat = CatClass6(\"Бегемот\", \"черный\")\n",
    "dog = DogClass(\"Барбос\", \"серый\")"
   ]
  },
  {
   "cell_type": "markdown",
   "metadata": {
    "id": "In29ldkK_9aa"
   },
   "source": [
    "В цикле `for` вызовем атрибуты и методы каждого из классов"
   ]
  },
  {
   "cell_type": "code",
   "execution_count": 46,
   "metadata": {
    "colab": {
     "base_uri": "https://localhost:8080/"
    },
    "id": "5xvyicz0AGyU",
    "outputId": "ab94a6c3-16e7-424d-9763-f38dfee541bb"
   },
   "outputs": [
    {
     "name": "stdout",
     "output_type": "stream",
     "text": [
      "Меня зовут Бегемот, я кот\n",
      "цвет моей шерсти черный\n",
      "Я умею мяукать\n",
      "\n",
      "Меня зовут Барбос, я пес\n",
      "цвет моей шерсти серый\n",
      "Я умею лаять\n",
      "\n"
     ]
    }
   ],
   "source": [
    "for animal in (cat, dog):\n",
    "    animal.info()\n",
    "    animal.sound()\n",
    "    print()"
   ]
  },
  {
   "cell_type": "markdown",
   "metadata": {
    "id": "UhIuTZgpjK-n"
   },
   "source": [
    "### Парадигмы программирования"
   ]
  },
  {
   "cell_type": "code",
   "execution_count": 47,
   "metadata": {
    "id": "D329DnitlFFM"
   },
   "outputs": [],
   "source": [
    "patients: list[dict[str, str | int]] = [\n",
    "    {\"name\": \"Николай\", \"height\": 178},\n",
    "    {\"name\": \"Иван\", \"height\": 182},\n",
    "    {\"name\": \"Алексей\", \"height\": 190},\n",
    "]"
   ]
  },
  {
   "cell_type": "markdown",
   "metadata": {
    "id": "SakiQ8b0jQb5"
   },
   "source": [
    "#### Процедурное программирование"
   ]
  },
  {
   "cell_type": "code",
   "execution_count": 48,
   "metadata": {
    "colab": {
     "base_uri": "https://localhost:8080/"
    },
    "id": "fMwt8bYhjVG0",
    "outputId": "6e503541-62ca-4f17-c384-4799190734be"
   },
   "outputs": [
    {
     "name": "stdout",
     "output_type": "stream",
     "text": [
      "183.33333333333334\n"
     ]
    }
   ],
   "source": [
    "# создадим переменные для общего роста и количества пациентов\n",
    "total, count = 0, 0\n",
    "\n",
    "# в цикле for пройдемся по пациентам (отдельным словарям)\n",
    "for patient in patients:\n",
    "    # достанем значение роста и прибавим к текущему значению переменной total\n",
    "    total += int(patient[\"height\"])\n",
    "    # на каждой итерации будем увеличивать счетчик пациентов на один\n",
    "    count += 1\n",
    "\n",
    "# разделим общий рост на количество пациентов,\n",
    "# чтобы получить среднее значение\n",
    "print(total / count)"
   ]
  },
  {
   "cell_type": "markdown",
   "metadata": {
    "id": "pdLaSjb-jV1y"
   },
   "source": [
    "#### Объектно-ориентированное программирование"
   ]
  },
  {
   "cell_type": "code",
   "execution_count": 49,
   "metadata": {
    "id": "7OKHNVZHjiTu"
   },
   "outputs": [],
   "source": [
    "# создадим класс для работы с данными DataClass\n",
    "\n",
    "\n",
    "class DataClass:\n",
    "    \"\"\"Class for calculating statistics on data.\"\"\"\n",
    "\n",
    "    # при создании объекта будем передавать ему данные для анализа\n",
    "    def __init__(self, data: list[dict[str, str | int]]) -> None:\n",
    "        \"\"\"Initialize with data for analysis.\"\"\"\n",
    "        self.data = data\n",
    "        self.metric = \"\"\n",
    "        self.__total = 0\n",
    "        self.__count = 0\n",
    "\n",
    "    # кроме того, создадим метод для расчета среднего значения\n",
    "    def count_average(self, metric: str) -> float:\n",
    "        \"\"\"Calculate average value for given metric.\"\"\"\n",
    "        # параметр metric определит, по какому столбцу считать среднее\n",
    "        self.metric = metric\n",
    "\n",
    "        # объявим два частных атрибута\n",
    "        self.__total = 0\n",
    "        self.__count = 0\n",
    "\n",
    "        # в цикле for пройдемся по списку словарей\n",
    "        for item in self.data:\n",
    "\n",
    "            # рассчитем общую сумму по указанному в metric\n",
    "            # значению каждого словаря\n",
    "            self.__total += int(item[self.metric])\n",
    "\n",
    "            # и количество таких записей\n",
    "            self.__count += 1\n",
    "\n",
    "        # разделим общую сумму показателя на количество записей\n",
    "        return self.__total / self.__count"
   ]
  },
  {
   "cell_type": "code",
   "execution_count": 50,
   "metadata": {
    "colab": {
     "base_uri": "https://localhost:8080/"
    },
    "id": "CgiUFzkLjibJ",
    "outputId": "9c019f6e-adee-45f2-d837-ff4a876c12e5"
   },
   "outputs": [
    {
     "data": {
      "text/plain": [
       "183.33333333333334"
      ]
     },
     "execution_count": 50,
     "metadata": {},
     "output_type": "execute_result"
    }
   ],
   "source": [
    "# создадим объект класса DataClass и передадим ему данные о пациентах\n",
    "data_object = DataClass(patients)\n",
    "\n",
    "# вызовем метод .count_average() с метрикой 'height'\n",
    "data_object.count_average(\"height\")"
   ]
  },
  {
   "cell_type": "markdown",
   "metadata": {
    "id": "oIzYzt3hji9O"
   },
   "source": [
    "#### Функциональное программирование"
   ]
  },
  {
   "cell_type": "markdown",
   "metadata": {
    "id": "T7rvVdD9rU4a"
   },
   "source": [
    "Функция map()"
   ]
  },
  {
   "cell_type": "code",
   "execution_count": 51,
   "metadata": {
    "colab": {
     "base_uri": "https://localhost:8080/"
    },
    "id": "5PT_4ZLfqqG0",
    "outputId": "e659e7fa-e06c-4e21-ef9e-26df60c55556"
   },
   "outputs": [
    {
     "name": "stdout",
     "output_type": "stream",
     "text": [
      "[178, 182, 190]\n"
     ]
    }
   ],
   "source": [
    "# lambda-функция достанет значение по ключу height\n",
    "# функция map() применит lambda-функцию к каждому вложенному в patients словарю\n",
    "# функция list() преобразует результат в список\n",
    "heights = list(map(lambda x: int(x[\"height\"]), patients))\n",
    "print(heights)"
   ]
  },
  {
   "cell_type": "code",
   "execution_count": 52,
   "metadata": {
    "colab": {
     "base_uri": "https://localhost:8080/"
    },
    "id": "Zr0R6ibHor5X",
    "outputId": "6838b211-8132-497d-efe4-7a5893d04db6"
   },
   "outputs": [
    {
     "name": "stdout",
     "output_type": "stream",
     "text": [
      "183.33333333333334\n"
     ]
    }
   ],
   "source": [
    "# воспользуемся функциями sum() и len() для нахождения среднего значения\n",
    "print(sum(heights) / len(heights))"
   ]
  }
 ],
 "metadata": {
  "colab": {
   "provenance": [],
   "toc_visible": true
  },
  "kernelspec": {
   "display_name": "Python 3",
   "name": "python3"
  },
  "language_info": {
   "codemirror_mode": {
    "name": "ipython",
    "version": 3
   },
   "file_extension": ".py",
   "mimetype": "text/x-python",
   "name": "python",
   "nbconvert_exporter": "python",
   "pygments_lexer": "ipython3",
   "version": "3.11.3"
  }
 },
 "nbformat": 4,
 "nbformat_minor": 0
}
