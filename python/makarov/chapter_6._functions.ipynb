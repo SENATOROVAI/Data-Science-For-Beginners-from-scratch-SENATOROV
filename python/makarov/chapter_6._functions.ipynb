{
 "cells": [
  {
   "cell_type": "code",
   "execution_count": 62,
   "metadata": {},
   "outputs": [
    {
     "data": {
      "text/plain": [
       "'Functions.'"
      ]
     },
     "execution_count": 62,
     "metadata": {},
     "output_type": "execute_result"
    }
   ],
   "source": [
    "\"\"\"Functions.\"\"\""
   ]
  },
  {
   "cell_type": "markdown",
   "metadata": {
    "id": "0AoPSXyUTTLc"
   },
   "source": [
    "## Функции в Питоне"
   ]
  },
  {
   "cell_type": "markdown",
   "metadata": {
    "id": "W3QeADnwrI_g"
   },
   "source": [
    "### Встроенные функции"
   ]
  },
  {
   "cell_type": "code",
   "execution_count": 63,
   "metadata": {
    "id": "mmuSaN9wrMpL"
   },
   "outputs": [],
   "source": [
    "# fmt: off\n",
    "from typing import Callable, ItemsView"
   ]
  },
  {
   "cell_type": "markdown",
   "metadata": {
    "id": "4R42tP5dJflr"
   },
   "source": [
    "#### Параметры и аргументы функции"
   ]
  },
  {
   "cell_type": "code",
   "execution_count": 64,
   "metadata": {
    "colab": {
     "base_uri": "https://localhost:8080/"
    },
    "id": "t6UAoUmwag2c",
    "outputId": "ef4a2fe2-25e4-4cb4-de2d-e55464101797"
   },
   "outputs": [
    {
     "name": "stdout",
     "output_type": "stream",
     "text": [
      "Первая строка\n",
      "\n",
      "Третья строка\n"
     ]
    }
   ],
   "source": [
    "# функция может не принимать параметров\n",
    "print(\"Первая строка\")\n",
    "print()\n",
    "print(\"Третья строка\")"
   ]
  },
  {
   "cell_type": "markdown",
   "metadata": {
    "id": "-QM-A2zzJhIn"
   },
   "source": [
    "#### Функции и методы"
   ]
  },
  {
   "cell_type": "code",
   "execution_count": 65,
   "metadata": {
    "colab": {
     "base_uri": "https://localhost:8080/",
     "height": 35
    },
    "id": "o_fZPD7XJjFy",
    "outputId": "80d76b59-0838-44a2-a700-873b19e9e02f"
   },
   "outputs": [
    {
     "data": {
      "text/plain": [
       "'Machine Learning'"
      ]
     },
     "execution_count": 65,
     "metadata": {},
     "output_type": "execute_result"
    }
   ],
   "source": [
    "# дана строка\n",
    "some_string = \"machine learning\"\n",
    "\n",
    "# применим метод .title()\n",
    "some_string.title()"
   ]
  },
  {
   "cell_type": "code",
   "execution_count": 66,
   "metadata": {
    "colab": {
     "base_uri": "https://localhost:8080/",
     "height": 176
    },
    "id": "uVPQU3PoKwpR",
    "outputId": "72d66e92-3184-4c44-a758-651f7f13b9a7"
   },
   "outputs": [],
   "source": [
    "# к списку\n",
    "some_list = [\"machine\", \"learning\"]"
   ]
  },
  {
   "cell_type": "markdown",
   "metadata": {
    "id": "lIM5gFo4TbUg"
   },
   "source": [
    "### Собственные функции в Питоне"
   ]
  },
  {
   "cell_type": "markdown",
   "metadata": {
    "id": "CgGpEK0AwM2k"
   },
   "source": [
    "#### Объявление и вызов функции"
   ]
  },
  {
   "cell_type": "code",
   "execution_count": 67,
   "metadata": {
    "id": "IjjLVSbWqDpE"
   },
   "outputs": [],
   "source": [
    "# создадим функцию, которая удваивает любое передаваемое ей значение\n",
    "\n",
    "\n",
    "def double(x_val: float) -> float:\n",
    "    \"\"\"Return the input value multiplied by 2.\"\"\"\n",
    "    res = x_val * 2\n",
    "    return res"
   ]
  },
  {
   "cell_type": "code",
   "execution_count": 68,
   "metadata": {
    "colab": {
     "base_uri": "https://localhost:8080/"
    },
    "id": "EW6-h1F8ufBG",
    "outputId": "115c5e57-2e1c-4102-ff92-ddade6454602"
   },
   "outputs": [
    {
     "data": {
      "text/plain": [
       "4"
      ]
     },
     "execution_count": 68,
     "metadata": {},
     "output_type": "execute_result"
    }
   ],
   "source": [
    "# и вызовем ее, передав число 2\n",
    "double(2)"
   ]
  },
  {
   "cell_type": "markdown",
   "metadata": {
    "id": "mS-C-sJePhVf"
   },
   "source": [
    "#### Пустое тело функции"
   ]
  },
  {
   "cell_type": "code",
   "execution_count": 69,
   "metadata": {
    "id": "40pnqSnoTR0Z"
   },
   "outputs": [],
   "source": [
    "# тело функции не может быть пустым\n",
    "\n",
    "\n",
    "def only_return() -> None:\n",
    "    \"\"\"Return None as an example of empty function body.\"\"\"\n",
    "    # нужно либо указать ключевое слово return\n",
    "    return"
   ]
  },
  {
   "cell_type": "code",
   "execution_count": 70,
   "metadata": {
    "id": "HuYLHkX7TZnt"
   },
   "outputs": [],
   "source": [
    "only_return()"
   ]
  },
  {
   "cell_type": "code",
   "execution_count": null,
   "metadata": {
    "colab": {
     "base_uri": "https://localhost:8080/"
    },
    "id": "u06oHGCNK6Rm",
    "outputId": "48a7322c-cc8c-455f-f8a3-445c9619b9c7"
   },
   "outputs": [
    {
     "name": "stdout",
     "output_type": "stream",
     "text": [
      "None\n"
     ]
    }
   ],
   "source": [
    "# такая функция вернет тип данных None (отсутствие значения)\n",
    "# print(only_return())"
   ]
  },
  {
   "cell_type": "markdown",
   "metadata": {
    "id": "08Pbq-5VREZk"
   },
   "source": [
    "#### Функция print() вместо return"
   ]
  },
  {
   "cell_type": "code",
   "execution_count": 72,
   "metadata": {
    "id": "Jaj1wdaAYFF-"
   },
   "outputs": [],
   "source": [
    "# можно использовать print(), но есть нюансы (см. на странице урока)\n",
    "\n",
    "\n",
    "def double_print(x_val: float) -> None:\n",
    "    \"\"\"Print double of input value.\"\"\"\n",
    "    res = x_val * 2\n",
    "    print(res)"
   ]
  },
  {
   "cell_type": "code",
   "execution_count": 73,
   "metadata": {
    "colab": {
     "base_uri": "https://localhost:8080/"
    },
    "id": "XgtVgq_HYKyh",
    "outputId": "53140a9c-9829-4d6c-dcd9-863b9811b037"
   },
   "outputs": [
    {
     "name": "stdout",
     "output_type": "stream",
     "text": [
      "10\n"
     ]
    }
   ],
   "source": [
    "double_print(5)"
   ]
  },
  {
   "cell_type": "markdown",
   "metadata": {
    "id": "zmJv5y8dLUJK"
   },
   "source": [
    "#### Параметры собственных функций"
   ]
  },
  {
   "cell_type": "code",
   "execution_count": 74,
   "metadata": {
    "id": "uhOnVbWhuis_"
   },
   "outputs": [],
   "source": [
    "# объявим функцию с параметрами x и y\n",
    "\n",
    "\n",
    "def calc_sum(x_val: float, y_val: float) -> float:\n",
    "    \"\"\"Return sum of two numbers.\"\"\"\n",
    "    # и выведем их сумму\n",
    "    return x_val + y_val"
   ]
  },
  {
   "cell_type": "code",
   "execution_count": 75,
   "metadata": {
    "colab": {
     "base_uri": "https://localhost:8080/"
    },
    "id": "KTEhuHaYwWLQ",
    "outputId": "2e3085e6-fe3c-456b-d4a0-e7e9a3ad46ac"
   },
   "outputs": [
    {
     "data": {
      "text/plain": [
       "3"
      ]
     },
     "execution_count": 75,
     "metadata": {},
     "output_type": "execute_result"
    }
   ],
   "source": [
    "# вызовем эту функцию с одним позиционным и одним именованным параметром\n",
    "calc_sum(1, y_val=2)"
   ]
  },
  {
   "cell_type": "code",
   "execution_count": 76,
   "metadata": {
    "colab": {
     "base_uri": "https://localhost:8080/"
    },
    "id": "baCYb7BbT46W",
    "outputId": "a46fc104-cdc3-49cc-ec5c-1ccd7894905f"
   },
   "outputs": [
    {
     "data": {
      "text/plain": [
       "3"
      ]
     },
     "execution_count": 76,
     "metadata": {},
     "output_type": "execute_result"
    }
   ],
   "source": [
    "# параметрам функции можно задать аргументы по умолчанию\n",
    "\n",
    "\n",
    "def calc_sum_default(x_val: float = 1, y_val: float = 2) -> float:\n",
    "    \"\"\"Return sum of two numbers with default values.\"\"\"\n",
    "    return x_val + y_val\n",
    "\n",
    "\n",
    "# и при вызове тогда их указывать не обязательно\n",
    "calc_sum_default()"
   ]
  },
  {
   "cell_type": "code",
   "execution_count": 77,
   "metadata": {
    "colab": {
     "base_uri": "https://localhost:8080/"
    },
    "id": "2DQF4G9w_JUW",
    "outputId": "96859e9d-1785-4d78-81f2-9f2b19ccb072"
   },
   "outputs": [
    {
     "name": "stdout",
     "output_type": "stream",
     "text": [
      "Some string\n"
     ]
    }
   ],
   "source": [
    "# функция может не иметь параметров\n",
    "\n",
    "\n",
    "def print_string() -> None:\n",
    "    \"\"\"Print a predefined string.\"\"\"\n",
    "    print(\"Some string\")\n",
    "\n",
    "\n",
    "print_string()"
   ]
  },
  {
   "cell_type": "markdown",
   "metadata": {
    "id": "jZABsfhPx9wd"
   },
   "source": [
    "#### Аннотация функции"
   ]
  },
  {
   "cell_type": "code",
   "execution_count": 78,
   "metadata": {
    "id": "TAoI_kYPyB44"
   },
   "outputs": [],
   "source": [
    "def f_to_int(x_val: float = 3.5) -> int:\n",
    "    \"\"\"Convert float number to integer.\"\"\"\n",
    "    return int(x_val)"
   ]
  },
  {
   "cell_type": "code",
   "execution_count": 79,
   "metadata": {
    "colab": {
     "base_uri": "https://localhost:8080/"
    },
    "id": "QaNrg6kZyW8Y",
    "outputId": "4afa6d5c-eaa7-4651-e9c1-aa704dd19f3e"
   },
   "outputs": [
    {
     "data": {
      "text/plain": [
       "{'x_val': float, 'return': int}"
      ]
     },
     "execution_count": 79,
     "metadata": {},
     "output_type": "execute_result"
    }
   ],
   "source": [
    "# желаемый тип данных можно посмотреть через атрибут __annotations__\n",
    "f_to_int.__annotations__"
   ]
  },
  {
   "cell_type": "code",
   "execution_count": 80,
   "metadata": {
    "colab": {
     "base_uri": "https://localhost:8080/"
    },
    "id": "-iKjBO501oYJ",
    "outputId": "d6e6c8d3-89c3-4d12-9979-f323f45b82c4"
   },
   "outputs": [
    {
     "data": {
      "text/plain": [
       "3"
      ]
     },
     "execution_count": 80,
     "metadata": {},
     "output_type": "execute_result"
    }
   ],
   "source": [
    "# вызовем функцию без параметров\n",
    "f_to_int()"
   ]
  },
  {
   "cell_type": "markdown",
   "metadata": {
    "id": "vlOHQZGZ_ESX"
   },
   "source": [
    "#### Дополнительные возможности"
   ]
  },
  {
   "cell_type": "code",
   "execution_count": 81,
   "metadata": {
    "colab": {
     "base_uri": "https://localhost:8080/"
    },
    "id": "QittQ3qiK8S4",
    "outputId": "8b2c99f0-f61d-4fe5-e015-22c1762ddea6"
   },
   "outputs": [
    {
     "name": "stdout",
     "output_type": "stream",
     "text": [
      "6\n"
     ]
    }
   ],
   "source": [
    "# вызов функции можно совмещать с арифметическими\n",
    "print(calc_sum(1, 2) * 2)"
   ]
  },
  {
   "cell_type": "code",
   "execution_count": 82,
   "metadata": {
    "colab": {
     "base_uri": "https://localhost:8080/"
    },
    "id": "83RysL9MMQCw",
    "outputId": "45598627-36e6-47f3-d456-9e650ba74450"
   },
   "outputs": [
    {
     "name": "stdout",
     "output_type": "stream",
     "text": [
      "True\n"
     ]
    }
   ],
   "source": [
    "# и логическими операциями\n",
    "print(calc_sum(1, 2) > 2)"
   ]
  },
  {
   "cell_type": "code",
   "execution_count": 83,
   "metadata": {
    "colab": {
     "base_uri": "https://localhost:8080/",
     "height": 35
    },
    "id": "YL1UrXNFb84A",
    "outputId": "395474c0-41a3-4146-a978-2e450c2ab8b7"
   },
   "outputs": [
    {
     "name": "stdout",
     "output_type": "stream",
     "text": [
      "P\n"
     ]
    }
   ],
   "source": [
    "# можно и так\n",
    "\n",
    "\n",
    "def first_letter() -> str:\n",
    "    \"\"\"Return first letter of 'Python'.\"\"\"\n",
    "    return \"Python\"\n",
    "\n",
    "\n",
    "print(first_letter()[0])"
   ]
  },
  {
   "cell_type": "code",
   "execution_count": 84,
   "metadata": {
    "colab": {
     "base_uri": "https://localhost:8080/"
    },
    "id": "WC59uMaoWy8u",
    "outputId": "6773f697-f6b8-4cf9-edaa-3ddcff1ac057"
   },
   "outputs": [
    {
     "data": {
      "text/plain": [
       "25"
      ]
     },
     "execution_count": 84,
     "metadata": {},
     "output_type": "execute_result"
    }
   ],
   "source": [
    "# функция может не принимать параметров, но использовать input()\n",
    "\n",
    "\n",
    "def use_input() -> int:\n",
    "    \"\"\"Return squared inputs.\"\"\"\n",
    "    # запросим у пользователя число и переведем его в тип данных int\n",
    "    user_inp = int(input(\"Введите число: \"))\n",
    "\n",
    "    # возведем число в квадрат\n",
    "    result = user_inp**2\n",
    "\n",
    "    # вернем результат\n",
    "    return result\n",
    "\n",
    "\n",
    "# вызовем функцию\n",
    "use_input()"
   ]
  },
  {
   "cell_type": "markdown",
   "metadata": {
    "id": "7L2W-41oM6vK"
   },
   "source": [
    "#### Результат вызова функции"
   ]
  },
  {
   "cell_type": "code",
   "execution_count": 85,
   "metadata": {
    "colab": {
     "base_uri": "https://localhost:8080/"
    },
    "id": "zVLZODr-PazE",
    "outputId": "af00da71-633a-4b23-c7ce-ed29d5ee7234"
   },
   "outputs": [
    {
     "data": {
      "text/plain": [
       "[0, 1, 2, 3, 4]"
      ]
     },
     "execution_count": 85,
     "metadata": {},
     "output_type": "execute_result"
    }
   ],
   "source": [
    "# функция может возвращать также список, кортеж, словарь и др.\n",
    "\n",
    "\n",
    "# объявим функцию, которая на входе получает число,\n",
    "# а на выходе формирует список чисел от 0 и до числа, предшествующего заданному\n",
    "def create_list(x_val: int) -> list[int]:\n",
    "    \"\"\"Create list of integers from 0 to x-1.\"\"\"\n",
    "    # создадим пустой список\n",
    "    ls = []\n",
    "\n",
    "    # в цикле for создадим последовательность\n",
    "    for i in range(x_val):\n",
    "\n",
    "        # и поместим ее в список\n",
    "        ls.append(i)\n",
    "\n",
    "    return ls\n",
    "\n",
    "\n",
    "# результатом вызова этой функции будет список\n",
    "create_list(5)"
   ]
  },
  {
   "cell_type": "code",
   "execution_count": 86,
   "metadata": {
    "id": "RI4Xl_CHNm3B"
   },
   "outputs": [],
   "source": [
    "# функция может возвращать сразу два значения\n",
    "\n",
    "\n",
    "def tuple_f() -> tuple[str, int]:\n",
    "    \"\"\"Return tuple with string 'Python' and integer 42.\"\"\"\n",
    "    string = \"Python\"\n",
    "    x_val = 42\n",
    "    return string, x_val"
   ]
  },
  {
   "cell_type": "code",
   "execution_count": 87,
   "metadata": {
    "colab": {
     "base_uri": "https://localhost:8080/"
    },
    "id": "e4AXnLEdNzMJ",
    "outputId": "c34bf598-3e76-4128-96ca-494dc144bea1"
   },
   "outputs": [
    {
     "name": "stdout",
     "output_type": "stream",
     "text": [
      "Python 42\n",
      "<class 'str'> <class 'int'>\n"
     ]
    }
   ],
   "source": [
    "# если использовать две переменные\n",
    "a_val, b_val = tuple_f()\n",
    "\n",
    "# на выходе мы получим строку и число\n",
    "print(a_val, b_val)\n",
    "print(type(a_val), type(b_val))"
   ]
  },
  {
   "cell_type": "code",
   "execution_count": 88,
   "metadata": {
    "colab": {
     "base_uri": "https://localhost:8080/"
    },
    "id": "n89-CN1pSlgP",
    "outputId": "02b74687-471c-4a3e-e59c-c26440d25189"
   },
   "outputs": [
    {
     "name": "stdout",
     "output_type": "stream",
     "text": [
      "('Python', 42)\n",
      "<class 'tuple'>\n"
     ]
    }
   ],
   "source": [
    "# если одну\n",
    "c_val = tuple_f()\n",
    "\n",
    "# получится кортеж\n",
    "print(c_val)\n",
    "print(type(c_val))"
   ]
  },
  {
   "cell_type": "code",
   "execution_count": 89,
   "metadata": {
    "colab": {
     "base_uri": "https://localhost:8080/"
    },
    "id": "bQzEDji5VFCY",
    "outputId": "a9131375-4436-46a5-d27b-cc982a1ac1df"
   },
   "outputs": [
    {
     "data": {
      "text/plain": [
       "True"
      ]
     },
     "execution_count": 89,
     "metadata": {},
     "output_type": "execute_result"
    }
   ],
   "source": [
    "# выводом может быть логическое значение (True или False)\n",
    "\n",
    "\n",
    "def is_divisible(x_val: int) -> bool:\n",
    "    \"\"\"Check if number is divisible by 2.\"\"\"\n",
    "    return x_val % 2 == 0\n",
    "\n",
    "\n",
    "is_divisible(10)"
   ]
  },
  {
   "cell_type": "markdown",
   "metadata": {
    "id": "kY91ANMfXeRG"
   },
   "source": [
    "#### Глобальные и локальные переменные"
   ]
  },
  {
   "cell_type": "code",
   "execution_count": 90,
   "metadata": {
    "id": "a4HSsRlBVBT2"
   },
   "outputs": [],
   "source": [
    "# создадим глобальную переменную вне функции\n",
    "global_name = \"Петр\"\n",
    "\n",
    "# а затем используем ее внутри новой функции\n",
    "\n",
    "\n",
    "def show_name() -> None:\n",
    "    \"\"\"Print global name variable.\"\"\"\n",
    "    print(global_name)"
   ]
  },
  {
   "cell_type": "code",
   "execution_count": 91,
   "metadata": {
    "colab": {
     "base_uri": "https://localhost:8080/"
    },
    "id": "_trqrh-zTjkk",
    "outputId": "a436b20d-c6cf-42c2-c21a-f1ad43a70c91"
   },
   "outputs": [
    {
     "name": "stdout",
     "output_type": "stream",
     "text": [
      "Петр\n"
     ]
    }
   ],
   "source": [
    "show_name()"
   ]
  },
  {
   "cell_type": "code",
   "execution_count": 92,
   "metadata": {
    "id": "jmStHPcqTo3F"
   },
   "outputs": [],
   "source": [
    "# а теперь вначале создадим функцию,\n",
    "# внутри которой объявим локальную переменную\n",
    "\n",
    "\n",
    "def show_local_name() -> None:\n",
    "    \"\"\"Print local name variable.\"\"\"\n",
    "    local_name_val = \"Алена\"\n",
    "    print(local_name_val)"
   ]
  },
  {
   "cell_type": "code",
   "execution_count": 93,
   "metadata": {
    "colab": {
     "base_uri": "https://localhost:8080/"
    },
    "id": "9KMmXhAIUJkT",
    "outputId": "19f7a460-1ba2-4b13-e72a-b25a74d4543a"
   },
   "outputs": [
    {
     "name": "stdout",
     "output_type": "stream",
     "text": [
      "Алена\n"
     ]
    }
   ],
   "source": [
    "show_local_name()"
   ]
  },
  {
   "cell_type": "code",
   "execution_count": 94,
   "metadata": {
    "id": "GfAMDzGvUcZ8"
   },
   "outputs": [],
   "source": [
    "# превратить локальную переменную в глобальную можно через global\n",
    "\n",
    "local_name: str = \"\"\n",
    "\n",
    "\n",
    "def make_global() -> None:\n",
    "    \"\"\"Create global variable local_name and print it.\"\"\"\n",
    "    # pylint: disable=global-statement\n",
    "    global local_name\n",
    "    local_name = \"Алена\"\n",
    "    print(local_name)"
   ]
  },
  {
   "cell_type": "code",
   "execution_count": 95,
   "metadata": {
    "colab": {
     "base_uri": "https://localhost:8080/"
    },
    "id": "glXQZMD9UpDf",
    "outputId": "97d5d26f-7f28-4611-f6f7-006866a20068"
   },
   "outputs": [
    {
     "name": "stdout",
     "output_type": "stream",
     "text": [
      "Алена\n"
     ]
    }
   ],
   "source": [
    "make_global()"
   ]
  },
  {
   "cell_type": "code",
   "execution_count": 96,
   "metadata": {
    "id": "rDAqC_PlZr35"
   },
   "outputs": [],
   "source": [
    "# объявим глобальную переменную\n",
    "global_number: int = 5\n",
    "\n",
    "\n",
    "def print_number() -> None:\n",
    "    \"\"\"Print local number variable.\"\"\"\n",
    "    # затем объявим локальную переменную\n",
    "    local_number: int = 10\n",
    "    print(\"Local number:\", local_number)"
   ]
  },
  {
   "cell_type": "code",
   "execution_count": 97,
   "metadata": {
    "colab": {
     "base_uri": "https://localhost:8080/"
    },
    "id": "JvOjd91fGILS",
    "outputId": "d7753061-9c05-49f6-c7d9-59fd4f299b30"
   },
   "outputs": [
    {
     "name": "stdout",
     "output_type": "stream",
     "text": [
      "Local number: 10\n"
     ]
    }
   ],
   "source": [
    "# функция всегда \"предпочтет\" локальную переменную\n",
    "print_number()"
   ]
  },
  {
   "cell_type": "code",
   "execution_count": 98,
   "metadata": {
    "colab": {
     "base_uri": "https://localhost:8080/"
    },
    "id": "306Y9HOWGIOf",
    "outputId": "41ec6f6a-5d13-4412-e844-e63767eda086"
   },
   "outputs": [
    {
     "name": "stdout",
     "output_type": "stream",
     "text": [
      "Global number: 5\n"
     ]
    }
   ],
   "source": [
    "# при этом значение глобальной переменной для остального кода не изменится\n",
    "print(\"Global number:\", global_number)"
   ]
  },
  {
   "cell_type": "markdown",
   "metadata": {
    "id": "xLJn10TGXhlq"
   },
   "source": [
    "### Lambda-функции"
   ]
  },
  {
   "cell_type": "code",
   "execution_count": 99,
   "metadata": {
    "colab": {
     "base_uri": "https://localhost:8080/"
    },
    "id": "CFPwBvbYXrYR",
    "outputId": "4b879d40-03cc-4851-df11-29a92136f043"
   },
   "outputs": [],
   "source": [
    "lf: Callable[[int, int], int] = lambda z_val, b_val: z_val * b_val"
   ]
  },
  {
   "cell_type": "code",
   "execution_count": 100,
   "metadata": {
    "colab": {
     "base_uri": "https://localhost:8080/"
    },
    "id": "65xVovHHXks9",
    "outputId": "d3bdc43a-fed4-4f65-bb86-4dc388694488"
   },
   "outputs": [
    {
     "data": {
      "text/plain": [
       "6"
      ]
     },
     "execution_count": 100,
     "metadata": {},
     "output_type": "execute_result"
    }
   ],
   "source": [
    "# этот же функционал можно поместить в обычную функцию\n",
    "\n",
    "\n",
    "def normal_f(p_val: int, j_val: int) -> int:\n",
    "    \"\"\"Multiply two numbers.\"\"\"\n",
    "    return p_val * j_val\n",
    "\n",
    "\n",
    "normal_f(2, 3)"
   ]
  },
  {
   "cell_type": "markdown",
   "metadata": {
    "id": "na0O4KAlE1Pk"
   },
   "source": [
    "#### Lambda-функция внутри функции filter()"
   ]
  },
  {
   "cell_type": "code",
   "execution_count": 101,
   "metadata": {
    "colab": {
     "base_uri": "https://localhost:8080/"
    },
    "id": "RMNawYCas6ER",
    "outputId": "0ccd1139-a50f-491c-f44b-43d8602f3c26"
   },
   "outputs": [
    {
     "data": {
      "text/plain": [
       "[15, 27, 18]"
      ]
     },
     "execution_count": 101,
     "metadata": {},
     "output_type": "execute_result"
    }
   ],
   "source": [
    "nums = [15, 27, 9, 18, 3, 1, 4]\n",
    "\n",
    "list(filter(lambda n_val: n_val > 10, nums))"
   ]
  },
  {
   "cell_type": "code",
   "execution_count": 102,
   "metadata": {
    "colab": {
     "base_uri": "https://localhost:8080/"
    },
    "id": "VWAYPtGg0YQh",
    "outputId": "9a81b80a-52c4-46c3-8bc1-07a445561738"
   },
   "outputs": [
    {
     "data": {
      "text/plain": [
       "[15, 27, 18]"
      ]
     },
     "execution_count": 102,
     "metadata": {},
     "output_type": "execute_result"
    }
   ],
   "source": [
    "# ту же задачу можно решить через обычную функцию,\n",
    "# но придется написать больше кода\n",
    "\n",
    "\n",
    "def is_greater_10(n_val: int) -> bool:\n",
    "    \"\"\"Return True if number is greater than 10, False otherwise.\"\"\"\n",
    "    if n_val > 10:\n",
    "        return True\n",
    "    return False\n",
    "\n",
    "\n",
    "list(filter(is_greater_10, nums))"
   ]
  },
  {
   "cell_type": "markdown",
   "metadata": {
    "id": "k9aPF9yVE9eF"
   },
   "source": [
    "#### Lambda-функция внутри функции sorted()"
   ]
  },
  {
   "cell_type": "code",
   "execution_count": 103,
   "metadata": {
    "colab": {
     "base_uri": "https://localhost:8080/"
    },
    "id": "dMFSmXtJYb39",
    "outputId": "20eb2b83-cad8-4fc5-fc11-fcbca0ea3725"
   },
   "outputs": [
    {
     "data": {
      "text/plain": [
       "[(901, 0.0), (1002, 0.22982440568634488), (442, 0.25401128310081567)]"
      ]
     },
     "execution_count": 103,
     "metadata": {},
     "output_type": "execute_result"
    }
   ],
   "source": [
    "# напомню, что мы создали список из кортежей,\n",
    "# и в каждом кортеже был индекс фильма и расстояние до него\n",
    "indices_distances = [\n",
    "    (901, 0.0),\n",
    "    (1002, 0.22982440568634488),\n",
    "    (442, 0.25401128310081567),\n",
    "]\n",
    "\n",
    "# lambda-функция возьмет каждый кортеж и вернет второй [1] его элемент\n",
    "# передав эту функцию через параметр key, мы отсортируем список по расстоянию\n",
    "sorted(indices_distances, key=lambda x_val: x_val[1], reverse=False)"
   ]
  },
  {
   "cell_type": "markdown",
   "metadata": {
    "id": "C8bwJf2oLI69"
   },
   "source": [
    "#### Немедленно вызываемые функции"
   ]
  },
  {
   "cell_type": "code",
   "execution_count": 104,
   "metadata": {
    "colab": {
     "base_uri": "https://localhost:8080/"
    },
    "id": "XjbG4yHOK9in",
    "outputId": "178e510d-4aac-4ef5-b663-8b527bfb333d"
   },
   "outputs": [],
   "source": [
    "# lambda-функцию можно вызвать сразу в момент объявления\n",
    "# (lambda x_val: x_val * x_val)(10)"
   ]
  },
  {
   "cell_type": "markdown",
   "metadata": {
    "id": "pgeY1tf6U9PP"
   },
   "source": [
    "### \\*args и \\**kwargs"
   ]
  },
  {
   "cell_type": "markdown",
   "metadata": {
    "id": "uCX_-CWeYJeZ"
   },
   "source": [
    "#### \\*args"
   ]
  },
  {
   "cell_type": "code",
   "execution_count": 105,
   "metadata": {
    "id": "QxlLBRqLW0Mu"
   },
   "outputs": [],
   "source": [
    "def mean(q_val: float, s_val: float) -> float:\n",
    "    \"\"\"Calculate arithmetic mean of two numbers.\"\"\"\n",
    "    return (q_val + s_val) / 2"
   ]
  },
  {
   "cell_type": "code",
   "execution_count": 106,
   "metadata": {
    "colab": {
     "base_uri": "https://localhost:8080/"
    },
    "id": "EhuFz8wpXBVr",
    "outputId": "db2f6e0a-3c22-464a-f071-2f8817d3b936"
   },
   "outputs": [
    {
     "data": {
      "text/plain": [
       "1.5"
      ]
     },
     "execution_count": 106,
     "metadata": {},
     "output_type": "execute_result"
    }
   ],
   "source": [
    "mean(1, 2)"
   ]
  },
  {
   "cell_type": "code",
   "execution_count": 107,
   "metadata": {
    "id": "cyQLlIZLVIM3"
   },
   "outputs": [],
   "source": [
    "def mean_2(list_val: list[int]) -> float:\n",
    "    \"\"\"Calculate arithmetic mean of numbers in list.\"\"\"\n",
    "    # зададим переменную для суммы,\n",
    "    total = 0\n",
    "\n",
    "    # в цикле сложим все числа из списка\n",
    "    for i_val in list_val:\n",
    "        total += i_val\n",
    "\n",
    "    # и разделим на количество элементов\n",
    "    return total / len(list_val)"
   ]
  },
  {
   "cell_type": "code",
   "execution_count": 108,
   "metadata": {
    "colab": {
     "base_uri": "https://localhost:8080/"
    },
    "id": "nh7pebndVIQU",
    "outputId": "1436f42d-4a15-4d13-d917-bad885b440df"
   },
   "outputs": [
    {
     "data": {
      "text/plain": [
       "2.5"
      ]
     },
     "execution_count": 108,
     "metadata": {},
     "output_type": "execute_result"
    }
   ],
   "source": [
    "mean_2([1, 2, 3, 4])"
   ]
  },
  {
   "cell_type": "code",
   "execution_count": 109,
   "metadata": {
    "id": "vwrIY7CqVIYO"
   },
   "outputs": [],
   "source": [
    "# объявим функцию с *args\n",
    "\n",
    "\n",
    "def mean_3(*nums_val: int) -> float:\n",
    "    \"\"\"Calculate arithmetic mean of arbitrary number of numbers.\"\"\"\n",
    "    # в данном случае мы складываем элементы кортежа\n",
    "    total = 0\n",
    "    for i_val in nums_val:\n",
    "        total += i_val\n",
    "\n",
    "    return total / len(nums_val)"
   ]
  },
  {
   "cell_type": "code",
   "execution_count": 110,
   "metadata": {
    "colab": {
     "base_uri": "https://localhost:8080/"
    },
    "id": "P5Q1bhIVXz9p",
    "outputId": "137523e1-03c8-49d5-ad5e-445879480dbf"
   },
   "outputs": [
    {
     "data": {
      "text/plain": [
       "2.5"
      ]
     },
     "execution_count": 110,
     "metadata": {},
     "output_type": "execute_result"
    }
   ],
   "source": [
    "# теперь мы можем передать функции отдельные числа\n",
    "mean_3(1, 2, 3, 4)"
   ]
  },
  {
   "cell_type": "code",
   "execution_count": 111,
   "metadata": {
    "colab": {
     "base_uri": "https://localhost:8080/"
    },
    "id": "bhHgfAZ-Ytmp",
    "outputId": "a13075ac-6eef-4c70-b02b-fdd68cdf6be4"
   },
   "outputs": [
    {
     "data": {
      "text/plain": [
       "12.5"
      ]
     },
     "execution_count": 111,
     "metadata": {},
     "output_type": "execute_result"
    }
   ],
   "source": [
    "# или список\n",
    "mean_3(*[5, 10, 15, 20])"
   ]
  },
  {
   "cell_type": "code",
   "execution_count": 112,
   "metadata": {
    "colab": {
     "base_uri": "https://localhost:8080/"
    },
    "id": "L3NKa556r5O0",
    "outputId": "7523137c-3f2c-419c-81c0-3573b02993b0"
   },
   "outputs": [
    {
     "name": "stdout",
     "output_type": "stream",
     "text": [
      "(1, 2, 3, 4) <class 'tuple'>\n"
     ]
    }
   ],
   "source": [
    "# убедимся, что оператор распаковки * формирует кортеж\n",
    "\n",
    "\n",
    "def test_type(*nums_val: float) -> None:\n",
    "    \"\"\"Print tuple of numbers and its type.\"\"\"\n",
    "    print(nums_val, type(nums_val))\n",
    "\n",
    "\n",
    "test_type(1, 2, 3, 4)"
   ]
  },
  {
   "cell_type": "code",
   "execution_count": 113,
   "metadata": {
    "colab": {
     "base_uri": "https://localhost:8080/"
    },
    "id": "XHDvzgXFxql2",
    "outputId": "05e55975-5e49-4bff-b0ee-e1fa91dad322"
   },
   "outputs": [
    {
     "name": "stdout",
     "output_type": "stream",
     "text": [
      "(5, 10, 15, 20) <class 'tuple'>\n"
     ]
    }
   ],
   "source": [
    "# со списком происходит то же самое\n",
    "test_type(*[5, 10, 15, 20])"
   ]
  },
  {
   "cell_type": "code",
   "execution_count": 114,
   "metadata": {
    "colab": {
     "base_uri": "https://localhost:8080/"
    },
    "id": "JeLoABCMy_om",
    "outputId": "3f00f8a2-8801-456a-9341-df12e3753e1d"
   },
   "outputs": [
    {
     "name": "stdout",
     "output_type": "stream",
     "text": [
      "[1, 2, 3, 4, 5, 6]\n"
     ]
    }
   ],
   "source": [
    "# для наглядности приведем еще один пример\n",
    "a_ls_val = [1, 2, 3]\n",
    "b_ls_val = [*a_ls_val, 4, 5, 6]\n",
    "\n",
    "print(b_ls_val)"
   ]
  },
  {
   "cell_type": "markdown",
   "metadata": {
    "id": "qh8xqKMwYLpH"
   },
   "source": [
    "#### \\**kwargs"
   ]
  },
  {
   "cell_type": "code",
   "execution_count": 115,
   "metadata": {
    "id": "gzEpZF_13Vfq"
   },
   "outputs": [
    {
     "data": {
      "text/plain": [
       "dict_items([('a', 1), ('b', 2)])"
      ]
     },
     "execution_count": 115,
     "metadata": {},
     "output_type": "execute_result"
    }
   ],
   "source": [
    "def show_kwarguments(**kwargs: int) -> ItemsView[str, int]:\n",
    "    \"\"\"Convert keyword arguments into dictionary items.\"\"\"\n",
    "    return kwargs.items()\n",
    "\n",
    "\n",
    "show_kwarguments(a=1, b=2)"
   ]
  }
 ],
 "metadata": {
  "colab": {
   "provenance": [],
   "toc_visible": true
  },
  "kernelspec": {
   "display_name": "Python 3",
   "language": "python",
   "name": "python3"
  },
  "language_info": {
   "codemirror_mode": {
    "name": "ipython",
    "version": 3
   },
   "file_extension": ".py",
   "mimetype": "text/x-python",
   "name": "python",
   "nbconvert_exporter": "python",
   "pygments_lexer": "ipython3",
   "version": "3.11.3"
  }
 },
 "nbformat": 4,
 "nbformat_minor": 0
}
