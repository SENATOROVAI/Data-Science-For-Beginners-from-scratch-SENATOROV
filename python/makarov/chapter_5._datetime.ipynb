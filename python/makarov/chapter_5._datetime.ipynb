{
 "cells": [
  {
   "cell_type": "code",
   "execution_count": 38,
   "metadata": {},
   "outputs": [
    {
     "data": {
      "text/plain": [
       "'Datetime.'"
      ]
     },
     "execution_count": 38,
     "metadata": {},
     "output_type": "execute_result"
    }
   ],
   "source": [
    "\"\"\"Datetime.\"\"\""
   ]
  },
  {
   "cell_type": "markdown",
   "metadata": {
    "id": "gQkolpFlve1y"
   },
   "source": [
    "## Дата и время в Питоне"
   ]
  },
  {
   "cell_type": "markdown",
   "metadata": {
    "id": "FYsC5TYTyazW"
   },
   "source": [
    "### Модуль datetime"
   ]
  },
  {
   "cell_type": "markdown",
   "metadata": {
    "id": "TSeEV1bV2vnj"
   },
   "source": [
    "Импорт модуля и класса datetime"
   ]
  },
  {
   "cell_type": "code",
   "execution_count": null,
   "metadata": {},
   "outputs": [],
   "source": [
    "from datetime import datetime, timedelta"
   ]
  },
  {
   "cell_type": "code",
   "execution_count": 40,
   "metadata": {},
   "outputs": [],
   "source": [
    "# импортируем весь модуль\n",
    "# import datetime\n",
    "\n",
    "# чтобы получить доступ к функции now(), сначала обратимся к модулю, потом к классу\n",
    "# print(datetime.datetime.now())"
   ]
  },
  {
   "cell_type": "code",
   "execution_count": 41,
   "metadata": {
    "colab": {
     "base_uri": "https://localhost:8080/"
    },
    "id": "nxtEc-BavPKZ",
    "outputId": "bb9075d5-baa2-41d2-92ba-8895fce037b0"
   },
   "outputs": [
    {
     "name": "stdout",
     "output_type": "stream",
     "text": [
      "2025-09-20 14:20:24.693089\n"
     ]
    }
   ],
   "source": [
    "# часто из модуля datetime удобнее импортировать только класс datetime\n",
    "# from datetime import datetime, timedelta\n",
    "\n",
    "# и обращаться непосредственно к нему\n",
    "print(datetime.now())"
   ]
  },
  {
   "cell_type": "markdown",
   "metadata": {
    "id": "Z1xtQ8AV2y-B"
   },
   "source": [
    "Объект datetime и функция `now()`"
   ]
  },
  {
   "cell_type": "code",
   "execution_count": 42,
   "metadata": {
    "colab": {
     "base_uri": "https://localhost:8080/"
    },
    "id": "98cvjJ8zzZnl",
    "outputId": "bd99406a-1c6d-4675-cfbe-c930787a3703"
   },
   "outputs": [
    {
     "name": "stdout",
     "output_type": "stream",
     "text": [
      "2025-09-20 14:20:24.699451\n"
     ]
    }
   ],
   "source": [
    "# поместим созданный с помощью now() объект datetime в переменную cur_dt\n",
    "cur_dt = datetime.now()\n",
    "print(cur_dt)"
   ]
  },
  {
   "cell_type": "code",
   "execution_count": 43,
   "metadata": {
    "colab": {
     "base_uri": "https://localhost:8080/"
    },
    "id": "SdIrLFCP3BRS",
    "outputId": "d224fe02-1a6c-4a3b-a997-9ce35d08e461"
   },
   "outputs": [
    {
     "name": "stdout",
     "output_type": "stream",
     "text": [
      "2025 9 20 14 20 24 699451\n"
     ]
    }
   ],
   "source": [
    "# с помощью соответствующих атрибутов выведем каждый из компонентов объекта\n",
    "print(\n",
    "    cur_dt.year,\n",
    "    cur_dt.month,\n",
    "    cur_dt.day,\n",
    "    cur_dt.hour,\n",
    "    cur_dt.minute,\n",
    "    cur_dt.second,\n",
    "    cur_dt.microsecond,\n",
    ")"
   ]
  },
  {
   "cell_type": "code",
   "execution_count": 44,
   "metadata": {
    "colab": {
     "base_uri": "https://localhost:8080/"
    },
    "id": "x-FZ6xl_Tn9a",
    "outputId": "c9a3d44f-fd53-453e-f419-67e0b9e53b08"
   },
   "outputs": [
    {
     "name": "stdout",
     "output_type": "stream",
     "text": [
      "5 6\n"
     ]
    }
   ],
   "source": [
    "# также можно посмотреть на день недели\n",
    "# метод .weekday() начинает индекс недели с нуля, .isoweekday() - с единицы\n",
    "print(cur_dt.weekday(), cur_dt.isoweekday())"
   ]
  },
  {
   "cell_type": "code",
   "execution_count": 45,
   "metadata": {
    "colab": {
     "base_uri": "https://localhost:8080/"
    },
    "id": "YiTIBHFGjdvR",
    "outputId": "e1ec254e-660c-4108-e510-cee43e10996e"
   },
   "outputs": [
    {
     "name": "stdout",
     "output_type": "stream",
     "text": [
      "None\n"
     ]
    }
   ],
   "source": [
    "# посмотрим на часовой пояс с помощью атрибута tzinfo\n",
    "print(cur_dt.tzinfo)"
   ]
  },
  {
   "cell_type": "markdown",
   "metadata": {
    "id": "Y-V3a7ZUoVnR"
   },
   "source": [
    "Timestamp"
   ]
  },
  {
   "cell_type": "code",
   "execution_count": 46,
   "metadata": {
    "id": "2TNSk7hEoU-D"
   },
   "outputs": [],
   "source": [
    "# получим timestamp текущего времени с помощью метода .timestamp()\n",
    "timestamp = datetime.now().timestamp()"
   ]
  },
  {
   "cell_type": "code",
   "execution_count": 47,
   "metadata": {
    "colab": {
     "base_uri": "https://localhost:8080/"
    },
    "id": "ZCeooK3Tv7GH",
    "outputId": "4342bd68-e605-428c-964c-d1c2e2d64c87"
   },
   "outputs": [
    {
     "name": "stdout",
     "output_type": "stream",
     "text": [
      "1758367224.731711\n"
     ]
    }
   ],
   "source": [
    "# выведем количество секунд, прошедшее с 01.01.1970 до исполнения кода\n",
    "print(timestamp)"
   ]
  },
  {
   "cell_type": "code",
   "execution_count": 48,
   "metadata": {
    "colab": {
     "base_uri": "https://localhost:8080/"
    },
    "id": "dmkfZp7Evj3W",
    "outputId": "8c5155da-7415-4dc3-a521-71c95b546eb2"
   },
   "outputs": [
    {
     "name": "stdout",
     "output_type": "stream",
     "text": [
      "2025-09-20 14:20:24.731711\n"
     ]
    }
   ],
   "source": [
    "# вернем timestamp в прежний формат с помощью метода .fromtimestamp()\n",
    "print(datetime.fromtimestamp(timestamp))"
   ]
  },
  {
   "cell_type": "markdown",
   "metadata": {
    "id": "bpYReaGi6iQD"
   },
   "source": [
    "Создание объекта datetime вручную"
   ]
  },
  {
   "cell_type": "code",
   "execution_count": 49,
   "metadata": {
    "colab": {
     "base_uri": "https://localhost:8080/"
    },
    "id": "6XVGJFxV5Nws",
    "outputId": "628dfbb9-ea00-44b9-f0d1-8351a0013ea0"
   },
   "outputs": [
    {
     "name": "stdout",
     "output_type": "stream",
     "text": [
      "1991-02-20 00:00:00\n"
     ]
    }
   ],
   "source": [
    "# передадим объекту datetime 20 февраля 1991 года\n",
    "hb = datetime(1991, 2, 20)\n",
    "print(hb)"
   ]
  },
  {
   "cell_type": "code",
   "execution_count": 50,
   "metadata": {
    "colab": {
     "base_uri": "https://localhost:8080/"
    },
    "id": "oHPz-UYb7GzX",
    "outputId": "2788e7c7-c4d1-475a-b0a4-ec2b389e7d31"
   },
   "outputs": [
    {
     "name": "stdout",
     "output_type": "stream",
     "text": [
      "1991\n"
     ]
    }
   ],
   "source": [
    "# извлечем год с помощью атрибута year\n",
    "print(hb.year)"
   ]
  },
  {
   "cell_type": "code",
   "execution_count": 51,
   "metadata": {
    "colab": {
     "base_uri": "https://localhost:8080/"
    },
    "id": "fbtdZpi6wKrP",
    "outputId": "17d9465f-9cba-47b5-bf22-b4f76a8e05b0"
   },
   "outputs": [
    {
     "name": "stdout",
     "output_type": "stream",
     "text": [
      "666997200.0\n"
     ]
    }
   ],
   "source": [
    "# создадим timestamp\n",
    "print(datetime.timestamp(hb))"
   ]
  },
  {
   "cell_type": "markdown",
   "metadata": {
    "id": "dTkMHBejzz3r"
   },
   "source": [
    "### Преобразование строки в объект datetime и обратно"
   ]
  },
  {
   "cell_type": "markdown",
   "metadata": {
    "id": "L0tp_c2bc_Ma"
   },
   "source": [
    "Строка ➞ datetime через `.strptime()`"
   ]
  },
  {
   "cell_type": "code",
   "execution_count": 52,
   "metadata": {
    "colab": {
     "base_uri": "https://localhost:8080/"
    },
    "id": "hRuMEZe4wXi5",
    "outputId": "721f628e-30ac-4d48-b138-922036f80097"
   },
   "outputs": [
    {
     "data": {
      "text/plain": [
       "str"
      ]
     },
     "execution_count": 52,
     "metadata": {},
     "output_type": "execute_result"
    }
   ],
   "source": [
    "str_to_dt = \"2007-12-02 12:30:45\"\n",
    "type(str_to_dt)"
   ]
  },
  {
   "cell_type": "code",
   "execution_count": 53,
   "metadata": {
    "colab": {
     "base_uri": "https://localhost:8080/"
    },
    "id": "sfM4trm008IJ",
    "outputId": "43933acf-18d7-41e6-bd17-6741c4b6325a"
   },
   "outputs": [
    {
     "name": "stdout",
     "output_type": "stream",
     "text": [
      "2007-12-02 12:30:45\n",
      "<class 'datetime.datetime'>\n"
     ]
    }
   ],
   "source": [
    "# преобразуем ее в datetime с помощью метода .strptime()\n",
    "res_dt = datetime.strptime(str_to_dt, \"%Y-%m-%d %H:%M:%S\")\n",
    "# ломается если не соотв-ет шаблону\n",
    "\n",
    "print(res_dt)\n",
    "print(type(res_dt))"
   ]
  },
  {
   "cell_type": "markdown",
   "metadata": {
    "id": "FE1YFP-ydtaG"
   },
   "source": [
    "Datetime ➞ строка через `.strftime()`"
   ]
  },
  {
   "cell_type": "code",
   "execution_count": 54,
   "metadata": {
    "colab": {
     "base_uri": "https://localhost:8080/"
    },
    "id": "EuA4wuLbds4k",
    "outputId": "40eb394b-c837-429a-b2ff-6b80f8bf8abe"
   },
   "outputs": [
    {
     "data": {
      "text/plain": [
       "datetime.datetime"
      ]
     },
     "execution_count": 54,
     "metadata": {},
     "output_type": "execute_result"
    }
   ],
   "source": [
    "# вначале создадим объект datetime и передадим ему 19 ноября 2002 года\n",
    "dt_to_str = datetime(2002, 11, 19)\n",
    "type(dt_to_str)"
   ]
  },
  {
   "cell_type": "code",
   "execution_count": 55,
   "metadata": {
    "colab": {
     "base_uri": "https://localhost:8080/"
    },
    "id": "r7WXYXRmc17Z",
    "outputId": "9a996781-9e1f-40c0-b9ca-14c93db8f9d2"
   },
   "outputs": [
    {
     "name": "stdout",
     "output_type": "stream",
     "text": [
      "Tuesday, November 19, 2002\n",
      "<class 'str'>\n"
     ]
    }
   ],
   "source": [
    "# преобразуем объект в строку в формате \"день недели, месяц число, год\"\n",
    "res_str = datetime.strftime(dt_to_str, \"%A, %B %d, %Y\")\n",
    "\n",
    "print(res_str)\n",
    "print(type(res_str))"
   ]
  },
  {
   "cell_type": "code",
   "execution_count": 56,
   "metadata": {
    "colab": {
     "base_uri": "https://localhost:8080/",
     "height": 35
    },
    "id": "shboqnqE2qNH",
    "outputId": "bc5c5981-a7a9-43ef-8002-b92e02b7e713"
   },
   "outputs": [
    {
     "data": {
      "text/plain": [
       "'19, 2002, Tuesday, November'"
      ]
     },
     "execution_count": 56,
     "metadata": {},
     "output_type": "execute_result"
    }
   ],
   "source": [
    "# .strftime() можно применять непосредственно к объекту datetime\n",
    "dt_to_str.strftime(\"%d, %Y, %A, %B\")"
   ]
  },
  {
   "cell_type": "code",
   "execution_count": 57,
   "metadata": {
    "colab": {
     "base_uri": "https://localhost:8080/",
     "height": 35
    },
    "id": "gzLSq5M14BLJ",
    "outputId": "391f050e-ffe2-4520-f63d-2389950cb9ce"
   },
   "outputs": [
    {
     "data": {
      "text/plain": [
       "'2025-09-20'"
      ]
     },
     "execution_count": 57,
     "metadata": {},
     "output_type": "execute_result"
    }
   ],
   "source": [
    "# можно и так\n",
    "datetime.now().strftime(\"%Y-%m-%d\")"
   ]
  },
  {
   "cell_type": "code",
   "execution_count": 58,
   "metadata": {
    "colab": {
     "base_uri": "https://localhost:8080/",
     "height": 35
    },
    "id": "h0NiDIWKEU8B",
    "outputId": "22a503bc-76b3-4c5c-9479-b68bbdc2e5ac"
   },
   "outputs": [
    {
     "data": {
      "text/plain": [
       "'Sat Sep 20 14:20:24 2025'"
      ]
     },
     "execution_count": 58,
     "metadata": {},
     "output_type": "execute_result"
    }
   ],
   "source": [
    "# а еще так\n",
    "datetime.now().strftime(\"%c\")"
   ]
  },
  {
   "cell_type": "markdown",
   "metadata": {
    "id": "KbxUl-Xe7To-"
   },
   "source": [
    "Форматирование даты и времени через `.strptime()` и `.strftime()`\n",
    "\n",
    "strptime() - строка → datetime\n",
    "\n",
    "strftime() - datetime → строка"
   ]
  },
  {
   "cell_type": "markdown",
   "metadata": {
    "id": "tSi--Po_82L2"
   },
   "source": [
    "|Код | Описание | Пример |\n",
    "| --- | --- | --- |\n",
    "| `%a` | Сокращенное название дня недели | Sun, Mon, … |\n",
    "| `%A` | Полное название дня недели | Sunday, Monday, … |\n",
    "| `%w` | День недели как число, Вс - 0, Пн - 1, ... Сб - 6 | 0, 1, …, 6 |\n",
    "| `%d` | День месяца в виде числа с нулями | 01, 02, …, 31 |\n",
    "| `%-d` | День месяца в виде числа без нулей | 1, 2, …, 31 |\n",
    "| `%b` | Сокращенное название месяца | Jan, Feb, …, Dec |\n",
    "| `%B` | Полное название месяца | January, February, … |\n",
    "| `%m` | Месяц в виде числа с нулями | 01, 02, …, 12 |\n",
    "| `%-m` | Месяц в виде числа без нулей | 1, 2, …, 12 |\n",
    "| `%y` | Год без века как число с нулями | 00, 01, …, 99 |\n",
    "| `%-y` | Год без века как число без нулей | 0, 1, …, 99 |\n",
    "| `%Y` | Год с веком | 1999, 2019, ... |\n",
    "| `%H` | Час (в 24-часовом формате) в виде числа с нулями | 00, 01, …, 23 |\n",
    "| `%-H` | Час (в 24-часовом формате) в виде числа без нулей | 0, 1, …, 23 |\n",
    "| `%I` | Час (12-часовой формат) в виде числа с нулями | 01, 02, …, 12 |\n",
    "| `%-I` | Час (12-часовой формат) в виде числа без нулей | 1, 2, …, 12 |\n",
    "| `%p` | AM или PM | AM, PM |\n",
    "| `%M` | Минуты в виде числа с нулями | 00, 01, …, 59 |\n",
    "| `%-M` | Минуты в виде числа без нулей | 0, 1, …, 59 |\n",
    "| `%S` | Секунды в виде числа с нулями | 00, 01, …, 59 |\n",
    "| `%-S` | Секунды в виде числа без нулей | 0, 1, …, 59 |\n",
    "| `%j` | День года в виде числа с нулями | 001, 002, …, 366 |\n",
    "| `%-j` | День года в виде числа без нулей | 1, 2, …, 366 |\n",
    "| `%c` | Полная дата и время | Sun Nov 21 10:38:12 2021 |\n",
    "| `%x` | Дата | 11/21/21 |\n",
    "| `%X` | Время | 10:43:51 |"
   ]
  },
  {
   "cell_type": "markdown",
   "metadata": {
    "id": "P3Mq8tzhgS7S"
   },
   "source": [
    "### Сравнение и арифметика дат"
   ]
  },
  {
   "cell_type": "markdown",
   "metadata": {
    "id": "O49Iw50ggiet"
   },
   "source": [
    "Сравнение дат"
   ]
  },
  {
   "cell_type": "code",
   "execution_count": 59,
   "metadata": {
    "id": "Ge_6VJYEfvM4"
   },
   "outputs": [],
   "source": [
    "# сравним две даты публикации работ Эйнштейна\n",
    "date1 = datetime(1905, 6, 30)  # \"К электродинамике движущихся тел\"\n",
    "date2 = datetime(1916, 5, 11)  # Общая теория относительности"
   ]
  },
  {
   "cell_type": "code",
   "execution_count": 60,
   "metadata": {
    "colab": {
     "base_uri": "https://localhost:8080/"
    },
    "id": "k1k7OhWJrVTu",
    "outputId": "d8db0667-3908-4cd7-af89-a1b81dd8f493"
   },
   "outputs": [
    {
     "data": {
      "text/plain": [
       "True"
      ]
     },
     "execution_count": 60,
     "metadata": {},
     "output_type": "execute_result"
    }
   ],
   "source": [
    "# большей считается более поздняя дата\n",
    "date1 < date2"
   ]
  },
  {
   "cell_type": "code",
   "execution_count": 61,
   "metadata": {
    "colab": {
     "base_uri": "https://localhost:8080/"
    },
    "id": "FXZTPJ_Nrebd",
    "outputId": "d0307f84-ea01-4729-e8c1-d34fc72d670f"
   },
   "outputs": [
    {
     "data": {
      "text/plain": [
       "False"
      ]
     },
     "execution_count": 61,
     "metadata": {},
     "output_type": "execute_result"
    }
   ],
   "source": [
    "# обратное будет признано ложным\n",
    "date1 > date2"
   ]
  },
  {
   "cell_type": "markdown",
   "metadata": {
    "id": "9xI-dfch12iX"
   },
   "source": [
    "Календарный и алфавитный порядок дат"
   ]
  },
  {
   "cell_type": "code",
   "execution_count": 62,
   "metadata": {
    "colab": {
     "base_uri": "https://localhost:8080/"
    },
    "id": "Qdv9abZq1qs4",
    "outputId": "87c2a586-b3f1-4b19-ea5a-7313eb81049f"
   },
   "outputs": [
    {
     "name": "stdout",
     "output_type": "stream",
     "text": [
      "True\n"
     ]
    }
   ],
   "source": [
    "# если даты записаны в виде строки в формате ГГГГ.ММ.ДД,\n",
    "# то мы можем их сравнивать, как если бы мы сравнивали объекты datetime\n",
    "\n",
    "# вначале запишем даты в виде строки и сравним их\n",
    "str_1 = \"2007-12-02\"\n",
    "str_2 = \"2002-11-19\"\n",
    "print(str_1 > str_2)"
   ]
  },
  {
   "cell_type": "code",
   "execution_count": 63,
   "metadata": {
    "colab": {
     "base_uri": "https://localhost:8080/"
    },
    "id": "tsldkuKj11Pj",
    "outputId": "011d1d88-5ed2-4276-ea88-3ba7a2cc942e"
   },
   "outputs": [
    {
     "name": "stdout",
     "output_type": "stream",
     "text": [
      "True\n"
     ]
    }
   ],
   "source": [
    "# теперь в виде объекта datetime\n",
    "print(datetime(2007, 12, 2) > datetime(2002, 11, 19))"
   ]
  },
  {
   "cell_type": "markdown",
   "metadata": {
    "id": "eBCy30h6sGlR"
   },
   "source": [
    "Промежуток времени и класс timedelta"
   ]
  },
  {
   "cell_type": "code",
   "execution_count": 64,
   "metadata": {
    "colab": {
     "base_uri": "https://localhost:8080/"
    },
    "id": "C5TvKlGwrhBi",
    "outputId": "2218b9c3-f9cc-4560-da95-a8043fef5763"
   },
   "outputs": [
    {
     "name": "stdout",
     "output_type": "stream",
     "text": [
      "3968 days, 0:00:00\n"
     ]
    }
   ],
   "source": [
    "# если из большей даты вычесть меньшую, то мы получим промежуток между датами\n",
    "diff = date2 - date1\n",
    "print(diff)"
   ]
  },
  {
   "cell_type": "code",
   "execution_count": 65,
   "metadata": {
    "colab": {
     "base_uri": "https://localhost:8080/"
    },
    "id": "J-NTeeEhup9m",
    "outputId": "a14a600b-1fd7-4a22-d982-2ccf4a96433c"
   },
   "outputs": [
    {
     "data": {
      "text/plain": [
       "datetime.timedelta"
      ]
     },
     "execution_count": 65,
     "metadata": {},
     "output_type": "execute_result"
    }
   ],
   "source": [
    "# при этом результат будет храниться в специальном объекте timedelta\n",
    "type(diff)"
   ]
  },
  {
   "cell_type": "code",
   "execution_count": 66,
   "metadata": {
    "colab": {
     "base_uri": "https://localhost:8080/"
    },
    "id": "aFNEGOxcsMF3",
    "outputId": "59d0a6da-8dc1-4bda-e833-7c2b371367fd"
   },
   "outputs": [
    {
     "name": "stdout",
     "output_type": "stream",
     "text": [
      "3968\n"
     ]
    }
   ],
   "source": [
    "# атрибут days позволяет посмотреть только дни\n",
    "print(diff.days)"
   ]
  },
  {
   "cell_type": "code",
   "execution_count": 67,
   "metadata": {
    "colab": {
     "base_uri": "https://localhost:8080/"
    },
    "id": "EiefdopEvouW",
    "outputId": "f6150ba8-aacf-4caf-a7b1-083e56d559a0"
   },
   "outputs": [
    {
     "name": "stdout",
     "output_type": "stream",
     "text": [
      "1 day, 0:00:00\n"
     ]
    }
   ],
   "source": [
    "# объект timedelta можно также создать вручную\n",
    "\n",
    "# для этого вначале импортируем соответствующий класс\n",
    "# from datetime import timedelta\n",
    "\n",
    "# а затем создадим объект timedelta продолжительностью 1 день\n",
    "print(timedelta(days=1))"
   ]
  },
  {
   "cell_type": "markdown",
   "metadata": {
    "id": "pyI8hHfnvg3N"
   },
   "source": [
    "Арифметика дат"
   ]
  },
  {
   "cell_type": "code",
   "execution_count": 68,
   "metadata": {
    "colab": {
     "base_uri": "https://localhost:8080/"
    },
    "id": "nkffSQKXuGCU",
    "outputId": "ec5d4ccc-9379-4218-b4eb-052b7428db8e"
   },
   "outputs": [
    {
     "name": "stdout",
     "output_type": "stream",
     "text": [
      "2070-01-01 00:00:00\n"
     ]
    }
   ],
   "source": [
    "# смотрите, что получается,\n",
    "# объединив объекты datetime и timedelta, мы можем \"путешествовать во времени\"\n",
    "\n",
    "# допустим сейчас 1 января 2070 года\n",
    "future = datetime(2070, 1, 1)\n",
    "print(future)"
   ]
  },
  {
   "cell_type": "code",
   "execution_count": 69,
   "metadata": {
    "colab": {
     "base_uri": "https://localhost:8080/"
    },
    "id": "u33VnF9FwdOK",
    "outputId": "db91b0e6-2d95-4005-e741-2d37cf5fb018"
   },
   "outputs": [
    {
     "name": "stdout",
     "output_type": "stream",
     "text": [
      "1900-02-12 00:00:00\n"
     ]
    }
   ],
   "source": [
    "# а мы хотим отправиться в 1 января 1900 года, т.е. на 170 лет назад\n",
    "\n",
    "# сначала просто умножим 365 дней на 170\n",
    "time_travel = timedelta(days=365) * 170\n",
    "\n",
    "# а потом переместимся из будущего в прошлое\n",
    "past = future - time_travel\n",
    "\n",
    "# к сожалению, мы немного \"не долетим\", потому что не учли високосные годы\n",
    "print(past)"
   ]
  },
  {
   "cell_type": "code",
   "execution_count": 70,
   "metadata": {
    "colab": {
     "base_uri": "https://localhost:8080/"
    },
    "id": "IWpNXDwu9x3W",
    "outputId": "c37fff62-1418-45ea-901f-6c1d2b594580"
   },
   "outputs": [
    {
     "name": "stdout",
     "output_type": "stream",
     "text": [
      "62050\n"
     ]
    }
   ],
   "source": [
    "# мы пролетели 62050 дней\n",
    "print(365 * 170)"
   ]
  },
  {
   "cell_type": "code",
   "execution_count": 71,
   "metadata": {
    "colab": {
     "base_uri": "https://localhost:8080/"
    },
    "id": "sHiGMhj77tgo",
    "outputId": "c33a8fd2-1e9f-4c0d-9a5d-c0ef0b406d9c"
   },
   "outputs": [
    {
     "name": "stdout",
     "output_type": "stream",
     "text": [
      "62092 days, 0:00:00\n"
     ]
    }
   ],
   "source": [
    "# но мы уже умеем вычислять точное количество дней (с учетом високосных годов)\n",
    "print(datetime(2070, 1, 1) - datetime(1900, 1, 1))"
   ]
  },
  {
   "cell_type": "code",
   "execution_count": 72,
   "metadata": {
    "colab": {
     "base_uri": "https://localhost:8080/"
    },
    "id": "MWZY2OQN8G-7",
    "outputId": "88ad8f91-deac-45a0-cdf6-0450ca51b603"
   },
   "outputs": [
    {
     "name": "stdout",
     "output_type": "stream",
     "text": [
      "1900-01-01 00:00:00\n"
     ]
    }
   ],
   "source": [
    "time_travel = timedelta(days=62092)\n",
    "\n",
    "past = future - time_travel\n",
    "print(past)"
   ]
  },
  {
   "cell_type": "code",
   "execution_count": 73,
   "metadata": {
    "colab": {
     "base_uri": "https://localhost:8080/"
    },
    "id": "nkSTbuvexi9g",
    "outputId": "d3489414-84f5-4ca6-fb73-8707dd0dc2ec"
   },
   "outputs": [
    {
     "name": "stdout",
     "output_type": "stream",
     "text": [
      "Jan 01, 2021\n",
      "Jan 02, 2021\n",
      "Jan 03, 2021\n",
      "Jan 04, 2021\n",
      "Jan 05, 2021\n",
      "Jan 06, 2021\n",
      "Jan 07, 2021\n",
      "Jan 08, 2021\n",
      "Jan 09, 2021\n",
      "Jan 10, 2021\n"
     ]
    }
   ],
   "source": [
    "# иногда бывает удобно воспользоваться циклом while, чтобы создать перечень дат\n",
    "# например, список праздничных новогодних дней в 2021 году\n",
    "\n",
    "cur_date = datetime(2021, 1, 1)  # эту дату мы будем выводить\n",
    "end_date = datetime(2021, 1, 10)  # это граница (условие в цикле while)\n",
    "\n",
    "# пока верно условие\n",
    "while cur_date <= end_date:\n",
    "\n",
    "    # выведем cur_date в формате \"месяц число, год\"\n",
    "    print(cur_date.strftime(\"%b %d, %Y\"))\n",
    "\n",
    "    # прибавим к выводимой дате один день\n",
    "    cur_date += timedelta(days=1)"
   ]
  },
  {
   "cell_type": "markdown",
   "metadata": {
    "id": "3cOKyoFdBtZm"
   },
   "source": [
    "### Дата и обработка ошибок"
   ]
  },
  {
   "cell_type": "markdown",
   "metadata": {
    "id": "lrt4HeBBB29k"
   },
   "source": [
    "Конструкция try/except и оператор pass"
   ]
  },
  {
   "cell_type": "code",
   "execution_count": 74,
   "metadata": {
    "colab": {
     "base_uri": "https://localhost:8080/"
    },
    "id": "FKxevIYyB84_",
    "outputId": "bec690e7-0d3d-4809-839c-477ccadd68f1"
   },
   "outputs": [
    {
     "name": "stdout",
     "output_type": "stream",
     "text": [
      "ValueError\n"
     ]
    },
    {
     "data": {
      "text/plain": [
       "40"
      ]
     },
     "execution_count": 74,
     "metadata": {},
     "output_type": "execute_result"
    }
   ],
   "source": [
    "# пусть дан список чисел в строковом формате, и мы хотим посчитать их сумму\n",
    "# предположим, буква \"а\" попала в список случайно\n",
    "numbers = [\"5\", \"10\", \"a\", \"15\", \"10\"]\n",
    "\n",
    "# объявим переменную суммы\n",
    "total = 0\n",
    "\n",
    "# пройдемся по числам\n",
    "for number in numbers:\n",
    "\n",
    "    # попробуем прибавить число к переменной total\n",
    "    try:\n",
    "        total += int(number)\n",
    "\n",
    "    # если же этого сделать не удастся\n",
    "    except ValueError as error:\n",
    "        print(type(error).__name__)\n",
    "        # перейдем к следующему числу\n",
    "        pass  # pylint: disable=unnecessary-pass\n",
    "\n",
    "# выведем сумму\n",
    "total"
   ]
  },
  {
   "cell_type": "code",
   "execution_count": 75,
   "metadata": {
    "colab": {
     "base_uri": "https://localhost:8080/"
    },
    "id": "uTWdPszlOnft",
    "outputId": "690633b3-11f3-45b8-dc40-8ac507710aab"
   },
   "outputs": [
    {
     "name": "stdout",
     "output_type": "stream",
     "text": [
      "ValueError\n",
      "Элемент 'a' обработать не удалось\n"
     ]
    },
    {
     "data": {
      "text/plain": [
       "40"
      ]
     },
     "execution_count": 75,
     "metadata": {},
     "output_type": "execute_result"
    }
   ],
   "source": [
    "# напишем этот же код\n",
    "total = 0\n",
    "\n",
    "for number in numbers:\n",
    "    try:\n",
    "        total += int(number)\n",
    "    except ValueError as error:\n",
    "        print(type(error).__name__)\n",
    "        # но выведем предупреждение, если число прибавить не удалось\n",
    "        print(f\"Элемент '{number}' обработать не удалось\")\n",
    "\n",
    "total"
   ]
  }
 ],
 "metadata": {
  "colab": {
   "provenance": [],
   "toc_visible": true
  },
  "kernelspec": {
   "display_name": "Python 3",
   "language": "python",
   "name": "python3"
  },
  "language_info": {
   "codemirror_mode": {
    "name": "ipython",
    "version": 3
   },
   "file_extension": ".py",
   "mimetype": "text/x-python",
   "name": "python",
   "nbconvert_exporter": "python",
   "pygments_lexer": "ipython3",
   "version": "3.11.3"
  }
 },
 "nbformat": 4,
 "nbformat_minor": 0
}
