{
 "cells": [
  {
   "cell_type": "code",
   "execution_count": null,
   "id": "8fde9398",
   "metadata": {},
   "outputs": [],
   "source": [
    "\"\"\"Переменные в питоне.\"\"\""
   ]
  },
  {
   "cell_type": "markdown",
   "id": "fb8e04b7",
   "metadata": {},
   "source": [
    "### Создание (объявление) переменных"
   ]
  },
  {
   "cell_type": "code",
   "execution_count": null,
   "id": "559c2b97",
   "metadata": {},
   "outputs": [
    {
     "name": "stdout",
     "output_type": "stream",
     "text": [
      "15\n"
     ]
    }
   ],
   "source": [
    "# можно создать переменную, присвоив ей числовое значение\n",
    "x1 = 15\n",
    "print(x1)"
   ]
  },
  {
   "cell_type": "code",
   "execution_count": null,
   "id": "05ca5259",
   "metadata": {},
   "outputs": [
    {
     "name": "stdout",
     "output_type": "stream",
     "text": [
      "Я программирую на Питоне\n"
     ]
    }
   ],
   "source": [
    "# кроме того, переменной можно задать строковое (текстовое) значение\n",
    "y1 = \"Я программирую на Питоне\"\n",
    "print(y1)"
   ]
  },
  {
   "cell_type": "code",
   "execution_count": null,
   "id": "e0bcc0ca",
   "metadata": {},
   "outputs": [
    {
     "name": "stdout",
     "output_type": "stream",
     "text": [
      "Питон C++ PHP\n"
     ]
    }
   ],
   "source": [
    "# в Питоне можно присвоить разные значения сразу нескольким переменным\n",
    "a1, b1, c1 = \"Питон\", \"C++\", \"PHP\"\n",
    "print(a1, b1, c1)"
   ]
  },
  {
   "cell_type": "code",
   "execution_count": null,
   "id": "d17ce5d4",
   "metadata": {},
   "outputs": [
    {
     "name": "stdout",
     "output_type": "stream",
     "text": [
      "То же самое значение То же самое значение То же самое значение\n"
     ]
    }
   ],
   "source": [
    "# а также присвоить одно и то же значение нескольким переменным\n",
    "x2 = y2 = z2 = \"То же самое значение\"\n",
    "print(x2, y2, z2)"
   ]
  },
  {
   "cell_type": "code",
   "execution_count": null,
   "id": "c7265da1",
   "metadata": {},
   "outputs": [
    {
     "name": "stdout",
     "output_type": "stream",
     "text": [
      "помидоры огурцы картофель\n"
     ]
    }
   ],
   "source": [
    "# каждый элемент списка можно \"распаковать\" в переменные\n",
    "my_list = [\"помидоры\", \"огурцы\", \"картофель\"]\n",
    "a2, b2, c2 = my_list\n",
    "print(a2, b2, c2)"
   ]
  },
  {
   "cell_type": "markdown",
   "id": "0f0c16fd",
   "metadata": {},
   "source": [
    "### Автоматическое определение типа данных"
   ]
  },
  {
   "cell_type": "code",
   "execution_count": null,
   "id": "0b3ad145",
   "metadata": {},
   "outputs": [],
   "source": [
    "x3 = 256  # в этом случае переменной x присваивается тип int (целочисленное значение)\n",
    "y3 = 0.25  # y становится float (десятичной дробью)\n",
    "z3 = \"Просто текст\"  # z становится str (строкой)"
   ]
  },
  {
   "cell_type": "markdown",
   "id": "a7d07538",
   "metadata": {},
   "source": [
    "### Как узнать тип переменной в Питоне"
   ]
  },
  {
   "cell_type": "code",
   "execution_count": null,
   "id": "96544dbf",
   "metadata": {},
   "outputs": [
    {
     "name": "stdout",
     "output_type": "stream",
     "text": [
      "<class 'int'> <class 'float'> <class 'str'>\n"
     ]
    }
   ],
   "source": [
    "# узнаем тип переменных из предыдущего примера\n",
    "print(type(x3), type(y3), type(z3))"
   ]
  },
  {
   "cell_type": "markdown",
   "id": "db27f9ee",
   "metadata": {},
   "source": [
    "### Присвоение и преобразование типа данных"
   ]
  },
  {
   "cell_type": "markdown",
   "id": "0f342151",
   "metadata": {},
   "source": [
    "Присвоение типа данных"
   ]
  },
  {
   "cell_type": "code",
   "execution_count": null,
   "id": "0b66507d",
   "metadata": {},
   "outputs": [],
   "source": [
    "x4 = str(25)  # число 25 превратится в строку\n",
    "y4 = int(25)  # число 25 останется целочисленным значением\n",
    "z4 = float(25)  # число 25 превратится в десятичную дробь"
   ]
  },
  {
   "cell_type": "code",
   "execution_count": null,
   "id": "6a1425c4",
   "metadata": {},
   "outputs": [
    {
     "name": "stdout",
     "output_type": "stream",
     "text": [
      "<class 'str'> <class 'int'> <class 'float'>\n"
     ]
    }
   ],
   "source": [
    "print(type(x4), type(y4), type(z4))"
   ]
  },
  {
   "cell_type": "markdown",
   "id": "509229e6",
   "metadata": {},
   "source": [
    "Изменение типа данных"
   ]
  },
  {
   "cell_type": "code",
   "execution_count": null,
   "id": "0e19de28",
   "metadata": {},
   "outputs": [
    {
     "name": "stdout",
     "output_type": "stream",
     "text": [
      "<class 'int'>\n"
     ]
    }
   ],
   "source": [
    "# преобразуем строку, похожую на целое число, в целое число\n",
    "print(type(int(\"25\")))"
   ]
  },
  {
   "cell_type": "code",
   "execution_count": null,
   "id": "2b3b52b2",
   "metadata": {},
   "outputs": [
    {
     "name": "stdout",
     "output_type": "stream",
     "text": [
      "<class 'float'>\n"
     ]
    }
   ],
   "source": [
    "# или строку, похожую на дробь, в настоящую десятичную дробь\n",
    "print(type(float(\"2.5\")))"
   ]
  },
  {
   "cell_type": "code",
   "execution_count": null,
   "id": "2d10e63c",
   "metadata": {},
   "outputs": [
    {
     "name": "stdout",
     "output_type": "stream",
     "text": [
      "36\n",
      "<class 'int'>\n"
     ]
    }
   ],
   "source": [
    "# преобразуем дробь в целочисленное значение\n",
    "# обратите внимание, что округления в большую сторону не происходит\n",
    "print(int(36.6))\n",
    "print(type(int(36.6)))"
   ]
  },
  {
   "cell_type": "code",
   "execution_count": null,
   "id": "a7e3a603",
   "metadata": {},
   "outputs": [
    {
     "name": "stdout",
     "output_type": "stream",
     "text": [
      "<class 'str'>\n",
      "<class 'str'>\n"
     ]
    }
   ],
   "source": [
    "# конечно, и целое число, и дробь можно преобразовать в строку\n",
    "print(type(str(25)))\n",
    "print(type(str(36.6)))"
   ]
  },
  {
   "cell_type": "markdown",
   "id": "e0ff1e21",
   "metadata": {},
   "source": [
    "### Именование переменных"
   ]
  },
  {
   "cell_type": "markdown",
   "id": "5b857380",
   "metadata": {},
   "source": [
    "Допустимые имена переменных"
   ]
  },
  {
   "cell_type": "markdown",
   "id": "511c78be",
   "metadata": {},
   "source": [
    "```python\n",
    "variable = \"Просто переменная\"\n",
    "_variable = \"Просто переменная\"\n",
    "variable_ = \"Просто переменная\"\n",
    "my_variable = \"Просто переменная\"\n",
    "My_variable_123 = \"Просто переменная\"\n",
    "```"
   ]
  },
  {
   "cell_type": "markdown",
   "id": "c83b1567",
   "metadata": {},
   "source": [
    "Имя переменной состоит из нескольких слов"
   ]
  },
  {
   "cell_type": "markdown",
   "id": "e7997b04",
   "metadata": {},
   "source": [
    "можно применить так называемый верблюжий регистр, camelCase\n",
    "все слова кроме первого начинаются с заглавной буквы и пишутся слитно\n",
    "camelCaseVariable = \"Верблюжий регистр\"\n",
    "\n",
    "нотацию Паскаль, PascalCase (то же самое, только тепер все слова пишутся с заглавной)\n",
    "PascalCaseVariable = \"Нотация Паскаль\"\n",
    "\n",
    "змеиный стиль, snake_case (с нижними подчеркиваниями)\n",
    "snake_case_variable = \"Змеиная нотация\""
   ]
  },
  {
   "cell_type": "markdown",
   "id": "2403bcf7",
   "metadata": {},
   "source": [
    "### Ответы на вопросы"
   ]
  },
  {
   "cell_type": "markdown",
   "id": "eddccce6",
   "metadata": {},
   "source": [
    "**Вопрос**. Как можно преобразовать список чисел таким образом, чтобы каждый элемент списка превратился в отдельную строку?"
   ]
  },
  {
   "cell_type": "code",
   "execution_count": null,
   "id": "cbb1b255",
   "metadata": {},
   "outputs": [],
   "source": [
    "# возьмем простой список\n",
    "list5 = [1, 2, 3]"
   ]
  },
  {
   "cell_type": "code",
   "execution_count": null,
   "id": "f8ad2782",
   "metadata": {},
   "outputs": [
    {
     "data": {
      "application/vnd.google.colaboratory.intrinsic+json": {
       "type": "string"
      },
      "text/plain": [
       "'[1, 2, 3]'"
      ]
     },
     "metadata": {},
     "output_type": "display_data"
    }
   ],
   "source": [
    "# использовать только функцию str() нельзя\n",
    "str(list5)"
   ]
  },
  {
   "cell_type": "code",
   "execution_count": null,
   "id": "fca50637",
   "metadata": {},
   "outputs": [
    {
     "data": {
      "text/plain": [
       "['1', '2', '3']"
      ]
     },
     "metadata": {},
     "output_type": "display_data"
    }
   ],
   "source": [
    "# вариант 1: объявить новый список и в цикле for помещать туда строковые значения\n",
    "list_str = []\n",
    "\n",
    "for x5 in list5:\n",
    "    list_str.append(str(x5))\n",
    "\n",
    "list_str"
   ]
  },
  {
   "cell_type": "code",
   "execution_count": null,
   "id": "0c89471f",
   "metadata": {},
   "outputs": [
    {
     "data": {
      "text/plain": [
       "['1', '2', '3']"
      ]
     },
     "metadata": {},
     "output_type": "display_data"
    }
   ],
   "source": [
    "# вариант 2: использовать list comprehension\n",
    "new_method = [str(x5) for x5 in list5]"
   ]
  },
  {
   "cell_type": "code",
   "execution_count": null,
   "id": "bf182990",
   "metadata": {},
   "outputs": [
    {
     "data": {
      "text/plain": [
       "['1', '2', '3']"
      ]
     },
     "metadata": {},
     "output_type": "display_data"
    }
   ],
   "source": [
    "# вариант 3: функции map() и list()\n",
    "list(map(str, list5))"
   ]
  }
 ],
 "metadata": {
  "language_info": {
   "name": "python"
  }
 },
 "nbformat": 4,
 "nbformat_minor": 5
}
