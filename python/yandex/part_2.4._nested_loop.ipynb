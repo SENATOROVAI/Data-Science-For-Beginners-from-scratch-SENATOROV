{
 "cells": [
  {
   "cell_type": "code",
   "execution_count": null,
   "id": "abffa62b",
   "metadata": {},
   "outputs": [],
   "source": [
    "\"\"\"2.4 Nested loop.\"\"\""
   ]
  },
  {
   "cell_type": "code",
   "execution_count": null,
   "id": "10585766",
   "metadata": {},
   "outputs": [],
   "source": [
    "# Таблица умножения\n",
    "size = int(input())\n",
    "\n",
    "for row in range(1, size + 1):\n",
    "    for col in range(1, size + 1):\n",
    "        print(row * col, end=\" \")\n",
    "    print()"
   ]
  },
  {
   "cell_type": "code",
   "execution_count": null,
   "id": "2642307a",
   "metadata": {},
   "outputs": [],
   "source": [
    "# Не таблица умножения\n",
    "size = int(input())\n",
    "for second in range(1, size + 1):\n",
    "    for first in range(1, size + 1):\n",
    "        print(f\"{first} * {second} = {first * second}\")"
   ]
  },
  {
   "cell_type": "code",
   "execution_count": null,
   "id": "309f8659",
   "metadata": {},
   "outputs": [],
   "source": [
    "# Новогоднее настроение\n",
    "count_numbers = int(input())\n",
    "number = 1\n",
    "row = 1\n",
    "col = 1\n",
    "while number <= count_numbers:\n",
    "    print(number, end=\" \")\n",
    "    number += 1\n",
    "\n",
    "    col += 1\n",
    "    if col > row:\n",
    "        print()\n",
    "        col = 1\n",
    "        row += 1"
   ]
  },
  {
   "cell_type": "code",
   "execution_count": null,
   "id": "dbc6197a",
   "metadata": {},
   "outputs": [],
   "source": [
    "# Суммарная сумма\n",
    "count_numbers = int(input())\n",
    "amount = 0\n",
    "for _ in range(count_numbers):\n",
    "    amount += sum(map(int, list(input())))\n",
    "print(amount)"
   ]
  },
  {
   "cell_type": "code",
   "execution_count": null,
   "id": "c8f1cbdb",
   "metadata": {},
   "outputs": [],
   "source": [
    "# Зайка — 5\n",
    "count_areas = int(input())\n",
    "count_need_areas = 0\n",
    "for _ in range(count_areas):\n",
    "    need_word = False\n",
    "    word = input()\n",
    "    while word != \"ВСЁ\":\n",
    "        if word == \"зайка\":\n",
    "            need_word = True\n",
    "        word = input()\n",
    "    count_need_areas += need_word\n",
    "print(count_need_areas)"
   ]
  },
  {
   "cell_type": "code",
   "execution_count": null,
   "id": "8e759757",
   "metadata": {},
   "outputs": [],
   "source": [
    "# НОД 2.0\n",
    "\n",
    "\n",
    "def get_gcd(n1: int, n2: int) -> int:\n",
    "    \"\"\"Find gcd.\n",
    "\n",
    "    Args:\n",
    "        number1 (int): first number\n",
    "        number2 (int): second_number\n",
    "\n",
    "    Returns:\n",
    "        int: gcd\n",
    "    \"\"\"\n",
    "    while n2 != 0:\n",
    "        n1, n2 = n2, n1 % n2\n",
    "    return int(n1)\n",
    "\n",
    "\n",
    "count_numbers = int(input())\n",
    "number1 = int(input())\n",
    "for _ in range(count_numbers - 1):\n",
    "    number2 = int(input())\n",
    "    number1 = get_gcd(number1, number2)\n",
    "print(number1)"
   ]
  },
  {
   "cell_type": "code",
   "execution_count": null,
   "id": "09e9d596",
   "metadata": {},
   "outputs": [],
   "source": [
    "# На старт! Внимание! Марш!\n",
    "count_people = int(input())\n",
    "count_time = 3\n",
    "\n",
    "for number_start in range(1, count_people + 1):\n",
    "    for sec in range(count_time, 0, -1):\n",
    "        print(f\"До старта {sec} секунд(ы)\")\n",
    "    print(f\"Старт {number_start}!!!\")\n",
    "    count_time += 1"
   ]
  },
  {
   "cell_type": "code",
   "execution_count": null,
   "id": "6f18553d",
   "metadata": {},
   "outputs": [],
   "source": [
    "# Максимальная сумма\n",
    "name_win = \"\"\n",
    "max_sum_numeric = 0\n",
    "count_children = int(input())\n",
    "for _ in range(count_children):\n",
    "    name = input()\n",
    "    sum_numerics = sum(map(int, list(input())))\n",
    "    if sum_numerics >= max_sum_numeric:\n",
    "        name_win = name\n",
    "        max_sum_numeric = sum_numerics\n",
    "print(name_win)"
   ]
  },
  {
   "cell_type": "code",
   "execution_count": null,
   "id": "3d50400e",
   "metadata": {},
   "outputs": [],
   "source": [
    "# Большое число\n",
    "answer = \"\"\n",
    "count_children = int(input())\n",
    "for _ in range(count_children):\n",
    "    max_numeric = max(map(int, list(input())))\n",
    "    answer += str(max_numeric)\n",
    "print(answer)"
   ]
  },
  {
   "cell_type": "code",
   "execution_count": null,
   "id": "166df1d0",
   "metadata": {},
   "outputs": [],
   "source": [
    "# Мы делили апельсин\n",
    "count_parts = int(input())\n",
    "print(\"А Б В\")\n",
    "for anya in range(1, count_parts - 1):\n",
    "    for borya in range(1, count_parts - anya):\n",
    "        vova = count_parts - anya - borya\n",
    "        print(anya, borya, vova)"
   ]
  },
  {
   "cell_type": "code",
   "execution_count": null,
   "id": "09f9be08",
   "metadata": {},
   "outputs": [],
   "source": [
    "# Простая задача 3.0\n",
    "count_numbers = int(input())\n",
    "count_need_numbers = 0\n",
    "for _ in range(count_numbers):\n",
    "    number = int(input())\n",
    "\n",
    "    for i in range(2, int(number**0.5) + 1):\n",
    "        if number % i == 0:\n",
    "            break\n",
    "    else:\n",
    "        if number >= 2:\n",
    "            count_need_numbers += 1\n",
    "\n",
    "print(count_need_numbers)"
   ]
  },
  {
   "cell_type": "code",
   "execution_count": null,
   "id": "447e8bf1",
   "metadata": {},
   "outputs": [],
   "source": [
    "# Числовой прямоугольник\n",
    "n_area = int(input())\n",
    "m_area = int(input())\n",
    "number = 1\n",
    "width = len(str(n_area * m_area))\n",
    "for row in range(n_area):\n",
    "    for col in range(m_area):\n",
    "        print(f\"{number:>{width}}\", end=\" \")\n",
    "        number += 1\n",
    "    print()"
   ]
  },
  {
   "cell_type": "code",
   "execution_count": null,
   "id": "dc4d38cf",
   "metadata": {},
   "outputs": [],
   "source": [
    "# Числовой прямоугольник 2.0\n",
    "n_area = int(input())\n",
    "m_area = int(input())\n",
    "number = 1\n",
    "width = len(str(n_area * m_area))\n",
    "for row in range(n_area):\n",
    "    for col in range(m_area):\n",
    "        print(f\"{number:>{width}}\", end=\" \")\n",
    "        number += n_area\n",
    "    print()\n",
    "    number -= n_area * (m_area) - 1"
   ]
  },
  {
   "cell_type": "code",
   "execution_count": null,
   "id": "278cca7d",
   "metadata": {},
   "outputs": [],
   "source": [
    "# Числовая змейка\n",
    "n_area = int(input())\n",
    "m_area = int(input())\n",
    "number = 1\n",
    "width = len(str(n_area * m_area))\n",
    "for row in range(n_area):\n",
    "    for col in range(m_area):\n",
    "        number = (\n",
    "            (row * m_area + col + 1) if row % 2 == 0 else (row * m_area + m_area - col)\n",
    "        )\n",
    "        print(f\"{number:>{width}}\", end=\" \")\n",
    "    print()"
   ]
  },
  {
   "cell_type": "code",
   "execution_count": null,
   "id": "84193b8f",
   "metadata": {},
   "outputs": [],
   "source": [
    "# Числовая змейка 2.0\n",
    "# Числовая змейка\n",
    "n_area = int(input())\n",
    "m_area = int(input())\n",
    "number = 1\n",
    "width = len(str(n_area * m_area))\n",
    "for row in range(n_area):\n",
    "    for col in range(m_area):\n",
    "        number = (\n",
    "            (col * n_area + row + 1) if col % 2 == 0 else (col * n_area + n_area - row)\n",
    "        )\n",
    "        print(f\"{number:>{width}}\", end=\" \")\n",
    "    print()"
   ]
  },
  {
   "cell_type": "code",
   "execution_count": null,
   "id": "3c8dafda",
   "metadata": {},
   "outputs": [],
   "source": [
    "# Редизайн таблицы умножения\n",
    "size = int(input())\n",
    "width = int(input())\n",
    "\n",
    "for row in range(1, size + 1):\n",
    "    for col in range(1, size + 1):\n",
    "        print(f\"{row * col:^{width}}\", end=\"\")\n",
    "        if size * row != row * col:\n",
    "            print(\"|\", end=\"\")\n",
    "    print()\n",
    "    if row != size:\n",
    "        print(\"-\" * (width * size + size - 1))"
   ]
  },
  {
   "cell_type": "code",
   "execution_count": null,
   "id": "dcecef4f",
   "metadata": {},
   "outputs": [],
   "source": [
    "# А роза упала на лапу Азора 3.0\n",
    "count_numbers = int(input())\n",
    "count = 0\n",
    "for _ in range(count_numbers):\n",
    "    number_str = input()\n",
    "    if number_str == number_str[::-1]:\n",
    "        count += 1\n",
    "print(count)"
   ]
  },
  {
   "cell_type": "code",
   "execution_count": null,
   "id": "a90ee2c3",
   "metadata": {},
   "outputs": [],
   "source": [
    "count_numbers = int(input())\n",
    "\n",
    "rows = 0\n",
    "total_used = 0\n",
    "\n",
    "while total_used < count_numbers:\n",
    "    rows += 1\n",
    "    total_used += rows\n",
    "\n",
    "lines = []\n",
    "current_num = 1\n",
    "\n",
    "for row in range(1, rows + 1):\n",
    "    row_numbers = []\n",
    "    numbers_in_row = min(row, count_numbers - current_num + 1)\n",
    "\n",
    "    for _ in range(numbers_in_row):\n",
    "        row_numbers.append(str(current_num))\n",
    "        current_num += 1\n",
    "\n",
    "    line = \" \".join(row_numbers)\n",
    "    lines.append(line)\n",
    "\n",
    "    if current_num > count_numbers:\n",
    "        break\n",
    "\n",
    "max_width = len(lines[-1])\n",
    "\n",
    "for line in lines:\n",
    "    print(f\"{line:^{max_width}}\")"
   ]
  },
  {
   "cell_type": "code",
   "execution_count": null,
   "id": "65f3205d",
   "metadata": {},
   "outputs": [],
   "source": [
    "size = int(input())\n",
    "width = len(str(size // 2 + 1))\n",
    "for row in range(size):\n",
    "    for col in range(size):\n",
    "        num1 = min(row - 0, abs(row - (size - 1))) + 1\n",
    "        num2 = min(col - 0, abs(col - (size - 1))) + 1\n",
    "        num = min(num1, num2)\n",
    "        print(f\"{num:>{width}}\", end=\" \")\n",
    "    print()"
   ]
  },
  {
   "cell_type": "code",
   "execution_count": 87,
   "id": "7d1266e7",
   "metadata": {},
   "outputs": [
    {
     "name": "stdout",
     "output_type": "stream",
     "text": [
      "9\n"
     ]
    }
   ],
   "source": [
    "# Математическая выгода\n",
    "start_number = int(input())\n",
    "max_result = 0\n",
    "top_notation = 2\n",
    "for notation in range(2, 11):\n",
    "    number = start_number\n",
    "    total = 0\n",
    "    while number:\n",
    "        total += number % notation\n",
    "        number //= notation\n",
    "    if total > max_result:\n",
    "        max_result = total\n",
    "        top_notation = notation\n",
    "print(top_notation)"
   ]
  }
 ],
 "metadata": {
  "kernelspec": {
   "display_name": "Python 3",
   "language": "python",
   "name": "python3"
  },
  "language_info": {
   "codemirror_mode": {
    "name": "ipython",
    "version": 3
   },
   "file_extension": ".py",
   "mimetype": "text/x-python",
   "name": "python",
   "nbconvert_exporter": "python",
   "pygments_lexer": "ipython3",
   "version": "3.11.3"
  }
 },
 "nbformat": 4,
 "nbformat_minor": 5
}
