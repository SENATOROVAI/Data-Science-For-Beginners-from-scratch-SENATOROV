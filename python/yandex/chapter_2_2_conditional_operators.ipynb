{
 "cells": [
  {
   "cell_type": "code",
   "execution_count": null,
   "metadata": {},
   "outputs": [],
   "source": [
    "\"\"\"Conditional operators.\"\"\""
   ]
  },
  {
   "cell_type": "code",
   "execution_count": null,
   "metadata": {},
   "outputs": [
    {
     "name": "stdout",
     "output_type": "stream",
     "text": [
      "Здравствуйте, Maryia!\n",
      "Всё наладится!\n"
     ]
    }
   ],
   "source": [
    "# 1\n",
    "import math\n",
    "\n",
    "username: str = input(\"Как Вас зовут?\\n\")\n",
    "print(f\"Здравствуйте, {username}!\")\n",
    "response: str = input(\"Как дела?\\n\")\n",
    "\n",
    "if response == \"хорошо\":\n",
    "    print(\"Я за вас рада!\")\n",
    "else:\n",
    "    print(\"Всё наладится!\")"
   ]
  },
  {
   "cell_type": "code",
   "execution_count": null,
   "metadata": {},
   "outputs": [
    {
     "name": "stdout",
     "output_type": "stream",
     "text": [
      "Вася\n"
     ]
    }
   ],
   "source": [
    "# 2\n",
    "\n",
    "route_length: int = 43872\n",
    "\n",
    "first_participant_average_speed: int = int(input())\n",
    "second_participant_average_speed: int = int(input())\n",
    "\n",
    "if first_participant_average_speed > second_participant_average_speed:\n",
    "    print(\"Петя\")\n",
    "else:\n",
    "    print(\"Вася\")"
   ]
  },
  {
   "cell_type": "code",
   "execution_count": null,
   "metadata": {},
   "outputs": [
    {
     "name": "stdout",
     "output_type": "stream",
     "text": [
      "Вася\n"
     ]
    }
   ],
   "source": [
    "# 3\n",
    "\n",
    "p_speed: float = float(input())\n",
    "v_speed: float = float(input())\n",
    "t_speed: float = float(input())\n",
    "\n",
    "\n",
    "if p_speed > v_speed and p_speed > t_speed:\n",
    "    print(\"Петя\")\n",
    "elif v_speed > p_speed and v_speed > t_speed:\n",
    "    print(\"Вася\")\n",
    "else:\n",
    "    print(\"Толя\")"
   ]
  },
  {
   "cell_type": "code",
   "execution_count": null,
   "metadata": {},
   "outputs": [
    {
     "name": "stdout",
     "output_type": "stream",
     "text": [
      "1. Петя\n",
      "2. Вася\n",
      "3. Толя\n"
     ]
    }
   ],
   "source": [
    "# 4\n",
    "\n",
    "track_length = 43872\n",
    "\n",
    "first_name = \"Петя\"\n",
    "first_speed = float(input())\n",
    "second_name = \"Вася\"\n",
    "second_speed = float(input())\n",
    "third_name = \"Толя\"\n",
    "third_speed = float(input())\n",
    "\n",
    "if first_speed < second_speed:\n",
    "    first_speed, second_speed = second_speed, first_speed\n",
    "    first_name, second_name = second_name, first_name\n",
    "\n",
    "if second_speed < third_speed:\n",
    "    second_speed, third_speed = third_speed, second_speed\n",
    "    second_name, third_name = third_name, second_name\n",
    "\n",
    "if first_speed < second_speed:\n",
    "    first_speed, second_speed = second_speed, first_speed\n",
    "    first_name, second_name = second_name, first_name\n",
    "\n",
    "print(f\"1. {first_name}\")\n",
    "print(f\"2. {second_name}\")\n",
    "print(f\"3. {third_name}\")"
   ]
  },
  {
   "cell_type": "code",
   "execution_count": null,
   "metadata": {},
   "outputs": [
    {
     "name": "stdout",
     "output_type": "stream",
     "text": [
      "Вася\n"
     ]
    }
   ],
   "source": [
    "# 5\n",
    "\n",
    "petya_apples: int = 7\n",
    "vasya_apples: int = 6\n",
    "tolya_apples: int = 0\n",
    "\n",
    "N_val = int(input())\n",
    "M_val = int(input())\n",
    "\n",
    "petya_apples -= 3\n",
    "vasya_apples += 3\n",
    "\n",
    "petya_apples += 2\n",
    "tolya_apples -= 2\n",
    "\n",
    "vasya_apples += 5\n",
    "tolya_apples -= 5\n",
    "\n",
    "vasya_apples -= 2\n",
    "\n",
    "petya_apples += N_val\n",
    "vasya_apples += M_val\n",
    "\n",
    "if petya_apples > vasya_apples:\n",
    "    print(\"Петя\")\n",
    "else:\n",
    "    print(\"Вася\")"
   ]
  },
  {
   "cell_type": "code",
   "execution_count": null,
   "metadata": {},
   "outputs": [
    {
     "name": "stdout",
     "output_type": "stream",
     "text": [
      "YES\n"
     ]
    }
   ],
   "source": [
    "# 6\n",
    "\n",
    "year: int = int(input())\n",
    "\n",
    "if year % 4 == 0 and (year % 100 != 0 or year % 400 == 0):\n",
    "    print(\"YES\")\n",
    "else:\n",
    "    print(\"NO\")"
   ]
  },
  {
   "cell_type": "code",
   "execution_count": null,
   "metadata": {},
   "outputs": [
    {
     "name": "stdout",
     "output_type": "stream",
     "text": [
      "YES\n"
     ]
    }
   ],
   "source": [
    "# 7\n",
    "\n",
    "number_1: int = int(input())\n",
    "\n",
    "h_val = number_1 // 1000\n",
    "j_val = (number_1 // 100) % 10\n",
    "t_val = (number_1 // 10) % 10\n",
    "d_val = number_1 % 10\n",
    "\n",
    "if h_val == d_val and j_val == t_val:\n",
    "    print(\"YES\")\n",
    "else:\n",
    "    print(\"NO\")"
   ]
  },
  {
   "cell_type": "code",
   "execution_count": null,
   "metadata": {},
   "outputs": [
    {
     "name": "stdout",
     "output_type": "stream",
     "text": [
      "NO\n"
     ]
    }
   ],
   "source": [
    "# 8\n",
    "\n",
    "sentence: str = input()\n",
    "query_1: str = \"зайка\"\n",
    "\n",
    "if query_1 in sentence:\n",
    "    print(\"YES\")\n",
    "else:\n",
    "    print(\"NO\")"
   ]
  },
  {
   "cell_type": "code",
   "execution_count": null,
   "metadata": {},
   "outputs": [
    {
     "name": "stdout",
     "output_type": "stream",
     "text": [
      "Arina\n"
     ]
    }
   ],
   "source": [
    "# 9\n",
    "\n",
    "player1: str = input()\n",
    "player2: str = input()\n",
    "player3: str = input()\n",
    "\n",
    "first_player = min(player1, player2, player3)\n",
    "\n",
    "print(first_player)"
   ]
  },
  {
   "cell_type": "code",
   "execution_count": null,
   "metadata": {},
   "outputs": [
    {
     "name": "stdout",
     "output_type": "stream",
     "text": [
      "119\n"
     ]
    }
   ],
   "source": [
    "# 10\n",
    "\n",
    "number_2: int = int(input())\n",
    "\n",
    "hundreds = number_2 // 100\n",
    "tens = (number_2 // 10) % 10\n",
    "units = number_2 % 10\n",
    "\n",
    "sum1 = tens + units\n",
    "sum2 = hundreds + tens\n",
    "\n",
    "if sum1 > sum2:\n",
    "    encrypted_number = int(f\"{sum1}{sum2}\")\n",
    "else:\n",
    "    encrypted_number = int(f\"{sum2}{sum1}\")\n",
    "\n",
    "print(encrypted_number)"
   ]
  },
  {
   "cell_type": "code",
   "execution_count": null,
   "metadata": {},
   "outputs": [
    {
     "name": "stdout",
     "output_type": "stream",
     "text": [
      "YES\n"
     ]
    }
   ],
   "source": [
    "# 11\n",
    "\n",
    "number_3: int = int(input())\n",
    "\n",
    "hundreds = number_3 // 100\n",
    "tens = (number_3 // 10) % 10\n",
    "units = number_3 % 10\n",
    "\n",
    "min_digit = min(hundreds, tens, units)\n",
    "max_digit = max(hundreds, tens, units)\n",
    "middle_digit_val = hundreds + tens + units - min_digit - max_digit\n",
    "\n",
    "if min_digit + max_digit == 2 * middle_digit_val:\n",
    "    print(\"YES\")\n",
    "else:\n",
    "    print(\"NO\")"
   ]
  },
  {
   "cell_type": "code",
   "execution_count": null,
   "metadata": {},
   "outputs": [
    {
     "name": "stdout",
     "output_type": "stream",
     "text": [
      "YES\n"
     ]
    }
   ],
   "source": [
    "# 12\n",
    "\n",
    "r_val: int = int(input())\n",
    "l_val: int = int(input())\n",
    "z_val: int = int(input())\n",
    "\n",
    "if r_val + l_val > z_val and r_val + z_val > l_val and l_val + z_val > r_val:\n",
    "    print(\"YES\")\n",
    "else:\n",
    "    print(\"NO\")"
   ]
  },
  {
   "cell_type": "code",
   "execution_count": null,
   "metadata": {},
   "outputs": [
    {
     "name": "stdout",
     "output_type": "stream",
     "text": [
      "NO\n"
     ]
    }
   ],
   "source": [
    "# 13\n",
    "\n",
    "elf_number: int = int(input())\n",
    "gnome_number: int = int(input())\n",
    "human_number: int = int(input())\n",
    "\n",
    "elf_tens = elf_number // 10\n",
    "elf_units = elf_number % 10\n",
    "gnome_tens = gnome_number // 10\n",
    "gnome_units = gnome_number % 10\n",
    "human_tens = human_number // 10\n",
    "human_units = human_number % 10\n",
    "\n",
    "if elf_tens == gnome_tens == human_tens:\n",
    "    print(elf_tens)\n",
    "elif elf_units == gnome_units == human_units:\n",
    "    print(elf_units)\n",
    "else:\n",
    "    print(\"NO\")"
   ]
  },
  {
   "cell_type": "code",
   "execution_count": null,
   "metadata": {},
   "outputs": [],
   "source": [
    "# 14\n",
    "\n",
    "number_4: int = int(input())\n",
    "\n",
    "hundreds = number_4 // 100\n",
    "tens = (number_4 // 10) % 10\n",
    "units = number_4 % 10\n",
    "\n",
    "combinations = [\n",
    "    hundreds * 10 + tens,\n",
    "    hundreds * 10 + units,\n",
    "    tens * 10 + hundreds,\n",
    "    tens * 10 + units,\n",
    "    units * 10 + hundreds,\n",
    "    units * 10 + tens,\n",
    "]\n",
    "valid_combinations = [num for num in combinations if num >= 10]\n",
    "\n",
    "print(min(valid_combinations), max(valid_combinations))"
   ]
  },
  {
   "cell_type": "code",
   "execution_count": null,
   "metadata": {},
   "outputs": [
    {
     "name": "stdout",
     "output_type": "stream",
     "text": [
      "713\n"
     ]
    }
   ],
   "source": [
    "# 15\n",
    "\n",
    "num1 = int(input())\n",
    "num2 = int(input())\n",
    "\n",
    "num1_hundreds = (num1 // 100) if num1 >= 100 else None\n",
    "num1_tens = (num1 // 10) % 10\n",
    "num1_units = num1 % 10\n",
    "\n",
    "num2_hundreds = (num2 // 100) if num2 >= 100 else None\n",
    "num2_tens = (num2 // 10) % 10\n",
    "num2_units = num2 % 10\n",
    "\n",
    "digits: list[float | None] = [\n",
    "    num1_hundreds,\n",
    "    num1_tens,\n",
    "    num1_units,\n",
    "    num2_hundreds,\n",
    "    num2_tens,\n",
    "    num2_units,\n",
    "]\n",
    "\n",
    "filtered_digits = [d for d in digits if d is not None]\n",
    "\n",
    "\n",
    "first_digit = max(filtered_digits)\n",
    "last_digit = min(filtered_digits)\n",
    "\n",
    "sum_rest_digits = sum(filtered_digits) - first_digit - last_digit\n",
    "\n",
    "middle_digit = sum_rest_digits % 10\n",
    "\n",
    "print(int(f\"{first_digit}{middle_digit}{last_digit}\"))"
   ]
  },
  {
   "cell_type": "code",
   "execution_count": null,
   "metadata": {},
   "outputs": [
    {
     "name": "stdout",
     "output_type": "stream",
     "text": [
      "         Вася         \n",
      "   Петя   \n",
      "                Толя\n",
      "   II      I      III   \n"
     ]
    }
   ],
   "source": [
    "# 16\n",
    "\n",
    "pete_speed = float(input())\n",
    "vase_speed = float(input())\n",
    "tolya_speed = float(input())\n",
    "\n",
    "distance = 43872\n",
    "\n",
    "time_pete = distance / pete_speed\n",
    "time_vase = distance / vase_speed\n",
    "time_tolya = distance / tolya_speed\n",
    "\n",
    "\n",
    "racers: list[dict[str, float | str]] = [\n",
    "    {\"name\": \"Петя\", \"time\": time_pete},\n",
    "    {\"name\": \"Вася\", \"time\": time_vase},\n",
    "    {\"name\": \"Толя\", \"time\": time_tolya},\n",
    "]\n",
    "\n",
    "\n",
    "racers.sort(key=lambda obj: obj[\"time\"])\n",
    "\n",
    "# Формируем красивый пьедестал\n",
    "print(f\"{racers[0]['name']:^22}\")  # Второе место (по центру)\n",
    "print(f\"{racers[1]['name']:^10}\")  # Первое место (по центру шире)\n",
    "print(f\"{racers[2]['name']:>20}\")  # Третье место (справа)\n",
    "print(\"   II      I      III   \")"
   ]
  },
  {
   "cell_type": "code",
   "execution_count": null,
   "metadata": {},
   "outputs": [
    {
     "name": "stdout",
     "output_type": "stream",
     "text": [
      "No solution\n"
     ]
    }
   ],
   "source": [
    "# 17\n",
    "\n",
    "\n",
    "m_val = float(input())\n",
    "p_val = float(input())\n",
    "w_val = float(input())\n",
    "\n",
    "D_val = p_val**2 - 4 * m_val * w_val\n",
    "\n",
    "if m_val == 0:\n",
    "    if p_val == 0:\n",
    "        if w_val == 0:\n",
    "            print(\"Infinite solutions\")\n",
    "        else:\n",
    "            print(\"No solution\")\n",
    "    else:\n",
    "        x_val = -w_val / p_val\n",
    "        print(f\"{x_val:.2f}\")\n",
    "else:\n",
    "    if D_val < 0:\n",
    "        print(\"No solution\")\n",
    "    elif D_val == 0:\n",
    "        x_val = -p_val / (2 * m_val)\n",
    "        print(f\"{x_val:.2f}\")\n",
    "    else:\n",
    "        x1_val = (-p_val - math.sqrt(D_val)) / (2 * m_val)\n",
    "        x2_val = (-p_val + math.sqrt(D_val)) / (2 * m_val)\n",
    "        print(f\"{min(x1_val, x2_val):.2f} {max(x1_val, x2_val):.2f}\")"
   ]
  },
  {
   "cell_type": "code",
   "execution_count": null,
   "metadata": {},
   "outputs": [
    {
     "name": "stdout",
     "output_type": "stream",
     "text": [
      "велика\n"
     ]
    }
   ],
   "source": [
    "# 18\n",
    "\n",
    "s_val: int = int(input())\n",
    "u_val: int = int(input())\n",
    "f_val: int = int(input())\n",
    "\n",
    "s_val, u_val, f_val = sorted([s_val, u_val, f_val])\n",
    "\n",
    "if f_val**2 == s_val**2 + u_val**2:\n",
    "    print(\"100%\")\n",
    "elif f_val**2 > s_val**2 + u_val**2:\n",
    "    print(\"велика\")\n",
    "else:\n",
    "    print(\"крайне мала\")"
   ]
  },
  {
   "cell_type": "code",
   "execution_count": null,
   "metadata": {},
   "outputs": [
    {
     "name": "stdout",
     "output_type": "stream",
     "text": [
      "Зона безопасна. Продолжайте работу.\n"
     ]
    }
   ],
   "source": [
    "# 19\n",
    "\n",
    "n_val: float = float(input())\n",
    "q_val: float = float(input())\n",
    "\n",
    "on_island = n_val**2 + q_val**2 <= 100\n",
    "\n",
    "condition_1 = 4 * q_val >= (n_val + 1) ** 2 - 36\n",
    "condition_2 = q_val <= 5\n",
    "condition_3 = n_val**2 + q_val**2 <= 25\n",
    "condition_4 = 3 * q_val < 5 * n_val + 3\n",
    "\n",
    "in_quicksand = condition_1 and condition_2 and condition_3 and condition_4\n",
    "\n",
    "if not on_island:\n",
    "    print(\"Вы вышли в море и рискуете быть съеденным акулой!\")\n",
    "elif in_quicksand:\n",
    "    print(\"Опасность! Покиньте зону как можно скорее!\")\n",
    "else:\n",
    "    print(\"Зона безопасна. Продолжайте работу.\")"
   ]
  },
  {
   "cell_type": "code",
   "execution_count": null,
   "metadata": {},
   "outputs": [
    {
     "name": "stdout",
     "output_type": "stream",
     "text": [
      "зайка 5\n"
     ]
    }
   ],
   "source": [
    "# 20\n",
    "\n",
    "input_1: str = input()\n",
    "input_2: str = input()\n",
    "input_3: str = input()\n",
    "\n",
    "strings = [input_1, input_2, input_3]\n",
    "query_2: str = \"зайка\"\n",
    "\n",
    "bunny_strings = [s for s in strings if query_2 in s]\n",
    "\n",
    "best_string = min(bunny_strings)\n",
    "\n",
    "print(best_string, len(best_string))"
   ]
  }
 ],
 "metadata": {
  "kernelspec": {
   "display_name": "SENATOROV",
   "language": "python",
   "name": "python3"
  },
  "language_info": {
   "codemirror_mode": {
    "name": "ipython",
    "version": 3
   },
   "file_extension": ".py",
   "mimetype": "text/x-python",
   "name": "python",
   "nbconvert_exporter": "python",
   "pygments_lexer": "ipython3",
   "version": "3.11.0"
  }
 },
 "nbformat": 4,
 "nbformat_minor": 2
}
