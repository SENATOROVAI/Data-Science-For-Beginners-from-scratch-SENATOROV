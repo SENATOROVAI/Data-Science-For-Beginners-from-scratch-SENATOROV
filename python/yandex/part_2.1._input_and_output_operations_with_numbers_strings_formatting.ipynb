{
 "cells": [
  {
   "cell_type": "code",
   "execution_count": null,
   "id": "abffa62b",
   "metadata": {},
   "outputs": [],
   "source": [
    "\"\"\"2.1 Input and output. Operations with numbers strings Formatting.\"\"\""
   ]
  },
  {
   "cell_type": "code",
   "execution_count": null,
   "id": "70057a3e",
   "metadata": {},
   "outputs": [],
   "source": [
    "# Привет, Яндекс!\n",
    "print(\"Привет, Яндекс!\")"
   ]
  },
  {
   "cell_type": "code",
   "execution_count": null,
   "id": "f384ea57",
   "metadata": {},
   "outputs": [],
   "source": [
    "# Привет, всем!\n",
    "user_name = input(\"Как Вас зовут?\")\n",
    "print(f\"Привет, {user_name}\")"
   ]
  },
  {
   "cell_type": "code",
   "execution_count": null,
   "id": "635dcae7",
   "metadata": {},
   "outputs": [],
   "source": [
    "# Излишняя автоматизация\n",
    "banknote = int(input())\n",
    "print(banknote - int(2.5 * 38))"
   ]
  },
  {
   "cell_type": "code",
   "execution_count": null,
   "id": "74886449",
   "metadata": {},
   "outputs": [],
   "source": [
    "# Сдача\n",
    "banknote = int(input())\n",
    "print(banknote - int(2.5 * 38))"
   ]
  },
  {
   "cell_type": "code",
   "execution_count": null,
   "id": "70716002",
   "metadata": {},
   "outputs": [],
   "source": [
    "# Магазин\n",
    "goods_price = int(input())\n",
    "goods_weight = int(input())\n",
    "user_money = int(input())\n",
    "print(user_money - goods_weight * goods_price)"
   ]
  },
  {
   "cell_type": "code",
   "execution_count": null,
   "id": "c9c73fb7",
   "metadata": {},
   "outputs": [],
   "source": [
    "# Чек\n",
    "goods_name = input()\n",
    "price_kg = int(input())\n",
    "goods_weight = int(input())\n",
    "user_money = int(input())\n",
    "total_cost = price_kg * goods_weight\n",
    "change = user_money - total_cost\n",
    "\n",
    "print(\"Чек\")\n",
    "print(f\"{goods_name} - {goods_weight}кг - {price_kg}руб/кг\")\n",
    "print(f\"Итого: {total_cost}руб\")\n",
    "print(f\"Внесено: {user_money}руб\")\n",
    "print(f\"Сдача: {change}руб\")"
   ]
  },
  {
   "cell_type": "code",
   "execution_count": null,
   "id": "6e0b74d0",
   "metadata": {},
   "outputs": [],
   "source": [
    "# Делу — время, потехе — час\n",
    "count = int(input())\n",
    "text = (\"Купи слона!\" + r\"\\count\") * count\n",
    "print(text)"
   ]
  },
  {
   "cell_type": "code",
   "execution_count": null,
   "id": "a982a97b",
   "metadata": {},
   "outputs": [],
   "source": [
    "# Наказание\n",
    "count = int(input())\n",
    "text_line = f'Я больше никогда не буду писать \"{input()}\"!'\n",
    "text_final = (text_line + r\"\\count\") * count\n",
    "print(text_final)"
   ]
  },
  {
   "cell_type": "code",
   "execution_count": null,
   "id": "37066cd4",
   "metadata": {},
   "outputs": [],
   "source": [
    "# Деловая колбаса\n",
    "children_count = int(input())\n",
    "minutes_count = int(input())\n",
    "print(children_count // 2 * minutes_count)"
   ]
  },
  {
   "cell_type": "code",
   "execution_count": null,
   "id": "27de1a23",
   "metadata": {},
   "outputs": [],
   "source": [
    "# Детский сад — штаны на лямках\n",
    "child_name = input()\n",
    "locker_number = int(input())\n",
    "group_number = locker_number // 100\n",
    "bed_number = locker_number // 10 % 10\n",
    "child_number = locker_number % 10\n",
    "\n",
    "print(f\"Группа №{group_number}.\")\n",
    "print(f\"{child_number}. {child_name}.\")\n",
    "print(f\"Шкафчик: {locker_number}.\")\n",
    "print(f\"Кроватка: {bed_number}.\")"
   ]
  },
  {
   "cell_type": "code",
   "execution_count": null,
   "id": "e7a00985",
   "metadata": {},
   "outputs": [],
   "source": [
    "# Автоматизация игры\n",
    "number = input()\n",
    "print(f\"{number[1]}{number[0]}{number[3]}{number[2]}\")"
   ]
  },
  {
   "cell_type": "code",
   "execution_count": null,
   "id": "3bbf88a9",
   "metadata": {},
   "outputs": [],
   "source": [
    "# Интересное сложение\n",
    "number1 = int(input())\n",
    "number2 = int(input())\n",
    "\n",
    "left_numeral = str(number1 // 100 + number2 // 100)[-1]\n",
    "medium_numeral = str(number1 // 10 % 10 + number2 // 10 % 10)[-1]\n",
    "right_numeral = str(number1 % 10 + number2 % 10)[-1]\n",
    "\n",
    "result_str = f\"{left_numeral}{medium_numeral}{right_numeral}\"\n",
    "print(int(result_str))"
   ]
  },
  {
   "cell_type": "code",
   "execution_count": null,
   "id": "547bbabc",
   "metadata": {},
   "outputs": [],
   "source": [
    "# Дед Мороз и конфеты\n",
    "children_count = int(input())\n",
    "candies_count = int(input())\n",
    "print(candies_count // children_count)\n",
    "print(candies_count % children_count)"
   ]
  },
  {
   "cell_type": "code",
   "execution_count": null,
   "id": "ccdea80a",
   "metadata": {},
   "outputs": [],
   "source": [
    "# Шарики и ручки\n",
    "red_count = int(input())\n",
    "green_count = int(input())\n",
    "blue_count = int(input())\n",
    "print(red_count + blue_count + 1)"
   ]
  },
  {
   "cell_type": "code",
   "execution_count": null,
   "id": "06065509",
   "metadata": {},
   "outputs": [],
   "source": [
    "# В ожидании доставки\n",
    "order_hours = int(input())\n",
    "order_minutes = int(input())\n",
    "delivery_minutes_all = int(input())\n",
    "\n",
    "all_time_minites = order_hours * 60 + order_minutes + delivery_minutes_all\n",
    "delivery_minutes_all_today = all_time_minites % 1440\n",
    "delivery_hours = delivery_minutes_all_today // 60\n",
    "delivery_minutes = delivery_minutes_all_today % 60\n",
    "\n",
    "print(f\"{delivery_hours:02}:{delivery_minutes:02}\")"
   ]
  },
  {
   "cell_type": "code",
   "execution_count": null,
   "id": "f541b69b",
   "metadata": {},
   "outputs": [],
   "source": [
    "# Доставка\n",
    "mark_a = int(input())\n",
    "mark_b = int(input())\n",
    "car_speed = int(input())\n",
    "\n",
    "delivery_time = (mark_b - mark_a) / car_speed\n",
    "print(f\"{delivery_time:.2f}\")"
   ]
  },
  {
   "cell_type": "code",
   "execution_count": null,
   "id": "0b3af4ae",
   "metadata": {},
   "outputs": [],
   "source": [
    "# Ошибка кассового аппарата\n",
    "current_total = int(input())\n",
    "last_purchase_binary = input()\n",
    "last_purchase_decimal = int(last_purchase_binary, 2)\n",
    "total_revenue = current_total + last_purchase_decimal\n",
    "print(total_revenue)"
   ]
  },
  {
   "cell_type": "code",
   "execution_count": null,
   "id": "59e686d7",
   "metadata": {},
   "outputs": [],
   "source": [
    "# Сдача 10\n",
    "price_binary = input().strip()\n",
    "payment_decimal = int(input())\n",
    "price_decimal = int(price_binary, 2)\n",
    "change = payment_decimal - price_decimal\n",
    "print(change)"
   ]
  },
  {
   "cell_type": "code",
   "execution_count": null,
   "id": "e6b94443",
   "metadata": {},
   "outputs": [],
   "source": [
    "# Украшение чека\n",
    "product_name = input().strip()\n",
    "price_per_kg = int(input())\n",
    "weight = int(input())\n",
    "money_given = int(input())\n",
    "\n",
    "total_cost = price_per_kg * weight\n",
    "change = money_given - total_cost\n",
    "print_price = f\"{weight}кг * {price_per_kg}руб/кг\"\n",
    "\n",
    "header = \"================Чек================\"\n",
    "product_line = f\"Товар:{product_name:>29}\"\n",
    "price_line = f\"Цена:{print_price:>30}\"\n",
    "total_line = f\"Итого:{total_cost:>26}руб\"\n",
    "paid_line = f\"Внесено:{money_given:>24}руб\"\n",
    "change_line = f\"Сдача:{change:>26}руб\"\n",
    "footer = \"===================================\"\n",
    "\n",
    "print(header)\n",
    "print(product_line)\n",
    "print(price_line)\n",
    "print(total_line)\n",
    "print(paid_line)\n",
    "print(change_line)\n",
    "print(footer)"
   ]
  },
  {
   "cell_type": "code",
   "execution_count": null,
   "id": "5c285217",
   "metadata": {},
   "outputs": [],
   "source": [
    "# Мухи отдельно, котлеты отдельно\n",
    "weight = int(input())\n",
    "price_avg = int(input())\n",
    "price1 = int(input())\n",
    "price2 = int(input())\n",
    "\n",
    "part1_weight = weight * (price_avg - price2) // (price1 - price2)\n",
    "part2_weight = weight - part1_weight\n",
    "\n",
    "print(part1_weight, part2_weight)"
   ]
  }
 ],
 "metadata": {
  "kernelspec": {
   "display_name": "Python 3",
   "language": "python",
   "name": "python3"
  },
  "language_info": {
   "codemirror_mode": {
    "name": "ipython",
    "version": 3
   },
   "file_extension": ".py",
   "mimetype": "text/x-python",
   "name": "python",
   "nbconvert_exporter": "python",
   "pygments_lexer": "ipython3",
   "version": "3.11.3"
  }
 },
 "nbformat": 4,
 "nbformat_minor": 5
}
