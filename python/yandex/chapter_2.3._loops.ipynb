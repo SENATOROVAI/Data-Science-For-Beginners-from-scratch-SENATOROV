{
 "cells": [
  {
   "cell_type": "code",
   "execution_count": null,
   "metadata": {},
   "outputs": [],
   "source": [
    "\"\"\"Loops.\"\"\""
   ]
  },
  {
   "cell_type": "code",
   "execution_count": null,
   "metadata": {},
   "outputs": [],
   "source": [
    "# 1\n",
    "while (string := input()) != \"Три!\":\n",
    "    print(\"Режим ожидания...\")\n",
    "print(\"Ёлочка, гори!\")"
   ]
  },
  {
   "cell_type": "code",
   "execution_count": null,
   "metadata": {},
   "outputs": [],
   "source": [
    "# 2\n",
    "\n",
    "counter: int = 0\n",
    "while (string := input()) != \"Приехали!\":\n",
    "    if \"зайка\" in string:\n",
    "        counter += 1\n",
    "print(counter)"
   ]
  },
  {
   "cell_type": "code",
   "execution_count": null,
   "metadata": {},
   "outputs": [],
   "source": [
    "# 3\n",
    "\n",
    "start: int = int(input())\n",
    "end: int = int(input())\n",
    "\n",
    "for i in range(start, end + 1):\n",
    "    print(i, end=\" \")"
   ]
  },
  {
   "cell_type": "code",
   "execution_count": null,
   "metadata": {},
   "outputs": [],
   "source": [
    "# 4\n",
    "\n",
    "begin: int = int(input())\n",
    "finish: int = int(input())\n",
    "\n",
    "step = 1\n",
    "if finish < begin:\n",
    "    step = -1\n",
    "else:\n",
    "    step = 1\n",
    "\n",
    "for i in range(begin, end + step, step):\n",
    "    print(i, end=\" \")"
   ]
  },
  {
   "cell_type": "code",
   "execution_count": null,
   "metadata": {},
   "outputs": [],
   "source": [
    "# 5\n",
    "\n",
    "total_price: float = 0\n",
    "\n",
    "while (price := float(input())) != 0:\n",
    "    if price >= 500:\n",
    "        total_price += price - price * 1 / 10\n",
    "    else:\n",
    "        total_price += price\n",
    "print(total_price)"
   ]
  },
  {
   "cell_type": "code",
   "execution_count": null,
   "metadata": {},
   "outputs": [],
   "source": [
    "# 6\n",
    "\n",
    "a_val = int(input())\n",
    "b_val = int(input())\n",
    "\n",
    "while b_val:\n",
    "    a_val, b_val = b_val, a_val % b_val\n",
    "print(a_val)"
   ]
  },
  {
   "cell_type": "code",
   "execution_count": null,
   "metadata": {},
   "outputs": [],
   "source": [
    "# 7\n",
    "\n",
    "c_val = int(input())\n",
    "b_val = int(input())\n",
    "\n",
    "a_orig, b_orig = c_val, b_val\n",
    "\n",
    "while b_val:\n",
    "    c_val, b_val = b_val, c_val % b_val\n",
    "\n",
    "gcd = c_val\n",
    "\n",
    "lcm: int = int(abs(a_orig * b_orig) / gcd)\n",
    "\n",
    "print(lcm)"
   ]
  },
  {
   "cell_type": "code",
   "execution_count": null,
   "metadata": {},
   "outputs": [],
   "source": [
    "# 8\n",
    "\n",
    "information: str = input()\n",
    "times: int = int(input())\n",
    "\n",
    "for i in range(times):\n",
    "    print(information)"
   ]
  },
  {
   "cell_type": "code",
   "execution_count": null,
   "metadata": {},
   "outputs": [],
   "source": [
    "# 9\n",
    "\n",
    "number_1: int = int(input())\n",
    "factorial: int = 1\n",
    "\n",
    "for i in range(2, number_1 + 1):\n",
    "    factorial *= i\n",
    "print(factorial)"
   ]
  },
  {
   "cell_type": "code",
   "execution_count": null,
   "metadata": {},
   "outputs": [],
   "source": [
    "# 10\n",
    "\n",
    "x_val, y_val = 0, 0\n",
    "\n",
    "while True:\n",
    "    direction = input()\n",
    "    if direction == \"СТОП\":\n",
    "        break\n",
    "    steps = int(input())\n",
    "\n",
    "    if direction == \"СЕВЕР\":\n",
    "        y_val += steps\n",
    "    elif direction == \"ЮГ\":\n",
    "        y_val -= steps\n",
    "    elif direction == \"ВОСТОК\":\n",
    "        x_val += steps\n",
    "    elif direction == \"ЗАПАД\":\n",
    "        x_val -= steps\n",
    "\n",
    "print(y_val, x_val, sep=\"\\n\")"
   ]
  },
  {
   "cell_type": "code",
   "execution_count": null,
   "metadata": {},
   "outputs": [
    {
     "name": "stdout",
     "output_type": "stream",
     "text": [
      "6\n"
     ]
    }
   ],
   "source": [
    "# 11\n",
    "\n",
    "number_2: int = int(input())\n",
    "\n",
    "total_sum: int = 0\n",
    "current_number = number_2\n",
    "\n",
    "while current_number != 0:\n",
    "    remainder = current_number % 10\n",
    "    total_sum += remainder\n",
    "    current_number = current_number // 10\n",
    "\n",
    "print(total_sum)"
   ]
  },
  {
   "cell_type": "code",
   "execution_count": null,
   "metadata": {},
   "outputs": [
    {
     "name": "stdout",
     "output_type": "stream",
     "text": [
      "9\n"
     ]
    }
   ],
   "source": [
    "# 12\n",
    "\n",
    "number_3: int = int(input())\n",
    "\n",
    "current_number = number_3\n",
    "\n",
    "max_number: int = 0\n",
    "\n",
    "while current_number != 0:\n",
    "    remainder = current_number % 10\n",
    "    max_number = max(max_number, remainder)\n",
    "    current_number = current_number // 10\n",
    "\n",
    "print(max_number)"
   ]
  },
  {
   "cell_type": "code",
   "execution_count": null,
   "metadata": {},
   "outputs": [
    {
     "name": "stdout",
     "output_type": "stream",
     "text": [
      "Arina\n"
     ]
    }
   ],
   "source": [
    "# 13\n",
    "\n",
    "number_4: int = int(input())\n",
    "first_gamer: str = input()\n",
    "\n",
    "for i in range(number_4 - 1):\n",
    "    name: str = input()\n",
    "    first_gamer = min(first_gamer, name)\n",
    "print(first_gamer)"
   ]
  },
  {
   "cell_type": "code",
   "execution_count": null,
   "metadata": {},
   "outputs": [
    {
     "name": "stdout",
     "output_type": "stream",
     "text": [
      "NO\n"
     ]
    }
   ],
   "source": [
    "# 14\n",
    "\n",
    "a1 = int(input())\n",
    "\n",
    "for i1 in range(1, int(a1**0.5) + 1):\n",
    "    if i1 != 1 and (a1 % i) == 0:\n",
    "        print(\"NO\")\n",
    "        break\n",
    "else:\n",
    "    if a1 == 1:\n",
    "        print(\"NO\")\n",
    "    else:\n",
    "        print(\"YES\")"
   ]
  },
  {
   "cell_type": "code",
   "execution_count": null,
   "metadata": {},
   "outputs": [
    {
     "name": "stdout",
     "output_type": "stream",
     "text": [
      "0\n"
     ]
    }
   ],
   "source": [
    "# 15\n",
    "x1 = int(input())\n",
    "count = 0\n",
    "for i2 in range(x1):\n",
    "    line = input()\n",
    "    if \"зайка\" in line:\n",
    "        count += 1\n",
    "print(count)"
   ]
  },
  {
   "cell_type": "code",
   "execution_count": null,
   "metadata": {},
   "outputs": [
    {
     "name": "stdout",
     "output_type": "stream",
     "text": [
      "NO\n"
     ]
    }
   ],
   "source": [
    "# 16\n",
    "\n",
    "number_6: int = int(input())\n",
    "\n",
    "original_number = number_6\n",
    "\n",
    "output_number: int = 0\n",
    "\n",
    "while number_6 > 0:\n",
    "    remainder = number_6 % 10\n",
    "    output_number = output_number * 10 + remainder\n",
    "    number_6 //= 10\n",
    "\n",
    "print(\"YES\" if output_number == original_number else \"NO\")"
   ]
  },
  {
   "cell_type": "code",
   "execution_count": null,
   "metadata": {},
   "outputs": [
    {
     "name": "stdout",
     "output_type": "stream",
     "text": [
      "5735\n"
     ]
    }
   ],
   "source": [
    "# 17\n",
    "\n",
    "number_7: int = int(input())\n",
    "\n",
    "result_1: int = 0\n",
    "multiplier: int = 1\n",
    "\n",
    "while number_7 > 0:\n",
    "    digit = number_7 % 10\n",
    "    if digit % 2 != 0:\n",
    "        result_1 = result_1 + digit * multiplier\n",
    "        multiplier *= 10\n",
    "    number_7 //= 10\n",
    "\n",
    "print(result_1 if result_1 != 0 else 0)"
   ]
  },
  {
   "cell_type": "code",
   "execution_count": null,
   "metadata": {},
   "outputs": [
    {
     "name": "stdout",
     "output_type": "stream",
     "text": [
      "2 * 227\n"
     ]
    }
   ],
   "source": [
    "# 18\n",
    "\n",
    "number_8 = int(input())\n",
    "\n",
    "factor = 2\n",
    "result_2: list[int] = []\n",
    "\n",
    "while number_8 > 1:\n",
    "    while number_8 % factor == 0:\n",
    "        result_2.append(factor)\n",
    "        number_8 //= factor\n",
    "    factor += 1\n",
    "\n",
    "print(*result_2, sep=\" * \")"
   ]
  },
  {
   "cell_type": "code",
   "execution_count": null,
   "metadata": {},
   "outputs": [
    {
     "name": "stdout",
     "output_type": "stream",
     "text": [
      "500\n",
      "250\n",
      "125\n",
      "62\n",
      "31\n",
      "46\n",
      "54\n",
      "58\n",
      "56\n",
      "55\n"
     ]
    }
   ],
   "source": [
    "# 19\n",
    "\n",
    "low, high = 1, 1000\n",
    "attempts = 0\n",
    "\n",
    "while attempts < 10:\n",
    "    guess = (low + high) // 2\n",
    "    print(guess)\n",
    "    response = input().strip()\n",
    "\n",
    "    if response == \"Угадал!\":\n",
    "        break\n",
    "    if response == \"Больше\":\n",
    "        low = guess + 1\n",
    "    elif response == \"Меньше\":\n",
    "        high = guess - 1\n",
    "\n",
    "    attempts += 1"
   ]
  },
  {
   "cell_type": "code",
   "execution_count": null,
   "metadata": {},
   "outputs": [
    {
     "name": "stdout",
     "output_type": "stream",
     "text": [
      "0\n"
     ]
    }
   ],
   "source": [
    "# 20\n",
    "\n",
    "count = int(input())\n",
    "\n",
    "prev_hash = 0\n",
    "\n",
    "for i in range(count):\n",
    "    b_n = int(input())\n",
    "\n",
    "    h_n = b_n % 256\n",
    "    r_n = (b_n // 256) % 256\n",
    "    m_n = b_n // (256**2)\n",
    "\n",
    "    correct_hash = (37 * (m_n + r_n + prev_hash)) % 256\n",
    "\n",
    "    if h_n >= 100 or h_n != correct_hash:\n",
    "        print(i)\n",
    "        break\n",
    "\n",
    "    prev_hash = h_n\n",
    "else:\n",
    "    print(-1)"
   ]
  }
 ],
 "metadata": {
  "kernelspec": {
   "display_name": "SENATOROV",
   "language": "python",
   "name": "python3"
  },
  "language_info": {
   "codemirror_mode": {
    "name": "ipython",
    "version": 3
   },
   "file_extension": ".py",
   "mimetype": "text/x-python",
   "name": "python",
   "nbconvert_exporter": "python",
   "pygments_lexer": "ipython3",
   "version": "3.11.0"
  }
 },
 "nbformat": 4,
 "nbformat_minor": 2
}
