{
 "cells": [
  {
   "cell_type": "code",
   "execution_count": null,
   "id": "1c6290b1",
   "metadata": {},
   "outputs": [],
   "source": [
    "\"\"\"3.1. Строки, кортежи, списки.\"\"\""
   ]
  },
  {
   "cell_type": "markdown",
   "id": "24afe491",
   "metadata": {},
   "source": [
    "Если обратиться к индексу, которого нет в коллекции - ошибка"
   ]
  },
  {
   "cell_type": "markdown",
   "id": "e862c876",
   "metadata": {},
   "source": [
    "### Цикл с enumerate\n",
    "Если нужно и значение, и его индекс — поможет функция enumerate(). Она возвращает пары: индекс и элемент. Это особенно удобно, когда мы работаем с элементами, но ещё и хотим показать номер строки, порядковый номер слова и т.д.:\n",
    "\n",
    "```python\n",
    "text = input()\n",
    "for i, letter in enumerate(text):\n",
    "    print(f\"{i}. {letter}\")\n",
    "```\n",
    "Этот способ — универсальный и часто используется в реальных проектах: он делает код понятным и избавляет от необходимости отдельно отслеживать индекс."
   ]
  },
  {
   "cell_type": "markdown",
   "id": "6ecc24ee",
   "metadata": {},
   "source": [
    "```python\n",
    "# Неизменяемость строк\n",
    "\n",
    "# будет ошибка\n",
    "# s = \"hello world\"\n",
    "# s[4] = 'a'\n",
    "\n",
    "# 1 способ. Через срезы\n",
    "s = \"hello world\"\n",
    "new_s = s[:4] + \"a\" + s[5:]\n",
    "\n",
    "# 2 способ. Через .replace()\n",
    "s = \"hello world\"\n",
    "new_s = s.replace(\"o\", \"a\")\n",
    "\n",
    "# 3 способ. Через преобразование строки\n",
    "s = \"hello world\"\n",
    "s_list = list(s)\n",
    "s_list[4] = \"a\"\n",
    "new_s = \"\".join(s_list)\n",
    "\n",
    "# Списки же - изменяемые коллекции\n",
    "```"
   ]
  },
  {
   "cell_type": "markdown",
   "id": "aa19f70e",
   "metadata": {},
   "source": [
    "Методы строк\n",
    "Методы — это инструмент, «принадлежащий» конкретному типу данных. \n",
    "\n",
    "**islower()**\n",
    "\n",
    "**str.capitalize()**\n",
    "Описание\n",
    "Возвращает копию строки, у которой первая буква заглавная, а остальные приведены к строчным\n",
    "\n",
    "Пример:\n",
    "s = \"hello, World!\"\n",
    "s.capitalize()\n",
    "\n",
    "Результат:\n",
    "Hello, world!\n",
    "\n",
    "\n",
    "**str.count(sub)**\n",
    "Описание\n",
    "Возвращает количество неперекрывающихся вхождений подстроки sub. К примеру, если искать в строке «ААААА» неперекрывающиеся значения «АА», то первое вхождение будет «AAAAA». Второе — «AAAAA». Больше неперекрывающихся вхождений нет. Так, поиск последующих вхождений подстроки происходит с индекса, который следует за последним найденным вхождением\n",
    "\n",
    "Пример:\n",
    "s = \"Hello, world!\"\n",
    "s.count(\"l\")\n",
    "\n",
    "Результат:\n",
    "3\n",
    "\n",
    "\n",
    "**str.endswith(suffix)**\n",
    "Описание\n",
    "Возвращает True, если строка оканчивается на подстроку suffix. Иначе возвращает False. suffix может быть кортежем проверяемых окончаний строки\n",
    "\n",
    "Пример:\n",
    "s = \"Hello, world!\"\n",
    "s.endswith(\"world!\")\n",
    "\n",
    "Результат:\n",
    "True\n",
    "\n",
    "**str.find(sub)**\n",
    "используется для поиска подстроки в строке и возвращает индекс первого вхождения этой подстроки. Если подстрока не найдена, метод возвращает -1. \n",
    "\n",
    "\n",
    "**str.index(sub)**\n",
    "Работает как .find, но если подстрока не найдена - ValueError\n",
    "\n",
    "\n",
    "**str.isalnum()**\n",
    "Описание\n",
    "Возвращает True, если все символы строки являются буквами и цифрами и в строке есть хотя бы один символ. Иначе возвращает False\n",
    "\n",
    "Пример:\n",
    "s = \"abc123\"\n",
    "s.isalnum()\n",
    "\n",
    "Результат:\n",
    "True\n",
    "\n",
    "\n",
    "**str.isalpha()**\n",
    "Описание\n",
    "Возвращает True, если все символы строки являются буквами и в строке есть хотя бы один символ. Иначе возвращает False\n",
    "\n",
    "Пример:\n",
    "s = \"Letters\"\n",
    "s.isalpha()\n",
    "Результат:\n",
    "\n",
    "True\n",
    "\n",
    "**str.lstrip(chars)**\n",
    "Описание\n",
    "Возвращает строку, у которой в начале удалены символы, встречающиеся в строке chars. Если значение chars не задано, то пробельные символы удаляются\n",
    "\n",
    "Пример:\n",
    "\n",
    "Скопировать код \n",
    "s = \"BCCAstring\"\n",
    "s.lstrip(\"ABC\")\n",
    "Результат:\n",
    "\n",
    "\"string\"\n",
    "\n",
    "но те, что в середине или в конце - нет\n",
    "s = \"BCCAstrABCABingABC\" => strABCABingABC\n",
    "\n",
    "**str.strip(chars)**\n",
    "Описание\n",
    "Возвращает строку, у которой в начале и в конце удалены символы, встречающиеся в строке chars. Если значение chars не задано, то пробельные символы удаляются\n",
    "\n",
    "Пример:\n",
    "s = \"abc Hello, world! cba\"\n",
    "s.strip(\" abc\")\n",
    "\n",
    "Результат:\n",
    "\"Hello, world!\"\n",
    "\n",
    "s = \"BCCA   strABCABing   ABC\" => пробелы остаются"
   ]
  },
  {
   "cell_type": "markdown",
   "id": "52efbeb2",
   "metadata": {},
   "source": [
    "**s.insert(i, x)**\n",
    "Описание\n",
    "Вставляет элемент x в список по индексу i\n",
    "\n",
    "Пример:\n",
    "\n",
    "Скопировать код \n",
    "s = [1, 3, 4]\n",
    "s.insert(1, 2)\n",
    "print(s)\n",
    "Результат:\n",
    "\n",
    "[1, 2, 3, 4]\n",
    "\n",
    "\n",
    "**s.sort()**\n",
    "Описание\n",
    "Сортирует список по возрастанию, меняя исходный список\n",
    "**sorted(s)**\n",
    "Описание\n",
    "Возвращает отсортированный по возрастанию список, не меняя исходный.\n",
    "reverse=True используется обоими"
   ]
  },
  {
   "cell_type": "markdown",
   "id": "10a10c46",
   "metadata": {},
   "source": [
    "В Python неизменяемость кортежа означает, что после создания кортежа его элементы не могут быть изменены, удалены или добавлены. Это основное отличие от списков, которые являются изменяемыми. \n",
    "\n",
    "Более подробно:\n",
    "    \n",
    "Нельзя изменить значения элементов:\n",
    "Если у вас есть кортеж (1, 2, 3), вы не сможете изменить его на (4, 2, 3) после создания. \n",
    "\n",
    "Нельзя добавить новые элементы:\n",
    "\n",
    "Нельзя использовать методы, такие как append() или extend(), чтобы добавить новые элементы в кортеж. \n",
    "\n",
    "Нельзя удалить элементы:\n",
    "\n",
    "Нельзя использовать методы, такие как remove() или pop(), чтобы удалить элементы из кортежа. "
   ]
  },
  {
   "cell_type": "markdown",
   "id": "ef5b50d5",
   "metadata": {},
   "source": [
    "append(element): Добавляет переданный element как один элемент в конец списка. element может быть любым объектом, включая другой список. \n",
    "\n",
    "    my_list = [1, 2, 3]\n",
    "    my_list.append([4, 5])\n",
    "    print(my_list)  # Вывод: [1, 2, 3, [4, 5]]\n",
    "extend(iterable): Добавляет элементы из итерируемого объекта iterable в конец списка, по одному элементу за раз. \n",
    "Python\n",
    "\n",
    "    my_list = [1, 2, 3]\n",
    "    my_list.extend([4, 5])\n",
    "    print(my_list)  # Вывод: [1, 2, 3, 4, 5]"
   ]
  },
  {
   "cell_type": "code",
   "execution_count": null,
   "id": "d41704ea",
   "metadata": {},
   "outputs": [
    {
     "name": "stdout",
     "output_type": "stream",
     "text": [
      "False\n"
     ]
    }
   ],
   "source": [
    "# 1\n",
    "\n",
    "count: int = int(input())\n",
    "is_all_correct: bool = True\n",
    "allowed_letters = (\"а\", \"б\", \"в\")\n",
    "\n",
    "for _ in range(count):\n",
    "    word = input()\n",
    "    if not word.startswith(allowed_letters):\n",
    "        is_all_correct = False\n",
    "\n",
    "print(\"YES\" if is_all_correct else \"NO\")"
   ]
  },
  {
   "cell_type": "code",
   "execution_count": null,
   "id": "51a14109",
   "metadata": {},
   "outputs": [
    {
     "name": "stdout",
     "output_type": "stream",
     "text": [
      "a\n",
      "s\n",
      "e\n",
      "f\n",
      "s\n",
      "f\n",
      "d\n"
     ]
    }
   ],
   "source": [
    "# 2\n",
    "\n",
    "value: str = input()\n",
    "for i, char in enumerate(value):\n",
    "    print(char)"
   ]
  },
  {
   "cell_type": "code",
   "execution_count": null,
   "id": "99891051",
   "metadata": {},
   "outputs": [
    {
     "name": "stdout",
     "output_type": "stream",
     "text": [
      "34\n",
      "...\n",
      "...\n",
      "...\n",
      "...\n"
     ]
    }
   ],
   "source": [
    "# 3\n",
    "\n",
    "expected_title_length: int = int(input())\n",
    "title_count: int = int(input())\n",
    "\n",
    "for i in range(title_count):\n",
    "    title: str = input()\n",
    "    if len(title) > expected_title_length:\n",
    "        result_title = title[: expected_title_length - 3] + \"...\"\n",
    "    else:\n",
    "        result_title = title\n",
    "    print(result_title)"
   ]
  },
  {
   "cell_type": "code",
   "execution_count": null,
   "id": "d45dec2e",
   "metadata": {},
   "outputs": [
    {
     "name": "stdout",
     "output_type": "stream",
     "text": [
      "measded\n",
      "awdwddw\n",
      "adwda\n"
     ]
    }
   ],
   "source": [
    "# 4\n",
    "\n",
    "while input_value := input():\n",
    "    if not input_value:\n",
    "        break\n",
    "    result: str = input_value\n",
    "    if input_value.endswith(\"@@@\"):\n",
    "        continue\n",
    "    if input_value.startswith(\"##\"):\n",
    "        result = input_value[2:]\n",
    "    print(result)"
   ]
  },
  {
   "cell_type": "code",
   "execution_count": null,
   "id": "d52f92dc",
   "metadata": {},
   "outputs": [
    {
     "name": "stdout",
     "output_type": "stream",
     "text": [
      "YES\n"
     ]
    }
   ],
   "source": [
    "# 5\n",
    "\n",
    "input_string: str = input()\n",
    "\n",
    "characters = list(input_string)\n",
    "characters.reverse()\n",
    "new_value = \"\".join(characters)\n",
    "\n",
    "if input_string == new_value:\n",
    "    print(\"YES\")\n",
    "else:\n",
    "    print(\"NO\")"
   ]
  },
  {
   "cell_type": "code",
   "execution_count": null,
   "id": "05bd5560",
   "metadata": {},
   "outputs": [
    {
     "name": "stdout",
     "output_type": "stream",
     "text": [
      "0\n"
     ]
    }
   ],
   "source": [
    "# 6\n",
    "\n",
    "input_string_count = int(input())\n",
    "\n",
    "count = 0\n",
    "\n",
    "for _ in range(input_string_count):\n",
    "    count += input().split().count(\"зайка\")\n",
    "\n",
    "print(count)"
   ]
  },
  {
   "cell_type": "code",
   "execution_count": null,
   "id": "e18e8021",
   "metadata": {},
   "outputs": [
    {
     "name": "stdout",
     "output_type": "stream",
     "text": [
      "2\n"
     ]
    }
   ],
   "source": [
    "# 7\n",
    "\n",
    "input_sum_string: str = input()\n",
    "values = input_sum_string.split(\" \")\n",
    "total_sum: int = 0\n",
    "\n",
    "for value in values:\n",
    "    total_sum += int(value)\n",
    "\n",
    "print(total_sum)"
   ]
  },
  {
   "cell_type": "code",
   "execution_count": null,
   "id": "4e00210b",
   "metadata": {},
   "outputs": [
    {
     "name": "stdout",
     "output_type": "stream",
     "text": [
      "0\n",
      "7\n",
      "Заек нет =(\n"
     ]
    }
   ],
   "source": [
    "# 8\n",
    "\n",
    "neighborhood_count: int = int(input())\n",
    "\n",
    "for _ in range(neighborhood_count):\n",
    "    neighborhood_desc: str = input()\n",
    "    index = neighborhood_desc.find(\"зайка\")\n",
    "    if index < 0:\n",
    "        print(\"Заек нет =(\")\n",
    "    else:\n",
    "        print(index + 1)"
   ]
  },
  {
   "cell_type": "code",
   "execution_count": null,
   "id": "532ea5e8",
   "metadata": {},
   "outputs": [],
   "source": [
    "# 9\n",
    "\n",
    "while True:\n",
    "    line = input()\n",
    "    if not line:\n",
    "        break\n",
    "    comment_index = line.find(\"#\")\n",
    "    if comment_index > -1:\n",
    "        line = line[:comment_index]\n",
    "    if line:\n",
    "        print(line)"
   ]
  },
  {
   "cell_type": "code",
   "execution_count": null,
   "id": "1510e313",
   "metadata": {},
   "outputs": [
    {
     "name": "stdout",
     "output_type": "stream",
     "text": [
      "s\n"
     ]
    }
   ],
   "source": [
    "# 10\n",
    "\n",
    "\n",
    "frequencies: dict[str, int] = {}\n",
    "\n",
    "while True:\n",
    "    line = input().strip()\n",
    "    if line == \"ФИНИШ\":\n",
    "        break\n",
    "    for char in line.lower():\n",
    "        if char != \" \":\n",
    "            if char in frequencies:\n",
    "                frequencies[char] += 1\n",
    "            else:\n",
    "                frequencies[char] = 1\n",
    "\n",
    "most_common_char = \"\"\n",
    "max_freq = -1\n",
    "\n",
    "for char, freq in frequencies.items():\n",
    "    if freq > max_freq or (freq == max_freq and char < most_common_char):\n",
    "        max_freq = freq\n",
    "        most_common_char = char\n",
    "\n",
    "print(most_common_char)"
   ]
  },
  {
   "cell_type": "code",
   "execution_count": null,
   "id": "35dfaa1b",
   "metadata": {},
   "outputs": [],
   "source": [
    "# 11\n",
    "\n",
    "title_count = int(input())\n",
    "\n",
    "titles = [input().strip() for _ in range(title_count)]\n",
    "\n",
    "query = input().strip().lower()\n",
    "\n",
    "for title in titles:\n",
    "    if query in title.lower():\n",
    "        print(title)"
   ]
  },
  {
   "cell_type": "code",
   "execution_count": null,
   "id": "35c453a3",
   "metadata": {},
   "outputs": [],
   "source": [
    "# 12\n",
    "\n",
    "porridges = [\"Манная\", \"Гречневая\", \"Пшённая\", \"Овсяная\", \"Рисовая\"]\n",
    "\n",
    "days = int(input())\n",
    "\n",
    "for day in range(days):\n",
    "    print(porridges[day % 5])"
   ]
  },
  {
   "cell_type": "code",
   "execution_count": null,
   "id": "692c6dfc",
   "metadata": {},
   "outputs": [],
   "source": [
    "# 13\n",
    "\n",
    "number_count = int(input())\n",
    "\n",
    "numbers_list = [int(input()) for _ in range(number_count)]\n",
    "\n",
    "exponent = int(input())\n",
    "\n",
    "for number in numbers_list:\n",
    "    print(number**exponent)"
   ]
  },
  {
   "cell_type": "code",
   "execution_count": null,
   "id": "786c93d2",
   "metadata": {},
   "outputs": [],
   "source": [
    "# 14\n",
    "\n",
    "numbers = input().split()\n",
    "exponent = int(input())\n",
    "\n",
    "print(\" \".join(str(int(number) ** exponent) for number in numbers))"
   ]
  },
  {
   "cell_type": "code",
   "execution_count": null,
   "id": "9f0f35fe",
   "metadata": {},
   "outputs": [
    {
     "name": "stdout",
     "output_type": "stream",
     "text": [
      "4\n"
     ]
    }
   ],
   "source": [
    "# 15\n",
    "\n",
    "\n",
    "def gcd(first_nmb: int, second_nmb: int) -> int:\n",
    "    \"\"\"Return greatest common divisor.\"\"\"\n",
    "    while second_nmb != 0:\n",
    "        first_nmb, second_nmb = second_nmb, first_nmb % second_nmb\n",
    "    return first_nmb\n",
    "\n",
    "\n",
    "input_numbers: list[int] = list(map(int, input().split()))\n",
    "\n",
    "output_result: int = input_numbers[0]\n",
    "for num in input_numbers[1:]:\n",
    "    output_result = gcd(output_result, num)\n",
    "\n",
    "print(output_result)"
   ]
  },
  {
   "cell_type": "code",
   "execution_count": null,
   "id": "579aed50",
   "metadata": {},
   "outputs": [
    {
     "name": "stdout",
     "output_type": "stream",
     "text": [
      "dfvbdfbved\n",
      "eefvweeeeeeeeeeeeeeeeeeeee\n",
      "eeeeeeee\n"
     ]
    }
   ],
   "source": [
    "# 16\n",
    "\n",
    "max_length = int(input())\n",
    "lines = []\n",
    "\n",
    "for _ in range(int(input())):\n",
    "    lines.append(input())\n",
    "\n",
    "for line in lines:\n",
    "    if max_length > 3:\n",
    "        if len(line) >= max_length - 3:\n",
    "            line = line[: max_length - 3] + \"...\"\n",
    "        else:\n",
    "            if max_length == 4:\n",
    "                line = line + \"...\"\n",
    "\n",
    "        print(line)\n",
    "        max_length -= len(line)"
   ]
  },
  {
   "cell_type": "code",
   "execution_count": null,
   "id": "02dce6ac",
   "metadata": {},
   "outputs": [
    {
     "name": "stdout",
     "output_type": "stream",
     "text": [
      "987654321\n",
      "NO\n"
     ]
    }
   ],
   "source": [
    "# 17\n",
    "\n",
    "input_string = input()\n",
    "\n",
    "cleaned_string = input_string.replace(\" \", \"\").lower()\n",
    "\n",
    "if cleaned_string == cleaned_string[::-1]:\n",
    "    print(\"YES\")\n",
    "else:\n",
    "    print(\"NO\")"
   ]
  },
  {
   "cell_type": "code",
   "execution_count": null,
   "id": "b5199bc4",
   "metadata": {},
   "outputs": [],
   "source": [
    "# 18\n",
    "\n",
    "input_string = input()\n",
    "\n",
    "current_char = input_string[0]\n",
    "count = 1\n",
    "\n",
    "for char in input_string[1:]:\n",
    "    if char == current_char:\n",
    "        count += 1\n",
    "    else:\n",
    "        print(current_char, count)\n",
    "        current_char = char\n",
    "        count = 1\n",
    "\n",
    "print(current_char, count)"
   ]
  },
  {
   "cell_type": "code",
   "execution_count": null,
   "id": "522a457a",
   "metadata": {},
   "outputs": [],
   "source": [
    "# 19\n",
    "\n",
    "\n",
    "expression = input().split()\n",
    "\n",
    "operand_stack: list[int] = []\n",
    "\n",
    "for token in expression:\n",
    "    if token in \"+-*/\":\n",
    "        operand2 = operand_stack.pop()\n",
    "        operand1 = operand_stack.pop()\n",
    "\n",
    "        operation_result: int = 0\n",
    "        if token == \"+\":\n",
    "            operation_result = operand1 + operand2\n",
    "        elif token == \"-\":\n",
    "            operation_result = operand1 - operand2\n",
    "        elif token == \"*\":\n",
    "            operation_result = operand1 * operand2\n",
    "        elif token == \"/\":\n",
    "            operation_result = operand1 // operand2\n",
    "\n",
    "        operand_stack.append(operation_result)\n",
    "    else:\n",
    "        operand_stack.append(int(token))\n",
    "\n",
    "print(operand_stack[0])"
   ]
  },
  {
   "cell_type": "code",
   "execution_count": null,
   "id": "a75afe9f",
   "metadata": {},
   "outputs": [
    {
     "ename": "IndexError",
     "evalue": "pop from empty list",
     "output_type": "error",
     "traceback": [
      "\u001b[1;31m---------------------------------------------------------------------------\u001b[0m\n",
      "\u001b[1;31mIndexError\u001b[0m                                Traceback (most recent call last)\n",
      "Cell \u001b[1;32mIn[48], line 45\u001b[0m\n",
      "\u001b[0;32m     42\u001b[0m         third: \u001b[38;5;28mint\u001b[39m \u001b[38;5;241m=\u001b[39m stack\u001b[38;5;241m.\u001b[39mpop()\n",
      "\u001b[0;32m     43\u001b[0m         stack\u001b[38;5;241m.\u001b[39mextend([second, first, third])\n",
      "\u001b[1;32m---> 45\u001b[0m \u001b[38;5;28mprint\u001b[39m(\u001b[43mstack\u001b[49m\u001b[38;5;241;43m.\u001b[39;49m\u001b[43mpop\u001b[49m\u001b[43m(\u001b[49m\u001b[43m)\u001b[49m)\n",
      "\n",
      "\u001b[1;31mIndexError\u001b[0m: pop from empty list"
     ]
    }
   ],
   "source": [
    "# 20\n",
    "\n",
    "\n",
    "def factorial(nmb: int) -> int:\n",
    "    \"\"\"Return the factorial of a number.\"\"\"\n",
    "    rsl: int = 1\n",
    "    for multiplier_val in range(2, nmb + 1):\n",
    "        rsl *= multiplier_val\n",
    "    return rsl\n",
    "\n",
    "\n",
    "expression_value: str = input().strip()\n",
    "tokens: list[str] = expression_value.split()\n",
    "\n",
    "stack: list[int] = []\n",
    "\n",
    "for token in tokens:\n",
    "    if token.isdigit() or (token[0] == \"-\" and token[1:].isdigit()):\n",
    "        stack.append(int(token))\n",
    "    elif token in {\"+\", \"-\", \"*\", \"/\"}:\n",
    "        b_val: int = stack.pop()\n",
    "        a_val: int = stack.pop()\n",
    "        if token == \"+\":\n",
    "            stack.append(a_val + b_val)\n",
    "        elif token == \"-\":\n",
    "            stack.append(a_val - b_val)\n",
    "        elif token == \"*\":\n",
    "            stack.append(a_val * b_val)\n",
    "        elif token == \"/\":\n",
    "            stack.append(a_val // b_val)\n",
    "    elif token == \"~\":\n",
    "        stack.append(-stack.pop())\n",
    "    elif token == \"!\":\n",
    "        stack.append(factorial(stack.pop()))\n",
    "    elif token == \"#\":\n",
    "        stack_value: int = stack[-1]\n",
    "        stack.append(stack_value)\n",
    "    elif token == \"@\":\n",
    "        first: int = stack.pop()\n",
    "        second: int = stack.pop()\n",
    "        third: int = stack.pop()\n",
    "        stack.extend([second, first, third])\n",
    "\n",
    "print(stack.pop())"
   ]
  }
 ],
 "metadata": {
  "kernelspec": {
   "display_name": "base",
   "language": "python",
   "name": "python3"
  },
  "language_info": {
   "codemirror_mode": {
    "name": "ipython",
    "version": 3
   },
   "file_extension": ".py",
   "mimetype": "text/x-python",
   "name": "python",
   "nbconvert_exporter": "python",
   "pygments_lexer": "ipython3",
   "version": "3.12.7"
  }
 },
 "nbformat": 4,
 "nbformat_minor": 5
}
