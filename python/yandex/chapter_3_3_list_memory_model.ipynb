{
 "cells": [
  {
   "cell_type": "code",
   "execution_count": null,
   "metadata": {},
   "outputs": [],
   "source": [
    "\"\"\"List, memory model.\"\"\""
   ]
  },
  {
   "cell_type": "markdown",
   "metadata": {},
   "source": [
    "### Example of size estimation\n",
    "\n",
    "```python\n",
    "from sys import getsizeof\n",
    "\n",
    "# Создаём итератор из одного миллиона целых чисел\n",
    "numbers_iter = (i for i in range(10**6))\n",
    "# Выводим количество байт, занятых итератором\n",
    "print(f\"Итератор занимает {getsizeof(numbers_iter)} байт.\")\n",
    "# Создаём список\n",
    "numbers_list = list(range(10**6))\n",
    "# Выводим количество байт, занятых списком\n",
    "print(f\"Список занимает {getsizeof(numbers_list)} байт.\")\n",
    "```\n",
    "\n",
    "\n",
    "### Example of time estimation\n",
    "\n",
    "```python\n",
    "from timeit import timeit\n",
    "\n",
    "print(round(timeit(\"s = '; '.join(str(x) for x in range(10 ** 7))\", number=10), 3))\n",
    "print(\n",
    "    round(timeit(\"s = '; '.join([str(x) for x in list(range(10 ** 7))])\", number=10), 3)\n",
    ")\n",
    "```\n",
    "\n",
    "\n",
    "In Python, data types can be mutable or immutable, affecting how values are stored in memory. Each variable has a unique identifier, which can be checked using the id() function. When a new value is assigned to a variable, its identifier changes, indicating that a new object is created in memory.\n",
    "\n",
    "```python\n",
    "x = 5\n",
    "print(id(x))\n",
    "x = 10\n",
    "print(id(x))\n",
    "```\n",
    "\n",
    "\n",
    "Immutable data types (int, float, str, tuple, frozenset) can only change their value by creating a new variable with a different identifier. Mutable data types (set, list, dict) can be modified without creating a new variable, keeping the same identifier. Methods like append() and the += operation for lists modify the existing object rather than creating a new one."
   ]
  },
  {
   "cell_type": "code",
   "execution_count": null,
   "metadata": {},
   "outputs": [
    {
     "data": {
      "text/plain": [
       "[1, 4, 9, 16, 25]"
      ]
     },
     "execution_count": 13,
     "metadata": {},
     "output_type": "execute_result"
    }
   ],
   "source": [
    "# 1\n",
    "\n",
    "print([value**2 for value in range(int(input()), int(input()) + 1)])"
   ]
  },
  {
   "cell_type": "code",
   "execution_count": null,
   "metadata": {},
   "outputs": [
    {
     "data": {
      "text/plain": [
       "[[1, 2, 3, 4], [2, 4, 6, 8], [3, 6, 9, 12], [4, 8, 12, 16]]"
      ]
     },
     "execution_count": 20,
     "metadata": {},
     "output_type": "execute_result"
    }
   ],
   "source": [
    "# 2\n",
    "\n",
    "table_max = int(input())\n",
    "\n",
    "print(\n",
    "    [\n",
    "        [item * mult_val for item in [t_i for t_i in range(1, table_max + 1)]]\n",
    "        for mult_val in range(1, table_max + 1)\n",
    "    ]\n",
    ")"
   ]
  },
  {
   "cell_type": "code",
   "execution_count": null,
   "metadata": {},
   "outputs": [
    {
     "data": {
      "text/plain": [
       "[5, 5, 3]"
      ]
     },
     "execution_count": 22,
     "metadata": {},
     "output_type": "execute_result"
    }
   ],
   "source": [
    "# 3\n",
    "\n",
    "sentence = input()\n",
    "print([len(word) for word in sentence.split(\" \")])"
   ]
  },
  {
   "cell_type": "code",
   "execution_count": null,
   "metadata": {},
   "outputs": [
    {
     "data": {
      "text/plain": [
       "{1, 3, 5, 7, 9}"
      ]
     },
     "execution_count": 28,
     "metadata": {},
     "output_type": "execute_result"
    }
   ],
   "source": [
    "# 4\n",
    "\n",
    "lst = list(range(1, 10))\n",
    "print({number for number in lst if number % 2 != 0})"
   ]
  },
  {
   "cell_type": "code",
   "execution_count": null,
   "metadata": {},
   "outputs": [
    {
     "data": {
      "text/plain": [
       "{1, 4, 9}"
      ]
     },
     "execution_count": 29,
     "metadata": {},
     "output_type": "execute_result"
    }
   ],
   "source": [
    "# 5\n",
    "\n",
    "inpt_lst = list(range(1, 10))\n",
    "print({nmb for nmb in inpt_lst if (nmb**0.5).is_integer()})"
   ]
  },
  {
   "cell_type": "code",
   "execution_count": null,
   "metadata": {},
   "outputs": [
    {
     "data": {
      "text/plain": [
       "{'d': 2, 'c': 3, 'g': 1, 'v': 1, 's': 1, 'f': 5, 'e': 5, 'w': 5}"
      ]
     },
     "execution_count": 31,
     "metadata": {},
     "output_type": "execute_result"
    }
   ],
   "source": [
    "# 6\n",
    "\n",
    "text = input()\n",
    "\n",
    "print(\n",
    "    {\n",
    "        character: text.lower().count(character)\n",
    "        for character in set(text.lower())\n",
    "        if character.isalpha()\n",
    "    }\n",
    ")"
   ]
  },
  {
   "cell_type": "code",
   "execution_count": null,
   "metadata": {},
   "outputs": [
    {
     "name": "stdout",
     "output_type": "stream",
     "text": [
      "{49: [1, 7, 49], 36: [1, 2, 3, 4, 6, 9, 12, 18, 36], 15: [1, 3, 5, 15]}\n"
     ]
    }
   ],
   "source": [
    "# 7\n",
    "\n",
    "lst_inp = {15, 49, 36}\n",
    "\n",
    "print({nmb: [i for i in range(1, nmb + 1) if not nmb % i] for nmb in lst_inp})\n"
   ]
  },
  {
   "cell_type": "code",
   "execution_count": null,
   "metadata": {},
   "outputs": [
    {
     "data": {
      "text/plain": [
       "'ОАО'"
      ]
     },
     "execution_count": 36,
     "metadata": {},
     "output_type": "execute_result"
    }
   ],
   "source": [
    "# 8\n",
    "\n",
    "full_string = \"открытое акционерное общество\"\n",
    "print(\"\".join([word[0].upper() for word in full_string.split(\" \")]))"
   ]
  },
  {
   "cell_type": "code",
   "execution_count": null,
   "metadata": {},
   "outputs": [
    {
     "data": {
      "text/plain": [
       "'1 - 2 - 3'"
      ]
     },
     "execution_count": 40,
     "metadata": {},
     "output_type": "execute_result"
    }
   ],
   "source": [
    "# 9\n",
    "\n",
    "numbers: list[int] = [3, 1, 2, 3, 2, 2, 1]\n",
    "print(\" - \".join(str(nmb) for nmb in sorted(set(numbers))))"
   ]
  },
  {
   "cell_type": "code",
   "execution_count": null,
   "metadata": {},
   "outputs": [
    {
     "data": {
      "text/plain": [
       "'aabbbc'"
      ]
     },
     "execution_count": 44,
     "metadata": {},
     "output_type": "execute_result"
    }
   ],
   "source": [
    "# 10\n",
    "\n",
    "rle = [(\"a\", 2), (\"b\", 3), (\"c\", 1)]\n",
    "print(\"\".join([\"\".join(trpl[0] for _ in range(trpl[1])) for trpl in rle]))"
   ]
  }
 ],
 "metadata": {
  "kernelspec": {
   "display_name": "SENATOROV",
   "language": "python",
   "name": "python3"
  },
  "language_info": {
   "codemirror_mode": {
    "name": "ipython",
    "version": 3
   },
   "file_extension": ".py",
   "mimetype": "text/x-python",
   "name": "python",
   "nbconvert_exporter": "python",
   "pygments_lexer": "ipython3",
   "version": "3.11.0"
  }
 },
 "nbformat": 4,
 "nbformat_minor": 2
}
