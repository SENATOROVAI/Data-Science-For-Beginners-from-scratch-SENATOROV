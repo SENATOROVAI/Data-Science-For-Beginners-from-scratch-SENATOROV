{
 "cells": [
  {
   "cell_type": "code",
   "execution_count": null,
   "id": "79c4c870",
   "metadata": {},
   "outputs": [],
   "source": [
    "\"\"\"Pandas.\"\"\""
   ]
  },
  {
   "cell_type": "code",
   "execution_count": null,
   "id": "52a227ae",
   "metadata": {},
   "outputs": [
    {
     "name": "stdout",
     "output_type": "stream",
     "text": [
      "Requirement already satisfied: pandas in c:\\learning\\trainings\\ds\\forks\\data-science-for-beginners-from-scratch-senatorov\\senatorov\\lib\\site-packages (2.2.3)\n",
      "Requirement already satisfied: numpy>=1.23.2 in c:\\learning\\trainings\\ds\\forks\\data-science-for-beginners-from-scratch-senatorov\\senatorov\\lib\\site-packages (from pandas) (2.2.3)\n",
      "Requirement already satisfied: python-dateutil>=2.8.2 in c:\\learning\\trainings\\ds\\forks\\data-science-for-beginners-from-scratch-senatorov\\senatorov\\lib\\site-packages (from pandas) (2.9.0.post0)\n",
      "Requirement already satisfied: pytz>=2020.1 in c:\\learning\\trainings\\ds\\forks\\data-science-for-beginners-from-scratch-senatorov\\senatorov\\lib\\site-packages (from pandas) (2025.1)\n",
      "Requirement already satisfied: tzdata>=2022.7 in c:\\learning\\trainings\\ds\\forks\\data-science-for-beginners-from-scratch-senatorov\\senatorov\\lib\\site-packages (from pandas) (2025.1)\n",
      "Requirement already satisfied: six>=1.5 in c:\\learning\\trainings\\ds\\forks\\data-science-for-beginners-from-scratch-senatorov\\senatorov\\lib\\site-packages (from python-dateutil>=2.8.2->pandas) (1.17.0)\n"
     ]
    },
    {
     "name": "stderr",
     "output_type": "stream",
     "text": [
      "\n",
      "[notice] A new release of pip available: 22.3 -> 25.0.1\n",
      "[notice] To update, run: python.exe -m pip install --upgrade pip\n"
     ]
    },
    {
     "name": "stdout",
     "output_type": "stream",
     "text": [
      "Requirement already satisfied: numpy in c:\\learning\\trainings\\ds\\forks\\data-science-for-beginners-from-scratch-senatorov\\senatorov\\lib\\site-packages (2.2.3)"
     ]
    },
    {
     "name": "stderr",
     "output_type": "stream",
     "text": [
      "\n",
      "[notice] A new release of pip available: 22.3 -> 25.0.1\n",
      "[notice] To update, run: python.exe -m pip install --upgrade pip\n"
     ]
    },
    {
     "name": "stdout",
     "output_type": "stream",
     "text": [
      "\n",
      "Requirement already satisfied: matplotlib in c:\\learning\\trainings\\ds\\forks\\data-science-for-beginners-from-scratch-senatorov\\senatorov\\lib\\site-packages (3.10.1)\n",
      "Requirement already satisfied: contourpy>=1.0.1 in c:\\learning\\trainings\\ds\\forks\\data-science-for-beginners-from-scratch-senatorov\\senatorov\\lib\\site-packages (from matplotlib) (1.3.1)\n",
      "Requirement already satisfied: cycler>=0.10 in c:\\learning\\trainings\\ds\\forks\\data-science-for-beginners-from-scratch-senatorov\\senatorov\\lib\\site-packages (from matplotlib) (0.12.1)\n",
      "Requirement already satisfied: fonttools>=4.22.0 in c:\\learning\\trainings\\ds\\forks\\data-science-for-beginners-from-scratch-senatorov\\senatorov\\lib\\site-packages (from matplotlib) (4.56.0)\n",
      "Requirement already satisfied: kiwisolver>=1.3.1 in c:\\learning\\trainings\\ds\\forks\\data-science-for-beginners-from-scratch-senatorov\\senatorov\\lib\\site-packages (from matplotlib) (1.4.8)\n",
      "Requirement already satisfied: numpy>=1.23 in c:\\learning\\trainings\\ds\\forks\\data-science-for-beginners-from-scratch-senatorov\\senatorov\\lib\\site-packages (from matplotlib) (2.2.3)\n",
      "Requirement already satisfied: packaging>=20.0 in c:\\learning\\trainings\\ds\\forks\\data-science-for-beginners-from-scratch-senatorov\\senatorov\\lib\\site-packages (from matplotlib) (24.2)\n",
      "Requirement already satisfied: pillow>=8 in c:\\learning\\trainings\\ds\\forks\\data-science-for-beginners-from-scratch-senatorov\\senatorov\\lib\\site-packages (from matplotlib) (11.1.0)\n",
      "Requirement already satisfied: pyparsing>=2.3.1 in c:\\learning\\trainings\\ds\\forks\\data-science-for-beginners-from-scratch-senatorov\\senatorov\\lib\\site-packages (from matplotlib) (3.2.1)\n",
      "Requirement already satisfied: python-dateutil>=2.7 in c:\\learning\\trainings\\ds\\forks\\data-science-for-beginners-from-scratch-senatorov\\senatorov\\lib\\site-packages (from matplotlib) (2.9.0.post0)\n",
      "Requirement already satisfied: six>=1.5 in c:\\learning\\trainings\\ds\\forks\\data-science-for-beginners-from-scratch-senatorov\\senatorov\\lib\\site-packages (from python-dateutil>=2.7->matplotlib) (1.17.0)\n"
     ]
    },
    {
     "name": "stderr",
     "output_type": "stream",
     "text": [
      "\n",
      "[notice] A new release of pip available: 22.3 -> 25.0.1\n",
      "[notice] To update, run: python.exe -m pip install --upgrade pip\n"
     ]
    }
   ],
   "source": [
    "# fmt: off\n",
    "from typing import Callable\n",
    "\n",
    "import numpy as np\n",
    "\n",
    "# 6\n",
    "import pandas as pd\n",
    "\n",
    "# fmt: on"
   ]
  },
  {
   "cell_type": "code",
   "execution_count": null,
   "id": "52352a3c",
   "metadata": {},
   "outputs": [
    {
     "data": {
      "text/plain": [
       "Мама    4\n",
       "мыла    4\n",
       "раму    4\n",
       "dtype: int64"
      ]
     },
     "metadata": {},
     "output_type": "display_data"
    }
   ],
   "source": [
    "# 1\n",
    "\n",
    "\n",
    "def length_stats(line: str) -> pd.Series:  # type: ignore\n",
    "    \"\"\"Calculate length statistics for unique words in a string.\"\"\"\n",
    "    line = \"\".join([char for char in line if char.isalpha() or char == \" \"])\n",
    "    data = sorted(set(line.lower().split()))\n",
    "\n",
    "    return pd.Series(data=list(map(len, data)), index=data)"
   ]
  },
  {
   "cell_type": "code",
   "execution_count": null,
   "id": "9efba633",
   "metadata": {},
   "outputs": [
    {
     "ename": "TypeError",
     "evalue": "type 'Series' is not subscriptable",
     "output_type": "error",
     "traceback": [
      "\u001b[1;31m---------------------------------------------------------------------------\u001b[0m\n",
      "\u001b[1;31mTypeError\u001b[0m                                 Traceback (most recent call last)\n",
      "Cell \u001b[1;32mIn[12], line 4\u001b[0m\n",
      "\u001b[0;32m      1\u001b[0m \u001b[38;5;66;03m# 2\u001b[39;00m\n",
      "\u001b[1;32m----> 4\u001b[0m \u001b[38;5;28;01mdef\u001b[39;00m\u001b[38;5;250m \u001b[39m\u001b[38;5;21mlength_stats_tuple\u001b[39m(line: \u001b[38;5;28mstr\u001b[39m) \u001b[38;5;241m-\u001b[39m\u001b[38;5;241m>\u001b[39m \u001b[38;5;28mtuple\u001b[39m[\u001b[43mpd\u001b[49m\u001b[38;5;241;43m.\u001b[39;49m\u001b[43mSeries\u001b[49m\u001b[43m[\u001b[49m\u001b[38;5;28;43mint\u001b[39;49m\u001b[43m]\u001b[49m, pd\u001b[38;5;241m.\u001b[39mSeries[\u001b[38;5;28mint\u001b[39m]]:\n",
      "\u001b[0;32m      5\u001b[0m \u001b[38;5;250m    \u001b[39m\u001b[38;5;124;03m\"\"\"Return tuple of Series with odd and even length words.\"\"\"\u001b[39;00m\n",
      "\u001b[0;32m      6\u001b[0m     line \u001b[38;5;241m=\u001b[39m \u001b[38;5;124m\"\u001b[39m\u001b[38;5;124m\"\u001b[39m\u001b[38;5;241m.\u001b[39mjoin([char \u001b[38;5;28;01mfor\u001b[39;00m char \u001b[38;5;129;01min\u001b[39;00m line \u001b[38;5;28;01mif\u001b[39;00m char\u001b[38;5;241m.\u001b[39misalpha() \u001b[38;5;129;01mor\u001b[39;00m char \u001b[38;5;241m==\u001b[39m \u001b[38;5;124m\"\u001b[39m\u001b[38;5;124m \u001b[39m\u001b[38;5;124m\"\u001b[39m])\n",
      "\n",
      "\u001b[1;31mTypeError\u001b[0m: type 'Series' is not subscriptable"
     ]
    }
   ],
   "source": [
    "# 2\n",
    "\n",
    "\n",
    "def length_stats_tuple(line: str) -> tuple[pd.Series, pd.Series]:  # type: ignore\n",
    "    \"\"\"Return tuple of Series with odd and even length words.\"\"\"\n",
    "    line = \"\".join([char for char in line if char.isalpha() or char == \" \"])\n",
    "    data = sorted(set(line.lower().split()))\n",
    "    series = pd.Series(data=list(map(len, data)), index=data)\n",
    "    return series[series % 2 != 0], series[series % 2 == 0]"
   ]
  },
  {
   "cell_type": "code",
   "execution_count": null,
   "id": "c3f0871d",
   "metadata": {},
   "outputs": [],
   "source": [
    "# 3\n",
    "\n",
    "\n",
    "def cheque(price_list: pd.Series, **kwargs: int) -> pd.DataFrame:  # type: ignore\n",
    "    \"\"\"Create a DataFrame with product details and calculate total cost.\"\"\"\n",
    "    my_products = sorted(kwargs)\n",
    "\n",
    "    data = pd.DataFrame(\n",
    "        {\n",
    "            \"product\": my_products,\n",
    "            \"price\": [price_list[p] for p in my_products],\n",
    "            \"number\": [kwargs[p] for p in my_products],\n",
    "        }\n",
    "    )\n",
    "\n",
    "    data[\"cost\"] = data[\"price\"] * data[\"number\"]\n",
    "    return data"
   ]
  },
  {
   "cell_type": "code",
   "execution_count": null,
   "id": "9c638c5b",
   "metadata": {},
   "outputs": [],
   "source": [
    "# 4\n",
    "\n",
    "\n",
    "def discount(result: pd.DataFrame):  # type: ignore\n",
    "    \"\"\"Apply discount to products and return updated DataFrame.\"\"\"\n",
    "    copy = result.copy()\n",
    "    copy.loc[result[\"number\"] > 2, \"cost\"] = result[\"cost\"] * 0.5\n",
    "    return copy"
   ]
  },
  {
   "cell_type": "code",
   "execution_count": null,
   "id": "3f131969",
   "metadata": {},
   "outputs": [
    {
     "name": "stdout",
     "output_type": "stream",
     "text": [
      "питон     5\n",
      "привет    6\n",
      "яндекс    6\n",
      "dtype: int64\n"
     ]
    }
   ],
   "source": [
    "# 5\n",
    "\n",
    "\n",
    "def get_long(data: pd.Series, min_length: int = 5):  # type: ignore\n",
    "    \"\"\"Return Series with values >= min_length.\"\"\"\n",
    "    return data[data >= min_length]"
   ]
  },
  {
   "cell_type": "code",
   "execution_count": null,
   "id": "0c4ca12a",
   "metadata": {},
   "outputs": [
    {
     "name": "stdout",
     "output_type": "stream",
     "text": [
      "       name  maths  physics  computer science\n",
      "0    Иванов      5        4                 5\n",
      "1    Петров      4        4                 2\n",
      "2   Сидоров      5        4                 5\n",
      "3  Васечкин      2        5                 4\n",
      "4  Николаев      4        5                 3\n",
      "       name  maths  physics  computer science\n",
      "0    Иванов      5        4                 5\n",
      "1    Петров      4        4                 2\n",
      "2   Сидоров      5        4                 5\n",
      "3  Васечкин      2        5                 4\n",
      "4  Николаев      4        5                 3\n"
     ]
    }
   ],
   "source": [
    "# 6\n",
    "\n",
    "\n",
    "def best(progress: pd.DataFrame):  # type: ignore\n",
    "    \"\"\"Return students with good grades in all subjects.\"\"\"\n",
    "    data = progress.copy()\n",
    "    return data[\n",
    "        (data[\"maths\"] >= 4) & (data[\"physics\"] >= 4) & (data[\"computer science\"] >= 4)\n",
    "    ]"
   ]
  },
  {
   "cell_type": "code",
   "execution_count": null,
   "id": "309bfded",
   "metadata": {},
   "outputs": [],
   "source": [
    "# 7\n",
    "\n",
    "\n",
    "def need_to_work_better(progress: pd.DataFrame):  # type: ignore\n",
    "    \"\"\"Return students with good grades in all subjects.\"\"\"\n",
    "    data = progress.copy()\n",
    "    return data[\n",
    "        (data[\"maths\"] < 3) | (data[\"physics\"] < 3) | (data[\"computer  science\"] < 3)\n",
    "    ]"
   ]
  },
  {
   "cell_type": "code",
   "execution_count": null,
   "id": "f191d882",
   "metadata": {},
   "outputs": [
    {
     "name": "stdout",
     "output_type": "stream",
     "text": [
      "       name  maths  physics  computer science\n",
      "0    Иванов      5        4                 5\n",
      "1    Петров      4        4                 2\n",
      "2   Сидоров      5        4                 5\n",
      "3  Васечкин      2        5                 4\n",
      "4  Николаев      4        5                 3\n",
      "       name  maths  physics  computer science   average\n",
      "0    Иванов      5        4                 5  4.666667\n",
      "2   Сидоров      5        4                 5  4.666667\n",
      "4  Николаев      4        5                 3  4.000000\n",
      "3  Васечкин      2        5                 4  3.666667\n",
      "1    Петров      4        4                 2  3.333333\n"
     ]
    }
   ],
   "source": [
    "# 8\n",
    "\n",
    "\n",
    "def update(progress: pd.DataFrame):  # type: ignore\n",
    "    \"\"\"Return DataFrame with average grade sorted by average and name.\"\"\"\n",
    "    data = progress.copy()\n",
    "    data[\"average\"] = (data[\"physics\"] + data[\"maths\"] + data[\"computer science\"]) / 3\n",
    "    sorted_data = data.sort_values([\"average\", \"name\"], ascending=(False, True))\n",
    "    return sorted_data"
   ]
  },
  {
   "cell_type": "code",
   "execution_count": null,
   "id": "2359e210",
   "metadata": {},
   "outputs": [],
   "source": [
    "# 9\n",
    "\n",
    "\n",
    "# pylint: disable=all\n",
    "# flake8: noqa\n",
    "top_angle_x, top_angle_y = map(int, input().split())\n",
    "bottom_angle_x, bottom_angle_y = map(int, input().split())\n",
    "game_data = pd.read_csv(\"data.csv\")\n",
    "print(\n",
    "    game_data[\n",
    "        (top_angle_x <= game_data[\"x\"])\n",
    "        & (game_data[\"x\"] <= bottom_angle_x)\n",
    "        & (bottom_angle_y <= game_data[\"y\"])\n",
    "        & (game_data[\"y\"] <= top_angle_y)\n",
    "    ]\n",
    ")\n",
    "# pylint: enable=all\n",
    "# flake8: enable"
   ]
  },
  {
   "cell_type": "code",
   "execution_count": null,
   "id": "81ec3aa7",
   "metadata": {},
   "outputs": [],
   "source": [
    "# 10\n",
    "\n",
    "\n",
    "def values(\n",
    "    func: Callable[[float], float], start: float, end: float, step: float\n",
    ") -> pd.Series:  # type: ignore\n",
    "    \"\"\"Create Series of function values with given range and step.\"\"\"\n",
    "    index = np.arange(start, end + step, step, dtype=\"float64\")\n",
    "    return pd.Series(list(map(func, index)), index=index, dtype=\"float64\")\n",
    "\n",
    "\n",
    "def min_extremum(data: pd.Series) -> float:  # type: ignore\n",
    "    \"\"\"Return x coordinate of leftmost minimum.\"\"\"\n",
    "    return float(min(data[data == min(data)].index))\n",
    "\n",
    "\n",
    "def max_extremum(data: pd.Series) -> float:  # type: ignore\n",
    "    \"\"\"Return x coordinate of rightmost maximum.\"\"\"\n",
    "    return float(max(data[data == max(data)].index))"
   ]
  }
 ],
 "metadata": {
  "kernelspec": {
   "display_name": "base",
   "language": "python",
   "name": "python3"
  },
  "language_info": {
   "codemirror_mode": {
    "name": "ipython",
    "version": 3
   },
   "file_extension": ".py",
   "mimetype": "text/x-python",
   "name": "python",
   "nbconvert_exporter": "python",
   "pygments_lexer": "ipython3",
   "version": "3.12.7"
  }
 },
 "nbformat": 4,
 "nbformat_minor": 5
}
