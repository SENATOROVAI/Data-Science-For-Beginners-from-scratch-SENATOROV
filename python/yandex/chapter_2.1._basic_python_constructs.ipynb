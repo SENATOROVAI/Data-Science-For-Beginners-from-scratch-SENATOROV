{
 "cells": [
  {
   "cell_type": "code",
   "execution_count": null,
   "id": "0a24b5ad",
   "metadata": {},
   "outputs": [],
   "source": [
    "\"\"\"2.1. Input and output of data.\"\"\""
   ]
  },
  {
   "cell_type": "markdown",
   "id": "d65b30a4",
   "metadata": {},
   "source": [
    "КУРС \"Основы Python\" - https://education.yandex.ru/handbook/python\n",
    "стандарт оформления кода PEP8\n",
    "https://peps.python.org/pep-0008/\n",
    "\n",
    "Все стандарты PEP8\n",
    "https://peps.python.org"
   ]
  },
  {
   "cell_type": "code",
   "execution_count": null,
   "id": "e84f4c4d",
   "metadata": {},
   "outputs": [],
   "source": [
    "# Выведем, например, фразу Добрый день, %имя%.\n",
    "\n",
    "name = \"Пользователь\"\n",
    "\n",
    "print(\"Добрый день,\", name, \".\")  # пробелы между всеми словами\n",
    "print(\"Добрый день, \", name, \".\", sep=\"\")  # через sep заменили на пустоту\n",
    "print(f\"Добрый день, {name}.\")  # f-строка"
   ]
  },
  {
   "cell_type": "code",
   "execution_count": null,
   "id": "c45a8273",
   "metadata": {},
   "outputs": [],
   "source": [
    "# f-строка. настраивать выравнивание внутри строки\n",
    "\n",
    "print(f\"{123:0>9}\")  # 000000123 (выравнивание по правому краю)\n",
    "print(f\"{123:0<9}\")  # 123000000 (выравнивание по левому краю)\n",
    "print(f\"{123:0^9}\")  # 000123000 (выравнивание по центру)"
   ]
  },
  {
   "cell_type": "markdown",
   "id": "afa1e4f6",
   "metadata": {},
   "source": [
    "### метод format().\n",
    "'Применение метода format() в Python' \n",
    "https://pyhub.ru/python/lecture-5-12-26/\n",
    "```python\n",
    "name = \"Алиса\"\n",
    "age = 25\n",
    "sentence = \"Меня зовут {} и мне {} лет.\".format(name, age)\n",
    "print(sentence)\n",
    "```\n",
    "\n",
    "Позиционное форматирование\n",
    "```python\n",
    "first_name = \"Иван\"\n",
    "last_name = \"Иванов\"\n",
    "formatted_string = \"Фамилия: {1}, Имя: {0}\".format(first_name, last_name)\n",
    "print(formatted_string)\n",
    "```\n",
    "\n",
    "Именованное форматирование\n",
    "```python\n",
    "sentence = \"Меня зовут {name} и я живу в {city}.\".format(name=\"Мария\", city=\"Москва\")\n",
    "print(sentence)\n",
    "```"
   ]
  },
  {
   "cell_type": "markdown",
   "id": "cac87efb",
   "metadata": {},
   "source": [
    "Управляющие символы в строках\n",
    "Внутри строк можно использовать управляющие символы, начинающиеся с \\ (бэкслеш):\n",
    "\n",
    "\\n — переход на новую строку;\n",
    "\\t — табуляция;\n",
    "\\r — возврат каретки в начало строки;\n",
    "\\b — возврат каретки на один символ.\n",
    "\\\\ - ввод в строке \\"
   ]
  },
  {
   "cell_type": "markdown",
   "id": "6e2f7a57",
   "metadata": {},
   "source": [
    "Параметры sep и end в print()\n",
    "По умолчанию пробел и \\n"
   ]
  },
  {
   "cell_type": "code",
   "execution_count": null,
   "id": "da24f06d",
   "metadata": {},
   "outputs": [],
   "source": [
    "# Округление.\n",
    "print(f\"{2 ** 0.5:.2f}\")  # до двух знаков после запятой"
   ]
  },
  {
   "cell_type": "code",
   "execution_count": null,
   "id": "ae2871fb",
   "metadata": {},
   "outputs": [
    {
     "name": "stdout",
     "output_type": "stream",
     "text": [
      "3\n"
     ]
    }
   ],
   "source": [
    "# Системы счисления (СС).\n",
    "\n",
    "# из CC с основанием от 2 до 36 в 10ную\n",
    "\n",
    "# int(<строка>,<основание>):\n",
    "# строка, представляющая запись числа в соответствующей системе счисления;\n",
    "# основание системы счисления.\n",
    "\n",
    "binary_value = \"1001\"\n",
    "print(int(binary_value, 2))  # воспринимает строку\n",
    "\n",
    "# из 10ной в 2ную, 8ную или 16ную\n",
    "\n",
    "# bin(x) → Двоичная система (основание 2)\n",
    "bin(10)  # '0b1010'\n",
    "# oct(x) → Восьмеричная система (основание 8)\n",
    "oct(10)  # '0o12'\n",
    "# hex(x) → Шестнадцатеричная система (основание 16)\n",
    "hex(255)  # '0xff'\n",
    "\n",
    "# Общие особенности:\n",
    "# Все функции возвращают строку (не число).\n",
    "\n",
    "# Префикс (0b, 0o, 0x) указывает на систему счисления.\n",
    "\n",
    "# Отрицательные числа также поддерживаются: -0b101"
   ]
  },
  {
   "cell_type": "markdown",
   "id": "514f67bc",
   "metadata": {},
   "source": [
    "# ЗАДАЧИ"
   ]
  },
  {
   "cell_type": "code",
   "execution_count": null,
   "id": "1a58941f",
   "metadata": {},
   "outputs": [
    {
     "name": "stdout",
     "output_type": "stream",
     "text": [
      "Привет, Яндекс!\n"
     ]
    }
   ],
   "source": [
    "# Задание 1 (Привет, Яндекс!)\n",
    "print(\"Привет, Яндекс!\")"
   ]
  },
  {
   "cell_type": "code",
   "execution_count": null,
   "id": "ab2842b0",
   "metadata": {},
   "outputs": [
    {
     "name": "stdout",
     "output_type": "stream",
     "text": [
      "Привет, \n"
     ]
    }
   ],
   "source": [
    "# Задание 2 (Привет, всем!)\n",
    "name = input(\"Как Вас зовут?\")\n",
    "print(f\"Привет, {name}\")"
   ]
  },
  {
   "cell_type": "code",
   "execution_count": null,
   "id": "413c3807",
   "metadata": {},
   "outputs": [
    {
     "name": "stdout",
     "output_type": "stream",
     "text": [
      "\n",
      "\n",
      "\n",
      "\n"
     ]
    }
   ],
   "source": [
    "# Задание 3 (Излишняя автоматизация)\n",
    "info = input()\n",
    "print((info + \"\\n\") * 3)"
   ]
  },
  {
   "cell_type": "code",
   "execution_count": null,
   "id": "f2e0acd4",
   "metadata": {},
   "outputs": [
    {
     "name": "stdout",
     "output_type": "stream",
     "text": [
      "-94\n"
     ]
    }
   ],
   "source": [
    "# Задание 4 (Сдача)\n",
    "total = int(input())\n",
    "change = int(total - 38 * 2.5)\n",
    "print(change)"
   ]
  },
  {
   "cell_type": "code",
   "execution_count": null,
   "id": "f74bf89e",
   "metadata": {},
   "outputs": [
    {
     "name": "stdout",
     "output_type": "stream",
     "text": [
      "-6\n"
     ]
    }
   ],
   "source": [
    "# Задание 5 (Магазин)\n",
    "price = int(input())\n",
    "weight = int(input())\n",
    "total = int(input())\n",
    "\n",
    "print(total - price * weight)"
   ]
  },
  {
   "cell_type": "code",
   "execution_count": null,
   "id": "f804fce2",
   "metadata": {},
   "outputs": [
    {
     "name": "stdout",
     "output_type": "stream",
     "text": [
      "Чек\n",
      "1 - 1кг - 1руб/кг\n",
      "Итого: 1руб\n",
      "Внесено: 1руб\n",
      "Сдача: 0руб\n"
     ]
    }
   ],
   "source": [
    "# Задание 6 (Чек)\n",
    "name = input()\n",
    "price = int(input())\n",
    "weight = int(input())\n",
    "total = int(input())\n",
    "\n",
    "print(\n",
    "    f\"\"\"Чек\n",
    "{name} - {weight}кг - {price}руб/кг\n",
    "Итого: {price * weight}руб\n",
    "Внесено: {total}руб\n",
    "Сдача: {total - price * weight}руб\"\"\"\n",
    ")"
   ]
  },
  {
   "cell_type": "code",
   "execution_count": null,
   "id": "66deb0e2",
   "metadata": {},
   "outputs": [
    {
     "name": "stdout",
     "output_type": "stream",
     "text": [
      "Купи слона!\n",
      "\n"
     ]
    }
   ],
   "source": [
    "# Задание 7 (Делу — время, потехе — час)\n",
    "count = int(input())\n",
    "print(\"Купи слона!\\n\" * count)"
   ]
  },
  {
   "cell_type": "code",
   "execution_count": null,
   "id": "01874270",
   "metadata": {},
   "outputs": [
    {
     "name": "stdout",
     "output_type": "stream",
     "text": [
      "Я больше никогда не буду писать \"1\"!\n",
      "\n"
     ]
    }
   ],
   "source": [
    "# Задание 8 (Наказание)\n",
    "count = int(input())\n",
    "text = input()\n",
    "print(f'Я больше никогда не буду писать \"{text}\"!\\n' * count)"
   ]
  },
  {
   "cell_type": "code",
   "execution_count": null,
   "id": "169e9250",
   "metadata": {},
   "outputs": [
    {
     "name": "stdout",
     "output_type": "stream",
     "text": [
      "2\n"
     ]
    }
   ],
   "source": [
    "# Задание 9 (Деловая колбаса)\n",
    "# 1 ребенок съедает 1 кусок за 2 минуты\n",
    "# 1 ребенок 0.5 куска за 1 мин -> 0.5 кусок/мин\n",
    "children = int(input())\n",
    "minutes = int(input())\n",
    "\n",
    "print(int(children * 0.5 * minutes))"
   ]
  },
  {
   "cell_type": "code",
   "execution_count": null,
   "id": "737a9915",
   "metadata": {},
   "outputs": [
    {
     "name": "stdout",
     "output_type": "stream",
     "text": [
      "Группа №8.  \n",
      "2. Ванечка.  \n",
      "Шкафчик: 832.  \n",
      "Кроватка: 3.\n"
     ]
    }
   ],
   "source": [
    "# Задание 10 (Детский сад — штаны на лямках)\n",
    "name = input()\n",
    "number = input()\n",
    "\n",
    "print(\n",
    "    f\"\"\"Группа №{number[0]}.  \n",
    "{number[2]}. {name}.  \n",
    "Шкафчик: {number}.  \n",
    "Кроватка: {number[1]}.\"\"\"\n",
    ")"
   ]
  },
  {
   "cell_type": "code",
   "execution_count": null,
   "id": "d5a1ebd0",
   "metadata": {},
   "outputs": [
    {
     "name": "stdout",
     "output_type": "stream",
     "text": [
      "20\n"
     ]
    }
   ],
   "source": [
    "# Задание 11 (Автоматизация игры)\n",
    "abcd = int(input())\n",
    "letter_d = (abcd % 10) * 10\n",
    "letter_c = abcd % 100 // 10\n",
    "letter_b = (abcd % 1000 // 100) * 1000\n",
    "letter_a = (abcd // 1000) * 100\n",
    "print(letter_a + letter_b + letter_c + letter_d)"
   ]
  },
  {
   "cell_type": "code",
   "execution_count": null,
   "id": "120df7e3",
   "metadata": {},
   "outputs": [
    {
     "name": "stdout",
     "output_type": "stream",
     "text": [
      "4\n"
     ]
    }
   ],
   "source": [
    "# Задание 12 (Интересное сложение)\n",
    "letter_a = int(input())\n",
    "letter_b = int(input())\n",
    "\n",
    "result_3 = (letter_a % 10 + letter_b % 10) % 10\n",
    "letter_a, letter_b = letter_a // 10, letter_b // 10\n",
    "result_2 = ((letter_a % 10 + letter_b % 10) % 10) * 10\n",
    "letter_a, letter_b = letter_a // 10, letter_b // 10\n",
    "result_1 = ((letter_a % 10 + letter_b % 10) % 10) * 100\n",
    "print(result_1 + result_2 + result_3)"
   ]
  },
  {
   "cell_type": "code",
   "execution_count": null,
   "id": "0e0fe219",
   "metadata": {},
   "outputs": [
    {
     "name": "stdout",
     "output_type": "stream",
     "text": [
      "333\n",
      "1\n"
     ]
    }
   ],
   "source": [
    "# Задание 13 (Дед Мороз и конфеты)\n",
    "children = int(input())\n",
    "candies = int(input())\n",
    "\n",
    "print(candies // children)\n",
    "print(candies % children)"
   ]
  },
  {
   "cell_type": "code",
   "execution_count": null,
   "id": "0069e7da",
   "metadata": {},
   "outputs": [
    {
     "name": "stdout",
     "output_type": "stream",
     "text": [
      "7\n"
     ]
    }
   ],
   "source": [
    "# Задание 14 (Шарики и ручки)\n",
    "red = int(input())\n",
    "green = int(input())\n",
    "blue = int(input())\n",
    "\n",
    "print(red + blue + 1)"
   ]
  },
  {
   "cell_type": "code",
   "execution_count": null,
   "id": "6ea00665",
   "metadata": {},
   "outputs": [
    {
     "name": "stdout",
     "output_type": "stream",
     "text": [
      "02:04\n"
     ]
    }
   ],
   "source": [
    "# Задание 15 (В ожидании доставки)\n",
    "hour = int(input())\n",
    "minute = int(input())\n",
    "delivery_min = int(input())\n",
    "\n",
    "minute = minute + delivery_min\n",
    "\n",
    "hour = (hour + minute // 60) % 24\n",
    "minute = minute % 60\n",
    "\n",
    "formatted_hours = f\"{hour:02d}\"\n",
    "formatted_minutes = f\"{minute:02d}\"\n",
    "\n",
    "print(f\"{formatted_hours}:{formatted_minutes}\")"
   ]
  },
  {
   "cell_type": "code",
   "execution_count": null,
   "id": "d34e0a61",
   "metadata": {},
   "outputs": [
    {
     "name": "stdout",
     "output_type": "stream",
     "text": [
      "0.0\n"
     ]
    }
   ],
   "source": [
    "# Задание 16 (Доставка)\n",
    "letter_a = int(input())\n",
    "letter_b = int(input())\n",
    "letter_c = int(input())\n",
    "\n",
    "print((letter_b - letter_a) / letter_c)"
   ]
  },
  {
   "cell_type": "code",
   "execution_count": null,
   "id": "cc98a389",
   "metadata": {},
   "outputs": [
    {
     "name": "stdout",
     "output_type": "stream",
     "text": [
      "136\n"
     ]
    }
   ],
   "source": [
    "# Задание 17 (Ошибка кассового аппарата)\n",
    "total = int(input())\n",
    "binary_value = input()\n",
    "price = int(binary_value, 2)\n",
    "print(total + price)"
   ]
  },
  {
   "cell_type": "code",
   "execution_count": null,
   "id": "7b61f50b",
   "metadata": {},
   "outputs": [
    {
     "name": "stdout",
     "output_type": "stream",
     "text": [
      "27\n"
     ]
    }
   ],
   "source": [
    "# Задание 18 (Сдача 10)\n",
    "price = int(input(), 2)\n",
    "total = int(input())\n",
    "print(total - price)"
   ]
  },
  {
   "cell_type": "code",
   "execution_count": null,
   "id": "b1137761",
   "metadata": {},
   "outputs": [],
   "source": [
    "# Задание 19 (Украшение чека)\n",
    "name = input()\n",
    "price = int(input())\n",
    "weight = int(input())\n",
    "user_money = int(input())\n",
    "\n",
    "print(f\"{'Чек':=^35}\")\n",
    "print(f\"{'Товар:':<10}{name:>25}\")\n",
    "print(f\"{'Цена:':<10}{f'{weight}кг * {price}руб/кг':>25}\")\n",
    "print(f\"{'Итого:':<10}{f'{weight * price}руб':>25}\")\n",
    "print(f\"{'Внесено:':<10}{f'{user_money}руб':>25}\")\n",
    "print(f\"{'Сдача:':<10}{f'{user_money - weight * price}руб':>25}\")\n",
    "print(\"=\" * 35)"
   ]
  },
  {
   "cell_type": "code",
   "execution_count": null,
   "id": "e13b777e",
   "metadata": {},
   "outputs": [],
   "source": [
    "# Задание 20 (Мухи отдельно, котлеты отдельно)\n",
    "total_weight = int(input())\n",
    "price = int(input())\n",
    "cutlet1_price = int(input())\n",
    "cutlet2_price = int(input())\n",
    "\n",
    "y_coordinate = (price * total_weight - total_weight * cutlet1_price) / (\n",
    "    cutlet2_price - cutlet1_price\n",
    ")\n",
    "x_coordinate = total_weight - y_coordinate\n",
    "print(int(x_coordinate), int(y_coordinate))"
   ]
  }
 ],
 "metadata": {
  "language_info": {
   "name": "python"
  }
 },
 "nbformat": 4,
 "nbformat_minor": 5
}
