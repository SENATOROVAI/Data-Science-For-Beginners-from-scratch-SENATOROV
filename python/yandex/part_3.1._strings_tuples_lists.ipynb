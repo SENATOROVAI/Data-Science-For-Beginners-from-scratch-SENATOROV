{
 "cells": [
  {
   "cell_type": "code",
   "execution_count": null,
   "id": "abffa62b",
   "metadata": {},
   "outputs": [],
   "source": [
    "\"\"\"2.5 Strings, tuples, lists.\"\"\""
   ]
  },
  {
   "cell_type": "code",
   "execution_count": null,
   "id": "b22188ce",
   "metadata": {},
   "outputs": [],
   "source": [
    "# Азбука\n",
    "# Польский калькулятор\n",
    "\n",
    "count = int(input())\n",
    "is_all_correct = True\n",
    "allowed_letters = (\"а\", \"б\", \"в\")\n",
    "\n",
    "for _ in range(count):\n",
    "    word = input()\n",
    "    if not word.startswith(allowed_letters):\n",
    "        is_all_correct = False\n",
    "\n",
    "print(\"YES\" if is_all_correct else \"NO\")"
   ]
  },
  {
   "cell_type": "code",
   "execution_count": null,
   "id": "bbc91fbd",
   "metadata": {},
   "outputs": [],
   "source": [
    "# Кручу-верчу\n",
    "text = input()\n",
    "for symbol in text:\n",
    "    print(symbol)"
   ]
  },
  {
   "cell_type": "code",
   "execution_count": null,
   "id": "3257785c",
   "metadata": {},
   "outputs": [],
   "source": [
    "# Анонс новости\n",
    "title_len = int(input())\n",
    "count_title = int(input())\n",
    "\n",
    "for _ in range(count_title):\n",
    "    title = input()\n",
    "    if len(title) <= title_len:\n",
    "        print(title)\n",
    "    else:\n",
    "        print(f\"{title[:title_len - 3]}...\")"
   ]
  },
  {
   "cell_type": "code",
   "execution_count": null,
   "id": "e03a063c",
   "metadata": {},
   "outputs": [],
   "source": [
    "# Очистка данных\n",
    "text = input().strip()\n",
    "while text:\n",
    "    if text.startswith(\"##\"):\n",
    "        text = text[2:]\n",
    "\n",
    "    if text.endswith(\"@@@\"):\n",
    "        text = input().strip()\n",
    "        continue\n",
    "\n",
    "    print(text)\n",
    "\n",
    "    text = input().strip()"
   ]
  },
  {
   "cell_type": "code",
   "execution_count": null,
   "id": "07f25555",
   "metadata": {},
   "outputs": [],
   "source": [
    "# А роза упала на лапу Азора 4.0\n",
    "text = input()\n",
    "print(\"YES\" if text == text[::-1] else \"NO\")"
   ]
  },
  {
   "cell_type": "code",
   "execution_count": null,
   "id": "1b14fbbd",
   "metadata": {},
   "outputs": [],
   "source": [
    "# Зайка — 6\n",
    "count_areas = int(input())\n",
    "count_res = 0\n",
    "for _ in range(count_areas):\n",
    "    count_res += input().split().count(\"зайка\")\n",
    "print(count_res)"
   ]
  },
  {
   "cell_type": "code",
   "execution_count": null,
   "id": "7afe2cb8",
   "metadata": {},
   "outputs": [],
   "source": [
    "# А и Б сидели на трубе\n",
    "print(sum(map(int, input().split())))"
   ]
  },
  {
   "cell_type": "code",
   "execution_count": null,
   "id": "f859bb99",
   "metadata": {},
   "outputs": [],
   "source": [
    "# Зайка — 7\n",
    "count_areas = int(input())\n",
    "for _ in range(count_areas):\n",
    "    text = input()\n",
    "    index = text.find(\"зайка\")\n",
    "    if index == -1:\n",
    "        print(\"Заек нет =(\")\n",
    "    else:\n",
    "        print(index + 1)"
   ]
  },
  {
   "cell_type": "code",
   "execution_count": null,
   "id": "4aba2d5a",
   "metadata": {},
   "outputs": [],
   "source": [
    "# Без комментариев\n",
    "text = input()\n",
    "while text:\n",
    "    index = text.find(\"#\")\n",
    "\n",
    "    if index == -1:\n",
    "        print(text)\n",
    "\n",
    "    else:\n",
    "        need_text = text[:index]\n",
    "\n",
    "        if need_text:\n",
    "            print(need_text)\n",
    "    text = input()"
   ]
  },
  {
   "cell_type": "code",
   "execution_count": null,
   "id": "d1a46516",
   "metadata": {},
   "outputs": [],
   "source": [
    "# Частотный анализ на минималках\n",
    "text = input()\n",
    "dict_symbols: dict[str, int] = {}\n",
    "\n",
    "while text != \"ФИНИШ\":\n",
    "    text = text.lower().replace(\" \", \"\")\n",
    "    for symbol in text:\n",
    "        dict_symbols[symbol] = dict_symbols.get(symbol, 0) + 1\n",
    "\n",
    "    text = input()\n",
    "\n",
    "need_k = \"\"\n",
    "max_v = 0\n",
    "\n",
    "for key, value in dict_symbols.items():\n",
    "    if value > max_v:\n",
    "        need_k = key\n",
    "        max_v = value\n",
    "print(need_k)"
   ]
  },
  {
   "cell_type": "code",
   "execution_count": null,
   "id": "43089aaa",
   "metadata": {},
   "outputs": [],
   "source": [
    "# Найдётся всё\n",
    "count_text = int(input())\n",
    "texts = []\n",
    "for _ in range(count_text):\n",
    "    text = input()\n",
    "    texts.append(text)\n",
    "\n",
    "find_text = input()\n",
    "for text in texts:\n",
    "    if find_text.lower() in text.lower():\n",
    "        print(text)"
   ]
  },
  {
   "cell_type": "code",
   "execution_count": null,
   "id": "3d0fe9ca",
   "metadata": {},
   "outputs": [],
   "source": [
    "# Меню питания\n",
    "count_days = int(input())\n",
    "porridge = [\"Манная\", \"Гречневая\", \"Пшённая\", \"Овсяная\", \"Рисовая\"]\n",
    "\n",
    "for day in range(count_days):\n",
    "    print(porridge[day % 5])"
   ]
  },
  {
   "cell_type": "code",
   "execution_count": null,
   "id": "c366f7fb",
   "metadata": {},
   "outputs": [],
   "source": [
    "# Массовое возведение в степень\n",
    "count_numbers = int(input())\n",
    "numbers = [int(input()) for _ in range(count_numbers)]\n",
    "power = int(input())\n",
    "\n",
    "print(*[number**power for number in numbers], sep=\"\\n\")"
   ]
  },
  {
   "cell_type": "code",
   "execution_count": null,
   "id": "676f4d36",
   "metadata": {},
   "outputs": [],
   "source": [
    "# Массовое возведение в степень 2.0\n",
    "numbers = list(map(int, input().split()))\n",
    "power = int(input())\n",
    "numbers_power = \" \".join([str(number**power) for number in numbers])\n",
    "print(numbers_power)"
   ]
  },
  {
   "cell_type": "code",
   "execution_count": null,
   "id": "78be4100",
   "metadata": {},
   "outputs": [],
   "source": [
    "# НОД 3.0\n",
    "\n",
    "\n",
    "def get_gcd(n1: int, n2: int) -> int:\n",
    "    \"\"\"Find gcd.\n",
    "\n",
    "    Args:\n",
    "        number1 (int): first number\n",
    "        number2 (int): second_number\n",
    "\n",
    "    Returns:\n",
    "        int: gcd\n",
    "    \"\"\"\n",
    "    while n2 != 0:\n",
    "        n1, n2 = n2, n1 % n2\n",
    "    return int(n1)\n",
    "\n",
    "\n",
    "numbers = list(map(int, input().split()))\n",
    "number1 = numbers[0]\n",
    "for index in range(1, len(numbers)):\n",
    "    number2 = numbers[index]\n",
    "    number1 = get_gcd(number1, number2)\n",
    "print(number1)"
   ]
  },
  {
   "cell_type": "code",
   "execution_count": null,
   "id": "57c4f12e",
   "metadata": {},
   "outputs": [],
   "source": [
    "# Анонс новости 2.0\n",
    "max_length = int(input())\n",
    "lines = []\n",
    "\n",
    "for _ in range(int(input())):\n",
    "    lines.append(input())\n",
    "\n",
    "for line in lines:\n",
    "    if max_length > 3:\n",
    "        if len(line) >= max_length - 3:\n",
    "            line = line[: max_length - 3] + \"...\"\n",
    "        else:\n",
    "            if max_length == 4:\n",
    "                line = line + \"...\"\n",
    "\n",
    "        print(line)\n",
    "        max_length -= len(line)"
   ]
  },
  {
   "cell_type": "code",
   "execution_count": null,
   "id": "0e321ccd",
   "metadata": {},
   "outputs": [],
   "source": [
    "# А роза упала на лапу Азора 5.0\n",
    "text = input().lower().replace(\" \", \"\")\n",
    "print(\"YES\" if text == text[::-1] else \"NO\")"
   ]
  },
  {
   "cell_type": "code",
   "execution_count": null,
   "id": "4a11db1d",
   "metadata": {},
   "outputs": [],
   "source": [
    "# RLE\n",
    "text = input()\n",
    "\n",
    "value_str = text[0]\n",
    "count_value = 0\n",
    "rle_list = []\n",
    "\n",
    "for symbol in text:  # Используем прямую итерацию вместо enumerate\n",
    "    if symbol == value_str:\n",
    "        count_value += 1\n",
    "    else:\n",
    "        rle_list.append([value_str, count_value])\n",
    "        value_str = symbol\n",
    "        count_value = 1\n",
    "\n",
    "rle_list.append([value_str, count_value])\n",
    "\n",
    "for rle in rle_list:\n",
    "    print(*rle)"
   ]
  },
  {
   "cell_type": "code",
   "execution_count": null,
   "id": "f553e6aa",
   "metadata": {},
   "outputs": [
    {
     "name": "stdout",
     "output_type": "stream",
     "text": [
      "-35\n"
     ]
    }
   ],
   "source": [
    "# Польский калькулятор с унарными и тернарными операциями\n",
    "\n",
    "\n",
    "def factorial(nmb: int) -> int:\n",
    "    \"\"\"Return the factorial of a number.\"\"\"\n",
    "    rsl: int = 1\n",
    "    for multiplier_val in range(2, nmb + 1):\n",
    "        rsl *= multiplier_val\n",
    "    return rsl\n",
    "\n",
    "\n",
    "expression_value: str = input().strip()\n",
    "tokens: list[str] = expression_value.split()\n",
    "\n",
    "stack: list[int] = []\n",
    "\n",
    "for token in tokens:\n",
    "    if token.isdigit() or (token[0] == \"-\" and token[1:].isdigit()):\n",
    "        stack.append(int(token))\n",
    "    elif token in {\"+\", \"-\", \"*\", \"/\"}:\n",
    "        b_val: int = stack.pop()\n",
    "        a_val: int = stack.pop()\n",
    "        if token == \"+\":\n",
    "            stack.append(a_val + b_val)\n",
    "        elif token == \"-\":\n",
    "            stack.append(a_val - b_val)\n",
    "        elif token == \"*\":\n",
    "            stack.append(a_val * b_val)\n",
    "        elif token == \"/\":\n",
    "            stack.append(a_val // b_val)\n",
    "    elif token == \"~\":\n",
    "        stack.append(-stack.pop())\n",
    "    elif token == \"!\":\n",
    "        stack.append(factorial(stack.pop()))\n",
    "    elif token == \"#\":\n",
    "        stack_value: int = stack[-1]\n",
    "        stack.append(stack_value)\n",
    "    elif token == \"@\":\n",
    "        first: int = stack.pop()\n",
    "        second: int = stack.pop()\n",
    "        third: int = stack.pop()\n",
    "        stack.extend([second, first, third])\n",
    "\n",
    "print(stack.pop())"
   ]
  },
  {
   "cell_type": "code",
   "execution_count": null,
   "id": "f7e3709a",
   "metadata": {},
   "outputs": [],
   "source": []
  }
 ],
 "metadata": {
  "kernelspec": {
   "display_name": "Python 3",
   "language": "python",
   "name": "python3"
  },
  "language_info": {
   "codemirror_mode": {
    "name": "ipython",
    "version": 3
   },
   "file_extension": ".py",
   "mimetype": "text/x-python",
   "name": "python",
   "nbconvert_exporter": "python",
   "pygments_lexer": "ipython3",
   "version": "3.11.3"
  }
 },
 "nbformat": 4,
 "nbformat_minor": 5
}
