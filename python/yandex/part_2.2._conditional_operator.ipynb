{
 "cells": [
  {
   "cell_type": "code",
   "execution_count": null,
   "id": "abffa62b",
   "metadata": {},
   "outputs": [],
   "source": [
    "\"\"\"2.2 Conditional operator.\"\"\""
   ]
  },
  {
   "cell_type": "code",
   "execution_count": null,
   "id": "35ebfd3e",
   "metadata": {},
   "outputs": [],
   "source": [
    "# Знакомимся с пользователем\n",
    "print(\"Как Вас зовут?\")\n",
    "username = input()\n",
    "print(f\"Здравствуйте, {username}!\")\n",
    "\n",
    "print(\"Как дела?\")\n",
    "mood = input()\n",
    "\n",
    "if mood == \"хорошо\":\n",
    "    print(\"Я за Вас рада!\")\n",
    "else:\n",
    "    print(\"Всё наладится!\")"
   ]
  },
  {
   "cell_type": "code",
   "execution_count": null,
   "id": "fdc6fc39",
   "metadata": {},
   "outputs": [],
   "source": [
    "# Кто быстрее?\n",
    "petya_speed = int(input())\n",
    "vasya_speed = int(input())\n",
    "\n",
    "if petya_speed > vasya_speed:\n",
    "    print(\"Петя\")\n",
    "else:\n",
    "    print(\"Вася\")"
   ]
  },
  {
   "cell_type": "code",
   "execution_count": null,
   "id": "db4bf80c",
   "metadata": {},
   "outputs": [],
   "source": [
    "# Кто быстрее на этот раз?\n",
    "petya_speed = int(input())\n",
    "vasya_speed = int(input())\n",
    "tolya_speed = int(input())\n",
    "\n",
    "if petya_speed > vasya_speed and petya_speed > tolya_speed:\n",
    "    print(\"Петя\")\n",
    "\n",
    "elif vasya_speed > petya_speed and vasya_speed > tolya_speed:\n",
    "    print(\"Вася\")\n",
    "\n",
    "else:\n",
    "    print(\"Толя\")"
   ]
  },
  {
   "cell_type": "code",
   "execution_count": null,
   "id": "d981a089",
   "metadata": {},
   "outputs": [],
   "source": [
    "# Список победителей\n",
    "petya_speed = int(input())\n",
    "vasya_speed = int(input())\n",
    "tolya_speed = int(input())\n",
    "\n",
    "if petya_speed > vasya_speed and petya_speed > tolya_speed:\n",
    "    if vasya_speed > tolya_speed:\n",
    "        first, second, third = \"Петя\", \"Вася\", \"Толя\"\n",
    "    else:\n",
    "        first, second, third = \"Петя\", \"Толя\", \"Вася\"\n",
    "\n",
    "elif vasya_speed > petya_speed and vasya_speed > tolya_speed:\n",
    "    if petya_speed > tolya_speed:\n",
    "        first, second, third = \"Вася\", \"Петя\", \"Толя\"\n",
    "    else:\n",
    "        first, second, third = \"Вася\", \"Толя\", \"Петя\"\n",
    "\n",
    "else:\n",
    "    if vasya_speed > petya_speed:\n",
    "        first, second, third = \"Толя\", \"Вася\", \"Петя\"\n",
    "    else:\n",
    "        first, second, third = \"Толя\", \"Петя\", \"Вася\"\n",
    "\n",
    "print(f\"1. {first}\")\n",
    "print(f\"2. {second}\")\n",
    "print(f\"3. {third}\")"
   ]
  },
  {
   "cell_type": "code",
   "execution_count": null,
   "id": "b3351787",
   "metadata": {},
   "outputs": [],
   "source": [
    "# Яблоки\n",
    "apples_for_petya = int(input())\n",
    "apples_for_vasya = int(input())\n",
    "\n",
    "petya_apples = 7\n",
    "vasya_apples = 7\n",
    "\n",
    "petya_apples -= 3\n",
    "vasya_apples -= 3\n",
    "\n",
    "vasya_apples += 5 - 2\n",
    "\n",
    "petya_apples += apples_for_petya\n",
    "vasya_apples += apples_for_vasya\n",
    "\n",
    "if petya_apples > vasya_apples:\n",
    "    print(\"Петя\")\n",
    "else:\n",
    "    print(\"Вася\")"
   ]
  },
  {
   "cell_type": "code",
   "execution_count": null,
   "id": "f26a8e4c",
   "metadata": {},
   "outputs": [],
   "source": [
    "# Сила прокрастинации\n",
    "year = int(input())\n",
    "\n",
    "if year % 4 == 0 and year % 100 != 0:\n",
    "    print(\"YES\")\n",
    "elif year % 400 == 0:\n",
    "    print(\"YES\")\n",
    "else:\n",
    "    print(\"NO\")"
   ]
  },
  {
   "cell_type": "code",
   "execution_count": null,
   "id": "83c9b53a",
   "metadata": {},
   "outputs": [],
   "source": [
    "# А роза упала на лапу Азора\n",
    "text = input()\n",
    "if text == text[::-1]:\n",
    "    print(\"YES\")\n",
    "else:\n",
    "    print(\"NO\")"
   ]
  },
  {
   "cell_type": "code",
   "execution_count": null,
   "id": "2f1294f9",
   "metadata": {},
   "outputs": [],
   "source": [
    "# Зайка — 1\n",
    "text = input()\n",
    "if \"зайка\" in text:\n",
    "    print(\"YES\")\n",
    "else:\n",
    "    print(\"NO\")"
   ]
  },
  {
   "cell_type": "code",
   "execution_count": null,
   "id": "72aae1b8",
   "metadata": {},
   "outputs": [],
   "source": [
    "# Первому игроку приготовиться\n",
    "name1 = input()\n",
    "name2 = input()\n",
    "name3 = input()\n",
    "if name1 < name2 and name1 < name3:\n",
    "    print(name1)\n",
    "elif name2 < name1 and name2 < name3:\n",
    "    print(name2)\n",
    "else:\n",
    "    print(name3)"
   ]
  },
  {
   "cell_type": "code",
   "execution_count": null,
   "id": "625e2157",
   "metadata": {},
   "outputs": [],
   "source": [
    "# Лучшая защита — шифрование\n",
    "number = int(input())\n",
    "left_numeral = number // 100\n",
    "medium_numeral = number // 10 % 10\n",
    "right_numeral = number % 10\n",
    "\n",
    "code_part1 = medium_numeral + right_numeral\n",
    "code_part2 = left_numeral + medium_numeral\n",
    "\n",
    "if code_part1 >= code_part2:\n",
    "    print(f\"{code_part1}{code_part2}\")\n",
    "else:\n",
    "    print(f\"{code_part2}{code_part1}\")"
   ]
  },
  {
   "cell_type": "code",
   "execution_count": null,
   "id": "ce56cad2",
   "metadata": {},
   "outputs": [],
   "source": [
    "#  Красота спасёт мир\n",
    "number = int(input())\n",
    "left_numeral = number // 100\n",
    "medium_numeral = number // 10 % 10\n",
    "right_numeral = number % 10\n",
    "\n",
    "min_numberal = left_numeral\n",
    "mid_numeral = medium_numeral\n",
    "max_numeral = right_numeral\n",
    "\n",
    "if left_numeral <= medium_numeral <= right_numeral:\n",
    "    min_numberal = left_numeral\n",
    "    mid_numeral = medium_numeral\n",
    "    max_numeral = right_numeral\n",
    "elif left_numeral <= right_numeral <= medium_numeral:\n",
    "    min_numberal = left_numeral\n",
    "    mid_numeral = right_numeral\n",
    "    max_numeral = medium_numeral\n",
    "elif medium_numeral <= left_numeral <= right_numeral:\n",
    "    min_numberal = medium_numeral\n",
    "    mid_numeral = left_numeral\n",
    "    max_numeral = right_numeral\n",
    "elif medium_numeral <= right_numeral <= left_numeral:\n",
    "    min_numberal = medium_numeral\n",
    "    mid_numeral = right_numeral\n",
    "    max_numeral = left_numeral\n",
    "elif right_numeral <= left_numeral <= medium_numeral:\n",
    "    min_numberal = right_numeral\n",
    "    mid_numeral = left_numeral\n",
    "    max_numeral = medium_numeral\n",
    "else:\n",
    "    min_numberal = right_numeral\n",
    "    mid_numeral = medium_numeral\n",
    "    max_numeral = left_numeral\n",
    "\n",
    "if min_numberal + max_numeral == mid_numeral * 2:\n",
    "    print(\"YES\")\n",
    "else:\n",
    "    print(\"NO\")"
   ]
  },
  {
   "cell_type": "code",
   "execution_count": null,
   "id": "8a40795c",
   "metadata": {},
   "outputs": [],
   "source": [
    "# Музыкальный инструмент\n",
    "pipe1_length = int(input())\n",
    "pipe2_length = int(input())\n",
    "pipe3_length = int(input())\n",
    "\n",
    "condition1 = pipe1_length + pipe2_length > pipe3_length\n",
    "condition2 = pipe1_length + pipe3_length > pipe2_length\n",
    "condition3 = pipe2_length + pipe3_length > pipe1_length\n",
    "if condition1 and condition2 and condition3:\n",
    "    print(\"YES\")\n",
    "else:\n",
    "    print(\"NO\")"
   ]
  },
  {
   "cell_type": "code",
   "execution_count": null,
   "id": "d4a58026",
   "metadata": {},
   "outputs": [],
   "source": [
    "# Властелин Чисел: Братство общей цифры\n",
    "elf_number = int(input())\n",
    "gnome_number = int(input())\n",
    "human_number = int(input())\n",
    "\n",
    "elf_left_numeric = elf_number // 10\n",
    "elf_right_numeric = elf_number % 10\n",
    "gnome_left_numeric = gnome_number // 10\n",
    "gnome_right_numeric = gnome_number % 10\n",
    "human_left_numeric = human_number // 10\n",
    "human_right_numeric = human_number % 10\n",
    "\n",
    "if elf_left_numeric == gnome_left_numeric == human_left_numeric:\n",
    "    print(elf_left_numeric)\n",
    "else:\n",
    "    print(elf_right_numeric)"
   ]
  },
  {
   "cell_type": "code",
   "execution_count": null,
   "id": "29c7d7b5",
   "metadata": {},
   "outputs": [],
   "source": [
    "# Властелин Чисел: Две Башни\n",
    "number = int(input())\n",
    "left_numeral = number // 100\n",
    "medium_numeral = number // 10 % 10\n",
    "right_numeral = number % 10\n",
    "\n",
    "min_numberal = left_numeral\n",
    "mid_numeral = medium_numeral\n",
    "max_numeral = right_numeral\n",
    "\n",
    "if left_numeral <= medium_numeral <= right_numeral:\n",
    "    min_numberal = left_numeral\n",
    "    mid_numeral = medium_numeral\n",
    "    max_numeral = right_numeral\n",
    "elif left_numeral <= right_numeral <= medium_numeral:\n",
    "    min_numberal = left_numeral\n",
    "    mid_numeral = right_numeral\n",
    "    max_numeral = medium_numeral\n",
    "elif medium_numeral <= left_numeral <= right_numeral:\n",
    "    min_numberal = medium_numeral\n",
    "    mid_numeral = left_numeral\n",
    "    max_numeral = right_numeral\n",
    "elif medium_numeral <= right_numeral <= left_numeral:\n",
    "    min_numberal = medium_numeral\n",
    "    mid_numeral = right_numeral\n",
    "    max_numeral = left_numeral\n",
    "elif right_numeral <= left_numeral <= medium_numeral:\n",
    "    min_numberal = right_numeral\n",
    "    mid_numeral = left_numeral\n",
    "    max_numeral = medium_numeral\n",
    "else:\n",
    "    min_numberal = right_numeral\n",
    "    mid_numeral = medium_numeral\n",
    "    max_numeral = left_numeral\n",
    "\n",
    "if min_numberal == 0:\n",
    "    print(f\"{mid_numeral}{min_numberal}\", end=\" \")\n",
    "else:\n",
    "    print(f\"{min_numberal}{mid_numeral}\", end=\" \")\n",
    "\n",
    "print(f\"{max_numeral}{mid_numeral}\")"
   ]
  },
  {
   "cell_type": "code",
   "execution_count": null,
   "id": "06e3e4eb",
   "metadata": {},
   "outputs": [],
   "source": [
    "# Властелин Чисел: Возвращение Цезаря\n",
    "number1 = input()\n",
    "number2 = input()\n",
    "numerics = [int(numerical) for numerical in f\"{number1}{number2}\"]\n",
    "\n",
    "max_numerical = max(numerics)\n",
    "min_numberal = min(numerics)\n",
    "\n",
    "numerics.remove(max_numerical)\n",
    "numerics.remove(min_numberal)\n",
    "\n",
    "mid_numeral = sum(numerics) % 10\n",
    "\n",
    "print(f\"{max_numerical}{mid_numeral}{min_numberal}\")"
   ]
  },
  {
   "cell_type": "code",
   "execution_count": 19,
   "id": "b790484e",
   "metadata": {},
   "outputs": [
    {
     "name": "stdout",
     "output_type": "stream",
     "text": [
      "          Толя          \n",
      "  Вася  \n",
      "                  Петя  \n",
      "   II      I      III   \n"
     ]
    }
   ],
   "source": [
    "# Легенды велогонок возвращаются: кто быстрее?\n",
    "petya_speed = int(input())\n",
    "vasya_speed = int(input())\n",
    "tolya_speed = int(input())\n",
    "\n",
    "if petya_speed > vasya_speed and petya_speed > tolya_speed:\n",
    "    if vasya_speed > tolya_speed:\n",
    "        first, second, third = \"Петя\", \"Вася\", \"Толя\"\n",
    "    else:\n",
    "        first, second, third = \"Петя\", \"Толя\", \"Вася\"\n",
    "\n",
    "elif vasya_speed > petya_speed and vasya_speed > tolya_speed:\n",
    "    if petya_speed > tolya_speed:\n",
    "        first, second, third = \"Вася\", \"Петя\", \"Толя\"\n",
    "    else:\n",
    "        first, second, third = \"Вася\", \"Толя\", \"Петя\"\n",
    "\n",
    "else:\n",
    "    if vasya_speed > petya_speed:\n",
    "        first, second, third = \"Толя\", \"Вася\", \"Петя\"\n",
    "    else:\n",
    "        first, second, third = \"Толя\", \"Петя\", \"Вася\"\n",
    "\n",
    "print(f\"{first:^24}\")\n",
    "print(f\"{second:^8}\")\n",
    "print(f\"{' ' * 16}{third:^8}\")\n",
    "print(\"   II      I      III   \")"
   ]
  },
  {
   "cell_type": "code",
   "execution_count": 32,
   "id": "eb04d4e6",
   "metadata": {},
   "outputs": [
    {
     "name": "stdout",
     "output_type": "stream",
     "text": [
      "-1.14 1.83\n"
     ]
    }
   ],
   "source": [
    "# Корень зла\n",
    "coef_a = float(input())\n",
    "coef_b = float(input())\n",
    "coef_c = float(input())\n",
    "\n",
    "if coef_a == coef_b == coef_c == 0:\n",
    "    print(\"Infinite solutions\")\n",
    "elif coef_a == coef_b == 0:\n",
    "    print(\"No solution\")\n",
    "elif coef_a == 0:\n",
    "    answer1 = -coef_c / coef_b\n",
    "    print(f\"{answer1:.02f}\")\n",
    "else:\n",
    "    discriminant = coef_b**2 - 4 * coef_a * coef_c\n",
    "    if discriminant == 0:\n",
    "        answer1 = (-coef_b + discriminant**0.5) / (2 * coef_a)\n",
    "        print(f\"{answer1:.02f}\")\n",
    "    elif discriminant < 0:\n",
    "        print(\"No solution\")\n",
    "    else:\n",
    "        answer1 = (-coef_b + discriminant**0.5) / (2 * coef_a)\n",
    "        answer2 = (-coef_b - discriminant**0.5) / (2 * coef_a)\n",
    "        if answer1 < answer2:\n",
    "            print(f\"{answer1:.02f} {answer2:.02f}\")\n",
    "        else:\n",
    "            print(f\"{answer2:.02f} {answer1:.02f}\")"
   ]
  },
  {
   "cell_type": "code",
   "execution_count": 30,
   "id": "fea52b26",
   "metadata": {},
   "outputs": [
    {
     "name": "stdout",
     "output_type": "stream",
     "text": [
      "велика\n"
     ]
    }
   ],
   "source": [
    "# Территория зла\n",
    "pipes_length = sorted(int(input()) for _ in range(3))\n",
    "\n",
    "pipes_not_max_square_sum = sum(map(lambda x: x**2, pipes_length[:2]))\n",
    "pipes_max_square = pipes_length[-1] ** 2\n",
    "\n",
    "if pipes_not_max_square_sum == pipes_max_square:\n",
    "    print(\"100%\")\n",
    "elif pipes_not_max_square_sum < pipes_max_square:\n",
    "    print(\"велика\")\n",
    "else:\n",
    "    print(\"крайне мала\")"
   ]
  },
  {
   "cell_type": "code",
   "execution_count": null,
   "id": "2991ce48",
   "metadata": {},
   "outputs": [],
   "source": [
    "# Автоматизация безопасности\n",
    "coord_x = float(input())\n",
    "coord_y = float(input())\n",
    "\n",
    "cond_1 = ((coord_x + 1) ** 2) / 4 - 9 <= coord_y\n",
    "cond_2 = coord_y <= 5\n",
    "cond_3 = coord_x**2 + coord_y**2 <= 25\n",
    "cond_4 = coord_y <= (5 * coord_x + 35) / 3\n",
    "\n",
    "is_danger_zone = cond_1 and cond_2 and cond_3 and cond_4\n",
    "\n",
    "if coord_x**2 + coord_y**2 >= 100:\n",
    "    print(\"Вы вышли в море и рискуете быть съеденным акулой!\")\n",
    "elif is_danger_zone:\n",
    "    print(\"Опасность! Покиньте зону как можно скорее!\")\n",
    "else:\n",
    "    print(\"Зона безопасна. Продолжайте работу.\")"
   ]
  },
  {
   "cell_type": "code",
   "execution_count": null,
   "id": "6cf5d7db",
   "metadata": {},
   "outputs": [
    {
     "name": "stdout",
     "output_type": "stream",
     "text": [
      "березка зайка 13\n"
     ]
    }
   ],
   "source": [
    "# Зайка — 2\n",
    "texts = [input() for _ in range(3)]\n",
    "\n",
    "texts_with_zaika = {text: len(text) for text in texts if \"зайка\" in text}\n",
    "text_min = min(texts_with_zaika, key=lambda x: x[0])\n",
    "\n",
    "print(text_min, texts_with_zaika[text_min])"
   ]
  }
 ],
 "metadata": {
  "kernelspec": {
   "display_name": "Python 3",
   "language": "python",
   "name": "python3"
  },
  "language_info": {
   "codemirror_mode": {
    "name": "ipython",
    "version": 3
   },
   "file_extension": ".py",
   "mimetype": "text/x-python",
   "name": "python",
   "nbconvert_exporter": "python",
   "pygments_lexer": "ipython3",
   "version": "3.11.3"
  }
 },
 "nbformat": 4,
 "nbformat_minor": 5
}
