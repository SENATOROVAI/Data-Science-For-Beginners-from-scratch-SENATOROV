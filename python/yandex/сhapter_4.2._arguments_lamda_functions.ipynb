{
 "cells": [
  {
   "cell_type": "code",
   "execution_count": null,
   "metadata": {},
   "outputs": [],
   "source": [
    "\"\"\"Positional and named arguments. Higher-order functions. Lambda functions.\"\"\""
   ]
  },
  {
   "cell_type": "code",
   "execution_count": null,
   "metadata": {},
   "outputs": [
    {
     "data": {
      "text/plain": [
       "[5, 5, 5, 5, 5]"
      ]
     },
     "execution_count": 5,
     "metadata": {},
     "output_type": "execute_result"
    }
   ],
   "source": [
    "# 1\n",
    "\n",
    "\n",
    "def make_list(length: int, value: int = 0) -> list[int]:\n",
    "    \"\"\"Create a list with specified length.\"\"\"\n",
    "    return [value] * length"
   ]
  },
  {
   "cell_type": "code",
   "execution_count": null,
   "metadata": {},
   "outputs": [],
   "source": [
    "# 2\n",
    "\n",
    "\n",
    "def make_matrix(sz: int | tuple[int, int], vl: int = 0) -> list[list[int]]:\n",
    "    \"\"\"Create a 2D matrix filled with a specified value.\"\"\"\n",
    "    if isinstance(sz, tuple):\n",
    "        rows = [vl for _ in range(sz[0])]\n",
    "        print(rows)\n",
    "        return [rows for _ in range(sz[1])]\n",
    "    return [[vl for _ in range(sz)] for _ in range(sz)]"
   ]
  },
  {
   "cell_type": "code",
   "execution_count": null,
   "metadata": {},
   "outputs": [],
   "source": [
    "# 3\n",
    "\n",
    "\n",
    "def gcd(*args: int) -> int:\n",
    "    \"\"\"Calculate GCD for a number sequence.\"\"\"\n",
    "    if not args:\n",
    "        return 0\n",
    "\n",
    "    current_gcd = args[0]\n",
    "\n",
    "    for num in args[1:]:\n",
    "        num_1, num_2 = current_gcd, num\n",
    "        while num_2:\n",
    "            num_1, num_2 = num_2, num_1 % num_2\n",
    "        current_gcd = num_1\n",
    "\n",
    "    return current_gcd"
   ]
  },
  {
   "cell_type": "markdown",
   "metadata": {},
   "source": [
    "#### 4\n",
    "\n",
    "\n",
    "```python\n",
    "def month(nmb: int, lang: str = \"ru\") -> str | None:\n",
    "    \"\"\"Возвращает название месяца на указанном языке.\"\"\"\n",
    "    months = {\n",
    "        \"ru\": [\n",
    "            \"Январь\",\n",
    "            \"Февраль\",\n",
    "            \"Март\",\n",
    "            \"Апрель\",\n",
    "            \"Май\",\n",
    "            \"Июнь\",\n",
    "            \"Июль\",\n",
    "            \"Август\",\n",
    "            \"Сентябрь\",\n",
    "            \"Октябрь\",\n",
    "            \"Ноябрь\",\n",
    "            \"Декабрь\",\n",
    "        ],\n",
    "        \"en\": [\n",
    "            \"January\",\n",
    "            \"February\",\n",
    "            \"March\",\n",
    "            \"April\",\n",
    "            \"May\",\n",
    "            \"June\",\n",
    "            \"July\",\n",
    "            \"August\",\n",
    "            \"September\",\n",
    "            \"October\",\n",
    "            \"November\",\n",
    "            \"December\",\n",
    "        ],\n",
    "    }\n",
    "\n",
    "    return months.get(lang, months[\"ru\"])[nmb - 1] if 1 <= nmb <= 12 else None\n",
    "```"
   ]
  },
  {
   "cell_type": "code",
   "execution_count": null,
   "metadata": {},
   "outputs": [],
   "source": [
    "# 5\n",
    "\n",
    "\n",
    "def to_string(*args: int, sep: str = \" \", end: str = \"\\n\") -> str:\n",
    "    \"\"\"Forms a string from the given arguments.\"\"\"\n",
    "    return sep.join(map(str, args)) + end"
   ]
  },
  {
   "cell_type": "code",
   "execution_count": null,
   "metadata": {},
   "outputs": [],
   "source": [
    "# 6\n",
    "\n",
    "\n",
    "in_stock: dict[str, int] = {}\n",
    "\n",
    "\n",
    "def order(*preferences: str) -> str:\n",
    "    \"\"\"Process an order based on available ingredients.\"\"\"\n",
    "    recipes = {\n",
    "        \"Эспрессо\": {\"coffee\": 1},\n",
    "        \"Капучино\": {\"coffee\": 1, \"milk\": 3},\n",
    "        \"Макиато\": {\"coffee\": 2, \"milk\": 1},\n",
    "        \"Кофе по-венски\": {\"coffee\": 1, \"cream\": 2},\n",
    "        \"Латте Макиато\": {\"coffee\": 1, \"milk\": 2, \"cream\": 1},\n",
    "        \"Кон Панна\": {\"coffee\": 1, \"cream\": 1},\n",
    "    }\n",
    "\n",
    "    for preference in preferences:\n",
    "        if preference in recipes:\n",
    "            required_ingredients = recipes[preference]\n",
    "\n",
    "            if all(\n",
    "                in_stock.get(ingredient, 0) >= amount\n",
    "                for ingredient, amount in required_ingredients.items()\n",
    "            ):\n",
    "                for ingredient, amount in required_ingredients.items():\n",
    "                    in_stock[ingredient] -= amount\n",
    "                return preference\n",
    "\n",
    "    return \"К сожалению, не можем предложить Вам напиток\""
   ]
  },
  {
   "cell_type": "code",
   "execution_count": null,
   "metadata": {},
   "outputs": [],
   "source": [
    "# 7\n",
    "\n",
    "\n",
    "numbers: tuple[int, ...] = tuple()\n",
    "\n",
    "\n",
    "def enter_results(*new_values: int) -> None:\n",
    "    \"\"\"Add new experiment's values.\"\"\"\n",
    "    global numbers  # pylint: disable=global-statement\n",
    "    numbers += new_values\n",
    "\n",
    "\n",
    "def get_sum() -> tuple[float, ...]:\n",
    "    \"\"\"Compute the sum of experiment's result.\"\"\"\n",
    "    return round(sum(numbers[::2]), 2), round(sum(numbers[1::2]), 2)\n",
    "\n",
    "\n",
    "def get_average() -> tuple[float, ...]:\n",
    "    \"\"\"Compute the average of experiment's result.\"\"\"\n",
    "    total_even_sum, total_odd_sum = get_sum()\n",
    "    if len(numbers) == 0:\n",
    "        return 0.0, 0.0\n",
    "    return round(2 * total_even_sum / len(numbers), 2), round(\n",
    "        2 * total_odd_sum / len(numbers), 2\n",
    "    )"
   ]
  },
  {
   "cell_type": "code",
   "execution_count": 19,
   "metadata": {},
   "outputs": [
    {
     "name": "stdout",
     "output_type": "stream",
     "text": [
      "['мама', 'мыла', 'раму']\n"
     ]
    }
   ],
   "source": [
    "# 8\n",
    "string = \"мама мыла раму\"\n",
    "print(sorted(string.split(), key=lambda word: (len(word), word.lower())))"
   ]
  },
  {
   "cell_type": "code",
   "execution_count": null,
   "metadata": {},
   "outputs": [
    {
     "name": "stdout",
     "output_type": "stream",
     "text": [
      "2 4\n"
     ]
    }
   ],
   "source": [
    "# 9\n",
    "\n",
    "print(*filter(lambda number: not sum(map(int, str(number))) % 2, (1, 2, 4, 5)))"
   ]
  },
  {
   "cell_type": "code",
   "execution_count": null,
   "metadata": {},
   "outputs": [],
   "source": [
    "# 10\n",
    "\n",
    "\n",
    "def secret_replace(text: str, **replaces: str) -> str:\n",
    "    \"\"\"Return encrypted text.\"\"\"\n",
    "    replace_indices = {key: 0 for key in replaces}\n",
    "\n",
    "    text_list = list(text)\n",
    "\n",
    "    for i, char in enumerate(text_list):\n",
    "        if char in replaces:\n",
    "            index = replace_indices[char]\n",
    "            replacement = replaces[char][index % len(replaces[char])]\n",
    "            text_list[i] = replacement\n",
    "            replace_indices[char] += 1\n",
    "\n",
    "    return \"\".join(text_list)"
   ]
  }
 ],
 "metadata": {
  "kernelspec": {
   "display_name": "SENATOROV",
   "language": "python",
   "name": "python3"
  },
  "language_info": {
   "codemirror_mode": {
    "name": "ipython",
    "version": 3
   },
   "file_extension": ".py",
   "mimetype": "text/x-python",
   "name": "python",
   "nbconvert_exporter": "python",
   "pygments_lexer": "ipython3",
   "version": "3.11.0"
  }
 },
 "nbformat": 4,
 "nbformat_minor": 2
}
