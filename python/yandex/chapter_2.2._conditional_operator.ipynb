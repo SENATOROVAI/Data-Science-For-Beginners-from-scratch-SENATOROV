{
 "cells": [
  {
   "cell_type": "code",
   "execution_count": null,
   "id": "0af33387",
   "metadata": {},
   "outputs": [],
   "source": [
    "\"\"\"2.2. Условный оператор.\"\"\""
   ]
  },
  {
   "cell_type": "code",
   "execution_count": null,
   "id": "853a74ac",
   "metadata": {},
   "outputs": [
    {
     "name": "stdout",
     "output_type": "stream",
     "text": [
      "97 65\n",
      "1072 1040\n"
     ]
    }
   ],
   "source": [
    "# Сравнение строк\n",
    "# кодировка: функция ord() выдает кодировку буквы\n",
    "# chr() - принимает код и выдает букву\n",
    "\n",
    "print(ord(\"a\"), ord(\"A\"))  # англ\n",
    "print(ord(\"а\"), ord(\"А\"))  # русс"
   ]
  },
  {
   "cell_type": "code",
   "execution_count": null,
   "id": "8d099037",
   "metadata": {},
   "outputs": [],
   "source": [
    "# Проверка вхождения с in\n",
    "text = input()\n",
    "if \"добр\" in text:\n",
    "    print(\"Встретилось 'доброе' слово.\")\n",
    "else:\n",
    "    print(\"Добрых слов не найдено.\")"
   ]
  },
  {
   "cell_type": "code",
   "execution_count": null,
   "id": "26057886",
   "metadata": {},
   "outputs": [],
   "source": [
    "# Match-case\n",
    "# | используется как or\n",
    "color = input()\n",
    "match color:\n",
    "    case \"красный\" | \"жёлтый\":\n",
    "        print(\"Стоп.\")\n",
    "    case \"зелёный\":\n",
    "        print(\"Можно ехать.\")\n",
    "    case _:\n",
    "        print(\"Некорректное значение.\")"
   ]
  },
  {
   "cell_type": "markdown",
   "id": "474c295a",
   "metadata": {},
   "source": [
    "**Ключевые выводы параграфа**\n",
    "Условные операторы if, elif, else позволяют выполнять разные действия в зависимости от условий.\n",
    "Логические операции and, or, not помогают объединять несколько условий.\n",
    "Строки сравниваются по кодировке символов; для правильного сравнения регистр нужно приводить к одному виду.\n",
    "Оператор in проверяет вхождение элементов в строки и коллекции.\n",
    "Конструкция match-case и встроенные функции, такие как len(), max(), min(), abs(), расширяют возможности проверки условий."
   ]
  },
  {
   "cell_type": "markdown",
   "id": "4fe033eb",
   "metadata": {},
   "source": [
    "# ЗАДАЧИ"
   ]
  },
  {
   "cell_type": "code",
   "execution_count": null,
   "id": "394d96ed",
   "metadata": {},
   "outputs": [],
   "source": [
    "# Задание 1 (Просто здравствуй, просто как дела)\n",
    "name = input(\"Как Вас зовут?\\n\")\n",
    "print(f\"Здравствуйте, {name}!\")\n",
    "mood = input(\"Как дела?\\n\")\n",
    "if mood == \"хорошо\":\n",
    "    print(\"Я за Вас рада!\")\n",
    "else:\n",
    "    print(\"Всё наладится!\")"
   ]
  },
  {
   "cell_type": "code",
   "execution_count": null,
   "id": "3d468977",
   "metadata": {},
   "outputs": [],
   "source": [
    "# Задание 2 (Кто быстрее?)\n",
    "speed1 = int(input())\n",
    "speed2 = int(input())\n",
    "\n",
    "if speed1 > speed2:\n",
    "    print(\"Петя\")\n",
    "else:\n",
    "    print(\"Вася\")"
   ]
  },
  {
   "cell_type": "code",
   "execution_count": null,
   "id": "26be4331",
   "metadata": {},
   "outputs": [],
   "source": [
    "# Задание 3 (Кто быстрее на этот раз?)\n",
    "speed1 = int(input())\n",
    "speed2 = int(input())\n",
    "speed3 = int(input())\n",
    "\n",
    "if max(speed1, speed2, speed3) == speed1:\n",
    "    print(\"Петя\")\n",
    "elif max(speed1, speed2, speed3) == speed2:\n",
    "    print(\"Вася\")\n",
    "else:\n",
    "    print(\"Толя\")"
   ]
  },
  {
   "cell_type": "code",
   "execution_count": null,
   "id": "635f07e9",
   "metadata": {},
   "outputs": [],
   "source": [
    "# Задание 4 (Список победителей)\n",
    "speed1 = int(input())\n",
    "speed2 = int(input())\n",
    "speed3 = int(input())\n",
    "\n",
    "spisok = sorted([speed1, speed2, speed3], reverse=True)\n",
    "position = 1\n",
    "for i in spisok:\n",
    "    if i == speed1:\n",
    "        name = \"Петя\"\n",
    "    elif i == speed2:\n",
    "        name = \"Вася\"\n",
    "    else:\n",
    "        name = \"Толя\"\n",
    "    print(f\"{position}. {name}\")\n",
    "    position += 1"
   ]
  },
  {
   "cell_type": "code",
   "execution_count": null,
   "id": "87c92f1a",
   "metadata": {},
   "outputs": [],
   "source": [
    "# Задание 5 (Яблоки)\n",
    "petya_apples = 7  # У Пети было 7 яблок\n",
    "vasya_apples = 6  # У Васи было 6 яблок\n",
    "\n",
    "petya_apples -= 3\n",
    "vasya_apples += 3\n",
    "petya_apples += 2\n",
    "\n",
    "vasya_apples += 5\n",
    "vasya_apples -= 2\n",
    "\n",
    "n1 = int(input())\n",
    "m1 = int(input())\n",
    "\n",
    "petya_apples += n1\n",
    "vasya_apples += m1\n",
    "\n",
    "if petya_apples > vasya_apples:\n",
    "    print(\"Петя\")\n",
    "else:\n",
    "    print(\"Вася\")"
   ]
  },
  {
   "cell_type": "code",
   "execution_count": null,
   "id": "f78b0d4f",
   "metadata": {},
   "outputs": [],
   "source": [
    "# Задание 6 (Сила прокрастинации)\n",
    "year = int(input())\n",
    "if year % 4 == 0 and year % 100 != 0 or year % 400 == 0:\n",
    "    print(\"YES\")\n",
    "else:\n",
    "    print(\"NO\")"
   ]
  },
  {
   "cell_type": "code",
   "execution_count": null,
   "id": "ab758c90",
   "metadata": {},
   "outputs": [],
   "source": [
    "# Задание 7 (А роза упала на лапу Азора)\n",
    "word = input()\n",
    "if word[0] == word[3]:\n",
    "    if word[1] == word[2]:\n",
    "        print(\"YES\")\n",
    "    else:\n",
    "        print(\"NO\")\n",
    "else:\n",
    "    print(\"NO\")"
   ]
  },
  {
   "cell_type": "code",
   "execution_count": null,
   "id": "411f4e50",
   "metadata": {},
   "outputs": [],
   "source": [
    "# Задание 8 (Зайка — 1)\n",
    "nature = input()\n",
    "if \"зайка\" in nature:\n",
    "    print(\"YES\")\n",
    "else:\n",
    "    print(\"NO\")"
   ]
  },
  {
   "cell_type": "code",
   "execution_count": null,
   "id": "c449707c",
   "metadata": {},
   "outputs": [],
   "source": [
    "# Задание 9 (Первому игроку приготовиться)\n",
    "name1 = input()\n",
    "name2 = input()\n",
    "name3 = input()\n",
    "\n",
    "print(min(name1, name2, name3))"
   ]
  },
  {
   "cell_type": "code",
   "execution_count": 3,
   "id": "009ed69d",
   "metadata": {},
   "outputs": [
    {
     "name": "stdout",
     "output_type": "stream",
     "text": [
      "119\n"
     ]
    }
   ],
   "source": [
    "# Задание 10 (Лучшая защита — шифрование)\n",
    "number = int(input())\n",
    "a1 = number // 100\n",
    "b1 = number // 10 % 10\n",
    "c1 = number % 10\n",
    "\n",
    "ones = c1 + b1\n",
    "tens = a1 + b1\n",
    "\n",
    "if tens >= ones:\n",
    "    print(str(tens) + str(ones))\n",
    "else:\n",
    "    print(str(ones) + str(tens))"
   ]
  },
  {
   "cell_type": "code",
   "execution_count": null,
   "id": "a55ae412",
   "metadata": {},
   "outputs": [],
   "source": [
    "# Задание 11 (Красота спасёт мир)\n",
    "number = int(input())\n",
    "a1 = number // 100\n",
    "b1 = number // 10 % 10\n",
    "c1 = number % 10\n",
    "\n",
    "spisok = [a1, b1, c1]\n",
    "maximum = max(spisok)\n",
    "spisok.remove(maximum)\n",
    "minimum = min(spisok)\n",
    "spisok.remove(minimum)\n",
    "\n",
    "if (maximum + minimum) == (sum(spisok) * 2):\n",
    "    print(\"YES\")\n",
    "else:\n",
    "    print(\"NO\")"
   ]
  },
  {
   "cell_type": "code",
   "execution_count": null,
   "id": "c6c9c88b",
   "metadata": {},
   "outputs": [],
   "source": [
    "# Задание 12 (Музыкальный инструмент)\n",
    "a1 = int(input())\n",
    "b1 = int(input())\n",
    "c1 = int(input())\n",
    "\n",
    "if a1 + b1 > c1:\n",
    "    if c1 + b1 > a1:\n",
    "        if c1 + a1 > b1:\n",
    "            print(\"YES\")\n",
    "        else:\n",
    "            print(\"NO\")\n",
    "    else:\n",
    "        print(\"NO\")\n",
    "else:\n",
    "    print(\"NO\")"
   ]
  },
  {
   "cell_type": "code",
   "execution_count": null,
   "id": "08aec167",
   "metadata": {},
   "outputs": [
    {
     "ename": "IndexError",
     "evalue": "list index out of range",
     "output_type": "error",
     "traceback": [
      "\u001b[31m---------------------------------------------------------------------------\u001b[39m",
      "\u001b[31mIndexError\u001b[39m                                Traceback (most recent call last)",
      "\u001b[36mCell\u001b[39m\u001b[36m \u001b[39m\u001b[32mIn[2]\u001b[39m\u001b[32m, line 13\u001b[39m\n\u001b[32m     11\u001b[39m     \u001b[38;5;28mprint\u001b[39m(spisok_a[\u001b[32m0\u001b[39m])\n\u001b[32m     12\u001b[39m \u001b[38;5;28;01melse\u001b[39;00m:\n\u001b[32m---> \u001b[39m\u001b[32m13\u001b[39m     \u001b[38;5;28mprint\u001b[39m(\u001b[43mspisok_a\u001b[49m\u001b[43m[\u001b[49m\u001b[32;43m1\u001b[39;49m\u001b[43m]\u001b[49m)\n",
      "\u001b[31mIndexError\u001b[39m: list index out of range"
     ]
    }
   ],
   "source": [
    "# Задание 13 (Властелин Чисел: Братство общей цифры)\n",
    "\n",
    "num1 = input()  # Вместо a1\n",
    "num2 = input()  # Вместо b1\n",
    "num3 = input()  # Вместо c1\n",
    "\n",
    "digits1 = [int(d) for d in num1]  # Вместо spisok_a\n",
    "digits2 = [int(d) for d in num2]  # Вместо spisok_b\n",
    "digits3 = [int(d) for d in num3]  # Вместо spisok_c\n",
    "\n",
    "# Проверяем первую цифру первого числа на наличие в других числах\n",
    "if digits1[0] in digits2 and digits1[0] in digits3:\n",
    "    print(digits1[0])\n",
    "else:\n",
    "    print(digits1[1])"
   ]
  },
  {
   "cell_type": "code",
   "execution_count": null,
   "id": "afb59ec1",
   "metadata": {},
   "outputs": [],
   "source": [
    "# Задание 14 (Властелин Чисел: Две Башни)\n",
    "number1 = input()\n",
    "spisok_0 = [int(i) for i in number1]\n",
    "spisok_1 = [int(i) for i in number1]\n",
    "\n",
    "# ищем минимальное число\n",
    "spisok_0.remove(max(spisok_0))\n",
    "if 0 in spisok_0:\n",
    "    spisok_0 = sorted(spisok_0, reverse=True)\n",
    "else:\n",
    "    spisok_0 = sorted(spisok_0)\n",
    "\n",
    "# ищем максимальное число\n",
    "spisok_1.remove(min(spisok_1))\n",
    "spisok_1 = sorted(spisok_1, reverse=True)\n",
    "\n",
    "\n",
    "print(str(spisok_0[0]) + str(spisok_0[1]), str(spisok_1[0]) + str(spisok_1[1]))"
   ]
  },
  {
   "cell_type": "code",
   "execution_count": null,
   "id": "0e4f5558",
   "metadata": {},
   "outputs": [],
   "source": [
    "# Задание 15 (Властелин Чисел: Возвращение Цезаря)\n",
    "a2 = input()\n",
    "b2 = input()\n",
    "spisok = [int(i) for i in (a2 + b2)]\n",
    "\n",
    "maximum = max(spisok)\n",
    "spisok.remove(maximum)\n",
    "\n",
    "minimum = min(spisok)\n",
    "spisok.remove(minimum)\n",
    "\n",
    "average = sum(spisok) % 10\n",
    "\n",
    "print(str(maximum) + str(average) + str(minimum))"
   ]
  },
  {
   "cell_type": "code",
   "execution_count": null,
   "id": "a38b438b",
   "metadata": {},
   "outputs": [],
   "source": [
    "# Задание 16 (Легенды велогонок возвращаются: кто быстрее?)\n",
    "petya = int(input())\n",
    "vasya = int(input())\n",
    "tolya = int(input())\n",
    "\n",
    "spisok = [petya, vasya, tolya]\n",
    "\n",
    "maximum = max(spisok)\n",
    "if petya == maximum:\n",
    "    first = \"Петя\"\n",
    "elif vasya == maximum:\n",
    "    first = \"Вася\"\n",
    "else:\n",
    "    first = \"Толя\"\n",
    "spisok.remove(maximum)\n",
    "\n",
    "maximum = min(spisok)\n",
    "if petya == maximum:\n",
    "    Third = \"Петя\"\n",
    "elif vasya == maximum:\n",
    "    Third = \"Вася\"\n",
    "else:\n",
    "    Third = \"Толя\"\n",
    "spisok.remove(maximum)\n",
    "\n",
    "average = spisok[0]\n",
    "if petya == average:\n",
    "    second = \"Петя\"\n",
    "elif vasya == average:\n",
    "    second = \"Вася\"\n",
    "else:\n",
    "    second = \"Толя\"\n",
    "\n",
    "print(f\"{first:^24}\")\n",
    "print(f\"{second:^8}\")\n",
    "print(f\"{Third:>22}\")\n",
    "print(\"   II      I      III   \")"
   ]
  },
  {
   "cell_type": "code",
   "execution_count": null,
   "id": "1b1bacd4",
   "metadata": {},
   "outputs": [],
   "source": [
    "# Задание 17 (Корень зла)\n",
    "a3 = float(input())\n",
    "b3 = float(input())\n",
    "c3 = float(input())\n",
    "\n",
    "# все коэффициенты равны нулю;\n",
    "if a3 == b3 == c3 == 0:\n",
    "    print(\"Infinite solutions\")\n",
    "# коэффициенты a и b равны нулю;\n",
    "elif a3 == b3 == 0:\n",
    "    print(\"No solution\")\n",
    "# только a = 0;\n",
    "elif a3 == 0:\n",
    "    x3 = -c3 / b3\n",
    "    print(x3)\n",
    "# коэффициент a не равен нулю;\n",
    "else:\n",
    "    # если b и c равны нулю\n",
    "    if b3 == c3 == 0:\n",
    "        print(0.00)\n",
    "    # если b и c не равны нулю\n",
    "    else:\n",
    "        d3 = b3**2 - 4 * a3 * c3\n",
    "        if d3 < 0:\n",
    "            print(\"No solution\")\n",
    "        elif d3 == 0:\n",
    "            x3 = -b3 / (2 * a3)\n",
    "            print(x3)\n",
    "        else:\n",
    "            x_2 = (-b3 - d3**0.5) / (2 * a3)\n",
    "            x_1 = (-b3 + d3**0.5) / (2 * a3)\n",
    "            print(min(x_2, x_1), max(x_2, x_1))"
   ]
  },
  {
   "cell_type": "code",
   "execution_count": null,
   "id": "77d54bd7",
   "metadata": {},
   "outputs": [
    {
     "name": "stdout",
     "output_type": "stream",
     "text": [
      "крайне мала\n"
     ]
    }
   ],
   "source": [
    "# Задание 18 (Территория зла)\n",
    "a4 = int(input())\n",
    "b4 = int(input())\n",
    "c4 = int(input())\n",
    "\n",
    "spisok_t = [a4, b4, c4]\n",
    "c4 = max(a4, b4, c4)\n",
    "spisok_t.remove(c4)\n",
    "a4, b4 = spisok_t[0], spisok_t[1]\n",
    "# доказать прямоугольный ли через теорему Пифагора: c² = a² + b²\n",
    "if c4**2 == a4**2 + b4**2:\n",
    "    print(\"100%\")\n",
    "if c4**2 > a4**2 + b4**2:\n",
    "    print(\"велика\")\n",
    "if c4**2 < a4**2 + b4**2:\n",
    "    print(\"крайне мала\")"
   ]
  },
  {
   "cell_type": "code",
   "execution_count": null,
   "id": "4e58cffa",
   "metadata": {},
   "outputs": [],
   "source": [
    "# Задание 19 (Автоматизация безопасности)\n",
    "x1 = float(input())\n",
    "y1 = float(input())\n",
    "\n",
    "cond_1 = ((x1 + 1) ** 2) / 4 - 9 <= y1\n",
    "cond_2 = y1 <= 5\n",
    "cond_3 = x1**2 + y1**2 <= 25\n",
    "cond_4 = y1 <= (5 * x1 + 35) / 3\n",
    "\n",
    "# Присваиваем условие переменной is_in_danger_zone\n",
    "is_in_danger_zone = cond_1 and cond_2 and cond_3 and cond_4\n",
    "\n",
    "if x1**2 + y1**2 >= 100:\n",
    "    print(\"Вы вышли в море и рискуете быть съеденным акулой!\")\n",
    "elif is_in_danger_zone:\n",
    "    print(\"Опасность! Покиньте зону как можно скорее!\")\n",
    "else:\n",
    "    print(\"Зона безопасна. Продолжайте работу.\")"
   ]
  },
  {
   "cell_type": "code",
   "execution_count": null,
   "id": "4883b54e",
   "metadata": {},
   "outputs": [],
   "source": [
    "# Задание 20 (Зайка — 2)\n",
    "line1 = input().strip()\n",
    "line2 = input().strip()\n",
    "line3 = input().strip()\n",
    "\n",
    "candidates = []\n",
    "\n",
    "if \"зайка\" in line1:\n",
    "    candidates.append(line1)\n",
    "if \"зайка\" in line2:\n",
    "    candidates.append(line2)\n",
    "if \"зайка\" in line3:\n",
    "    candidates.append(line3)\n",
    "\n",
    "if candidates:\n",
    "    # min автоматически выбирает лексикографически меньшую строку\n",
    "    # лексикографическая порядок - упорядочивание по алфавиту\n",
    "    # (оценивается вся строка, каждая буква слова)\n",
    "    chosen = min(candidates)\n",
    "    print(chosen, len(chosen))"
   ]
  }
 ],
 "metadata": {
  "kernelspec": {
   "display_name": "base",
   "language": "python",
   "name": "python3"
  },
  "language_info": {
   "codemirror_mode": {
    "name": "ipython",
    "version": 3
   },
   "file_extension": ".py",
   "mimetype": "text/x-python",
   "name": "python",
   "nbconvert_exporter": "python",
   "pygments_lexer": "ipython3",
   "version": "3.12.7"
  }
 },
 "nbformat": 4,
 "nbformat_minor": 5
}
