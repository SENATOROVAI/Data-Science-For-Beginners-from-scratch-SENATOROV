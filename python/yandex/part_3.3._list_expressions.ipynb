{
 "cells": [
  {
   "cell_type": "code",
   "execution_count": null,
   "id": "b18fc2b3",
   "metadata": {},
   "outputs": [],
   "source": [
    "\"\"\"3.3 List expressions.\"\"\""
   ]
  },
  {
   "cell_type": "markdown",
   "id": "a585fa99",
   "metadata": {},
   "source": [
    "### Список квадратов\n",
    "[number ** 2 for number in range(a, b + 1)]"
   ]
  },
  {
   "cell_type": "markdown",
   "id": "e668a17c",
   "metadata": {},
   "source": [
    "### Список квадратов 2\n",
    "[num ** 2 for num in (range(a, b + 1) if a <= b else range(a, b - 1, -1))]"
   ]
  },
  {
   "cell_type": "markdown",
   "id": "b5a663b5",
   "metadata": {},
   "source": [
    "### Основы фильтрации\n",
    "[number for number in range(a, b + 1) if number % d == 0]"
   ]
  },
  {
   "cell_type": "markdown",
   "id": "c69ffc32",
   "metadata": {},
   "source": [
    "### Множество нечетных чисел\n",
    "set(number for number in numbers if number % 2 != 0)"
   ]
  },
  {
   "cell_type": "markdown",
   "id": "58636e57",
   "metadata": {},
   "source": [
    "### Множество всех полных квадратов\n",
    "set(number for number in numbers if number == int(number ** 0.5) ** 2)"
   ]
  },
  {
   "cell_type": "markdown",
   "id": "cea15829",
   "metadata": {},
   "source": [
    "### Длины всех слов\n",
    "[len(word) for word in sentence.split()]"
   ]
  },
  {
   "cell_type": "markdown",
   "id": "7c2004dc",
   "metadata": {},
   "source": [
    "### Цифровая выжимка\n",
    "\"\".join(symbol for symbol in text if symbol.isdigit())"
   ]
  },
  {
   "cell_type": "markdown",
   "id": "5cc53372",
   "metadata": {},
   "source": [
    "### Аббревиатура\n",
    "\"\".join(word[0].upper() for word in string.split())"
   ]
  },
  {
   "cell_type": "markdown",
   "id": "f549b775",
   "metadata": {},
   "source": [
    "### Преобразование в строку\n",
    "\" - \".join(map(str, sorted(set(numbers))))"
   ]
  },
  {
   "cell_type": "markdown",
   "id": "c07d9432",
   "metadata": {},
   "source": [
    "### Огласите список\n",
    "[word for word in words.split() if sum(1 for symbol in word if symbol.lower() in \"аяуюоёэеиыaeiouy\") >= 3]"
   ]
  },
  {
   "cell_type": "markdown",
   "id": "c0fc92aa",
   "metadata": {},
   "source": [
    "### Выявление уникальности\n",
    "set(number for number in numbers if numbers.count(number) == 1)"
   ]
  },
  {
   "cell_type": "markdown",
   "id": "7b8b63e9",
   "metadata": {},
   "source": [
    "### Максимальное произведение\n",
    "max(first * second for first in numbers for second in numbers if first != second)"
   ]
  },
  {
   "cell_type": "markdown",
   "id": "92793ecc",
   "metadata": {},
   "source": [
    "### Словарный минимум\n",
    "min(sorted(data.items()), key=lambda x: sum(x[1]))[0]"
   ]
  },
  {
   "cell_type": "markdown",
   "id": "a53dbd5a",
   "metadata": {},
   "source": [
    "### Поиск ошибок\n",
    "set(word for word, numbers in data.items() if len(numbers) != len(set(numbers)))"
   ]
  },
  {
   "cell_type": "markdown",
   "id": "63c5a229",
   "metadata": {},
   "source": [
    "### Буквенная статистика\n",
    "{symbol: text.lower().count(symbol) for symbol in text.lower() if symbol.isalpha()}"
   ]
  },
  {
   "cell_type": "markdown",
   "id": "a7e99af2",
   "metadata": {},
   "source": [
    "### RLE наоборот\n",
    "\"\".join(symbol * count for symbol, count in rle)"
   ]
  },
  {
   "cell_type": "markdown",
   "id": "3c085340",
   "metadata": {},
   "source": [
    "### Таблица умножения 2.0\n",
    "[[n1 * n2 for n2 in range(1, n + 1)] for n1 in range(1, n + 1)]"
   ]
  },
  {
   "cell_type": "markdown",
   "id": "c8ecc07f",
   "metadata": {},
   "source": [
    "### Делители\n",
    "{number: [d for d in range(1, number + 1) if number % d == 0] for number in numbers}"
   ]
  },
  {
   "cell_type": "markdown",
   "id": "1787821c",
   "metadata": {},
   "source": [
    "### Простое множество\n",
    "set(number for number in numbers if sum(1 for d in range(1, number + 1) if number % d == 0) == 2)"
   ]
  },
  {
   "cell_type": "markdown",
   "id": "7d80c610",
   "metadata": {},
   "source": [
    "### Обобщение\n",
    "text = 'ехали медведи на велосипеде'\n",
    "{tuple(sorted((w1, w2))) for w1 in text.split() for w2 in text.split() if w1 < w2 and len(set(w1) & set(w2)) > 2}"
   ]
  }
 ],
 "metadata": {
  "kernelspec": {
   "display_name": "Python 3",
   "language": "python",
   "name": "python3"
  },
  "language_info": {
   "codemirror_mode": {
    "name": "ipython",
    "version": 3
   },
   "file_extension": ".py",
   "mimetype": "text/x-python",
   "name": "python",
   "nbconvert_exporter": "python",
   "pygments_lexer": "ipython3",
   "version": "3.11.3"
  }
 },
 "nbformat": 4,
 "nbformat_minor": 5
}
