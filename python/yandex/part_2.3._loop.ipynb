{
 "cells": [
  {
   "cell_type": "code",
   "execution_count": null,
   "id": "abffa62b",
   "metadata": {},
   "outputs": [],
   "source": [
    "\"\"\"2.3 Loop.\"\"\""
   ]
  },
  {
   "cell_type": "code",
   "execution_count": null,
   "id": "48d45782",
   "metadata": {},
   "outputs": [],
   "source": [
    "# Раз, два, три! Ёлочка, гори!\n",
    "text = input()\n",
    "while text != \"Три!\":\n",
    "    print(\"Режим ожидания...\")\n",
    "    text = input()\n",
    "print(\"Ёлочка, гори!\")"
   ]
  },
  {
   "cell_type": "code",
   "execution_count": null,
   "id": "0e5a89bf",
   "metadata": {},
   "outputs": [],
   "source": [
    "# Зайка — 3\n",
    "text = input()\n",
    "count_word = 0\n",
    "while text != \"Приехали!\":\n",
    "    if \"зайка\" in text:\n",
    "        count_word += 1\n",
    "    text = input()\n",
    "print(count_word)"
   ]
  },
  {
   "cell_type": "code",
   "execution_count": null,
   "id": "cfe93813",
   "metadata": {},
   "outputs": [],
   "source": [
    "# Считалочка\n",
    "start = int(input())\n",
    "end = int(input())\n",
    "\n",
    "for number in range(start, end + 1):\n",
    "    print(number, end=\" \")"
   ]
  },
  {
   "cell_type": "code",
   "execution_count": null,
   "id": "7524f9df",
   "metadata": {},
   "outputs": [],
   "source": [
    "# Считалочка 2.0\n",
    "start = int(input())\n",
    "end = int(input())\n",
    "\n",
    "step = 1 if start <= end else -1\n",
    "for number in range(start, end + step, step):\n",
    "    print(number, end=\" \")"
   ]
  },
  {
   "cell_type": "code",
   "execution_count": null,
   "id": "36946b22",
   "metadata": {},
   "outputs": [],
   "source": [
    "# Внимание! Акция!\n",
    "cost = float(input())\n",
    "total_cost = 0.0\n",
    "while cost != 0:\n",
    "    if cost >= 500:\n",
    "        cost *= 0.9\n",
    "    total_cost += cost\n",
    "\n",
    "    cost = float(input())\n",
    "print(total_cost)"
   ]
  },
  {
   "cell_type": "code",
   "execution_count": null,
   "id": "b9d7b810",
   "metadata": {},
   "outputs": [],
   "source": [
    "# НОД\n",
    "number1 = int(input())\n",
    "number2 = int(input())\n",
    "\n",
    "while number2 != 0:\n",
    "    number1, number2 = number2, number1 % number2\n",
    "print(abs(number1))"
   ]
  },
  {
   "cell_type": "code",
   "execution_count": null,
   "id": "a075c106",
   "metadata": {},
   "outputs": [],
   "source": [
    "# НОК\n",
    "\n",
    "\n",
    "def get_gcd(n1: int, n2: int) -> int:\n",
    "    \"\"\"Find gcd.\n",
    "\n",
    "    Args:\n",
    "        number1 (int): first number\n",
    "        number2 (int): second_number\n",
    "\n",
    "    Returns:\n",
    "        int: gcd\n",
    "    \"\"\"\n",
    "    while n2 != 0:\n",
    "        n1, n2 = n2, n1 % n2\n",
    "    return int(n1)\n",
    "\n",
    "\n",
    "number1 = int(input())\n",
    "number2 = int(input())\n",
    "gcd = get_gcd(number1, number2)\n",
    "print(number1 * number2 // gcd)"
   ]
  },
  {
   "cell_type": "code",
   "execution_count": null,
   "id": "0c3d5dbd",
   "metadata": {},
   "outputs": [],
   "source": [
    "# Излишняя автоматизация 2.0\n",
    "text = input()\n",
    "repeat_count = int(input())\n",
    "\n",
    "for _ in range(repeat_count):\n",
    "    print(text)"
   ]
  },
  {
   "cell_type": "code",
   "execution_count": null,
   "id": "a7d215f9",
   "metadata": {},
   "outputs": [],
   "source": [
    "# Факториал\n",
    "number = int(input())\n",
    "result = 1\n",
    "for multiplier in range(1, number + 1):\n",
    "    result *= multiplier\n",
    "print(result)"
   ]
  },
  {
   "cell_type": "code",
   "execution_count": null,
   "id": "999cdcf3",
   "metadata": {},
   "outputs": [],
   "source": [
    "# Маршрут построен\n",
    "coord_x = 0\n",
    "coord_y = 0\n",
    "\n",
    "digit = input()\n",
    "while digit != \"СТОП\":\n",
    "    count_step = int(input())\n",
    "\n",
    "    if digit == \"СЕВЕР\":\n",
    "        coord_y += count_step\n",
    "    elif digit == \"ЮГ\":\n",
    "        coord_y -= count_step\n",
    "    elif digit == \"ВОСТОК\":\n",
    "        coord_x += count_step\n",
    "    else:\n",
    "        coord_x -= count_step\n",
    "\n",
    "    digit = input()\n",
    "\n",
    "print(coord_y)\n",
    "print(coord_x)"
   ]
  },
  {
   "cell_type": "code",
   "execution_count": null,
   "id": "52314294",
   "metadata": {},
   "outputs": [],
   "source": [
    "# Цифровая сумма\n",
    "number_str = input()\n",
    "amount = 0\n",
    "for numerical in number_str:\n",
    "    amount += int(numerical)\n",
    "    print(numerical)\n",
    "print(amount)"
   ]
  },
  {
   "cell_type": "code",
   "execution_count": null,
   "id": "6c16cb04",
   "metadata": {},
   "outputs": [],
   "source": [
    "# Сильная цифра\n",
    "number_str = input()\n",
    "max_number = max(number_str)\n",
    "print(max_number)"
   ]
  },
  {
   "cell_type": "code",
   "execution_count": null,
   "id": "47ef4fc9",
   "metadata": {},
   "outputs": [],
   "source": [
    "# Первому игроку приготовиться 2.0\n",
    "count_people = int(input())\n",
    "first_player = min(input() for _ in range(count_people))\n",
    "print(first_player)"
   ]
  },
  {
   "cell_type": "code",
   "execution_count": null,
   "id": "b32a4a2b",
   "metadata": {},
   "outputs": [],
   "source": [
    "number = int(input())\n",
    "\n",
    "for i in range(2, int(number**0.5) + 1):\n",
    "    if number % i == 0:\n",
    "        print(\"NO\")\n",
    "        break\n",
    "else:\n",
    "    if number < 2:\n",
    "        print(\"NO\")\n",
    "    else:\n",
    "        print(\"YES\")"
   ]
  },
  {
   "cell_type": "code",
   "execution_count": null,
   "id": "11e9e328",
   "metadata": {},
   "outputs": [],
   "source": [
    "# Зайка - 4\n",
    "count_text = int(input())\n",
    "count = 0\n",
    "for _ in range(count_text):\n",
    "    text = input()\n",
    "    if \"зайка\" in text:\n",
    "        count += 1\n",
    "print(count)"
   ]
  },
  {
   "cell_type": "code",
   "execution_count": null,
   "id": "72ca530a",
   "metadata": {},
   "outputs": [],
   "source": [
    "# А роза упала на лапу Азора 2.0\n",
    "number_str = input()\n",
    "if number_str[::-1] == number_str:\n",
    "    print(\"YES\")\n",
    "else:\n",
    "    print(\"NO\")"
   ]
  },
  {
   "cell_type": "code",
   "execution_count": null,
   "id": "bd9383bf",
   "metadata": {},
   "outputs": [],
   "source": [
    "# Чётная чистота\n",
    "number_str = input()\n",
    "answer = \"\"\n",
    "for digit in number_str:\n",
    "    if int(digit) % 2 != 0:\n",
    "        answer += digit\n",
    "\n",
    "print(answer)"
   ]
  },
  {
   "cell_type": "code",
   "execution_count": null,
   "id": "b2334080",
   "metadata": {},
   "outputs": [],
   "source": [
    "# Простая задача 2.0\n",
    "number = int(input())\n",
    "multipliers = []\n",
    "divisor = 2\n",
    "\n",
    "while divisor * divisor <= number:\n",
    "    while number % divisor == 0:\n",
    "        multipliers.append(str(divisor))\n",
    "        number //= divisor\n",
    "    divisor += 1\n",
    "\n",
    "if number > 1:\n",
    "    multipliers.append(str(number))\n",
    "\n",
    "print(\" * \".join(multipliers))"
   ]
  },
  {
   "cell_type": "code",
   "execution_count": null,
   "id": "8b6f61ec",
   "metadata": {},
   "outputs": [],
   "source": [
    "# Игра в «Угадайку»\n",
    "low, high = 1, 1000\n",
    "attempts = 0\n",
    "\n",
    "while attempts < 10:\n",
    "    guess = (low + high) // 2\n",
    "    print(guess)\n",
    "    response = input().strip()\n",
    "\n",
    "    if response == \"Угадал!\":\n",
    "        break\n",
    "    if response == \"Больше\":\n",
    "        low = guess + 1\n",
    "    elif response == \"Меньше\":\n",
    "        high = guess - 1\n",
    "\n",
    "    attempts += 1"
   ]
  },
  {
   "cell_type": "code",
   "execution_count": null,
   "id": "3b9a8208",
   "metadata": {},
   "outputs": [],
   "source": [
    "# Хайпанём немножечко!\n",
    "count_hash = int(input())\n",
    "prev_hash = 0\n",
    "for i in range(count_hash):\n",
    "    b_n = int(input())\n",
    "\n",
    "    h_n = b_n % 256\n",
    "    r_n = (b_n // 256) % 256\n",
    "    m_n = b_n // (256**2)\n",
    "    correct_hash = (37 * (m_n + r_n + prev_hash)) % 256\n",
    "\n",
    "    if h_n >= 100 or h_n != correct_hash:\n",
    "        print(i)\n",
    "        break\n",
    "\n",
    "    prev_hash = h_n\n",
    "else:\n",
    "    print(-1)"
   ]
  }
 ],
 "metadata": {
  "kernelspec": {
   "display_name": "Python 3",
   "language": "python",
   "name": "python3"
  },
  "language_info": {
   "codemirror_mode": {
    "name": "ipython",
    "version": 3
   },
   "file_extension": ".py",
   "mimetype": "text/x-python",
   "name": "python",
   "nbconvert_exporter": "python",
   "pygments_lexer": "ipython3",
   "version": "3.11.3"
  }
 },
 "nbformat": 4,
 "nbformat_minor": 5
}
