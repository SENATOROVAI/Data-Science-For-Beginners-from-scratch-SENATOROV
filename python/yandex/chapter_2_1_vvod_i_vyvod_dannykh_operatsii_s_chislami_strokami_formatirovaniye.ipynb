{
 "cells": [
  {
   "cell_type": "code",
   "execution_count": null,
   "metadata": {},
   "outputs": [],
   "source": [
    "\"\"\"Input and Output of Data: Operations and Formatting.\"\"\""
   ]
  },
  {
   "cell_type": "code",
   "execution_count": null,
   "metadata": {},
   "outputs": [
    {
     "name": "stdout",
     "output_type": "stream",
     "text": [
      "Привет, Яндекс!\n"
     ]
    }
   ],
   "source": [
    "# 1\n",
    "\n",
    "print(\"Привет, Яндекс!\")"
   ]
  },
  {
   "cell_type": "code",
   "execution_count": null,
   "metadata": {},
   "outputs": [
    {
     "name": "stdout",
     "output_type": "stream",
     "text": [
      "Hello, Maryia!\n"
     ]
    }
   ],
   "source": [
    "# 2\n",
    "\n",
    "user_name = input(\"Как Вас зовут?\")\n",
    "print(f\"Привет, {user_name}\")"
   ]
  },
  {
   "cell_type": "code",
   "execution_count": null,
   "metadata": {},
   "outputs": [
    {
     "name": "stdout",
     "output_type": "stream",
     "text": [
      "22\n",
      "22\n",
      "22\n"
     ]
    }
   ],
   "source": [
    "# 3\n",
    "\n",
    "input_value = input()\n",
    "print(f\"{input_value}\\n\" * 3, end=\"\")"
   ]
  },
  {
   "cell_type": "code",
   "execution_count": null,
   "metadata": {},
   "outputs": [
    {
     "name": "stdout",
     "output_type": "stream",
     "text": [
      "105\n"
     ]
    }
   ],
   "source": [
    "# 4\n",
    "\n",
    "banknote_value = int(input())\n",
    "total_expenses = 2.5 * 38\n",
    "change = banknote_value - total_expenses\n",
    "print(int(change))"
   ]
  },
  {
   "cell_type": "code",
   "execution_count": null,
   "metadata": {},
   "outputs": [
    {
     "name": "stdout",
     "output_type": "stream",
     "text": [
      "24\n"
     ]
    }
   ],
   "source": [
    "# 5\n",
    "\n",
    "product_price_1 = int(input())\n",
    "product_weight = int(input())\n",
    "total_amount = int(input())\n",
    "\n",
    "change = total_amount - (product_price_1 * product_weight)\n",
    "print(int(change))"
   ]
  },
  {
   "cell_type": "code",
   "execution_count": null,
   "metadata": {},
   "outputs": [
    {
     "name": "stdout",
     "output_type": "stream",
     "text": [
      "Чек\n",
      "fff - 4 кг - 3 руб/кг\n",
      "Итого: 12 руб\n",
      "Внесено: 5 руб\n",
      "Сдача: 0 руб\n",
      "\n"
     ]
    }
   ],
   "source": [
    "# 6\n",
    "\n",
    "product_name = input()\n",
    "product_price_2 = int(input())\n",
    "product_weight = int(input())\n",
    "total_amount = int(input())\n",
    "\n",
    "total_expenses = product_price_2 * product_weight\n",
    "change = max(total_amount - total_expenses, 0)\n",
    "\n",
    "print(\n",
    "    \"Чек\\n\"\n",
    "    f\"{product_name} - {product_weight}кг - {product_price_2}руб/кг\\n\"\n",
    "    f\"Итого: {total_expenses}руб\\n\"\n",
    "    f\"Внесено: {total_amount}руб\\n\"\n",
    "    f\"Сдача: {change}руб\\n\"\n",
    ")"
   ]
  },
  {
   "cell_type": "code",
   "execution_count": null,
   "metadata": {},
   "outputs": [
    {
     "name": "stdout",
     "output_type": "stream",
     "text": [
      "Kупи слона!\n",
      "Kупи слона!\n",
      "Kупи слона!\n",
      "Kупи слона!\n",
      "Kупи слона!\n"
     ]
    }
   ],
   "source": [
    "# 7\n",
    "\n",
    "counts = int(input())\n",
    "print(\"Купи слона!\\n\" * counts, end=\"\")"
   ]
  },
  {
   "cell_type": "code",
   "execution_count": null,
   "metadata": {},
   "outputs": [
    {
     "name": "stdout",
     "output_type": "stream",
     "text": [
      "Я больше никогда не буду 22\n",
      "Я больше никогда не буду 22\n"
     ]
    }
   ],
   "source": [
    "# 8\n",
    "\n",
    "counts = int(input())\n",
    "punishment = input()\n",
    "print(f'Я больше никогда не буду писать \"{punishment}\"!\\n' * counts, end=\"\")"
   ]
  },
  {
   "cell_type": "code",
   "execution_count": null,
   "metadata": {},
   "outputs": [],
   "source": [
    "# 9\n",
    "\n",
    "total_count = int(input())\n",
    "total_minutes = int(input())\n",
    "\n",
    "eaten_per_person = int((total_count * total_minutes) / 2)\n",
    "print(eaten_per_person)"
   ]
  },
  {
   "cell_type": "code",
   "execution_count": null,
   "metadata": {},
   "outputs": [
    {
     "name": "stdout",
     "output_type": "stream",
     "text": [
      "Группа №8.  \n",
      "2. Maryia.  \n",
      "Шкафчик: 832.  \n",
      "Кроватка: 3.\n",
      "\n"
     ]
    }
   ],
   "source": [
    "# 10\n",
    "\n",
    "first_name = input()\n",
    "locker = int(input())\n",
    "\n",
    "group = locker // 100\n",
    "bed = locker // 10 % 10\n",
    "child = locker % 10\n",
    "\n",
    "print(\n",
    "    f\"\"\"Группа №{group}.  \n",
    "{child}. {first_name}.  \n",
    "Шкафчик: {locker}.  \n",
    "Кроватка: {bed}.\n",
    "\"\"\"\n",
    ")"
   ]
  },
  {
   "cell_type": "code",
   "execution_count": null,
   "metadata": {},
   "outputs": [
    {
     "name": "stdout",
     "output_type": "stream",
     "text": [
      "5487\n"
     ]
    }
   ],
   "source": [
    "# 11\n",
    "\n",
    "n_val = int(input())\n",
    "\n",
    "d_val = n_val % 10\n",
    "n_val //= 10\n",
    "c_val = n_val % 10\n",
    "n_val //= 10\n",
    "b_val = n_val % 10\n",
    "n_val //= 10\n",
    "k_val = n_val\n",
    "\n",
    "new_number = b_val * 1000 + k_val * 100 + d_val * 10 + c_val\n",
    "\n",
    "print(new_number)"
   ]
  },
  {
   "cell_type": "code",
   "execution_count": null,
   "metadata": {},
   "outputs": [
    {
     "name": "stdout",
     "output_type": "stream",
     "text": [
      "777\n"
     ]
    }
   ],
   "source": [
    "# 12\n",
    "\n",
    "a_val = int(input())\n",
    "b_val = int(input())\n",
    "\n",
    "result = 0\n",
    "place = 1\n",
    "\n",
    "while a_val > 0 or b_val > 0:\n",
    "    digit_a = a_val % 10\n",
    "    digit_b = b_val % 10\n",
    "\n",
    "    sum_digit = (digit_a + digit_b) % 10\n",
    "\n",
    "    result += sum_digit * place\n",
    "\n",
    "    a_val //= 10\n",
    "    b_val //= 10\n",
    "    place *= 10\n",
    "\n",
    "print(result)"
   ]
  },
  {
   "cell_type": "code",
   "execution_count": null,
   "metadata": {},
   "outputs": [
    {
     "name": "stdout",
     "output_type": "stream",
     "text": [
      "14\n",
      "19\n"
     ]
    }
   ],
   "source": [
    "# 13\n",
    "\n",
    "children_count = int(input())\n",
    "candies_count = int(input())\n",
    "\n",
    "received_per_children = candies_count // children_count\n",
    "remainder = candies_count % children_count\n",
    "\n",
    "\n",
    "print(received_per_children)\n",
    "print(remainder)"
   ]
  },
  {
   "cell_type": "code",
   "execution_count": null,
   "metadata": {},
   "outputs": [
    {
     "name": "stdout",
     "output_type": "stream",
     "text": [
      "9\n"
     ]
    }
   ],
   "source": [
    "# 14\n",
    "\n",
    "red_balls_count = int(input())\n",
    "green_balls_count = int(input())\n",
    "blue_balls_count = int(input())\n",
    "\n",
    "\n",
    "max_attempts = red_balls_count + blue_balls_count + 1\n",
    "\n",
    "print(max_attempts)"
   ]
  },
  {
   "cell_type": "code",
   "execution_count": null,
   "metadata": {},
   "outputs": [
    {
     "name": "stdout",
     "output_type": "stream",
     "text": [
      "12:45\n"
     ]
    }
   ],
   "source": [
    "# 15\n",
    "\n",
    "order_hour = int(input())\n",
    "order_minutes = int(input())\n",
    "delivered_in_minutes = int(input())\n",
    "\n",
    "deliver_minutes = order_minutes + delivered_in_minutes\n",
    "deliver_hours = deliver_minutes // 60\n",
    "deliver_minutes = deliver_minutes % 60\n",
    "\n",
    "delivered_hour = (order_hour + deliver_hours) % 24\n",
    "delivered_minutes = deliver_minutes\n",
    "\n",
    "print(f\"{delivered_hour:02d}:{delivered_minutes:02d}\")"
   ]
  },
  {
   "cell_type": "code",
   "execution_count": null,
   "metadata": {},
   "outputs": [],
   "source": [
    "# 16\n",
    "\n",
    "warehouse_mileage = int(input())\n",
    "shop_mileage = int(input())\n",
    "average_speed = int(input())\n",
    "\n",
    "delivery_time = (shop_mileage - warehouse_mileage) / average_speed\n",
    "\n",
    "print(delivery_time)"
   ]
  },
  {
   "cell_type": "code",
   "execution_count": null,
   "metadata": {},
   "outputs": [
    {
     "name": "stdout",
     "output_type": "stream",
     "text": [
      "136\n"
     ]
    }
   ],
   "source": [
    "# 17\n",
    "\n",
    "total_sum: int = int(input())\n",
    "last_purchase: int = int(input(), 2)\n",
    "\n",
    "profit: int = total_sum + last_purchase\n",
    "\n",
    "print(profit)"
   ]
  },
  {
   "cell_type": "code",
   "execution_count": null,
   "metadata": {},
   "outputs": [],
   "source": [
    "# 18\n",
    "\n",
    "product_price_3: int = int(input(), 2)\n",
    "banknote: int = int(input())\n",
    "\n",
    "change = banknote - product_price_3\n",
    "\n",
    "print(change)"
   ]
  },
  {
   "cell_type": "code",
   "execution_count": null,
   "metadata": {},
   "outputs": [
    {
     "name": "stdout",
     "output_type": "stream",
     "text": [
      "================Чек================\n",
      "Товар:                         Test\n",
      "Цена:                4кг * 23руб/кг\n",
      "Итого:                        92руб\n",
      "Внесено:                     500руб\n",
      "Сдача:                       408руб\n",
      "===================================\n"
     ]
    }
   ],
   "source": [
    "# 19\n",
    "\n",
    "product = input()\n",
    "price_per_kg = int(input())\n",
    "weight = int(input())\n",
    "money_given = int(input())\n",
    "\n",
    "total_price = price_per_kg * weight\n",
    "change = money_given - total_price\n",
    "\n",
    "print(f\"{'Чек':=^35}\")\n",
    "print(f\"Товар:{product.rjust(29)}\")\n",
    "print(f\"Цена:{str(weight) + 'кг * ' + str(price_per_kg) + 'руб/кг':>30}\")\n",
    "print(f\"Итого:{str(total_price) + 'руб':>29}\")\n",
    "print(f\"Внесено:{str(money_given) + 'руб':>27}\")\n",
    "print(f\"Сдача:{str(change) + 'руб':>29}\")\n",
    "print(\"=\" * 35)"
   ]
  },
  {
   "cell_type": "code",
   "execution_count": null,
   "metadata": {},
   "outputs": [],
   "source": [
    "# 20\n",
    "\n",
    "N_val: int = int(input())\n",
    "M_val: int = int(input())\n",
    "K1_val: int = int(input())\n",
    "K2_val: int = int(input())\n",
    "\n",
    "Total_Cost: int = M_val * N_val\n",
    "x_val: int = (Total_Cost - (K2_val * N_val)) // (K1_val - K2_val)\n",
    "y_val: int = N_val - x_val\n",
    "\n",
    "print(x_val, y_val)"
   ]
  }
 ],
 "metadata": {
  "kernelspec": {
   "display_name": "SENATOROV",
   "language": "python",
   "name": "python3"
  },
  "language_info": {
   "codemirror_mode": {
    "name": "ipython",
    "version": 3
   },
   "file_extension": ".py",
   "mimetype": "text/x-python",
   "name": "python",
   "nbconvert_exporter": "python",
   "pygments_lexer": "ipython3",
   "version": "3.11.0"
  }
 },
 "nbformat": 4,
 "nbformat_minor": 2
}
