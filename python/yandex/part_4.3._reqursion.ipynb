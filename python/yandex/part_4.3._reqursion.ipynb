{
 "cells": [
  {
   "cell_type": "code",
   "execution_count": null,
   "id": "b18fc2b3",
   "metadata": {},
   "outputs": [],
   "source": [
    "\"\"\"4.3 Reqursion.\"\"\""
   ]
  },
  {
   "cell_type": "code",
   "execution_count": null,
   "id": "5a152bee",
   "metadata": {},
   "outputs": [],
   "source": [
    "from typing import Callable, Generator, Union"
   ]
  },
  {
   "cell_type": "code",
   "execution_count": null,
   "id": "1ffb1213",
   "metadata": {},
   "outputs": [],
   "source": [
    "# Рекурсивный сумматор\n",
    "\n",
    "\n",
    "def recursive_sum(*args: int) -> int:\n",
    "    \"\"\"Рекурсивный сумматорю.\"\"\"\n",
    "    if len(args) == 1:\n",
    "        return args[0]\n",
    "\n",
    "    return args[0] + recursive_sum(*args[1:])"
   ]
  },
  {
   "cell_type": "code",
   "execution_count": null,
   "id": "c1d61624",
   "metadata": {},
   "outputs": [],
   "source": [
    "# Рекурсивный сумматор цифр\n",
    "\n",
    "\n",
    "def recursive_digit_sum(number: int) -> int:\n",
    "    \"\"\"Рекурсивно находит сумму цифр.\"\"\"\n",
    "    str_number = str(number)\n",
    "    if len(str_number) == 1:\n",
    "        return number\n",
    "\n",
    "    return int(str_number[0]) + recursive_digit_sum(int(str_number[1:]))"
   ]
  },
  {
   "cell_type": "code",
   "execution_count": null,
   "id": "9ac02695",
   "metadata": {},
   "outputs": [],
   "source": [
    "# Многочлен N-ой степени\n",
    "\n",
    "\n",
    "def make_equation(*args: int) -> str:\n",
    "    \"\"\"Формирует выражение.\"\"\"\n",
    "    if len(args) == 1:\n",
    "        return str(args[0])\n",
    "\n",
    "    return \"(\" + make_equation(*args[:-1]) + \")\" + \" * x\" + f\" + {args[-1]}\""
   ]
  },
  {
   "cell_type": "code",
   "execution_count": null,
   "id": "0714fb02",
   "metadata": {},
   "outputs": [],
   "source": [
    "# Декор результата\n",
    "\n",
    "\n",
    "def answer(func: Callable[[int, int], str]) -> Callable[[int, int], str]:\n",
    "    \"\"\"Декоратор.\"\"\"\n",
    "\n",
    "    def wrapper(*args: int, **kwargs: int) -> str:\n",
    "        \"\"\"Функция декоратора.\"\"\"\n",
    "        return f\"Результат функции: {func(*args, **kwargs)}\"\n",
    "\n",
    "    return wrapper"
   ]
  },
  {
   "cell_type": "code",
   "execution_count": null,
   "id": "b2391369",
   "metadata": {},
   "outputs": [],
   "source": [
    "# Накопление результата\n",
    "\n",
    "\n",
    "def result_accumulator(\n",
    "    func: Callable[[int | str, int | str], int | str],\n",
    ") -> Callable[[int | str, int | str], list[int | str] | None]:\n",
    "    \"\"\"Декоратор напопитель.\"\"\"\n",
    "    dec_queue: list[int | str] = []\n",
    "\n",
    "    def wrapper(*args: int | str, method: str = \"accumulate\") -> list[int | str] | None:\n",
    "        \"\"\"Функция декоратора.\"\"\"\n",
    "        func_res = func(*args)\n",
    "        dec_queue.append(func_res)\n",
    "\n",
    "        if method == \"drop\":\n",
    "            res_for_return = dec_queue[:]\n",
    "            dec_queue.clear()\n",
    "            return res_for_return\n",
    "\n",
    "        return None\n",
    "\n",
    "    return wrapper"
   ]
  },
  {
   "cell_type": "code",
   "execution_count": null,
   "id": "758af0d6",
   "metadata": {},
   "outputs": [],
   "source": [
    "def merge_sort(lst: list[int]) -> list[int]:\n",
    "    \"\"\"Сортировка слиянием.\"\"\"\n",
    "    if len(lst) <= 1:\n",
    "        return lst\n",
    "\n",
    "    mid = len(lst) // 2\n",
    "    left = merge_sort(lst[:mid])\n",
    "    right = merge_sort(lst[mid:])\n",
    "\n",
    "    return merge(left, right)\n",
    "\n",
    "\n",
    "def merge(left: list[int], right: list[int]) -> list[int]:\n",
    "    \"\"\"Слияние двух отсортированных списков.\"\"\"\n",
    "    result = []\n",
    "    ind1 = ind2 = 0\n",
    "\n",
    "    while ind1 < len(left) and ind2 < len(right):\n",
    "        if left[ind1] <= right[ind2]:\n",
    "            result.append(left[ind1])\n",
    "            ind1 += 1\n",
    "        else:\n",
    "            result.append(right[ind2])\n",
    "            ind2 += 1\n",
    "\n",
    "    result.extend(left[ind1:])\n",
    "    result.extend(right[ind2:])\n",
    "\n",
    "    return result"
   ]
  },
  {
   "cell_type": "code",
   "execution_count": null,
   "id": "7f7fbff4",
   "metadata": {},
   "outputs": [],
   "source": [
    "# Однотипность не порок\n",
    "\n",
    "\n",
    "def same_type(\n",
    "    func: Callable[[int | str, int | str], int | str],\n",
    ") -> Callable[[int | str, int | str], int | str | None]:\n",
    "    \"\"\"Декоратор-проверятор.\"\"\"\n",
    "\n",
    "    def wrapper(*args: int | str) -> int | str | None:\n",
    "        \"\"\"Функция декоратора.\"\"\"\n",
    "        if len(set(map(type, args))) != 1:\n",
    "            print(\"Обнаружены различные типы данных\")\n",
    "            return None\n",
    "\n",
    "        return func(*args)\n",
    "\n",
    "    return wrapper"
   ]
  },
  {
   "cell_type": "code",
   "execution_count": null,
   "id": "f5b2a123",
   "metadata": {},
   "outputs": [],
   "source": [
    "# Генератор Фибоначчи\n",
    "\n",
    "\n",
    "def fibonacci(number: int) -> Generator[int, None, None]:\n",
    "    \"\"\"Генератор Фибоначи.\"\"\"\n",
    "    number0, number1 = 0, 1\n",
    "    for _ in range(number):\n",
    "        yield number0\n",
    "        number0, number1 = number1, number1 + number0"
   ]
  },
  {
   "cell_type": "code",
   "execution_count": null,
   "id": "3415f43b",
   "metadata": {},
   "outputs": [],
   "source": [
    "# Циклический генератор\n",
    "\n",
    "\n",
    "def cycle(arr: list[int]) -> Generator[int, None, None]:\n",
    "    \"\"\"Цикличный генератор.\"\"\"\n",
    "    index = 0\n",
    "    while True:\n",
    "        yield arr[index]\n",
    "        index = (index + 1) % len(arr)"
   ]
  },
  {
   "cell_type": "code",
   "execution_count": null,
   "id": "eabaa7df",
   "metadata": {},
   "outputs": [],
   "source": [
    "# Определяем рекурсивный тип для вложенных списков\n",
    "NestedIntList = Union[int, list[\"NestedIntList\"]]\n",
    "\n",
    "\n",
    "def make_linear(lst: list[NestedIntList]) -> list[int]:\n",
    "    \"\"\"Линеаризует список.\"\"\"\n",
    "    res_lst: list[int] = []\n",
    "\n",
    "    for el in lst:\n",
    "        if isinstance(el, list):\n",
    "            res_lst += make_linear(el)\n",
    "        else:\n",
    "            res_lst += [el]  # здесь el гарантированно int\n",
    "\n",
    "    return res_lst"
   ]
  },
  {
   "cell_type": "code",
   "execution_count": null,
   "id": "e6ae16ed",
   "metadata": {},
   "outputs": [],
   "source": []
  }
 ],
 "metadata": {
  "kernelspec": {
   "display_name": "Python 3",
   "language": "python",
   "name": "python3"
  },
  "language_info": {
   "codemirror_mode": {
    "name": "ipython",
    "version": 3
   },
   "file_extension": ".py",
   "mimetype": "text/x-python",
   "name": "python",
   "nbconvert_exporter": "python",
   "pygments_lexer": "ipython3",
   "version": "3.11.3"
  }
 },
 "nbformat": 4,
 "nbformat_minor": 5
}
