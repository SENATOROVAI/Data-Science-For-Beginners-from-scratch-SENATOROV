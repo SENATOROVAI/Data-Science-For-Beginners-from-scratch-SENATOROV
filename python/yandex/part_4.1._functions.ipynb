{
 "cells": [
  {
   "cell_type": "code",
   "execution_count": 1,
   "id": "b18fc2b3",
   "metadata": {},
   "outputs": [
    {
     "data": {
      "text/plain": [
       "'4.1 Functions.'"
      ]
     },
     "execution_count": 1,
     "metadata": {},
     "output_type": "execute_result"
    }
   ],
   "source": [
    "\"\"\"4.1 Functions.\"\"\""
   ]
  },
  {
   "cell_type": "code",
   "execution_count": null,
   "id": "abff9d6c",
   "metadata": {},
   "outputs": [],
   "source": [
    "# Функциональное приветствие\n",
    "\n",
    "\n",
    "def print_hello(name: str) -> None:\n",
    "    \"\"\"Привет пользователю.\"\"\"\n",
    "    print(f\"Hello, {name}!\")"
   ]
  },
  {
   "cell_type": "code",
   "execution_count": null,
   "id": "85cd692c",
   "metadata": {},
   "outputs": [],
   "source": [
    "# Функциональный НОД\n",
    "\n",
    "\n",
    "def gcd(number1: int, number2: int) -> int:\n",
    "    \"\"\"Находит НОД.\"\"\"\n",
    "    while number2 != 0:\n",
    "        number1, number2 = number2, number1 % number2\n",
    "    return abs(number1)"
   ]
  },
  {
   "cell_type": "code",
   "execution_count": null,
   "id": "67ba0e18",
   "metadata": {},
   "outputs": [],
   "source": [
    "# Длина числа\n",
    "\n",
    "\n",
    "def number_length(number1: int) -> int:\n",
    "    \"\"\"Находит длину числа.\"\"\"\n",
    "    return len(str(abs(number1)))"
   ]
  },
  {
   "cell_type": "code",
   "execution_count": null,
   "id": "e0985c1e",
   "metadata": {},
   "outputs": [],
   "source": [
    "# Копейка рубль бережёт\n",
    "\n",
    "\n",
    "def take_small(money: list[float]) -> list[float]:\n",
    "    \"\"\"Фильтрует числа. Оставляет меньше 100.\"\"\"\n",
    "    return [coin for coin in money if coin < 100]"
   ]
  },
  {
   "cell_type": "code",
   "execution_count": null,
   "id": "5d7dfb8d",
   "metadata": {},
   "outputs": [],
   "source": [
    "# Виртуальный кликер\n",
    "count = 0\n",
    "\n",
    "\n",
    "def click() -> None:\n",
    "    \"\"\"Увеличение счетчика на 1.\"\"\"\n",
    "    # pylint: disable=global-statement\n",
    "    global count\n",
    "    count += 1\n",
    "\n",
    "\n",
    "def get_count() -> int:\n",
    "    \"\"\"Возвращает значение счётчика.\"\"\"\n",
    "    return count"
   ]
  },
  {
   "cell_type": "code",
   "execution_count": null,
   "id": "8df72694",
   "metadata": {},
   "outputs": [],
   "source": [
    "# Странная игра\n",
    "count = 0\n",
    "\n",
    "\n",
    "def move(player: str, number: int) -> None:\n",
    "    \"\"\"Обновляет счёт.\"\"\"\n",
    "    # pylint: disable=global-statement\n",
    "    global count\n",
    "    if player == \"Петя\":\n",
    "        count += number\n",
    "    else:\n",
    "        count -= number\n",
    "\n",
    "\n",
    "def game_over() -> str:\n",
    "    \"\"\"Сообщает результат игры.\"\"\"\n",
    "    if count > 0:\n",
    "        return \"Петя\"\n",
    "    if count < 0:\n",
    "        return \"Ваня\"\n",
    "    return \"Ничья\""
   ]
  },
  {
   "cell_type": "code",
   "execution_count": null,
   "id": "55d10264",
   "metadata": {},
   "outputs": [],
   "source": [
    "# Максимальный максимум\n",
    "# pylint: disable=invalid-name\n",
    "# flake8: noqa\n",
    "\n",
    "\n",
    "def max2D(matrix: list[list[int]]) -> int:\n",
    "    \"\"\"Находит максимальное число в матрице.\"\"\"\n",
    "    return max(max(row) for row in matrix)"
   ]
  },
  {
   "cell_type": "code",
   "execution_count": null,
   "id": "ae197c92",
   "metadata": {},
   "outputs": [],
   "source": [
    "# Числовое фрагментирование\n",
    "\n",
    "\n",
    "def fragments(numbers: list[int]) -> list[list[int]]:\n",
    "    \"\"\"Возвращает список с возврастающими последовательностями.\"\"\"\n",
    "    final_lists = []\n",
    "\n",
    "    if len(numbers) == 1:\n",
    "        final_lists.append(numbers)\n",
    "        return final_lists\n",
    "\n",
    "    save_numbers = [numbers[0]]\n",
    "    for index in range(1, len(numbers)):\n",
    "        if numbers[index] > numbers[index - 1]:\n",
    "            save_numbers.append(numbers[index])\n",
    "        else:\n",
    "            final_lists.append(save_numbers)\n",
    "            save_numbers = [numbers[index]]\n",
    "\n",
    "    final_lists.append(save_numbers)\n",
    "    return final_lists"
   ]
  },
  {
   "cell_type": "code",
   "execution_count": null,
   "id": "6d1a0cb2",
   "metadata": {},
   "outputs": [],
   "source": [
    "# Имя of the month\n",
    "\n",
    "\n",
    "def month(number: int, language: str) -> str:\n",
    "    \"\"\"Возвращает название месяца на нужном языке.\"\"\"\n",
    "    months = {\n",
    "        \"en\": [\n",
    "            \"January\",\n",
    "            \"February\",\n",
    "            \"March\",\n",
    "            \"April\",\n",
    "            \"May\",\n",
    "            \"June\",\n",
    "            \"July\",\n",
    "            \"August\",\n",
    "            \"September\",\n",
    "            \"October\",\n",
    "            \"November\",\n",
    "            \"December\",\n",
    "        ],\n",
    "        \"ru\": [\n",
    "            \"Январь\",\n",
    "            \"Февраль\",\n",
    "            \"Март\",\n",
    "            \"Апрель\",\n",
    "            \"Май\",\n",
    "            \"Июнь\",\n",
    "            \"Июль\",\n",
    "            \"Август\",\n",
    "            \"Сентябрь\",\n",
    "            \"Октябрь\",\n",
    "            \"Ноябрь\",\n",
    "            \"Декабрь\",\n",
    "        ],\n",
    "    }\n",
    "\n",
    "    # if 1 <= number <= 12 and language in months:\n",
    "    return months[language][number - 1]"
   ]
  },
  {
   "cell_type": "code",
   "execution_count": null,
   "id": "6dc17c07",
   "metadata": {},
   "outputs": [],
   "source": [
    "# Числовая строка\n",
    "\n",
    "\n",
    "def split_numbers(text: str) -> tuple[int, ...]:\n",
    "    \"\"\"Преобразует строку чисел в кортеж.\"\"\"\n",
    "    return tuple(map(int, text.split()))"
   ]
  },
  {
   "cell_type": "code",
   "execution_count": null,
   "id": "0126e27e",
   "metadata": {},
   "outputs": [],
   "source": [
    "# Поиск гор\n",
    "\n",
    "\n",
    "def find_mountains(heights: list[int]) -> tuple[int, ...]:\n",
    "    \"\"\"Находит позиции чисел больше соседних.\"\"\"\n",
    "    find_position = []\n",
    "    for index in range(1, len(heights) - 1):\n",
    "        if heights[index - 1] < heights[index] > heights[index + 1]:\n",
    "            find_position.append(index + 1)\n",
    "\n",
    "    return tuple(find_position)"
   ]
  },
  {
   "cell_type": "code",
   "execution_count": null,
   "id": "1f23103d",
   "metadata": {},
   "outputs": [],
   "source": [
    "# Поиск гор 2\n",
    "\n",
    "\n",
    "def find_mountainss(data: list[list[int]]) -> tuple[tuple[int, ...], ...]:\n",
    "    \"\"\"Находит позиции чисел больше соседних.\"\"\"\n",
    "    find_position = []\n",
    "    for row in range(1, len(data) - 1):\n",
    "        for col in range(1, len(data[row]) - 1):\n",
    "            cond1 = data[row][col] > data[row - 1][col - 1]\n",
    "            cond2 = data[row][col] > data[row - 1][col]\n",
    "            cond3 = data[row][col] > data[row - 1][col + 1]\n",
    "            cond4 = data[row][col] > data[row][col - 1]\n",
    "            cond5 = data[row][col] > data[row][col + 1]\n",
    "            cond6 = data[row][col] > data[row + 1][col - 1]\n",
    "            cond7 = data[row][col] > data[row + 1][col]\n",
    "            cond8 = data[row][col] > data[row + 1][col + 1]\n",
    "\n",
    "            if all([cond1, cond2, cond3, cond4, cond5, cond6, cond7, cond8]):\n",
    "                find_position.append((row + 1, col + 1))\n",
    "    return tuple(find_position)"
   ]
  },
  {
   "cell_type": "code",
   "execution_count": null,
   "id": "ffd43da8",
   "metadata": {},
   "outputs": [],
   "source": [
    "# Модернизация системы вывода\n",
    "texts: list[str] = []\n",
    "\n",
    "\n",
    "def modern_print(text: str) -> None:\n",
    "    \"\"\"Выводит уникальные строки.\"\"\"\n",
    "    if text not in texts:\n",
    "        print(text)\n",
    "        texts.append(text)"
   ]
  },
  {
   "cell_type": "code",
   "execution_count": null,
   "id": "48f33803",
   "metadata": {},
   "outputs": [],
   "source": [
    "# Шахматный «обед»\n",
    "\n",
    "\n",
    "def can_eat(horse: tuple[int, int], other: tuple[int, int]) -> bool:\n",
    "    \"\"\"Проверка на валидность коня отведать.\"\"\"\n",
    "    cond1 = abs(horse[0] - other[0]) == 2 and abs(horse[1] - other[1]) == 1\n",
    "    cond2 = abs(horse[0] - other[0]) == 1 and abs(horse[1] - other[1]) == 2\n",
    "\n",
    "    return cond1 or cond2"
   ]
  },
  {
   "cell_type": "code",
   "execution_count": null,
   "id": "7678a5c3",
   "metadata": {},
   "outputs": [],
   "source": [
    "# Словарная строка\n",
    "\n",
    "\n",
    "def get_dict(text: str) -> dict[str, str]:\n",
    "    \"\"\"Парсинг строки в словарь.\"\"\"\n",
    "    res_dict = {}\n",
    "    for pair in text.split(\";\"):\n",
    "        key, value = pair.split(\"=\")\n",
    "        res_dict[key] = value\n",
    "\n",
    "    return res_dict"
   ]
  },
  {
   "cell_type": "code",
   "execution_count": null,
   "id": "f986f467",
   "metadata": {},
   "outputs": [],
   "source": [
    "# А роза упала на лапу Азора 7.0\n",
    "\n",
    "\n",
    "def is_palindrome(xx: int | str | list[int] | tuple[int, ...] | float) -> bool:\n",
    "    \"\"\"Определение палиндрома.\"\"\"\n",
    "    if isinstance(xx, (int, str, list, tuple)):\n",
    "        value_str = str(xx) if isinstance(xx, int) else xx\n",
    "        return value_str == value_str[::-1]\n",
    "    return False"
   ]
  },
  {
   "cell_type": "code",
   "execution_count": null,
   "id": "c1748cc6",
   "metadata": {},
   "outputs": [],
   "source": [
    "# Простая задача 5.0\n",
    "\n",
    "\n",
    "def is_prime(number: int) -> bool:\n",
    "    \"\"\"Определяет простое ли число.\"\"\"\n",
    "    for i in range(2, int(number**0.5) + 1):\n",
    "        if number % i == 0:\n",
    "            return False\n",
    "\n",
    "    if number < 2:\n",
    "        return False\n",
    "\n",
    "    return True"
   ]
  },
  {
   "cell_type": "code",
   "execution_count": null,
   "id": "d4ae7e4e",
   "metadata": {},
   "outputs": [],
   "source": [
    "# Слияние\n",
    "\n",
    "\n",
    "def merge(nums1: tuple[int, ...], nums2: tuple[int, ...]) -> tuple[int, ...]:\n",
    "    \"\"\"Объединяет два отсортированных кортежа.\"\"\"\n",
    "    res_list = []\n",
    "\n",
    "    index1 = 0\n",
    "    index2 = 0\n",
    "\n",
    "    while index1 < len(nums1) and index2 < len(nums2):\n",
    "        if nums1[index1] <= nums2[index2]:\n",
    "            res_list.append(nums1[index1])\n",
    "            index1 += 1\n",
    "\n",
    "        else:\n",
    "            res_list.append(nums2[index2])\n",
    "            index2 += 1\n",
    "\n",
    "    if index1 < len(nums1):\n",
    "        res_list.extend(nums1[index1:])\n",
    "\n",
    "    if index2 < len(nums2):\n",
    "        res_list.extend(nums2[index2:])\n",
    "\n",
    "    return tuple(res_list)"
   ]
  },
  {
   "cell_type": "code",
   "execution_count": null,
   "id": "2f12567e",
   "metadata": {},
   "outputs": [],
   "source": [
    "# Обмен содержимым\n",
    "\n",
    "\n",
    "def swap(lst1: list[int], lst2: list[int]) -> None:\n",
    "    \"\"\"Свапает списки.\"\"\"\n",
    "    lst1[:], lst2[:] = lst2[:], lst1[:]"
   ]
  },
  {
   "cell_type": "code",
   "execution_count": null,
   "id": "73b3a432",
   "metadata": {},
   "outputs": [],
   "source": [
    "def int_to_roman(num: int) -> str:\n",
    "    \"\"\"Переводит число в римский вид.\"\"\"\n",
    "    val = [1000, 900, 500, 400, 100, 90, 50, 40, 10, 9, 5, 4, 1]\n",
    "    syb = [\"M\", \"CM\", \"D\", \"CD\", \"C\", \"XC\", \"L\", \"XL\", \"X\", \"IX\", \"V\", \"IV\", \"I\"]\n",
    "    roman_num = \"\"\n",
    "    i = 0\n",
    "    while num > 0:\n",
    "        for _ in range(num // val[i]):\n",
    "            roman_num += syb[i]\n",
    "            num -= val[i]\n",
    "        i += 1\n",
    "    return roman_num\n",
    "\n",
    "\n",
    "def roman(num1: int, num2: int) -> str:\n",
    "    \"\"\"Складывает 2 числа в римском виде.\"\"\"\n",
    "    sum_ab = num1 + num2\n",
    "    roman_num1 = int_to_roman(num1)\n",
    "    roman_num2 = int_to_roman(num2)\n",
    "    roman_sum = int_to_roman(sum_ab)\n",
    "    return f\"{roman_num1} + {roman_num2} = {roman_sum}\""
   ]
  },
  {
   "cell_type": "code",
   "execution_count": null,
   "id": "207c6df0",
   "metadata": {},
   "outputs": [],
   "source": []
  }
 ],
 "metadata": {
  "kernelspec": {
   "display_name": "Python 3",
   "language": "python",
   "name": "python3"
  },
  "language_info": {
   "codemirror_mode": {
    "name": "ipython",
    "version": 3
   },
   "file_extension": ".py",
   "mimetype": "text/x-python",
   "name": "python",
   "nbconvert_exporter": "python",
   "pygments_lexer": "ipython3",
   "version": "3.11.3"
  }
 },
 "nbformat": 4,
 "nbformat_minor": 5
}
