{
 "cells": [
  {
   "cell_type": "code",
   "execution_count": null,
   "metadata": {},
   "outputs": [],
   "source": [
    "\"\"\"Strings, tuples, lists.\"\"\""
   ]
  },
  {
   "cell_type": "markdown",
   "metadata": {},
   "source": [
    "#### str.islower()\n",
    "\n",
    "The islower() method in strings checks whether there are no uppercase letters in the string. \n",
    "\n",
    "\n",
    "#### str.capitalize()\n",
    "\n",
    "The capitalize() method returns a copy of the string with the first letter capitalized and the rest converted to lowercase.\n",
    "\n",
    "\n",
    "#### str.count(sub)\n",
    "\n",
    "The count(sub) method in strings returns the number of non-overlapping occurrences of the substring sub in the given string.\n",
    "\n",
    "#### str.endswith(suffix)\n",
    "\n",
    "Returns True if the string ends with the substring suffix, otherwise returns False. The suffix can also be a tuple of multiple suffixes.\n",
    "\n",
    "#### str.find(sub)\n",
    "\n",
    "Returns the index of the first occurrence of the substring sub. If not found, returns -1.\n",
    "\n",
    "#### str.index(sub)\n",
    "\n",
    "Returns the index of the first occurrence of the substring sub. Raises a ValueError if the substring is not found.\n",
    "\n",
    "#### str.isalnum()\n",
    "\n",
    "Returns True if all characters in the string are letters or digits and the string is not empty, otherwise returns False.\n",
    "\n",
    "#### str.isalpha()\n",
    "\n",
    "Returns True if all characters in the string are letters and the string is not empty, otherwise returns False.\n",
    "\n",
    "#### str.isdigit()\n",
    "\n",
    "Returns True if all characters in the string are digits and the string is not empty, otherwise returns False.\n",
    "\n",
    "#### str.islower()\n",
    "\n",
    "Returns True if all letters in the string are lowercase and there is at least one letter, otherwise returns False.\n",
    "\n",
    "#### str.isupper()\n",
    "\n",
    "Returns True if all letters in the string are uppercase and there is at least one letter, otherwise returns False.\n",
    "\n",
    "#### str.join(str_col)\n",
    "\n",
    "Returns a string created by concatenating the elements of the collection str_col with the calling string as a separator.\n",
    "\n",
    "#### str.ljust(width, fillchar)\n",
    "\n",
    "Returns a string of length width, left-aligned, and filled with fillchar on the right. The default fillchar is a space.\n",
    "\n",
    "#### str.lower()\n",
    "\n",
    "Returns a copy of the string with all letters converted to lowercase.\n",
    "\n",
    "#### str.lstrip(chars)\n",
    "\n",
    "Returns a string with the characters in chars removed from the beginning. If chars is not specified, whitespace is removed.\n",
    "\n",
    "#### str.rstrip(chars)\n",
    "\n",
    "Returns a string with the characters in chars removed from the end. If chars is not specified, whitespace is removed.\n",
    "\n",
    "#### str.split(sep)\n",
    "\n",
    "Returns a list of substrings split by the delimiter sep. If sep is not specified, splits by any whitespace.\n",
    "\n",
    "#### str.startswith(prefix)\n",
    "\n",
    "Returns True if the string starts with the substring prefix, otherwise returns False. The prefix can also be a tuple of multiple prefixes.\n",
    "\n",
    "#### str.strip(chars)\n",
    "\n",
    "Returns a string with the characters in chars removed from both the beginning and the end. If chars is not specified, whitespace is removed.\n",
    "\n",
    "#### str.title()\n",
    "\n",
    "Returns a string where the first letter of each word is uppercase, and all other letters are lowercase.\n",
    "\n",
    "#### str.upper()\n",
    "\n",
    "Returns a copy of the string with all letters converted to uppercase.\n",
    "\n",
    "#### str.zfill(width)\n",
    "\n",
    "Returns a string padded with zeros (0) on the left until it reaches the specified width.\n",
    "\n",
    "\n",
    "- x in s – Returns True if x is in list s, otherwise False.\n",
    "- x not in s – Returns False if x is in list s, otherwise True.\n",
    "- s + t – Returns a new list by concatenating lists s and t.\n",
    "- s * n – Returns a new list with s repeated n times.\n",
    "- len(s) – Returns the number of elements in list s.\n",
    "- min(s) – Returns the smallest element in list s.\n",
    "- max(s) – Returns the largest element in list s.\n",
    "- s.index(x) – Returns the index of the first occurrence of x, raises ValueError if x is not found.\n",
    "- s.count(x) – Returns the number of occurrences of x in list s.\n",
    "- s.append(x) – Adds x to the end of list s.\n",
    "- s.clear() – Removes all elements from list s.\n",
    "- s.copy() – Returns a shallow copy of list s.\n",
    "- s.extend(t) or s += t – Extends list s by appending elements from list t.\n",
    "- s.insert(i, x) – Inserts x at index i in list s.\n",
    "- s.pop(i) – Removes and returns the element at index i, or the last element if i is not specified.\n",
    "- s.remove(x) – Removes the first occurrence of x in list s.\n",
    "- s.reverse() – Reverses the order of elements in list s.\n",
    "- s.sort() – Sorts list s in ascending order (modifies the list). Use reverse=True for descending order.\n",
    "- sorted(s) – Returns a new sorted list without modifying s. Use reverse=True for descending order."
   ]
  },
  {
   "cell_type": "code",
   "execution_count": null,
   "metadata": {},
   "outputs": [
    {
     "name": "stdout",
     "output_type": "stream",
     "text": [
      "False\n"
     ]
    }
   ],
   "source": [
    "# 1\n",
    "from typing import Dict, List\n",
    "\n",
    "count: int = int(input())\n",
    "is_all_correct: bool = True\n",
    "allowed_letters = (\"а\", \"б\", \"в\")\n",
    "\n",
    "for _ in range(count):\n",
    "    word = input()\n",
    "    if not word.startswith(allowed_letters):\n",
    "        is_all_correct = False\n",
    "\n",
    "print(\"YES\" if is_all_correct else \"NO\")"
   ]
  },
  {
   "cell_type": "code",
   "execution_count": null,
   "metadata": {},
   "outputs": [
    {
     "name": "stdout",
     "output_type": "stream",
     "text": [
      "a\n",
      "s\n",
      "e\n",
      "f\n",
      "s\n",
      "f\n",
      "d\n"
     ]
    }
   ],
   "source": [
    "# 2\n",
    "\n",
    "value: str = input()\n",
    "for i, char in enumerate(value):\n",
    "    print(char)"
   ]
  },
  {
   "cell_type": "code",
   "execution_count": 22,
   "metadata": {},
   "outputs": [
    {
     "name": "stdout",
     "output_type": "stream",
     "text": [
      "34\n",
      "...\n",
      "...\n",
      "...\n",
      "...\n"
     ]
    }
   ],
   "source": [
    "# 3\n",
    "\n",
    "expected_title_length: int = int(input())\n",
    "title_count: int = int(input())\n",
    "\n",
    "for i in range(title_count):\n",
    "    title: str = input()\n",
    "    if len(title) > expected_title_length:\n",
    "        result_title = title[: expected_title_length - 3] + \"...\"\n",
    "    else:\n",
    "        result_title = title\n",
    "    print(result_title)"
   ]
  },
  {
   "cell_type": "code",
   "execution_count": null,
   "metadata": {},
   "outputs": [
    {
     "name": "stdout",
     "output_type": "stream",
     "text": [
      "measded\n",
      "awdwddw\n",
      "adwda\n"
     ]
    }
   ],
   "source": [
    "# 4\n",
    "\n",
    "while input_value := input():\n",
    "    if not input_value:\n",
    "        break\n",
    "    result: str = input_value\n",
    "    if input_value.endswith(\"@@@\"):\n",
    "        continue\n",
    "    if input_value.startswith(\"##\"):\n",
    "        result = input_value[2:]\n",
    "    print(result)"
   ]
  },
  {
   "cell_type": "code",
   "execution_count": null,
   "metadata": {},
   "outputs": [
    {
     "name": "stdout",
     "output_type": "stream",
     "text": [
      "YES\n"
     ]
    }
   ],
   "source": [
    "# 5\n",
    "\n",
    "input_string: str = input()\n",
    "\n",
    "characters = list(input_string)\n",
    "characters.reverse()\n",
    "new_value = \"\".join(characters)\n",
    "\n",
    "if input_string == new_value:\n",
    "    print(\"YES\")\n",
    "else:\n",
    "    print(\"NO\")"
   ]
  },
  {
   "cell_type": "code",
   "execution_count": 42,
   "metadata": {},
   "outputs": [
    {
     "name": "stdout",
     "output_type": "stream",
     "text": [
      "0\n"
     ]
    }
   ],
   "source": [
    "# 6\n",
    "\n",
    "input_string_count = int(input())\n",
    "\n",
    "count = 0\n",
    "\n",
    "for _ in range(input_string_count):\n",
    "    count += input().split().count(\"зайка\")\n",
    "\n",
    "print(count)"
   ]
  },
  {
   "cell_type": "code",
   "execution_count": null,
   "metadata": {},
   "outputs": [
    {
     "name": "stdout",
     "output_type": "stream",
     "text": [
      "2\n"
     ]
    }
   ],
   "source": [
    "# 7\n",
    "\n",
    "input_sum_string: str = input()\n",
    "values = input_sum_string.split(\" \")\n",
    "total_sum: int = 0\n",
    "\n",
    "for value in values:\n",
    "    total_sum += int(value)\n",
    "\n",
    "print(total_sum)"
   ]
  },
  {
   "cell_type": "code",
   "execution_count": null,
   "metadata": {},
   "outputs": [
    {
     "name": "stdout",
     "output_type": "stream",
     "text": [
      "0\n",
      "7\n",
      "Заек нет =(\n"
     ]
    }
   ],
   "source": [
    "# 8\n",
    "\n",
    "neighborhood_count: int = int(input())\n",
    "\n",
    "for _ in range(neighborhood_count):\n",
    "    neighborhood_desc: str = input()\n",
    "    index = neighborhood_desc.find(\"зайка\")\n",
    "    if index < 0:\n",
    "        print(\"Заек нет =(\")\n",
    "    else:\n",
    "        print(index + 1)"
   ]
  },
  {
   "cell_type": "code",
   "execution_count": null,
   "metadata": {},
   "outputs": [],
   "source": [
    "# 9\n",
    "\n",
    "while True:\n",
    "    line = input()\n",
    "    if not line:\n",
    "        break\n",
    "    comment_index = line.find(\"#\")\n",
    "    if comment_index > -1:\n",
    "        line = line[:comment_index]\n",
    "    if line:\n",
    "        print(line)"
   ]
  },
  {
   "cell_type": "code",
   "execution_count": 47,
   "metadata": {},
   "outputs": [
    {
     "name": "stdout",
     "output_type": "stream",
     "text": [
      "s\n"
     ]
    }
   ],
   "source": [
    "# 10\n",
    "\n",
    "\n",
    "frequencies: Dict[str, int] = {}\n",
    "\n",
    "while True:\n",
    "    line = input().strip()\n",
    "    if line == \"ФИНИШ\":\n",
    "        break\n",
    "    for char in line.lower():\n",
    "        if char != \" \":\n",
    "            if char in frequencies:\n",
    "                frequencies[char] += 1\n",
    "            else:\n",
    "                frequencies[char] = 1\n",
    "\n",
    "most_common_char = \"\"\n",
    "max_freq = -1\n",
    "\n",
    "for char, freq in frequencies.items():\n",
    "    if freq > max_freq or (freq == max_freq and char < most_common_char):\n",
    "        max_freq = freq\n",
    "        most_common_char = char\n",
    "\n",
    "print(most_common_char)"
   ]
  },
  {
   "cell_type": "code",
   "execution_count": null,
   "metadata": {},
   "outputs": [],
   "source": [
    "# 11\n",
    "\n",
    "title_count = int(input())\n",
    "\n",
    "titles = [input().strip() for _ in range(title_count)]\n",
    "\n",
    "query = input().strip().lower()\n",
    "\n",
    "for title in titles:\n",
    "    if query in title.lower():\n",
    "        print(title)"
   ]
  },
  {
   "cell_type": "code",
   "execution_count": null,
   "metadata": {},
   "outputs": [],
   "source": [
    "# 12\n",
    "\n",
    "porridges = [\"Манная\", \"Гречневая\", \"Пшённая\", \"Овсяная\", \"Рисовая\"]\n",
    "\n",
    "days = int(input())\n",
    "\n",
    "for day in range(days):\n",
    "    print(porridges[day % 5])"
   ]
  },
  {
   "cell_type": "code",
   "execution_count": null,
   "metadata": {},
   "outputs": [],
   "source": [
    "# 13\n",
    "\n",
    "number_count = int(input())\n",
    "\n",
    "numbers_list = [int(input()) for _ in range(number_count)]\n",
    "\n",
    "exponent = int(input())\n",
    "\n",
    "for number in numbers_list:\n",
    "    print(number**exponent)"
   ]
  },
  {
   "cell_type": "code",
   "execution_count": null,
   "metadata": {},
   "outputs": [],
   "source": [
    "# 14\n",
    "\n",
    "numbers = input().split()\n",
    "exponent = int(input())\n",
    "\n",
    "print(\" \".join(str(int(number) ** exponent) for number in numbers))"
   ]
  },
  {
   "cell_type": "code",
   "execution_count": null,
   "metadata": {},
   "outputs": [
    {
     "name": "stdout",
     "output_type": "stream",
     "text": [
      "4\n"
     ]
    }
   ],
   "source": [
    "# 15\n",
    "\n",
    "\n",
    "def gcd(first_nmb: int, second_nmb: int) -> int:\n",
    "    \"\"\"Return greatest common divisor.\"\"\"\n",
    "    while second_nmb != 0:\n",
    "        first_nmb, second_nmb = second_nmb, first_nmb % second_nmb\n",
    "    return first_nmb\n",
    "\n",
    "\n",
    "input_numbers: List[int] = list(map(int, input().split()))\n",
    "\n",
    "output_result: int = input_numbers[0]\n",
    "for num in input_numbers[1:]:\n",
    "    output_result = gcd(output_result, num)\n",
    "\n",
    "print(output_result)"
   ]
  },
  {
   "cell_type": "code",
   "execution_count": null,
   "metadata": {},
   "outputs": [
    {
     "name": "stdout",
     "output_type": "stream",
     "text": [
      "dfvbdfbved\n",
      "eefvweeeeeeeeeeeeeeeeeeeee\n",
      "eeeeeeee\n"
     ]
    }
   ],
   "source": [
    "# 16\n",
    "\n",
    "max_length = int(input())\n",
    "lines = []\n",
    "\n",
    "for _ in range(int(input())):\n",
    "    lines.append(input())\n",
    "\n",
    "for line in lines:\n",
    "    if max_length > 3:\n",
    "        if len(line) >= max_length - 3:\n",
    "            line = line[: max_length - 3] + \"...\"\n",
    "        else:\n",
    "            if max_length == 4:\n",
    "                line = line + \"...\"\n",
    "\n",
    "        print(line)\n",
    "        max_length -= len(line)"
   ]
  },
  {
   "cell_type": "code",
   "execution_count": null,
   "metadata": {},
   "outputs": [
    {
     "name": "stdout",
     "output_type": "stream",
     "text": [
      "987654321\n",
      "NO\n"
     ]
    }
   ],
   "source": [
    "# 17\n",
    "\n",
    "input_string = input()\n",
    "\n",
    "cleaned_string = input_string.replace(\" \", \"\").lower()\n",
    "\n",
    "if cleaned_string == cleaned_string[::-1]:\n",
    "    print(\"YES\")\n",
    "else:\n",
    "    print(\"NO\")"
   ]
  },
  {
   "cell_type": "code",
   "execution_count": null,
   "metadata": {},
   "outputs": [],
   "source": [
    "# 18\n",
    "\n",
    "input_string = input()\n",
    "\n",
    "current_char = input_string[0]\n",
    "count = 1\n",
    "\n",
    "for char in input_string[1:]:\n",
    "    if char == current_char:\n",
    "        count += 1\n",
    "    else:\n",
    "        print(current_char, count)\n",
    "        current_char = char\n",
    "        count = 1\n",
    "\n",
    "print(current_char, count)"
   ]
  },
  {
   "cell_type": "code",
   "execution_count": null,
   "metadata": {},
   "outputs": [],
   "source": [
    "# 19\n",
    "\n",
    "\n",
    "expression = input().split()\n",
    "\n",
    "operand_stack: List[int] = []\n",
    "\n",
    "for token in expression:\n",
    "    if token in \"+-*/\":\n",
    "        operand2 = operand_stack.pop()\n",
    "        operand1 = operand_stack.pop()\n",
    "\n",
    "        operation_result: int = 0\n",
    "        if token == \"+\":\n",
    "            operation_result = operand1 + operand2\n",
    "        elif token == \"-\":\n",
    "            operation_result = operand1 - operand2\n",
    "        elif token == \"*\":\n",
    "            operation_result = operand1 * operand2\n",
    "        elif token == \"/\":\n",
    "            operation_result = operand1 // operand2\n",
    "\n",
    "        operand_stack.append(operation_result)\n",
    "    else:\n",
    "        operand_stack.append(int(token))\n",
    "\n",
    "print(operand_stack[0])"
   ]
  },
  {
   "cell_type": "code",
   "execution_count": null,
   "metadata": {},
   "outputs": [
    {
     "ename": "IndexError",
     "evalue": "pop from empty list",
     "output_type": "error",
     "traceback": [
      "\u001b[1;31m---------------------------------------------------------------------------\u001b[0m",
      "\u001b[1;31mIndexError\u001b[0m                                Traceback (most recent call last)",
      "Cell \u001b[1;32mIn[48], line 45\u001b[0m\n\u001b[0;32m     42\u001b[0m         third: \u001b[38;5;28mint\u001b[39m \u001b[38;5;241m=\u001b[39m stack\u001b[38;5;241m.\u001b[39mpop()\n\u001b[0;32m     43\u001b[0m         stack\u001b[38;5;241m.\u001b[39mextend([second, first, third])\n\u001b[1;32m---> 45\u001b[0m \u001b[38;5;28mprint\u001b[39m(\u001b[43mstack\u001b[49m\u001b[38;5;241;43m.\u001b[39;49m\u001b[43mpop\u001b[49m\u001b[43m(\u001b[49m\u001b[43m)\u001b[49m)\n",
      "\u001b[1;31mIndexError\u001b[0m: pop from empty list"
     ]
    }
   ],
   "source": [
    "# 20\n",
    "\n",
    "\n",
    "def factorial(nmb: int) -> int:\n",
    "    \"\"\"Return the factorial of a number.\"\"\"\n",
    "    rsl: int = 1\n",
    "    for multiplier_val in range(2, nmb + 1):\n",
    "        rsl *= multiplier_val\n",
    "    return rsl\n",
    "\n",
    "\n",
    "expression_value: str = input().strip()\n",
    "tokens: List[str] = expression_value.split()\n",
    "\n",
    "stack: List[int] = []\n",
    "\n",
    "for token in tokens:\n",
    "    if token.isdigit() or (token[0] == \"-\" and token[1:].isdigit()):\n",
    "        stack.append(int(token))\n",
    "    elif token in {\"+\", \"-\", \"*\", \"/\"}:\n",
    "        b_val: int = stack.pop()\n",
    "        a_val: int = stack.pop()\n",
    "        if token == \"+\":\n",
    "            stack.append(a_val + b_val)\n",
    "        elif token == \"-\":\n",
    "            stack.append(a_val - b_val)\n",
    "        elif token == \"*\":\n",
    "            stack.append(a_val * b_val)\n",
    "        elif token == \"/\":\n",
    "            stack.append(a_val // b_val)\n",
    "    elif token == \"~\":\n",
    "        stack.append(-stack.pop())\n",
    "    elif token == \"!\":\n",
    "        stack.append(factorial(stack.pop()))\n",
    "    elif token == \"#\":\n",
    "        stack_value: int = stack[-1]\n",
    "        stack.append(stack_value)\n",
    "    elif token == \"@\":\n",
    "        first: int = stack.pop()\n",
    "        second: int = stack.pop()\n",
    "        third: int = stack.pop()\n",
    "        stack.extend([second, first, third])\n",
    "\n",
    "print(stack.pop())"
   ]
  }
 ],
 "metadata": {
  "kernelspec": {
   "display_name": "SENATOROV",
   "language": "python",
   "name": "python3"
  },
  "language_info": {
   "codemirror_mode": {
    "name": "ipython",
    "version": 3
   },
   "file_extension": ".py",
   "mimetype": "text/x-python",
   "name": "python",
   "nbconvert_exporter": "python",
   "pygments_lexer": "ipython3",
   "version": "3.11.0"
  }
 },
 "nbformat": 4,
 "nbformat_minor": 2
}
