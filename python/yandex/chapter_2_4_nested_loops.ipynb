{
 "cells": [
  {
   "cell_type": "code",
   "execution_count": null,
   "metadata": {},
   "outputs": [],
   "source": [
    "\"\"\"Nested loops.\"\"\""
   ]
  },
  {
   "cell_type": "code",
   "execution_count": null,
   "metadata": {},
   "outputs": [
    {
     "name": "stdout",
     "output_type": "stream",
     "text": [
      "1 2 3 4 \n",
      "2 4 6 8 \n",
      "3 6 9 12 \n",
      "4 8 12 16 \n"
     ]
    }
   ],
   "source": [
    "# 1\n",
    "\n",
    "size = int(input())\n",
    "\n",
    "for i in range(1, size + 1):\n",
    "    for j in range(1, size + 1):\n",
    "        print(i * j, end=\" \")\n",
    "    print()"
   ]
  },
  {
   "cell_type": "code",
   "execution_count": null,
   "metadata": {},
   "outputs": [
    {
     "name": "stdout",
     "output_type": "stream",
     "text": [
      "1 * 1 = 1\n",
      "2 * 1 = 2\n",
      "1 * 2 = 2\n",
      "2 * 2 = 4\n"
     ]
    }
   ],
   "source": [
    "# 2\n",
    "\n",
    "size = int(input())\n",
    "\n",
    "for j in range(1, size + 1):\n",
    "    for i in range(1, size + 1):\n",
    "        print(f\"{i} * {j} = {i * j}\")"
   ]
  },
  {
   "cell_type": "code",
   "execution_count": null,
   "metadata": {},
   "outputs": [
    {
     "name": "stdout",
     "output_type": "stream",
     "text": [
      "1 \n",
      "2 3 \n",
      "4 5 6 \n",
      "7 8 9 10 \n",
      "11 12 13 14 15 \n"
     ]
    }
   ],
   "source": [
    "# 3\n",
    "\n",
    "size: int = int(input())\n",
    "\n",
    "num: int = 1\n",
    "row: int = 1\n",
    "while num <= size:\n",
    "    for _ in range(row):\n",
    "        if num > size:\n",
    "            break\n",
    "        print(num, end=\" \")\n",
    "        num += 1\n",
    "    print()\n",
    "    row += 1"
   ]
  },
  {
   "cell_type": "code",
   "execution_count": null,
   "metadata": {},
   "outputs": [
    {
     "name": "stdout",
     "output_type": "stream",
     "text": [
      "5\n"
     ]
    },
    {
     "ename": "",
     "evalue": "",
     "output_type": "error",
     "traceback": [
      "\u001b[1;31mThe Kernel crashed while executing code in the current cell or a previous cell. \n",
      "\u001b[1;31mPlease review the code in the cell(s) to identify a possible cause of the failure. \n",
      "\u001b[1;31mClick <a href='https://aka.ms/vscodeJupyterKernelCrash'>here</a> for more info. \n",
      "\u001b[1;31mView Jupyter <a href='command:jupyter.viewOutput'>log</a> for further details."
     ]
    }
   ],
   "source": [
    "# 4\n",
    "\n",
    "N: int = int(input())\n",
    "total_sum: int = 0\n",
    "\n",
    "for _ in range(N):\n",
    "    num: str = input()\n",
    "    for digit in num:\n",
    "        total_sum += int(digit)\n",
    "\n",
    "print(total_sum)"
   ]
  },
  {
   "cell_type": "code",
   "execution_count": null,
   "metadata": {},
   "outputs": [],
   "source": [
    "# 5\n",
    "\n",
    "n = int(input().strip())\n",
    "count = 0\n",
    "\n",
    "for _ in range(n):\n",
    "    found = False\n",
    "    while True:\n",
    "        word = input().strip()\n",
    "        if word == \"ВСЁ\":\n",
    "            break\n",
    "        if word == \"зайка\":\n",
    "            found = True\n",
    "    if found:\n",
    "        count += 1\n",
    "\n",
    "print(count)"
   ]
  },
  {
   "cell_type": "code",
   "execution_count": null,
   "metadata": {},
   "outputs": [],
   "source": [
    "# 6\n",
    "\n",
    "N = int(input())\n",
    "\n",
    "result = int(input())\n",
    "\n",
    "for _ in range(N - 1):\n",
    "    num = int(input())\n",
    "    while num != 0:\n",
    "        result, num = num, result % num\n",
    "\n",
    "print(result)"
   ]
  },
  {
   "cell_type": "code",
   "execution_count": null,
   "metadata": {},
   "outputs": [],
   "source": [
    "# 7\n",
    "\n",
    "participants = int(input())\n",
    "\n",
    "count = 3\n",
    "\n",
    "for i in range(participants):\n",
    "    for j in range(count, 0, -1):\n",
    "        print(f'До старта {j} секунд(ы)')\n",
    "    print(f'Старт {i + 1}!!!')\n",
    "    count += 1\n"
   ]
  },
  {
   "cell_type": "code",
   "execution_count": null,
   "metadata": {},
   "outputs": [],
   "source": [
    "# 8\n",
    "\n",
    "N = int(input())\n",
    "\n",
    "max_sum = -1\n",
    "winner = ''\n",
    "\n",
    "for _ in range(N):\n",
    "    name = input()\n",
    "    number = input()\n",
    "    digit_sum = sum(int(digit) for digit in number)\n",
    "    if digit_sum >= max_sum:\n",
    "        max_sum = digit_sum\n",
    "        winner = name\n",
    "\n",
    "print(winner)\n"
   ]
  },
  {
   "cell_type": "code",
   "execution_count": null,
   "metadata": {},
   "outputs": [],
   "source": [
    "# 9\n",
    "\n",
    "N = int(input())\n",
    "\n",
    "result = ''\n",
    "for _ in range(N):\n",
    "    number = input()\n",
    "    result += max(number)\n",
    "\n",
    "print(result)"
   ]
  },
  {
   "cell_type": "code",
   "execution_count": null,
   "metadata": {},
   "outputs": [],
   "source": [
    "# 10\n",
    "\n",
    "slices = int(input())\n",
    "\n",
    "print('А Б В')\n",
    "\n",
    "for a in range(1, slices - 1):\n",
    "    for b in range(1, slices - a):\n",
    "        v = slices - a - b\n",
    "        if v >= 1:\n",
    "            print(a, b, v)"
   ]
  },
  {
   "cell_type": "code",
   "execution_count": null,
   "metadata": {},
   "outputs": [],
   "source": [
    "# 11\n",
    "\n",
    "def is_prime(n):\n",
    "    if n < 2:\n",
    "        return False\n",
    "    for i in range(2, int(n ** 0.5) + 1):\n",
    "        if n % i == 0:\n",
    "            return False\n",
    "    return True\n",
    "\n",
    "\n",
    "N = int(input())\n",
    "\n",
    "prime_count = 0\n",
    "for _ in range(N):\n",
    "    num = int(input())\n",
    "    if is_prime(num):\n",
    "        prime_count += 1\n",
    "\n",
    "print(prime_count)\n"
   ]
  },
  {
   "cell_type": "code",
   "execution_count": null,
   "metadata": {},
   "outputs": [],
   "source": [
    "# 12\n",
    "\n",
    "N = int(input())\n",
    "M = int(input())\n",
    "\n",
    "max_num = N * M\n",
    "width = len(str(max_num))\n",
    "\n",
    "current_num = 1\n",
    "for i in range(N):\n",
    "    row = []\n",
    "    for j in range(M):\n",
    "        row.append(f'{current_num:>{width}}')\n",
    "        current_num += 1\n",
    "    print(' '.join(row))\n"
   ]
  },
  {
   "cell_type": "code",
   "execution_count": null,
   "metadata": {},
   "outputs": [],
   "source": [
    "# 13\n",
    "\n",
    "N = int(input())\n",
    "M = int(input())\n",
    "\n",
    "max_num = N * M\n",
    "width = len(str(max_num))\n",
    "\n",
    "for i in range(1, N + 1):\n",
    "    row = []\n",
    "    num = i\n",
    "    for j in range(M):\n",
    "        row.append(f'{num:>{width}}')\n",
    "        num += N\n",
    "    print(' '.join(row))"
   ]
  },
  {
   "cell_type": "code",
   "execution_count": null,
   "metadata": {},
   "outputs": [],
   "source": [
    "# 14\n",
    "\n",
    "N = int(input())\n",
    "M = int(input())\n",
    "\n",
    "max_num = N * M\n",
    "width = len(str(max_num))\n",
    "\n",
    "num = 1\n",
    "for i in range(N):\n",
    "    row = []\n",
    "    for j in range(M):\n",
    "        row.append(f'{num:>{width}}')\n",
    "        num += 1\n",
    "    if i % 2 != 0:\n",
    "        row.reverse()\n",
    "    print(' '.join(row))"
   ]
  },
  {
   "cell_type": "code",
   "execution_count": null,
   "metadata": {},
   "outputs": [],
   "source": [
    "# 15\n",
    "\n",
    "N = int(input())\n",
    "M = int(input())\n",
    "\n",
    "max_num = N * M\n",
    "width = len(str(max_num))\n",
    "\n",
    "matrix = [[0] * M for _ in range(N)]\n",
    "\n",
    "num = 1\n",
    "for j in range(M):\n",
    "    if j % 2 == 0:\n",
    "        for i in range(N):\n",
    "            matrix[i][j] = num\n",
    "            num += 1\n",
    "    else:\n",
    "        for i in range(N - 1, -1, -1):\n",
    "            matrix[i][j] = num\n",
    "            num += 1\n",
    "\n",
    "for row in matrix:\n",
    "    print(' '.join(f'{x:>{width}}' for x in row))\n"
   ]
  },
  {
   "cell_type": "code",
   "execution_count": 14,
   "metadata": {},
   "outputs": [
    {
     "name": "stdout",
     "output_type": "stream",
     "text": [
      "  1  |  2  |  3  |  4  |  5  \n",
      "-----------------------------\n",
      "  2  |  4  |  6  |  8  | 10  \n",
      "-----------------------------\n",
      "  3  |  6  |  9  | 12  | 15  \n",
      "-----------------------------\n",
      "  4  |  8  | 12  | 16  | 20  \n",
      "-----------------------------\n",
      "  5  | 10  | 15  | 20  | 25  \n"
     ]
    }
   ],
   "source": [
    "# 16\n",
    "\n",
    "size = int(input())\n",
    "column_width = int(input())\n",
    "\n",
    "for i in range(1, size + 1):\n",
    "    row = []\n",
    "    for j in range(1, size + 1):\n",
    "        cell = f\"{i * j:^{column_width}}\"\n",
    "        row.append(cell)\n",
    "    print(\"|\".join(row))\n",
    "    \n",
    "    if i < size:\n",
    "        print(\"-\" * (size * (column_width + 1) - 1))\n",
    "\n"
   ]
  },
  {
   "cell_type": "code",
   "execution_count": null,
   "metadata": {},
   "outputs": [],
   "source": [
    "# 17\n",
    "\n",
    "n = int(input())\n",
    "\n",
    "palindrome_count = 0\n",
    "\n",
    "for _ in range(n):\n",
    "    num = input().strip()\n",
    "    if num == num[::-1]:\n",
    "        palindrome_count += 1\n",
    "\n",
    "print(palindrome_count)"
   ]
  },
  {
   "cell_type": "code",
   "execution_count": null,
   "metadata": {},
   "outputs": [
    {
     "name": "stdout",
     "output_type": "stream",
     "text": [
      "   1\n",
      "  2 3\n",
      " 4 5 6\n",
      "7 8 9 10\n"
     ]
    }
   ],
   "source": [
    "# 18\n",
    "\n",
    "n = int(input())\n",
    "\n",
    "current = 1\n",
    "row = 1\n",
    "rows = []\n",
    "\n",
    "while current <= n:\n",
    "    rows.append([])\n",
    "    for _ in range(row):\n",
    "        if current > n:\n",
    "            break\n",
    "        rows[-1].append(str(current))\n",
    "        current += 1\n",
    "    row += 1\n",
    "\n",
    "max_width = len(' '.join(rows[-1]))\n",
    "\n",
    "for r in rows:\n",
    "    line = ' '.join(r)\n",
    "    spaces = (max_width - len(line)) // 2\n",
    "    print(' ' * spaces + line)"
   ]
  },
  {
   "cell_type": "code",
   "execution_count": null,
   "metadata": {},
   "outputs": [
    {
     "name": "stdout",
     "output_type": "stream",
     "text": [
      "1 1 1 1 1 1 \n",
      "1 2 2 2 2 1 \n",
      "1 2 3 3 2 1 \n",
      "1 2 3 3 2 1 \n",
      "1 2 2 2 2 1 \n",
      "1 1 1 1 1 1 \n"
     ]
    }
   ],
   "source": [
    "# 19\n",
    "\n",
    "N = int(input())\n",
    "\n",
    "max_value = (N // 2) + 1 if N % 2 == 1 else N // 2\n",
    "\n",
    "column_width = len(str(max_value))\n",
    "\n",
    "for i in range(N):\n",
    "    row = []\n",
    "    for j in range(N):\n",
    "        value = min(i, j, N - 1 - i, N - 1 - j) + 1\n",
    "        row.append(f\"{value:>{column_width}}\")\n",
    "    print(\" \".join(row))"
   ]
  },
  {
   "cell_type": "code",
   "execution_count": null,
   "metadata": {},
   "outputs": [
    {
     "name": "stdout",
     "output_type": "stream",
     "text": [
      "1 1 1 1 1 \n",
      "1 2 2 2 1 \n",
      "1 2 3 2 1 \n",
      "1 2 2 2 1 \n",
      "1 1 1 1 1 \n"
     ]
    }
   ],
   "source": [
    "# 20\n",
    "\n",
    "def sum_digits(n, base):\n",
    "    s = 0\n",
    "    while n > 0:\n",
    "        s += n % base\n",
    "        n //= base\n",
    "    return s\n",
    "\n",
    "\n",
    "def best_base(n):\n",
    "    max_sum = -1\n",
    "    best_b = 2\n",
    "    for b in range(2, 11):\n",
    "        current_sum = sum_digits(n, b)\n",
    "        if current_sum > max_sum:\n",
    "            max_sum = current_sum\n",
    "            best_b = b\n",
    "    return best_b\n",
    "\n",
    "\n",
    "n = int(input())\n",
    "print(best_base(n))"
   ]
  }
 ],
 "metadata": {
  "kernelspec": {
   "display_name": "SENATOROV",
   "language": "python",
   "name": "python3"
  },
  "language_info": {
   "codemirror_mode": {
    "name": "ipython",
    "version": 3
   },
   "file_extension": ".py",
   "mimetype": "text/x-python",
   "name": "python",
   "nbconvert_exporter": "python",
   "pygments_lexer": "ipython3",
   "version": "3.11.0"
  }
 },
 "nbformat": 4,
 "nbformat_minor": 2
}
