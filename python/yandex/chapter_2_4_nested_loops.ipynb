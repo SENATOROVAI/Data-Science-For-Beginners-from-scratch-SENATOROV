{
 "cells": [
  {
   "cell_type": "code",
   "execution_count": null,
   "metadata": {},
   "outputs": [],
   "source": [
    "\"\"\"Nested loops.\"\"\""
   ]
  },
  {
   "cell_type": "code",
   "execution_count": null,
   "metadata": {},
   "outputs": [
    {
     "name": "stdout",
     "output_type": "stream",
     "text": [
      "1 2 3 4 \n",
      "2 4 6 8 \n",
      "3 6 9 12 \n",
      "4 8 12 16 \n"
     ]
    }
   ],
   "source": [
    "# 1\n",
    "\n",
    "table_size = int(input())\n",
    "\n",
    "for row_number in range(1, table_size + 1):\n",
    "    for column_number in range(1, table_size + 1):\n",
    "        print(row_number * column_number, end=\" \")\n",
    "    print()"
   ]
  },
  {
   "cell_type": "code",
   "execution_count": null,
   "metadata": {},
   "outputs": [
    {
     "name": "stdout",
     "output_type": "stream",
     "text": [
      "1 * 1 = 1\n",
      "2 * 1 = 2\n",
      "1 * 2 = 2\n",
      "2 * 2 = 4\n"
     ]
    }
   ],
   "source": [
    "# 2\n",
    "\n",
    "multiplication_table_size = int(input())\n",
    "\n",
    "for row_value in range(1, multiplication_table_size + 1):\n",
    "    for column_value in range(1, multiplication_table_size + 1):\n",
    "        print(f\"{row_value} * {column_value} = {row_value * column_value}\")"
   ]
  },
  {
   "cell_type": "code",
   "execution_count": null,
   "metadata": {},
   "outputs": [
    {
     "name": "stdout",
     "output_type": "stream",
     "text": [
      "5 \n",
      "5 5 \n",
      "5 5 \n"
     ]
    }
   ],
   "source": [
    "# 3\n",
    "\n",
    "max_value_1: int = int(input())\n",
    "\n",
    "current_number_1: int = 1\n",
    "current_row: int = 1\n",
    "\n",
    "while current_number_1 <= max_value_1:\n",
    "    for _ in range(current_row):\n",
    "        if current_number_1 > max_value_1:\n",
    "            break\n",
    "        print(max_value_1, end=\" \")\n",
    "        current_number_1 += 1\n",
    "    print()\n",
    "    current_row += 1"
   ]
  },
  {
   "cell_type": "code",
   "execution_count": null,
   "metadata": {},
   "outputs": [
    {
     "name": "stdout",
     "output_type": "stream",
     "text": [
      "5\n"
     ]
    },
    {
     "ename": "",
     "evalue": "",
     "output_type": "error",
     "traceback": [
      "\u001b[1;31mThe Kernel crashed while executing code in the current cell or a previous cell. \n",
      "\u001b[1;31mPlease review the code in the cell(s) to identify a possible cause of the failure. \n",
      "\u001b[1;31mClick <a href='https://aka.ms/vscodeJupyterKernelCrash'>here</a> for more info. \n",
      "\u001b[1;31mView Jupyter <a href='command:jupyter.viewOutput'>log</a> for further details."
     ]
    }
   ],
   "source": [
    "# 4\n",
    "\n",
    "num_count_1: int = int(input())\n",
    "\n",
    "total_sum: int = 0\n",
    "\n",
    "for _ in range(num_count_1):\n",
    "    number_str_1: str = input()\n",
    "    for digit_char in number_str_1:\n",
    "        total_sum += int(digit_char)\n",
    "\n",
    "print(total_sum)"
   ]
  },
  {
   "cell_type": "code",
   "execution_count": null,
   "metadata": {},
   "outputs": [
    {
     "name": "stdout",
     "output_type": "stream",
     "text": [
      "0\n"
     ]
    }
   ],
   "source": [
    "# 5\n",
    "\n",
    "num_lines = int(input().strip())\n",
    "\n",
    "bunny_count: int = 0\n",
    "\n",
    "for _ in range(num_lines):\n",
    "    has_bunny: bool = False\n",
    "    while True:\n",
    "        word: str = input().strip()\n",
    "        if word == \"ВСЁ\":\n",
    "            break\n",
    "        if word == \"зайка\":\n",
    "            has_bunny = True\n",
    "    if has_bunny:\n",
    "        bunny_count += 1\n",
    "\n",
    "print(bunny_count)"
   ]
  },
  {
   "cell_type": "code",
   "execution_count": null,
   "metadata": {},
   "outputs": [],
   "source": [
    "# 6\n",
    "\n",
    "num_count_2: int = int(input())\n",
    "\n",
    "gcd_result: int = int(input())\n",
    "\n",
    "for _ in range(num_count_2 - 1):\n",
    "    next_num: int = int(input())\n",
    "    while next_num != 0:\n",
    "        gcd_result, next_num = next_num, gcd_result % next_num\n",
    "\n",
    "print(gcd_result)"
   ]
  },
  {
   "cell_type": "code",
   "execution_count": null,
   "metadata": {},
   "outputs": [],
   "source": [
    "# 7\n",
    "\n",
    "num_participants_1: int = int(input())\n",
    "\n",
    "countdown_start: int = 3\n",
    "\n",
    "for participant_number_1 in range(num_participants_1):\n",
    "    for seconds_left in range(countdown_start, 0, -1):\n",
    "        print(f\"До старта {seconds_left} секунд(ы)\")\n",
    "    print(f\"Старт {participant_number_1 + 1}!!!\")\n",
    "    countdown_start += 1"
   ]
  },
  {
   "cell_type": "code",
   "execution_count": null,
   "metadata": {},
   "outputs": [],
   "source": [
    "# 8\n",
    "\n",
    "num_participants_2: int = int(input())\n",
    "\n",
    "highest_digit_sum: int = -1\n",
    "winner_name: str = \"\"\n",
    "\n",
    "for _ in range(num_participants_2):\n",
    "    participant_name: str = input()\n",
    "    participant_number_2: str = input()\n",
    "\n",
    "    digit_sum_total: int = sum(int(digit) for digit in participant_number_2)\n",
    "\n",
    "    if digit_sum_total >= highest_digit_sum:\n",
    "        highest_digit_sum = digit_sum_total\n",
    "        winner_name = participant_name\n",
    "\n",
    "print(winner_name)"
   ]
  },
  {
   "cell_type": "code",
   "execution_count": null,
   "metadata": {},
   "outputs": [],
   "source": [
    "# 9\n",
    "\n",
    "num_entries_1: int = int(input())\n",
    "\n",
    "max_digits_result: str = \"\"\n",
    "\n",
    "for _ in range(num_entries_1):\n",
    "    number_str_2: str = input()\n",
    "    max_digits_result += max(number_str_2)\n",
    "\n",
    "print(max_digits_result)"
   ]
  },
  {
   "cell_type": "code",
   "execution_count": null,
   "metadata": {},
   "outputs": [],
   "source": [
    "# 10\n",
    "\n",
    "total_slices: int = int(input())\n",
    "\n",
    "print(\"А Б В\")\n",
    "\n",
    "for slice_a in range(1, total_slices - 1):\n",
    "    for slice_b in range(1, total_slices - slice_a):\n",
    "        slice_c = total_slices - slice_a - slice_b\n",
    "        if slice_c >= 1:\n",
    "            print(slice_a, slice_b, slice_c)"
   ]
  },
  {
   "cell_type": "code",
   "execution_count": null,
   "metadata": {},
   "outputs": [],
   "source": [
    "# 11\n",
    "\n",
    "\n",
    "def is_prime(number: int) -> bool:\n",
    "    \"\"\"Check if a number is prime.\"\"\"\n",
    "    if number < 2:\n",
    "        return False\n",
    "    for divisor in range(2, int(number**0.5) + 1):\n",
    "        if number % divisor == 0:\n",
    "            return False\n",
    "    return True\n",
    "\n",
    "\n",
    "num_entries_2: int = int(input())\n",
    "\n",
    "prime_count: int = 0\n",
    "for _ in range(num_entries_2):\n",
    "    current_number_2: int = int(input())\n",
    "    if is_prime(current_number_2):\n",
    "        prime_count += 1\n",
    "\n",
    "print(prime_count)"
   ]
  },
  {
   "cell_type": "code",
   "execution_count": null,
   "metadata": {},
   "outputs": [
    {
     "name": "stdout",
     "output_type": "stream",
     "text": [
      " 1  2  3  4  5\n",
      " 6  7  8  9 10\n",
      "11 12 13 14 15\n",
      "16 17 18 19 20\n",
      "21 22 23 24 25\n"
     ]
    }
   ],
   "source": [
    "# 12\n",
    "\n",
    "num_rows_1: int = int(input())\n",
    "num_columns_1: int = int(input())\n",
    "\n",
    "max_number_1: int = num_rows_1 * num_columns_1\n",
    "cell_width_1: int = len(str(max_number_1))\n",
    "\n",
    "current_number_3: int = 1\n",
    "for row_index in range(num_rows_1):\n",
    "    row_values = []\n",
    "    for column_index in range(num_columns_1):\n",
    "        row_values.append(f\"{current_number_3:>{cell_width_1}}\")\n",
    "        current_number_3 += 1\n",
    "    print(\" \".join(row_values))"
   ]
  },
  {
   "cell_type": "code",
   "execution_count": null,
   "metadata": {},
   "outputs": [
    {
     "name": "stdout",
     "output_type": "stream",
     "text": [
      " 1  5  9 13\n",
      " 2  6 10 14\n",
      " 3  7 11 15\n",
      " 4  8 12 16\n"
     ]
    }
   ],
   "source": [
    "# 13\n",
    "\n",
    "num_rows_2: int = int(input())\n",
    "num_columns_2: int = int(input())\n",
    "\n",
    "max_number_2: int = num_rows_2 * num_columns_2\n",
    "cell_width_2: int = len(str(max_number_2))\n",
    "\n",
    "for row_start in range(1, num_rows_2 + 1):\n",
    "    row_values = []\n",
    "    current_number_4 = row_start\n",
    "    for _ in range(num_columns_2):\n",
    "        row_values.append(f\"{current_number_4:>{cell_width_2}}\")\n",
    "        current_number_4 += num_rows_2\n",
    "    print(\" \".join(row_values))"
   ]
  },
  {
   "cell_type": "code",
   "execution_count": null,
   "metadata": {},
   "outputs": [
    {
     "name": "stdout",
     "output_type": "stream",
     "text": [
      " 1  6  7 12\n",
      " 2  5  8 11\n",
      " 3  4  9 10\n"
     ]
    }
   ],
   "source": [
    "# 14\n",
    "\n",
    "num_rows_3: int = int(input())\n",
    "num_columns_3: int = int(input())\n",
    "\n",
    "max_number_3: int = num_rows_3 * num_columns_3\n",
    "cell_width_3: int = len(str(max_number_3))\n",
    "\n",
    "current_number_5: int = 1\n",
    "for row_index in range(num_rows_3):\n",
    "    row_values = []\n",
    "    for _ in range(num_columns_3):\n",
    "        row_values.append(f\"{current_number_5:>{cell_width_3}}\")\n",
    "        current_number_5 += 1\n",
    "    if row_index % 2 != 0:\n",
    "        row_values.reverse()\n",
    "    print(\" \".join(row_values))"
   ]
  },
  {
   "cell_type": "code",
   "execution_count": null,
   "metadata": {},
   "outputs": [
    {
     "name": "stdout",
     "output_type": "stream",
     "text": [
      " 1  8  9 16 17\n",
      " 2  7 10 15 18\n",
      " 3  6 11 14 19\n",
      " 4  5 12 13 20\n"
     ]
    }
   ],
   "source": [
    "# 15\n",
    "\n",
    "num_rows_4 = int(input())\n",
    "num_columns_4 = int(input())\n",
    "\n",
    "max_number = num_rows_4 * num_columns_4\n",
    "cell_width = len(str(max_number))\n",
    "\n",
    "matrix = [[0] * num_columns_4 for _ in range(num_rows_4)]\n",
    "\n",
    "current_number_6 = 1\n",
    "for column_index in range(num_columns_4):\n",
    "    if column_index % 2 == 0:\n",
    "        for row_index in range(num_rows_4):\n",
    "            matrix[row_index][column_index] = current_number_6\n",
    "            current_number_6 += 1\n",
    "    else:\n",
    "        for row_index in range(num_rows_4 - 1, -1, -1):\n",
    "            matrix[row_index][column_index] = current_number_6\n",
    "            current_number_6 += 1\n",
    "\n",
    "for row in matrix:\n",
    "    print(\" \".join(f\"{value:>{cell_width}}\" for value in row))"
   ]
  },
  {
   "cell_type": "code",
   "execution_count": null,
   "metadata": {},
   "outputs": [
    {
     "name": "stdout",
     "output_type": "stream",
     "text": [
      "  1  |  2  |  3  |  4  |  5  \n",
      "-----------------------------\n",
      "  2  |  4  |  6  |  8  | 10  \n",
      "-----------------------------\n",
      "  3  |  6  |  9  | 12  | 15  \n",
      "-----------------------------\n",
      "  4  |  8  | 12  | 16  | 20  \n",
      "-----------------------------\n",
      "  5  | 10  | 15  | 20  | 25  \n"
     ]
    }
   ],
   "source": [
    "# 16\n",
    "\n",
    "table_size = int(input())\n",
    "column_width = int(input())\n",
    "\n",
    "for row_number in range(1, table_size + 1):\n",
    "    row_values = [\n",
    "        f\"{row_number * col_number:^{column_width}}\"\n",
    "        for col_number in range(1, table_size + 1)\n",
    "    ]\n",
    "    print(\"|\".join(row_values))\n",
    "\n",
    "    if row_number < table_size:\n",
    "        print(\"-\" * (table_size * (column_width + 1) - 1))"
   ]
  },
  {
   "cell_type": "code",
   "execution_count": null,
   "metadata": {},
   "outputs": [],
   "source": [
    "# 17\n",
    "\n",
    "num_entries_3 = int(input())\n",
    "\n",
    "palindrome_count = 0\n",
    "\n",
    "for _ in range(num_entries_3):\n",
    "    number_str = input().strip()\n",
    "    if number_str == number_str[::-1]:\n",
    "        palindrome_count += 1\n",
    "\n",
    "print(palindrome_count)"
   ]
  },
  {
   "cell_type": "code",
   "execution_count": null,
   "metadata": {},
   "outputs": [
    {
     "name": "stdout",
     "output_type": "stream",
     "text": [
      "   1\n",
      "  2 3\n",
      " 4 5 6\n",
      "7 8 9 10\n"
     ]
    }
   ],
   "source": [
    "# 18\n",
    "\n",
    "max_value_2: int = int(input())\n",
    "\n",
    "current_number: int = 1\n",
    "current_row_size: int = 1\n",
    "rows: list[list[str]] = []\n",
    "while current_number <= max_value_2:\n",
    "    sub_row: list[str] = []\n",
    "    for _ in range(current_row_size):\n",
    "        if current_number > max_value_2:\n",
    "            break\n",
    "        sub_row.append(str(current_number))\n",
    "        current_number += 1\n",
    "    rows.append(sub_row)\n",
    "    current_row_size += 1\n",
    "\n",
    "max_width: int = len(\" \".join(rows[-1]))\n",
    "\n",
    "for rw in rows:\n",
    "    line: str = \" \".join(rw)\n",
    "    print(line)"
   ]
  },
  {
   "cell_type": "code",
   "execution_count": null,
   "metadata": {},
   "outputs": [
    {
     "name": "stdout",
     "output_type": "stream",
     "text": [
      "1 1 1 1 1 1 \n",
      "1 2 2 2 2 1 \n",
      "1 2 3 3 2 1 \n",
      "1 2 3 3 2 1 \n",
      "1 2 2 2 2 1 \n",
      "1 1 1 1 1 1 \n"
     ]
    }
   ],
   "source": [
    "# 19\n",
    "\n",
    "grid_size = int(input())\n",
    "\n",
    "max_value_3 = (grid_size // 2) + 1 if grid_size % 2 == 1 else grid_size // 2\n",
    "cell_width = len(str(max_value_3))\n",
    "\n",
    "for row_index in range(grid_size):\n",
    "    row_values = []\n",
    "    for col_index in range(grid_size):\n",
    "        value = 1 + min(\n",
    "            row_index,\n",
    "            col_index,\n",
    "            grid_size - 1 - row_index,\n",
    "            grid_size - 1 - col_index,\n",
    "        )\n",
    "        row_values.append(f\"{value:>{cell_width}}\")\n",
    "    print(\" \".join(row_values))"
   ]
  },
  {
   "cell_type": "code",
   "execution_count": null,
   "metadata": {},
   "outputs": [
    {
     "name": "stdout",
     "output_type": "stream",
     "text": [
      "4\n"
     ]
    }
   ],
   "source": [
    "# 20\n",
    "\n",
    "\n",
    "def sum_of_digits(number: int, base: int) -> int:\n",
    "    \"\"\"Return sum of digit.\"\"\"\n",
    "    digit_sum = 0\n",
    "    while number > 0:\n",
    "        digit_sum += number % base\n",
    "        number //= base\n",
    "    return digit_sum\n",
    "\n",
    "\n",
    "def optimal_base(number: int) -> int:\n",
    "    \"\"\"Return optimal base.\"\"\"\n",
    "    max_digit_sum = -1\n",
    "    best_base = 2\n",
    "    for base in range(2, 11):\n",
    "        current_digit_sum = sum_of_digits(number, base)\n",
    "        if current_digit_sum > max_digit_sum:\n",
    "            max_digit_sum = current_digit_sum\n",
    "            best_base = base\n",
    "    return best_base\n",
    "\n",
    "\n",
    "input_val: int = int(input())\n",
    "print(optimal_base(input_val))"
   ]
  }
 ],
 "metadata": {
  "kernelspec": {
   "display_name": "SENATOROV",
   "language": "python",
   "name": "python3"
  },
  "language_info": {
   "codemirror_mode": {
    "name": "ipython",
    "version": 3
   },
   "file_extension": ".py",
   "mimetype": "text/x-python",
   "name": "python",
   "nbconvert_exporter": "python",
   "pygments_lexer": "ipython3",
   "version": "3.11.0"
  }
 },
 "nbformat": 4,
 "nbformat_minor": 2
}
