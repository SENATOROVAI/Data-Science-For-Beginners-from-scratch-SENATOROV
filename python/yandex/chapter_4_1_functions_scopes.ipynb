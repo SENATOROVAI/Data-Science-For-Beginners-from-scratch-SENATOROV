{
 "cells": [
  {
   "cell_type": "code",
   "execution_count": null,
   "metadata": {},
   "outputs": [],
   "source": [
    "\"\"\"Functions. Scopes. Passing parameters to functions.\"\"\""
   ]
  },
  {
   "cell_type": "code",
   "execution_count": null,
   "metadata": {},
   "outputs": [],
   "source": [
    "# 1\n",
    "\n",
    "\n",
    "def print_hello(name: str) -> None:\n",
    "    \"\"\"Return Greeting statement.\"\"\"\n",
    "    print(f\"Hello, {name}!\")"
   ]
  },
  {
   "cell_type": "code",
   "execution_count": null,
   "metadata": {},
   "outputs": [],
   "source": [
    "# 2\n",
    "\n",
    "\n",
    "def gcd(number1: int, number2: int) -> int:\n",
    "    \"\"\"Calculate GCD.\"\"\"\n",
    "    while number2:\n",
    "        number1, number2 = number2, number1 % number2\n",
    "    return number1"
   ]
  },
  {
   "cell_type": "code",
   "execution_count": null,
   "metadata": {},
   "outputs": [],
   "source": [
    "# 3\n",
    "\n",
    "\n",
    "def number_length(number_input: int) -> int:\n",
    "    \"\"\"Return input length.\"\"\"\n",
    "    return len(str(abs(number_input)))"
   ]
  },
  {
   "cell_type": "code",
   "execution_count": null,
   "metadata": {},
   "outputs": [],
   "source": [
    "# 4\n",
    "\n",
    "\n",
    "def month(mn: int, lang: str) -> str | None:\n",
    "    \"\"\"Return month in specified locale.\"\"\"\n",
    "    months = {\n",
    "        \"en\": [\n",
    "            \"January\",\n",
    "            \"February\",\n",
    "            \"March\",\n",
    "            \"April\",\n",
    "            \"May\",\n",
    "            \"June\",\n",
    "            \"July\",\n",
    "            \"August\",\n",
    "            \"September\",\n",
    "            \"October\",\n",
    "            \"November\",\n",
    "            \"December\",\n",
    "        ],\n",
    "        \"ru\": [\n",
    "            \"Январь\",\n",
    "            \"Февраль\",\n",
    "            \"Март\",\n",
    "            \"Апрель\",\n",
    "            \"Май\",\n",
    "            \"Июнь\",\n",
    "            \"Июль\",\n",
    "            \"Август\",\n",
    "            \"Сентябрь\",\n",
    "            \"Октябрь\",\n",
    "            \"Ноябрь\",\n",
    "            \"Декабрь\",\n",
    "        ],\n",
    "    }\n",
    "    return months[lang][mn - 1] if 1 <= mn <= 12 and lang in months else None"
   ]
  },
  {
   "cell_type": "code",
   "execution_count": null,
   "metadata": {},
   "outputs": [],
   "source": [
    "# 5\n",
    "\n",
    "\n",
    "def split_numbers(numbers_string: str) -> tuple[int, ...]:\n",
    "    \"\"\"Return tuple of split numbers.\"\"\"\n",
    "    return tuple(int(nmb) for nmb in numbers_string.split())"
   ]
  },
  {
   "cell_type": "code",
   "execution_count": null,
   "metadata": {},
   "outputs": [],
   "source": [
    "# 6\n",
    "\n",
    "\n",
    "outputs: list[str] = []\n",
    "\n",
    "\n",
    "def modern_print(line: str) -> None:\n",
    "    \"\"\"Print only new lines.\"\"\"\n",
    "    if line not in outputs:\n",
    "        outputs.append(line)\n",
    "        print(line)"
   ]
  },
  {
   "cell_type": "code",
   "execution_count": null,
   "metadata": {},
   "outputs": [],
   "source": [
    "# 7\n",
    "\n",
    "\n",
    "def can_eat(knight: tuple[int, int], piece: tuple[int, int]) -> bool:\n",
    "    \"\"\"Determine if a knight can capture a given piece in a game of chess.\"\"\"\n",
    "    x1_c, y1_c = knight\n",
    "    x2_c, y2_c = piece\n",
    "    return (abs(x1_c - x2_c), abs(y1_c - y2_c)) in [(2, 1), (1, 2)]"
   ]
  },
  {
   "cell_type": "code",
   "execution_count": null,
   "metadata": {},
   "outputs": [],
   "source": [
    "# 8\n",
    "\n",
    "# fmt: off\n",
    "def is_palindrome(\n",
    "    value: int | str | list[int] | tuple[int, ...] | float\n",
    ") -> bool:\n",
    "    \"\"\"Check if input value is a palindrome.\"\"\"\n",
    "    if isinstance(value, (int, str, list, tuple)):\n",
    "        value_str = str(value) if isinstance(value, int) else value\n",
    "        return value_str == value_str[::-1]\n",
    "    return False\n",
    "# fmt: on"
   ]
  },
  {
   "cell_type": "code",
   "execution_count": null,
   "metadata": {},
   "outputs": [],
   "source": [
    "# 9\n",
    "\n",
    "\n",
    "def is_prime(nmb: int) -> bool:\n",
    "    \"\"\"Check if input value is prime.\"\"\"\n",
    "    if nmb < 2:\n",
    "        return False\n",
    "    for i in range(2, int(nmb**0.5) + 1):\n",
    "        if nmb % i == 0:\n",
    "            return False\n",
    "    return True"
   ]
  },
  {
   "cell_type": "code",
   "execution_count": null,
   "metadata": {},
   "outputs": [],
   "source": [
    "# 10\n",
    "\n",
    "\n",
    "def merge(tuple1: tuple[int, ...], tuple2: tuple[int, ...]) -> tuple[int, ...]:\n",
    "    \"\"\"Merge and return two tuples.\"\"\"\n",
    "    result = []\n",
    "    i_val, j_val = 0, 0\n",
    "    for _ in range(len(tuple1) + len(tuple2)):\n",
    "        if i_val < len(tuple1) and (\n",
    "            j_val >= len(tuple2) or tuple1[i_val] < tuple2[j_val]\n",
    "        ):\n",
    "            result.append(tuple1[i_val])\n",
    "            i_val += 1\n",
    "        else:\n",
    "            result.append(tuple2[j_val])\n",
    "            j_val += 1\n",
    "    return tuple(result)"
   ]
  }
 ],
 "metadata": {
  "language_info": {
   "name": "python"
  }
 },
 "nbformat": 4,
 "nbformat_minor": 2
}
