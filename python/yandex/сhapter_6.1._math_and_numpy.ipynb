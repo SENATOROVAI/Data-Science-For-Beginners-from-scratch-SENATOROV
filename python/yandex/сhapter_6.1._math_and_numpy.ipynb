{
 "cells": [
  {
   "cell_type": "code",
   "execution_count": null,
   "id": "39d61c0d",
   "metadata": {},
   "outputs": [],
   "source": [
    "\"\"\"Math and numpy modules.\"\"\""
   ]
  },
  {
   "cell_type": "code",
   "execution_count": null,
   "id": "61b42d01",
   "metadata": {},
   "outputs": [],
   "source": [
    "import math\n",
    "from math import cos, dist, sin\n",
    "from sys import stdin\n",
    "\n",
    "import numpy as np\n",
    "from numpy.typing import NDArray  # type: ignore"
   ]
  },
  {
   "cell_type": "code",
   "execution_count": null,
   "id": "fa09cf28",
   "metadata": {},
   "outputs": [],
   "source": [
    "# 1\n",
    "x_val = float(input())\n",
    "\n",
    "# fmt: off\n",
    "result = (\n",
    "    math.log(math.pow(x_val, 3 / 16), 32) +  # noqa: W504\n",
    "    math.pow(x_val, math.cos((math.pi * x_val) / (2 * math.e))) -  # noqa: W504\n",
    "    math.pow(math.sin(x_val / math.pi), 2)\n",
    ")\n",
    "# fmt: on\n",
    "\n",
    "print(result)"
   ]
  },
  {
   "cell_type": "code",
   "execution_count": null,
   "id": "f1f9793b",
   "metadata": {},
   "outputs": [],
   "source": [
    "# 2\n",
    "\n",
    "\n",
    "for line in stdin:\n",
    "    numbers = map(int, line.split())\n",
    "    print(math.gcd(*numbers))"
   ]
  },
  {
   "cell_type": "code",
   "execution_count": null,
   "id": "d4f1f494",
   "metadata": {},
   "outputs": [],
   "source": [
    "# 3\n",
    "\n",
    "N_val, M_val = map(int, input().split())\n",
    "print(math.comb(N_val - 1, M_val - 1), math.comb(N_val, M_val))"
   ]
  },
  {
   "cell_type": "code",
   "execution_count": null,
   "id": "9f88dd55",
   "metadata": {},
   "outputs": [],
   "source": [
    "# 4\n",
    "\n",
    "\n",
    "inputs_val = list(map(float, input().split()))\n",
    "\n",
    "geometric_mean = math.pow(math.prod(inputs_val), 1 / len(inputs_val))\n",
    "print(geometric_mean)"
   ]
  },
  {
   "cell_type": "code",
   "execution_count": null,
   "id": "0ffb9834",
   "metadata": {},
   "outputs": [],
   "source": [
    "# 5\n",
    "\n",
    "\n",
    "deca_x, deca_y = map(float, input().split())\n",
    "pola_r, pola_f = map(float, input().split())\n",
    "pola_x = pola_r * cos(pola_f)\n",
    "pola_y = pola_r * sin(pola_f)\n",
    "print(dist((deca_x, deca_y), (pola_x, pola_y)))"
   ]
  },
  {
   "cell_type": "code",
   "execution_count": null,
   "id": "54d368ef",
   "metadata": {},
   "outputs": [
    {
     "name": "stdout",
     "output_type": "stream",
     "text": [
      "[1 2 3 4 5]\n",
      "[1 2 3 4 5]\n"
     ]
    },
    {
     "data": {
      "text/plain": [
       "array([[ 1,  2,  3,  4,  5],\n",
       "       [ 2,  4,  6,  8, 10],\n",
       "       [ 3,  6,  9, 12, 15],\n",
       "       [ 4,  8, 12, 16, 20],\n",
       "       [ 5, 10, 15, 20, 25]])"
      ]
     },
     "metadata": {},
     "output_type": "display_data"
    }
   ],
   "source": [
    "# 6\n",
    "\n",
    "\n",
    "def multiplication_matrix(size: int) -> NDArray[np.int64]:\n",
    "    \"\"\"Create an n x n multiplication table matrix.\"\"\"\n",
    "    matrix = np.arange(1, size + 1)\n",
    "    return matrix * matrix.reshape(-1, 1)"
   ]
  },
  {
   "cell_type": "code",
   "execution_count": null,
   "id": "1386d1e9",
   "metadata": {},
   "outputs": [],
   "source": [
    "# 7\n",
    "\n",
    "\n",
    "def make_board(num: int) -> NDArray[np.int8]:\n",
    "    \"\"\"Create a chessboard pattern matrix of size n x n.\"\"\"\n",
    "    matrix = np.indices((num, num)).sum(axis=0) % 2\n",
    "    return np.array(np.rot90(matrix), dtype=\"int8\")"
   ]
  },
  {
   "cell_type": "code",
   "execution_count": null,
   "id": "8d848acd",
   "metadata": {},
   "outputs": [],
   "source": [
    "# 8\n",
    "\n",
    "\n",
    "def snake(width: int, height: int, direction: str = \"H\") -> NDArray[np.int16]:\n",
    "    \"\"\"Create a snake pattern matrix of size N x M.\"\"\"\n",
    "    matrix = np.zeros((height, width), dtype=np.int16)\n",
    "\n",
    "    if direction == \"H\":\n",
    "        for i in range(height):\n",
    "            if i % 2 == 0:\n",
    "                matrix[i] = np.arange(i * width + 1, (i + 1) * width + 1)\n",
    "            else:\n",
    "                matrix[i] = np.arange((i + 1) * width, i * width, -1)\n",
    "    elif direction == \"V\":\n",
    "        for j_w in range(width):\n",
    "            if j_w % 2 == 0:\n",
    "                array_val = np.arange(j_w * height + 1, (j_w + 1) * height + 1)\n",
    "                matrix[:, j_w] = array_val\n",
    "            else:\n",
    "                array_val = np.arange((j_w + 1) * height, j_w * height, -1)\n",
    "                matrix[:, j_w] = array_val\n",
    "\n",
    "    return matrix"
   ]
  },
  {
   "cell_type": "code",
   "execution_count": null,
   "id": "5aa937f4",
   "metadata": {},
   "outputs": [],
   "source": [
    "# 9\n",
    "\n",
    "\n",
    "def rotate(matrix: NDArray[np.int64], angle: int) -> NDArray[np.int64]:\n",
    "    \"\"\"Rotate a matrix by the angle in degrees (must be multiple of 90).\"\"\"\n",
    "    return np.rot90(matrix, (360 - angle) // 90)"
   ]
  },
  {
   "cell_type": "code",
   "execution_count": null,
   "id": "f36d6134",
   "metadata": {},
   "outputs": [],
   "source": [
    "# 10\n",
    "\n",
    "\n",
    "def stairs(vector: NDArray[np.int64]) -> NDArray[np.int64]:\n",
    "    \"\"\"Create a matrix where row is the vector shifted right by row index.\"\"\"\n",
    "    size = len(vector)\n",
    "    matrix = np.zeros((size, size), dtype=vector.dtype)\n",
    "\n",
    "    for i_val in range(size):\n",
    "        matrix[i_val] = np.roll(vector, i_val)\n",
    "\n",
    "    return matrix"
   ]
  }
 ],
 "metadata": {
  "kernelspec": {
   "display_name": "base",
   "language": "python",
   "name": "python3"
  },
  "language_info": {
   "codemirror_mode": {
    "name": "ipython",
    "version": 3
   },
   "file_extension": ".py",
   "mimetype": "text/x-python",
   "name": "python",
   "nbconvert_exporter": "python",
   "pygments_lexer": "ipython3",
   "version": "3.12.7"
  }
 },
 "nbformat": 4,
 "nbformat_minor": 5
}
