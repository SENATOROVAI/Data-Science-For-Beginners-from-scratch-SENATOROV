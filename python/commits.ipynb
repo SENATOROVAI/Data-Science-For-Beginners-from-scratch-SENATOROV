{
 "cells": [
  {
   "cell_type": "markdown",
   "id": "095ba807",
   "metadata": {},
   "source": [
    "\"\"\"Соглашение о коммитах.\"\"\""
   ]
  },
  {
   "cell_type": "markdown",
   "id": "a04cea11",
   "metadata": {},
   "source": [
    "Соглашение о коммитах: https://www.conventionalcommits.org/ru/v1.0.0/\n",
    "\n",
    "2. Представьте, что вы исправили баг (-> fix) в функции, которая некорректно округляет числа. Сделайте фиктивный коммит и напишите для него сообщение в соответствии с Conventional Commits (используя тип fix).\n",
    "git commit -m 'fix: correct rounding error in calculate_price function'\n",
    "\n",
    "3. Добавление новой функциональности -> feat:\n",
    "Допустим, вы реализовали новую функцию generateReport в проекте. Сделайте фиктивный коммит с типом feat, отражающий добавление этой функциональности\n",
    "git commit -m 'feat: add new function generateReport'\n",
    "\n",
    "4. Модификация формата кода или стилей:\n",
    "Представьте, что вы поправили отступы и форматирование во всём проекте, не меняя логики кода. Сделайте фиктивный коммит с типом style\n",
    "git commit -m 'style: corrected indents and formatting'\n",
    "\n",
    "5. Документация и тестирование:\n",
    "Сделайте фиктивный коммит с типом docs, добавляющий или улучшающий документацию для вашей новой функции.\n",
    "git commit -m 'docs: update documentation for function generateReport'\n",
    "\n",
    "Сделайте фиктивный коммит с типом test, добавляющий тесты для этой же функции.\n",
    "git commit -m 'test: add tests for function generateReport'"
   ]
  },
  {
   "cell_type": "code",
   "execution_count": null,
   "id": "5e956ded",
   "metadata": {},
   "outputs": [],
   "source": [
    "\"\"\"2.\"\"\"\n",
    "# def calculate_price(number):\n",
    "#     \"\"\"\n",
    "#     Неправильно округляет число, просто отбрасывая дробную часть.\n",
    "#     \"\"\"\n",
    "#     return int(number)\n",
    "\n",
    "\n",
    "def calculate_price(number: float, ndigits: int | None = None) -> float:\n",
    "    \"\"\"Правильно округляет число, используя встроенную функцию round().\"\"\"\n",
    "    return round(number, ndigits)"
   ]
  },
  {
   "cell_type": "markdown",
   "id": "7ea6efd9",
   "metadata": {},
   "source": [
    "\"\"\"3.\"\"\"\n",
    "Создала новую функцию generateReport"
   ]
  },
  {
   "cell_type": "markdown",
   "id": "25882d9c",
   "metadata": {},
   "source": [
    "\"\"\"4.\"\"\"\n",
    "Исправила отступы и форматирование"
   ]
  },
  {
   "cell_type": "markdown",
   "id": "f7bec0c5",
   "metadata": {},
   "source": [
    "\"\"\"5.\"\"\"\n",
    "Добавила документацию для новой функции generateReport"
   ]
  }
 ],
 "metadata": {
  "kernelspec": {
   "display_name": "base",
   "language": "python",
   "name": "python3"
  },
  "language_info": {
   "name": "python",
   "version": "3.12.7"
  }
 },
 "nbformat": 4,
 "nbformat_minor": 5
}
