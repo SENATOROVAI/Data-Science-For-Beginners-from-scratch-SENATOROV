{
 "cells": [
  {
   "cell_type": "code",
   "execution_count": null,
   "id": "3ecf9af2-5498-4dd5-be27-1e4769701bae",
   "metadata": {},
   "outputs": [],
   "source": [
    "\"\"\"Как правильно делать commits.\"\"\""
   ]
  },
  {
   "cell_type": "markdown",
   "id": "a4664767-5a11-4738-9682-7d601e149995",
   "metadata": {},
   "source": [
    "# 1 Назначение каждого типа коммита:\n",
    "\n",
    "    feat — добавление фичи в проект.\n",
    "    fix — исправление ошибок в коде.\n",
    "    docs — изменения или добавления документации.\n",
    "    style — изменения, касающиеся стиля кода.\n",
    "    refactor — изменения внутренней логики кода, без изменений поведений.\n",
    "    test — добавление тестов.\n",
    "    build — изменения, связанные с процессом сборки.\n",
    "    ci — изменения в конфиге CI.\n",
    "    perf — улучшение производительности кода.\n",
    "    chore — рутинные задачи, не влияющие на функциональность (например, обновление зависимостей)."
   ]
  },
  {
   "cell_type": "markdown",
   "id": "ce6f33cd-5d98-45b4-a86d-bbf17e5fe6dd",
   "metadata": {},
   "source": [
    "# 2 fix\n",
    "\n",
    "```bash\n",
    "git commit -m \"fix: исправление ошибки округления чисел в функции\"\n",
    "```"
   ]
  },
  {
   "cell_type": "markdown",
   "id": "df2944e6-4dd8-4b35-b1a6-acee28edf026",
   "metadata": {},
   "source": [
    "# 3 feat\n",
    "\n",
    "```bash\n",
    "git commit -m \"feat: добавлена функция generateReport для генерации отчетов\"\n",
    "```"
   ]
  },
  {
   "cell_type": "markdown",
   "id": "093bc1c6-7805-40a3-bd63-a222605579b6",
   "metadata": {},
   "source": [
    "# 4 style\n",
    "\n",
    "```bash\n",
    "git commit -m \"style: исправлены отступы и форматирование кода\"\n",
    "```"
   ]
  },
  {
   "cell_type": "markdown",
   "id": "e9ce6820-06b5-444f-800f-8cdb10d9ff06",
   "metadata": {},
   "source": [
    "# 5 docs & test\n",
    "\n",
    "```bash\n",
    "git commit -m \"docs: добавлена документация для функции generateReport\"\n",
    "```\n",
    "\n",
    "```bash\n",
    "git commit -m \"test: добавлены юнит-тесты для функции generateReport\"\n",
    "```"
   ]
  }
 ],
 "metadata": {
  "jupytext": {
   "cell_metadata_filter": "-all",
   "notebook_metadata_filter": "-all"
  },
  "kernelspec": {
   "display_name": "Python 3 (ipykernel)",
   "language": "python",
   "name": "python3"
  },
  "language_info": {
   "codemirror_mode": {
    "name": "ipython",
    "version": 3
   },
   "file_extension": ".py",
   "mimetype": "text/x-python",
   "name": "python",
   "nbconvert_exporter": "python",
   "pygments_lexer": "ipython3",
   "version": "3.12.8"
  }
 },
 "nbformat": 4,
 "nbformat_minor": 5
}
