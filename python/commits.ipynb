{
 "cells": [
  {
   "cell_type": "code",
   "execution_count": null,
   "id": "1c48512d",
   "metadata": {},
   "outputs": [
    {
     "data": {
      "text/plain": [
       "'commit issue'"
      ]
     },
     "execution_count": 4,
     "metadata": {},
     "output_type": "execute_result"
    }
   ],
   "source": [
    "\"\"\"commit issue.\"\"\""
   ]
  },
  {
   "cell_type": "markdown",
   "id": "d614fe62",
   "metadata": {},
   "source": [
    "1. Опишите своими словами назначение каждого из этих типов коммитов:\n",
    "feat, fix, docs, style, refactor, test, build, ci, perf, chore.\n",
    "\n",
    "feat - добавление новой функции, поведения, расширение старого функционала новыми фичами\n",
    "\n",
    "fix - исправление ошибок, починка функционала и тп.\n",
    "\n",
    "docs - работа с документацией. README, LICENSE и тп.\n",
    "\n",
    "style - изменение стиля кода, без изменения его поведения, \n",
    "пробелы, отступы, порядок импортов и тп.\n",
    "\n",
    "refactor - изменение кода, для улучшения его структуры, \n",
    "читаемости, поддерживаемости(без исправления багов и фич).\n",
    "\n",
    "test - добавление, обновление, исправление тестов. Без изменения кода приложения\n",
    "\n",
    "build - изменения в сборке проекта, инструменты, зависимости и тп.\n",
    "\n",
    "ci - изменение в конфигурации ci/cd. Как github actions \n",
    "\n",
    "perf - оптимизация кода для улучшения производительности\n",
    "(скорости, потребления памяти, времени отклика и тп.). Не меняя функционал\n",
    "\n",
    "chore - уборка, рутина, не связанная с функционалом, как, например, изменить .gitignore\n",
    "\n",
    "2. Представьте, что вы исправили баг в функции, которая некорректно округляет числа. \n",
    "Сделайте фиктивный коммит и напишите для него сообщение в соответствии \n",
    "с Conventional Commits (используя тип fix).\n",
    "\n",
    "`git commit --allow-empty -m 'fix: correct floating-point rounding'`\n",
    "\n",
    "3. Добавление новой функциональности:\n",
    "Допустим, вы реализовали новую функцию generateReport в проекте. \n",
    "Сделайте фиктивный коммит с типом feat, отражающий добавление этой функциональности\n",
    "\n",
    "`git commit --allow-empty -m 'feat: add generateReport function'`\n",
    "\n",
    "4. Модификация формата кода или стилей:\n",
    "Представьте, что вы поправили отступы и форматирование во всём проекте, \n",
    "не меняя логики кода. Сделайте фиктивный коммит с типом style\n",
    "\n",
    "`git commit --allow-empty -m 'style: corrected indentation and formatting throughout the project'`\n",
    "\n",
    "5. Документация и тестирование:\n",
    "\n",
    "    - Сделайте фиктивный коммит с типом docs, добавляющий \n",
    "    или улучшающий документацию для вашей новой функции.\n",
    "\n",
    "`git commit --allow-empty -m 'docs: improved documentation for generateReport'`\n",
    "\n",
    "    - Сделайте фиктивный коммит с типом test, добавляющий тесты для этой же функции.\n",
    "\n",
    "`git commit --allow-empty -m 'test: added tests for generateReport'`\n",
    "\n"
   ]
  }
 ],
 "metadata": {
  "kernelspec": {
   "display_name": "base",
   "language": "python",
   "name": "python3"
  },
  "language_info": {
   "codemirror_mode": {
    "name": "ipython",
    "version": 3
   },
   "file_extension": ".py",
   "mimetype": "text/x-python",
   "name": "python",
   "nbconvert_exporter": "python",
   "pygments_lexer": "ipython3",
   "version": "3.13.5"
  }
 },
 "nbformat": 4,
 "nbformat_minor": 5
}
