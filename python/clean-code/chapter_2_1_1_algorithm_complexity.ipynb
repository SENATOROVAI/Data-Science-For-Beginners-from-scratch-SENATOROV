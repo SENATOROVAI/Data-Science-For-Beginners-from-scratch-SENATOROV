{
 "cells": [
  {
   "cell_type": "code",
   "execution_count": null,
   "metadata": {},
   "outputs": [],
   "source": [
    "\"\"\"Algorithm complexity.\"\"\""
   ]
  },
  {
   "cell_type": "markdown",
   "metadata": {},
   "source": [
    "- `Worst-case complexity` – The maximum number of steps required for any input of size n. It is represented by the highest points in a complexity graph.\n",
    "- `Best-case complexity` – The minimum number of steps required for any input of size n. It is represented by the lowest points in a complexity graph.\n",
    "- `Average-case complexity` (expected time) – The average number of steps needed to process all inputs of size n.\n",
    "\n",
    "\n",
    "- `Constant functions, f(n) = 1` – Independent of n, e.g., adding two numbers or printing a fixed message.\n",
    "- `Logarithmic functions, f(n) = log n` – Common in algorithms like binary search, where execution time grows slowly as n increases.\n",
    "- `Linear functions, f(n) = n` – Represent operations that process each element once, such as searching for a value in an array.\n",
    "- `Superlinear functions, f(n) = n log n` – Found in efficient sorting algorithms like quicksort and merge sort.\n",
    "- `Quadratic functions, f(n) = n²` – Common in nested loops, such as insertion sort or selection sort.\n",
    "- `Cubic functions, f(n) = n³` – Used in enumerating triplets or certain dynamic programming problems.\n",
    "- `Exponential functions, f(n) = cⁿ (c > 1)` – Appear in problems like subset enumeration; impractical for large n.\n",
    "- `Factorial functions, f(n) = n!` – Found in brute-force permutation problems (e.g., Traveling Salesman Problem); extremely slow for large n."
   ]
  }
 ],
 "metadata": {
  "language_info": {
   "name": "python"
  }
 },
 "nbformat": 4,
 "nbformat_minor": 2
}
