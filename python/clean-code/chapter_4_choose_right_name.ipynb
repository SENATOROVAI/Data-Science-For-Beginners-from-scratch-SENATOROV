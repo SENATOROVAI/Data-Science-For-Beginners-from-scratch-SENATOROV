{
 "cells": [
  {
   "cell_type": "code",
   "execution_count": null,
   "metadata": {},
   "outputs": [],
   "source": [
    "\"\"\"Chapter 4 - Choose the right name.\"\"\""
   ]
  },
  {
   "cell_type": "markdown",
   "metadata": {},
   "source": [
    "In Python, identifiers are case-sensitive and cannot contain spaces, so programmers use different naming conventions for multi-word identifiers.\n",
    "\n",
    "- Snake case (snake_case): Words are separated by underscores (_), resembling a snake slithering between words. All letters are lowercase, while constants are often written in UPPER_SNAKE_CASE.\n",
    "- Camel case (camelCase): The first word is in lowercase, while subsequent words start with an uppercase letter, resembling camel humps.\n",
    "- Pascal case (PascalCase): Similar to camel case, but the first word also starts with an uppercase letter. It is named after the Pascal programming language.\n",
    "\n",
    "Snake case and camel case are the most commonly used. While any convention can be chosen, only one should be used consistently within a project."
   ]
  },
  {
   "cell_type": "markdown",
   "metadata": {},
   "source": [
    "**PEP 8 (Chapter 3) provides guidelines for naming in Python:**\n",
    "\n",
    "- Use ASCII letters (uppercase and lowercase) without diacritics.\n",
    "- Module names should be short and in lowercase.\n",
    "- Class names should follow PascalCase.\n",
    "- Constants should be in UPPER_SNAKE_CASE.\n",
    "- Functions, methods, and variable names should be in snake_case.\n",
    "- The first argument of instance methods should always be self (lowercase).\n",
    "- The first argument of class methods should always be cls (lowercase).\n",
    "- Private class attributes should start with an underscore (_).\n",
    "- Public class attributes should not start with an underscore.\n"
   ]
  },
  {
   "cell_type": "markdown",
   "metadata": {},
   "source": [
    "**Python Naming Best Practices**\n",
    "\n",
    "- Avoid names that are too short (g, mon) or unclear (start).\n",
    "- Longer, meaningful names improve readability (salesClientMonthlyPayment).\n",
    "- Loop indices (i, j, k) and coordinates (x, y) are acceptable short names.\n",
    "- No unnecessary prefixes (Cat.weight, not catWeight).\n",
    "- Avoid Hungarian notation (strName, iVacationDays).\n",
    "- Use is_ / has_ for booleans (is_vehicle, has_key()).\n",
    "- Include units (weight_kg) to prevent errors."
   ]
  },
  {
   "cell_type": "markdown",
   "metadata": {},
   "source": [
    "**Avoid Overwriting Built-in Names in Python**\n",
    "\n",
    "- Do not use built-in names (list, set, open, sum, etc.) for variables.\n",
    "- Check if a name is built-in by typing it in the Python shell.\n",
    "- Avoid naming .py files after existing modules, e.g., pyperclip.py, as it may override the actual module.\n",
    "- Unexpected AttributeError can indicate accidental overwriting."
   ]
  }
 ],
 "metadata": {
  "language_info": {
   "name": "python"
  }
 },
 "nbformat": 4,
 "nbformat_minor": 2
}
