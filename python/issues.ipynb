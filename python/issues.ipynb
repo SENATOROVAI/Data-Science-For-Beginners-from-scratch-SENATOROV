{
 "cells": [
  {
   "cell_type": "code",
   "execution_count": null,
   "metadata": {},
   "outputs": [],
   "source": [
    "\"\"\"Ответы на вопросы по теме: \"Issues\".\"\"\""
   ]
  },
  {
   "cell_type": "markdown",
   "metadata": {},
   "source": [
    "Общие вопросы\n",
    "Что такое Issues на GitHub и для чего они используются?\n",
    "Чтобы объяснить часть кода, пофиксить баг, улучшить код"
   ]
  },
  {
   "cell_type": "markdown",
   "metadata": {},
   "source": [
    "Чем Issues отличаются от других инструментов управления задачами?\n",
    "Тем что привязаны к коммиту"
   ]
  },
  {
   "cell_type": "markdown",
   "metadata": {},
   "source": [
    "Какие основные компоненты (поля) есть у каждого Issue?\n",
    "Title, Description, Type, Priority, Assignee, Milestone"
   ]
  },
  {
   "cell_type": "markdown",
   "metadata": {},
   "source": [
    "Создание Issues\n",
    "Как создать новое Issue в репозитории?\n",
    "Issues >> New Issue >> Fill Title, Description, Assignee, Milestone, Type >> Create Issue\n",
    "Запостить в телеграм ссылку на ишью + #issue #open @name на ком ошибка"
   ]
  },
  {
   "cell_type": "markdown",
   "metadata": {},
   "source": [
    "Какие данные рекомендуется указывать в описании Issue для лучшего понимания задачи?\n",
    "Описать проблему, expected result, если баг то шаги воспроизведения"
   ]
  },
  {
   "cell_type": "markdown",
   "metadata": {},
   "source": [
    "Какие теги (labels) можно добавить к Issue? Какие из них стандартные?\n",
    "bug, question, enhancement, documentation, help wanted, wontfix, high-priority, frontend, mobile\n"
   ]
  },
  {
   "cell_type": "markdown",
   "metadata": {},
   "source": [
    "Как прикрепить Assignees (ответственных) к Issue?\n",
    "В правой боковой панели - Assignees, ввести имя, Submit"
   ]
  },
  {
   "cell_type": "markdown",
   "metadata": {},
   "source": [
    "Работа с Issues\n",
    "Как использовать Labels для классификации задач?\n",
    "Для бага, Для новой функции, Выделение срочных задач (critical, high-priority)"
   ]
  },
  {
   "cell_type": "markdown",
   "metadata": {},
   "source": [
    "Для чего нужен Milestone, и как связать его с Issue?\n",
    "Для отслеживания дедлайна"
   ]
  },
  {
   "cell_type": "markdown",
   "metadata": {},
   "source": [
    "Как привязать Issue к пул-реквесту (Pull Request)?\n",
    "Зайти в этот репозиторий -- создать новый ишью -- Submit"
   ]
  },
  {
   "cell_type": "markdown",
   "metadata": {},
   "source": [
    "Как добавить комментарий к существующему Issue?\n",
    "Перейти на вкладку Ишьюс -- оставить коммент, вставить #ишьюса, Comment"
   ]
  },
  {
   "cell_type": "markdown",
   "metadata": {},
   "source": [
    "Закрытие и завершение Issues\n",
    "Как закрыть Issue вручную?\n",
    "Добавьте в комментарий ключевое слово Close, Closes #issue\n",
    "Второй способ на вкладке Issue click Close button"
   ]
  },
  {
   "cell_type": "markdown",
   "metadata": {},
   "source": [
    "Можно ли автоматически закрыть Issue с помощью сообщения в коммите или пул-реквесте? Как это сделать?\n",
    "Да. Копировать полностью тайтл ишьюса, в круглых скобочках #issue. In description: Closes #issue. Click the Sign off and commit changes button. Зайти в телеграм, reply on message Closed"
   ]
  },
  {
   "cell_type": "markdown",
   "metadata": {},
   "source": [
    "Как повторно открыть закрытое Issue, если работа ещё не завершена?\n",
    "Через интерфейс, Reopen issue.\n",
    "Через Pull Request: Откройте новый PR, Свяжите его с тем же Issue, добавив в описание: Reopens #123, Или отредактируйте старый PR:\n",
    "Удалите ключевые слова Closes/Fixes из его описания → Issue автоматически откроется."
   ]
  },
  {
   "cell_type": "markdown",
   "metadata": {},
   "source": [
    "Фильтрация и поиск\n",
    "Как найти все открытые или закрытые Issues в репозитории?\n",
    "Откройте вкладку Issues\n",
    "Фильтр по статусу.\n",
    "Или\n",
    "через поисковую строку Issues: is open"
   ]
  },
  {
   "cell_type": "markdown",
   "metadata": {},
   "source": [
    "Как использовать фильтры для поиска Issues по меткам, исполнителям или другим критериям?\n",
    "Перейдите в репозиторий >> Issues >> нажмите Filters по меткам, исполнителям или другим критериям"
   ]
  },
  {
   "cell_type": "markdown",
   "metadata": {},
   "source": [
    "Как сортировать Issues по приоритету, дате создания или другим параметрам?\n",
    "Перейдите в репозиторий >> Issues >> select Milestone, Labels .."
   ]
  },
  {
   "cell_type": "markdown",
   "metadata": {},
   "source": [
    "Интеграции и автоматизация\n",
    "Как настроить автоматические уведомления о новых или изменённых Issues?\n",
    "В Notification Settings выберите:\n",
    "\n",
    "Email или Web-уведомления.\n",
    "\n",
    "Фильтры: Participating (только упомянутые) или All Activity.\n",
    "ИЛИ\n",
    "Откройте репозиторий на GitHub, за которым хотите следить.\n",
    "\n",
    "В верхней правой части страницы (рядом с кнопками Star и Fork) найдите выпадающее меню Watch."
   ]
  },
  {
   "cell_type": "markdown",
   "metadata": {},
   "source": [
    "Что такое Projects в контексте GitHub, и как связать их с Issues?\n",
    "GitHub Projects — это гибкий инструмент для управления задачами в формате канбан-досок или таблиц, который помогает организовать работу над Issues, Pull Requests и другими элементами проекта. Связь между Projects и Issues позволяет визуализировать прогресс, планировать спринты и отслеживать статусы задач.\n",
    "Как связать Projects с Issues\n",
    "Способ 1: Через интерфейс Projects\n",
    "Создайте проект:\n",
    "\n",
    "В репозитории или организации → вкладка Projects -- New Project.\n",
    "\n",
    "Выберите тип: Table (рекомендуется) или Board.\n",
    "\n",
    "Добавьте Issues в проект:\n",
    "\n",
    "Нажмите + Add item → выберите Issue → начните вводить номер или название Issue.\n",
    "\n",
    "Или перетащите Issue из списка в нужный столбец.\n",
    "Способ 2: Через карточку Issue\n",
    "Откройте Issue → в правой боковой панели найдите Projects.\n",
    "\n",
    "Выберите проект → укажите статус (столбец)."
   ]
  },
  {
   "cell_type": "markdown",
   "metadata": {},
   "source": [
    "Какие сторонние инструменты можно использовать для автоматизации работы с Issues (например, боты, Webhooks)?\n",
    "CI/CD-интеграции, боты, Jira, Отправки уведомлений в Telegram/Discord при новых Issues"
   ]
  },
  {
   "cell_type": "markdown",
   "metadata": {},
   "source": [
    "Коллаборация\n",
    "Как упомянуть другого пользователя в комментарии к Issue?\n",
    "Assignee"
   ]
  },
  {
   "cell_type": "markdown",
   "metadata": {},
   "source": [
    "Как запросить дополнительные данные или уточнения у автора Issue?\n",
    "Написать комент и исп @username, чтобы автор получил уведомление"
   ]
  },
  {
   "cell_type": "markdown",
   "metadata": {},
   "source": [
    "Что делать, если Issue неактуально или его нужно объединить с другим?\n",
    "Закройте Issue с пояснением (@username, спасибо за Issue! Проблема больше неактуальна, так как:  \n",
    "- Баг был исправлен в PR #123.  \n",
    "- Функциональность устарела.  \n",
    "Закрываю задачу. Если проблема возникнет снова, дайте знать! )\n",
    "Если Issue нужно объединить с другим:\n",
    "Укажите связанный Issue\n",
    "Напишите комментарий: @username, это Issue дублирует #456. Продолжим обсуждение там.\n",
    "Закройте текущий Issue:\n",
    "\n",
    "На GitHub/GitLab: Используйте ключевое слово Duplicate of #456.\n",
    "\n",
    "В Jira: Укажите связь через Linked Issues → Duplicate.\n",
    "\n",
    "Добавьте метку duplicate."
   ]
  },
  {
   "cell_type": "markdown",
   "metadata": {},
   "source": [
    "Практические аспекты\n",
    "Как использовать шаблоны для создания Issues?\n",
    "Создание шаблонов\n",
    "В репозитории создайте папку .github/ISSUE_TEMPLATE/.\n",
    "\n",
    "Добавьте файлы шаблонов в формате .md. Например:\n",
    "\n",
    "bug_report.md для багов.\n",
    "\n",
    "feature_request.md для новых функций.\n",
    "\n",
    "Пример шаблона для багов (bug_report.md)"
   ]
  },
  {
   "cell_type": "markdown",
   "metadata": {},
   "source": [
    "Что такое Linked Issues, и как создать связь между задачами?\n",
    "Связи между задачами: Например, одна задача блокирует другую или является её частью.\n",
    "Через комментарий:\n",
    "Упомяните связанную задачу в описании или комментарии\n",
    "Через интерфейс:\n",
    "\n",
    "Откройте Issue → в правой боковой панели найдите Linked Issues."
   ]
  },
  {
   "cell_type": "markdown",
   "metadata": {},
   "source": [
    "Какие метрики (например, время выполнения) можно отслеживать с помощью Issues?\n",
    "is:open, is:closed\n",
    "assignee:username\n",
    "author\n",
    "label\n",
    "Перейдите в репозиторий → вкладка Insights → Contributors.\n",
    "\n",
    "Здесь можно увидеть активность по Issues, PR и коммитам."
   ]
  },
  {
   "cell_type": "markdown",
   "metadata": {},
   "source": [
    "Какие best practices рекомендуются при работе с Issues в команде?\n",
    "Создание и оформление Issue\n",
    "Четкий заголовок – Должен быть кратким и понятным, отражать суть задачи или проблемы.\n",
    "Подробное описание – Используйте Markdown, списки, ссылки и скриншоты, чтобы сделать описание максимально информативным.\n",
    "Определение ожиданий – Укажите четкие критерии выполнения (Definition of Done).\n",
    "Использование шаблонов – GitHub поддерживает Issue Templates, которые помогают стандартизировать создание задач.\n",
    "Использование метрик, майлстоунов, асайни\n",
    "Ссылайтесь на коммиты и PR – Используйте #номер_issue в коммитах и pull request'ах, чтобы автоматически связывать их с задачей.\n",
    "Добавляйте итоговый комментарий – Опишите, как была решена проблема, чтобы коллеги могли понять, что изменилось."
   ]
  }
 ],
 "metadata": {
  "language_info": {
   "name": "python"
  }
 },
 "nbformat": 4,
 "nbformat_minor": 2
}
