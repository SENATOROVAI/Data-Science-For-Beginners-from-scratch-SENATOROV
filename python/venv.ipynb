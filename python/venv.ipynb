{
 "cells": [
  {
   "cell_type": "code",
   "execution_count": null,
   "id": "06f285be",
   "metadata": {
    "vscode": {
     "languageId": "plaintext"
    }
   },
   "outputs": [],
   "source": [
    "\"\"\"venv.\"\"\""
   ]
  },
  {
   "cell_type": "markdown",
   "id": "5fffad32",
   "metadata": {},
   "source": [
    "1. Что делает команда python -m venv venv?\n",
    "- Создаёт виртуальное окружение с именем 'venv'\n",
    "1.1 Что делает каждая команда в списке ниже?\n",
    "- pip list - Выводит список зависимостей \n",
    "- pip freeze > requirements.txt - Сохраняет существующие зависимости в файл requirements.txt\n",
    "- pip install -r requirements.txt - Устанавливает все зависимости, содержащиеся в файле requirements.txt\n",
    "2. Что делает каждая команда в списке ниже?\n",
    "- conda env list - Выводит список всех окружений conda\n",
    "- conda create -n env_name python=3.5 - Создаёт виртуальное окружение с именем env_name и версией Python 3.5\n",
    "- conda env update -n env_name -f file.yml - Обновляет окружение env_name из yaml-файла\n",
    "- source activate env_name - Активирует виртуальное окружение env_name\n",
    "- source deactivate - Деактивирует окружение\n",
    "- conda clean -a - удаляет неиспользуемые пакеты и кэш\n",
    "3. вставьте скрин вашего терминала, где вы активировали сначала venv, потом conda, назовите окружение \"SENATOROV\"\n",
    "- ![](capture_20250910213711867.bmp)\n",
    "- ![](capture_20250910215309379.bmp)\n",
    "![](capture_20250910215201634.bmp)\n",
    "4. Как установить необходимые пакеты внутрь виртуального окружения для conda/venv?\n",
    "- conda install package_name или conda env update -f environment.yml или с помощью интерфейса в Anaconda Navigator\n",
    "5. Что делают эти команды?\n",
    "- pip freeze > requirements.txt - Сохраняет существующие зависимости в файл requirements.txt\n",
    "- conda env export > environment.yml - Экспортирует окружение conda в yaml-файл\n",
    "5.1 вставьте скрин, где будет видна папка VENV в вашем репозитории а также файлы зависимостей requirements.txt и environment.yml, файлы должны содержать зависимости\n",
    "- ![](capture_20250910220332317.bmp)\n",
    "6. Что делают эти команды?\n",
    "- pip install -r requirements.txt - Устанавливает все зависимости из файла requirements.txt\n",
    "- conda env create -f environment.yml - Создаёт окружение из yaml-файла\n",
    "7. Что делают эти команды?\n",
    "- pip list - Выводит список установленных пакетов\n",
    "- pip show - Выводит информацию о пакете\n",
    "- conda list - Выводит список пакетов в окружении conda\n",
    "8. Где по умолчанию больше пакетов venv/pip или conda? и почему дата сайентисты используют conda?\n",
    "- По умолчанию больше пакетов в conda. Дата сайентисты используют conda из-за большого количества предустановленных необходимых пакетов и из-за удобства управления средами\n",
    "9. вставьте скрин где будет видно, Выбор интерпретатора Python (conda) в VS Code/cursor\n",
    "- ![](capture_20250910220952281.bmp)\n",
    "10. добавьте в .gitignore папку SENATOROV\n",
    "- Добавил\n",
    "11. Зачем нужно виртуально окружение?\n",
    "- Виртуальное окружение нужно для изоляции зависимостей проекта, чтобы избежать конфликтов версий пакетов\n",
    "12. С этого момента надо работать в виртуальном окружении conda, ты научился(-ась) выгружать зависимости и работать с окружением?\n",
    "- Да\n",
    "13. Удалите папку VENV, она больше не нужна, мы же не разрабы, нам нужна только conda\n",
    "- Удалил"
   ]
  }
 ],
 "metadata": {
  "language_info": {
   "name": "python"
  }
 },
 "nbformat": 4,
 "nbformat_minor": 5
}
