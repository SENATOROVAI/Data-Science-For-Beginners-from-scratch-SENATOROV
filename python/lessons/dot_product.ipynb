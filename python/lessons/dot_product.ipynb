{
 "cells": [
  {
   "cell_type": "code",
   "execution_count": null,
   "metadata": {},
   "outputs": [],
   "source": [
    "\"\"\"Dot product.\"\"\""
   ]
  },
  {
   "cell_type": "code",
   "execution_count": 1,
   "metadata": {},
   "outputs": [
    {
     "data": {
      "text/plain": [
       "list"
      ]
     },
     "execution_count": 1,
     "metadata": {},
     "output_type": "execute_result"
    }
   ],
   "source": [
    "import numpy as np\n",
    "\n",
    "# предположим мы записали данные\n",
    "# роста, веса и обхвата шеи одного человека в список\n",
    "data = [1.72, 54, 36.2]\n",
    "\n",
    "# убедимся, что это список с помощью функции type()\n",
    "type(data)"
   ]
  },
  {
   "cell_type": "code",
   "execution_count": null,
   "id": "397044ef",
   "metadata": {},
   "outputs": [
    {
     "data": {
      "text/plain": [
       "array([ 1.72, 54.  , 36.2 ])"
      ]
     },
     "execution_count": 2,
     "metadata": {},
     "output_type": "execute_result"
    }
   ],
   "source": [
    "# преобразуем список в массив Numpy\n",
    "data_numpy = np.array(data)\n",
    "data_numpy"
   ]
  },
  {
   "cell_type": "code",
   "execution_count": 3,
   "id": "0e1a72b6",
   "metadata": {},
   "outputs": [
    {
     "data": {
      "text/plain": [
       "array([[ 1.72, 54.  , 36.2 ],\n",
       "       [ 1.74, 58.  , 36.3 ],\n",
       "       [ 1.68, 52.  , 32.9 ]])"
      ]
     },
     "execution_count": 3,
     "metadata": {},
     "output_type": "execute_result"
    }
   ],
   "source": [
    "# если у нас несколько наблюдений, то нужна матрица, т.е.\n",
    "# по сути, несколько векторов\n",
    "data_matrix = np.array([[1.72, 54, 36.2], [1.74, 58, 36.3], [1.68, 52, 32.9]])\n",
    "data_matrix"
   ]
  },
  {
   "cell_type": "code",
   "execution_count": 4,
   "id": "4e9486e9",
   "metadata": {},
   "outputs": [
    {
     "data": {
      "text/plain": [
       "(3, 3)"
      ]
     },
     "execution_count": 4,
     "metadata": {},
     "output_type": "execute_result"
    }
   ],
   "source": [
    "# мы можем посмотреть размерность матрицы (количество строк и столбцов)\n",
    "data_matrix.shape"
   ]
  },
  {
   "cell_type": "code",
   "execution_count": null,
   "id": "a027f730",
   "metadata": {},
   "outputs": [
    {
     "data": {
      "text/plain": [
       "36.8592"
      ]
     },
     "execution_count": 6,
     "metadata": {},
     "output_type": "execute_result"
    }
   ],
   "source": [
    "# даны два вектора в виде массивов Numpy\n",
    "\n",
    "a_val = np.array([1.72, 54])  # вектор данных\n",
    "w_val = np.array([19.86, 0.05])  # вектор весов\n",
    "\n",
    "# перемножим их вручную\n",
    "1.72 * 19.86 + 54 * 0.05"
   ]
  },
  {
   "cell_type": "code",
   "execution_count": null,
   "id": "015a3df6",
   "metadata": {},
   "outputs": [
    {
     "data": {
      "text/plain": [
       "np.float64(36.8592)"
      ]
     },
     "execution_count": 7,
     "metadata": {},
     "output_type": "execute_result"
    }
   ],
   "source": [
    "# используем скалярное произведение векторов\n",
    "np.dot(a_val, w_val)"
   ]
  },
  {
   "cell_type": "code",
   "execution_count": null,
   "id": "ed5b8a8a",
   "metadata": {},
   "outputs": [
    {
     "name": "stdout",
     "output_type": "stream",
     "text": [
      "\u001b[1;31mCall signature:\u001b[0m  \u001b[0mnp\u001b[0m\u001b[1;33m.\u001b[0m\u001b[0mdot\u001b[0m\u001b[1;33m(\u001b[0m\u001b[1;33m*\u001b[0m\u001b[0margs\u001b[0m\u001b[1;33m,\u001b[0m \u001b[1;33m**\u001b[0m\u001b[0mkwargs\u001b[0m\u001b[1;33m)\u001b[0m\u001b[1;33m\u001b[0m\u001b[1;33m\u001b[0m\u001b[0m\n",
      "\u001b[1;31mType:\u001b[0m            _ArrayFunctionDispatcher\n",
      "\u001b[1;31mString form:\u001b[0m     <built-in function dot>\n",
      "\u001b[1;31mDocstring:\u001b[0m      \n",
      "dot(a, b, out=None)\n",
      "\n",
      "Dot product of two arrays. Specifically,\n",
      "\n",
      "- If both `a` and `b` are 1-D arrays, it is inner product of vectors\n",
      "  (without complex conjugation).\n",
      "\n",
      "- If both `a` and `b` are 2-D arrays, it is matrix multiplication,\n",
      "  but using :func:`matmul` or ``a @ b`` is preferred.\n",
      "\n",
      "- If either `a` or `b` is 0-D (scalar), it is equivalent to\n",
      "  :func:`multiply` and using ``numpy.multiply(a, b)`` or ``a * b`` is\n",
      "  preferred.\n",
      "\n",
      "- If `a` is an N-D array and `b` is a 1-D array, it is a sum product over\n",
      "  the last axis of `a` and `b`.\n",
      "\n",
      "- If `a` is an N-D array and `b` is an M-D array (where ``M>=2``), it is a\n",
      "  sum product over the last axis of `a` and the second-to-last axis of\n",
      "  `b`::\n",
      "\n",
      "    dot(a, b)[i,j,k,m] = sum(a[i,j,:] * b[k,:,m])\n",
      "\n",
      "It uses an optimized BLAS library when possible (see `numpy.linalg`).\n",
      "\n",
      "Parameters\n",
      "----------\n",
      "a : array_like\n",
      "    First argument.\n",
      "b : array_like\n",
      "    Second argument.\n",
      "out : ndarray, optional\n",
      "    Output argument. This must have the exact kind that would be returned\n",
      "    if it was not used. In particular, it must have the right type, must be\n",
      "    C-contiguous, and its dtype must be the dtype that would be returned\n",
      "    for `dot(a,b)`. This is a performance feature. Therefore, if these\n",
      "    conditions are not met, an exception is raised, instead of attempting\n",
      "    to be flexible.\n",
      "\n",
      "Returns\n",
      "-------\n",
      "output : ndarray\n",
      "    Returns the dot product of `a` and `b`.  If `a` and `b` are both\n",
      "    scalars or both 1-D arrays then a scalar is returned; otherwise\n",
      "    an array is returned.\n",
      "    If `out` is given, then it is returned.\n",
      "\n",
      "Raises\n",
      "------\n",
      "ValueError\n",
      "    If the last dimension of `a` is not the same size as\n",
      "    the second-to-last dimension of `b`.\n",
      "\n",
      "See Also\n",
      "--------\n",
      "vdot : Complex-conjugating dot product.\n",
      "vecdot : Vector dot product of two arrays.\n",
      "tensordot : Sum products over arbitrary axes.\n",
      "einsum : Einstein summation convention.\n",
      "matmul : '@' operator as method with out parameter.\n",
      "linalg.multi_dot : Chained dot product.\n",
      "\n",
      "Examples\n",
      "--------\n",
      ">>> import numpy as np\n",
      ">>> np.dot(3, 4)\n",
      "12\n",
      "\n",
      "Neither argument is complex-conjugated:\n",
      "\n",
      ">>> np.dot([2j, 3j], [2j, 3j])\n",
      "(-13+0j)\n",
      "\n",
      "For 2-D arrays it is the matrix product:\n",
      "\n",
      ">>> a = [[1, 0], [0, 1]]\n",
      ">>> b = [[4, 1], [2, 2]]\n",
      ">>> np.dot(a, b)\n",
      "array([[4, 1],\n",
      "       [2, 2]])\n",
      "\n",
      ">>> a = np.arange(3*4*5*6).reshape((3,4,5,6))\n",
      ">>> b = np.arange(3*4*5*6)[::-1].reshape((5,4,6,3))\n",
      ">>> np.dot(a, b)[2,3,2,1,2,2]\n",
      "499128\n",
      ">>> sum(a[2,3,2,:] * b[1,2,:,2])\n",
      "499128\n",
      "\u001b[1;31mClass docstring:\u001b[0m\n",
      "Class to wrap functions with checks for __array_function__ overrides.\n",
      "\n",
      "All arguments are required, and can only be passed by position.\n",
      "\n",
      "Parameters\n",
      "----------\n",
      "dispatcher : function or None\n",
      "    The dispatcher function that returns a single sequence-like object\n",
      "    of all arguments relevant.  It must have the same signature (except\n",
      "    the default values) as the actual implementation.\n",
      "    If ``None``, this is a ``like=`` dispatcher and the\n",
      "    ``_ArrayFunctionDispatcher`` must be called with ``like`` as the\n",
      "    first (additional and positional) argument.\n",
      "implementation : function\n",
      "    Function that implements the operation on NumPy arrays without\n",
      "    overrides.  Arguments passed calling the ``_ArrayFunctionDispatcher``\n",
      "    will be forwarded to this (and the ``dispatcher``) as if using\n",
      "    ``*args, **kwargs``.\n",
      "\n",
      "Attributes\n",
      "----------\n",
      "_implementation : function\n",
      "    The original implementation passed in."
     ]
    }
   ],
   "source": [
    "# np.dot?\n",
    "\n",
    "#  2-D arrays [[1,2,3]] matrix multiplication a@b\n",
    "#  1-D [1,2,3]\n",
    "\n",
    "# - If both `a` and `b` are 1-D arrays, it is inner product of vectors\n",
    "#   (without complex conjugation).\n",
    "\n",
    "# - If both `a` and `b` are 2-D arrays, it is matrix multiplication,\n",
    "#   but using :func:`matmul` or ``a @ b`` is preferred.\n",
    "\n",
    "# - If either `a` or `b` is 0-D (scalar), it is equivalent to\n",
    "#   :func:`multiply` and using ``numpy.multiply(a, b)`` or ``a * b`` is\n",
    "#   preferred.\n",
    "\n",
    "# - If `a` is an N-D array and `b` is a 1-D array, it is a sum product over\n",
    "#   the last axis of `a` and `b`.\n",
    "\n",
    "# - If `a` is an N-D array and `b` is an M-D array (where ``M>=2``), it is a\n",
    "#   sum product over the last axis of `a` and the second-to-last axis of\n",
    "#   `b`::"
   ]
  },
  {
   "cell_type": "code",
   "execution_count": null,
   "id": "c00ae042",
   "metadata": {},
   "outputs": [
    {
     "data": {
      "text/plain": [
       "np.float64(0.9997468709497721)"
      ]
     },
     "execution_count": 9,
     "metadata": {},
     "output_type": "execute_result"
    }
   ],
   "source": [
    "# даны два вектора (данные двух человек)\n",
    "# нужно понять, насколько они схожи\n",
    "b_val = np.array([1.72, 54, 36.2])\n",
    "c_val = np.array([1.56, 47, 30.0])\n",
    "\n",
    "# вначале выполним операции в числителе формулы\n",
    "numerator = np.dot(b_val, c_val)\n",
    "\n",
    "# теперь займемся знаменателем и\n",
    "# (1) рассчитаем длины (по большому счету, это теорема Пифагора)\n",
    "b_len = np.linalg.norm(b_val)\n",
    "c_len = np.linalg.norm(c_val)\n",
    "\n",
    "# (2) перемножим их\n",
    "denominator = b_len * c_len\n",
    "\n",
    "# посмотрим, чему равен косинус угла между векторами\n",
    "cosine = numerator / denominator\n",
    "cosine"
   ]
  },
  {
   "cell_type": "code",
   "execution_count": null,
   "id": "d844cee1",
   "metadata": {},
   "outputs": [
    {
     "data": {
      "text/plain": [
       "np.float64(1.2891925481394304)"
      ]
     },
     "execution_count": 11,
     "metadata": {},
     "output_type": "execute_result"
    }
   ],
   "source": [
    "# для этого вначале вычислим угол в радианах\n",
    "angle_radians = np.arccos(cosine)\n",
    "\n",
    "# затем в градусах\n",
    "angle_degrees = angle_radians * 360 / 2 / np.pi\n",
    "angle_degrees\n",
    "# угол чрезвычайно мал, а значит векторы очень близки друг к другу.\n",
    "# при построении рекомендательных систем для сопутствующих\n",
    "# товаров в интернет-магазине."
   ]
  }
 ],
 "metadata": {
  "kernelspec": {
   "display_name": "myenv",
   "language": "python",
   "name": "python3"
  },
  "language_info": {
   "codemirror_mode": {
    "name": "ipython",
    "version": 3
   },
   "file_extension": ".py",
   "mimetype": "text/x-python",
   "name": "python",
   "nbconvert_exporter": "python",
   "pygments_lexer": "ipython3",
   "version": "3.10.16"
  }
 },
 "nbformat": 4,
 "nbformat_minor": 5
}
