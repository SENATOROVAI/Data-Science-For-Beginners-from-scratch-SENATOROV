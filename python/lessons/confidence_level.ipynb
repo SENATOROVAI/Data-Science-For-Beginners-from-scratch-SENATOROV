{
 "cells": [
  {
   "cell_type": "code",
   "execution_count": 18,
   "metadata": {},
   "outputs": [
    {
     "data": {
      "text/plain": [
       "'Confidence level.'"
      ]
     },
     "execution_count": 18,
     "metadata": {},
     "output_type": "execute_result"
    }
   ],
   "source": [
    "\"\"\"Confidence level.\"\"\""
   ]
  },
  {
   "cell_type": "code",
   "execution_count": 19,
   "id": "96f37c72",
   "metadata": {},
   "outputs": [],
   "source": [
    "# Доверительный интервал (ДИ) — это диапазон значений, содержащий истинное\n",
    "# значение того, что мы пытаемся измерить, например, средний рост учащихся или\n",
    "# средний доход населения"
   ]
  },
  {
   "cell_type": "code",
   "execution_count": 20,
   "id": "d0f4a483",
   "metadata": {},
   "outputs": [],
   "source": [
    "# Z -тест — это тип проверки гипотезы,\n",
    "# который сравнивает среднее значение выборки со средним значением генеральной\n",
    "# совокупности и вычисляет Z-счет и сообщает нам, насколько среднее значение\n",
    "# выборки отличается от среднего значения генеральной совокупности,\n",
    "# рассматривая, насколько данные обычно варьируются . Это особенно полезно,\n",
    "# когда размер выборки большой >30. Этот Z-счет также известен как формула\n",
    "# Z-статистики"
   ]
  },
  {
   "cell_type": "code",
   "execution_count": 21,
   "id": "a812052e",
   "metadata": {},
   "outputs": [],
   "source": [
    "# Мы используем t-тест, чтобы проверить, есть ли существенная разница в\n",
    "# средних результатах тестов между ними."
   ]
  },
  {
   "cell_type": "code",
   "execution_count": 22,
   "id": "2efbd8c7",
   "metadata": {},
   "outputs": [],
   "source": [
    "# Уровень уверенности говорит нам, насколько мы уверены, что истинное значение\n",
    "# находится в пределах вычисленного диапазона. Если нам придется повторять\n",
    "# процесс выборки много раз, мы ожидаем, что определенный процент этих\n",
    "# интервалов будет включать истинное значение.\n",
    "# 1-alpha - уровень значисмости(confidence level)\n",
    "# alpha dy default = 0.05"
   ]
  },
  {
   "cell_type": "markdown",
   "id": "fd42168e",
   "metadata": {},
   "source": [
    "Почему доверительные интервалы важны в науке о данных?\n",
    "\n",
    "    Они помогают измерить неопределенность прогнозов и оценок.\n",
    "    С помощью этих данных ученые получают надежные результаты, а не просто дают одно число.\n",
    "    Они широко используются в A/B-тестировании, машинном обучении и анализе опросов."
   ]
  },
  {
   "cell_type": "code",
   "execution_count": 23,
   "id": "24453593",
   "metadata": {},
   "outputs": [],
   "source": [
    "# Step 1: Identify the sample problem.\n",
    "\n",
    "# Define the population parameter you want to estimate e.g., mean height of\n",
    "# students. Choose the right statistic such as the sample mean.\n",
    "# Step 2: Select a confidence level.\n",
    "\n",
    "# In this step we select the confidence level some common choices are 90%, 95%\n",
    "# or 99%. It represents how sure we are about our estimate."
   ]
  },
  {
   "cell_type": "code",
   "execution_count": 24,
   "id": "d8f29bbf",
   "metadata": {},
   "outputs": [],
   "source": [
    "# Step 3: Find the margin of error.\n",
    "\n",
    "# To find the Margin of Error, you use the formula:\n",
    "#     Margin of Error = Critical Value × Standard Error\n",
    "\n",
    "#     Critical Value: Found using Z-tables (for large samples) or T-tables\n",
    "# (for small samples).\n",
    "#     Standard Error (SE): Measures how much the sample mean varies.\n",
    "\n",
    "#     SE = std / sqrt(n)\n",
    "\n",
    "# Combine these to get your Margin of Error the amount you add/subtract from\n",
    "# your estimate to create a range.\n",
    "\n",
    "# Step 4: Specify the confidence interval.\n",
    "# To find a Confidence Interval, we use this formula:\n",
    "\n",
    "#      Confidence Interval = Point Estimate ± Margin of Error\n",
    "\n",
    "#     The Point Estimate is usually your sample mean.\n",
    "#     Adding and subtracting the margin of error gives the range where the\n",
    "# true value is likely to be."
   ]
  },
  {
   "cell_type": "markdown",
   "id": "37884cf9",
   "metadata": {},
   "source": [
    "Some Key Takeaways from Confidence Interval are:\n",
    "\n",
    "    Confidence Intervals are essential in data science to find the uncertainty of estimates and make predictions more reliable.\n",
    "    t-distribution is used for small sample sizes (n < 30) while z-distribution is used for large sample sizes (n > 30).\n",
    "    Confidence intervals help to make data-driven decisions by providing a range instead of a single point estimate. This is especially important in A/B testing, market research and machine learning."
   ]
  },
  {
   "cell_type": "code",
   "execution_count": null,
   "id": "07a110b0",
   "metadata": {},
   "outputs": [],
   "source": [
    "import math\n",
    "\n",
    "import numpy as np\n",
    "from scipy import stats"
   ]
  },
  {
   "cell_type": "code",
   "execution_count": null,
   "id": "fad46d80",
   "metadata": {},
   "outputs": [
    {
     "name": "stdout",
     "output_type": "stream",
     "text": [
      "Confidence Interval: (222.12, 257.88)\n"
     ]
    }
   ],
   "source": [
    "def calculate_t_test() -> None:\n",
    "    \"\"\"Calculate of t-test.\"\"\"\n",
    "    mean = 240\n",
    "    std = 25\n",
    "    n = 10\n",
    "    df = n - 1\n",
    "    alpha = 0.025\n",
    "    t = stats.t.ppf(1 - alpha, df)\n",
    "\n",
    "    moe = t * (std / math.sqrt(n))\n",
    "\n",
    "    lower = mean - moe\n",
    "    upper = mean + moe\n",
    "\n",
    "    print(f\"Confidence Interval: ({lower:.2f}, {upper:.2f})\")\n",
    "\n",
    "\n",
    "calculate_t_test()"
   ]
  },
  {
   "cell_type": "code",
   "execution_count": null,
   "id": "7f2e0045",
   "metadata": {},
   "outputs": [
    {
     "name": "stdout",
     "output_type": "stream",
     "text": [
      "Confidence Interval: (4.480, 4.780)\n"
     ]
    }
   ],
   "source": [
    "def calculate_z_test() -> None:\n",
    "    \"\"\"Calculate z-test.\"\"\"\n",
    "    mean = 4.63\n",
    "    std_dev = 0.54\n",
    "    n = 50\n",
    "    z = 1.960\n",
    "\n",
    "    se = std_dev / np.sqrt(n)\n",
    "    moe = z * se\n",
    "\n",
    "    lower = mean - moe\n",
    "    upper = mean + moe\n",
    "\n",
    "    print(f\"Confidence Interval: ({lower:.3f}, {upper:.3f})\")\n",
    "\n",
    "\n",
    "calculate_z_test()"
   ]
  }
 ],
 "metadata": {
  "kernelspec": {
   "display_name": "myenv",
   "language": "python",
   "name": "myenv"
  },
  "language_info": {
   "codemirror_mode": {
    "name": "ipython",
    "version": 3
   },
   "file_extension": ".py",
   "mimetype": "text/x-python",
   "name": "python",
   "nbconvert_exporter": "python",
   "pygments_lexer": "ipython3",
   "version": "3.11.0"
  }
 },
 "nbformat": 4,
 "nbformat_minor": 5
}
