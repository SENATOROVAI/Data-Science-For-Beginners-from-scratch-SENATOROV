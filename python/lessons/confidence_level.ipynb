{
 "cells": [
  {
   "cell_type": "code",
   "execution_count": null,
   "metadata": {},
   "outputs": [],
   "source": [
    "\"\"\"Confidence level.\"\"\""
   ]
  },
  {
   "cell_type": "code",
   "execution_count": null,
   "metadata": {},
   "outputs": [],
   "source": [
    "# Доверительный интервал (ДИ) — это диапазон значений, содержащий истинное\n",
    "# значение того, что мы пытаемся измерить, например, средний рост учащихся или\n",
    "# средний доход населения"
   ]
  },
  {
   "cell_type": "code",
   "execution_count": null,
   "id": "d0f4a483",
   "metadata": {},
   "outputs": [],
   "source": [
    "# Z -тест — это тип проверки гипотезы,\n",
    "# который сравнивает среднее значение выборки со средним значением генеральной\n",
    "# совокупности и вычисляет Z-счет и сообщает нам, насколько среднее значение\n",
    "# выборки отличается от среднего значения генеральной совокупности,\n",
    "# рассматривая, насколько данные обычно варьируются . Это особенно полезно,\n",
    "# когда размер выборки большой >30. Этот Z-счет также известен как формула\n",
    "# Z-статистики"
   ]
  },
  {
   "cell_type": "code",
   "execution_count": null,
   "metadata": {},
   "outputs": [],
   "source": [
    "# Мы используем t-тест, чтобы проверить, есть ли существенная разница в\n",
    "# средних результатах тестов между ними."
   ]
  },
  {
   "cell_type": "code",
   "execution_count": null,
   "id": "2efbd8c7",
   "metadata": {},
   "outputs": [],
   "source": [
    "# Уровень уверенности говорит нам, насколько мы уверены, что истинное значение\n",
    "# находится в пределах вычисленного диапазона. Если нам придется повторять\n",
    "# процесс выборки много раз, мы ожидаем, что определенный процент этих\n",
    "# интервалов будет включать истинное значение.\n",
    "# 1-alpha - уровень значисмости(confidence level)\n",
    "# alpha dy default = 0.05"
   ]
  },
  {
   "cell_type": "markdown",
   "id": "fd42168e",
   "metadata": {},
   "source": [
    "Почему доверительные интервалы важны в науке о данных?\n",
    "\n",
    "    Они помогают измерить неопределенность прогнозов и оценок.\n",
    "    С помощью этих данных ученые получают надежные результаты, а не просто дают одно число.\n",
    "    Они широко используются в A/B-тестировании, машинном обучении и анализе опросов."
   ]
  },
  {
   "cell_type": "code",
   "execution_count": null,
   "metadata": {},
   "outputs": [],
   "source": [
    "# Step 1: Identify the sample problem.\n",
    "\n",
    "# Define the population parameter you want to estimate e.g., mean height of\n",
    "# students. Choose the right statistic such as the sample mean.\n",
    "# Step 2: Select a confidence level.\n",
    "\n",
    "# In this step we select the confidence level some common choices are 90%, 95%\n",
    "# or 99%. It represents how sure we are about our estimate."
   ]
  },
  {
   "cell_type": "code",
   "execution_count": null,
   "metadata": {},
   "outputs": [],
   "source": [
    "# Step 3: Find the margin of error.\n",
    "\n",
    "# To find the Margin of Error, you use the formula:\n",
    "#     Margin of Error = Critical Value × Standard Error\n",
    "\n",
    "#     Critical Value: Found using Z-tables (for large samples) or T-tables\n",
    "# (for small samples).\n",
    "#     Standard Error (SE): Measures how much the sample mean varies.\n",
    "\n",
    "#     SE = std / sqrt(n)\n",
    "\n",
    "# Combine these to get your Margin of Error the amount you add/subtract from\n",
    "# your estimate to create a range.\n",
    "\n",
    "# Step 4: Specify the confidence interval.\n",
    "# To find a Confidence Interval, we use this formula:\n",
    "\n",
    "#      Confidence Interval = Point Estimate ± Margin of Error\n",
    "\n",
    "#     The Point Estimate is usually your sample mean.\n",
    "#     Adding and subtracting the margin of error gives the range where the\n",
    "# true value is likely to be."
   ]
  }
 ],
 "metadata": {
  "language_info": {
   "name": "python"
  }
 },
 "nbformat": 4,
 "nbformat_minor": 5
}
