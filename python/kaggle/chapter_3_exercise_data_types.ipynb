{
 "cells": [
  {
   "cell_type": "code",
   "execution_count": null,
   "metadata": {},
   "outputs": [],
   "source": [
    "\"\"\"Data Types.\"\"\""
   ]
  },
  {
   "cell_type": "markdown",
   "id": "df5dc007",
   "metadata": {},
   "source": [
    "**This notebook is an exercise in the [Intro to Programming](https://www.kaggle.com/learn/intro-to-programming) course.  You can reference the tutorial at [this link](https://www.kaggle.com/alexisbcook/data-types).**\n",
    "\n",
    "---\n"
   ]
  },
  {
   "cell_type": "markdown",
   "id": "2ef553cf",
   "metadata": {
    "papermill": {
     "duration": 0.024307,
     "end_time": "2022-02-15T23:56:51.875254",
     "exception": false,
     "start_time": "2022-02-15T23:56:51.850947",
     "status": "completed"
    },
    "tags": []
   },
   "source": [
    "In the tutorial, you learned about four different data types: floats, integers, strings, and booleans.  In this exercise, you'll experiment with them.\n",
    "\n",
    "# Set up the notebook\n",
    "\n",
    "Run the next code cell without changes to set up the notebook."
   ]
  },
  {
   "cell_type": "code",
   "execution_count": 3,
   "id": "943eb6a1",
   "metadata": {
    "execution": {
     "iopub.execute_input": "2025-03-19T12:39:31.083153Z",
     "iopub.status.busy": "2025-03-19T12:39:31.082786Z",
     "iopub.status.idle": "2025-03-19T12:39:31.088675Z",
     "shell.execute_reply": "2025-03-19T12:39:31.087644Z",
     "shell.execute_reply.started": "2025-03-19T12:39:31.083129Z"
    },
    "papermill": {
     "duration": 0.041266,
     "end_time": "2022-02-15T23:56:51.940173",
     "exception": false,
     "start_time": "2022-02-15T23:56:51.898907",
     "status": "completed"
    },
    "tags": [],
    "trusted": true
   },
   "outputs": [
    {
     "name": "stdout",
     "output_type": "stream",
     "text": [
      "Setup complete.\n"
     ]
    }
   ],
   "source": [
    "# Set up the exercise\n",
    "# fmt: off\n",
    "from learntools.core import binder\n",
    "from learntools.intro_to_programming.ex3 import *  # pylint: disable=W0401\n",
    "\n",
    "binder.bind(globals())\n",
    "print('Setup complete.')\n",
    "# fmt: on"
   ]
  },
  {
   "cell_type": "markdown",
   "id": "b5cc6e87",
   "metadata": {
    "papermill": {
     "duration": 0.024941,
     "end_time": "2022-02-15T23:56:51.990804",
     "exception": false,
     "start_time": "2022-02-15T23:56:51.965863",
     "status": "completed"
    },
    "tags": []
   },
   "source": [
    "# Question 1\n",
    "\n",
    "You have seen how to convert a float to an integer with the `int` function.  Try this out yourself by running the code cell below."
   ]
  },
  {
   "cell_type": "code",
   "execution_count": null,
   "id": "1af73a8c",
   "metadata": {
    "execution": {
     "iopub.execute_input": "2025-03-19T12:39:33.000935Z",
     "iopub.status.busy": "2025-03-19T12:39:33.000511Z",
     "iopub.status.idle": "2025-03-19T12:39:33.007568Z",
     "shell.execute_reply": "2025-03-19T12:39:33.006510Z",
     "shell.execute_reply.started": "2025-03-19T12:39:33.000900Z"
    },
    "papermill": {
     "duration": 0.036351,
     "end_time": "2022-02-15T23:56:52.050571",
     "exception": false,
     "start_time": "2022-02-15T23:56:52.01422",
     "status": "completed"
    },
    "tags": [],
    "trusted": true
   },
   "outputs": [
    {
     "name": "stdout",
     "output_type": "stream",
     "text": [
      "1.0\n",
      "<class 'float'>\n",
      "1\n",
      "<class 'int'>\n"
     ]
    }
   ],
   "source": [
    "# Define a float\n",
    "y_val = 1.0\n",
    "print(y_val)\n",
    "print(type(y_val))\n",
    "\n",
    "# Convert float to integer with the int function\n",
    "z_val = int(y_val)\n",
    "print(z_val)\n",
    "print(type(z_val))"
   ]
  },
  {
   "cell_type": "markdown",
   "id": "0a5b658a",
   "metadata": {
    "papermill": {
     "duration": 0.015746,
     "end_time": "2022-02-15T23:56:52.082635",
     "exception": false,
     "start_time": "2022-02-15T23:56:52.066889",
     "status": "completed"
    },
    "tags": []
   },
   "source": [
    "In this case, the float you are using has no numbers after the decimal.  \n",
    "- But what happens when you try to convert a float with a fractional part to an integer?  \n",
    "- How does the outcome of the `int` function change for positive and negative numbers?\n",
    "\n",
    "Use the next code cell to investigate and answer these questions.  Feel free to add or remove any lines of code -- it is your workspace!"
   ]
  },
  {
   "cell_type": "code",
   "execution_count": 5,
   "id": "b2a37796",
   "metadata": {
    "execution": {
     "iopub.execute_input": "2025-03-19T12:39:37.373460Z",
     "iopub.status.busy": "2025-03-19T12:39:37.372990Z",
     "iopub.status.idle": "2025-03-19T12:39:37.381239Z",
     "shell.execute_reply": "2025-03-19T12:39:37.380112Z",
     "shell.execute_reply.started": "2025-03-19T12:39:37.373423Z"
    },
    "papermill": {
     "duration": 0.023189,
     "end_time": "2022-02-15T23:56:52.121169",
     "exception": false,
     "start_time": "2022-02-15T23:56:52.09798",
     "status": "completed"
    },
    "tags": [],
    "trusted": true
   },
   "outputs": [
    {
     "name": "stdout",
     "output_type": "stream",
     "text": [
      "1\n",
      "1\n",
      "-3\n",
      "-2\n"
     ]
    }
   ],
   "source": [
    "# Uncomment and run this code to get started!\n",
    "print(int(1.2321))\n",
    "print(int(1.747))\n",
    "print(int(-3.94535))\n",
    "print(int(-2.19774))"
   ]
  },
  {
   "cell_type": "markdown",
   "id": "f666b450",
   "metadata": {
    "papermill": {
     "duration": 0.015044,
     "end_time": "2022-02-15T23:56:52.153268",
     "exception": false,
     "start_time": "2022-02-15T23:56:52.138224",
     "status": "completed"
    },
    "tags": []
   },
   "source": [
    "Once you have an answer, run the code cell below to see the solution.  Viewing the solution will give you credit for answering the problem."
   ]
  },
  {
   "cell_type": "code",
   "execution_count": null,
   "id": "265d8202",
   "metadata": {
    "execution": {
     "iopub.execute_input": "2025-03-19T12:39:39.912149Z",
     "iopub.status.busy": "2025-03-19T12:39:39.911761Z",
     "iopub.status.idle": "2025-03-19T12:39:39.921351Z",
     "shell.execute_reply": "2025-03-19T12:39:39.920292Z",
     "shell.execute_reply.started": "2025-03-19T12:39:39.912121Z"
    },
    "papermill": {
     "duration": 0.022309,
     "end_time": "2022-02-15T23:56:52.19068",
     "exception": false,
     "start_time": "2022-02-15T23:56:52.168371",
     "status": "completed"
    },
    "tags": [],
    "trusted": true
   },
   "outputs": [
    {
     "data": {
      "application/javascript": "parent.postMessage({\"jupyterEvent\": \"custom.exercise_interaction\", \"data\": {\"outcomeType\": 1, \"valueTowardsCompletion\": 0.2, \"interactionType\": 1, \"questionType\": 4, \"questionId\": \"1_FloatToInt\", \"learnToolsVersion\": \"0.3.4\", \"failureMessage\": \"\", \"exceptionClass\": \"\", \"trace\": \"\"}}, \"*\")",
      "text/plain": [
       "<IPython.core.display.Javascript object>"
      ]
     },
     "metadata": {},
     "output_type": "display_data"
    },
    {
     "data": {
      "text/markdown": [
       "<span style=\"color:#33cc33\">Correct:</span> \n",
       "\n",
       "Negative floats are always rounded UP to the closest integer (for instance, both -1.1 and -1.9 are rounded up to -1). Positive floats are always rounded DOWN to the closest integer (for instance, 2.1 and 2.9 are rounded down to 2)."
      ],
      "text/plain": [
       "Correct: \n",
       "\n",
       "Negative floats are always rounded UP to the closest integer (for instance, both -1.1 and -1.9 are rounded up to -1). Positive floats are always rounded DOWN to the closest integer (for instance, 2.1 and 2.9 are rounded down to 2)."
      ]
     },
     "metadata": {},
     "output_type": "display_data"
    }
   ],
   "source": [
    "# Check your answer (Run this code cell to receive credit!)\n",
    "# q1.check()"
   ]
  },
  {
   "cell_type": "markdown",
   "id": "91082e7e",
   "metadata": {
    "papermill": {
     "duration": 0.015624,
     "end_time": "2022-02-15T23:56:52.222102",
     "exception": false,
     "start_time": "2022-02-15T23:56:52.206478",
     "status": "completed"
    },
    "tags": []
   },
   "source": [
    "# Question 2\n",
    "\n",
    "In the tutorial, you learned about booleans (which can take a value of `True` or `False`), in addition to integers, floats, and strings.  For this question, your goal is to determine what happens when you multiply a boolean by any of these data types.  Specifically, \n",
    "- What happens when you multiply an integer or float by `True`?  What happens when you multiply them by `False`?  How does the answer change if the numbers are positive or negative?\n",
    "- What happens when you multiply a string by `True`?  By `False`?\n",
    "\n",
    "Use the next code cell for your investigation. "
   ]
  },
  {
   "cell_type": "code",
   "execution_count": 7,
   "id": "5fe84659",
   "metadata": {
    "execution": {
     "iopub.execute_input": "2025-03-19T12:39:43.212689Z",
     "iopub.status.busy": "2025-03-19T12:39:43.212281Z",
     "iopub.status.idle": "2025-03-19T12:39:43.218775Z",
     "shell.execute_reply": "2025-03-19T12:39:43.217865Z",
     "shell.execute_reply.started": "2025-03-19T12:39:43.212577Z"
    },
    "papermill": {
     "duration": 0.026529,
     "end_time": "2022-02-15T23:56:52.26436",
     "exception": false,
     "start_time": "2022-02-15T23:56:52.237831",
     "status": "completed"
    },
    "tags": [],
    "trusted": true
   },
   "outputs": [
    {
     "name": "stdout",
     "output_type": "stream",
     "text": [
      "3\n",
      "-3.1\n",
      "<class 'str'>\n",
      "0\n"
     ]
    }
   ],
   "source": [
    "# Uncomment and run this code to get started!\n",
    "print(3 * True)\n",
    "print(-3.1 * True)\n",
    "print(type(\"abc\" * False))\n",
    "print(len(\"abc\" * False))"
   ]
  },
  {
   "cell_type": "markdown",
   "id": "09cae65a",
   "metadata": {
    "papermill": {
     "duration": 0.024547,
     "end_time": "2022-02-15T23:56:52.314813",
     "exception": false,
     "start_time": "2022-02-15T23:56:52.290266",
     "status": "completed"
    },
    "tags": []
   },
   "source": [
    "Once you have an answer, run the code cell below to see the solution.  Viewing the solution will give you credit for answering the problem."
   ]
  },
  {
   "cell_type": "code",
   "execution_count": 8,
   "id": "3988194a",
   "metadata": {
    "execution": {
     "iopub.execute_input": "2025-03-19T12:39:46.085881Z",
     "iopub.status.busy": "2025-03-19T12:39:46.085446Z",
     "iopub.status.idle": "2025-03-19T12:39:46.093897Z",
     "shell.execute_reply": "2025-03-19T12:39:46.092960Z",
     "shell.execute_reply.started": "2025-03-19T12:39:46.085851Z"
    },
    "papermill": {
     "duration": 0.033338,
     "end_time": "2022-02-15T23:56:52.372842",
     "exception": false,
     "start_time": "2022-02-15T23:56:52.339504",
     "status": "completed"
    },
    "tags": [],
    "trusted": true
   },
   "outputs": [
    {
     "data": {
      "application/javascript": "parent.postMessage({\"jupyterEvent\": \"custom.exercise_interaction\", \"data\": {\"outcomeType\": 1, \"valueTowardsCompletion\": 0.2, \"interactionType\": 1, \"questionType\": 4, \"questionId\": \"2_MultiplyBooleans\", \"learnToolsVersion\": \"0.3.4\", \"failureMessage\": \"\", \"exceptionClass\": \"\", \"trace\": \"\"}}, \"*\")",
      "text/plain": [
       "<IPython.core.display.Javascript object>"
      ]
     },
     "metadata": {},
     "output_type": "display_data"
    },
    {
     "data": {
      "text/markdown": [
       "<span style=\"color:#33cc33\">Correct:</span> \n",
       "\n",
       "When you multiple an integer or float by a boolean with value `True`, it just returns that same integer or float (and is equivalent to multiplying by 1).  If you multiply an integer or float by a boolean with value `False`, it always returns 0.  This is true for both positive and negative numbers.  If you multiply a string by a boolean with value `True`, it just returns that same string.  And if you multiply a string by a boolean with value `False`, it returns an empty string (or a string with length zero)."
      ],
      "text/plain": [
       "Correct: \n",
       "\n",
       "When you multiple an integer or float by a boolean with value `True`, it just returns that same integer or float (and is equivalent to multiplying by 1).  If you multiply an integer or float by a boolean with value `False`, it always returns 0.  This is true for both positive and negative numbers.  If you multiply a string by a boolean with value `True`, it just returns that same string.  And if you multiply a string by a boolean with value `False`, it returns an empty string (or a string with length zero)."
      ]
     },
     "metadata": {},
     "output_type": "display_data"
    }
   ],
   "source": [
    "# Check your answer (Run this code cell to receive credit!)\n",
    "# q2.check()"
   ]
  },
  {
   "cell_type": "markdown",
   "id": "c4308284",
   "metadata": {
    "papermill": {
     "duration": 0.024657,
     "end_time": "2022-02-15T23:56:52.423541",
     "exception": false,
     "start_time": "2022-02-15T23:56:52.398884",
     "status": "completed"
    },
    "tags": []
   },
   "source": [
    "# Question 3\n",
    "\n",
    "In this question, you will build off your work from the previous exercise to write a function that estimates the value of a house.\n",
    "\n",
    "Use the next code cell to create a function `get_expected_cost` that takes as input three variables:\n",
    "- `beds` - number of bedrooms (data type float)\n",
    "- `baths` - number of bathrooms (data type float)\n",
    "- `has_basement` - whether or not the house has a basement (data type boolean)\n",
    "\n",
    "It should return the expected cost of a house with those characteristics. Assume that:\n",
    "- the expected cost for a house with 0 bedrooms and 0 bathrooms, and no basement is 80000, \n",
    "- each bedroom adds 30000 to the expected cost,\n",
    "- each bathroom adds 10000 to the expected cost, and\n",
    "- a basement adds 40000 to the expected cost.\n",
    "\n",
    "For instance,\n",
    "- a house with 1 bedroom, 1 bathroom, and no basement has an expected cost of 80000 + 30000 + 10000 = 120000.  This value will be calculated with `get_expected_cost(1, 1, False)`.\n",
    "- a house with 2 bedrooms, 1 bathroom, and a basement has an expected cost of 80000 + 2*30000 + 10000 + 40000 = 190000.  This value will be calculated with `get_expected_cost(2, 1, True)`.\n",
    "\n",
    "Remember you can always get a hint by uncommenting `q3.hint()` in the code cell following the next!"
   ]
  },
  {
   "cell_type": "code",
   "execution_count": null,
   "id": "abab04ce",
   "metadata": {
    "execution": {
     "iopub.execute_input": "2025-03-19T12:41:50.561165Z",
     "iopub.status.busy": "2025-03-19T12:41:50.560750Z",
     "iopub.status.idle": "2025-03-19T12:41:50.569174Z",
     "shell.execute_reply": "2025-03-19T12:41:50.568108Z",
     "shell.execute_reply.started": "2025-03-19T12:41:50.561136Z"
    },
    "papermill": {
     "duration": 0.033124,
     "end_time": "2022-02-15T23:56:52.48129",
     "exception": false,
     "start_time": "2022-02-15T23:56:52.448166",
     "status": "completed"
    },
    "tags": [],
    "trusted": true
   },
   "outputs": [
    {
     "data": {
      "application/javascript": "parent.postMessage({\"jupyterEvent\": \"custom.exercise_interaction\", \"data\": {\"outcomeType\": 1, \"valueTowardsCompletion\": 0.2, \"interactionType\": 1, \"questionType\": 2, \"questionId\": \"3_EstimateHouseValueBool\", \"learnToolsVersion\": \"0.3.4\", \"failureMessage\": \"\", \"exceptionClass\": \"\", \"trace\": \"\"}}, \"*\")",
      "text/plain": [
       "<IPython.core.display.Javascript object>"
      ]
     },
     "metadata": {},
     "output_type": "display_data"
    },
    {
     "data": {
      "text/markdown": [
       "<span style=\"color:#33cc33\">Correct</span>"
      ],
      "text/plain": [
       "Correct"
      ]
     },
     "metadata": {},
     "output_type": "display_data"
    }
   ],
   "source": [
    "def get_expected_cost(beds: int, baths: int, has_basement: bool) -> float:\n",
    "    \"\"\"Calculate house cost based on bedrooms, bathrooms and basement.\"\"\"\n",
    "    basement_cost = 40000 if has_basement else 0\n",
    "    value = 80000 + beds * 30000 + baths * 10000 + basement_cost\n",
    "    return value\n",
    "\n",
    "\n",
    "# Check your answer\n",
    "# q3.check()"
   ]
  },
  {
   "cell_type": "code",
   "execution_count": null,
   "id": "516a8afd",
   "metadata": {
    "execution": {
     "iopub.execute_input": "2022-02-15T23:56:52.536091Z",
     "iopub.status.busy": "2022-02-15T23:56:52.533986Z",
     "iopub.status.idle": "2022-02-15T23:56:52.538793Z",
     "shell.execute_reply": "2022-02-15T23:56:52.538089Z"
    },
    "papermill": {
     "duration": 0.032803,
     "end_time": "2022-02-15T23:56:52.53896",
     "exception": false,
     "start_time": "2022-02-15T23:56:52.506157",
     "status": "completed"
    },
    "tags": []
   },
   "outputs": [],
   "source": [
    "# Uncomment to see a hint\n",
    "# q3.hint()\n",
    "\n",
    "# Uncomment to view the solution\n",
    "# q3.solution()"
   ]
  },
  {
   "cell_type": "markdown",
   "id": "714cea65",
   "metadata": {
    "papermill": {
     "duration": 0.02506,
     "end_time": "2022-02-15T23:56:52.588859",
     "exception": false,
     "start_time": "2022-02-15T23:56:52.563799",
     "status": "completed"
    },
    "tags": []
   },
   "source": [
    "# Question 4\n",
    "\n",
    "We'll continue our study of boolean arithmetic.  For this question, your task is to provide a description of what happens when you add booleans. \n",
    "\n",
    "Use the next code cell for your investigation.  Feel free to add or remove any lines of code - use it as your workspace!"
   ]
  },
  {
   "cell_type": "code",
   "execution_count": 11,
   "id": "4f78a6b2",
   "metadata": {
    "execution": {
     "iopub.execute_input": "2025-03-19T12:41:56.404654Z",
     "iopub.status.busy": "2025-03-19T12:41:56.404325Z",
     "iopub.status.idle": "2025-03-19T12:41:56.411975Z",
     "shell.execute_reply": "2025-03-19T12:41:56.410947Z",
     "shell.execute_reply.started": "2025-03-19T12:41:56.404630Z"
    },
    "papermill": {
     "duration": 0.034215,
     "end_time": "2022-02-15T23:56:52.649292",
     "exception": false,
     "start_time": "2022-02-15T23:56:52.615077",
     "status": "completed"
    },
    "tags": [],
    "trusted": true
   },
   "outputs": [
    {
     "name": "stdout",
     "output_type": "stream",
     "text": [
      "0\n",
      "1\n",
      "1\n",
      "2\n",
      "3\n"
     ]
    }
   ],
   "source": [
    "print(False + False)\n",
    "print(True + False)\n",
    "print(False + True)\n",
    "print(True + True)\n",
    "print(False + True + True + True)"
   ]
  },
  {
   "cell_type": "markdown",
   "id": "158c2b74",
   "metadata": {
    "papermill": {
     "duration": 0.025079,
     "end_time": "2022-02-15T23:56:52.700169",
     "exception": false,
     "start_time": "2022-02-15T23:56:52.67509",
     "status": "completed"
    },
    "tags": []
   },
   "source": [
    "Once you have an answer, run the code cell below to see the solution.  Viewing the solution will give you credit for answering the problem."
   ]
  },
  {
   "cell_type": "code",
   "execution_count": 12,
   "id": "e7a74b7a",
   "metadata": {
    "execution": {
     "iopub.execute_input": "2025-03-19T12:41:59.624938Z",
     "iopub.status.busy": "2025-03-19T12:41:59.624501Z",
     "iopub.status.idle": "2025-03-19T12:41:59.632236Z",
     "shell.execute_reply": "2025-03-19T12:41:59.631095Z",
     "shell.execute_reply.started": "2025-03-19T12:41:59.624884Z"
    },
    "papermill": {
     "duration": 0.031532,
     "end_time": "2022-02-15T23:56:52.761705",
     "exception": false,
     "start_time": "2022-02-15T23:56:52.730173",
     "status": "completed"
    },
    "tags": [],
    "trusted": true
   },
   "outputs": [
    {
     "data": {
      "application/javascript": "parent.postMessage({\"jupyterEvent\": \"custom.exercise_interaction\", \"data\": {\"outcomeType\": 1, \"valueTowardsCompletion\": 0.2, \"interactionType\": 1, \"questionType\": 4, \"questionId\": \"4_AddingBooleans\", \"learnToolsVersion\": \"0.3.4\", \"failureMessage\": \"\", \"exceptionClass\": \"\", \"trace\": \"\"}}, \"*\")",
      "text/plain": [
       "<IPython.core.display.Javascript object>"
      ]
     },
     "metadata": {},
     "output_type": "display_data"
    },
    {
     "data": {
      "text/markdown": [
       "<span style=\"color:#33cc33\">Correct:</span> \n",
       "\n",
       "When you add booleans, adding `False` is equivalent to adding 0, and adding `True` is equivalent to adding 1."
      ],
      "text/plain": [
       "Correct: \n",
       "\n",
       "When you add booleans, adding `False` is equivalent to adding 0, and adding `True` is equivalent to adding 1."
      ]
     },
     "metadata": {},
     "output_type": "display_data"
    }
   ],
   "source": [
    "# Check your answer (Run this code cell to receive credit!)\n",
    "# q4.check()"
   ]
  },
  {
   "cell_type": "markdown",
   "id": "e989a409",
   "metadata": {
    "papermill": {
     "duration": 0.024396,
     "end_time": "2022-02-15T23:56:52.81114",
     "exception": false,
     "start_time": "2022-02-15T23:56:52.786744",
     "status": "completed"
    },
    "tags": []
   },
   "source": [
    "# 🌶️ Question 5\n",
    "\n",
    "You own an online shop where you sell rings with custom engravings.  You offer both gold plated and solid gold rings.\n",
    "- Gold plated rings have a base cost of \\\\$50, and you charge \\\\$7 per engraved unit.  \n",
    "- Solid gold rings have a base cost of \\\\$100, and you charge \\\\$10 per engraved unit.\n",
    "- Spaces and punctuation are counted as engraved units.\n",
    "\n",
    "Write a function `cost_of_project()` that takes two arguments:\n",
    "- `engraving` - a Python string with the text of the engraving\n",
    "- `solid_gold` - a Boolean that indicates whether the ring is solid gold\n",
    "\n",
    "It should return the cost of the project.  This question should be fairly challenging, and you may need a hint."
   ]
  },
  {
   "cell_type": "code",
   "execution_count": null,
   "id": "64c97830",
   "metadata": {
    "execution": {
     "iopub.execute_input": "2025-03-19T12:43:33.571998Z",
     "iopub.status.busy": "2025-03-19T12:43:33.571553Z",
     "iopub.status.idle": "2025-03-19T12:43:33.580411Z",
     "shell.execute_reply": "2025-03-19T12:43:33.579443Z",
     "shell.execute_reply.started": "2025-03-19T12:43:33.571965Z"
    },
    "papermill": {
     "duration": 0.034931,
     "end_time": "2022-02-15T23:56:52.871015",
     "exception": false,
     "start_time": "2022-02-15T23:56:52.836084",
     "status": "completed"
    },
    "tags": [],
    "trusted": true
   },
   "outputs": [
    {
     "data": {
      "application/javascript": "parent.postMessage({\"jupyterEvent\": \"custom.exercise_interaction\", \"data\": {\"outcomeType\": 1, \"valueTowardsCompletion\": 0.2, \"interactionType\": 1, \"questionType\": 2, \"questionId\": \"5_CustomEngravings\", \"learnToolsVersion\": \"0.3.4\", \"failureMessage\": \"\", \"exceptionClass\": \"\", \"trace\": \"\"}}, \"*\")",
      "text/plain": [
       "<IPython.core.display.Javascript object>"
      ]
     },
     "metadata": {},
     "output_type": "display_data"
    },
    {
     "data": {
      "text/markdown": [
       "<span style=\"color:#33cc33\">Correct</span>"
      ],
      "text/plain": [
       "Correct"
      ]
     },
     "metadata": {},
     "output_type": "display_data"
    }
   ],
   "source": [
    "def cost_of_project(engraving: str, solid_gold: bool) -> int:\n",
    "    \"\"\"Calculate ring cost based on engraving length and gold type.\"\"\"\n",
    "    base_cost = 100 if solid_gold else 50\n",
    "    cost_per_unit = 10 if solid_gold else 7\n",
    "    engraving_cost = len(engraving) * cost_per_unit\n",
    "    return base_cost + engraving_cost\n",
    "\n",
    "\n",
    "# Check your answer\n",
    "# q5.check()"
   ]
  },
  {
   "cell_type": "code",
   "execution_count": null,
   "id": "d2d50b92",
   "metadata": {
    "execution": {
     "iopub.execute_input": "2022-02-15T23:56:52.927471Z",
     "iopub.status.busy": "2022-02-15T23:56:52.926644Z",
     "iopub.status.idle": "2022-02-15T23:56:52.929009Z",
     "shell.execute_reply": "2022-02-15T23:56:52.928331Z"
    },
    "papermill": {
     "duration": 0.032387,
     "end_time": "2022-02-15T23:56:52.929176",
     "exception": false,
     "start_time": "2022-02-15T23:56:52.896789",
     "status": "completed"
    },
    "tags": []
   },
   "outputs": [],
   "source": [
    "# Uncomment to see a hint\n",
    "# q5.hint()\n",
    "\n",
    "# Uncomment to view the solution\n",
    "# q5.solution()"
   ]
  },
  {
   "cell_type": "markdown",
   "id": "f8f238db",
   "metadata": {
    "papermill": {
     "duration": 0.025442,
     "end_time": "2022-02-15T23:56:52.981178",
     "exception": false,
     "start_time": "2022-02-15T23:56:52.955736",
     "status": "completed"
    },
    "tags": []
   },
   "source": [
    "Run the next code cell to calculate the cost of engraving `Charlie+Denver` on a solid gold ring."
   ]
  },
  {
   "cell_type": "code",
   "execution_count": 14,
   "id": "809d5f2b",
   "metadata": {
    "execution": {
     "iopub.execute_input": "2025-03-19T12:43:39.567423Z",
     "iopub.status.busy": "2025-03-19T12:43:39.567096Z",
     "iopub.status.idle": "2025-03-19T12:43:39.572421Z",
     "shell.execute_reply": "2025-03-19T12:43:39.571256Z",
     "shell.execute_reply.started": "2025-03-19T12:43:39.567399Z"
    },
    "papermill": {
     "duration": 0.033363,
     "end_time": "2022-02-15T23:56:53.041309",
     "exception": false,
     "start_time": "2022-02-15T23:56:53.007946",
     "status": "completed"
    },
    "tags": [],
    "trusted": true
   },
   "outputs": [
    {
     "name": "stdout",
     "output_type": "stream",
     "text": [
      "240\n"
     ]
    }
   ],
   "source": [
    "project_one = cost_of_project(\"Charlie+Denver\", True)\n",
    "print(project_one)"
   ]
  },
  {
   "cell_type": "markdown",
   "id": "1792deb6",
   "metadata": {
    "papermill": {
     "duration": 0.025504,
     "end_time": "2022-02-15T23:56:53.093394",
     "exception": false,
     "start_time": "2022-02-15T23:56:53.06789",
     "status": "completed"
    },
    "tags": []
   },
   "source": [
    "Use the next code cell to calculate the cost of engraving `08/10/2000` on a gold plated ring."
   ]
  },
  {
   "cell_type": "code",
   "execution_count": 15,
   "id": "6dc1e58b",
   "metadata": {
    "execution": {
     "iopub.execute_input": "2025-03-19T12:43:41.920265Z",
     "iopub.status.busy": "2025-03-19T12:43:41.919919Z",
     "iopub.status.idle": "2025-03-19T12:43:41.925499Z",
     "shell.execute_reply": "2025-03-19T12:43:41.924367Z",
     "shell.execute_reply.started": "2025-03-19T12:43:41.920240Z"
    },
    "papermill": {
     "duration": 0.03374,
     "end_time": "2022-02-15T23:56:53.154559",
     "exception": false,
     "start_time": "2022-02-15T23:56:53.120819",
     "status": "completed"
    },
    "tags": [],
    "trusted": true
   },
   "outputs": [
    {
     "name": "stdout",
     "output_type": "stream",
     "text": [
      "120\n"
     ]
    }
   ],
   "source": [
    "project_two = cost_of_project(\"08/10/2000\", False)\n",
    "print(project_two)"
   ]
  },
  {
   "cell_type": "markdown",
   "id": "24164f77",
   "metadata": {
    "papermill": {
     "duration": 0.016828,
     "end_time": "2022-02-15T23:56:53.189102",
     "exception": false,
     "start_time": "2022-02-15T23:56:53.172274",
     "status": "completed"
    },
    "tags": []
   },
   "source": [
    "# Keep going\n",
    "\n",
    "Continue to the next lesson to **[learn about conditions and conditional statements](https://www.kaggle.com/alexisbcook/conditions-and-conditional-statements)**."
   ]
  },
  {
   "cell_type": "markdown",
   "id": "3d9aabc4",
   "metadata": {},
   "source": [
    "---\n",
    "\n",
    "\n",
    "\n",
    "\n",
    "*Have questions or comments? Visit the [course discussion forum](https://www.kaggle.com/learn/intro-to-programming/discussion) to chat with other learners.*"
   ]
  }
 ],
 "metadata": {
  "kaggle": {
   "accelerator": "none",
   "dataSources": [],
   "isGpuEnabled": false,
   "isInternetEnabled": false,
   "language": "python",
   "sourceType": "notebook"
  },
  "kernelspec": {
   "display_name": "Python 3",
   "language": "python",
   "name": "python3"
  },
  "language_info": {
   "codemirror_mode": {
    "name": "ipython",
    "version": 3
   },
   "file_extension": ".py",
   "mimetype": "text/x-python",
   "name": "python",
   "nbconvert_exporter": "python",
   "pygments_lexer": "ipython3",
   "version": "3.10.12"
  },
  "papermill": {
   "default_parameters": {},
   "duration": 15.996115,
   "end_time": "2022-02-15T23:56:55.998786",
   "environment_variables": {},
   "exception": null,
   "input_path": "__notebook__.ipynb",
   "output_path": "__notebook__.ipynb",
   "parameters": {},
   "start_time": "2022-02-15T23:56:40.002671",
   "version": "2.3.3"
  }
 },
 "nbformat": 4,
 "nbformat_minor": 5
}
