{
 "cells": [
  {
   "cell_type": "code",
   "execution_count": null,
   "metadata": {},
   "outputs": [],
   "source": [
    "\"\"\"Booleans and conditionals.\"\"\""
   ]
  },
  {
   "cell_type": "markdown",
   "metadata": {},
   "source": [
    "**This notebook is an exercise in the [Python](https://www.kaggle.com/learn/python) course.  You can reference the tutorial at [this link](https://www.kaggle.com/colinmorris/booleans-and-conditionals).**\n",
    "\n",
    "---\n"
   ]
  },
  {
   "cell_type": "markdown",
   "metadata": {},
   "source": [
    "In this exercise, you'll put to work what you have learned about booleans and conditionals.\n",
    "\n",
    "To get started, **run the setup code below** before writing your own code (and if you leave this notebook and come back later, don't forget to run the setup code again)."
   ]
  },
  {
   "cell_type": "code",
   "execution_count": null,
   "metadata": {
    "execution": {
     "iopub.execute_input": "2025-03-20T07:57:19.718723Z",
     "iopub.status.busy": "2025-03-20T07:57:19.718226Z",
     "iopub.status.idle": "2025-03-20T07:57:19.725645Z",
     "shell.execute_reply": "2025-03-20T07:57:19.724398Z",
     "shell.execute_reply.started": "2025-03-20T07:57:19.718690Z"
    },
    "trusted": true
   },
   "outputs": [
    {
     "name": "stdout",
     "output_type": "stream",
     "text": [
      "Setup complete.\n"
     ]
    }
   ],
   "source": [
    "from learntools.core import binder\n",
    "# fmt: off\n",
    "from learntools.python.ex3 import *  # pylint: disable=W0401\n",
    "\n",
    "binder.bind(globals())\n",
    "print('Setup complete.')\n",
    "# fmt: on"
   ]
  },
  {
   "cell_type": "markdown",
   "metadata": {},
   "source": [
    "# 1.\n",
    "\n",
    "Many programming languages have [`sign`](https://en.wikipedia.org/wiki/Sign_function) available as a built-in function. Python doesn't, but we can define our own!\n",
    "\n",
    "In the cell below, define a function called `sign` which takes a numerical argument and returns -1 if it's negative, 1 if it's positive, and 0 if it's 0."
   ]
  },
  {
   "cell_type": "code",
   "execution_count": null,
   "metadata": {
    "execution": {
     "iopub.execute_input": "2025-03-20T07:57:21.797272Z",
     "iopub.status.busy": "2025-03-20T07:57:21.796801Z",
     "iopub.status.idle": "2025-03-20T07:57:21.807958Z",
     "shell.execute_reply": "2025-03-20T07:57:21.806728Z",
     "shell.execute_reply.started": "2025-03-20T07:57:21.797238Z"
    },
    "trusted": true
   },
   "outputs": [
    {
     "data": {
      "application/javascript": "parent.postMessage({\"jupyterEvent\": \"custom.exercise_interaction\", \"data\": {\"outcomeType\": 4, \"interactionType\": 1, \"questionType\": 2, \"questionId\": \"1_SignFunctionProblem\", \"learnToolsVersion\": \"0.3.4\", \"valueTowardsCompletion\": 0.0, \"failureMessage\": \"\", \"exceptionClass\": \"\", \"trace\": \"\"}}, \"*\")",
      "text/plain": [
       "<IPython.core.display.Javascript object>"
      ]
     },
     "metadata": {},
     "output_type": "display_data"
    },
    {
     "data": {
      "text/markdown": [
       "<span style=\"color:#ccaa33\">Check:</span> When you've updated the starter code, `check()` will tell you whether your code is correct. Remember, you must create the following variable: `sign`"
      ],
      "text/plain": [
       "Check: When you've updated the starter code, `check()` will tell you whether your code is correct. Remember, you must create the following variable: `sign`"
      ]
     },
     "metadata": {},
     "output_type": "display_data"
    }
   ],
   "source": [
    "# Your code goes here. Define a function called 'sign'\n",
    "\n",
    "# Check your answer\n",
    "# q1.check()"
   ]
  },
  {
   "cell_type": "code",
   "execution_count": null,
   "metadata": {},
   "outputs": [],
   "source": [
    "# q1.solution()"
   ]
  },
  {
   "cell_type": "markdown",
   "metadata": {},
   "source": [
    "# 2.\n",
    "\n",
    "We've decided to add \"logging\" to our `to_smash` function from the previous exercise."
   ]
  },
  {
   "cell_type": "code",
   "execution_count": null,
   "metadata": {
    "execution": {
     "iopub.execute_input": "2025-03-20T07:57:29.287077Z",
     "iopub.status.busy": "2025-03-20T07:57:29.286671Z",
     "iopub.status.idle": "2025-03-20T07:57:29.296594Z",
     "shell.execute_reply": "2025-03-20T07:57:29.295448Z",
     "shell.execute_reply.started": "2025-03-20T07:57:29.287045Z"
    },
    "trusted": true
   },
   "outputs": [
    {
     "name": "stdout",
     "output_type": "stream",
     "text": [
      "Splitting 91 candies\n"
     ]
    },
    {
     "data": {
      "text/plain": [
       "1"
      ]
     },
     "execution_count": 5,
     "metadata": {},
     "output_type": "execute_result"
    }
   ],
   "source": [
    "def to_smash(total_candies: int) -> int:\n",
    "    \"\"\"Return the number of leftover candies that must be smashed.\"\"\"\n",
    "    print(\"Splitting\", total_candies, \"candies\")\n",
    "    return total_candies % 3\n",
    "\n",
    "\n",
    "to_smash(91)"
   ]
  },
  {
   "cell_type": "markdown",
   "metadata": {},
   "source": [
    "What happens if we call it with `total_candies = 1`?"
   ]
  },
  {
   "cell_type": "code",
   "execution_count": 6,
   "metadata": {
    "execution": {
     "iopub.execute_input": "2025-03-20T07:57:31.076522Z",
     "iopub.status.busy": "2025-03-20T07:57:31.076114Z",
     "iopub.status.idle": "2025-03-20T07:57:31.085080Z",
     "shell.execute_reply": "2025-03-20T07:57:31.083895Z",
     "shell.execute_reply.started": "2025-03-20T07:57:31.076492Z"
    },
    "trusted": true
   },
   "outputs": [
    {
     "name": "stdout",
     "output_type": "stream",
     "text": [
      "Splitting 1 candies\n"
     ]
    },
    {
     "data": {
      "text/plain": [
       "1"
      ]
     },
     "execution_count": 6,
     "metadata": {},
     "output_type": "execute_result"
    }
   ],
   "source": [
    "to_smash(1)"
   ]
  },
  {
   "cell_type": "markdown",
   "metadata": {},
   "source": [
    "That isn't great grammar!\n",
    "\n",
    "Modify the definition in the cell below to correct the grammar of our print statement. (If there's only one candy, we should use the singular \"candy\" instead of the plural \"candies\")"
   ]
  },
  {
   "cell_type": "code",
   "execution_count": null,
   "metadata": {
    "execution": {
     "iopub.execute_input": "2025-03-20T07:58:57.542199Z",
     "iopub.status.busy": "2025-03-20T07:58:57.541703Z",
     "iopub.status.idle": "2025-03-20T07:58:57.552105Z",
     "shell.execute_reply": "2025-03-20T07:58:57.551007Z",
     "shell.execute_reply.started": "2025-03-20T07:58:57.542167Z"
    },
    "trusted": true
   },
   "outputs": [
    {
     "name": "stdout",
     "output_type": "stream",
     "text": [
      "Splitting 91 candies\n",
      "Splitting 1 candy\n"
     ]
    },
    {
     "data": {
      "text/plain": [
       "1"
      ]
     },
     "execution_count": 1,
     "metadata": {},
     "output_type": "execute_result"
    }
   ],
   "source": [
    "def to_smash_v2(total_candies: int) -> int:\n",
    "    \"\"\"Return the number of leftover candies that must be smashed.\"\"\"\n",
    "    postfix = \"candy\" if total_candies == 1 else \"candies\"\n",
    "    print(\"Splitting\", total_candies, postfix)\n",
    "    return total_candies % 3\n",
    "\n",
    "\n",
    "to_smash_v2(91)\n",
    "to_smash_v2(1)"
   ]
  },
  {
   "cell_type": "markdown",
   "metadata": {},
   "source": [
    "To get credit for completing this problem, and to see the official answer, run the code cell below."
   ]
  },
  {
   "cell_type": "code",
   "execution_count": 9,
   "metadata": {
    "execution": {
     "iopub.execute_input": "2025-03-20T07:59:01.823120Z",
     "iopub.status.busy": "2025-03-20T07:59:01.822679Z",
     "iopub.status.idle": "2025-03-20T07:59:01.832622Z",
     "shell.execute_reply": "2025-03-20T07:59:01.831377Z",
     "shell.execute_reply.started": "2025-03-20T07:59:01.823089Z"
    },
    "trusted": true
   },
   "outputs": [
    {
     "data": {
      "application/javascript": "parent.postMessage({\"jupyterEvent\": \"custom.exercise_interaction\", \"data\": {\"interactionType\": 3, \"questionType\": 4, \"questionId\": \"2_PluralizationProblem\", \"learnToolsVersion\": \"0.3.4\", \"valueTowardsCompletion\": 0.0, \"failureMessage\": \"\", \"exceptionClass\": \"\", \"trace\": \"\", \"outcomeType\": 4}}, \"*\")",
      "text/plain": [
       "<IPython.core.display.Javascript object>"
      ]
     },
     "metadata": {},
     "output_type": "display_data"
    },
    {
     "data": {
      "text/markdown": [
       "<span style=\"color:#33cc99\">Solution:</span> A straightforward (and totally fine) solution is to replace the original `print` call with:\n",
       "\n",
       "```python\n",
       "if total_candies == 1:\n",
       "    print(\"Splitting 1 candy\")\n",
       "else:\n",
       "    print(\"Splitting\", total_candies, \"candies\")\n",
       "```\n",
       "\n",
       "Here's a slightly more succinct solution using a conditional expression:\n",
       "\n",
       "```python\n",
       "print(\"Splitting\", total_candies, \"candy\" if total_candies == 1 else \"candies\")\n",
       "```"
      ],
      "text/plain": [
       "Solution: A straightforward (and totally fine) solution is to replace the original `print` call with:\n",
       "\n",
       "```python\n",
       "if total_candies == 1:\n",
       "    print(\"Splitting 1 candy\")\n",
       "else:\n",
       "    print(\"Splitting\", total_candies, \"candies\")\n",
       "```\n",
       "\n",
       "Here's a slightly more succinct solution using a conditional expression:\n",
       "\n",
       "```python\n",
       "print(\"Splitting\", total_candies, \"candy\" if total_candies == 1 else \"candies\")\n",
       "```"
      ]
     },
     "metadata": {},
     "output_type": "display_data"
    }
   ],
   "source": [
    "# Check your answer (Run this code cell to receive credit!)\n",
    "# q2.solution()"
   ]
  },
  {
   "cell_type": "markdown",
   "metadata": {},
   "source": [
    "# 3. <span title=\"A bit spicy\" style=\"color: darkgreen \">🌶️</span>\n",
    "\n",
    "In the tutorial, we talked about deciding whether we're prepared for the weather. I said that I'm safe from today's weather if...\n",
    "- I have an umbrella...\n",
    "- or if the rain isn't too heavy and I have a hood...\n",
    "- otherwise, I'm still fine unless it's raining *and* it's a workday\n",
    "\n",
    "The function below uses our first attempt at turning this logic into a Python expression. I claimed that there was a bug in that code. Can you find it?\n",
    "\n",
    "To prove that `prepared_for_weather` is buggy, come up with a set of inputs where either:\n",
    "- the function returns `False` (but should have returned `True`), or\n",
    "- the function returned `True` (but should have returned `False`).\n",
    "\n",
    "To get credit for completing this question, your code should return a <font color='#33cc33'>Correct</font> result."
   ]
  },
  {
   "cell_type": "markdown",
   "metadata": {},
   "source": [
    "# 4.\n",
    "\n",
    "The function `is_negative` below is implemented correctly - it returns True if the given number is negative and False otherwise.\n",
    "\n",
    "However, it's more verbose than it needs to be. We can actually reduce the number of lines of code in this function by *75%* while keeping the same behaviour. \n",
    "\n",
    "See if you can come up with an equivalent body that uses just **one line** of code, and put it in the function `concise_is_negative`. (HINT: you don't even need Python's ternary syntax)"
   ]
  },
  {
   "cell_type": "code",
   "execution_count": null,
   "metadata": {
    "execution": {
     "iopub.execute_input": "2025-03-20T08:09:47.624283Z",
     "iopub.status.busy": "2025-03-20T08:09:47.623855Z",
     "iopub.status.idle": "2025-03-20T08:09:47.634101Z",
     "shell.execute_reply": "2025-03-20T08:09:47.632878Z",
     "shell.execute_reply.started": "2025-03-20T08:09:47.624253Z"
    },
    "trusted": true
   },
   "outputs": [
    {
     "data": {
      "application/javascript": "parent.postMessage({\"jupyterEvent\": \"custom.exercise_interaction\", \"data\": {\"outcomeType\": 1, \"valueTowardsCompletion\": 0.2, \"interactionType\": 1, \"questionType\": 2, \"questionId\": \"4_ConciseIsNegative\", \"learnToolsVersion\": \"0.3.4\", \"failureMessage\": \"\", \"exceptionClass\": \"\", \"trace\": \"\"}}, \"*\")",
      "text/plain": [
       "<IPython.core.display.Javascript object>"
      ]
     },
     "metadata": {},
     "output_type": "display_data"
    },
    {
     "data": {
      "text/markdown": [
       "<span style=\"color:#33cc33\">Correct</span>"
      ],
      "text/plain": [
       "Correct"
      ]
     },
     "metadata": {},
     "output_type": "display_data"
    }
   ],
   "source": [
    "def is_negative(number: float) -> bool:\n",
    "    \"\"\"Return True if number is negative, False otherwise.\"\"\"\n",
    "    if number < 0:\n",
    "        return True\n",
    "    return False\n",
    "\n",
    "\n",
    "def is_concise_is_negative(number: float) -> bool:\n",
    "    \"\"\"Return True if number is negative, False otherwise.\"\"\"\n",
    "    return number < 0\n",
    "\n",
    "\n",
    "# Check your answer\n",
    "# q4.check()"
   ]
  },
  {
   "cell_type": "code",
   "execution_count": null,
   "metadata": {},
   "outputs": [],
   "source": [
    "# q4.hint()\n",
    "# q4.solution()"
   ]
  },
  {
   "cell_type": "markdown",
   "metadata": {},
   "source": [
    "# 5a.\n",
    "\n",
    "The boolean variables `ketchup`, `mustard` and `onion` represent whether a customer wants a particular topping on their hot dog. We want to implement a number of boolean functions that correspond to some yes-or-no questions about the customer's order. For example:"
   ]
  },
  {
   "cell_type": "code",
   "execution_count": null,
   "metadata": {
    "execution": {
     "iopub.execute_input": "2025-03-20T08:17:35.855859Z",
     "iopub.status.busy": "2025-03-20T08:17:35.855521Z",
     "iopub.status.idle": "2025-03-20T08:17:35.861015Z",
     "shell.execute_reply": "2025-03-20T08:17:35.859275Z",
     "shell.execute_reply.started": "2025-03-20T08:17:35.855834Z"
    },
    "trusted": true
   },
   "outputs": [],
   "source": [
    "def is_onionless(ketchup: bool, mustard: bool, onion: bool) -> bool:\n",
    "    \"\"\"Return whether the customer doesn't want onions.\"\"\"\n",
    "    # pylint: disable=unused-argument\n",
    "    return not onion"
   ]
  },
  {
   "cell_type": "code",
   "execution_count": null,
   "metadata": {
    "execution": {
     "iopub.execute_input": "2025-03-20T08:17:33.852765Z",
     "iopub.status.busy": "2025-03-20T08:17:33.852455Z",
     "iopub.status.idle": "2025-03-20T08:17:33.862103Z",
     "shell.execute_reply": "2025-03-20T08:17:33.860848Z",
     "shell.execute_reply.started": "2025-03-20T08:17:33.852742Z"
    },
    "trusted": true
   },
   "outputs": [
    {
     "data": {
      "application/javascript": "parent.postMessage({\"jupyterEvent\": \"custom.exercise_interaction\", \"data\": {\"outcomeType\": 1, \"valueTowardsCompletion\": 0.2, \"interactionType\": 1, \"questionType\": 2, \"questionId\": \"5.1_AllToppings\", \"learnToolsVersion\": \"0.3.4\", \"failureMessage\": \"\", \"exceptionClass\": \"\", \"trace\": \"\"}}, \"*\")",
      "text/plain": [
       "<IPython.core.display.Javascript object>"
      ]
     },
     "metadata": {},
     "output_type": "display_data"
    },
    {
     "data": {
      "text/markdown": [
       "<span style=\"color:#33cc33\">Correct</span>"
      ],
      "text/plain": [
       "Correct"
      ]
     },
     "metadata": {},
     "output_type": "display_data"
    }
   ],
   "source": [
    "def is_wants_all_toppings(ketchup: bool, mustard: bool, onion: bool) -> bool:\n",
    "    \"\"\"Return whether the customer wants \"the works\" (all 3 toppings).\"\"\"\n",
    "    return ketchup and mustard and onion\n",
    "\n",
    "\n",
    "# Check your answer\n",
    "# q5.a.check()"
   ]
  },
  {
   "cell_type": "code",
   "execution_count": null,
   "metadata": {},
   "outputs": [],
   "source": [
    "# q5.a.hint()\n",
    "# q5.a.solution()"
   ]
  },
  {
   "cell_type": "markdown",
   "metadata": {},
   "source": [
    "# 5b.\n",
    "\n",
    "For the next function, fill in the body to match the English description in the docstring. "
   ]
  },
  {
   "cell_type": "code",
   "execution_count": null,
   "metadata": {
    "execution": {
     "iopub.execute_input": "2025-03-20T08:18:36.758861Z",
     "iopub.status.busy": "2025-03-20T08:18:36.758402Z",
     "iopub.status.idle": "2025-03-20T08:18:36.768069Z",
     "shell.execute_reply": "2025-03-20T08:18:36.766808Z",
     "shell.execute_reply.started": "2025-03-20T08:18:36.758828Z"
    },
    "trusted": true
   },
   "outputs": [
    {
     "data": {
      "application/javascript": "parent.postMessage({\"jupyterEvent\": \"custom.exercise_interaction\", \"data\": {\"outcomeType\": 1, \"valueTowardsCompletion\": 0.2, \"interactionType\": 1, \"questionType\": 2, \"questionId\": \"5.2_PlainDog\", \"learnToolsVersion\": \"0.3.4\", \"failureMessage\": \"\", \"exceptionClass\": \"\", \"trace\": \"\"}}, \"*\")",
      "text/plain": [
       "<IPython.core.display.Javascript object>"
      ]
     },
     "metadata": {},
     "output_type": "display_data"
    },
    {
     "data": {
      "text/markdown": [
       "<span style=\"color:#33cc33\">Correct:</span> \n",
       "\n",
       "One solution looks like:\n",
       "```python\n",
       "return not ketchup and not mustard and not onion\n",
       "```\n",
       "\n",
       "We can also [\"factor out\" the nots](https://en.wikipedia.org/wiki/De_Morgan%27s_laws) to get:\n",
       "\n",
       "```python\n",
       "return not (ketchup or mustard or onion)\n",
       "```"
      ],
      "text/plain": [
       "Correct: \n",
       "\n",
       "One solution looks like:\n",
       "```python\n",
       "return not ketchup and not mustard and not onion\n",
       "```\n",
       "\n",
       "We can also [\"factor out\" the nots](https://en.wikipedia.org/wiki/De_Morgan%27s_laws) to get:\n",
       "\n",
       "```python\n",
       "return not (ketchup or mustard or onion)\n",
       "```"
      ]
     },
     "metadata": {},
     "output_type": "display_data"
    }
   ],
   "source": [
    "def is_wants_plain_hotdog(ketchup: bool, mustard: bool, onion: bool) -> bool:\n",
    "    \"\"\"Return whether the customer wants a plain hot dog with no toppings.\"\"\"\n",
    "    return not ketchup and not mustard and not onion\n",
    "\n",
    "\n",
    "# Check your answer\n",
    "# q5.b.check()"
   ]
  },
  {
   "cell_type": "code",
   "execution_count": null,
   "metadata": {},
   "outputs": [],
   "source": [
    "# q5.b.hint()\n",
    "# q5.b.solution()"
   ]
  },
  {
   "cell_type": "markdown",
   "metadata": {},
   "source": [
    "# 5c.\n",
    "\n",
    "You know what to do: for the next function, fill in the body to match the English description in the docstring."
   ]
  },
  {
   "cell_type": "code",
   "execution_count": null,
   "metadata": {
    "execution": {
     "iopub.execute_input": "2025-03-20T08:19:08.574085Z",
     "iopub.status.busy": "2025-03-20T08:19:08.573664Z",
     "iopub.status.idle": "2025-03-20T08:19:08.583097Z",
     "shell.execute_reply": "2025-03-20T08:19:08.581947Z",
     "shell.execute_reply.started": "2025-03-20T08:19:08.574053Z"
    },
    "trusted": true
   },
   "outputs": [
    {
     "data": {
      "application/javascript": "parent.postMessage({\"jupyterEvent\": \"custom.exercise_interaction\", \"data\": {\"outcomeType\": 1, \"valueTowardsCompletion\": 0.2, \"interactionType\": 1, \"questionType\": 2, \"questionId\": \"5.3_OneSauce\", \"learnToolsVersion\": \"0.3.4\", \"failureMessage\": \"\", \"exceptionClass\": \"\", \"trace\": \"\"}}, \"*\")",
      "text/plain": [
       "<IPython.core.display.Javascript object>"
      ]
     },
     "metadata": {},
     "output_type": "display_data"
    },
    {
     "data": {
      "text/markdown": [
       "<span style=\"color:#33cc33\">Correct</span>"
      ],
      "text/plain": [
       "Correct"
      ]
     },
     "metadata": {},
     "output_type": "display_data"
    }
   ],
   "source": [
    "def is_exactly_one_sauce(ketchup: bool, mustard: bool, onion: bool) -> bool:\n",
    "    \"\"\"Return whether a customer wants either ketchup or mustard, not both.\"\"\"\n",
    "    # pylint: disable=unused-argument\n",
    "    return (ketchup or mustard) and not (ketchup and mustard)\n",
    "\n",
    "\n",
    "# Check your answer\n",
    "# q5.c.check()"
   ]
  },
  {
   "cell_type": "code",
   "execution_count": null,
   "metadata": {},
   "outputs": [],
   "source": [
    "# q5.c.hint()\n",
    "# q5.c.solution()"
   ]
  },
  {
   "cell_type": "markdown",
   "metadata": {},
   "source": [
    "# 6. <span title=\"A bit spicy\" style=\"color: darkgreen \">🌶️</span>\n",
    "\n",
    "We’ve seen that calling `bool()` on an integer returns `False` if it’s equal to 0 and `True` otherwise. What happens if we call `int()` on a bool? Try it out in the notebook cell below.\n",
    "\n",
    "Can you take advantage of this to write a succinct function that corresponds to the English sentence \"does the customer want exactly one topping?\"?"
   ]
  },
  {
   "cell_type": "code",
   "execution_count": null,
   "metadata": {
    "execution": {
     "iopub.execute_input": "2025-03-20T08:21:01.807879Z",
     "iopub.status.busy": "2025-03-20T08:21:01.807483Z",
     "iopub.status.idle": "2025-03-20T08:21:01.818580Z",
     "shell.execute_reply": "2025-03-20T08:21:01.817294Z",
     "shell.execute_reply.started": "2025-03-20T08:21:01.807854Z"
    },
    "trusted": true
   },
   "outputs": [
    {
     "data": {
      "application/javascript": "parent.postMessage({\"jupyterEvent\": \"custom.exercise_interaction\", \"data\": {\"outcomeType\": 1, \"valueTowardsCompletion\": 0.2, \"interactionType\": 1, \"questionType\": 2, \"questionId\": \"6_OneTopping\", \"learnToolsVersion\": \"0.3.4\", \"failureMessage\": \"\", \"exceptionClass\": \"\", \"trace\": \"\"}}, \"*\")",
      "text/plain": [
       "<IPython.core.display.Javascript object>"
      ]
     },
     "metadata": {},
     "output_type": "display_data"
    },
    {
     "data": {
      "text/markdown": [
       "<span style=\"color:#33cc33\">Correct:</span> \n",
       "\n",
       "This condition would be pretty complicated to express using just `and`, `or` and `not`, but using boolean-to-integer conversion gives us this short solution:\n",
       "```python\n",
       "return (int(ketchup) + int(mustard) + int(onion)) == 1\n",
       "```\n",
       "\n",
       "Fun fact: we don't technically need to call `int` on the arguments. Just by doing addition with booleans, Python implicitly does the integer conversion. So we could also write...\n",
       "\n",
       "```python\n",
       "return (ketchup + mustard + onion) == 1\n",
       "```"
      ],
      "text/plain": [
       "Correct: \n",
       "\n",
       "This condition would be pretty complicated to express using just `and`, `or` and `not`, but using boolean-to-integer conversion gives us this short solution:\n",
       "```python\n",
       "return (int(ketchup) + int(mustard) + int(onion)) == 1\n",
       "```\n",
       "\n",
       "Fun fact: we don't technically need to call `int` on the arguments. Just by doing addition with booleans, Python implicitly does the integer conversion. So we could also write...\n",
       "\n",
       "```python\n",
       "return (ketchup + mustard + onion) == 1\n",
       "```"
      ]
     },
     "metadata": {},
     "output_type": "display_data"
    }
   ],
   "source": [
    "def is_exactly_one_topping(ketchup: bool, mustard: bool, onion: bool) -> bool:\n",
    "    \"\"\"Return whether the customer wants exactly one of the three toppings.\"\"\"\n",
    "    return len([val for val in [ketchup, mustard, onion] if val is True]) == 1\n",
    "\n",
    "\n",
    "# Check your answer\n",
    "# q6.check()"
   ]
  },
  {
   "cell_type": "code",
   "execution_count": 26,
   "metadata": {
    "execution": {
     "iopub.execute_input": "2025-03-20T08:21:13.028591Z",
     "iopub.status.busy": "2025-03-20T08:21:13.028198Z",
     "iopub.status.idle": "2025-03-20T08:21:13.033459Z",
     "shell.execute_reply": "2025-03-20T08:21:13.032037Z",
     "shell.execute_reply.started": "2025-03-20T08:21:13.028565Z"
    },
    "trusted": true
   },
   "outputs": [],
   "source": [
    "# q6.hint()\n",
    "# q6.solution()"
   ]
  },
  {
   "cell_type": "markdown",
   "metadata": {},
   "source": [
    "# 7. <span title=\"A bit spicy\" style=\"color: darkgreen \">🌶️</span> (Optional)\n",
    "\n",
    "In this problem we'll be working with a simplified version of [blackjack](https://en.wikipedia.org/wiki/Blackjack) (aka twenty-one). In this version there is one player (who you'll control) and a dealer. Play proceeds as follows:\n",
    "\n",
    "- The player is dealt two face-up cards. The dealer is dealt one face-up card.\n",
    "- The player may ask to be dealt another card ('hit') as many times as they wish. If the sum of their cards exceeds 21, they lose the round immediately.\n",
    "- The dealer then deals additional cards to himself until either:\n",
    "    - the sum of the dealer's cards exceeds 21, in which case the player wins the round\n",
    "    - the sum of the dealer's cards is greater than or equal to 17. If the player's total is greater than the dealer's, the player wins. Otherwise, the dealer wins (even in case of a tie).\n",
    "    \n",
    "When calculating the sum of cards, Jack, Queen, and King count for 10. Aces can count as 1 or 11 (when referring to a player's \"total\" above, we mean the largest total that can be made without exceeding 21. So e.g. A+8 = 19, A+8+8 = 17)\n",
    "\n",
    "For this problem, you'll write a function representing the player's decision-making strategy in this game. We've provided a very unintelligent implementation below:"
   ]
  },
  {
   "cell_type": "code",
   "execution_count": null,
   "metadata": {
    "execution": {
     "iopub.execute_input": "2025-03-20T08:22:47.283442Z",
     "iopub.status.busy": "2025-03-20T08:22:47.283116Z",
     "iopub.status.idle": "2025-03-20T08:22:47.289408Z",
     "shell.execute_reply": "2025-03-20T08:22:47.287992Z",
     "shell.execute_reply.started": "2025-03-20T08:22:47.283419Z"
    },
    "trusted": true
   },
   "outputs": [],
   "source": [
    "# fmt:off\n",
    "def is_should_hit(\n",
    "    dealer_total: int,\n",
    "    player_total: int,\n",
    "    player_low_aces: int,\n",
    "    player_high_aces: int\n",
    ") -> bool:\n",
    "    \"\"\"Decides whether the player should hit in a blackjack game.\"\"\"\n",
    "    # pylint: disable=unused-argument\n",
    "    if player_total <= 11:\n",
    "        return True\n",
    "\n",
    "    if player_total == 17 and player_high_aces > 0:\n",
    "        return True\n",
    "\n",
    "    if player_total < 17 and dealer_total >= 7:\n",
    "        return True\n",
    "\n",
    "    if player_total >= 12 and dealer_total <= 6:\n",
    "        return False\n",
    "\n",
    "    return player_total < 17\n",
    "# fmt: on"
   ]
  },
  {
   "cell_type": "markdown",
   "metadata": {},
   "source": [
    "This very conservative agent *always* sticks with the hand of two cards that they're dealt.\n",
    "\n",
    "We'll be simulating games between your player agent and our own dealer agent by calling your function.\n",
    "\n",
    "Try running the function below to see an example of a simulated game:"
   ]
  },
  {
   "cell_type": "code",
   "execution_count": 29,
   "metadata": {
    "execution": {
     "iopub.execute_input": "2025-03-20T08:22:49.125245Z",
     "iopub.status.busy": "2025-03-20T08:22:49.124793Z",
     "iopub.status.idle": "2025-03-20T08:22:49.133653Z",
     "shell.execute_reply": "2025-03-20T08:22:49.132453Z",
     "shell.execute_reply.started": "2025-03-20T08:22:49.125215Z"
    },
    "trusted": true
   },
   "outputs": [
    {
     "name": "stdout",
     "output_type": "stream",
     "text": [
      "Player starts with 8 and 2 (total = 10)\n",
      "Dealer starts with 3\n",
      "\n",
      "__Player's turn__\n",
      "Player hits and receives 6. (total = 16)\n",
      "Player stays\n",
      "\n",
      "__Dealer's turn__\n",
      "Dealer hits and receives J. (total = 13)\n",
      "Dealer hits and receives 3. (total = 16)\n",
      "Dealer hits and receives Q. (total = 26)\n",
      "Dealer busts! Player wins.\n"
     ]
    }
   ],
   "source": [
    "# q7.simulate_one_game()"
   ]
  },
  {
   "cell_type": "markdown",
   "metadata": {},
   "source": [
    "The real test of your agent's mettle is their average win rate over many games. Try calling the function below to simulate 50000 games of blackjack (it may take a couple seconds):"
   ]
  },
  {
   "cell_type": "code",
   "execution_count": 30,
   "metadata": {
    "execution": {
     "iopub.execute_input": "2025-03-20T08:22:51.318577Z",
     "iopub.status.busy": "2025-03-20T08:22:51.318243Z",
     "iopub.status.idle": "2025-03-20T08:22:52.525702Z",
     "shell.execute_reply": "2025-03-20T08:22:52.524453Z",
     "shell.execute_reply.started": "2025-03-20T08:22:51.318552Z"
    },
    "trusted": true
   },
   "outputs": [
    {
     "name": "stdout",
     "output_type": "stream",
     "text": [
      "Player won 21247 out of 50000 games (win rate = 42.5%)\n"
     ]
    }
   ],
   "source": [
    "# q7.simulate(n_games=50000)"
   ]
  },
  {
   "cell_type": "markdown",
   "metadata": {},
   "source": [
    "Our dumb agent that completely ignores the game state still manages to win shockingly often!\n",
    "\n",
    "Try adding some more smarts to the `should_hit` function and see how it affects the results."
   ]
  },
  {
   "cell_type": "code",
   "execution_count": null,
   "metadata": {
    "execution": {
     "iopub.execute_input": "2025-03-20T08:24:33.788663Z",
     "iopub.status.busy": "2025-03-20T08:24:33.788267Z",
     "iopub.status.idle": "2025-03-20T08:24:34.998289Z",
     "shell.execute_reply": "2025-03-20T08:24:34.997095Z",
     "shell.execute_reply.started": "2025-03-20T08:24:33.788636Z"
    },
    "trusted": true
   },
   "outputs": [
    {
     "name": "stdout",
     "output_type": "stream",
     "text": [
      "Player won 21631 out of 50000 games (win rate = 43.3%)\n"
     ]
    }
   ],
   "source": [
    "# fmt: off\n",
    "def is_should_hit_v2(\n",
    "    dealer_total: int,\n",
    "    player_total: int,\n",
    "    player_low_aces: int,\n",
    "    player_high_aces: int\n",
    ") -> bool:\n",
    "    \"\"\"Return whether the player should hit based on strategy.\"\"\"\n",
    "    # pylint: disable=unused-argument,too-many-return-statements\n",
    "    if player_total <= 11:\n",
    "        return True\n",
    "\n",
    "    if player_high_aces > 0:\n",
    "        if player_total <= 16:\n",
    "            return True\n",
    "        if player_total == 17:\n",
    "            return dealer_total >= 7\n",
    "        if player_total == 18:\n",
    "            return dealer_total in [9, 10, 11]\n",
    "        return False\n",
    "\n",
    "    if player_total >= 17:\n",
    "        return False\n",
    "\n",
    "    if player_total < 17 and dealer_total >= 7:\n",
    "        return True\n",
    "\n",
    "    if player_total >= 12 and dealer_total <= 6:\n",
    "        return False\n",
    "\n",
    "    return True\n",
    "\n",
    "# fmt: on\n",
    "# q7.simulate(n_games=50000)"
   ]
  },
  {
   "cell_type": "markdown",
   "metadata": {},
   "source": [
    "# Keep Going\n",
    "\n",
    "Learn about **[lists and tuples](https://www.kaggle.com/colinmorris/lists)** to handle multiple items of data in a systematic way."
   ]
  },
  {
   "cell_type": "markdown",
   "metadata": {},
   "source": [
    "---\n",
    "\n",
    "\n",
    "\n",
    "\n",
    "*Have questions or comments? Visit the [course discussion forum](https://www.kaggle.com/learn/python/discussion) to chat with other learners.*"
   ]
  }
 ],
 "metadata": {
  "kaggle": {
   "accelerator": "none",
   "dataSources": [],
   "isGpuEnabled": false,
   "isInternetEnabled": false,
   "language": "python",
   "sourceType": "notebook"
  },
  "kernelspec": {
   "display_name": "SENATOROV",
   "language": "python",
   "name": "python3"
  },
  "language_info": {
   "codemirror_mode": {
    "name": "ipython",
    "version": 3
   },
   "file_extension": ".py",
   "mimetype": "text/x-python",
   "name": "python",
   "nbconvert_exporter": "python",
   "pygments_lexer": "ipython3",
   "version": "3.11.0"
  },
  "learntools_metadata": {
   "lesson_index": 2,
   "type": "exercise"
  }
 },
 "nbformat": 4,
 "nbformat_minor": 4
}
