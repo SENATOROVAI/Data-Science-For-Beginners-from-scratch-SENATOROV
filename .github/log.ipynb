{
 "cells": [
  {
   "cell_type": "code",
   "execution_count": 1,
   "id": "e97f4fe6",
   "metadata": {},
   "outputs": [
    {
     "data": {
      "text/plain": [
       "'Инструкция.'"
      ]
     },
     "execution_count": 1,
     "metadata": {},
     "output_type": "execute_result"
    }
   ],
   "source": [
    "\"\"\"Инструкция.\"\"\""
   ]
  },
  {
   "cell_type": "markdown",
   "id": "39554614",
   "metadata": {},
   "source": [
    "\n",
    "\n",
    "\n",
    "18.06.2025\n",
    "\n",
    "Intro:\n",
    "-Расскажи о себе\n",
    "-Регистрация аккаунтов\n",
    "-Kaggle\n",
    "-ODS.AI\n",
    "Скачивание и установка программ:\n",
    "-GitHub Desktop\n",
    "-Cursor и VS CODE\n",
    "-Python (CPython)\n",
    "-Git for Windows\n",
    "-Джамборд для учёбы\n",
    "Скачайте репозиторий на свой компьютер.\n",
    "-Поставьте звезду репозиторию\n",
    "-Присоединитесь к команде\n",
    "-Сделайте Fork\n",
    "-Клонируйте репозиторий\n",
    "-Откройте ваш репозиторий в github desktop\n",
    "-Введите команды в терминал\n",
    "\n",
    "Stepik:\n",
    "(Курс Python-разработчик с Нуля до Open Source:Линтеры.Git.Github)\n",
    "-Введение\n",
    "-Введение в Python и Github\n",
    "-Скачиваем и устанавливаем программы\n",
    "-Переменные среды и пакетный менеджер pip\n",
    "-Интерпретатор cpython и pypy\n",
    "-Скачиваем репозиторий\n",
    "-PEP8 и линтеры\n",
    "-Виртуальное окружение и файл зависимостей(8.1 Создаём виртуальное окружение и выгружаем зависимости)\n",
    "Виртуальное окружение и файл зависимостей:\n",
    "8.2 Пакетный менеджер для Data Science\n",
    "8.3 Пакетный менеджер нового поколения\n",
    "Погружаемся в git\n",
    "9.1 Вносим файлы в гитигнор\n",
    "9.2 Коммитим и пушим в гитхаб\n",
    "9.3 STASH,Откаты, конфликты, командная работа в гитхаб\n",
    "\n"
   ]
  },
  {
   "cell_type": "markdown",
   "id": "f687a979",
   "metadata": {},
   "source": []
  }
 ],
 "metadata": {
  "kernelspec": {
   "display_name": "base",
   "language": "python",
   "name": "python3"
  },
  "language_info": {
   "codemirror_mode": {
    "name": "ipython",
    "version": 3
   },
   "file_extension": ".py",
   "mimetype": "text/x-python",
   "name": "python",
   "nbconvert_exporter": "python",
   "pygments_lexer": "ipython3",
   "version": "3.12.7"
  }
 },
 "nbformat": 4,
 "nbformat_minor": 5
}
