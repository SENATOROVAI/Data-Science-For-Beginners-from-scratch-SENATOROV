{
 "cells": [
  {
   "cell_type": "code",
   "execution_count": null,
   "id": "b7a0fa42",
   "metadata": {},
   "outputs": [],
   "source": [
    "\"\"\"Progress log for Intro.\"\"\""
   ]
  },
  {
   "cell_type": "markdown",
   "id": "449f1f41",
   "metadata": {},
   "source": [
    "05/09/2025 - Intro\n",
    "\n",
    "1. Зарегистрировал аккаунты (GitHub, Kaggle, ODS.AI)\n",
    "2. Скачал и настроил VSC и Cursor (плагины, активация\n",
    "русского языка, настройка к работе)\n",
    "3. Установил CPython\n",
    "4. Установил Git for Windows, Conda\n",
    "5. Завел джамборд для учебы\n",
    "6. Клонировал репозиторий, подключил git\n",
    "7. Выполнил остальные пункты из 1-19 Intro\n",
    "\n",
    "Остается до 16/09/2025 - пункт 20+\n",
    "https://t.me/c/1937296927/4496/47525"
   ]
  }
 ],
 "metadata": {
  "kernelspec": {
   "display_name": "Python 3",
   "language": "python",
   "name": "python3"
  },
  "language_info": {
   "name": "python",
   "version": "3.12.11"
  }
 },
 "nbformat": 4,
 "nbformat_minor": 5
}
