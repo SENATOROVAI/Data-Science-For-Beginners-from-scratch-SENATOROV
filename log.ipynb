{
 "cells": [
  {
   "cell_type": "markdown",
   "id": "251211b6",
   "metadata": {},
   "source": [
    "05/08/2025\n",
    "\n",
    "1) разобрался с алгоритмом получения и сдачи дз\n",
    "2) разобрался с гит командой stash"
   ]
  }
 ],
 "metadata": {
  "language_info": {
   "name": "python"
  }
 },
 "nbformat": 4,
 "nbformat_minor": 5
}
