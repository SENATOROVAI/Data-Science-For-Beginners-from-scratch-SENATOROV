"""First commit."""
"""
Выполнил команды.
`git init`
`pip install pre-commit`
`pre-commit install`
`pre-commit run --all-files` - эту команду следует выполнять перед любым commit
"""
