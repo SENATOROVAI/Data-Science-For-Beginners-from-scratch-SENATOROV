{
 "cells": [
  {
   "cell_type": "code",
   "execution_count": 1,
   "id": "f580da3a",
   "metadata": {},
   "outputs": [
    {
     "data": {
      "text/plain": [
       "'09.09.2025.'"
      ]
     },
     "execution_count": 1,
     "metadata": {},
     "output_type": "execute_result"
    }
   ],
   "source": [
    "\"\"\"09.09.2025.\"\"\""
   ]
  },
  {
   "cell_type": "markdown",
   "id": "2f5552b2",
   "metadata": {},
   "source": [
    "Прохожу интро и дошел до шага 7.1\n",
    "Все что по предыдущим пунктам скинул в чат:\n",
    "профиль github,kaggle,ods,canva,терминал установленных extensions\n",
    "Так же отправил запрос в scrum и его уже одобрили"
   ]
  }
 ],
 "metadata": {
  "kernelspec": {
   "display_name": "base",
   "language": "python",
   "name": "python3"
  },
  "language_info": {
   "codemirror_mode": {
    "name": "ipython",
    "version": 3
   },
   "file_extension": ".py",
   "mimetype": "text/x-python",
   "name": "python",
   "nbconvert_exporter": "python",
   "pygments_lexer": "ipython3",
   "version": "3.13.5"
  }
 },
 "nbformat": 4,
 "nbformat_minor": 5
}
