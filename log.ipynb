{
 "cells": [
  {
   "cell_type": "code",
   "execution_count": null,
   "id": "6f84973b",
   "metadata": {},
   "outputs": [
    {
     "data": {
      "text/plain": [
       "'\\nlog.ipynb - ежедневный лог моих шагов по настройке окружения и репозитория.\\n'"
      ]
     },
     "execution_count": 2,
     "metadata": {},
     "output_type": "execute_result"
    }
   ],
   "source": [
    "\"\"\"\n",
    "log.ipynb - ежедневный лог моих шагов по обучению.\n",
    "\n",
    "В этом ноутбуке я записываю даты, какие инструменты\n",
    "я установил, что сделал.\n",
    "\"\"\""
   ]
  },
  {
   "cell_type": "markdown",
   "id": "f5b4d3c2",
   "metadata": {},
   "source": [
    "27/05\n",
    "\n",
    "1. Настроил профиль GitHub по шаблонам Readme\n",
    "2. Создал и настроил профиль Kaggle, посмотрел курс\n",
    "по нему на степике получил статус \"Контрибьютор\"\n",
    "3. Зарегистрировался на ODS.AI\n",
    "4. Поделился ссылками в чате\n",
    "5. Скачал GitHub Desktop\n",
    "6. Прошёл курс по Cursor на Степике, установил Cursor и VScode\n",
    "7. Установил указанные плагины VScode\n",
    "8. Скачан и установлен CPython, Git for Windows, Anaconda\n",
    "9. Создан jamboard для учёбы\n",
    "10. Форкнул и клонировал командный репозиторий\n",
    "11. Инициализировал репозиторий локально, установил\n",
    "pre-commit и запустил его по всем файлам\n",
    "12. Создал файл **log.ipynb**"
   ]
  }
 ],
 "metadata": {
  "kernelspec": {
   "display_name": "dsfb",
   "language": "python",
   "name": "python3"
  },
  "language_info": {
   "codemirror_mode": {
    "name": "ipython",
    "version": 3
   },
   "file_extension": ".py",
   "mimetype": "text/x-python",
   "name": "python",
   "nbconvert_exporter": "python",
   "pygments_lexer": "ipython3",
   "version": "3.12.9"
  }
 },
 "nbformat": 4,
 "nbformat_minor": 5
}
