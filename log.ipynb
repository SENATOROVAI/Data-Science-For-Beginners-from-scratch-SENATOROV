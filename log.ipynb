{
 "cells": [
  {
   "cell_type": "code",
   "execution_count": null,
   "metadata": {
    "vscode": {
     "languageId": "polyglot-notebook"
    }
   },
   "outputs": [],
   "source": [
    "\"\"\"Lessons log.\"\"\""
   ]
  },
  {
   "cell_type": "markdown",
   "metadata": {},
   "source": [
    "#### 04.02.2025\n",
    "Repository initialization, first commit and push"
   ]
  },
  {
   "cell_type": "markdown",
   "metadata": {},
   "source": [
    "#### 26.02.2025\n",
    "- Data processing workflow\n",
    "- Understanding Linear Regression\n",
    "  - One dimensional linear regression\n",
    "  - Best fit line\n",
    "  - Derivative definition\n",
    "  - Norms\n",
    "    - L1 norm, also known as the Manhattan norm\n",
    "    - L2 norm, also known as the Euclidean norm\n",
    "  - Smooth vs. Non-Smooth Functions\n",
    "  - Functional Loss\n",
    "  - Numerical method(iterations) in finding coefficients\n",
    "  - Definition of predictor(feature, independent) and target(dependent) variables\n",
    "  - Hypothesis function\n",
    "    - Liniarity\n",
    "    - Independence"
   ]
  }
 ],
 "metadata": {
  "language_info": {
   "name": "python"
  }
 },
 "nbformat": 4,
 "nbformat_minor": 2
}
