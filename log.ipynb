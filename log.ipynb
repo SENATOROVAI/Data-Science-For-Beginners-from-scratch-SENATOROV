{
 "cells": [
  {
   "cell_type": "code",
   "execution_count": null,
   "id": "aa89390c",
   "metadata": {},
   "outputs": [],
   "source": [
    "\"\"\"First commit.\"\"\""
   ]
  },
  {
   "cell_type": "markdown",
   "id": "2fb76a8e",
   "metadata": {},
   "source": [
    "\"\"\"\n",
    "Выполнил команды.\n",
    "`git init`\n",
    "`pip install pre-commit`\n",
    "`pre-commit install`\n",
    "`pre-commit run --all-files` - эту команду следует выполнять перед любым commit\n",
    "\"\"\""
   ]
  }
 ],
 "metadata": {
  "language_info": {
   "name": "python"
  }
 },
 "nbformat": 4,
 "nbformat_minor": 5
}
