{
 "cells": [
  {
   "cell_type": "code",
   "execution_count": null,
   "id": "6a1bdfe8",
   "metadata": {},
   "outputs": [
    {
     "data": {
      "text/plain": [
       "'Файл с логами по дз'"
      ]
     },
     "execution_count": 2,
     "metadata": {},
     "output_type": "execute_result"
    }
   ],
   "source": [
    "\"\"\"File with howework's logs.\"\"\""
   ]
  },
  {
   "cell_type": "markdown",
   "id": "ca7d286a",
   "metadata": {},
   "source": [
    "24/05/2025\n",
    "\n",
    "1) Регистрация на GitHub, Kaggle, ODS.AI\n",
    "2) Установка программ: GitHubDesctop, VSCode, Cursor и настройка\n",
    "3) Установка Python\n",
    "4) Создание джамбоард для учёбы\n",
    "5) Небольшая практика с Git"
   ]
  }
 ],
 "metadata": {
  "kernelspec": {
   "display_name": "Python 3",
   "language": "python",
   "name": "python3"
  },
  "language_info": {
   "codemirror_mode": {
    "name": "ipython",
    "version": 3
   },
   "file_extension": ".py",
   "mimetype": "text/x-python",
   "name": "python",
   "nbconvert_exporter": "python",
   "pygments_lexer": "ipython3",
   "version": "3.11.3"
  }
 },
 "nbformat": 4,
 "nbformat_minor": 5
}
