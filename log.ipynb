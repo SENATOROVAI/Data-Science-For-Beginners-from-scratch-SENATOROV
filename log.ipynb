{
 "cells": [
  {
   "cell_type": "code",
   "execution_count": null,
   "id": "4a7d4264",
   "metadata": {
    "vscode": {
     "languageId": "plaintext"
    }
   },
   "outputs": [],
   "source": [
    "\"\"\"Логирование файлов.\"\"\""
   ]
  },
  {
   "cell_type": "markdown",
   "id": "1bf3edcd",
   "metadata": {},
   "source": [
    "20 июля вступил в школу.\n",
    "21 июля Написал о себе в meet.\n",
    "27 июля сделал git, kaggle, ODS.\n",
    "30 июля Напарвил домашку по интро шаг 5.1.\n",
    "31 июля сделал лог фаил.\n",
    "    Заполнил его.\n",
    "    Сделал первый коммит.\n",
    "03 августа.\n",
    "Разобрался с системой отчетности.\n",
    "сделал п.7 интро."
   ]
  }
 ],
 "metadata": {
  "language_info": {
   "name": "python"
  }
 },
 "nbformat": 4,
 "nbformat_minor": 5
}
