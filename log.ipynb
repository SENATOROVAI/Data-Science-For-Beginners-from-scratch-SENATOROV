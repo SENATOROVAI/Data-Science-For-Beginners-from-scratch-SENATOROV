{
 "cells": [
  {
   "cell_type": "code",
   "execution_count": null,
   "id": "f137cc55",
   "metadata": {},
   "outputs": [],
   "source": [
    "\"\"\"09.09.2025.\"\"\""
   ]
  },
  {
   "cell_type": "markdown",
   "id": "3ba7322d",
   "metadata": {},
   "source": [
    "\n",
    "прохожу интро, дошел до пункта 7.1, по предыдущим пунктам всё скинул в чат."
   ]
  }
 ],
 "metadata": {
  "language_info": {
   "name": "python"
  }
 },
 "nbformat": 4,
 "nbformat_minor": 5
}
