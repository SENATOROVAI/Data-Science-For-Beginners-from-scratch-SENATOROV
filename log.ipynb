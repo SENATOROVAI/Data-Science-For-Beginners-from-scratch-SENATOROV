{
 "cells": [
  {
   "cell_type": "code",
   "execution_count": null,
   "id": "c2a61223",
   "metadata": {},
   "outputs": [],
   "source": [
    "\"\"\"Документ для логирования знаний полученных на уроках.\"\"\""
   ]
  },
  {
   "cell_type": "markdown",
   "id": "6bb24181",
   "metadata": {},
   "source": [
    "06.09\n",
    "\n",
    "1) Узнал как устанавливать приложения из исходников с github\n",
    "2) Установил cpython из исходников"
   ]
  },
  {
   "cell_type": "markdown",
   "id": "3627f778",
   "metadata": {},
   "source": [
    "08.09\n",
    "\n",
    "1) Понял что не нужно ничего додумывать и строго соблюдать регламент"
   ]
  }
 ],
 "metadata": {
  "kernelspec": {
   "display_name": "base",
   "language": "python",
   "name": "python3"
  },
  "language_info": {
   "name": "python",
   "version": "3.13.5"
  }
 },
 "nbformat": 4,
 "nbformat_minor": 5
}
