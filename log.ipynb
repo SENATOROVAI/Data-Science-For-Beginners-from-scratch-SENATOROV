{
 "cells": [
  {
   "cell_type": "code",
   "execution_count": null,
   "metadata": {},
   "outputs": [],
   "source": [
    "\"\"\"Log file shows main items of the lessons learned in the course.\"\"\""
   ]
  },
  {
   "cell_type": "markdown",
   "metadata": {},
   "source": [
    "05.03.2025\n",
    "Overview of Linear Regression:\n",
    "- что такое линейная регрессия:\n",
    "    - определение и цель \n",
    "    - пример использования\n",
    "- types:\n",
    "    простая и множественная\n",
    "- основн понятия:\n",
    "    - переменние\n",
    "    - уравнение\n",
    "    - гипотеза\n",
    "- шум\n",
    "- оценка параметров модели:\n",
    "    - MSE\n",
    "    -градиентн спуск\n",
    "- оценка качества модели\n",
    "- проверка предположений \n",
    "- пере- и недообучение модели\n",
    "- регуляризация\n",
    "- вид обучения\n",
    "    -с учителем\n",
    "    - без\n",
    "- классификация лин. регрес\n"
   ]
  }
 ],
 "metadata": {
  "kernelspec": {
   "display_name": "base",
   "language": "python",
   "name": "python3"
  },
  "language_info": {
   "name": "python",
   "version": "3.12.7"
  }
 },
 "nbformat": 4,
 "nbformat_minor": 2
}
