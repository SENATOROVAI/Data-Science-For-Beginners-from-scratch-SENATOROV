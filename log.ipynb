{
 "cells": [
  {
   "cell_type": "markdown",
   "id": "2fb76a8e",
   "metadata": {},
   "source": [
    "Выполнил команды\n",
    "\n",
    "`git init`\n",
    "\n",
    "`pip install pre-commit`\n",
    "\n",
    "`pre-commit install`\n",
    "\n",
    "`pre-commit run --all-files` - выполнять перед любым commit\n",
    "\n",
    "![sdf](hello_world.png)"
   ]
  },
  {
   "cell_type": "code",
   "execution_count": null,
   "id": "7f6c3a6f",
   "metadata": {},
   "outputs": [
    {
     "name": "stdout",
     "output_type": "stream",
     "text": [
      "hello world!!!\n"
     ]
    }
   ],
   "source": [
    "\"\"\"Самый простой код в мире hello world.\"\"\"\n",
    "print(\"hello world!!!\")"
   ]
  }
 ],
 "metadata": {
  "kernelspec": {
   "display_name": "selfedu_numpy",
   "language": "python",
   "name": "python3"
  },
  "language_info": {
   "codemirror_mode": {
    "name": "ipython",
    "version": 3
   },
   "file_extension": ".py",
   "mimetype": "text/x-python",
   "name": "python",
   "nbconvert_exporter": "python",
   "pygments_lexer": "ipython3",
   "version": "3.12.9"
  }
 },
 "nbformat": 4,
 "nbformat_minor": 5
}
