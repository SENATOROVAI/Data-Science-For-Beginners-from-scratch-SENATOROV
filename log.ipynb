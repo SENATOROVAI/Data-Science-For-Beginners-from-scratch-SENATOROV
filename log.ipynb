{
 "cells": [
  {
   "cell_type": "code",
   "execution_count": null,
   "id": "76e726de",
   "metadata": {},
   "outputs": [],
   "source": [
    "\"\"\"intro.\"\"\""
   ]
  },
  {
   "cell_type": "markdown",
   "id": "3a52e3c7",
   "metadata": {},
   "source": [
    "18/08/25\n",
    "\n",
    "1. Прошёл intro (за исключением 20 пункта)."
   ]
  },
  {
   "cell_type": "markdown",
   "id": "2c0865d0",
   "metadata": {},
   "source": [
    "20/08/25\n",
    "\n",
    "1. Прошёл 9 модулей по курсу Python-разработчик с нуля.\n",
    "2. Сделал половину quiz1 task6"
   ]
  },
  {
   "cell_type": "markdown",
   "id": "2a774295",
   "metadata": {},
   "source": [
    "29/08/25\n",
    "\n",
    "1. Прошёл 10-12 модулей по курсу Python-разработчик с нуля.\n",
    "2. Сделал quiz1 task6"
   ]
  },
  {
   "cell_type": "markdown",
   "id": "77dea2b7",
   "metadata": {},
   "source": [
    "30/08/25\n",
    "\n",
    "1. Закончил курс Python-разработчик с нуля.\n",
    "2. Сделал quiz2 task6"
   ]
  },
  {
   "cell_type": "markdown",
   "id": "e5e5728e",
   "metadata": {},
   "source": [
    "05/09/25\n",
    "\n",
    "1. Сдал первые два issue (quiz, git)\n",
    "2. Выполнил третий issue - commits"
   ]
  },
  {
   "cell_type": "markdown",
   "id": "afb038dd",
   "metadata": {},
   "source": [
    "08/09/25\n",
    "\n",
    "1. Выполнил четвёртый issue - stash\n",
    "2. Выполнил пятый issue - Issues"
   ]
  }
 ],
 "metadata": {
  "kernelspec": {
   "display_name": "base",
   "language": "python",
   "name": "python3"
  },
  "language_info": {
   "codemirror_mode": {
    "name": "ipython",
    "version": 3
   },
   "file_extension": ".py",
   "mimetype": "text/x-python",
   "name": "python",
   "nbconvert_exporter": "python",
   "pygments_lexer": "ipython3",
   "version": "3.11.7"
  }
 },
 "nbformat": 4,
 "nbformat_minor": 5
}
