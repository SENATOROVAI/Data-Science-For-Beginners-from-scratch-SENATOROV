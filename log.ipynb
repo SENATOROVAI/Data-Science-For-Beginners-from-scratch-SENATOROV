{
 "cells": [
  {
   "cell_type": "code",
   "execution_count": null,
   "id": "9558b37e",
   "metadata": {},
   "outputs": [
    {
     "data": {
      "text/plain": [
       "'\\nЭто мой лог.\\n\\n'"
      ]
     },
     "execution_count": 4,
     "metadata": {},
     "output_type": "execute_result"
    }
   ],
   "source": [
    "\"\"\"Это мой лог.\"\"\""
   ]
  },
  {
   "cell_type": "markdown",
   "id": "9ba03f5a",
   "metadata": {},
   "source": [
    "Расскажи о себе - done\n",
    "Регистрация аккаунтов (GitHub, Kaggle, ODS.AI) - done\n",
    "Скачивание и установка программ (GitHub Desktop, Python, Git for Windows, Conda, Cursor и VS CODE с плагинами и активацией русского, настройкой курсора) - done\n",
    "Джамборд для учёбы - done\n",
    "Скачайте репозиторий на свой компьютер. - done\n",
    "Присоединитесь к команде  -done\n",
    "Отчётность, SCRUM - запрос SENATOROV SCRUM отправлен, https://github.com/SENATOROVAI/scrum/discussions/3 - ошибка 404\n",
    "Fork, clone, скриншот терминала - done\n",
    "Документация по линтерам - in progress\n",
    "штрафы и бонусы, список домашних заданий и дедлайнов, система помощи в комьюнити, программа обучения, анонсы, персональное обращение, система поиска в сообществе, ревью кода - ознакомилась\n",
    "Ознакомиться с отменой занятий - сообщение не найдено\n",
    "Включите отображение активности - done\n",
    "Занятия в группе - опрос пройден\n",
    "20. Обязательно сделайте все задания - https://github.com/SENATOROVAI/intro-cs/issues/6 ошибка 404\n"
   ]
  },
  {
   "cell_type": "code",
   "execution_count": 3,
   "id": "453fe65b",
   "metadata": {},
   "outputs": [
    {
     "data": {
      "text/plain": [
       "2"
      ]
     },
     "execution_count": 3,
     "metadata": {},
     "output_type": "execute_result"
    }
   ],
   "source": [
    "1 + 1"
   ]
  }
 ],
 "metadata": {
  "kernelspec": {
   "display_name": "Python 3",
   "language": "python",
   "name": "python3"
  },
  "language_info": {
   "codemirror_mode": {
    "name": "ipython",
    "version": 3
   },
   "file_extension": ".py",
   "mimetype": "text/x-python",
   "name": "python",
   "nbconvert_exporter": "python",
   "pygments_lexer": "ipython3",
   "version": "3.12.4"
  }
 },
 "nbformat": 4,
 "nbformat_minor": 5
}
