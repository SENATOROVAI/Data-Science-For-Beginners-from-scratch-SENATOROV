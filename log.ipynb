{
 "cells": [
  {
   "cell_type": "markdown",
   "id": "2fb76a8e",
   "metadata": {},
   "source": [
    "Выполнил команды\n",
    "\n",
    "`git init`\n",
    "\n",
    "`pip install pre-commit` - установка pre-commit в наше окружение.\n",
    "\n",
    "`pre-commit install` - установка хука, чтобы линтеры запускались автоматический, при коммите в гитхаб\n",
    "\n",
    "`pre-commit run --all-files` - выполнять перед любым commit\n",
    "\n",
    "![sdf](img/hello_world.png)"
   ]
  },
  {
   "cell_type": "code",
   "execution_count": 3,
   "id": "e57a3209",
   "metadata": {},
   "outputs": [
    {
     "name": "stdout",
     "output_type": "stream",
     "text": [
      "Senatorov 1\n",
      "hello world!!!\n"
     ]
    }
   ],
   "source": [
    "\"\"\"Модуль для проверки линтером mypy.\"\"\"\n",
    "number: int = 1\n",
    "name: str = \"Senatorov\"\n",
    "print(name, str(number))\n",
    "print(\"hello world!!!\")"
   ]
  }
 ],
 "metadata": {
  "kernelspec": {
   "display_name": "senatorov",
   "language": "python",
   "name": "python3"
  },
  "language_info": {
   "codemirror_mode": {
    "name": "ipython",
    "version": 3
   },
   "file_extension": ".py",
   "mimetype": "text/x-python",
   "name": "python",
   "nbconvert_exporter": "python",
   "pygments_lexer": "ipython3",
   "version": "3.13.2"
  }
 },
 "nbformat": 4,
 "nbformat_minor": 5
}
